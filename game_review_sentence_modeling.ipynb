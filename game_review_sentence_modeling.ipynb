{
 "cells": [
  {
   "cell_type": "markdown",
   "metadata": {},
   "source": [
    "# 1. (문장 단위)전처리"
   ]
  },
  {
   "cell_type": "code",
   "execution_count": 3,
   "metadata": {},
   "outputs": [
    {
     "name": "stdout",
     "output_type": "stream",
     "text": [
      "                                            sentence  \\\n",
      "0  Dealing 5 billion damage to a 100 health point...   \n",
      "1                               Welcome to Warframe.   \n",
      "2  Play the same mission 231 times for the peepee...   \n",
      "3  The best part of this game is figuring out wha...   \n",
      "4  I hope you guys from The First Descendant, Des...   \n",
      "\n",
      "                                    cleaned_sentence  \n",
      "0  dealing  billion damage to a  health points en...  \n",
      "1                                welcome to warframe  \n",
      "2  play the same mission  times for the peepeepoo...  \n",
      "3  the best part of this game is figuring out wha...  \n",
      "4  i hope you guys from the first descendant dest...  \n",
      "      title              id  \\\n",
      "0  Warframe       Bowieober   \n",
      "1  Warframe  BamBoozlerC0L3   \n",
      "2  Warframe  BamBoozlerC0L3   \n",
      "3  Warframe     Mumbo Magic   \n",
      "4  Warframe         RushCit   \n",
      "\n",
      "                                         review_text recommendation  \\\n",
      "0  Dealing 5 billion damage to a 100 health point...    Recommended   \n",
      "1  Welcome to Warframe. Play the same mission 231...    Recommended   \n",
      "2  Welcome to Warframe. Play the same mission 231...    Recommended   \n",
      "3  The best part of this game is figuring out wha...    Recommended   \n",
      "4  I hope you guys from The First Descendant, Des...    Recommended   \n",
      "\n",
      "  posted_date  playtime                                           sentence  \\\n",
      "0  2022.11.28       1.0  Dealing 5 billion damage to a 100 health point...   \n",
      "1  2022.05.08       4.0                               Welcome to Warframe.   \n",
      "2  2022.05.08       4.0  Play the same mission 231 times for the peepee...   \n",
      "3  2024.01.13     767.3  The best part of this game is figuring out wha...   \n",
      "4  2024.07.03       2.0  I hope you guys from The First Descendant, Des...   \n",
      "\n",
      "                                    cleaned_sentence  \n",
      "0  dealing  billion damage to a  health points en...  \n",
      "1                                welcome to warframe  \n",
      "2  play the same mission  times for the peepeepoo...  \n",
      "3  the best part of this game is figuring out wha...  \n",
      "4  i hope you guys from the first descendant dest...  \n"
     ]
    }
   ],
   "source": [
    "import pandas as pd\n",
    "from nltk.tokenize import sent_tokenize\n",
    "import nltk\n",
    "import re\n",
    "\n",
    "#nltk.download('punkt')\n",
    "\n",
    "# 문장 단위 토큰화 함수\n",
    "def split_into_sentences(text):\n",
    "    return sent_tokenize(text)\n",
    "\n",
    "def preprocess_sentence(sentence):\n",
    "    sentence = sentence.lower()  # 소문자 변환\n",
    "    sentence = re.sub(r'[^a-zA-Z\\s]', '', sentence)  # 특수문자 제거\n",
    "    return sentence.strip()\n",
    "\n",
    "df = pd.read_csv('Warframe_reviews.csv')\n",
    "\n",
    "# 문장 단위로 분리\n",
    "df['sentences'] = df['review_text'].apply(split_into_sentences)\n",
    "\n",
    "# 문장 단위 데이터 펼치기\n",
    "sentence_df = df.explode('sentences').reset_index(drop=True)\n",
    "sentence_df.rename(columns={'sentences': 'sentence'}, inplace=True)\n",
    "\n",
    "# 전처리 적용\n",
    "sentence_df['cleaned_sentence'] = sentence_df['sentence'].apply(preprocess_sentence)\n",
    "print(sentence_df[['sentence', 'cleaned_sentence']].head())\n",
    "\n",
    "print(sentence_df.head())"
   ]
  },
  {
   "cell_type": "markdown",
   "metadata": {},
   "source": [
    "# 2. 임베딩"
   ]
  },
  {
   "cell_type": "code",
   "execution_count": 4,
   "metadata": {},
   "outputs": [
    {
     "name": "stderr",
     "output_type": "stream",
     "text": [
      "/opt/homebrew/anaconda3/envs/game2/lib/python3.10/site-packages/tqdm/auto.py:21: TqdmWarning: IProgress not found. Please update jupyter and ipywidgets. See https://ipywidgets.readthedocs.io/en/stable/user_install.html\n",
      "  from .autonotebook import tqdm as notebook_tqdm\n"
     ]
    },
    {
     "name": "stdout",
     "output_type": "stream",
     "text": [
      "임베딩 크기: (10692, 1024)\n"
     ]
    }
   ],
   "source": [
    "from transformers import AutoTokenizer, AutoModel\n",
    "import torch\n",
    "import numpy as np\n",
    "\n",
    "# 모델 로드\n",
    "tokenizer = AutoTokenizer.from_pretrained(\"mixedbread-ai/mxbai-embed-large-v1\")\n",
    "model = AutoModel.from_pretrained(\"mixedbread-ai/mxbai-embed-large-v1\")\n",
    "\n",
    "# 임베딩 함수\n",
    "def get_embeddings_in_batches(texts, tokenizer, model, batch_size=16):\n",
    "    all_embeddings = []\n",
    "    for i in range(0, len(texts), batch_size):\n",
    "        batch_texts = texts[i:i+batch_size]\n",
    "        tokens = tokenizer(\n",
    "            batch_texts,\n",
    "            padding=True,\n",
    "            truncation=True,\n",
    "            return_tensors=\"pt\",\n",
    "            max_length=512\n",
    "        )\n",
    "        with torch.no_grad():\n",
    "            outputs = model(**tokens)\n",
    "            embeddings = outputs.last_hidden_state.mean(dim=1)\n",
    "            all_embeddings.append(embeddings.cpu().numpy())\n",
    "    return np.vstack(all_embeddings)\n",
    "\n",
    "# 문장 데이터 임베딩\n",
    "embeddings = get_embeddings_in_batches(sentence_df['cleaned_sentence'].tolist(), tokenizer, model, batch_size=16)\n",
    "\n",
    "# 임베딩 추가\n",
    "sentence_df['embedding'] = list(embeddings)\n",
    "print(\"임베딩 크기:\", embeddings.shape)\n"
   ]
  },
  {
   "cell_type": "markdown",
   "metadata": {},
   "source": [
    "# 3. 감정 분석"
   ]
  },
  {
   "cell_type": "code",
   "execution_count": 5,
   "metadata": {},
   "outputs": [
    {
     "name": "stderr",
     "output_type": "stream",
     "text": [
      "Some weights of the model checkpoint at cardiffnlp/twitter-roberta-base-sentiment-latest were not used when initializing RobertaForSequenceClassification: ['roberta.pooler.dense.bias', 'roberta.pooler.dense.weight']\n",
      "- This IS expected if you are initializing RobertaForSequenceClassification from the checkpoint of a model trained on another task or with another architecture (e.g. initializing a BertForSequenceClassification model from a BertForPreTraining model).\n",
      "- This IS NOT expected if you are initializing RobertaForSequenceClassification from the checkpoint of a model that you expect to be exactly identical (initializing a BertForSequenceClassification model from a BertForSequenceClassification model).\n",
      "Device set to use mps:0\n"
     ]
    },
    {
     "name": "stdout",
     "output_type": "stream",
     "text": [
      "                                    cleaned_sentence sentiment\n",
      "0  dealing  billion damage to a  health points en...   neutral\n",
      "1                                welcome to warframe  positive\n",
      "2  play the same mission  times for the peepeepoo...   neutral\n",
      "3  the best part of this game is figuring out wha...  positive\n",
      "4  i hope you guys from the first descendant dest...   neutral\n"
     ]
    }
   ],
   "source": [
    "from transformers import pipeline\n",
    "\n",
    "# 감정 분석 파이프라인 로드\n",
    "pipe = pipeline(\"text-classification\", model=\"cardiffnlp/twitter-roberta-base-sentiment-latest\")\n",
    "\n",
    "# 감정 분석 수행\n",
    "def analyze_sentiment(texts):\n",
    "    sentiments = []\n",
    "    for text in texts:\n",
    "        # 감정 분석 수행 및 결과 추출\n",
    "        sentiment_result = pipe(text[:512])  # 길이 초과 방지를 위해 512 토큰 제한\n",
    "        sentiments.append(sentiment_result[0]['label'])  # 감정 레이블 추출\n",
    "    return sentiments\n",
    "\n",
    "# 감정 분석 실행: 문장 단위로 감정 분석\n",
    "sentence_df['sentiment'] = analyze_sentiment(sentence_df['cleaned_sentence'].tolist())\n",
    "\n",
    "# 결과 확인\n",
    "print(sentence_df[['cleaned_sentence', 'sentiment']].head())"
   ]
  },
  {
   "cell_type": "code",
   "execution_count": 7,
   "metadata": {},
   "outputs": [
    {
     "name": "stdout",
     "output_type": "stream",
     "text": [
      "긍정 리뷰 개수: 4571\n",
      "부정 리뷰 개수: 1694\n",
      "중립 리뷰 개수: 4427\n"
     ]
    }
   ],
   "source": [
    "# 긍정/부정 리뷰 분리\n",
    "positive_reviews = sentence_df[sentence_df['sentiment'] == 'positive']\n",
    "negative_reviews = sentence_df[sentence_df['sentiment'] == 'negative']\n",
    "neutral_reviews = sentence_df[sentence_df['sentiment'] == 'neutral']\n",
    "\n",
    "print(f\"긍정 리뷰 개수: {len(positive_reviews)}\")\n",
    "print(f\"부정 리뷰 개수: {len(negative_reviews)}\")\n",
    "print(f\"중립 리뷰 개수: {len(neutral_reviews)}\")"
   ]
  },
  {
   "cell_type": "markdown",
   "metadata": {},
   "source": [
    "# 4. 토픽 모델링"
   ]
  },
  {
   "cell_type": "code",
   "execution_count": 8,
   "metadata": {},
   "outputs": [
    {
     "name": "stderr",
     "output_type": "stream",
     "text": [
      "huggingface/tokenizers: The current process just got forked, after parallelism has already been used. Disabling parallelism to avoid deadlocks...\n",
      "To disable this warning, you can either:\n",
      "\t- Avoid using `tokenizers` before the fork if possible\n",
      "\t- Explicitly set the environment variable TOKENIZERS_PARALLELISM=(true | false)\n",
      "OMP: Info #276: omp_set_nested routine deprecated, please use omp_set_max_active_levels instead.\n"
     ]
    },
    {
     "name": "stdout",
     "output_type": "stream",
     "text": [
      "긍정 리뷰 주요 토픽:     Topic  Count                                     Name  \\\n",
      "0      -1   1193                       -1_and_the_to_game   \n",
      "1       0    235                      0_free_play_best_to   \n",
      "2       1    160          1_graphics_design_beautiful_are   \n",
      "3       2    157                         2_uwu_aha_ah_boy   \n",
      "4       3    142              3_grind_grinding_but_grindy   \n",
      "..    ...    ...                                      ...   \n",
      "81     80     11          80_loop_gameplay_core_secondary   \n",
      "82     81     11  81_gear_warframe_activities_challenging   \n",
      "83     82     11             82_fp_warframe_example_hands   \n",
      "84     83     10     83_currency_premium_chat_recruitment   \n",
      "85     84     10                 84_destiny_bungie_buy_im   \n",
      "\n",
      "                                       Representation  \\\n",
      "0   [and, the, to, game, warframe, it, of, this, i...   \n",
      "1   [free, play, best, to, one, game, games, out, ...   \n",
      "2   [graphics, design, beautiful, are, run, pc, ar...   \n",
      "3            [uwu, aha, ah, boy, hey, oh, guys, , , ]   \n",
      "4   [grind, grinding, but, grindy, you, dont, mind...   \n",
      "..                                                ...   \n",
      "81  [loop, gameplay, core, secondary, weapon, sati...   \n",
      "82  [gear, warframe, activities, challenging, endg...   \n",
      "83  [fp, warframe, example, hands, overall, allina...   \n",
      "84  [currency, premium, chat, recruitment, rare, t...   \n",
      "85  [destiny, bungie, buy, im, activision, develop...   \n",
      "\n",
      "                                  Representative_Docs  \n",
      "0   [so come on in and join me in this game and ha...  \n",
      "1   [one of the best free to play games, best free...  \n",
      "2   [good graphics, a great game with good graphic...  \n",
      "3                                     [aha, uwu, uwu]  \n",
      "4   [this game is a great grind, grind fun, grind ...  \n",
      "..                                                ...  \n",
      "81  [youll always be getting stuff and the core ga...  \n",
      "82  [warframe offers a staggering amount of conten...  \n",
      "83  [warframe is one of the best fp games you can ...  \n",
      "84  [you can make real money currency by selling m...  \n",
      "85  [if you dont have the money to buy destiny or ...  \n",
      "\n",
      "[86 rows x 5 columns]\n",
      "부정 리뷰 주요 토픽:     Topic  Count                                   Name  \\\n",
      "0      -1    408                       -1_the_to_and_it   \n",
      "1       0    370                    0_this_game_my_life   \n",
      "2       1    145                 1_warframe_and_to_that   \n",
      "3       2    106                    2_bugs_the_devs_and   \n",
      "4       3     84            3_grind_grindy_grinding_for   \n",
      "5       4     66                    4_player_new_the_to   \n",
      "6       5     43             5_money_items_any_spending   \n",
      "7       6     39       6_review_reviews_people_negative   \n",
      "8       7     35             7_missions_mission_the_you   \n",
      "9       8     33           8_enemies_sent_jays_disciple   \n",
      "10      9     31                    9_free_game_is_this   \n",
      "11     10     26            10_space_ninja_ninjas_three   \n",
      "12     11     26          11_farming_farm_simulator_rng   \n",
      "13     12     24  12_cocaine_heroin_addicting_addiction   \n",
      "14     13     24       13_knows_secrets_false_creatures   \n",
      "15     14     21              14_quest_quests_story_the   \n",
      "16     15     21           15_trespassers_keys_mere_use   \n",
      "17     16     20                16_they_pure_know_place   \n",
      "18     17     20          17_impurity_cleanse_vor_place   \n",
      "19     18     20               18_bound_forever_void_to   \n",
      "20     19     19     19_scavenge_sacred_realm_desecrate   \n",
      "21     20     19              20_resist_lost_tenno_will   \n",
      "22     21     19             21_destroyed_janus_key_cut   \n",
      "23     22     18         22_stalker_his_murderer_scythe   \n",
      "24     23     17           23_received_product_free_for   \n",
      "25     24     14                      24_pay_win_to_not   \n",
      "26     25     13      25_platinum_currency_buy_syandana   \n",
      "27     26     13                   26_pvp_in_hordes_pve   \n",
      "\n",
      "                                       Representation  \\\n",
      "0   [the, to, and, it, is, of, you, game, that, this]   \n",
      "1   [this, game, my, life, you, dont, it, me, no, ...   \n",
      "2   [warframe, and, to, that, the, of, is, you, wa...   \n",
      "3   [bugs, the, devs, and, that, game, community, ...   \n",
      "4   [grind, grindy, grinding, for, you, if, the, i...   \n",
      "5   [player, new, the, to, players, tutorial, be, ...   \n",
      "6   [money, items, any, spending, real, spent, you...   \n",
      "7   [review, reviews, people, negative, aoe, wukon...   \n",
      "8   [missions, mission, the, you, to, repetitive, ...   \n",
      "9   [enemies, sent, jays, disciple, with, your, we...   \n",
      "10  [free, game, is, this, play, how, why, believe...   \n",
      "11  [space, ninja, ninjas, three, up, guns, in, of...   \n",
      "12  [farming, farm, simulator, rng, be, you, owns,...   \n",
      "13  [cocaine, heroin, addicting, addiction, addict...   \n",
      "14  [knows, secrets, false, creatures, prophet, im...   \n",
      "15  [quest, quests, story, the, of, in, were, lore...   \n",
      "16  [trespassers, keys, mere, use, tenno, they, ar...   \n",
      "17  [they, pure, know, place, look, come, when, th...   \n",
      "18  [impurity, cleanse, vor, place, their, will, b...   \n",
      "19  [bound, forever, void, to, the, diet, stubborn...   \n",
      "20  [scavenge, sacred, realm, desecrate, behold, c...   \n",
      "21  [resist, lost, tenno, will, they, are, and, th...   \n",
      "22  [destroyed, janus, key, cut, called, half, thr...   \n",
      "23  [stalker, his, murderer, scythe, hes, you, him...   \n",
      "24  [received, product, free, for, bs, recent, gam...   \n",
      "25  [pay, win, to, not, anyone, game, wrong, is, y...   \n",
      "26  [platinum, currency, buy, syandana, beginners,...   \n",
      "27  [pvp, in, hordes, pve, looking, the, youre, lo...   \n",
      "\n",
      "                                  Representative_Docs  \n",
      "0   [this was horrible for me as it was already ha...  \n",
      "1   [do not play if you have a life, this game is ...  \n",
      "2   [is warframe repetitive, warframe is a game th...  \n",
      "3   [being still only in beta there are a few mino...  \n",
      "4   [if you dont want to grind then this game prob...  \n",
      "5   [this game is pretty hard for new players, it ...  \n",
      "6   [if you are a player that doesnt like spending...  \n",
      "7   [here is a list of a few cons that could be im...  \n",
      "8   [fissure missions bounty missions and infested...  \n",
      "9   [youll be parkouring over obstacles climbing o...  \n",
      "10  [why is this game free, how is this game free,...  \n",
      "11  [its freaking space ninjas, its about them usi...  \n",
      "12  [a game that you can waste all your time to fa...  \n",
      "13  [the main bad guy of the game is named small b...  \n",
      "14  [we cannot blame these creatures they are bein...  \n",
      "15  [the only one real criticism i have found is t...  \n",
      "16  [tenno use the keys but they are mere trespass...  \n",
      "17  [look at them they come to this place when the...  \n",
      "18  [but i vor will cleanse this place of their im...  \n",
      "19  [forever bound to the void, forever bound to t...  \n",
      "20  [behold the tenno come to scavenge and desecra...  \n",
      "21  [the tenno are lost and they will resist, the ...  \n",
      "22  [i was cut in half destroyed but through its j...  \n",
      "23  [hes dodging every swipe he parries to the lef...  \n",
      "24  [product received for free  this game gets ver...  \n",
      "25  [its actualy not pay to win, its pay because y...  \n",
      "26  [original review was all about how to make pla...  \n",
      "27  [pvp the pvp aka conclave really feels unbalan...  \n"
     ]
    }
   ],
   "source": [
    "from bertopic import BERTopic\n",
    "\n",
    "# 긍정 리뷰 토픽 모델링\n",
    "positive_texts = positive_reviews['cleaned_sentence'].tolist()\n",
    "topic_model_positive = BERTopic()\n",
    "topics_positive, probs_positive = topic_model_positive.fit_transform(positive_texts)\n",
    "\n",
    "# 부정 리뷰 토픽 모델링\n",
    "negative_texts = negative_reviews['cleaned_sentence'].tolist()\n",
    "topic_model_negative = BERTopic()\n",
    "topics_negative, probs_negative = topic_model_negative.fit_transform(negative_texts)\n",
    "\n",
    "# 긍정 토픽 확인\n",
    "print(\"긍정 리뷰 주요 토픽:\", topic_model_positive.get_topic_info())\n",
    "\n",
    "# 부정 토픽 확인\n",
    "print(\"부정 리뷰 주요 토픽:\", topic_model_negative.get_topic_info())"
   ]
  },
  {
   "cell_type": "code",
   "execution_count": 9,
   "metadata": {},
   "outputs": [
    {
     "name": "stdout",
     "output_type": "stream",
     "text": [
      "Topic 0: [('free', 0.06703212564338314), ('play', 0.039259058258832344), ('best', 0.03229214443375012), ('to', 0.018307391236725718), ('one', 0.01757597966559067), ('game', 0.016362435723592438), ('games', 0.01630233677741976), ('out', 0.014641467789533107), ('for', 0.013366761814056313), ('its', 0.013298561471544857)]\n",
      "Topic 1: [('graphics', 0.0522282725787824), ('design', 0.023003916202264187), ('beautiful', 0.02020789745245238), ('are', 0.019550635100427198), ('run', 0.01876447620584864), ('pc', 0.0169334824754878), ('art', 0.016840435368206615), ('runs', 0.01601482074921051), ('on', 0.01596790691408905), ('gorgeous', 0.015817535345413056)]\n",
      "Topic 2: [('uwu', 1.4924963788577144), ('aha', 0.8327318425681639), ('ah', 0.7462481894288572), ('boy', 0.5739155973957548), ('hey', 0.5593510460156059), ('oh', 0.5049105981298841), ('guys', 0.4885332445688042), ('', 1e-05), ('', 1e-05), ('', 1e-05)]\n",
      "Topic 3: [('grind', 0.14284566230429005), ('grinding', 0.04423656103636433), ('but', 0.018916730291981584), ('grindy', 0.018794109593633302), ('you', 0.01479743660210277), ('dont', 0.014312768776393162), ('mind', 0.011914082532653643), ('its', 0.010916450839252523), ('for', 0.010706564230916807), ('to', 0.010634749643179422)]\n",
      "Topic 4: [('community', 0.07646380850211726), ('friendly', 0.04282054142198195), ('helpful', 0.04215147297456366), ('help', 0.03977952081793931), ('players', 0.023784289638142175), ('welcoming', 0.021036391046637827), ('willing', 0.01783990266550382), ('new', 0.016113934348189904), ('people', 0.01610672592937315), ('is', 0.015483319586009858)]\n",
      "Topic 5: [('space', 0.06738571939980773), ('ninja', 0.06582734709528269), ('ninjas', 0.041708258213452004), ('like', 0.015302156713683698), ('you', 0.013613479796057534), ('badass', 0.012034691167206877), ('with', 0.01192235908184888), ('as', 0.011180543810264001), ('and', 0.010929894107786714), ('if', 0.009480912530518045)]\n",
      "Topic 6: [('nice', 0.12121325116943292), ('pretty', 0.08908527678805193), ('awesome', 0.07966522845371775), ('cool', 0.07874729952966245), ('good', 0.07784838266658402), ('thank', 0.060459029589721776), ('very', 0.06015150984868313), ('amazing', 0.052263990383641705), ('cheers', 0.05016794550782233), ('great', 0.041771475769855106)]\n",
      "Topic 7: [('hours', 0.10931668506434888), ('played', 0.04361872264328013), ('seems', 0.027151987996681105), ('far', 0.0253614120779615), ('good', 0.025061914110633618), ('after', 0.024825469517293412), ('say', 0.024018578832186884), ('over', 0.02352446630536649), ('pretty', 0.022347610936027783), ('little', 0.021439922114669878)]\n",
      "Topic 8: [('items', 0.024773832325654308), ('without', 0.023681739565652983), ('everything', 0.02257774703303607), ('pay', 0.022526870307378745), ('can', 0.01946146782678763), ('paying', 0.01926502867045945), ('cosmetics', 0.01813255201424903), ('money', 0.018043230145259416), ('you', 0.01798485685986718), ('some', 0.01668809751323752)]\n",
      "Topic 9: [('movement', 0.05219801021743335), ('combat', 0.04477273601097594), ('satisfying', 0.02468967629049234), ('feel', 0.022831145802066185), ('fast', 0.02110670149909296), ('feels', 0.02020064423767555), ('parkour', 0.018577939114764335), ('enemies', 0.017956128211267155), ('fastpaced', 0.01771616133789067), ('fluid', 0.01771616133789067)]\n",
      "Topic 10: [('fp', 0.11909029355365122), ('best', 0.03400483211088157), ('there', 0.025873521964437686), ('out', 0.02569668582304875), ('one', 0.02557426248894746), ('games', 0.023971892900270457), ('ftp', 0.021110254455365143), ('fps', 0.017192852747801614), ('of', 0.016604323955632768), ('probably', 0.014903197676234811)]\n",
      "Topic 11: [('devs', 0.0689735921103108), ('dev', 0.03651508805660676), ('listen', 0.03529660435573291), ('developers', 0.03113067886019138), ('they', 0.028625824835766), ('community', 0.02519125169169499), ('streams', 0.023173775670331475), ('are', 0.021278331327617604), ('the', 0.02008626323886144), ('care', 0.019816605650232577)]\n",
      "Topic 12: [('update', 0.05181795857377821), ('updates', 0.04978640740205848), ('new', 0.03390653989816823), ('keep', 0.029561877951498228), ('content', 0.026095263053078785), ('adding', 0.025931622460524203), ('updating', 0.025931622460524203), ('they', 0.024451552648440282), ('updated', 0.02416881819052288), ('gets', 0.020541811343800623)]\n",
      "Topic 13: [('recommend', 0.10865619848417486), ('try', 0.04610168730971666), ('would', 0.045705760349263366), ('this', 0.03431275610090694), ('definitely', 0.029801348537237756), ('game', 0.027267358490202488), ('highly', 0.023019823357388048), ('give', 0.023019823357388048), ('id', 0.022932082766391255), ('worth', 0.018282304139705347)]\n",
      "Topic 14: [('warframes', 0.043398337469150935), ('weapons', 0.03209864446641132), ('frame', 0.03015810058730907), ('abilities', 0.027343556817435836), ('mods', 0.025748876464709785), ('frames', 0.021471516680231055), ('your', 0.020127944403683862), ('combinations', 0.018297825180879544), ('customization', 0.017355533015061486), ('different', 0.016440639168029788)]\n",
      "Topic 15: [('friends', 0.10516703161822175), ('with', 0.04378188860630475), ('friend', 0.04235791775892068), ('fun', 0.034723668651548696), ('play', 0.032916860246501325), ('especially', 0.018629122412691074), ('to', 0.01639931384668673), ('great', 0.016344613618126617), ('or', 0.015845839633166613), ('even', 0.015474464765625395)]\n",
      "Topic 16: [('love', 0.10705459364216693), ('loved', 0.10153417540211356), ('had', 0.09155901586946753), ('died', 0.09030497739239532), ('wife', 0.08502453294751923), ('it', 0.0756725725178164), ('like', 0.07285349727052998), ('son', 0.07267024953142906), ('spent', 0.06293935541697715), ('my', 0.05790633792355767)]\n",
      "Topic 17: [('received', 0.1448622953868879), ('product', 0.14406711022886615), ('free', 0.06664547643030201), ('for', 0.046245098619778394), ('best', 0.014297226538555296), ('low', 0.01428504417581421), ('play', 0.01299144991792186), ('its', 0.012850489382597918), ('this', 0.012555978290956874), ('homies', 0.012036261119820276)]\n",
      "Topic 18: [('story', 0.07072932802560089), ('lore', 0.0646725158098607), ('universe', 0.02375556540556488), ('also', 0.02284285690041153), ('epic', 0.01993301579950938), ('storylines', 0.019854209506595596), ('storyline', 0.01955830727127514), ('interesting', 0.018409894487497042), ('the', 0.016609533428754257), ('setting', 0.016378090769914526)]\n",
      "Topic 19: [('warframe', 0.061646768363692345), ('games', 0.024106063942622716), ('is', 0.023358085177328815), ('an', 0.018550660564141796), ('good', 0.018435736392683578), ('all', 0.01794366012410459), ('game', 0.01616968329269749), ('enjoyable', 0.014802420807928863), ('one', 0.01437618746336842), ('pride', 0.013845265501697259)]\n",
      "Topic 20: [('worth', 0.10804888744777015), ('regret', 0.06730387979308589), ('wont', 0.05991817204051433), ('it', 0.054204127522787554), ('try', 0.0483978831750785), ('definitely', 0.03476185578090394), ('download', 0.03171311648163701), ('give', 0.030687461912346167), ('recommend', 0.027652862853299), ('trying', 0.02740955053920167)]\n",
      "Topic 21: [('addictive', 0.11138639089121445), ('addicting', 0.11111389221894814), ('addicted', 0.05906368749694066), ('found', 0.028128078533923486), ('very', 0.0276371802007463), ('addiction', 0.023050137125215666), ('hooked', 0.02300124894638324), ('too', 0.01908952454421331), ('highly', 0.018436174029193297), ('this', 0.018034069205544238)]\n",
      "Topic 22: [('shooter', 0.09663649508107677), ('person', 0.0853739742071288), ('third', 0.06343127856368792), ('thirdperson', 0.05710724030348222), ('rd', 0.04752099747104792), ('shooters', 0.036340971102215965), ('scifi', 0.03252122270947545), ('shooting', 0.025156178126755507), ('parkour', 0.020763579010618965), ('action', 0.01836997901586472)]\n",
      "Topic 23: [('this', 0.06094788038742056), ('awesome', 0.06072701756151723), ('amazing', 0.056913811592150754), ('is', 0.05230360648093805), ('game', 0.04521338489122756), ('blast', 0.04049454648971648), ('awesomeness', 0.03757572495845208), ('great', 0.03144835502799689), ('bud', 0.023707668115819612), ('antipay', 0.023707668115819612)]\n",
      "Topic 24: [('coop', 0.14207432577817372), ('op', 0.02919202816735992), ('co', 0.024094358145810815), ('paced', 0.02004737614798515), ('pretty', 0.019469509527599963), ('likes', 0.018920834955729906), ('kill', 0.017801446336734195), ('multiplayer', 0.01748608132051547), ('old', 0.015974583002226702), ('great', 0.015939732617004192)]\n",
      "Topic 25: [('highly', 0.39222960247108735), ('recommended', 0.2590555528356131), ('recommend', 0.24331227303420583), ('would', 0.11060794004521735), ('recomended', 0.08528550736329796), ('reccomend', 0.0722502697142158), ('recomend', 0.06109523027165793), ('yes', 0.056576723523232446), ('it', 0.05604094513319431), ('recomemded', 0.04758467671818079)]\n",
      "Topic 26: [('warframe', 0.10559722286653558), ('thanks', 0.035329021443490434), ('grew', 0.030783611409110886), ('extremes', 0.029726459409767637), ('digital', 0.02856133937909503), ('is', 0.02737594822532415), ('welcome', 0.023552680962326957), ('strong', 0.020030478893577067), ('wonders', 0.019422317027828897), ('quantify', 0.019422317027828897)]\n",
      "Topic 27: [('warframe', 0.04640354416202226), ('free', 0.04598036779883092), ('play', 0.0290695901922823), ('is', 0.018801387782895675), ('to', 0.01706229926502811), ('for', 0.01700338689059309), ('received', 0.016882447958622277), ('product', 0.016789776004115978), ('games', 0.01639393596699417), ('best', 0.01579062105148941)]\n",
      "Topic 28: [('love', 0.21309732912136445), ('this', 0.10153965052686864), ('game', 0.05780821556618529), ('situation', 0.057384666920244756), ('like', 0.054014949921399796), ('absolutely', 0.05324206199472606), ('kinda', 0.0406540516141466), ('proust', 0.03620573228557234), ('nevertheless', 0.03620573228557234), ('muffins', 0.03620573228557234)]\n",
      "Topic 29: [('good', 0.19189626327312959), ('pretty', 0.13767724594517117), ('its', 0.13658234429504074), ('guess', 0.10407389057551689), ('yeah', 0.08014655889646043), ('hey', 0.06392583383035497), ('spretty', 0.04758467671818079), ('uhhh', 0.04758467671818079), ('catalyst', 0.04758467671818079), ('gon', 0.04758467671818079)]\n",
      "Topic 30: [('free', 0.12048687190973824), ('its', 0.08451826213044739), ('give', 0.04912519623005209), ('all', 0.04317756151075224), ('try', 0.04304247040490521), ('plus', 0.034493140509027555), ('it', 0.030269029007126556), ('mac', 0.02741504008454861), ('littttttttttttttttttttttttttttttttttttttttttttttttttttttttttttttttttttt', 0.02741504008454861), ('completely', 0.027405254466502146)]\n",
      "Topic 31: [('weapons', 0.061030323617936935), ('modding', 0.026897271188780224), ('weapon', 0.025672273079218016), ('mods', 0.02034588180344707), ('aim', 0.01877353935670081), ('wield', 0.01877353935670081), ('with', 0.017817699548230207), ('butts', 0.01750250544554182), ('dual', 0.01750250544554182), ('combat', 0.016050603475632887)]\n",
      "Topic 32: [('warframe', 0.04467908812897414), ('playing', 0.029817282994074865), ('again', 0.0281078280782988), ('months', 0.024055595333709955), ('back', 0.022940966022493035), ('now', 0.022622227648794086), ('come', 0.020626930451178496), ('started', 0.01951325097752433), ('im', 0.01813463790681343), ('years', 0.01765570247962601)]\n",
      "Topic 33: [('yes', 1.6973017056969735), ('yesyesyesyesyes', 0.39755690940587846), ('yesyesyesyes', 0.2842850245443265), ('yesyesyeyesyes', 0.15861558906060264), ('sir', 0.13251896980195949), ('hell', 0.09978372790111542), ('yeah', 0.08905173210717825), ('definitely', 0.06439219951796014), ('do', 0.040427903312568736), ('can', 0.02324564212644078)]\n",
      "Topic 34: [('we', 0.09381534268808968), ('hive', 0.0752134693470581), ('honey', 0.0752134693470581), ('peace', 0.07134309941435835), ('bees', 0.07134309941435835), ('our', 0.06934946402510977), ('welcome', 0.054584929527555046), ('know', 0.05402105096129499), ('honex', 0.053783653292169886), ('united', 0.053783653292169886)]\n",
      "Topic 35: [('farming', 0.11918776807971947), ('farm', 0.06449364610616737), ('simulator', 0.044569804463394896), ('day', 0.024877451445449342), ('award', 0.01942816246688983), ('average', 0.01942816246688983), ('upgrade', 0.017827921785357956), ('where', 0.01751709413794673), ('until', 0.017413198704277325), ('lots', 0.016063546808650596)]\n",
      "Topic 36: [('solo', 0.09387048426049804), ('friends', 0.050111905195286625), ('public', 0.02824209717677228), ('or', 0.027909938099054805), ('with', 0.02771030647886922), ('matchmaking', 0.027356686915844974), ('strangers', 0.023050137125215666), ('playing', 0.02148993368942333), ('can', 0.01884781794035739), ('go', 0.01880140743324658)]\n",
      "Topic 37: [('mission', 0.07629791248507026), ('missions', 0.07136905390068614), ('times', 0.02527301570578386), ('variety', 0.02325729913655024), ('helping', 0.018740101139453222), ('do', 0.017326244276815173), ('types', 0.017105781925905502), ('levels', 0.016486876673628872), ('funny', 0.016486876673628872), ('things', 0.01639856305686435)]\n",
      "Topic 38: [('open', 0.060563437564769), ('fortuna', 0.05428710325281444), ('planets', 0.053024246314411196), ('world', 0.04142596192614343), ('plains', 0.031021201858751107), ('explore', 0.025928407268641155), ('areas', 0.02535425708417339), ('eidolon', 0.02387170595753573), ('nd', 0.02069319069473434), ('openworld', 0.019292189711203805)]\n",
      "Topic 39: [('customization', 0.08633469008343087), ('options', 0.03558874547137975), ('playstyle', 0.03514247409522131), ('customize', 0.03432497022073514), ('allows', 0.03229424688836858), ('rebindable', 0.03125646866717727), ('your', 0.030660588774749076), ('color', 0.029140297024514653), ('customise', 0.029140297024514653), ('customizable', 0.026479156439764954)]\n",
      "Topic 40: [('review', 0.10555960367994731), ('reviews', 0.05725824726777653), ('positive', 0.03735079579926685), ('this', 0.027195481363819253), ('awards', 0.02430478922132008), ('case', 0.02430478922132008), ('beer', 0.02430478922132008), ('previous', 0.023054101994159464), ('she', 0.023054101994159464), ('said', 0.022501487752719214)]\n",
      "Topic 41: [('destiny', 0.5783775184821988), ('than', 0.3173998454926187), ('better', 0.2790898473685603), ('then', 0.06030808727815256), ('acc', 0.057429782246080266), ('score', 0.057429782246080266), ('wild', 0.051465392374403944), ('metacritic', 0.051465392374403944), ('higher', 0.045511977212607906), ('like', 0.04283944304111018)]\n",
      "Topic 42: [('digital', 0.1676491118762505), ('extremes', 0.15931524339922343), ('their', 0.04867040447500679), ('feedback', 0.029268166572144698), ('spectacular', 0.026651721051030614), ('engrossing', 0.026651721051030614), ('favourite', 0.026171423816185937), ('into', 0.024832238735164353), ('they', 0.02467766713402854), ('has', 0.023020189511897195)]\n",
      "Topic 43: [('here', 0.48779806648791424), ('reborn', 0.3625677664363686), ('brought', 0.3026545049575202), ('was', 0.18684769092558942), ('me', 0.1738809332312382), ('it', 0.04753473024690589), ('descendant', 0.030459109772606414), ('logged', 0.030459109772606414), ('soooo', 0.02839692210041989), ('bringing', 0.02839692210041989)]\n",
      "Topic 44: [('tenno', 0.2170444068425232), ('next', 0.11493010417215482), ('luck', 0.06694754907103591), ('or', 0.0461896100169661), ('light', 0.03814687230307257), ('fellow', 0.03556419636857699), ('guide', 0.03373411729496816), ('rough', 0.031159544914947906), ('new', 0.02637360500803697), ('up', 0.026236527598871316)]\n",
      "Topic 45: [('good', 0.3919366650406095), ('owo', 0.1281125911643329), ('gamee', 0.1281125911643329), ('game', 0.10795807778813234), ('hunting', 0.1070345525323519), ('fall', 0.08829470729165459), ('back', 0.04705839184101136), ('like', 0.02389122784984991), ('on', 0.02290356939998317), ('play', 0.017702635052992428)]\n",
      "Topic 46: [('fun', 0.21110116399104942), ('bit', 0.08609501405709284), ('dog', 0.06049779056176411), ('played', 0.05662045727733478), ('minutes', 0.05300509542597117), ('game', 0.05138508050327581), ('total', 0.051343347182636584), ('squad', 0.049905704121369986), ('hell', 0.0455534409983353), ('kill', 0.044697109823756506)]\n",
      "Topic 47: [('pros', 0.045411028971731125), ('cons', 0.036523257053573774), ('you', 0.014522691767921805), ('lot', 0.01371961353957189), ('different', 0.013500275300188453), ('tons', 0.012974579706208895), ('new', 0.012875349503700756), ('to', 0.012668634378188293), ('graphics', 0.01151916729687253), ('content', 0.011246120310865245)]\n",
      "Topic 48: [('platinum', 0.14044317266028075), ('currency', 0.053510636453849444), ('premium', 0.046366312271269215), ('earn', 0.03336417122746936), ('items', 0.031140952577349734), ('trading', 0.030346229196766626), ('can', 0.025744666533542935), ('fluctuate', 0.02421900817619009), ('ingame', 0.021627414117138845), ('buy', 0.021375994606920596)]\n",
      "Topic 49: [('freetoplay', 0.21209511868026779), ('best', 0.04245090908783853), ('one', 0.029983021324379276), ('played', 0.027025069102541117), ('freetoplays', 0.0259216137764409), ('managed', 0.0259216137764409), ('egregious', 0.0259216137764409), ('apex', 0.0259216137764409), ('nonpaytowin', 0.0259216137764409), ('integrity', 0.0259216137764409)]\n",
      "Topic 50: [('great', 0.27001907053205104), ('game', 0.12475155655517516), ('good', 0.12351943383097996), ('fine', 0.09138075786190221), ('very', 0.08676399602416111), ('wonderful', 0.08200285941143041), ('looking', 0.06420362885632437), ('nice', 0.045791672664008), ('really', 0.03312829846999803), ('so', 0.026603218062864586)]\n",
      "Topic 51: [('tutorial', 0.07876042756343597), ('guides', 0.06087343836732045), ('tutorials', 0.044117459804979255), ('online', 0.03169628847802321), ('finally', 0.03125492547494279), ('youtube', 0.02941163986998617), ('finished', 0.02817559264621229), ('videos', 0.02817559264621229), ('figuring', 0.02817559264621229), ('easy', 0.023645727598997357)]\n",
      "Topic 52: [('fun', 0.19020867765791463), ('damn', 0.08478627018114637), ('its', 0.08031187866145961), ('guess', 0.07510486948748642), ('happening', 0.06867891485098258), ('oddly', 0.06867891485098258), ('cathartic', 0.06867891485098258), ('half', 0.05442669439858265), ('do', 0.05251459605550166), ('anyway', 0.05027287401226132)]\n",
      "Topic 53: [('content', 0.09659825445964253), ('do', 0.047662370221133676), ('polish', 0.03905822267847227), ('never', 0.03642130200988666), ('much', 0.034795958087035644), ('theres', 0.03383577091416531), ('things', 0.028194020694258002), ('ton', 0.0274264277652662), ('more', 0.02545779569029484), ('pumping', 0.023374928914194074)]\n",
      "Topic 54: [('ever', 0.11808737077549095), ('played', 0.1164040685925095), ('games', 0.10054133293227958), ('best', 0.09142360588470252), ('one', 0.08609649698732373), ('ive', 0.08365596321347894), ('honestly', 0.039710670986031475), ('favorite', 0.037582060412103775), ('loooooove', 0.03721706558963861), ('woooo', 0.03721706558963861)]\n",
      "Topic 55: [('warframe', 0.038805247026352435), ('new', 0.03150739834929608), ('updates', 0.030375121333085644), ('content', 0.02724251026957688), ('developers', 0.025833974721638037), ('universe', 0.0254178505166413), ('update', 0.02529167073575573), ('go', 0.024781498856034933), ('every', 0.02113066371075221), ('fastpaced', 0.020556156666865513)]\n",
      "Topic 56: [('gameplay', 0.08733686403475274), ('immersive', 0.046739520426404974), ('fast', 0.04303124836178714), ('gaming', 0.0393148880938628), ('smooth', 0.038842678177593626), ('paced', 0.03795855647692271), ('welldeveloped', 0.03640357781718749), ('perception', 0.03640357781718749), ('worldbuilding', 0.03640357781718749), ('trippedout', 0.03640357781718749)]\n",
      "Topic 57: [('changed', 0.1068578202172782), ('none', 0.06560271900254729), ('change', 0.06354602610945156), ('these', 0.05507619594846069), ('better', 0.05081187355678721), ('years', 0.050671074380989445), ('still', 0.048587689760814554), ('been', 0.039029371120145075), ('things', 0.036032717030778164), ('month', 0.03451923994074971)]\n",
      "Topic 58: [('okay', 1.3153783392183385), ('its', 0.27541295763197515), ('ight', 0.1850515205707031), ('facts', 0.1850515205707031), ('big', 0.1069137570387109), ('ok', 0.09992534057190128), ('seems', 0.09757745686307272), ('pretty', 0.053541151200899896), ('was', 0.053541151200899896), ('good', 0.025733215381454157)]\n",
      "Topic 59: [('beta', 0.16613936345583855), ('since', 0.05079918224070162), ('closed', 0.040041703105628046), ('been', 0.03130773294889336), ('proud', 0.030150478934149984), ('playing', 0.028601710306067018), ('spin', 0.023963506260954358), ('sixth', 0.023963506260954358), ('returns', 0.023963506260954358), ('madeespecially', 0.023963506260954358)]\n",
      "Topic 60: [('coop', 0.09075185062904459), ('solo', 0.04540141068808402), ('warframe', 0.04049346549379791), ('or', 0.03674707173099954), ('experience', 0.02855950401748578), ('pve', 0.024790779005686995), ('online', 0.024790779005686995), ('with', 0.024688577151796103), ('warframes', 0.02352019701269278), ('pickup', 0.02177076712596507)]\n",
      "Topic 61: [('fun', 0.3789523334083229), ('had', 0.12058992334027432), ('lets', 0.11198353119917168), ('kinda', 0.091223725573207), ('full', 0.091223725573207), ('lot', 0.09101792396984278), ('super', 0.08203888797276312), ('tons', 0.07890232211580693), ('little', 0.067653412770376), ('lots', 0.06556016664993983)]\n",
      "Topic 62: [('content', 0.1128299283647464), ('wait', 0.06621778336129629), ('future', 0.06218015062082148), ('more', 0.059471080096180566), ('weird', 0.05460536672578124), ('bold', 0.05460536672578124), ('data', 0.05460536672578124), ('unknown', 0.05460536672578124), ('coming', 0.05353300222420544), ('tons', 0.05303270830734564)]\n",
      "Topic 63: [('reminded', 0.09672876329288531), ('memories', 0.09402030264503833), ('happy', 0.06959846810614538), ('son', 0.06887906635255879), ('both', 0.0668705761571986), ('me', 0.06646643181535386), ('brought', 0.06393420115502851), ('had', 0.05062307362066123), ('theres', 0.049367891009575664), ('many', 0.04437689158700747)]\n",
      "Topic 64: [('best', 0.22796771775827318), ('ever', 0.18403417360906735), ('everrrrr', 0.099430667769333), ('skateboarding', 0.099430667769333), ('historically', 0.099430667769333), ('oofers', 0.099430667769333), ('everrrr', 0.099430667769333), ('correct', 0.0787968560695898), ('gamer', 0.07548535641783741), ('game', 0.066148704379217)]\n",
      "Topic 65: [('awesome', 0.7110121639494309), ('excited', 0.13983776150390148), ('game', 0.1292655931410532), ('totally', 0.11853091212094094), ('action', 0.08783146216960319), ('cool', 0.07321038003148306), ('me', 0.05071527219244448), ('the', 0.007526194834904272), ('', 1e-05), ('', 1e-05)]\n",
      "Topic 66: [('warframe', 0.05632272927773709), ('community', 0.04901416039377291), ('passionate', 0.041739316174236714), ('people', 0.04039071271519728), ('about', 0.03588837351206652), ('course', 0.03552969051409485), ('strong', 0.031229337547713336), ('vibrant', 0.030281157911569594), ('transparency', 0.030281157911569594), ('vukmirs', 0.030281157911569594)]\n",
      "Topic 67: [('quests', 0.11522869558789758), ('cinematic', 0.0438706702757338), ('interesting', 0.03373141887578434), ('improving', 0.03187234496202188), ('lore', 0.029623957405279334), ('more', 0.028452830477388353), ('quest', 0.02795206613735984), ('unlock', 0.02795206613735984), ('storyline', 0.026876693488794765), ('spewed', 0.02177076712596507)]\n",
      "Topic 68: [('de', 0.1149740066919597), ('fans', 0.029837869498496202), ('their', 0.028586484699840105), ('regularly', 0.026400049369468125), ('continues', 0.024725171515320634), ('care', 0.023830588702295416), ('never', 0.022964759010658625), ('effort', 0.022707346627690812), ('job', 0.022707346627690812), ('else', 0.022377517332567022)]\n",
      "Topic 69: [('experience', 0.21607932435207647), ('an', 0.07284361950461542), ('understood', 0.06560423643330614), ('touching', 0.06560423643330614), ('disappoint', 0.06560423643330614), ('enhances', 0.06560423643330614), ('serious', 0.06116260144705823), ('actually', 0.0587201691411162), ('places', 0.058015267655632065), ('happened', 0.058015267655632065)]\n",
      "Topic 70: [('destiny', 0.15098398395730064), ('anthem', 0.10050187108090565), ('better', 0.07749196825871728), ('than', 0.07616095583333521), ('free', 0.07535597942879133), ('yet', 0.07156583844432528), ('titanfall', 0.06351048420671125), ('version', 0.050250935540452825), ('loot', 0.0392566880161103), ('more', 0.038592934956032075)]\n",
      "Topic 71: [('gud', 1.1934250501251809), ('iz', 0.25299076053101355), ('frends', 0.15140578955784798), ('pog', 0.15140578955784798), ('gudye', 0.15140578955784798), ('gamegud', 0.15140578955784798), ('gam', 0.15140578955784798), ('gamestill', 0.15140578955784798), ('dud', 0.15140578955784798), ('wid', 0.15140578955784798)]\n",
      "Topic 72: [('guess', 0.7624017565415773), ('alright', 0.4410452544035012), ('ok', 0.4182921233242379), ('its', 0.1976385343804207), ('okish', 0.15492685443128631), ('itss', 0.15492685443128631), ('ehh', 0.15492685443128631), ('think', 0.12280219059306267), ('yea', 0.11761671813942107), ('fine', 0.09563102566943253)]\n",
      "Topic 73: [('learn', 0.06824954563407551), ('once', 0.03747821725403996), ('knowing', 0.036859581004518534), ('learning', 0.03665690735279174), ('used', 0.03665690735279174), ('hard', 0.029783129089588134), ('start', 0.029117818732613442), ('controls', 0.026750230364497172), ('works', 0.026301648905577305), ('getting', 0.026075226656314725)]\n",
      "Topic 74: [('good', 0.7940535031991569), ('issa', 0.4264275368164898), ('hope', 0.2538646466607012), ('', 1e-05), ('', 1e-05), ('', 1e-05), ('', 1e-05), ('', 1e-05), ('', 1e-05), ('', 1e-05)]\n",
      "Topic 75: [('clan', 0.1293770447594854), ('rooms', 0.06361658968547304), ('dojo', 0.046004422445182526), ('build', 0.04147258707488374), ('labs', 0.03754707871340162), ('your', 0.03222736414452791), ('dojos', 0.03180829484273652), ('create', 0.03066961496345502), ('including', 0.026897271188780224), ('own', 0.026515158390823603)]\n",
      "Topic 76: [('edit', 0.345946848590131), ('still', 0.0703574988094912), ('ok', 0.0467183410466032), ('personnel', 0.043258797016527996), ('better', 0.042044704278899996), ('term', 0.03614153721871623), ('anymore', 0.03284103168827991), ('fixed', 0.03284103168827991), ('btw', 0.03284103168827991), ('back', 0.03177969319133235)]\n",
      "Topic 77: [('future', 0.09981550494395026), ('its', 0.09318483528901414), ('pplay', 0.08765598342822778), ('gush', 0.08765598342822778), ('dozen', 0.08765598342822778), ('bright', 0.07855244099251128), ('chase', 0.07855244099251128), ('cut', 0.0732341675221355), ('good', 0.07313650687360655), ('potential', 0.06654630105256717)]\n",
      "Topic 78: [('pve', 0.14801909025834575), ('pvp', 0.08177398188969459), ('trip', 0.03249685239290396), ('opponent', 0.03249685239290396), ('honorable', 0.03249685239290396), ('interchangeable', 0.03249685239290396), ('forth', 0.03249685239290396), ('triumph', 0.03249685239290396), ('repititious', 0.03249685239290396), ('blabbering', 0.03249685239290396)]\n",
      "Topic 79: [('freetoplay', 0.15938141959306673), ('example', 0.05939814054188965), ('sets', 0.04515248869619766), ('vast', 0.03807531577579258), ('warframe', 0.03530199555869561), ('without', 0.033000942635470126), ('realworld', 0.03084192009511718), ('promises', 0.03084192009511718), ('respects', 0.03084192009511718), ('sustainable', 0.03084192009511718)]\n",
      "Topic 80: [('loop', 0.2420111778442139), ('gameplay', 0.09401556540211618), ('core', 0.06792168094223987), ('secondary', 0.039187380826737124), ('weapon', 0.03841780159619449), ('satisfying', 0.03612350498972569), ('loose', 0.03511756185547563), ('hilarious', 0.03511756185547563), ('primary', 0.03511756185547563), ('grindy', 0.03375135944323766)]\n",
      "Topic 81: [('gear', 0.05956600647904721), ('warframe', 0.05857370212811507), ('activities', 0.05448568468367986), ('challenging', 0.047783978983419614), ('endgame', 0.046825883484322324), ('loot', 0.04123048797222758), ('grinding', 0.039263667502918286), ('offers', 0.037582060412103775), ('buddy', 0.03721706558963861), ('amassed', 0.03721706558963861)]\n",
      "Topic 82: [('fp', 0.11756349491834799), ('warframe', 0.058248292671847765), ('example', 0.047518512433511725), ('hands', 0.04342517729500482), ('overall', 0.04253409921042715), ('allinall', 0.03701030411414062), ('wensday', 0.03701030411414062), ('enterainment', 0.03701030411414062), ('testament', 0.03701030411414062), ('market', 0.03663411858281398)]\n",
      "Topic 83: [('currency', 0.08471658243978092), ('premium', 0.05662739541635604), ('chat', 0.037896354405551516), ('recruitment', 0.03450858679439802), ('rare', 0.034435395821463925), ('trade', 0.034435395821463925), ('selling', 0.02923421317916246), ('market', 0.028587317969247895), ('mates', 0.0281876808045627), ('opportunity', 0.0281876808045627)]\n",
      "Topic 84: [('destiny', 0.1302063714861125), ('bungie', 0.05477050931587943), ('buy', 0.032227416945602), ('im', 0.03194358236796494), ('activision', 0.030558966699749137), ('developersomg', 0.030558966699749137), ('alternatives', 0.030558966699749137), ('innovation', 0.030558966699749137), ('bother', 0.030558966699749137), ('limiless', 0.030558966699749137)]\n",
      "Topic 85: False\n",
      "Topic 0: [('this', 0.038264175723017185), ('game', 0.03793640057770715), ('my', 0.03147565546654663), ('life', 0.02938063395431526), ('you', 0.027672634813080434), ('dont', 0.024821703731749457), ('it', 0.02453535199945611), ('me', 0.022250918572245204), ('no', 0.021669802899193163), ('play', 0.020574905402277473)]\n",
      "Topic 1: [('warframe', 0.08313780403194279), ('and', 0.028248443790572765), ('to', 0.02715365857704925), ('that', 0.025011136912400693), ('the', 0.024227113823328945), ('of', 0.023341328102231156), ('is', 0.02319137874426547), ('you', 0.0228035229650797), ('warframes', 0.020362142283444937), ('in', 0.01847741321472169)]\n",
      "Topic 2: [('bugs', 0.03532333827005893), ('the', 0.03521721674298288), ('devs', 0.02877915549338925), ('and', 0.024734639906910546), ('that', 0.023782410933773947), ('game', 0.022092361248839665), ('community', 0.02080086149133038), ('to', 0.020358683761002548), ('content', 0.020281879931953045), ('of', 0.019168895876558723)]\n",
      "Topic 3: [('grind', 0.07237640114670066), ('grindy', 0.05637207528554488), ('grinding', 0.05553285635011547), ('for', 0.03333637429851337), ('you', 0.030755494929832428), ('if', 0.02955565573444277), ('the', 0.029016522196113066), ('is', 0.027932519479484254), ('game', 0.026698796733426358), ('so', 0.025257179028333816)]\n",
      "Topic 4: [('player', 0.04323814024655503), ('new', 0.04146948486212859), ('the', 0.03403002218250339), ('to', 0.03136509716929455), ('players', 0.02996844923170308), ('tutorial', 0.027630883859802436), ('be', 0.02736144924562516), ('it', 0.025444204705831308), ('for', 0.024719862934977355), ('is', 0.024332688965170875)]\n",
      "Topic 5: [('money', 0.09477986278079245), ('items', 0.029974137728408873), ('any', 0.0290967586413617), ('spending', 0.028171649859232217), ('real', 0.02815195714220696), ('spent', 0.027351636846659224), ('you', 0.027006032081301316), ('on', 0.025991987037964546), ('cosmetic', 0.025104197801074795), ('pay', 0.023904577279915382)]\n",
      "Topic 6: [('review', 0.097648284315627), ('reviews', 0.06923430134303298), ('people', 0.04595769478936756), ('negative', 0.045485414268611364), ('aoe', 0.041574162430560564), ('wukong', 0.03701612878870626), ('of', 0.031995244783271135), ('game', 0.030237391796071447), ('meta', 0.029612903030965015), ('hours', 0.026034523272620607)]\n",
      "Topic 7: [('missions', 0.08302520648258446), ('mission', 0.05535908040924244), ('the', 0.03447397482339772), ('you', 0.03258009714446416), ('to', 0.029528170296215996), ('repetitive', 0.024193236075153397), ('can', 0.022802041734838123), ('over', 0.021612323950812938), ('are', 0.02151449052411159), ('and', 0.02147621633640727)]\n",
      "Topic 8: [('enemies', 0.06177358917562937), ('sent', 0.05453707910548016), ('jays', 0.05453707910548016), ('disciple', 0.05453707910548016), ('with', 0.041804908505709344), ('your', 0.03362905196437443), ('weapons', 0.032457207270293435), ('and', 0.031583770088470194), ('run', 0.028308065794889516), ('of', 0.027799261180767327)]\n",
      "Topic 9: [('free', 0.16419196817964185), ('game', 0.06353907963108904), ('is', 0.0540770088283536), ('this', 0.050820438998616886), ('play', 0.0429936821083656), ('how', 0.041921477131137475), ('why', 0.0387039298590032), ('believe', 0.03339001421933971), ('it', 0.03110098380258925), ('not', 0.029943164172180535)]\n",
      "Topic 10: [('space', 0.18450994432425122), ('ninja', 0.09079671072934238), ('ninjas', 0.08770445969770235), ('three', 0.039607816910196214), ('up', 0.039311674201463746), ('guns', 0.034048766523503395), ('in', 0.03356272293590292), ('of', 0.03325304310398941), ('zombies', 0.03314763705781277), ('cyborg', 0.03314763705781277)]\n",
      "Topic 11: [('farming', 0.133361154226334), ('farm', 0.12047110234053317), ('simulator', 0.08008137845230928), ('rng', 0.05338758563487285), ('be', 0.04114683514970516), ('you', 0.03489453027494522), ('owns', 0.0335099063152752), ('peasant', 0.0335099063152752), ('can', 0.03296950952479873), ('end', 0.03115866752082481)]\n",
      "Topic 12: [('cocaine', 0.08846227388487429), ('heroin', 0.07378081184248084), ('addicting', 0.06831232906148299), ('addiction', 0.05533560888186063), ('addictive', 0.051234246796112236), ('like', 0.05019807390553232), ('this', 0.04413625922523947), ('crack', 0.0388334436263626), ('kill', 0.03819560019891929), ('addicted', 0.03689040592124042)]\n",
      "Topic 13: [('knows', 0.162115773363142), ('secrets', 0.162115773363142), ('false', 0.162115773363142), ('creatures', 0.162115773363142), ('prophet', 0.162115773363142), ('impostor', 0.162115773363142), ('led', 0.16002752933792377), ('blame', 0.15615342021512954), ('these', 0.1496103180949391), ('cannot', 0.14497618112276237)]\n",
      "Topic 14: [('quest', 0.0790203899458483), ('quests', 0.062014526757563894), ('story', 0.04215951841661693), ('the', 0.041889564277095816), ('of', 0.04140175002456322), ('in', 0.02949692989616171), ('were', 0.027428146358581512), ('lore', 0.027211082826073558), ('that', 0.02678555674533801), ('storyline', 0.025849571845049702)]\n",
      "Topic 15: [('trespassers', 0.4051666532267655), ('keys', 0.38993109698397843), ('mere', 0.38993109698397843), ('use', 0.32518400004071774), ('tenno', 0.27766787074913063), ('they', 0.17301347683746654), ('are', 0.1664542161602318), ('but', 0.15057723124362654), ('the', 0.06401272798786692), ('redemptive', 0.035917756158121504)]\n",
      "Topic 16: [('they', 0.3365791187623069), ('pure', 0.24959925224379237), ('know', 0.19603176934316285), ('place', 0.19517477533737554), ('look', 0.19506818104615375), ('come', 0.19100320251429673), ('when', 0.172593678054135), ('them', 0.16385236145200743), ('at', 0.12523849222318117), ('not', 0.10909326878430964)]\n",
      "Topic 17: [('impurity', 0.40885981286299217), ('cleanse', 0.40885981286299217), ('vor', 0.4033769968799777), ('place', 0.32865637456236224), ('their', 0.3066456834271676), ('will', 0.21394130328371394), ('but', 0.16442341342694852), ('this', 0.11224307302970384), ('of', 0.10606574093513862), ('scratching', 0.039220538333580954)]\n",
      "Topic 18: [('bound', 0.6266749772956797), ('forever', 0.6036268960007781), ('void', 0.48468419486599346), ('to', 0.1195890896996748), ('the', 0.10316336965901769), ('diet', 0.06093190776824184), ('stubbornness', 0.06093190776824184), ('strict', 0.06093190776824184), ('tenacity', 0.06093190776824184), ('stupidity', 0.06093190776824184)]\n",
      "Topic 19: [('scavenge', 0.3544828154399804), ('sacred', 0.3544828154399804), ('realm', 0.3544828154399804), ('desecrate', 0.3544828154399804), ('behold', 0.3544828154399804), ('come', 0.2677700398884639), ('tenno', 0.2391397929896819), ('this', 0.0986378520564064), ('and', 0.07827282152360004), ('to', 0.06764635376951302)]\n",
      "Topic 20: [('resist', 0.48741387122997304), ('lost', 0.4131644512448591), ('tenno', 0.3288172153608126), ('will', 0.25851240813448767), ('they', 0.21626684604683316), ('are', 0.19766438169027525), ('and', 0.10762512959495006), ('the', 0.07601511448559198), ('players', 0.019378094991928305), ('', 1e-05)]\n",
      "Topic 21: [('destroyed', 0.2428041209493537), ('janus', 0.2428041209493537), ('key', 0.23954811418810962), ('cut', 0.2364624494941191), ('called', 0.23073792611633837), ('half', 0.22308022574399794), ('through', 0.1981976456350793), ('void', 0.17552062813900535), ('was', 0.14725023739073637), ('me', 0.12705046679647175)]\n",
      "Topic 22: [('stalker', 0.26351143689385625), ('his', 0.14401135108939397), ('murderer', 0.08811878337462287), ('scythe', 0.06957003564641884), ('hes', 0.06608908753096715), ('you', 0.056014903862412056), ('him', 0.05189129705130431), ('now', 0.05032897708456913), ('he', 0.05017926603797529), ('head', 0.042261329224352905)]\n",
      "Topic 23: [('received', 0.21096853328533557), ('product', 0.21096853328533557), ('free', 0.1457777162577405), ('for', 0.08453904002558338), ('bs', 0.04303377442593236), ('recent', 0.03818480612900324), ('game', 0.03739887932671995), ('this', 0.03426367492485696), ('several', 0.031138872374378467), ('damn', 0.030535807912203974)]\n",
      "Topic 24: [('pay', 0.24142337860387655), ('win', 0.21248986690012137), ('to', 0.0720106346578687), ('not', 0.06874048979312414), ('anyone', 0.05252649554398781), ('game', 0.052095213138392896), ('wrong', 0.04984738876827938), ('is', 0.04965781240797201), ('youre', 0.04811954498654758), ('this', 0.04666737086539658)]\n",
      "Topic 25: [('platinum', 0.24483345726013983), ('currency', 0.10256210520907039), ('buy', 0.07561740632254964), ('syandana', 0.05426825536013594), ('beginners', 0.048153405959141256), ('easily', 0.04618826689564233), ('lots', 0.04102484208362815), ('of', 0.04083061708565071), ('downside', 0.04010197916654684), ('to', 0.03951025972378636)]\n",
      "Topic 26: [('pvp', 0.2203379247020074), ('in', 0.04326901563165184), ('hordes', 0.039915908953926715), ('pve', 0.03791870991904503), ('looking', 0.03510825274065763), ('the', 0.03178332312986424), ('youre', 0.031185489085358366), ('loot', 0.03092187674807618), ('things', 0.02935162605709859), ('open', 0.029263748231582475)]\n",
      "Topic 27: False\n"
     ]
    }
   ],
   "source": [
    "# 긍정 리뷰 토픽 내 주요 단어\n",
    "for topic in range(len(topic_model_positive.get_topic_info())):\n",
    "    print(f\"Topic {topic}: {topic_model_positive.get_topic(topic)}\")\n",
    "\n",
    "# 부정 리뷰 토픽 내 주요 단어\n",
    "for topic in range(len(topic_model_negative.get_topic_info())):\n",
    "    print(f\"Topic {topic}: {topic_model_negative.get_topic(topic)}\")"
   ]
  },
  {
   "cell_type": "code",
   "execution_count": 10,
   "metadata": {},
   "outputs": [
    {
     "data": {
      "application/vnd.plotly.v1+json": {
       "config": {
        "plotlyServerURL": "https://plot.ly"
       },
       "data": [
        {
         "customdata": [
          [
           0,
           "free | play | best | to | one",
           235
          ],
          [
           1,
           "graphics | design | beautiful | are | run",
           160
          ],
          [
           2,
           "uwu | aha | ah | boy | hey",
           157
          ],
          [
           3,
           "grind | grinding | but | grindy | you",
           142
          ],
          [
           4,
           "community | friendly | helpful | help | players",
           127
          ],
          [
           5,
           "space | ninja | ninjas | like | you",
           118
          ],
          [
           6,
           "nice | pretty | awesome | cool | good",
           96
          ],
          [
           7,
           "hours | played | seems | far | good",
           92
          ],
          [
           8,
           "items | without | everything | pay | can",
           91
          ],
          [
           9,
           "movement | combat | satisfying | feel | fast",
           82
          ],
          [
           10,
           "fp | best | there | out | one",
           81
          ],
          [
           11,
           "devs | dev | listen | developers | they",
           75
          ],
          [
           12,
           "update | updates | new | keep | content",
           73
          ],
          [
           13,
           "recommend | try | would | this | definitely",
           72
          ],
          [
           14,
           "warframes | weapons | frame | abilities | mods",
           65
          ],
          [
           15,
           "friends | with | friend | fun | play",
           64
          ],
          [
           16,
           "love | loved | had | died | wife",
           62
          ],
          [
           17,
           "received | product | free | for | best",
           60
          ],
          [
           18,
           "story | lore | universe | also | epic",
           56
          ],
          [
           19,
           "warframe | games | is | an | good",
           55
          ],
          [
           20,
           "worth | regret | wont | it | try",
           46
          ],
          [
           21,
           "addictive | addicting | addicted | found | very",
           46
          ],
          [
           22,
           "shooter | person | third | thirdperson | rd",
           45
          ],
          [
           23,
           "this | awesome | amazing | is | game",
           45
          ],
          [
           24,
           "coop | op | co | paced | pretty",
           45
          ],
          [
           25,
           "highly | recommended | recommend | would | recomended",
           42
          ],
          [
           26,
           "warframe | thanks | grew | extremes | digital",
           40
          ],
          [
           27,
           "warframe | free | play | is | to",
           38
          ],
          [
           28,
           "love | this | game | situation | like",
           36
          ],
          [
           29,
           "good | pretty | its | guess | yeah",
           35
          ],
          [
           30,
           "free | its | give | all | try",
           34
          ],
          [
           31,
           "weapons | modding | weapon | mods | aim",
           33
          ],
          [
           32,
           "warframe | playing | again | months | back",
           30
          ],
          [
           33,
           "yes | yesyesyesyesyes | yesyesyesyes | yesyesyeyesyes | sir",
           29
          ],
          [
           34,
           "we | hive | honey | peace | bees",
           28
          ],
          [
           35,
           "farming | farm | simulator | day | award",
           27
          ],
          [
           36,
           "solo | friends | public | or | with",
           26
          ],
          [
           37,
           "mission | missions | times | variety | helping",
           25
          ],
          [
           38,
           "open | fortuna | planets | world | plains",
           25
          ],
          [
           39,
           "customization | options | playstyle | customize | allows",
           24
          ],
          [
           40,
           "review | reviews | positive | this | awards",
           24
          ],
          [
           41,
           "destiny | than | better | then | acc",
           24
          ],
          [
           42,
           "digital | extremes | their | feedback | spectacular",
           23
          ],
          [
           43,
           "here | reborn | brought | was | me",
           23
          ],
          [
           44,
           "tenno | next | luck | or | light",
           22
          ],
          [
           45,
           "good | owo | gamee | game | hunting",
           22
          ],
          [
           46,
           "fun | bit | dog | played | minutes",
           20
          ],
          [
           47,
           "pros | cons | you | lot | different",
           20
          ],
          [
           48,
           "platinum | currency | premium | earn | items",
           20
          ],
          [
           49,
           "freetoplay | best | one | played | freetoplays",
           20
          ],
          [
           50,
           "great | game | good | fine | very",
           19
          ],
          [
           51,
           "tutorial | guides | tutorials | online | finally",
           19
          ],
          [
           52,
           "fun | damn | its | guess | happening",
           19
          ],
          [
           53,
           "content | do | polish | never | much",
           18
          ],
          [
           54,
           "ever | played | games | best | one",
           18
          ],
          [
           55,
           "warframe | new | updates | content | developers",
           17
          ],
          [
           56,
           "gameplay | immersive | fast | gaming | smooth",
           17
          ],
          [
           57,
           "changed | none | change | these | better",
           17
          ],
          [
           58,
           "okay | its | ight | facts | big",
           16
          ],
          [
           59,
           "beta | since | closed | been | proud",
           16
          ],
          [
           60,
           "coop | solo | warframe | or | experience",
           16
          ],
          [
           61,
           "fun | had | lets | kinda | full",
           16
          ],
          [
           62,
           "content | wait | future | more | weird",
           15
          ],
          [
           63,
           "reminded | memories | happy | son | both",
           15
          ],
          [
           64,
           "best | ever | everrrrr | skateboarding | historically",
           15
          ],
          [
           65,
           "awesome | excited | game | totally | action",
           14
          ],
          [
           66,
           "warframe | community | passionate | people | about",
           14
          ],
          [
           67,
           "quests | cinematic | interesting | improving | lore",
           14
          ],
          [
           68,
           "de | fans | their | regularly | continues",
           14
          ],
          [
           69,
           "experience | an | understood | touching | disappoint",
           13
          ],
          [
           70,
           "destiny | anthem | better | than | free",
           13
          ],
          [
           71,
           "gud | iz | frends | pog | gudye",
           13
          ],
          [
           72,
           "guess | alright | ok | its | okish",
           13
          ],
          [
           73,
           "learn | once | knowing | learning | used",
           13
          ],
          [
           74,
           "good | issa | hope |  | ",
           12
          ],
          [
           75,
           "clan | rooms | dojo | build | labs",
           12
          ],
          [
           76,
           "edit | still | ok | personnel | better",
           12
          ],
          [
           77,
           "future | its | pplay | gush | dozen",
           12
          ],
          [
           78,
           "pve | pvp | trip | opponent | honorable",
           12
          ],
          [
           79,
           "freetoplay | example | sets | vast | warframe",
           11
          ],
          [
           80,
           "loop | gameplay | core | secondary | weapon",
           11
          ],
          [
           81,
           "gear | warframe | activities | challenging | endgame",
           11
          ],
          [
           82,
           "fp | warframe | example | hands | overall",
           11
          ],
          [
           83,
           "currency | premium | chat | recruitment | rare",
           10
          ],
          [
           84,
           "destiny | bungie | buy | im | activision",
           10
          ]
         ],
         "hovertemplate": "<b>Topic %{customdata[0]}</b><br>%{customdata[1]}<br>Size: %{customdata[2]}",
         "legendgroup": "",
         "marker": {
          "color": "#B0BEC5",
          "line": {
           "color": "DarkSlateGrey",
           "width": 2
          },
          "size": [
           235,
           160,
           157,
           142,
           127,
           118,
           96,
           92,
           91,
           82,
           81,
           75,
           73,
           72,
           65,
           64,
           62,
           60,
           56,
           55,
           46,
           46,
           45,
           45,
           45,
           42,
           40,
           38,
           36,
           35,
           34,
           33,
           30,
           29,
           28,
           27,
           26,
           25,
           25,
           24,
           24,
           24,
           23,
           23,
           22,
           22,
           20,
           20,
           20,
           20,
           19,
           19,
           19,
           18,
           18,
           17,
           17,
           17,
           16,
           16,
           16,
           16,
           15,
           15,
           15,
           14,
           14,
           14,
           14,
           13,
           13,
           13,
           13,
           13,
           12,
           12,
           12,
           12,
           12,
           11,
           11,
           11,
           11,
           10,
           10
          ],
          "sizemode": "area",
          "sizeref": 0.146875,
          "symbol": "circle"
         },
         "mode": "markers",
         "name": "",
         "orientation": "v",
         "showlegend": false,
         "type": "scatter",
         "x": [
          2.345170736312866,
          17.438302993774414,
          13.632741928100586,
          4.705781936645508,
          11.249245643615723,
          17.678388595581055,
          14.097009658813477,
          6.713862895965576,
          2.2657904624938965,
          17.658376693725586,
          3.988074541091919,
          11.48768138885498,
          -6.787137031555176,
          7.0248332023620605,
          4.42834997177124,
          -4.478747367858887,
          14.170417785644531,
          2.394998788833618,
          -1.3351850509643555,
          3.8820412158966064,
          7.300947666168213,
          6.854765892028809,
          17.30048370361328,
          6.5065813064575195,
          3.4754462242126465,
          7.326126575469971,
          4.203604698181152,
          8.852306365966797,
          6.388352394104004,
          14.083256721496582,
          2.537748098373413,
          4.349688529968262,
          3.705874443054199,
          13.541107177734375,
          14.337034225463867,
          4.7849602699279785,
          -4.478889465332031,
          -1.564595103263855,
          -1.6407065391540527,
          4.476329803466797,
          7.232410430908203,
          2.309291362762451,
          11.426176071166992,
          17.544010162353516,
          7.3592987060546875,
          -6.235213756561279,
          9.287175178527832,
          17.257699966430664,
          -3.680072784423828,
          8.730741500854492,
          -6.195887088775635,
          10.633899688720703,
          9.141928672790527,
          17.581974029541016,
          -5.385473728179932,
          3.6614084243774414,
          17.136455535888672,
          -6.72634744644165,
          12.879284858703613,
          -7.000596523284912,
          3.401291608810425,
          9.156965255737305,
          17.61895179748535,
          6.5136590003967285,
          -5.385476589202881,
          -6.234251976013184,
          4.101949214935303,
          -1.3878448009490967,
          11.538006782531738,
          17.2402286529541,
          2.289905309677124,
          9.52256965637207,
          12.879294395446777,
          10.633610725402832,
          13.89414119720459,
          11.061995506286621,
          6.690042018890381,
          6.24653434753418,
          3.2563107013702393,
          8.779942512512207,
          17.39289093017578,
          4.491983413696289,
          4.007607460021973,
          -3.6800529956817627,
          2.3043437004089355
         ],
         "xaxis": "x",
         "y": [
          28.416139602661133,
          2.5658764839172363,
          -4.95773983001709,
          7.055819034576416,
          17.980003356933594,
          2.526498794555664,
          -5.449339866638184,
          -6.7329840660095215,
          28.336734771728516,
          2.3927996158599854,
          7.145651340484619,
          18.218460083007812,
          0.8928379416465759,
          -6.453722953796387,
          5.875681400299072,
          9.389745712280273,
          -5.516223907470703,
          28.46590232849121,
          2.202735662460327,
          6.733877658843994,
          -6.788114547729492,
          -6.498084545135498,
          2.252223253250122,
          -5.944775104522705,
          6.7028584480285645,
          -6.889335632324219,
          6.170180320739746,
          11.293351173400879,
          -6.037016868591309,
          -5.445593357086182,
          28.6086483001709,
          5.741081237792969,
          7.243045330047607,
          -4.872752666473389,
          -5.72842264175415,
          7.100373268127441,
          9.39028549194336,
          1.9732319116592407,
          1.8963916301727295,
          5.855864524841309,
          -6.260067939758301,
          -1.4896526336669922,
          18.156898498535156,
          1.941847324371338,
          -6.175945281982422,
          -2.5187158584594727,
          -0.7114760875701904,
          2.292863130569458,
          19.00391960144043,
          11.415154457092285,
          -2.4748053550720215,
          6.298635005950928,
          -0.5669816732406616,
          3.3139235973358154,
          -13.38675594329834,
          7.398287773132324,
          2.262976884841919,
          0.8320625424385071,
          8.720122337341309,
          1.1051257848739624,
          6.6138787269592285,
          -0.5811037421226501,
          3.3827602863311768,
          -5.971818447113037,
          -13.386764526367188,
          -2.517996072769165,
          6.281954765319824,
          2.1504626274108887,
          18.268766403198242,
          2.078868865966797,
          28.36083221435547,
          -0.9484555721282959,
          8.720149040222168,
          6.2987060546875,
          -5.210897922515869,
          17.79259490966797,
          -6.761630535125732,
          -5.635365962982178,
          6.530666828155518,
          11.366186141967773,
          2.5010313987731934,
          6.95571231842041,
          6.927009105682373,
          19.00398063659668,
          -1.4880907535552979
         ],
         "yaxis": "y"
        }
       ],
       "layout": {
        "annotations": [
         {
          "showarrow": false,
          "text": "D1",
          "x": -8.050686001777649,
          "y": 8.752583169937132,
          "yshift": 10
         },
         {
          "showarrow": false,
          "text": "D2",
          "x": 6.139730441570283,
          "xshift": 10,
          "y": 32.89994554519653
         }
        ],
        "height": 650,
        "hoverlabel": {
         "bgcolor": "white",
         "font": {
          "family": "Rockwell",
          "size": 16
         }
        },
        "legend": {
         "itemsizing": "constant",
         "tracegroupgap": 0
        },
        "margin": {
         "t": 60
        },
        "shapes": [
         {
          "line": {
           "color": "#CFD8DC",
           "width": 2
          },
          "type": "line",
          "x0": 6.139730441570283,
          "x1": 6.139730441570283,
          "y0": -15.394779205322266,
          "y1": 32.89994554519653
         },
         {
          "line": {
           "color": "#9E9E9E",
           "width": 2
          },
          "type": "line",
          "x0": -8.050686001777649,
          "x1": 20.330146884918214,
          "y0": 8.752583169937132,
          "y1": 8.752583169937132
         }
        ],
        "sliders": [
         {
          "active": 0,
          "pad": {
           "t": 50
          },
          "steps": [
           {
            "args": [
             {
              "marker.color": [
               [
                "red",
                "#B0BEC5",
                "#B0BEC5",
                "#B0BEC5",
                "#B0BEC5",
                "#B0BEC5",
                "#B0BEC5",
                "#B0BEC5",
                "#B0BEC5",
                "#B0BEC5",
                "#B0BEC5",
                "#B0BEC5",
                "#B0BEC5",
                "#B0BEC5",
                "#B0BEC5",
                "#B0BEC5",
                "#B0BEC5",
                "#B0BEC5",
                "#B0BEC5",
                "#B0BEC5",
                "#B0BEC5",
                "#B0BEC5",
                "#B0BEC5",
                "#B0BEC5",
                "#B0BEC5",
                "#B0BEC5",
                "#B0BEC5",
                "#B0BEC5",
                "#B0BEC5",
                "#B0BEC5",
                "#B0BEC5",
                "#B0BEC5",
                "#B0BEC5",
                "#B0BEC5",
                "#B0BEC5",
                "#B0BEC5",
                "#B0BEC5",
                "#B0BEC5",
                "#B0BEC5",
                "#B0BEC5",
                "#B0BEC5",
                "#B0BEC5",
                "#B0BEC5",
                "#B0BEC5",
                "#B0BEC5",
                "#B0BEC5",
                "#B0BEC5",
                "#B0BEC5",
                "#B0BEC5",
                "#B0BEC5",
                "#B0BEC5",
                "#B0BEC5",
                "#B0BEC5",
                "#B0BEC5",
                "#B0BEC5",
                "#B0BEC5",
                "#B0BEC5",
                "#B0BEC5",
                "#B0BEC5",
                "#B0BEC5",
                "#B0BEC5",
                "#B0BEC5",
                "#B0BEC5",
                "#B0BEC5",
                "#B0BEC5",
                "#B0BEC5",
                "#B0BEC5",
                "#B0BEC5",
                "#B0BEC5",
                "#B0BEC5",
                "#B0BEC5",
                "#B0BEC5",
                "#B0BEC5",
                "#B0BEC5",
                "#B0BEC5",
                "#B0BEC5",
                "#B0BEC5",
                "#B0BEC5",
                "#B0BEC5",
                "#B0BEC5",
                "#B0BEC5",
                "#B0BEC5",
                "#B0BEC5",
                "#B0BEC5",
                "#B0BEC5"
               ]
              ]
             }
            ],
            "label": "Topic 0",
            "method": "update"
           },
           {
            "args": [
             {
              "marker.color": [
               [
                "#B0BEC5",
                "red",
                "#B0BEC5",
                "#B0BEC5",
                "#B0BEC5",
                "#B0BEC5",
                "#B0BEC5",
                "#B0BEC5",
                "#B0BEC5",
                "#B0BEC5",
                "#B0BEC5",
                "#B0BEC5",
                "#B0BEC5",
                "#B0BEC5",
                "#B0BEC5",
                "#B0BEC5",
                "#B0BEC5",
                "#B0BEC5",
                "#B0BEC5",
                "#B0BEC5",
                "#B0BEC5",
                "#B0BEC5",
                "#B0BEC5",
                "#B0BEC5",
                "#B0BEC5",
                "#B0BEC5",
                "#B0BEC5",
                "#B0BEC5",
                "#B0BEC5",
                "#B0BEC5",
                "#B0BEC5",
                "#B0BEC5",
                "#B0BEC5",
                "#B0BEC5",
                "#B0BEC5",
                "#B0BEC5",
                "#B0BEC5",
                "#B0BEC5",
                "#B0BEC5",
                "#B0BEC5",
                "#B0BEC5",
                "#B0BEC5",
                "#B0BEC5",
                "#B0BEC5",
                "#B0BEC5",
                "#B0BEC5",
                "#B0BEC5",
                "#B0BEC5",
                "#B0BEC5",
                "#B0BEC5",
                "#B0BEC5",
                "#B0BEC5",
                "#B0BEC5",
                "#B0BEC5",
                "#B0BEC5",
                "#B0BEC5",
                "#B0BEC5",
                "#B0BEC5",
                "#B0BEC5",
                "#B0BEC5",
                "#B0BEC5",
                "#B0BEC5",
                "#B0BEC5",
                "#B0BEC5",
                "#B0BEC5",
                "#B0BEC5",
                "#B0BEC5",
                "#B0BEC5",
                "#B0BEC5",
                "#B0BEC5",
                "#B0BEC5",
                "#B0BEC5",
                "#B0BEC5",
                "#B0BEC5",
                "#B0BEC5",
                "#B0BEC5",
                "#B0BEC5",
                "#B0BEC5",
                "#B0BEC5",
                "#B0BEC5",
                "#B0BEC5",
                "#B0BEC5",
                "#B0BEC5",
                "#B0BEC5",
                "#B0BEC5"
               ]
              ]
             }
            ],
            "label": "Topic 1",
            "method": "update"
           },
           {
            "args": [
             {
              "marker.color": [
               [
                "#B0BEC5",
                "#B0BEC5",
                "red",
                "#B0BEC5",
                "#B0BEC5",
                "#B0BEC5",
                "#B0BEC5",
                "#B0BEC5",
                "#B0BEC5",
                "#B0BEC5",
                "#B0BEC5",
                "#B0BEC5",
                "#B0BEC5",
                "#B0BEC5",
                "#B0BEC5",
                "#B0BEC5",
                "#B0BEC5",
                "#B0BEC5",
                "#B0BEC5",
                "#B0BEC5",
                "#B0BEC5",
                "#B0BEC5",
                "#B0BEC5",
                "#B0BEC5",
                "#B0BEC5",
                "#B0BEC5",
                "#B0BEC5",
                "#B0BEC5",
                "#B0BEC5",
                "#B0BEC5",
                "#B0BEC5",
                "#B0BEC5",
                "#B0BEC5",
                "#B0BEC5",
                "#B0BEC5",
                "#B0BEC5",
                "#B0BEC5",
                "#B0BEC5",
                "#B0BEC5",
                "#B0BEC5",
                "#B0BEC5",
                "#B0BEC5",
                "#B0BEC5",
                "#B0BEC5",
                "#B0BEC5",
                "#B0BEC5",
                "#B0BEC5",
                "#B0BEC5",
                "#B0BEC5",
                "#B0BEC5",
                "#B0BEC5",
                "#B0BEC5",
                "#B0BEC5",
                "#B0BEC5",
                "#B0BEC5",
                "#B0BEC5",
                "#B0BEC5",
                "#B0BEC5",
                "#B0BEC5",
                "#B0BEC5",
                "#B0BEC5",
                "#B0BEC5",
                "#B0BEC5",
                "#B0BEC5",
                "#B0BEC5",
                "#B0BEC5",
                "#B0BEC5",
                "#B0BEC5",
                "#B0BEC5",
                "#B0BEC5",
                "#B0BEC5",
                "#B0BEC5",
                "#B0BEC5",
                "#B0BEC5",
                "#B0BEC5",
                "#B0BEC5",
                "#B0BEC5",
                "#B0BEC5",
                "#B0BEC5",
                "#B0BEC5",
                "#B0BEC5",
                "#B0BEC5",
                "#B0BEC5",
                "#B0BEC5",
                "#B0BEC5"
               ]
              ]
             }
            ],
            "label": "Topic 2",
            "method": "update"
           },
           {
            "args": [
             {
              "marker.color": [
               [
                "#B0BEC5",
                "#B0BEC5",
                "#B0BEC5",
                "red",
                "#B0BEC5",
                "#B0BEC5",
                "#B0BEC5",
                "#B0BEC5",
                "#B0BEC5",
                "#B0BEC5",
                "#B0BEC5",
                "#B0BEC5",
                "#B0BEC5",
                "#B0BEC5",
                "#B0BEC5",
                "#B0BEC5",
                "#B0BEC5",
                "#B0BEC5",
                "#B0BEC5",
                "#B0BEC5",
                "#B0BEC5",
                "#B0BEC5",
                "#B0BEC5",
                "#B0BEC5",
                "#B0BEC5",
                "#B0BEC5",
                "#B0BEC5",
                "#B0BEC5",
                "#B0BEC5",
                "#B0BEC5",
                "#B0BEC5",
                "#B0BEC5",
                "#B0BEC5",
                "#B0BEC5",
                "#B0BEC5",
                "#B0BEC5",
                "#B0BEC5",
                "#B0BEC5",
                "#B0BEC5",
                "#B0BEC5",
                "#B0BEC5",
                "#B0BEC5",
                "#B0BEC5",
                "#B0BEC5",
                "#B0BEC5",
                "#B0BEC5",
                "#B0BEC5",
                "#B0BEC5",
                "#B0BEC5",
                "#B0BEC5",
                "#B0BEC5",
                "#B0BEC5",
                "#B0BEC5",
                "#B0BEC5",
                "#B0BEC5",
                "#B0BEC5",
                "#B0BEC5",
                "#B0BEC5",
                "#B0BEC5",
                "#B0BEC5",
                "#B0BEC5",
                "#B0BEC5",
                "#B0BEC5",
                "#B0BEC5",
                "#B0BEC5",
                "#B0BEC5",
                "#B0BEC5",
                "#B0BEC5",
                "#B0BEC5",
                "#B0BEC5",
                "#B0BEC5",
                "#B0BEC5",
                "#B0BEC5",
                "#B0BEC5",
                "#B0BEC5",
                "#B0BEC5",
                "#B0BEC5",
                "#B0BEC5",
                "#B0BEC5",
                "#B0BEC5",
                "#B0BEC5",
                "#B0BEC5",
                "#B0BEC5",
                "#B0BEC5",
                "#B0BEC5"
               ]
              ]
             }
            ],
            "label": "Topic 3",
            "method": "update"
           },
           {
            "args": [
             {
              "marker.color": [
               [
                "#B0BEC5",
                "#B0BEC5",
                "#B0BEC5",
                "#B0BEC5",
                "red",
                "#B0BEC5",
                "#B0BEC5",
                "#B0BEC5",
                "#B0BEC5",
                "#B0BEC5",
                "#B0BEC5",
                "#B0BEC5",
                "#B0BEC5",
                "#B0BEC5",
                "#B0BEC5",
                "#B0BEC5",
                "#B0BEC5",
                "#B0BEC5",
                "#B0BEC5",
                "#B0BEC5",
                "#B0BEC5",
                "#B0BEC5",
                "#B0BEC5",
                "#B0BEC5",
                "#B0BEC5",
                "#B0BEC5",
                "#B0BEC5",
                "#B0BEC5",
                "#B0BEC5",
                "#B0BEC5",
                "#B0BEC5",
                "#B0BEC5",
                "#B0BEC5",
                "#B0BEC5",
                "#B0BEC5",
                "#B0BEC5",
                "#B0BEC5",
                "#B0BEC5",
                "#B0BEC5",
                "#B0BEC5",
                "#B0BEC5",
                "#B0BEC5",
                "#B0BEC5",
                "#B0BEC5",
                "#B0BEC5",
                "#B0BEC5",
                "#B0BEC5",
                "#B0BEC5",
                "#B0BEC5",
                "#B0BEC5",
                "#B0BEC5",
                "#B0BEC5",
                "#B0BEC5",
                "#B0BEC5",
                "#B0BEC5",
                "#B0BEC5",
                "#B0BEC5",
                "#B0BEC5",
                "#B0BEC5",
                "#B0BEC5",
                "#B0BEC5",
                "#B0BEC5",
                "#B0BEC5",
                "#B0BEC5",
                "#B0BEC5",
                "#B0BEC5",
                "#B0BEC5",
                "#B0BEC5",
                "#B0BEC5",
                "#B0BEC5",
                "#B0BEC5",
                "#B0BEC5",
                "#B0BEC5",
                "#B0BEC5",
                "#B0BEC5",
                "#B0BEC5",
                "#B0BEC5",
                "#B0BEC5",
                "#B0BEC5",
                "#B0BEC5",
                "#B0BEC5",
                "#B0BEC5",
                "#B0BEC5",
                "#B0BEC5",
                "#B0BEC5"
               ]
              ]
             }
            ],
            "label": "Topic 4",
            "method": "update"
           },
           {
            "args": [
             {
              "marker.color": [
               [
                "#B0BEC5",
                "#B0BEC5",
                "#B0BEC5",
                "#B0BEC5",
                "#B0BEC5",
                "red",
                "#B0BEC5",
                "#B0BEC5",
                "#B0BEC5",
                "#B0BEC5",
                "#B0BEC5",
                "#B0BEC5",
                "#B0BEC5",
                "#B0BEC5",
                "#B0BEC5",
                "#B0BEC5",
                "#B0BEC5",
                "#B0BEC5",
                "#B0BEC5",
                "#B0BEC5",
                "#B0BEC5",
                "#B0BEC5",
                "#B0BEC5",
                "#B0BEC5",
                "#B0BEC5",
                "#B0BEC5",
                "#B0BEC5",
                "#B0BEC5",
                "#B0BEC5",
                "#B0BEC5",
                "#B0BEC5",
                "#B0BEC5",
                "#B0BEC5",
                "#B0BEC5",
                "#B0BEC5",
                "#B0BEC5",
                "#B0BEC5",
                "#B0BEC5",
                "#B0BEC5",
                "#B0BEC5",
                "#B0BEC5",
                "#B0BEC5",
                "#B0BEC5",
                "#B0BEC5",
                "#B0BEC5",
                "#B0BEC5",
                "#B0BEC5",
                "#B0BEC5",
                "#B0BEC5",
                "#B0BEC5",
                "#B0BEC5",
                "#B0BEC5",
                "#B0BEC5",
                "#B0BEC5",
                "#B0BEC5",
                "#B0BEC5",
                "#B0BEC5",
                "#B0BEC5",
                "#B0BEC5",
                "#B0BEC5",
                "#B0BEC5",
                "#B0BEC5",
                "#B0BEC5",
                "#B0BEC5",
                "#B0BEC5",
                "#B0BEC5",
                "#B0BEC5",
                "#B0BEC5",
                "#B0BEC5",
                "#B0BEC5",
                "#B0BEC5",
                "#B0BEC5",
                "#B0BEC5",
                "#B0BEC5",
                "#B0BEC5",
                "#B0BEC5",
                "#B0BEC5",
                "#B0BEC5",
                "#B0BEC5",
                "#B0BEC5",
                "#B0BEC5",
                "#B0BEC5",
                "#B0BEC5",
                "#B0BEC5",
                "#B0BEC5"
               ]
              ]
             }
            ],
            "label": "Topic 5",
            "method": "update"
           },
           {
            "args": [
             {
              "marker.color": [
               [
                "#B0BEC5",
                "#B0BEC5",
                "#B0BEC5",
                "#B0BEC5",
                "#B0BEC5",
                "#B0BEC5",
                "red",
                "#B0BEC5",
                "#B0BEC5",
                "#B0BEC5",
                "#B0BEC5",
                "#B0BEC5",
                "#B0BEC5",
                "#B0BEC5",
                "#B0BEC5",
                "#B0BEC5",
                "#B0BEC5",
                "#B0BEC5",
                "#B0BEC5",
                "#B0BEC5",
                "#B0BEC5",
                "#B0BEC5",
                "#B0BEC5",
                "#B0BEC5",
                "#B0BEC5",
                "#B0BEC5",
                "#B0BEC5",
                "#B0BEC5",
                "#B0BEC5",
                "#B0BEC5",
                "#B0BEC5",
                "#B0BEC5",
                "#B0BEC5",
                "#B0BEC5",
                "#B0BEC5",
                "#B0BEC5",
                "#B0BEC5",
                "#B0BEC5",
                "#B0BEC5",
                "#B0BEC5",
                "#B0BEC5",
                "#B0BEC5",
                "#B0BEC5",
                "#B0BEC5",
                "#B0BEC5",
                "#B0BEC5",
                "#B0BEC5",
                "#B0BEC5",
                "#B0BEC5",
                "#B0BEC5",
                "#B0BEC5",
                "#B0BEC5",
                "#B0BEC5",
                "#B0BEC5",
                "#B0BEC5",
                "#B0BEC5",
                "#B0BEC5",
                "#B0BEC5",
                "#B0BEC5",
                "#B0BEC5",
                "#B0BEC5",
                "#B0BEC5",
                "#B0BEC5",
                "#B0BEC5",
                "#B0BEC5",
                "#B0BEC5",
                "#B0BEC5",
                "#B0BEC5",
                "#B0BEC5",
                "#B0BEC5",
                "#B0BEC5",
                "#B0BEC5",
                "#B0BEC5",
                "#B0BEC5",
                "#B0BEC5",
                "#B0BEC5",
                "#B0BEC5",
                "#B0BEC5",
                "#B0BEC5",
                "#B0BEC5",
                "#B0BEC5",
                "#B0BEC5",
                "#B0BEC5",
                "#B0BEC5",
                "#B0BEC5"
               ]
              ]
             }
            ],
            "label": "Topic 6",
            "method": "update"
           },
           {
            "args": [
             {
              "marker.color": [
               [
                "#B0BEC5",
                "#B0BEC5",
                "#B0BEC5",
                "#B0BEC5",
                "#B0BEC5",
                "#B0BEC5",
                "#B0BEC5",
                "red",
                "#B0BEC5",
                "#B0BEC5",
                "#B0BEC5",
                "#B0BEC5",
                "#B0BEC5",
                "#B0BEC5",
                "#B0BEC5",
                "#B0BEC5",
                "#B0BEC5",
                "#B0BEC5",
                "#B0BEC5",
                "#B0BEC5",
                "#B0BEC5",
                "#B0BEC5",
                "#B0BEC5",
                "#B0BEC5",
                "#B0BEC5",
                "#B0BEC5",
                "#B0BEC5",
                "#B0BEC5",
                "#B0BEC5",
                "#B0BEC5",
                "#B0BEC5",
                "#B0BEC5",
                "#B0BEC5",
                "#B0BEC5",
                "#B0BEC5",
                "#B0BEC5",
                "#B0BEC5",
                "#B0BEC5",
                "#B0BEC5",
                "#B0BEC5",
                "#B0BEC5",
                "#B0BEC5",
                "#B0BEC5",
                "#B0BEC5",
                "#B0BEC5",
                "#B0BEC5",
                "#B0BEC5",
                "#B0BEC5",
                "#B0BEC5",
                "#B0BEC5",
                "#B0BEC5",
                "#B0BEC5",
                "#B0BEC5",
                "#B0BEC5",
                "#B0BEC5",
                "#B0BEC5",
                "#B0BEC5",
                "#B0BEC5",
                "#B0BEC5",
                "#B0BEC5",
                "#B0BEC5",
                "#B0BEC5",
                "#B0BEC5",
                "#B0BEC5",
                "#B0BEC5",
                "#B0BEC5",
                "#B0BEC5",
                "#B0BEC5",
                "#B0BEC5",
                "#B0BEC5",
                "#B0BEC5",
                "#B0BEC5",
                "#B0BEC5",
                "#B0BEC5",
                "#B0BEC5",
                "#B0BEC5",
                "#B0BEC5",
                "#B0BEC5",
                "#B0BEC5",
                "#B0BEC5",
                "#B0BEC5",
                "#B0BEC5",
                "#B0BEC5",
                "#B0BEC5",
                "#B0BEC5"
               ]
              ]
             }
            ],
            "label": "Topic 7",
            "method": "update"
           },
           {
            "args": [
             {
              "marker.color": [
               [
                "#B0BEC5",
                "#B0BEC5",
                "#B0BEC5",
                "#B0BEC5",
                "#B0BEC5",
                "#B0BEC5",
                "#B0BEC5",
                "#B0BEC5",
                "red",
                "#B0BEC5",
                "#B0BEC5",
                "#B0BEC5",
                "#B0BEC5",
                "#B0BEC5",
                "#B0BEC5",
                "#B0BEC5",
                "#B0BEC5",
                "#B0BEC5",
                "#B0BEC5",
                "#B0BEC5",
                "#B0BEC5",
                "#B0BEC5",
                "#B0BEC5",
                "#B0BEC5",
                "#B0BEC5",
                "#B0BEC5",
                "#B0BEC5",
                "#B0BEC5",
                "#B0BEC5",
                "#B0BEC5",
                "#B0BEC5",
                "#B0BEC5",
                "#B0BEC5",
                "#B0BEC5",
                "#B0BEC5",
                "#B0BEC5",
                "#B0BEC5",
                "#B0BEC5",
                "#B0BEC5",
                "#B0BEC5",
                "#B0BEC5",
                "#B0BEC5",
                "#B0BEC5",
                "#B0BEC5",
                "#B0BEC5",
                "#B0BEC5",
                "#B0BEC5",
                "#B0BEC5",
                "#B0BEC5",
                "#B0BEC5",
                "#B0BEC5",
                "#B0BEC5",
                "#B0BEC5",
                "#B0BEC5",
                "#B0BEC5",
                "#B0BEC5",
                "#B0BEC5",
                "#B0BEC5",
                "#B0BEC5",
                "#B0BEC5",
                "#B0BEC5",
                "#B0BEC5",
                "#B0BEC5",
                "#B0BEC5",
                "#B0BEC5",
                "#B0BEC5",
                "#B0BEC5",
                "#B0BEC5",
                "#B0BEC5",
                "#B0BEC5",
                "#B0BEC5",
                "#B0BEC5",
                "#B0BEC5",
                "#B0BEC5",
                "#B0BEC5",
                "#B0BEC5",
                "#B0BEC5",
                "#B0BEC5",
                "#B0BEC5",
                "#B0BEC5",
                "#B0BEC5",
                "#B0BEC5",
                "#B0BEC5",
                "#B0BEC5",
                "#B0BEC5"
               ]
              ]
             }
            ],
            "label": "Topic 8",
            "method": "update"
           },
           {
            "args": [
             {
              "marker.color": [
               [
                "#B0BEC5",
                "#B0BEC5",
                "#B0BEC5",
                "#B0BEC5",
                "#B0BEC5",
                "#B0BEC5",
                "#B0BEC5",
                "#B0BEC5",
                "#B0BEC5",
                "red",
                "#B0BEC5",
                "#B0BEC5",
                "#B0BEC5",
                "#B0BEC5",
                "#B0BEC5",
                "#B0BEC5",
                "#B0BEC5",
                "#B0BEC5",
                "#B0BEC5",
                "#B0BEC5",
                "#B0BEC5",
                "#B0BEC5",
                "#B0BEC5",
                "#B0BEC5",
                "#B0BEC5",
                "#B0BEC5",
                "#B0BEC5",
                "#B0BEC5",
                "#B0BEC5",
                "#B0BEC5",
                "#B0BEC5",
                "#B0BEC5",
                "#B0BEC5",
                "#B0BEC5",
                "#B0BEC5",
                "#B0BEC5",
                "#B0BEC5",
                "#B0BEC5",
                "#B0BEC5",
                "#B0BEC5",
                "#B0BEC5",
                "#B0BEC5",
                "#B0BEC5",
                "#B0BEC5",
                "#B0BEC5",
                "#B0BEC5",
                "#B0BEC5",
                "#B0BEC5",
                "#B0BEC5",
                "#B0BEC5",
                "#B0BEC5",
                "#B0BEC5",
                "#B0BEC5",
                "#B0BEC5",
                "#B0BEC5",
                "#B0BEC5",
                "#B0BEC5",
                "#B0BEC5",
                "#B0BEC5",
                "#B0BEC5",
                "#B0BEC5",
                "#B0BEC5",
                "#B0BEC5",
                "#B0BEC5",
                "#B0BEC5",
                "#B0BEC5",
                "#B0BEC5",
                "#B0BEC5",
                "#B0BEC5",
                "#B0BEC5",
                "#B0BEC5",
                "#B0BEC5",
                "#B0BEC5",
                "#B0BEC5",
                "#B0BEC5",
                "#B0BEC5",
                "#B0BEC5",
                "#B0BEC5",
                "#B0BEC5",
                "#B0BEC5",
                "#B0BEC5",
                "#B0BEC5",
                "#B0BEC5",
                "#B0BEC5",
                "#B0BEC5"
               ]
              ]
             }
            ],
            "label": "Topic 9",
            "method": "update"
           },
           {
            "args": [
             {
              "marker.color": [
               [
                "#B0BEC5",
                "#B0BEC5",
                "#B0BEC5",
                "#B0BEC5",
                "#B0BEC5",
                "#B0BEC5",
                "#B0BEC5",
                "#B0BEC5",
                "#B0BEC5",
                "#B0BEC5",
                "red",
                "#B0BEC5",
                "#B0BEC5",
                "#B0BEC5",
                "#B0BEC5",
                "#B0BEC5",
                "#B0BEC5",
                "#B0BEC5",
                "#B0BEC5",
                "#B0BEC5",
                "#B0BEC5",
                "#B0BEC5",
                "#B0BEC5",
                "#B0BEC5",
                "#B0BEC5",
                "#B0BEC5",
                "#B0BEC5",
                "#B0BEC5",
                "#B0BEC5",
                "#B0BEC5",
                "#B0BEC5",
                "#B0BEC5",
                "#B0BEC5",
                "#B0BEC5",
                "#B0BEC5",
                "#B0BEC5",
                "#B0BEC5",
                "#B0BEC5",
                "#B0BEC5",
                "#B0BEC5",
                "#B0BEC5",
                "#B0BEC5",
                "#B0BEC5",
                "#B0BEC5",
                "#B0BEC5",
                "#B0BEC5",
                "#B0BEC5",
                "#B0BEC5",
                "#B0BEC5",
                "#B0BEC5",
                "#B0BEC5",
                "#B0BEC5",
                "#B0BEC5",
                "#B0BEC5",
                "#B0BEC5",
                "#B0BEC5",
                "#B0BEC5",
                "#B0BEC5",
                "#B0BEC5",
                "#B0BEC5",
                "#B0BEC5",
                "#B0BEC5",
                "#B0BEC5",
                "#B0BEC5",
                "#B0BEC5",
                "#B0BEC5",
                "#B0BEC5",
                "#B0BEC5",
                "#B0BEC5",
                "#B0BEC5",
                "#B0BEC5",
                "#B0BEC5",
                "#B0BEC5",
                "#B0BEC5",
                "#B0BEC5",
                "#B0BEC5",
                "#B0BEC5",
                "#B0BEC5",
                "#B0BEC5",
                "#B0BEC5",
                "#B0BEC5",
                "#B0BEC5",
                "#B0BEC5",
                "#B0BEC5",
                "#B0BEC5"
               ]
              ]
             }
            ],
            "label": "Topic 10",
            "method": "update"
           },
           {
            "args": [
             {
              "marker.color": [
               [
                "#B0BEC5",
                "#B0BEC5",
                "#B0BEC5",
                "#B0BEC5",
                "#B0BEC5",
                "#B0BEC5",
                "#B0BEC5",
                "#B0BEC5",
                "#B0BEC5",
                "#B0BEC5",
                "#B0BEC5",
                "red",
                "#B0BEC5",
                "#B0BEC5",
                "#B0BEC5",
                "#B0BEC5",
                "#B0BEC5",
                "#B0BEC5",
                "#B0BEC5",
                "#B0BEC5",
                "#B0BEC5",
                "#B0BEC5",
                "#B0BEC5",
                "#B0BEC5",
                "#B0BEC5",
                "#B0BEC5",
                "#B0BEC5",
                "#B0BEC5",
                "#B0BEC5",
                "#B0BEC5",
                "#B0BEC5",
                "#B0BEC5",
                "#B0BEC5",
                "#B0BEC5",
                "#B0BEC5",
                "#B0BEC5",
                "#B0BEC5",
                "#B0BEC5",
                "#B0BEC5",
                "#B0BEC5",
                "#B0BEC5",
                "#B0BEC5",
                "#B0BEC5",
                "#B0BEC5",
                "#B0BEC5",
                "#B0BEC5",
                "#B0BEC5",
                "#B0BEC5",
                "#B0BEC5",
                "#B0BEC5",
                "#B0BEC5",
                "#B0BEC5",
                "#B0BEC5",
                "#B0BEC5",
                "#B0BEC5",
                "#B0BEC5",
                "#B0BEC5",
                "#B0BEC5",
                "#B0BEC5",
                "#B0BEC5",
                "#B0BEC5",
                "#B0BEC5",
                "#B0BEC5",
                "#B0BEC5",
                "#B0BEC5",
                "#B0BEC5",
                "#B0BEC5",
                "#B0BEC5",
                "#B0BEC5",
                "#B0BEC5",
                "#B0BEC5",
                "#B0BEC5",
                "#B0BEC5",
                "#B0BEC5",
                "#B0BEC5",
                "#B0BEC5",
                "#B0BEC5",
                "#B0BEC5",
                "#B0BEC5",
                "#B0BEC5",
                "#B0BEC5",
                "#B0BEC5",
                "#B0BEC5",
                "#B0BEC5",
                "#B0BEC5"
               ]
              ]
             }
            ],
            "label": "Topic 11",
            "method": "update"
           },
           {
            "args": [
             {
              "marker.color": [
               [
                "#B0BEC5",
                "#B0BEC5",
                "#B0BEC5",
                "#B0BEC5",
                "#B0BEC5",
                "#B0BEC5",
                "#B0BEC5",
                "#B0BEC5",
                "#B0BEC5",
                "#B0BEC5",
                "#B0BEC5",
                "#B0BEC5",
                "red",
                "#B0BEC5",
                "#B0BEC5",
                "#B0BEC5",
                "#B0BEC5",
                "#B0BEC5",
                "#B0BEC5",
                "#B0BEC5",
                "#B0BEC5",
                "#B0BEC5",
                "#B0BEC5",
                "#B0BEC5",
                "#B0BEC5",
                "#B0BEC5",
                "#B0BEC5",
                "#B0BEC5",
                "#B0BEC5",
                "#B0BEC5",
                "#B0BEC5",
                "#B0BEC5",
                "#B0BEC5",
                "#B0BEC5",
                "#B0BEC5",
                "#B0BEC5",
                "#B0BEC5",
                "#B0BEC5",
                "#B0BEC5",
                "#B0BEC5",
                "#B0BEC5",
                "#B0BEC5",
                "#B0BEC5",
                "#B0BEC5",
                "#B0BEC5",
                "#B0BEC5",
                "#B0BEC5",
                "#B0BEC5",
                "#B0BEC5",
                "#B0BEC5",
                "#B0BEC5",
                "#B0BEC5",
                "#B0BEC5",
                "#B0BEC5",
                "#B0BEC5",
                "#B0BEC5",
                "#B0BEC5",
                "#B0BEC5",
                "#B0BEC5",
                "#B0BEC5",
                "#B0BEC5",
                "#B0BEC5",
                "#B0BEC5",
                "#B0BEC5",
                "#B0BEC5",
                "#B0BEC5",
                "#B0BEC5",
                "#B0BEC5",
                "#B0BEC5",
                "#B0BEC5",
                "#B0BEC5",
                "#B0BEC5",
                "#B0BEC5",
                "#B0BEC5",
                "#B0BEC5",
                "#B0BEC5",
                "#B0BEC5",
                "#B0BEC5",
                "#B0BEC5",
                "#B0BEC5",
                "#B0BEC5",
                "#B0BEC5",
                "#B0BEC5",
                "#B0BEC5",
                "#B0BEC5"
               ]
              ]
             }
            ],
            "label": "Topic 12",
            "method": "update"
           },
           {
            "args": [
             {
              "marker.color": [
               [
                "#B0BEC5",
                "#B0BEC5",
                "#B0BEC5",
                "#B0BEC5",
                "#B0BEC5",
                "#B0BEC5",
                "#B0BEC5",
                "#B0BEC5",
                "#B0BEC5",
                "#B0BEC5",
                "#B0BEC5",
                "#B0BEC5",
                "#B0BEC5",
                "red",
                "#B0BEC5",
                "#B0BEC5",
                "#B0BEC5",
                "#B0BEC5",
                "#B0BEC5",
                "#B0BEC5",
                "#B0BEC5",
                "#B0BEC5",
                "#B0BEC5",
                "#B0BEC5",
                "#B0BEC5",
                "#B0BEC5",
                "#B0BEC5",
                "#B0BEC5",
                "#B0BEC5",
                "#B0BEC5",
                "#B0BEC5",
                "#B0BEC5",
                "#B0BEC5",
                "#B0BEC5",
                "#B0BEC5",
                "#B0BEC5",
                "#B0BEC5",
                "#B0BEC5",
                "#B0BEC5",
                "#B0BEC5",
                "#B0BEC5",
                "#B0BEC5",
                "#B0BEC5",
                "#B0BEC5",
                "#B0BEC5",
                "#B0BEC5",
                "#B0BEC5",
                "#B0BEC5",
                "#B0BEC5",
                "#B0BEC5",
                "#B0BEC5",
                "#B0BEC5",
                "#B0BEC5",
                "#B0BEC5",
                "#B0BEC5",
                "#B0BEC5",
                "#B0BEC5",
                "#B0BEC5",
                "#B0BEC5",
                "#B0BEC5",
                "#B0BEC5",
                "#B0BEC5",
                "#B0BEC5",
                "#B0BEC5",
                "#B0BEC5",
                "#B0BEC5",
                "#B0BEC5",
                "#B0BEC5",
                "#B0BEC5",
                "#B0BEC5",
                "#B0BEC5",
                "#B0BEC5",
                "#B0BEC5",
                "#B0BEC5",
                "#B0BEC5",
                "#B0BEC5",
                "#B0BEC5",
                "#B0BEC5",
                "#B0BEC5",
                "#B0BEC5",
                "#B0BEC5",
                "#B0BEC5",
                "#B0BEC5",
                "#B0BEC5",
                "#B0BEC5"
               ]
              ]
             }
            ],
            "label": "Topic 13",
            "method": "update"
           },
           {
            "args": [
             {
              "marker.color": [
               [
                "#B0BEC5",
                "#B0BEC5",
                "#B0BEC5",
                "#B0BEC5",
                "#B0BEC5",
                "#B0BEC5",
                "#B0BEC5",
                "#B0BEC5",
                "#B0BEC5",
                "#B0BEC5",
                "#B0BEC5",
                "#B0BEC5",
                "#B0BEC5",
                "#B0BEC5",
                "red",
                "#B0BEC5",
                "#B0BEC5",
                "#B0BEC5",
                "#B0BEC5",
                "#B0BEC5",
                "#B0BEC5",
                "#B0BEC5",
                "#B0BEC5",
                "#B0BEC5",
                "#B0BEC5",
                "#B0BEC5",
                "#B0BEC5",
                "#B0BEC5",
                "#B0BEC5",
                "#B0BEC5",
                "#B0BEC5",
                "#B0BEC5",
                "#B0BEC5",
                "#B0BEC5",
                "#B0BEC5",
                "#B0BEC5",
                "#B0BEC5",
                "#B0BEC5",
                "#B0BEC5",
                "#B0BEC5",
                "#B0BEC5",
                "#B0BEC5",
                "#B0BEC5",
                "#B0BEC5",
                "#B0BEC5",
                "#B0BEC5",
                "#B0BEC5",
                "#B0BEC5",
                "#B0BEC5",
                "#B0BEC5",
                "#B0BEC5",
                "#B0BEC5",
                "#B0BEC5",
                "#B0BEC5",
                "#B0BEC5",
                "#B0BEC5",
                "#B0BEC5",
                "#B0BEC5",
                "#B0BEC5",
                "#B0BEC5",
                "#B0BEC5",
                "#B0BEC5",
                "#B0BEC5",
                "#B0BEC5",
                "#B0BEC5",
                "#B0BEC5",
                "#B0BEC5",
                "#B0BEC5",
                "#B0BEC5",
                "#B0BEC5",
                "#B0BEC5",
                "#B0BEC5",
                "#B0BEC5",
                "#B0BEC5",
                "#B0BEC5",
                "#B0BEC5",
                "#B0BEC5",
                "#B0BEC5",
                "#B0BEC5",
                "#B0BEC5",
                "#B0BEC5",
                "#B0BEC5",
                "#B0BEC5",
                "#B0BEC5",
                "#B0BEC5"
               ]
              ]
             }
            ],
            "label": "Topic 14",
            "method": "update"
           },
           {
            "args": [
             {
              "marker.color": [
               [
                "#B0BEC5",
                "#B0BEC5",
                "#B0BEC5",
                "#B0BEC5",
                "#B0BEC5",
                "#B0BEC5",
                "#B0BEC5",
                "#B0BEC5",
                "#B0BEC5",
                "#B0BEC5",
                "#B0BEC5",
                "#B0BEC5",
                "#B0BEC5",
                "#B0BEC5",
                "#B0BEC5",
                "red",
                "#B0BEC5",
                "#B0BEC5",
                "#B0BEC5",
                "#B0BEC5",
                "#B0BEC5",
                "#B0BEC5",
                "#B0BEC5",
                "#B0BEC5",
                "#B0BEC5",
                "#B0BEC5",
                "#B0BEC5",
                "#B0BEC5",
                "#B0BEC5",
                "#B0BEC5",
                "#B0BEC5",
                "#B0BEC5",
                "#B0BEC5",
                "#B0BEC5",
                "#B0BEC5",
                "#B0BEC5",
                "#B0BEC5",
                "#B0BEC5",
                "#B0BEC5",
                "#B0BEC5",
                "#B0BEC5",
                "#B0BEC5",
                "#B0BEC5",
                "#B0BEC5",
                "#B0BEC5",
                "#B0BEC5",
                "#B0BEC5",
                "#B0BEC5",
                "#B0BEC5",
                "#B0BEC5",
                "#B0BEC5",
                "#B0BEC5",
                "#B0BEC5",
                "#B0BEC5",
                "#B0BEC5",
                "#B0BEC5",
                "#B0BEC5",
                "#B0BEC5",
                "#B0BEC5",
                "#B0BEC5",
                "#B0BEC5",
                "#B0BEC5",
                "#B0BEC5",
                "#B0BEC5",
                "#B0BEC5",
                "#B0BEC5",
                "#B0BEC5",
                "#B0BEC5",
                "#B0BEC5",
                "#B0BEC5",
                "#B0BEC5",
                "#B0BEC5",
                "#B0BEC5",
                "#B0BEC5",
                "#B0BEC5",
                "#B0BEC5",
                "#B0BEC5",
                "#B0BEC5",
                "#B0BEC5",
                "#B0BEC5",
                "#B0BEC5",
                "#B0BEC5",
                "#B0BEC5",
                "#B0BEC5",
                "#B0BEC5"
               ]
              ]
             }
            ],
            "label": "Topic 15",
            "method": "update"
           },
           {
            "args": [
             {
              "marker.color": [
               [
                "#B0BEC5",
                "#B0BEC5",
                "#B0BEC5",
                "#B0BEC5",
                "#B0BEC5",
                "#B0BEC5",
                "#B0BEC5",
                "#B0BEC5",
                "#B0BEC5",
                "#B0BEC5",
                "#B0BEC5",
                "#B0BEC5",
                "#B0BEC5",
                "#B0BEC5",
                "#B0BEC5",
                "#B0BEC5",
                "red",
                "#B0BEC5",
                "#B0BEC5",
                "#B0BEC5",
                "#B0BEC5",
                "#B0BEC5",
                "#B0BEC5",
                "#B0BEC5",
                "#B0BEC5",
                "#B0BEC5",
                "#B0BEC5",
                "#B0BEC5",
                "#B0BEC5",
                "#B0BEC5",
                "#B0BEC5",
                "#B0BEC5",
                "#B0BEC5",
                "#B0BEC5",
                "#B0BEC5",
                "#B0BEC5",
                "#B0BEC5",
                "#B0BEC5",
                "#B0BEC5",
                "#B0BEC5",
                "#B0BEC5",
                "#B0BEC5",
                "#B0BEC5",
                "#B0BEC5",
                "#B0BEC5",
                "#B0BEC5",
                "#B0BEC5",
                "#B0BEC5",
                "#B0BEC5",
                "#B0BEC5",
                "#B0BEC5",
                "#B0BEC5",
                "#B0BEC5",
                "#B0BEC5",
                "#B0BEC5",
                "#B0BEC5",
                "#B0BEC5",
                "#B0BEC5",
                "#B0BEC5",
                "#B0BEC5",
                "#B0BEC5",
                "#B0BEC5",
                "#B0BEC5",
                "#B0BEC5",
                "#B0BEC5",
                "#B0BEC5",
                "#B0BEC5",
                "#B0BEC5",
                "#B0BEC5",
                "#B0BEC5",
                "#B0BEC5",
                "#B0BEC5",
                "#B0BEC5",
                "#B0BEC5",
                "#B0BEC5",
                "#B0BEC5",
                "#B0BEC5",
                "#B0BEC5",
                "#B0BEC5",
                "#B0BEC5",
                "#B0BEC5",
                "#B0BEC5",
                "#B0BEC5",
                "#B0BEC5",
                "#B0BEC5"
               ]
              ]
             }
            ],
            "label": "Topic 16",
            "method": "update"
           },
           {
            "args": [
             {
              "marker.color": [
               [
                "#B0BEC5",
                "#B0BEC5",
                "#B0BEC5",
                "#B0BEC5",
                "#B0BEC5",
                "#B0BEC5",
                "#B0BEC5",
                "#B0BEC5",
                "#B0BEC5",
                "#B0BEC5",
                "#B0BEC5",
                "#B0BEC5",
                "#B0BEC5",
                "#B0BEC5",
                "#B0BEC5",
                "#B0BEC5",
                "#B0BEC5",
                "red",
                "#B0BEC5",
                "#B0BEC5",
                "#B0BEC5",
                "#B0BEC5",
                "#B0BEC5",
                "#B0BEC5",
                "#B0BEC5",
                "#B0BEC5",
                "#B0BEC5",
                "#B0BEC5",
                "#B0BEC5",
                "#B0BEC5",
                "#B0BEC5",
                "#B0BEC5",
                "#B0BEC5",
                "#B0BEC5",
                "#B0BEC5",
                "#B0BEC5",
                "#B0BEC5",
                "#B0BEC5",
                "#B0BEC5",
                "#B0BEC5",
                "#B0BEC5",
                "#B0BEC5",
                "#B0BEC5",
                "#B0BEC5",
                "#B0BEC5",
                "#B0BEC5",
                "#B0BEC5",
                "#B0BEC5",
                "#B0BEC5",
                "#B0BEC5",
                "#B0BEC5",
                "#B0BEC5",
                "#B0BEC5",
                "#B0BEC5",
                "#B0BEC5",
                "#B0BEC5",
                "#B0BEC5",
                "#B0BEC5",
                "#B0BEC5",
                "#B0BEC5",
                "#B0BEC5",
                "#B0BEC5",
                "#B0BEC5",
                "#B0BEC5",
                "#B0BEC5",
                "#B0BEC5",
                "#B0BEC5",
                "#B0BEC5",
                "#B0BEC5",
                "#B0BEC5",
                "#B0BEC5",
                "#B0BEC5",
                "#B0BEC5",
                "#B0BEC5",
                "#B0BEC5",
                "#B0BEC5",
                "#B0BEC5",
                "#B0BEC5",
                "#B0BEC5",
                "#B0BEC5",
                "#B0BEC5",
                "#B0BEC5",
                "#B0BEC5",
                "#B0BEC5",
                "#B0BEC5"
               ]
              ]
             }
            ],
            "label": "Topic 17",
            "method": "update"
           },
           {
            "args": [
             {
              "marker.color": [
               [
                "#B0BEC5",
                "#B0BEC5",
                "#B0BEC5",
                "#B0BEC5",
                "#B0BEC5",
                "#B0BEC5",
                "#B0BEC5",
                "#B0BEC5",
                "#B0BEC5",
                "#B0BEC5",
                "#B0BEC5",
                "#B0BEC5",
                "#B0BEC5",
                "#B0BEC5",
                "#B0BEC5",
                "#B0BEC5",
                "#B0BEC5",
                "#B0BEC5",
                "red",
                "#B0BEC5",
                "#B0BEC5",
                "#B0BEC5",
                "#B0BEC5",
                "#B0BEC5",
                "#B0BEC5",
                "#B0BEC5",
                "#B0BEC5",
                "#B0BEC5",
                "#B0BEC5",
                "#B0BEC5",
                "#B0BEC5",
                "#B0BEC5",
                "#B0BEC5",
                "#B0BEC5",
                "#B0BEC5",
                "#B0BEC5",
                "#B0BEC5",
                "#B0BEC5",
                "#B0BEC5",
                "#B0BEC5",
                "#B0BEC5",
                "#B0BEC5",
                "#B0BEC5",
                "#B0BEC5",
                "#B0BEC5",
                "#B0BEC5",
                "#B0BEC5",
                "#B0BEC5",
                "#B0BEC5",
                "#B0BEC5",
                "#B0BEC5",
                "#B0BEC5",
                "#B0BEC5",
                "#B0BEC5",
                "#B0BEC5",
                "#B0BEC5",
                "#B0BEC5",
                "#B0BEC5",
                "#B0BEC5",
                "#B0BEC5",
                "#B0BEC5",
                "#B0BEC5",
                "#B0BEC5",
                "#B0BEC5",
                "#B0BEC5",
                "#B0BEC5",
                "#B0BEC5",
                "#B0BEC5",
                "#B0BEC5",
                "#B0BEC5",
                "#B0BEC5",
                "#B0BEC5",
                "#B0BEC5",
                "#B0BEC5",
                "#B0BEC5",
                "#B0BEC5",
                "#B0BEC5",
                "#B0BEC5",
                "#B0BEC5",
                "#B0BEC5",
                "#B0BEC5",
                "#B0BEC5",
                "#B0BEC5",
                "#B0BEC5",
                "#B0BEC5"
               ]
              ]
             }
            ],
            "label": "Topic 18",
            "method": "update"
           },
           {
            "args": [
             {
              "marker.color": [
               [
                "#B0BEC5",
                "#B0BEC5",
                "#B0BEC5",
                "#B0BEC5",
                "#B0BEC5",
                "#B0BEC5",
                "#B0BEC5",
                "#B0BEC5",
                "#B0BEC5",
                "#B0BEC5",
                "#B0BEC5",
                "#B0BEC5",
                "#B0BEC5",
                "#B0BEC5",
                "#B0BEC5",
                "#B0BEC5",
                "#B0BEC5",
                "#B0BEC5",
                "#B0BEC5",
                "red",
                "#B0BEC5",
                "#B0BEC5",
                "#B0BEC5",
                "#B0BEC5",
                "#B0BEC5",
                "#B0BEC5",
                "#B0BEC5",
                "#B0BEC5",
                "#B0BEC5",
                "#B0BEC5",
                "#B0BEC5",
                "#B0BEC5",
                "#B0BEC5",
                "#B0BEC5",
                "#B0BEC5",
                "#B0BEC5",
                "#B0BEC5",
                "#B0BEC5",
                "#B0BEC5",
                "#B0BEC5",
                "#B0BEC5",
                "#B0BEC5",
                "#B0BEC5",
                "#B0BEC5",
                "#B0BEC5",
                "#B0BEC5",
                "#B0BEC5",
                "#B0BEC5",
                "#B0BEC5",
                "#B0BEC5",
                "#B0BEC5",
                "#B0BEC5",
                "#B0BEC5",
                "#B0BEC5",
                "#B0BEC5",
                "#B0BEC5",
                "#B0BEC5",
                "#B0BEC5",
                "#B0BEC5",
                "#B0BEC5",
                "#B0BEC5",
                "#B0BEC5",
                "#B0BEC5",
                "#B0BEC5",
                "#B0BEC5",
                "#B0BEC5",
                "#B0BEC5",
                "#B0BEC5",
                "#B0BEC5",
                "#B0BEC5",
                "#B0BEC5",
                "#B0BEC5",
                "#B0BEC5",
                "#B0BEC5",
                "#B0BEC5",
                "#B0BEC5",
                "#B0BEC5",
                "#B0BEC5",
                "#B0BEC5",
                "#B0BEC5",
                "#B0BEC5",
                "#B0BEC5",
                "#B0BEC5",
                "#B0BEC5",
                "#B0BEC5"
               ]
              ]
             }
            ],
            "label": "Topic 19",
            "method": "update"
           },
           {
            "args": [
             {
              "marker.color": [
               [
                "#B0BEC5",
                "#B0BEC5",
                "#B0BEC5",
                "#B0BEC5",
                "#B0BEC5",
                "#B0BEC5",
                "#B0BEC5",
                "#B0BEC5",
                "#B0BEC5",
                "#B0BEC5",
                "#B0BEC5",
                "#B0BEC5",
                "#B0BEC5",
                "#B0BEC5",
                "#B0BEC5",
                "#B0BEC5",
                "#B0BEC5",
                "#B0BEC5",
                "#B0BEC5",
                "#B0BEC5",
                "red",
                "#B0BEC5",
                "#B0BEC5",
                "#B0BEC5",
                "#B0BEC5",
                "#B0BEC5",
                "#B0BEC5",
                "#B0BEC5",
                "#B0BEC5",
                "#B0BEC5",
                "#B0BEC5",
                "#B0BEC5",
                "#B0BEC5",
                "#B0BEC5",
                "#B0BEC5",
                "#B0BEC5",
                "#B0BEC5",
                "#B0BEC5",
                "#B0BEC5",
                "#B0BEC5",
                "#B0BEC5",
                "#B0BEC5",
                "#B0BEC5",
                "#B0BEC5",
                "#B0BEC5",
                "#B0BEC5",
                "#B0BEC5",
                "#B0BEC5",
                "#B0BEC5",
                "#B0BEC5",
                "#B0BEC5",
                "#B0BEC5",
                "#B0BEC5",
                "#B0BEC5",
                "#B0BEC5",
                "#B0BEC5",
                "#B0BEC5",
                "#B0BEC5",
                "#B0BEC5",
                "#B0BEC5",
                "#B0BEC5",
                "#B0BEC5",
                "#B0BEC5",
                "#B0BEC5",
                "#B0BEC5",
                "#B0BEC5",
                "#B0BEC5",
                "#B0BEC5",
                "#B0BEC5",
                "#B0BEC5",
                "#B0BEC5",
                "#B0BEC5",
                "#B0BEC5",
                "#B0BEC5",
                "#B0BEC5",
                "#B0BEC5",
                "#B0BEC5",
                "#B0BEC5",
                "#B0BEC5",
                "#B0BEC5",
                "#B0BEC5",
                "#B0BEC5",
                "#B0BEC5",
                "#B0BEC5",
                "#B0BEC5"
               ]
              ]
             }
            ],
            "label": "Topic 20",
            "method": "update"
           },
           {
            "args": [
             {
              "marker.color": [
               [
                "#B0BEC5",
                "#B0BEC5",
                "#B0BEC5",
                "#B0BEC5",
                "#B0BEC5",
                "#B0BEC5",
                "#B0BEC5",
                "#B0BEC5",
                "#B0BEC5",
                "#B0BEC5",
                "#B0BEC5",
                "#B0BEC5",
                "#B0BEC5",
                "#B0BEC5",
                "#B0BEC5",
                "#B0BEC5",
                "#B0BEC5",
                "#B0BEC5",
                "#B0BEC5",
                "#B0BEC5",
                "#B0BEC5",
                "red",
                "#B0BEC5",
                "#B0BEC5",
                "#B0BEC5",
                "#B0BEC5",
                "#B0BEC5",
                "#B0BEC5",
                "#B0BEC5",
                "#B0BEC5",
                "#B0BEC5",
                "#B0BEC5",
                "#B0BEC5",
                "#B0BEC5",
                "#B0BEC5",
                "#B0BEC5",
                "#B0BEC5",
                "#B0BEC5",
                "#B0BEC5",
                "#B0BEC5",
                "#B0BEC5",
                "#B0BEC5",
                "#B0BEC5",
                "#B0BEC5",
                "#B0BEC5",
                "#B0BEC5",
                "#B0BEC5",
                "#B0BEC5",
                "#B0BEC5",
                "#B0BEC5",
                "#B0BEC5",
                "#B0BEC5",
                "#B0BEC5",
                "#B0BEC5",
                "#B0BEC5",
                "#B0BEC5",
                "#B0BEC5",
                "#B0BEC5",
                "#B0BEC5",
                "#B0BEC5",
                "#B0BEC5",
                "#B0BEC5",
                "#B0BEC5",
                "#B0BEC5",
                "#B0BEC5",
                "#B0BEC5",
                "#B0BEC5",
                "#B0BEC5",
                "#B0BEC5",
                "#B0BEC5",
                "#B0BEC5",
                "#B0BEC5",
                "#B0BEC5",
                "#B0BEC5",
                "#B0BEC5",
                "#B0BEC5",
                "#B0BEC5",
                "#B0BEC5",
                "#B0BEC5",
                "#B0BEC5",
                "#B0BEC5",
                "#B0BEC5",
                "#B0BEC5",
                "#B0BEC5",
                "#B0BEC5"
               ]
              ]
             }
            ],
            "label": "Topic 21",
            "method": "update"
           },
           {
            "args": [
             {
              "marker.color": [
               [
                "#B0BEC5",
                "#B0BEC5",
                "#B0BEC5",
                "#B0BEC5",
                "#B0BEC5",
                "#B0BEC5",
                "#B0BEC5",
                "#B0BEC5",
                "#B0BEC5",
                "#B0BEC5",
                "#B0BEC5",
                "#B0BEC5",
                "#B0BEC5",
                "#B0BEC5",
                "#B0BEC5",
                "#B0BEC5",
                "#B0BEC5",
                "#B0BEC5",
                "#B0BEC5",
                "#B0BEC5",
                "#B0BEC5",
                "#B0BEC5",
                "red",
                "#B0BEC5",
                "#B0BEC5",
                "#B0BEC5",
                "#B0BEC5",
                "#B0BEC5",
                "#B0BEC5",
                "#B0BEC5",
                "#B0BEC5",
                "#B0BEC5",
                "#B0BEC5",
                "#B0BEC5",
                "#B0BEC5",
                "#B0BEC5",
                "#B0BEC5",
                "#B0BEC5",
                "#B0BEC5",
                "#B0BEC5",
                "#B0BEC5",
                "#B0BEC5",
                "#B0BEC5",
                "#B0BEC5",
                "#B0BEC5",
                "#B0BEC5",
                "#B0BEC5",
                "#B0BEC5",
                "#B0BEC5",
                "#B0BEC5",
                "#B0BEC5",
                "#B0BEC5",
                "#B0BEC5",
                "#B0BEC5",
                "#B0BEC5",
                "#B0BEC5",
                "#B0BEC5",
                "#B0BEC5",
                "#B0BEC5",
                "#B0BEC5",
                "#B0BEC5",
                "#B0BEC5",
                "#B0BEC5",
                "#B0BEC5",
                "#B0BEC5",
                "#B0BEC5",
                "#B0BEC5",
                "#B0BEC5",
                "#B0BEC5",
                "#B0BEC5",
                "#B0BEC5",
                "#B0BEC5",
                "#B0BEC5",
                "#B0BEC5",
                "#B0BEC5",
                "#B0BEC5",
                "#B0BEC5",
                "#B0BEC5",
                "#B0BEC5",
                "#B0BEC5",
                "#B0BEC5",
                "#B0BEC5",
                "#B0BEC5",
                "#B0BEC5",
                "#B0BEC5"
               ]
              ]
             }
            ],
            "label": "Topic 22",
            "method": "update"
           },
           {
            "args": [
             {
              "marker.color": [
               [
                "#B0BEC5",
                "#B0BEC5",
                "#B0BEC5",
                "#B0BEC5",
                "#B0BEC5",
                "#B0BEC5",
                "#B0BEC5",
                "#B0BEC5",
                "#B0BEC5",
                "#B0BEC5",
                "#B0BEC5",
                "#B0BEC5",
                "#B0BEC5",
                "#B0BEC5",
                "#B0BEC5",
                "#B0BEC5",
                "#B0BEC5",
                "#B0BEC5",
                "#B0BEC5",
                "#B0BEC5",
                "#B0BEC5",
                "#B0BEC5",
                "#B0BEC5",
                "red",
                "#B0BEC5",
                "#B0BEC5",
                "#B0BEC5",
                "#B0BEC5",
                "#B0BEC5",
                "#B0BEC5",
                "#B0BEC5",
                "#B0BEC5",
                "#B0BEC5",
                "#B0BEC5",
                "#B0BEC5",
                "#B0BEC5",
                "#B0BEC5",
                "#B0BEC5",
                "#B0BEC5",
                "#B0BEC5",
                "#B0BEC5",
                "#B0BEC5",
                "#B0BEC5",
                "#B0BEC5",
                "#B0BEC5",
                "#B0BEC5",
                "#B0BEC5",
                "#B0BEC5",
                "#B0BEC5",
                "#B0BEC5",
                "#B0BEC5",
                "#B0BEC5",
                "#B0BEC5",
                "#B0BEC5",
                "#B0BEC5",
                "#B0BEC5",
                "#B0BEC5",
                "#B0BEC5",
                "#B0BEC5",
                "#B0BEC5",
                "#B0BEC5",
                "#B0BEC5",
                "#B0BEC5",
                "#B0BEC5",
                "#B0BEC5",
                "#B0BEC5",
                "#B0BEC5",
                "#B0BEC5",
                "#B0BEC5",
                "#B0BEC5",
                "#B0BEC5",
                "#B0BEC5",
                "#B0BEC5",
                "#B0BEC5",
                "#B0BEC5",
                "#B0BEC5",
                "#B0BEC5",
                "#B0BEC5",
                "#B0BEC5",
                "#B0BEC5",
                "#B0BEC5",
                "#B0BEC5",
                "#B0BEC5",
                "#B0BEC5",
                "#B0BEC5"
               ]
              ]
             }
            ],
            "label": "Topic 23",
            "method": "update"
           },
           {
            "args": [
             {
              "marker.color": [
               [
                "#B0BEC5",
                "#B0BEC5",
                "#B0BEC5",
                "#B0BEC5",
                "#B0BEC5",
                "#B0BEC5",
                "#B0BEC5",
                "#B0BEC5",
                "#B0BEC5",
                "#B0BEC5",
                "#B0BEC5",
                "#B0BEC5",
                "#B0BEC5",
                "#B0BEC5",
                "#B0BEC5",
                "#B0BEC5",
                "#B0BEC5",
                "#B0BEC5",
                "#B0BEC5",
                "#B0BEC5",
                "#B0BEC5",
                "#B0BEC5",
                "#B0BEC5",
                "#B0BEC5",
                "red",
                "#B0BEC5",
                "#B0BEC5",
                "#B0BEC5",
                "#B0BEC5",
                "#B0BEC5",
                "#B0BEC5",
                "#B0BEC5",
                "#B0BEC5",
                "#B0BEC5",
                "#B0BEC5",
                "#B0BEC5",
                "#B0BEC5",
                "#B0BEC5",
                "#B0BEC5",
                "#B0BEC5",
                "#B0BEC5",
                "#B0BEC5",
                "#B0BEC5",
                "#B0BEC5",
                "#B0BEC5",
                "#B0BEC5",
                "#B0BEC5",
                "#B0BEC5",
                "#B0BEC5",
                "#B0BEC5",
                "#B0BEC5",
                "#B0BEC5",
                "#B0BEC5",
                "#B0BEC5",
                "#B0BEC5",
                "#B0BEC5",
                "#B0BEC5",
                "#B0BEC5",
                "#B0BEC5",
                "#B0BEC5",
                "#B0BEC5",
                "#B0BEC5",
                "#B0BEC5",
                "#B0BEC5",
                "#B0BEC5",
                "#B0BEC5",
                "#B0BEC5",
                "#B0BEC5",
                "#B0BEC5",
                "#B0BEC5",
                "#B0BEC5",
                "#B0BEC5",
                "#B0BEC5",
                "#B0BEC5",
                "#B0BEC5",
                "#B0BEC5",
                "#B0BEC5",
                "#B0BEC5",
                "#B0BEC5",
                "#B0BEC5",
                "#B0BEC5",
                "#B0BEC5",
                "#B0BEC5",
                "#B0BEC5",
                "#B0BEC5"
               ]
              ]
             }
            ],
            "label": "Topic 24",
            "method": "update"
           },
           {
            "args": [
             {
              "marker.color": [
               [
                "#B0BEC5",
                "#B0BEC5",
                "#B0BEC5",
                "#B0BEC5",
                "#B0BEC5",
                "#B0BEC5",
                "#B0BEC5",
                "#B0BEC5",
                "#B0BEC5",
                "#B0BEC5",
                "#B0BEC5",
                "#B0BEC5",
                "#B0BEC5",
                "#B0BEC5",
                "#B0BEC5",
                "#B0BEC5",
                "#B0BEC5",
                "#B0BEC5",
                "#B0BEC5",
                "#B0BEC5",
                "#B0BEC5",
                "#B0BEC5",
                "#B0BEC5",
                "#B0BEC5",
                "#B0BEC5",
                "red",
                "#B0BEC5",
                "#B0BEC5",
                "#B0BEC5",
                "#B0BEC5",
                "#B0BEC5",
                "#B0BEC5",
                "#B0BEC5",
                "#B0BEC5",
                "#B0BEC5",
                "#B0BEC5",
                "#B0BEC5",
                "#B0BEC5",
                "#B0BEC5",
                "#B0BEC5",
                "#B0BEC5",
                "#B0BEC5",
                "#B0BEC5",
                "#B0BEC5",
                "#B0BEC5",
                "#B0BEC5",
                "#B0BEC5",
                "#B0BEC5",
                "#B0BEC5",
                "#B0BEC5",
                "#B0BEC5",
                "#B0BEC5",
                "#B0BEC5",
                "#B0BEC5",
                "#B0BEC5",
                "#B0BEC5",
                "#B0BEC5",
                "#B0BEC5",
                "#B0BEC5",
                "#B0BEC5",
                "#B0BEC5",
                "#B0BEC5",
                "#B0BEC5",
                "#B0BEC5",
                "#B0BEC5",
                "#B0BEC5",
                "#B0BEC5",
                "#B0BEC5",
                "#B0BEC5",
                "#B0BEC5",
                "#B0BEC5",
                "#B0BEC5",
                "#B0BEC5",
                "#B0BEC5",
                "#B0BEC5",
                "#B0BEC5",
                "#B0BEC5",
                "#B0BEC5",
                "#B0BEC5",
                "#B0BEC5",
                "#B0BEC5",
                "#B0BEC5",
                "#B0BEC5",
                "#B0BEC5",
                "#B0BEC5"
               ]
              ]
             }
            ],
            "label": "Topic 25",
            "method": "update"
           },
           {
            "args": [
             {
              "marker.color": [
               [
                "#B0BEC5",
                "#B0BEC5",
                "#B0BEC5",
                "#B0BEC5",
                "#B0BEC5",
                "#B0BEC5",
                "#B0BEC5",
                "#B0BEC5",
                "#B0BEC5",
                "#B0BEC5",
                "#B0BEC5",
                "#B0BEC5",
                "#B0BEC5",
                "#B0BEC5",
                "#B0BEC5",
                "#B0BEC5",
                "#B0BEC5",
                "#B0BEC5",
                "#B0BEC5",
                "#B0BEC5",
                "#B0BEC5",
                "#B0BEC5",
                "#B0BEC5",
                "#B0BEC5",
                "#B0BEC5",
                "#B0BEC5",
                "red",
                "#B0BEC5",
                "#B0BEC5",
                "#B0BEC5",
                "#B0BEC5",
                "#B0BEC5",
                "#B0BEC5",
                "#B0BEC5",
                "#B0BEC5",
                "#B0BEC5",
                "#B0BEC5",
                "#B0BEC5",
                "#B0BEC5",
                "#B0BEC5",
                "#B0BEC5",
                "#B0BEC5",
                "#B0BEC5",
                "#B0BEC5",
                "#B0BEC5",
                "#B0BEC5",
                "#B0BEC5",
                "#B0BEC5",
                "#B0BEC5",
                "#B0BEC5",
                "#B0BEC5",
                "#B0BEC5",
                "#B0BEC5",
                "#B0BEC5",
                "#B0BEC5",
                "#B0BEC5",
                "#B0BEC5",
                "#B0BEC5",
                "#B0BEC5",
                "#B0BEC5",
                "#B0BEC5",
                "#B0BEC5",
                "#B0BEC5",
                "#B0BEC5",
                "#B0BEC5",
                "#B0BEC5",
                "#B0BEC5",
                "#B0BEC5",
                "#B0BEC5",
                "#B0BEC5",
                "#B0BEC5",
                "#B0BEC5",
                "#B0BEC5",
                "#B0BEC5",
                "#B0BEC5",
                "#B0BEC5",
                "#B0BEC5",
                "#B0BEC5",
                "#B0BEC5",
                "#B0BEC5",
                "#B0BEC5",
                "#B0BEC5",
                "#B0BEC5",
                "#B0BEC5",
                "#B0BEC5"
               ]
              ]
             }
            ],
            "label": "Topic 26",
            "method": "update"
           },
           {
            "args": [
             {
              "marker.color": [
               [
                "#B0BEC5",
                "#B0BEC5",
                "#B0BEC5",
                "#B0BEC5",
                "#B0BEC5",
                "#B0BEC5",
                "#B0BEC5",
                "#B0BEC5",
                "#B0BEC5",
                "#B0BEC5",
                "#B0BEC5",
                "#B0BEC5",
                "#B0BEC5",
                "#B0BEC5",
                "#B0BEC5",
                "#B0BEC5",
                "#B0BEC5",
                "#B0BEC5",
                "#B0BEC5",
                "#B0BEC5",
                "#B0BEC5",
                "#B0BEC5",
                "#B0BEC5",
                "#B0BEC5",
                "#B0BEC5",
                "#B0BEC5",
                "#B0BEC5",
                "red",
                "#B0BEC5",
                "#B0BEC5",
                "#B0BEC5",
                "#B0BEC5",
                "#B0BEC5",
                "#B0BEC5",
                "#B0BEC5",
                "#B0BEC5",
                "#B0BEC5",
                "#B0BEC5",
                "#B0BEC5",
                "#B0BEC5",
                "#B0BEC5",
                "#B0BEC5",
                "#B0BEC5",
                "#B0BEC5",
                "#B0BEC5",
                "#B0BEC5",
                "#B0BEC5",
                "#B0BEC5",
                "#B0BEC5",
                "#B0BEC5",
                "#B0BEC5",
                "#B0BEC5",
                "#B0BEC5",
                "#B0BEC5",
                "#B0BEC5",
                "#B0BEC5",
                "#B0BEC5",
                "#B0BEC5",
                "#B0BEC5",
                "#B0BEC5",
                "#B0BEC5",
                "#B0BEC5",
                "#B0BEC5",
                "#B0BEC5",
                "#B0BEC5",
                "#B0BEC5",
                "#B0BEC5",
                "#B0BEC5",
                "#B0BEC5",
                "#B0BEC5",
                "#B0BEC5",
                "#B0BEC5",
                "#B0BEC5",
                "#B0BEC5",
                "#B0BEC5",
                "#B0BEC5",
                "#B0BEC5",
                "#B0BEC5",
                "#B0BEC5",
                "#B0BEC5",
                "#B0BEC5",
                "#B0BEC5",
                "#B0BEC5",
                "#B0BEC5",
                "#B0BEC5"
               ]
              ]
             }
            ],
            "label": "Topic 27",
            "method": "update"
           },
           {
            "args": [
             {
              "marker.color": [
               [
                "#B0BEC5",
                "#B0BEC5",
                "#B0BEC5",
                "#B0BEC5",
                "#B0BEC5",
                "#B0BEC5",
                "#B0BEC5",
                "#B0BEC5",
                "#B0BEC5",
                "#B0BEC5",
                "#B0BEC5",
                "#B0BEC5",
                "#B0BEC5",
                "#B0BEC5",
                "#B0BEC5",
                "#B0BEC5",
                "#B0BEC5",
                "#B0BEC5",
                "#B0BEC5",
                "#B0BEC5",
                "#B0BEC5",
                "#B0BEC5",
                "#B0BEC5",
                "#B0BEC5",
                "#B0BEC5",
                "#B0BEC5",
                "#B0BEC5",
                "#B0BEC5",
                "red",
                "#B0BEC5",
                "#B0BEC5",
                "#B0BEC5",
                "#B0BEC5",
                "#B0BEC5",
                "#B0BEC5",
                "#B0BEC5",
                "#B0BEC5",
                "#B0BEC5",
                "#B0BEC5",
                "#B0BEC5",
                "#B0BEC5",
                "#B0BEC5",
                "#B0BEC5",
                "#B0BEC5",
                "#B0BEC5",
                "#B0BEC5",
                "#B0BEC5",
                "#B0BEC5",
                "#B0BEC5",
                "#B0BEC5",
                "#B0BEC5",
                "#B0BEC5",
                "#B0BEC5",
                "#B0BEC5",
                "#B0BEC5",
                "#B0BEC5",
                "#B0BEC5",
                "#B0BEC5",
                "#B0BEC5",
                "#B0BEC5",
                "#B0BEC5",
                "#B0BEC5",
                "#B0BEC5",
                "#B0BEC5",
                "#B0BEC5",
                "#B0BEC5",
                "#B0BEC5",
                "#B0BEC5",
                "#B0BEC5",
                "#B0BEC5",
                "#B0BEC5",
                "#B0BEC5",
                "#B0BEC5",
                "#B0BEC5",
                "#B0BEC5",
                "#B0BEC5",
                "#B0BEC5",
                "#B0BEC5",
                "#B0BEC5",
                "#B0BEC5",
                "#B0BEC5",
                "#B0BEC5",
                "#B0BEC5",
                "#B0BEC5",
                "#B0BEC5"
               ]
              ]
             }
            ],
            "label": "Topic 28",
            "method": "update"
           },
           {
            "args": [
             {
              "marker.color": [
               [
                "#B0BEC5",
                "#B0BEC5",
                "#B0BEC5",
                "#B0BEC5",
                "#B0BEC5",
                "#B0BEC5",
                "#B0BEC5",
                "#B0BEC5",
                "#B0BEC5",
                "#B0BEC5",
                "#B0BEC5",
                "#B0BEC5",
                "#B0BEC5",
                "#B0BEC5",
                "#B0BEC5",
                "#B0BEC5",
                "#B0BEC5",
                "#B0BEC5",
                "#B0BEC5",
                "#B0BEC5",
                "#B0BEC5",
                "#B0BEC5",
                "#B0BEC5",
                "#B0BEC5",
                "#B0BEC5",
                "#B0BEC5",
                "#B0BEC5",
                "#B0BEC5",
                "#B0BEC5",
                "red",
                "#B0BEC5",
                "#B0BEC5",
                "#B0BEC5",
                "#B0BEC5",
                "#B0BEC5",
                "#B0BEC5",
                "#B0BEC5",
                "#B0BEC5",
                "#B0BEC5",
                "#B0BEC5",
                "#B0BEC5",
                "#B0BEC5",
                "#B0BEC5",
                "#B0BEC5",
                "#B0BEC5",
                "#B0BEC5",
                "#B0BEC5",
                "#B0BEC5",
                "#B0BEC5",
                "#B0BEC5",
                "#B0BEC5",
                "#B0BEC5",
                "#B0BEC5",
                "#B0BEC5",
                "#B0BEC5",
                "#B0BEC5",
                "#B0BEC5",
                "#B0BEC5",
                "#B0BEC5",
                "#B0BEC5",
                "#B0BEC5",
                "#B0BEC5",
                "#B0BEC5",
                "#B0BEC5",
                "#B0BEC5",
                "#B0BEC5",
                "#B0BEC5",
                "#B0BEC5",
                "#B0BEC5",
                "#B0BEC5",
                "#B0BEC5",
                "#B0BEC5",
                "#B0BEC5",
                "#B0BEC5",
                "#B0BEC5",
                "#B0BEC5",
                "#B0BEC5",
                "#B0BEC5",
                "#B0BEC5",
                "#B0BEC5",
                "#B0BEC5",
                "#B0BEC5",
                "#B0BEC5",
                "#B0BEC5",
                "#B0BEC5"
               ]
              ]
             }
            ],
            "label": "Topic 29",
            "method": "update"
           },
           {
            "args": [
             {
              "marker.color": [
               [
                "#B0BEC5",
                "#B0BEC5",
                "#B0BEC5",
                "#B0BEC5",
                "#B0BEC5",
                "#B0BEC5",
                "#B0BEC5",
                "#B0BEC5",
                "#B0BEC5",
                "#B0BEC5",
                "#B0BEC5",
                "#B0BEC5",
                "#B0BEC5",
                "#B0BEC5",
                "#B0BEC5",
                "#B0BEC5",
                "#B0BEC5",
                "#B0BEC5",
                "#B0BEC5",
                "#B0BEC5",
                "#B0BEC5",
                "#B0BEC5",
                "#B0BEC5",
                "#B0BEC5",
                "#B0BEC5",
                "#B0BEC5",
                "#B0BEC5",
                "#B0BEC5",
                "#B0BEC5",
                "#B0BEC5",
                "red",
                "#B0BEC5",
                "#B0BEC5",
                "#B0BEC5",
                "#B0BEC5",
                "#B0BEC5",
                "#B0BEC5",
                "#B0BEC5",
                "#B0BEC5",
                "#B0BEC5",
                "#B0BEC5",
                "#B0BEC5",
                "#B0BEC5",
                "#B0BEC5",
                "#B0BEC5",
                "#B0BEC5",
                "#B0BEC5",
                "#B0BEC5",
                "#B0BEC5",
                "#B0BEC5",
                "#B0BEC5",
                "#B0BEC5",
                "#B0BEC5",
                "#B0BEC5",
                "#B0BEC5",
                "#B0BEC5",
                "#B0BEC5",
                "#B0BEC5",
                "#B0BEC5",
                "#B0BEC5",
                "#B0BEC5",
                "#B0BEC5",
                "#B0BEC5",
                "#B0BEC5",
                "#B0BEC5",
                "#B0BEC5",
                "#B0BEC5",
                "#B0BEC5",
                "#B0BEC5",
                "#B0BEC5",
                "#B0BEC5",
                "#B0BEC5",
                "#B0BEC5",
                "#B0BEC5",
                "#B0BEC5",
                "#B0BEC5",
                "#B0BEC5",
                "#B0BEC5",
                "#B0BEC5",
                "#B0BEC5",
                "#B0BEC5",
                "#B0BEC5",
                "#B0BEC5",
                "#B0BEC5",
                "#B0BEC5"
               ]
              ]
             }
            ],
            "label": "Topic 30",
            "method": "update"
           },
           {
            "args": [
             {
              "marker.color": [
               [
                "#B0BEC5",
                "#B0BEC5",
                "#B0BEC5",
                "#B0BEC5",
                "#B0BEC5",
                "#B0BEC5",
                "#B0BEC5",
                "#B0BEC5",
                "#B0BEC5",
                "#B0BEC5",
                "#B0BEC5",
                "#B0BEC5",
                "#B0BEC5",
                "#B0BEC5",
                "#B0BEC5",
                "#B0BEC5",
                "#B0BEC5",
                "#B0BEC5",
                "#B0BEC5",
                "#B0BEC5",
                "#B0BEC5",
                "#B0BEC5",
                "#B0BEC5",
                "#B0BEC5",
                "#B0BEC5",
                "#B0BEC5",
                "#B0BEC5",
                "#B0BEC5",
                "#B0BEC5",
                "#B0BEC5",
                "#B0BEC5",
                "red",
                "#B0BEC5",
                "#B0BEC5",
                "#B0BEC5",
                "#B0BEC5",
                "#B0BEC5",
                "#B0BEC5",
                "#B0BEC5",
                "#B0BEC5",
                "#B0BEC5",
                "#B0BEC5",
                "#B0BEC5",
                "#B0BEC5",
                "#B0BEC5",
                "#B0BEC5",
                "#B0BEC5",
                "#B0BEC5",
                "#B0BEC5",
                "#B0BEC5",
                "#B0BEC5",
                "#B0BEC5",
                "#B0BEC5",
                "#B0BEC5",
                "#B0BEC5",
                "#B0BEC5",
                "#B0BEC5",
                "#B0BEC5",
                "#B0BEC5",
                "#B0BEC5",
                "#B0BEC5",
                "#B0BEC5",
                "#B0BEC5",
                "#B0BEC5",
                "#B0BEC5",
                "#B0BEC5",
                "#B0BEC5",
                "#B0BEC5",
                "#B0BEC5",
                "#B0BEC5",
                "#B0BEC5",
                "#B0BEC5",
                "#B0BEC5",
                "#B0BEC5",
                "#B0BEC5",
                "#B0BEC5",
                "#B0BEC5",
                "#B0BEC5",
                "#B0BEC5",
                "#B0BEC5",
                "#B0BEC5",
                "#B0BEC5",
                "#B0BEC5",
                "#B0BEC5",
                "#B0BEC5"
               ]
              ]
             }
            ],
            "label": "Topic 31",
            "method": "update"
           },
           {
            "args": [
             {
              "marker.color": [
               [
                "#B0BEC5",
                "#B0BEC5",
                "#B0BEC5",
                "#B0BEC5",
                "#B0BEC5",
                "#B0BEC5",
                "#B0BEC5",
                "#B0BEC5",
                "#B0BEC5",
                "#B0BEC5",
                "#B0BEC5",
                "#B0BEC5",
                "#B0BEC5",
                "#B0BEC5",
                "#B0BEC5",
                "#B0BEC5",
                "#B0BEC5",
                "#B0BEC5",
                "#B0BEC5",
                "#B0BEC5",
                "#B0BEC5",
                "#B0BEC5",
                "#B0BEC5",
                "#B0BEC5",
                "#B0BEC5",
                "#B0BEC5",
                "#B0BEC5",
                "#B0BEC5",
                "#B0BEC5",
                "#B0BEC5",
                "#B0BEC5",
                "#B0BEC5",
                "red",
                "#B0BEC5",
                "#B0BEC5",
                "#B0BEC5",
                "#B0BEC5",
                "#B0BEC5",
                "#B0BEC5",
                "#B0BEC5",
                "#B0BEC5",
                "#B0BEC5",
                "#B0BEC5",
                "#B0BEC5",
                "#B0BEC5",
                "#B0BEC5",
                "#B0BEC5",
                "#B0BEC5",
                "#B0BEC5",
                "#B0BEC5",
                "#B0BEC5",
                "#B0BEC5",
                "#B0BEC5",
                "#B0BEC5",
                "#B0BEC5",
                "#B0BEC5",
                "#B0BEC5",
                "#B0BEC5",
                "#B0BEC5",
                "#B0BEC5",
                "#B0BEC5",
                "#B0BEC5",
                "#B0BEC5",
                "#B0BEC5",
                "#B0BEC5",
                "#B0BEC5",
                "#B0BEC5",
                "#B0BEC5",
                "#B0BEC5",
                "#B0BEC5",
                "#B0BEC5",
                "#B0BEC5",
                "#B0BEC5",
                "#B0BEC5",
                "#B0BEC5",
                "#B0BEC5",
                "#B0BEC5",
                "#B0BEC5",
                "#B0BEC5",
                "#B0BEC5",
                "#B0BEC5",
                "#B0BEC5",
                "#B0BEC5",
                "#B0BEC5",
                "#B0BEC5"
               ]
              ]
             }
            ],
            "label": "Topic 32",
            "method": "update"
           },
           {
            "args": [
             {
              "marker.color": [
               [
                "#B0BEC5",
                "#B0BEC5",
                "#B0BEC5",
                "#B0BEC5",
                "#B0BEC5",
                "#B0BEC5",
                "#B0BEC5",
                "#B0BEC5",
                "#B0BEC5",
                "#B0BEC5",
                "#B0BEC5",
                "#B0BEC5",
                "#B0BEC5",
                "#B0BEC5",
                "#B0BEC5",
                "#B0BEC5",
                "#B0BEC5",
                "#B0BEC5",
                "#B0BEC5",
                "#B0BEC5",
                "#B0BEC5",
                "#B0BEC5",
                "#B0BEC5",
                "#B0BEC5",
                "#B0BEC5",
                "#B0BEC5",
                "#B0BEC5",
                "#B0BEC5",
                "#B0BEC5",
                "#B0BEC5",
                "#B0BEC5",
                "#B0BEC5",
                "#B0BEC5",
                "red",
                "#B0BEC5",
                "#B0BEC5",
                "#B0BEC5",
                "#B0BEC5",
                "#B0BEC5",
                "#B0BEC5",
                "#B0BEC5",
                "#B0BEC5",
                "#B0BEC5",
                "#B0BEC5",
                "#B0BEC5",
                "#B0BEC5",
                "#B0BEC5",
                "#B0BEC5",
                "#B0BEC5",
                "#B0BEC5",
                "#B0BEC5",
                "#B0BEC5",
                "#B0BEC5",
                "#B0BEC5",
                "#B0BEC5",
                "#B0BEC5",
                "#B0BEC5",
                "#B0BEC5",
                "#B0BEC5",
                "#B0BEC5",
                "#B0BEC5",
                "#B0BEC5",
                "#B0BEC5",
                "#B0BEC5",
                "#B0BEC5",
                "#B0BEC5",
                "#B0BEC5",
                "#B0BEC5",
                "#B0BEC5",
                "#B0BEC5",
                "#B0BEC5",
                "#B0BEC5",
                "#B0BEC5",
                "#B0BEC5",
                "#B0BEC5",
                "#B0BEC5",
                "#B0BEC5",
                "#B0BEC5",
                "#B0BEC5",
                "#B0BEC5",
                "#B0BEC5",
                "#B0BEC5",
                "#B0BEC5",
                "#B0BEC5",
                "#B0BEC5"
               ]
              ]
             }
            ],
            "label": "Topic 33",
            "method": "update"
           },
           {
            "args": [
             {
              "marker.color": [
               [
                "#B0BEC5",
                "#B0BEC5",
                "#B0BEC5",
                "#B0BEC5",
                "#B0BEC5",
                "#B0BEC5",
                "#B0BEC5",
                "#B0BEC5",
                "#B0BEC5",
                "#B0BEC5",
                "#B0BEC5",
                "#B0BEC5",
                "#B0BEC5",
                "#B0BEC5",
                "#B0BEC5",
                "#B0BEC5",
                "#B0BEC5",
                "#B0BEC5",
                "#B0BEC5",
                "#B0BEC5",
                "#B0BEC5",
                "#B0BEC5",
                "#B0BEC5",
                "#B0BEC5",
                "#B0BEC5",
                "#B0BEC5",
                "#B0BEC5",
                "#B0BEC5",
                "#B0BEC5",
                "#B0BEC5",
                "#B0BEC5",
                "#B0BEC5",
                "#B0BEC5",
                "#B0BEC5",
                "red",
                "#B0BEC5",
                "#B0BEC5",
                "#B0BEC5",
                "#B0BEC5",
                "#B0BEC5",
                "#B0BEC5",
                "#B0BEC5",
                "#B0BEC5",
                "#B0BEC5",
                "#B0BEC5",
                "#B0BEC5",
                "#B0BEC5",
                "#B0BEC5",
                "#B0BEC5",
                "#B0BEC5",
                "#B0BEC5",
                "#B0BEC5",
                "#B0BEC5",
                "#B0BEC5",
                "#B0BEC5",
                "#B0BEC5",
                "#B0BEC5",
                "#B0BEC5",
                "#B0BEC5",
                "#B0BEC5",
                "#B0BEC5",
                "#B0BEC5",
                "#B0BEC5",
                "#B0BEC5",
                "#B0BEC5",
                "#B0BEC5",
                "#B0BEC5",
                "#B0BEC5",
                "#B0BEC5",
                "#B0BEC5",
                "#B0BEC5",
                "#B0BEC5",
                "#B0BEC5",
                "#B0BEC5",
                "#B0BEC5",
                "#B0BEC5",
                "#B0BEC5",
                "#B0BEC5",
                "#B0BEC5",
                "#B0BEC5",
                "#B0BEC5",
                "#B0BEC5",
                "#B0BEC5",
                "#B0BEC5",
                "#B0BEC5"
               ]
              ]
             }
            ],
            "label": "Topic 34",
            "method": "update"
           },
           {
            "args": [
             {
              "marker.color": [
               [
                "#B0BEC5",
                "#B0BEC5",
                "#B0BEC5",
                "#B0BEC5",
                "#B0BEC5",
                "#B0BEC5",
                "#B0BEC5",
                "#B0BEC5",
                "#B0BEC5",
                "#B0BEC5",
                "#B0BEC5",
                "#B0BEC5",
                "#B0BEC5",
                "#B0BEC5",
                "#B0BEC5",
                "#B0BEC5",
                "#B0BEC5",
                "#B0BEC5",
                "#B0BEC5",
                "#B0BEC5",
                "#B0BEC5",
                "#B0BEC5",
                "#B0BEC5",
                "#B0BEC5",
                "#B0BEC5",
                "#B0BEC5",
                "#B0BEC5",
                "#B0BEC5",
                "#B0BEC5",
                "#B0BEC5",
                "#B0BEC5",
                "#B0BEC5",
                "#B0BEC5",
                "#B0BEC5",
                "#B0BEC5",
                "red",
                "#B0BEC5",
                "#B0BEC5",
                "#B0BEC5",
                "#B0BEC5",
                "#B0BEC5",
                "#B0BEC5",
                "#B0BEC5",
                "#B0BEC5",
                "#B0BEC5",
                "#B0BEC5",
                "#B0BEC5",
                "#B0BEC5",
                "#B0BEC5",
                "#B0BEC5",
                "#B0BEC5",
                "#B0BEC5",
                "#B0BEC5",
                "#B0BEC5",
                "#B0BEC5",
                "#B0BEC5",
                "#B0BEC5",
                "#B0BEC5",
                "#B0BEC5",
                "#B0BEC5",
                "#B0BEC5",
                "#B0BEC5",
                "#B0BEC5",
                "#B0BEC5",
                "#B0BEC5",
                "#B0BEC5",
                "#B0BEC5",
                "#B0BEC5",
                "#B0BEC5",
                "#B0BEC5",
                "#B0BEC5",
                "#B0BEC5",
                "#B0BEC5",
                "#B0BEC5",
                "#B0BEC5",
                "#B0BEC5",
                "#B0BEC5",
                "#B0BEC5",
                "#B0BEC5",
                "#B0BEC5",
                "#B0BEC5",
                "#B0BEC5",
                "#B0BEC5",
                "#B0BEC5",
                "#B0BEC5"
               ]
              ]
             }
            ],
            "label": "Topic 35",
            "method": "update"
           },
           {
            "args": [
             {
              "marker.color": [
               [
                "#B0BEC5",
                "#B0BEC5",
                "#B0BEC5",
                "#B0BEC5",
                "#B0BEC5",
                "#B0BEC5",
                "#B0BEC5",
                "#B0BEC5",
                "#B0BEC5",
                "#B0BEC5",
                "#B0BEC5",
                "#B0BEC5",
                "#B0BEC5",
                "#B0BEC5",
                "#B0BEC5",
                "#B0BEC5",
                "#B0BEC5",
                "#B0BEC5",
                "#B0BEC5",
                "#B0BEC5",
                "#B0BEC5",
                "#B0BEC5",
                "#B0BEC5",
                "#B0BEC5",
                "#B0BEC5",
                "#B0BEC5",
                "#B0BEC5",
                "#B0BEC5",
                "#B0BEC5",
                "#B0BEC5",
                "#B0BEC5",
                "#B0BEC5",
                "#B0BEC5",
                "#B0BEC5",
                "#B0BEC5",
                "#B0BEC5",
                "red",
                "#B0BEC5",
                "#B0BEC5",
                "#B0BEC5",
                "#B0BEC5",
                "#B0BEC5",
                "#B0BEC5",
                "#B0BEC5",
                "#B0BEC5",
                "#B0BEC5",
                "#B0BEC5",
                "#B0BEC5",
                "#B0BEC5",
                "#B0BEC5",
                "#B0BEC5",
                "#B0BEC5",
                "#B0BEC5",
                "#B0BEC5",
                "#B0BEC5",
                "#B0BEC5",
                "#B0BEC5",
                "#B0BEC5",
                "#B0BEC5",
                "#B0BEC5",
                "#B0BEC5",
                "#B0BEC5",
                "#B0BEC5",
                "#B0BEC5",
                "#B0BEC5",
                "#B0BEC5",
                "#B0BEC5",
                "#B0BEC5",
                "#B0BEC5",
                "#B0BEC5",
                "#B0BEC5",
                "#B0BEC5",
                "#B0BEC5",
                "#B0BEC5",
                "#B0BEC5",
                "#B0BEC5",
                "#B0BEC5",
                "#B0BEC5",
                "#B0BEC5",
                "#B0BEC5",
                "#B0BEC5",
                "#B0BEC5",
                "#B0BEC5",
                "#B0BEC5",
                "#B0BEC5"
               ]
              ]
             }
            ],
            "label": "Topic 36",
            "method": "update"
           },
           {
            "args": [
             {
              "marker.color": [
               [
                "#B0BEC5",
                "#B0BEC5",
                "#B0BEC5",
                "#B0BEC5",
                "#B0BEC5",
                "#B0BEC5",
                "#B0BEC5",
                "#B0BEC5",
                "#B0BEC5",
                "#B0BEC5",
                "#B0BEC5",
                "#B0BEC5",
                "#B0BEC5",
                "#B0BEC5",
                "#B0BEC5",
                "#B0BEC5",
                "#B0BEC5",
                "#B0BEC5",
                "#B0BEC5",
                "#B0BEC5",
                "#B0BEC5",
                "#B0BEC5",
                "#B0BEC5",
                "#B0BEC5",
                "#B0BEC5",
                "#B0BEC5",
                "#B0BEC5",
                "#B0BEC5",
                "#B0BEC5",
                "#B0BEC5",
                "#B0BEC5",
                "#B0BEC5",
                "#B0BEC5",
                "#B0BEC5",
                "#B0BEC5",
                "#B0BEC5",
                "#B0BEC5",
                "red",
                "#B0BEC5",
                "#B0BEC5",
                "#B0BEC5",
                "#B0BEC5",
                "#B0BEC5",
                "#B0BEC5",
                "#B0BEC5",
                "#B0BEC5",
                "#B0BEC5",
                "#B0BEC5",
                "#B0BEC5",
                "#B0BEC5",
                "#B0BEC5",
                "#B0BEC5",
                "#B0BEC5",
                "#B0BEC5",
                "#B0BEC5",
                "#B0BEC5",
                "#B0BEC5",
                "#B0BEC5",
                "#B0BEC5",
                "#B0BEC5",
                "#B0BEC5",
                "#B0BEC5",
                "#B0BEC5",
                "#B0BEC5",
                "#B0BEC5",
                "#B0BEC5",
                "#B0BEC5",
                "#B0BEC5",
                "#B0BEC5",
                "#B0BEC5",
                "#B0BEC5",
                "#B0BEC5",
                "#B0BEC5",
                "#B0BEC5",
                "#B0BEC5",
                "#B0BEC5",
                "#B0BEC5",
                "#B0BEC5",
                "#B0BEC5",
                "#B0BEC5",
                "#B0BEC5",
                "#B0BEC5",
                "#B0BEC5",
                "#B0BEC5",
                "#B0BEC5"
               ]
              ]
             }
            ],
            "label": "Topic 37",
            "method": "update"
           },
           {
            "args": [
             {
              "marker.color": [
               [
                "#B0BEC5",
                "#B0BEC5",
                "#B0BEC5",
                "#B0BEC5",
                "#B0BEC5",
                "#B0BEC5",
                "#B0BEC5",
                "#B0BEC5",
                "#B0BEC5",
                "#B0BEC5",
                "#B0BEC5",
                "#B0BEC5",
                "#B0BEC5",
                "#B0BEC5",
                "#B0BEC5",
                "#B0BEC5",
                "#B0BEC5",
                "#B0BEC5",
                "#B0BEC5",
                "#B0BEC5",
                "#B0BEC5",
                "#B0BEC5",
                "#B0BEC5",
                "#B0BEC5",
                "#B0BEC5",
                "#B0BEC5",
                "#B0BEC5",
                "#B0BEC5",
                "#B0BEC5",
                "#B0BEC5",
                "#B0BEC5",
                "#B0BEC5",
                "#B0BEC5",
                "#B0BEC5",
                "#B0BEC5",
                "#B0BEC5",
                "#B0BEC5",
                "#B0BEC5",
                "red",
                "#B0BEC5",
                "#B0BEC5",
                "#B0BEC5",
                "#B0BEC5",
                "#B0BEC5",
                "#B0BEC5",
                "#B0BEC5",
                "#B0BEC5",
                "#B0BEC5",
                "#B0BEC5",
                "#B0BEC5",
                "#B0BEC5",
                "#B0BEC5",
                "#B0BEC5",
                "#B0BEC5",
                "#B0BEC5",
                "#B0BEC5",
                "#B0BEC5",
                "#B0BEC5",
                "#B0BEC5",
                "#B0BEC5",
                "#B0BEC5",
                "#B0BEC5",
                "#B0BEC5",
                "#B0BEC5",
                "#B0BEC5",
                "#B0BEC5",
                "#B0BEC5",
                "#B0BEC5",
                "#B0BEC5",
                "#B0BEC5",
                "#B0BEC5",
                "#B0BEC5",
                "#B0BEC5",
                "#B0BEC5",
                "#B0BEC5",
                "#B0BEC5",
                "#B0BEC5",
                "#B0BEC5",
                "#B0BEC5",
                "#B0BEC5",
                "#B0BEC5",
                "#B0BEC5",
                "#B0BEC5",
                "#B0BEC5",
                "#B0BEC5"
               ]
              ]
             }
            ],
            "label": "Topic 38",
            "method": "update"
           },
           {
            "args": [
             {
              "marker.color": [
               [
                "#B0BEC5",
                "#B0BEC5",
                "#B0BEC5",
                "#B0BEC5",
                "#B0BEC5",
                "#B0BEC5",
                "#B0BEC5",
                "#B0BEC5",
                "#B0BEC5",
                "#B0BEC5",
                "#B0BEC5",
                "#B0BEC5",
                "#B0BEC5",
                "#B0BEC5",
                "#B0BEC5",
                "#B0BEC5",
                "#B0BEC5",
                "#B0BEC5",
                "#B0BEC5",
                "#B0BEC5",
                "#B0BEC5",
                "#B0BEC5",
                "#B0BEC5",
                "#B0BEC5",
                "#B0BEC5",
                "#B0BEC5",
                "#B0BEC5",
                "#B0BEC5",
                "#B0BEC5",
                "#B0BEC5",
                "#B0BEC5",
                "#B0BEC5",
                "#B0BEC5",
                "#B0BEC5",
                "#B0BEC5",
                "#B0BEC5",
                "#B0BEC5",
                "#B0BEC5",
                "#B0BEC5",
                "red",
                "#B0BEC5",
                "#B0BEC5",
                "#B0BEC5",
                "#B0BEC5",
                "#B0BEC5",
                "#B0BEC5",
                "#B0BEC5",
                "#B0BEC5",
                "#B0BEC5",
                "#B0BEC5",
                "#B0BEC5",
                "#B0BEC5",
                "#B0BEC5",
                "#B0BEC5",
                "#B0BEC5",
                "#B0BEC5",
                "#B0BEC5",
                "#B0BEC5",
                "#B0BEC5",
                "#B0BEC5",
                "#B0BEC5",
                "#B0BEC5",
                "#B0BEC5",
                "#B0BEC5",
                "#B0BEC5",
                "#B0BEC5",
                "#B0BEC5",
                "#B0BEC5",
                "#B0BEC5",
                "#B0BEC5",
                "#B0BEC5",
                "#B0BEC5",
                "#B0BEC5",
                "#B0BEC5",
                "#B0BEC5",
                "#B0BEC5",
                "#B0BEC5",
                "#B0BEC5",
                "#B0BEC5",
                "#B0BEC5",
                "#B0BEC5",
                "#B0BEC5",
                "#B0BEC5",
                "#B0BEC5",
                "#B0BEC5"
               ]
              ]
             }
            ],
            "label": "Topic 39",
            "method": "update"
           },
           {
            "args": [
             {
              "marker.color": [
               [
                "#B0BEC5",
                "#B0BEC5",
                "#B0BEC5",
                "#B0BEC5",
                "#B0BEC5",
                "#B0BEC5",
                "#B0BEC5",
                "#B0BEC5",
                "#B0BEC5",
                "#B0BEC5",
                "#B0BEC5",
                "#B0BEC5",
                "#B0BEC5",
                "#B0BEC5",
                "#B0BEC5",
                "#B0BEC5",
                "#B0BEC5",
                "#B0BEC5",
                "#B0BEC5",
                "#B0BEC5",
                "#B0BEC5",
                "#B0BEC5",
                "#B0BEC5",
                "#B0BEC5",
                "#B0BEC5",
                "#B0BEC5",
                "#B0BEC5",
                "#B0BEC5",
                "#B0BEC5",
                "#B0BEC5",
                "#B0BEC5",
                "#B0BEC5",
                "#B0BEC5",
                "#B0BEC5",
                "#B0BEC5",
                "#B0BEC5",
                "#B0BEC5",
                "#B0BEC5",
                "#B0BEC5",
                "#B0BEC5",
                "red",
                "#B0BEC5",
                "#B0BEC5",
                "#B0BEC5",
                "#B0BEC5",
                "#B0BEC5",
                "#B0BEC5",
                "#B0BEC5",
                "#B0BEC5",
                "#B0BEC5",
                "#B0BEC5",
                "#B0BEC5",
                "#B0BEC5",
                "#B0BEC5",
                "#B0BEC5",
                "#B0BEC5",
                "#B0BEC5",
                "#B0BEC5",
                "#B0BEC5",
                "#B0BEC5",
                "#B0BEC5",
                "#B0BEC5",
                "#B0BEC5",
                "#B0BEC5",
                "#B0BEC5",
                "#B0BEC5",
                "#B0BEC5",
                "#B0BEC5",
                "#B0BEC5",
                "#B0BEC5",
                "#B0BEC5",
                "#B0BEC5",
                "#B0BEC5",
                "#B0BEC5",
                "#B0BEC5",
                "#B0BEC5",
                "#B0BEC5",
                "#B0BEC5",
                "#B0BEC5",
                "#B0BEC5",
                "#B0BEC5",
                "#B0BEC5",
                "#B0BEC5",
                "#B0BEC5",
                "#B0BEC5"
               ]
              ]
             }
            ],
            "label": "Topic 40",
            "method": "update"
           },
           {
            "args": [
             {
              "marker.color": [
               [
                "#B0BEC5",
                "#B0BEC5",
                "#B0BEC5",
                "#B0BEC5",
                "#B0BEC5",
                "#B0BEC5",
                "#B0BEC5",
                "#B0BEC5",
                "#B0BEC5",
                "#B0BEC5",
                "#B0BEC5",
                "#B0BEC5",
                "#B0BEC5",
                "#B0BEC5",
                "#B0BEC5",
                "#B0BEC5",
                "#B0BEC5",
                "#B0BEC5",
                "#B0BEC5",
                "#B0BEC5",
                "#B0BEC5",
                "#B0BEC5",
                "#B0BEC5",
                "#B0BEC5",
                "#B0BEC5",
                "#B0BEC5",
                "#B0BEC5",
                "#B0BEC5",
                "#B0BEC5",
                "#B0BEC5",
                "#B0BEC5",
                "#B0BEC5",
                "#B0BEC5",
                "#B0BEC5",
                "#B0BEC5",
                "#B0BEC5",
                "#B0BEC5",
                "#B0BEC5",
                "#B0BEC5",
                "#B0BEC5",
                "#B0BEC5",
                "red",
                "#B0BEC5",
                "#B0BEC5",
                "#B0BEC5",
                "#B0BEC5",
                "#B0BEC5",
                "#B0BEC5",
                "#B0BEC5",
                "#B0BEC5",
                "#B0BEC5",
                "#B0BEC5",
                "#B0BEC5",
                "#B0BEC5",
                "#B0BEC5",
                "#B0BEC5",
                "#B0BEC5",
                "#B0BEC5",
                "#B0BEC5",
                "#B0BEC5",
                "#B0BEC5",
                "#B0BEC5",
                "#B0BEC5",
                "#B0BEC5",
                "#B0BEC5",
                "#B0BEC5",
                "#B0BEC5",
                "#B0BEC5",
                "#B0BEC5",
                "#B0BEC5",
                "#B0BEC5",
                "#B0BEC5",
                "#B0BEC5",
                "#B0BEC5",
                "#B0BEC5",
                "#B0BEC5",
                "#B0BEC5",
                "#B0BEC5",
                "#B0BEC5",
                "#B0BEC5",
                "#B0BEC5",
                "#B0BEC5",
                "#B0BEC5",
                "#B0BEC5",
                "#B0BEC5"
               ]
              ]
             }
            ],
            "label": "Topic 41",
            "method": "update"
           },
           {
            "args": [
             {
              "marker.color": [
               [
                "#B0BEC5",
                "#B0BEC5",
                "#B0BEC5",
                "#B0BEC5",
                "#B0BEC5",
                "#B0BEC5",
                "#B0BEC5",
                "#B0BEC5",
                "#B0BEC5",
                "#B0BEC5",
                "#B0BEC5",
                "#B0BEC5",
                "#B0BEC5",
                "#B0BEC5",
                "#B0BEC5",
                "#B0BEC5",
                "#B0BEC5",
                "#B0BEC5",
                "#B0BEC5",
                "#B0BEC5",
                "#B0BEC5",
                "#B0BEC5",
                "#B0BEC5",
                "#B0BEC5",
                "#B0BEC5",
                "#B0BEC5",
                "#B0BEC5",
                "#B0BEC5",
                "#B0BEC5",
                "#B0BEC5",
                "#B0BEC5",
                "#B0BEC5",
                "#B0BEC5",
                "#B0BEC5",
                "#B0BEC5",
                "#B0BEC5",
                "#B0BEC5",
                "#B0BEC5",
                "#B0BEC5",
                "#B0BEC5",
                "#B0BEC5",
                "#B0BEC5",
                "red",
                "#B0BEC5",
                "#B0BEC5",
                "#B0BEC5",
                "#B0BEC5",
                "#B0BEC5",
                "#B0BEC5",
                "#B0BEC5",
                "#B0BEC5",
                "#B0BEC5",
                "#B0BEC5",
                "#B0BEC5",
                "#B0BEC5",
                "#B0BEC5",
                "#B0BEC5",
                "#B0BEC5",
                "#B0BEC5",
                "#B0BEC5",
                "#B0BEC5",
                "#B0BEC5",
                "#B0BEC5",
                "#B0BEC5",
                "#B0BEC5",
                "#B0BEC5",
                "#B0BEC5",
                "#B0BEC5",
                "#B0BEC5",
                "#B0BEC5",
                "#B0BEC5",
                "#B0BEC5",
                "#B0BEC5",
                "#B0BEC5",
                "#B0BEC5",
                "#B0BEC5",
                "#B0BEC5",
                "#B0BEC5",
                "#B0BEC5",
                "#B0BEC5",
                "#B0BEC5",
                "#B0BEC5",
                "#B0BEC5",
                "#B0BEC5",
                "#B0BEC5"
               ]
              ]
             }
            ],
            "label": "Topic 42",
            "method": "update"
           },
           {
            "args": [
             {
              "marker.color": [
               [
                "#B0BEC5",
                "#B0BEC5",
                "#B0BEC5",
                "#B0BEC5",
                "#B0BEC5",
                "#B0BEC5",
                "#B0BEC5",
                "#B0BEC5",
                "#B0BEC5",
                "#B0BEC5",
                "#B0BEC5",
                "#B0BEC5",
                "#B0BEC5",
                "#B0BEC5",
                "#B0BEC5",
                "#B0BEC5",
                "#B0BEC5",
                "#B0BEC5",
                "#B0BEC5",
                "#B0BEC5",
                "#B0BEC5",
                "#B0BEC5",
                "#B0BEC5",
                "#B0BEC5",
                "#B0BEC5",
                "#B0BEC5",
                "#B0BEC5",
                "#B0BEC5",
                "#B0BEC5",
                "#B0BEC5",
                "#B0BEC5",
                "#B0BEC5",
                "#B0BEC5",
                "#B0BEC5",
                "#B0BEC5",
                "#B0BEC5",
                "#B0BEC5",
                "#B0BEC5",
                "#B0BEC5",
                "#B0BEC5",
                "#B0BEC5",
                "#B0BEC5",
                "#B0BEC5",
                "red",
                "#B0BEC5",
                "#B0BEC5",
                "#B0BEC5",
                "#B0BEC5",
                "#B0BEC5",
                "#B0BEC5",
                "#B0BEC5",
                "#B0BEC5",
                "#B0BEC5",
                "#B0BEC5",
                "#B0BEC5",
                "#B0BEC5",
                "#B0BEC5",
                "#B0BEC5",
                "#B0BEC5",
                "#B0BEC5",
                "#B0BEC5",
                "#B0BEC5",
                "#B0BEC5",
                "#B0BEC5",
                "#B0BEC5",
                "#B0BEC5",
                "#B0BEC5",
                "#B0BEC5",
                "#B0BEC5",
                "#B0BEC5",
                "#B0BEC5",
                "#B0BEC5",
                "#B0BEC5",
                "#B0BEC5",
                "#B0BEC5",
                "#B0BEC5",
                "#B0BEC5",
                "#B0BEC5",
                "#B0BEC5",
                "#B0BEC5",
                "#B0BEC5",
                "#B0BEC5",
                "#B0BEC5",
                "#B0BEC5",
                "#B0BEC5"
               ]
              ]
             }
            ],
            "label": "Topic 43",
            "method": "update"
           },
           {
            "args": [
             {
              "marker.color": [
               [
                "#B0BEC5",
                "#B0BEC5",
                "#B0BEC5",
                "#B0BEC5",
                "#B0BEC5",
                "#B0BEC5",
                "#B0BEC5",
                "#B0BEC5",
                "#B0BEC5",
                "#B0BEC5",
                "#B0BEC5",
                "#B0BEC5",
                "#B0BEC5",
                "#B0BEC5",
                "#B0BEC5",
                "#B0BEC5",
                "#B0BEC5",
                "#B0BEC5",
                "#B0BEC5",
                "#B0BEC5",
                "#B0BEC5",
                "#B0BEC5",
                "#B0BEC5",
                "#B0BEC5",
                "#B0BEC5",
                "#B0BEC5",
                "#B0BEC5",
                "#B0BEC5",
                "#B0BEC5",
                "#B0BEC5",
                "#B0BEC5",
                "#B0BEC5",
                "#B0BEC5",
                "#B0BEC5",
                "#B0BEC5",
                "#B0BEC5",
                "#B0BEC5",
                "#B0BEC5",
                "#B0BEC5",
                "#B0BEC5",
                "#B0BEC5",
                "#B0BEC5",
                "#B0BEC5",
                "#B0BEC5",
                "red",
                "#B0BEC5",
                "#B0BEC5",
                "#B0BEC5",
                "#B0BEC5",
                "#B0BEC5",
                "#B0BEC5",
                "#B0BEC5",
                "#B0BEC5",
                "#B0BEC5",
                "#B0BEC5",
                "#B0BEC5",
                "#B0BEC5",
                "#B0BEC5",
                "#B0BEC5",
                "#B0BEC5",
                "#B0BEC5",
                "#B0BEC5",
                "#B0BEC5",
                "#B0BEC5",
                "#B0BEC5",
                "#B0BEC5",
                "#B0BEC5",
                "#B0BEC5",
                "#B0BEC5",
                "#B0BEC5",
                "#B0BEC5",
                "#B0BEC5",
                "#B0BEC5",
                "#B0BEC5",
                "#B0BEC5",
                "#B0BEC5",
                "#B0BEC5",
                "#B0BEC5",
                "#B0BEC5",
                "#B0BEC5",
                "#B0BEC5",
                "#B0BEC5",
                "#B0BEC5",
                "#B0BEC5",
                "#B0BEC5"
               ]
              ]
             }
            ],
            "label": "Topic 44",
            "method": "update"
           },
           {
            "args": [
             {
              "marker.color": [
               [
                "#B0BEC5",
                "#B0BEC5",
                "#B0BEC5",
                "#B0BEC5",
                "#B0BEC5",
                "#B0BEC5",
                "#B0BEC5",
                "#B0BEC5",
                "#B0BEC5",
                "#B0BEC5",
                "#B0BEC5",
                "#B0BEC5",
                "#B0BEC5",
                "#B0BEC5",
                "#B0BEC5",
                "#B0BEC5",
                "#B0BEC5",
                "#B0BEC5",
                "#B0BEC5",
                "#B0BEC5",
                "#B0BEC5",
                "#B0BEC5",
                "#B0BEC5",
                "#B0BEC5",
                "#B0BEC5",
                "#B0BEC5",
                "#B0BEC5",
                "#B0BEC5",
                "#B0BEC5",
                "#B0BEC5",
                "#B0BEC5",
                "#B0BEC5",
                "#B0BEC5",
                "#B0BEC5",
                "#B0BEC5",
                "#B0BEC5",
                "#B0BEC5",
                "#B0BEC5",
                "#B0BEC5",
                "#B0BEC5",
                "#B0BEC5",
                "#B0BEC5",
                "#B0BEC5",
                "#B0BEC5",
                "#B0BEC5",
                "red",
                "#B0BEC5",
                "#B0BEC5",
                "#B0BEC5",
                "#B0BEC5",
                "#B0BEC5",
                "#B0BEC5",
                "#B0BEC5",
                "#B0BEC5",
                "#B0BEC5",
                "#B0BEC5",
                "#B0BEC5",
                "#B0BEC5",
                "#B0BEC5",
                "#B0BEC5",
                "#B0BEC5",
                "#B0BEC5",
                "#B0BEC5",
                "#B0BEC5",
                "#B0BEC5",
                "#B0BEC5",
                "#B0BEC5",
                "#B0BEC5",
                "#B0BEC5",
                "#B0BEC5",
                "#B0BEC5",
                "#B0BEC5",
                "#B0BEC5",
                "#B0BEC5",
                "#B0BEC5",
                "#B0BEC5",
                "#B0BEC5",
                "#B0BEC5",
                "#B0BEC5",
                "#B0BEC5",
                "#B0BEC5",
                "#B0BEC5",
                "#B0BEC5",
                "#B0BEC5",
                "#B0BEC5"
               ]
              ]
             }
            ],
            "label": "Topic 45",
            "method": "update"
           },
           {
            "args": [
             {
              "marker.color": [
               [
                "#B0BEC5",
                "#B0BEC5",
                "#B0BEC5",
                "#B0BEC5",
                "#B0BEC5",
                "#B0BEC5",
                "#B0BEC5",
                "#B0BEC5",
                "#B0BEC5",
                "#B0BEC5",
                "#B0BEC5",
                "#B0BEC5",
                "#B0BEC5",
                "#B0BEC5",
                "#B0BEC5",
                "#B0BEC5",
                "#B0BEC5",
                "#B0BEC5",
                "#B0BEC5",
                "#B0BEC5",
                "#B0BEC5",
                "#B0BEC5",
                "#B0BEC5",
                "#B0BEC5",
                "#B0BEC5",
                "#B0BEC5",
                "#B0BEC5",
                "#B0BEC5",
                "#B0BEC5",
                "#B0BEC5",
                "#B0BEC5",
                "#B0BEC5",
                "#B0BEC5",
                "#B0BEC5",
                "#B0BEC5",
                "#B0BEC5",
                "#B0BEC5",
                "#B0BEC5",
                "#B0BEC5",
                "#B0BEC5",
                "#B0BEC5",
                "#B0BEC5",
                "#B0BEC5",
                "#B0BEC5",
                "#B0BEC5",
                "#B0BEC5",
                "red",
                "#B0BEC5",
                "#B0BEC5",
                "#B0BEC5",
                "#B0BEC5",
                "#B0BEC5",
                "#B0BEC5",
                "#B0BEC5",
                "#B0BEC5",
                "#B0BEC5",
                "#B0BEC5",
                "#B0BEC5",
                "#B0BEC5",
                "#B0BEC5",
                "#B0BEC5",
                "#B0BEC5",
                "#B0BEC5",
                "#B0BEC5",
                "#B0BEC5",
                "#B0BEC5",
                "#B0BEC5",
                "#B0BEC5",
                "#B0BEC5",
                "#B0BEC5",
                "#B0BEC5",
                "#B0BEC5",
                "#B0BEC5",
                "#B0BEC5",
                "#B0BEC5",
                "#B0BEC5",
                "#B0BEC5",
                "#B0BEC5",
                "#B0BEC5",
                "#B0BEC5",
                "#B0BEC5",
                "#B0BEC5",
                "#B0BEC5",
                "#B0BEC5",
                "#B0BEC5"
               ]
              ]
             }
            ],
            "label": "Topic 46",
            "method": "update"
           },
           {
            "args": [
             {
              "marker.color": [
               [
                "#B0BEC5",
                "#B0BEC5",
                "#B0BEC5",
                "#B0BEC5",
                "#B0BEC5",
                "#B0BEC5",
                "#B0BEC5",
                "#B0BEC5",
                "#B0BEC5",
                "#B0BEC5",
                "#B0BEC5",
                "#B0BEC5",
                "#B0BEC5",
                "#B0BEC5",
                "#B0BEC5",
                "#B0BEC5",
                "#B0BEC5",
                "#B0BEC5",
                "#B0BEC5",
                "#B0BEC5",
                "#B0BEC5",
                "#B0BEC5",
                "#B0BEC5",
                "#B0BEC5",
                "#B0BEC5",
                "#B0BEC5",
                "#B0BEC5",
                "#B0BEC5",
                "#B0BEC5",
                "#B0BEC5",
                "#B0BEC5",
                "#B0BEC5",
                "#B0BEC5",
                "#B0BEC5",
                "#B0BEC5",
                "#B0BEC5",
                "#B0BEC5",
                "#B0BEC5",
                "#B0BEC5",
                "#B0BEC5",
                "#B0BEC5",
                "#B0BEC5",
                "#B0BEC5",
                "#B0BEC5",
                "#B0BEC5",
                "#B0BEC5",
                "#B0BEC5",
                "red",
                "#B0BEC5",
                "#B0BEC5",
                "#B0BEC5",
                "#B0BEC5",
                "#B0BEC5",
                "#B0BEC5",
                "#B0BEC5",
                "#B0BEC5",
                "#B0BEC5",
                "#B0BEC5",
                "#B0BEC5",
                "#B0BEC5",
                "#B0BEC5",
                "#B0BEC5",
                "#B0BEC5",
                "#B0BEC5",
                "#B0BEC5",
                "#B0BEC5",
                "#B0BEC5",
                "#B0BEC5",
                "#B0BEC5",
                "#B0BEC5",
                "#B0BEC5",
                "#B0BEC5",
                "#B0BEC5",
                "#B0BEC5",
                "#B0BEC5",
                "#B0BEC5",
                "#B0BEC5",
                "#B0BEC5",
                "#B0BEC5",
                "#B0BEC5",
                "#B0BEC5",
                "#B0BEC5",
                "#B0BEC5",
                "#B0BEC5",
                "#B0BEC5"
               ]
              ]
             }
            ],
            "label": "Topic 47",
            "method": "update"
           },
           {
            "args": [
             {
              "marker.color": [
               [
                "#B0BEC5",
                "#B0BEC5",
                "#B0BEC5",
                "#B0BEC5",
                "#B0BEC5",
                "#B0BEC5",
                "#B0BEC5",
                "#B0BEC5",
                "#B0BEC5",
                "#B0BEC5",
                "#B0BEC5",
                "#B0BEC5",
                "#B0BEC5",
                "#B0BEC5",
                "#B0BEC5",
                "#B0BEC5",
                "#B0BEC5",
                "#B0BEC5",
                "#B0BEC5",
                "#B0BEC5",
                "#B0BEC5",
                "#B0BEC5",
                "#B0BEC5",
                "#B0BEC5",
                "#B0BEC5",
                "#B0BEC5",
                "#B0BEC5",
                "#B0BEC5",
                "#B0BEC5",
                "#B0BEC5",
                "#B0BEC5",
                "#B0BEC5",
                "#B0BEC5",
                "#B0BEC5",
                "#B0BEC5",
                "#B0BEC5",
                "#B0BEC5",
                "#B0BEC5",
                "#B0BEC5",
                "#B0BEC5",
                "#B0BEC5",
                "#B0BEC5",
                "#B0BEC5",
                "#B0BEC5",
                "#B0BEC5",
                "#B0BEC5",
                "#B0BEC5",
                "#B0BEC5",
                "red",
                "#B0BEC5",
                "#B0BEC5",
                "#B0BEC5",
                "#B0BEC5",
                "#B0BEC5",
                "#B0BEC5",
                "#B0BEC5",
                "#B0BEC5",
                "#B0BEC5",
                "#B0BEC5",
                "#B0BEC5",
                "#B0BEC5",
                "#B0BEC5",
                "#B0BEC5",
                "#B0BEC5",
                "#B0BEC5",
                "#B0BEC5",
                "#B0BEC5",
                "#B0BEC5",
                "#B0BEC5",
                "#B0BEC5",
                "#B0BEC5",
                "#B0BEC5",
                "#B0BEC5",
                "#B0BEC5",
                "#B0BEC5",
                "#B0BEC5",
                "#B0BEC5",
                "#B0BEC5",
                "#B0BEC5",
                "#B0BEC5",
                "#B0BEC5",
                "#B0BEC5",
                "#B0BEC5",
                "#B0BEC5",
                "#B0BEC5"
               ]
              ]
             }
            ],
            "label": "Topic 48",
            "method": "update"
           },
           {
            "args": [
             {
              "marker.color": [
               [
                "#B0BEC5",
                "#B0BEC5",
                "#B0BEC5",
                "#B0BEC5",
                "#B0BEC5",
                "#B0BEC5",
                "#B0BEC5",
                "#B0BEC5",
                "#B0BEC5",
                "#B0BEC5",
                "#B0BEC5",
                "#B0BEC5",
                "#B0BEC5",
                "#B0BEC5",
                "#B0BEC5",
                "#B0BEC5",
                "#B0BEC5",
                "#B0BEC5",
                "#B0BEC5",
                "#B0BEC5",
                "#B0BEC5",
                "#B0BEC5",
                "#B0BEC5",
                "#B0BEC5",
                "#B0BEC5",
                "#B0BEC5",
                "#B0BEC5",
                "#B0BEC5",
                "#B0BEC5",
                "#B0BEC5",
                "#B0BEC5",
                "#B0BEC5",
                "#B0BEC5",
                "#B0BEC5",
                "#B0BEC5",
                "#B0BEC5",
                "#B0BEC5",
                "#B0BEC5",
                "#B0BEC5",
                "#B0BEC5",
                "#B0BEC5",
                "#B0BEC5",
                "#B0BEC5",
                "#B0BEC5",
                "#B0BEC5",
                "#B0BEC5",
                "#B0BEC5",
                "#B0BEC5",
                "#B0BEC5",
                "red",
                "#B0BEC5",
                "#B0BEC5",
                "#B0BEC5",
                "#B0BEC5",
                "#B0BEC5",
                "#B0BEC5",
                "#B0BEC5",
                "#B0BEC5",
                "#B0BEC5",
                "#B0BEC5",
                "#B0BEC5",
                "#B0BEC5",
                "#B0BEC5",
                "#B0BEC5",
                "#B0BEC5",
                "#B0BEC5",
                "#B0BEC5",
                "#B0BEC5",
                "#B0BEC5",
                "#B0BEC5",
                "#B0BEC5",
                "#B0BEC5",
                "#B0BEC5",
                "#B0BEC5",
                "#B0BEC5",
                "#B0BEC5",
                "#B0BEC5",
                "#B0BEC5",
                "#B0BEC5",
                "#B0BEC5",
                "#B0BEC5",
                "#B0BEC5",
                "#B0BEC5",
                "#B0BEC5",
                "#B0BEC5"
               ]
              ]
             }
            ],
            "label": "Topic 49",
            "method": "update"
           },
           {
            "args": [
             {
              "marker.color": [
               [
                "#B0BEC5",
                "#B0BEC5",
                "#B0BEC5",
                "#B0BEC5",
                "#B0BEC5",
                "#B0BEC5",
                "#B0BEC5",
                "#B0BEC5",
                "#B0BEC5",
                "#B0BEC5",
                "#B0BEC5",
                "#B0BEC5",
                "#B0BEC5",
                "#B0BEC5",
                "#B0BEC5",
                "#B0BEC5",
                "#B0BEC5",
                "#B0BEC5",
                "#B0BEC5",
                "#B0BEC5",
                "#B0BEC5",
                "#B0BEC5",
                "#B0BEC5",
                "#B0BEC5",
                "#B0BEC5",
                "#B0BEC5",
                "#B0BEC5",
                "#B0BEC5",
                "#B0BEC5",
                "#B0BEC5",
                "#B0BEC5",
                "#B0BEC5",
                "#B0BEC5",
                "#B0BEC5",
                "#B0BEC5",
                "#B0BEC5",
                "#B0BEC5",
                "#B0BEC5",
                "#B0BEC5",
                "#B0BEC5",
                "#B0BEC5",
                "#B0BEC5",
                "#B0BEC5",
                "#B0BEC5",
                "#B0BEC5",
                "#B0BEC5",
                "#B0BEC5",
                "#B0BEC5",
                "#B0BEC5",
                "#B0BEC5",
                "red",
                "#B0BEC5",
                "#B0BEC5",
                "#B0BEC5",
                "#B0BEC5",
                "#B0BEC5",
                "#B0BEC5",
                "#B0BEC5",
                "#B0BEC5",
                "#B0BEC5",
                "#B0BEC5",
                "#B0BEC5",
                "#B0BEC5",
                "#B0BEC5",
                "#B0BEC5",
                "#B0BEC5",
                "#B0BEC5",
                "#B0BEC5",
                "#B0BEC5",
                "#B0BEC5",
                "#B0BEC5",
                "#B0BEC5",
                "#B0BEC5",
                "#B0BEC5",
                "#B0BEC5",
                "#B0BEC5",
                "#B0BEC5",
                "#B0BEC5",
                "#B0BEC5",
                "#B0BEC5",
                "#B0BEC5",
                "#B0BEC5",
                "#B0BEC5",
                "#B0BEC5",
                "#B0BEC5"
               ]
              ]
             }
            ],
            "label": "Topic 50",
            "method": "update"
           },
           {
            "args": [
             {
              "marker.color": [
               [
                "#B0BEC5",
                "#B0BEC5",
                "#B0BEC5",
                "#B0BEC5",
                "#B0BEC5",
                "#B0BEC5",
                "#B0BEC5",
                "#B0BEC5",
                "#B0BEC5",
                "#B0BEC5",
                "#B0BEC5",
                "#B0BEC5",
                "#B0BEC5",
                "#B0BEC5",
                "#B0BEC5",
                "#B0BEC5",
                "#B0BEC5",
                "#B0BEC5",
                "#B0BEC5",
                "#B0BEC5",
                "#B0BEC5",
                "#B0BEC5",
                "#B0BEC5",
                "#B0BEC5",
                "#B0BEC5",
                "#B0BEC5",
                "#B0BEC5",
                "#B0BEC5",
                "#B0BEC5",
                "#B0BEC5",
                "#B0BEC5",
                "#B0BEC5",
                "#B0BEC5",
                "#B0BEC5",
                "#B0BEC5",
                "#B0BEC5",
                "#B0BEC5",
                "#B0BEC5",
                "#B0BEC5",
                "#B0BEC5",
                "#B0BEC5",
                "#B0BEC5",
                "#B0BEC5",
                "#B0BEC5",
                "#B0BEC5",
                "#B0BEC5",
                "#B0BEC5",
                "#B0BEC5",
                "#B0BEC5",
                "#B0BEC5",
                "#B0BEC5",
                "red",
                "#B0BEC5",
                "#B0BEC5",
                "#B0BEC5",
                "#B0BEC5",
                "#B0BEC5",
                "#B0BEC5",
                "#B0BEC5",
                "#B0BEC5",
                "#B0BEC5",
                "#B0BEC5",
                "#B0BEC5",
                "#B0BEC5",
                "#B0BEC5",
                "#B0BEC5",
                "#B0BEC5",
                "#B0BEC5",
                "#B0BEC5",
                "#B0BEC5",
                "#B0BEC5",
                "#B0BEC5",
                "#B0BEC5",
                "#B0BEC5",
                "#B0BEC5",
                "#B0BEC5",
                "#B0BEC5",
                "#B0BEC5",
                "#B0BEC5",
                "#B0BEC5",
                "#B0BEC5",
                "#B0BEC5",
                "#B0BEC5",
                "#B0BEC5",
                "#B0BEC5"
               ]
              ]
             }
            ],
            "label": "Topic 51",
            "method": "update"
           },
           {
            "args": [
             {
              "marker.color": [
               [
                "#B0BEC5",
                "#B0BEC5",
                "#B0BEC5",
                "#B0BEC5",
                "#B0BEC5",
                "#B0BEC5",
                "#B0BEC5",
                "#B0BEC5",
                "#B0BEC5",
                "#B0BEC5",
                "#B0BEC5",
                "#B0BEC5",
                "#B0BEC5",
                "#B0BEC5",
                "#B0BEC5",
                "#B0BEC5",
                "#B0BEC5",
                "#B0BEC5",
                "#B0BEC5",
                "#B0BEC5",
                "#B0BEC5",
                "#B0BEC5",
                "#B0BEC5",
                "#B0BEC5",
                "#B0BEC5",
                "#B0BEC5",
                "#B0BEC5",
                "#B0BEC5",
                "#B0BEC5",
                "#B0BEC5",
                "#B0BEC5",
                "#B0BEC5",
                "#B0BEC5",
                "#B0BEC5",
                "#B0BEC5",
                "#B0BEC5",
                "#B0BEC5",
                "#B0BEC5",
                "#B0BEC5",
                "#B0BEC5",
                "#B0BEC5",
                "#B0BEC5",
                "#B0BEC5",
                "#B0BEC5",
                "#B0BEC5",
                "#B0BEC5",
                "#B0BEC5",
                "#B0BEC5",
                "#B0BEC5",
                "#B0BEC5",
                "#B0BEC5",
                "#B0BEC5",
                "red",
                "#B0BEC5",
                "#B0BEC5",
                "#B0BEC5",
                "#B0BEC5",
                "#B0BEC5",
                "#B0BEC5",
                "#B0BEC5",
                "#B0BEC5",
                "#B0BEC5",
                "#B0BEC5",
                "#B0BEC5",
                "#B0BEC5",
                "#B0BEC5",
                "#B0BEC5",
                "#B0BEC5",
                "#B0BEC5",
                "#B0BEC5",
                "#B0BEC5",
                "#B0BEC5",
                "#B0BEC5",
                "#B0BEC5",
                "#B0BEC5",
                "#B0BEC5",
                "#B0BEC5",
                "#B0BEC5",
                "#B0BEC5",
                "#B0BEC5",
                "#B0BEC5",
                "#B0BEC5",
                "#B0BEC5",
                "#B0BEC5",
                "#B0BEC5"
               ]
              ]
             }
            ],
            "label": "Topic 52",
            "method": "update"
           },
           {
            "args": [
             {
              "marker.color": [
               [
                "#B0BEC5",
                "#B0BEC5",
                "#B0BEC5",
                "#B0BEC5",
                "#B0BEC5",
                "#B0BEC5",
                "#B0BEC5",
                "#B0BEC5",
                "#B0BEC5",
                "#B0BEC5",
                "#B0BEC5",
                "#B0BEC5",
                "#B0BEC5",
                "#B0BEC5",
                "#B0BEC5",
                "#B0BEC5",
                "#B0BEC5",
                "#B0BEC5",
                "#B0BEC5",
                "#B0BEC5",
                "#B0BEC5",
                "#B0BEC5",
                "#B0BEC5",
                "#B0BEC5",
                "#B0BEC5",
                "#B0BEC5",
                "#B0BEC5",
                "#B0BEC5",
                "#B0BEC5",
                "#B0BEC5",
                "#B0BEC5",
                "#B0BEC5",
                "#B0BEC5",
                "#B0BEC5",
                "#B0BEC5",
                "#B0BEC5",
                "#B0BEC5",
                "#B0BEC5",
                "#B0BEC5",
                "#B0BEC5",
                "#B0BEC5",
                "#B0BEC5",
                "#B0BEC5",
                "#B0BEC5",
                "#B0BEC5",
                "#B0BEC5",
                "#B0BEC5",
                "#B0BEC5",
                "#B0BEC5",
                "#B0BEC5",
                "#B0BEC5",
                "#B0BEC5",
                "#B0BEC5",
                "red",
                "#B0BEC5",
                "#B0BEC5",
                "#B0BEC5",
                "#B0BEC5",
                "#B0BEC5",
                "#B0BEC5",
                "#B0BEC5",
                "#B0BEC5",
                "#B0BEC5",
                "#B0BEC5",
                "#B0BEC5",
                "#B0BEC5",
                "#B0BEC5",
                "#B0BEC5",
                "#B0BEC5",
                "#B0BEC5",
                "#B0BEC5",
                "#B0BEC5",
                "#B0BEC5",
                "#B0BEC5",
                "#B0BEC5",
                "#B0BEC5",
                "#B0BEC5",
                "#B0BEC5",
                "#B0BEC5",
                "#B0BEC5",
                "#B0BEC5",
                "#B0BEC5",
                "#B0BEC5",
                "#B0BEC5",
                "#B0BEC5"
               ]
              ]
             }
            ],
            "label": "Topic 53",
            "method": "update"
           },
           {
            "args": [
             {
              "marker.color": [
               [
                "#B0BEC5",
                "#B0BEC5",
                "#B0BEC5",
                "#B0BEC5",
                "#B0BEC5",
                "#B0BEC5",
                "#B0BEC5",
                "#B0BEC5",
                "#B0BEC5",
                "#B0BEC5",
                "#B0BEC5",
                "#B0BEC5",
                "#B0BEC5",
                "#B0BEC5",
                "#B0BEC5",
                "#B0BEC5",
                "#B0BEC5",
                "#B0BEC5",
                "#B0BEC5",
                "#B0BEC5",
                "#B0BEC5",
                "#B0BEC5",
                "#B0BEC5",
                "#B0BEC5",
                "#B0BEC5",
                "#B0BEC5",
                "#B0BEC5",
                "#B0BEC5",
                "#B0BEC5",
                "#B0BEC5",
                "#B0BEC5",
                "#B0BEC5",
                "#B0BEC5",
                "#B0BEC5",
                "#B0BEC5",
                "#B0BEC5",
                "#B0BEC5",
                "#B0BEC5",
                "#B0BEC5",
                "#B0BEC5",
                "#B0BEC5",
                "#B0BEC5",
                "#B0BEC5",
                "#B0BEC5",
                "#B0BEC5",
                "#B0BEC5",
                "#B0BEC5",
                "#B0BEC5",
                "#B0BEC5",
                "#B0BEC5",
                "#B0BEC5",
                "#B0BEC5",
                "#B0BEC5",
                "#B0BEC5",
                "red",
                "#B0BEC5",
                "#B0BEC5",
                "#B0BEC5",
                "#B0BEC5",
                "#B0BEC5",
                "#B0BEC5",
                "#B0BEC5",
                "#B0BEC5",
                "#B0BEC5",
                "#B0BEC5",
                "#B0BEC5",
                "#B0BEC5",
                "#B0BEC5",
                "#B0BEC5",
                "#B0BEC5",
                "#B0BEC5",
                "#B0BEC5",
                "#B0BEC5",
                "#B0BEC5",
                "#B0BEC5",
                "#B0BEC5",
                "#B0BEC5",
                "#B0BEC5",
                "#B0BEC5",
                "#B0BEC5",
                "#B0BEC5",
                "#B0BEC5",
                "#B0BEC5",
                "#B0BEC5",
                "#B0BEC5"
               ]
              ]
             }
            ],
            "label": "Topic 54",
            "method": "update"
           },
           {
            "args": [
             {
              "marker.color": [
               [
                "#B0BEC5",
                "#B0BEC5",
                "#B0BEC5",
                "#B0BEC5",
                "#B0BEC5",
                "#B0BEC5",
                "#B0BEC5",
                "#B0BEC5",
                "#B0BEC5",
                "#B0BEC5",
                "#B0BEC5",
                "#B0BEC5",
                "#B0BEC5",
                "#B0BEC5",
                "#B0BEC5",
                "#B0BEC5",
                "#B0BEC5",
                "#B0BEC5",
                "#B0BEC5",
                "#B0BEC5",
                "#B0BEC5",
                "#B0BEC5",
                "#B0BEC5",
                "#B0BEC5",
                "#B0BEC5",
                "#B0BEC5",
                "#B0BEC5",
                "#B0BEC5",
                "#B0BEC5",
                "#B0BEC5",
                "#B0BEC5",
                "#B0BEC5",
                "#B0BEC5",
                "#B0BEC5",
                "#B0BEC5",
                "#B0BEC5",
                "#B0BEC5",
                "#B0BEC5",
                "#B0BEC5",
                "#B0BEC5",
                "#B0BEC5",
                "#B0BEC5",
                "#B0BEC5",
                "#B0BEC5",
                "#B0BEC5",
                "#B0BEC5",
                "#B0BEC5",
                "#B0BEC5",
                "#B0BEC5",
                "#B0BEC5",
                "#B0BEC5",
                "#B0BEC5",
                "#B0BEC5",
                "#B0BEC5",
                "#B0BEC5",
                "red",
                "#B0BEC5",
                "#B0BEC5",
                "#B0BEC5",
                "#B0BEC5",
                "#B0BEC5",
                "#B0BEC5",
                "#B0BEC5",
                "#B0BEC5",
                "#B0BEC5",
                "#B0BEC5",
                "#B0BEC5",
                "#B0BEC5",
                "#B0BEC5",
                "#B0BEC5",
                "#B0BEC5",
                "#B0BEC5",
                "#B0BEC5",
                "#B0BEC5",
                "#B0BEC5",
                "#B0BEC5",
                "#B0BEC5",
                "#B0BEC5",
                "#B0BEC5",
                "#B0BEC5",
                "#B0BEC5",
                "#B0BEC5",
                "#B0BEC5",
                "#B0BEC5",
                "#B0BEC5"
               ]
              ]
             }
            ],
            "label": "Topic 55",
            "method": "update"
           },
           {
            "args": [
             {
              "marker.color": [
               [
                "#B0BEC5",
                "#B0BEC5",
                "#B0BEC5",
                "#B0BEC5",
                "#B0BEC5",
                "#B0BEC5",
                "#B0BEC5",
                "#B0BEC5",
                "#B0BEC5",
                "#B0BEC5",
                "#B0BEC5",
                "#B0BEC5",
                "#B0BEC5",
                "#B0BEC5",
                "#B0BEC5",
                "#B0BEC5",
                "#B0BEC5",
                "#B0BEC5",
                "#B0BEC5",
                "#B0BEC5",
                "#B0BEC5",
                "#B0BEC5",
                "#B0BEC5",
                "#B0BEC5",
                "#B0BEC5",
                "#B0BEC5",
                "#B0BEC5",
                "#B0BEC5",
                "#B0BEC5",
                "#B0BEC5",
                "#B0BEC5",
                "#B0BEC5",
                "#B0BEC5",
                "#B0BEC5",
                "#B0BEC5",
                "#B0BEC5",
                "#B0BEC5",
                "#B0BEC5",
                "#B0BEC5",
                "#B0BEC5",
                "#B0BEC5",
                "#B0BEC5",
                "#B0BEC5",
                "#B0BEC5",
                "#B0BEC5",
                "#B0BEC5",
                "#B0BEC5",
                "#B0BEC5",
                "#B0BEC5",
                "#B0BEC5",
                "#B0BEC5",
                "#B0BEC5",
                "#B0BEC5",
                "#B0BEC5",
                "#B0BEC5",
                "#B0BEC5",
                "red",
                "#B0BEC5",
                "#B0BEC5",
                "#B0BEC5",
                "#B0BEC5",
                "#B0BEC5",
                "#B0BEC5",
                "#B0BEC5",
                "#B0BEC5",
                "#B0BEC5",
                "#B0BEC5",
                "#B0BEC5",
                "#B0BEC5",
                "#B0BEC5",
                "#B0BEC5",
                "#B0BEC5",
                "#B0BEC5",
                "#B0BEC5",
                "#B0BEC5",
                "#B0BEC5",
                "#B0BEC5",
                "#B0BEC5",
                "#B0BEC5",
                "#B0BEC5",
                "#B0BEC5",
                "#B0BEC5",
                "#B0BEC5",
                "#B0BEC5",
                "#B0BEC5"
               ]
              ]
             }
            ],
            "label": "Topic 56",
            "method": "update"
           },
           {
            "args": [
             {
              "marker.color": [
               [
                "#B0BEC5",
                "#B0BEC5",
                "#B0BEC5",
                "#B0BEC5",
                "#B0BEC5",
                "#B0BEC5",
                "#B0BEC5",
                "#B0BEC5",
                "#B0BEC5",
                "#B0BEC5",
                "#B0BEC5",
                "#B0BEC5",
                "#B0BEC5",
                "#B0BEC5",
                "#B0BEC5",
                "#B0BEC5",
                "#B0BEC5",
                "#B0BEC5",
                "#B0BEC5",
                "#B0BEC5",
                "#B0BEC5",
                "#B0BEC5",
                "#B0BEC5",
                "#B0BEC5",
                "#B0BEC5",
                "#B0BEC5",
                "#B0BEC5",
                "#B0BEC5",
                "#B0BEC5",
                "#B0BEC5",
                "#B0BEC5",
                "#B0BEC5",
                "#B0BEC5",
                "#B0BEC5",
                "#B0BEC5",
                "#B0BEC5",
                "#B0BEC5",
                "#B0BEC5",
                "#B0BEC5",
                "#B0BEC5",
                "#B0BEC5",
                "#B0BEC5",
                "#B0BEC5",
                "#B0BEC5",
                "#B0BEC5",
                "#B0BEC5",
                "#B0BEC5",
                "#B0BEC5",
                "#B0BEC5",
                "#B0BEC5",
                "#B0BEC5",
                "#B0BEC5",
                "#B0BEC5",
                "#B0BEC5",
                "#B0BEC5",
                "#B0BEC5",
                "#B0BEC5",
                "red",
                "#B0BEC5",
                "#B0BEC5",
                "#B0BEC5",
                "#B0BEC5",
                "#B0BEC5",
                "#B0BEC5",
                "#B0BEC5",
                "#B0BEC5",
                "#B0BEC5",
                "#B0BEC5",
                "#B0BEC5",
                "#B0BEC5",
                "#B0BEC5",
                "#B0BEC5",
                "#B0BEC5",
                "#B0BEC5",
                "#B0BEC5",
                "#B0BEC5",
                "#B0BEC5",
                "#B0BEC5",
                "#B0BEC5",
                "#B0BEC5",
                "#B0BEC5",
                "#B0BEC5",
                "#B0BEC5",
                "#B0BEC5",
                "#B0BEC5"
               ]
              ]
             }
            ],
            "label": "Topic 57",
            "method": "update"
           },
           {
            "args": [
             {
              "marker.color": [
               [
                "#B0BEC5",
                "#B0BEC5",
                "#B0BEC5",
                "#B0BEC5",
                "#B0BEC5",
                "#B0BEC5",
                "#B0BEC5",
                "#B0BEC5",
                "#B0BEC5",
                "#B0BEC5",
                "#B0BEC5",
                "#B0BEC5",
                "#B0BEC5",
                "#B0BEC5",
                "#B0BEC5",
                "#B0BEC5",
                "#B0BEC5",
                "#B0BEC5",
                "#B0BEC5",
                "#B0BEC5",
                "#B0BEC5",
                "#B0BEC5",
                "#B0BEC5",
                "#B0BEC5",
                "#B0BEC5",
                "#B0BEC5",
                "#B0BEC5",
                "#B0BEC5",
                "#B0BEC5",
                "#B0BEC5",
                "#B0BEC5",
                "#B0BEC5",
                "#B0BEC5",
                "#B0BEC5",
                "#B0BEC5",
                "#B0BEC5",
                "#B0BEC5",
                "#B0BEC5",
                "#B0BEC5",
                "#B0BEC5",
                "#B0BEC5",
                "#B0BEC5",
                "#B0BEC5",
                "#B0BEC5",
                "#B0BEC5",
                "#B0BEC5",
                "#B0BEC5",
                "#B0BEC5",
                "#B0BEC5",
                "#B0BEC5",
                "#B0BEC5",
                "#B0BEC5",
                "#B0BEC5",
                "#B0BEC5",
                "#B0BEC5",
                "#B0BEC5",
                "#B0BEC5",
                "#B0BEC5",
                "red",
                "#B0BEC5",
                "#B0BEC5",
                "#B0BEC5",
                "#B0BEC5",
                "#B0BEC5",
                "#B0BEC5",
                "#B0BEC5",
                "#B0BEC5",
                "#B0BEC5",
                "#B0BEC5",
                "#B0BEC5",
                "#B0BEC5",
                "#B0BEC5",
                "#B0BEC5",
                "#B0BEC5",
                "#B0BEC5",
                "#B0BEC5",
                "#B0BEC5",
                "#B0BEC5",
                "#B0BEC5",
                "#B0BEC5",
                "#B0BEC5",
                "#B0BEC5",
                "#B0BEC5",
                "#B0BEC5",
                "#B0BEC5"
               ]
              ]
             }
            ],
            "label": "Topic 58",
            "method": "update"
           },
           {
            "args": [
             {
              "marker.color": [
               [
                "#B0BEC5",
                "#B0BEC5",
                "#B0BEC5",
                "#B0BEC5",
                "#B0BEC5",
                "#B0BEC5",
                "#B0BEC5",
                "#B0BEC5",
                "#B0BEC5",
                "#B0BEC5",
                "#B0BEC5",
                "#B0BEC5",
                "#B0BEC5",
                "#B0BEC5",
                "#B0BEC5",
                "#B0BEC5",
                "#B0BEC5",
                "#B0BEC5",
                "#B0BEC5",
                "#B0BEC5",
                "#B0BEC5",
                "#B0BEC5",
                "#B0BEC5",
                "#B0BEC5",
                "#B0BEC5",
                "#B0BEC5",
                "#B0BEC5",
                "#B0BEC5",
                "#B0BEC5",
                "#B0BEC5",
                "#B0BEC5",
                "#B0BEC5",
                "#B0BEC5",
                "#B0BEC5",
                "#B0BEC5",
                "#B0BEC5",
                "#B0BEC5",
                "#B0BEC5",
                "#B0BEC5",
                "#B0BEC5",
                "#B0BEC5",
                "#B0BEC5",
                "#B0BEC5",
                "#B0BEC5",
                "#B0BEC5",
                "#B0BEC5",
                "#B0BEC5",
                "#B0BEC5",
                "#B0BEC5",
                "#B0BEC5",
                "#B0BEC5",
                "#B0BEC5",
                "#B0BEC5",
                "#B0BEC5",
                "#B0BEC5",
                "#B0BEC5",
                "#B0BEC5",
                "#B0BEC5",
                "#B0BEC5",
                "red",
                "#B0BEC5",
                "#B0BEC5",
                "#B0BEC5",
                "#B0BEC5",
                "#B0BEC5",
                "#B0BEC5",
                "#B0BEC5",
                "#B0BEC5",
                "#B0BEC5",
                "#B0BEC5",
                "#B0BEC5",
                "#B0BEC5",
                "#B0BEC5",
                "#B0BEC5",
                "#B0BEC5",
                "#B0BEC5",
                "#B0BEC5",
                "#B0BEC5",
                "#B0BEC5",
                "#B0BEC5",
                "#B0BEC5",
                "#B0BEC5",
                "#B0BEC5",
                "#B0BEC5",
                "#B0BEC5"
               ]
              ]
             }
            ],
            "label": "Topic 59",
            "method": "update"
           },
           {
            "args": [
             {
              "marker.color": [
               [
                "#B0BEC5",
                "#B0BEC5",
                "#B0BEC5",
                "#B0BEC5",
                "#B0BEC5",
                "#B0BEC5",
                "#B0BEC5",
                "#B0BEC5",
                "#B0BEC5",
                "#B0BEC5",
                "#B0BEC5",
                "#B0BEC5",
                "#B0BEC5",
                "#B0BEC5",
                "#B0BEC5",
                "#B0BEC5",
                "#B0BEC5",
                "#B0BEC5",
                "#B0BEC5",
                "#B0BEC5",
                "#B0BEC5",
                "#B0BEC5",
                "#B0BEC5",
                "#B0BEC5",
                "#B0BEC5",
                "#B0BEC5",
                "#B0BEC5",
                "#B0BEC5",
                "#B0BEC5",
                "#B0BEC5",
                "#B0BEC5",
                "#B0BEC5",
                "#B0BEC5",
                "#B0BEC5",
                "#B0BEC5",
                "#B0BEC5",
                "#B0BEC5",
                "#B0BEC5",
                "#B0BEC5",
                "#B0BEC5",
                "#B0BEC5",
                "#B0BEC5",
                "#B0BEC5",
                "#B0BEC5",
                "#B0BEC5",
                "#B0BEC5",
                "#B0BEC5",
                "#B0BEC5",
                "#B0BEC5",
                "#B0BEC5",
                "#B0BEC5",
                "#B0BEC5",
                "#B0BEC5",
                "#B0BEC5",
                "#B0BEC5",
                "#B0BEC5",
                "#B0BEC5",
                "#B0BEC5",
                "#B0BEC5",
                "#B0BEC5",
                "red",
                "#B0BEC5",
                "#B0BEC5",
                "#B0BEC5",
                "#B0BEC5",
                "#B0BEC5",
                "#B0BEC5",
                "#B0BEC5",
                "#B0BEC5",
                "#B0BEC5",
                "#B0BEC5",
                "#B0BEC5",
                "#B0BEC5",
                "#B0BEC5",
                "#B0BEC5",
                "#B0BEC5",
                "#B0BEC5",
                "#B0BEC5",
                "#B0BEC5",
                "#B0BEC5",
                "#B0BEC5",
                "#B0BEC5",
                "#B0BEC5",
                "#B0BEC5",
                "#B0BEC5"
               ]
              ]
             }
            ],
            "label": "Topic 60",
            "method": "update"
           },
           {
            "args": [
             {
              "marker.color": [
               [
                "#B0BEC5",
                "#B0BEC5",
                "#B0BEC5",
                "#B0BEC5",
                "#B0BEC5",
                "#B0BEC5",
                "#B0BEC5",
                "#B0BEC5",
                "#B0BEC5",
                "#B0BEC5",
                "#B0BEC5",
                "#B0BEC5",
                "#B0BEC5",
                "#B0BEC5",
                "#B0BEC5",
                "#B0BEC5",
                "#B0BEC5",
                "#B0BEC5",
                "#B0BEC5",
                "#B0BEC5",
                "#B0BEC5",
                "#B0BEC5",
                "#B0BEC5",
                "#B0BEC5",
                "#B0BEC5",
                "#B0BEC5",
                "#B0BEC5",
                "#B0BEC5",
                "#B0BEC5",
                "#B0BEC5",
                "#B0BEC5",
                "#B0BEC5",
                "#B0BEC5",
                "#B0BEC5",
                "#B0BEC5",
                "#B0BEC5",
                "#B0BEC5",
                "#B0BEC5",
                "#B0BEC5",
                "#B0BEC5",
                "#B0BEC5",
                "#B0BEC5",
                "#B0BEC5",
                "#B0BEC5",
                "#B0BEC5",
                "#B0BEC5",
                "#B0BEC5",
                "#B0BEC5",
                "#B0BEC5",
                "#B0BEC5",
                "#B0BEC5",
                "#B0BEC5",
                "#B0BEC5",
                "#B0BEC5",
                "#B0BEC5",
                "#B0BEC5",
                "#B0BEC5",
                "#B0BEC5",
                "#B0BEC5",
                "#B0BEC5",
                "#B0BEC5",
                "red",
                "#B0BEC5",
                "#B0BEC5",
                "#B0BEC5",
                "#B0BEC5",
                "#B0BEC5",
                "#B0BEC5",
                "#B0BEC5",
                "#B0BEC5",
                "#B0BEC5",
                "#B0BEC5",
                "#B0BEC5",
                "#B0BEC5",
                "#B0BEC5",
                "#B0BEC5",
                "#B0BEC5",
                "#B0BEC5",
                "#B0BEC5",
                "#B0BEC5",
                "#B0BEC5",
                "#B0BEC5",
                "#B0BEC5",
                "#B0BEC5",
                "#B0BEC5"
               ]
              ]
             }
            ],
            "label": "Topic 61",
            "method": "update"
           },
           {
            "args": [
             {
              "marker.color": [
               [
                "#B0BEC5",
                "#B0BEC5",
                "#B0BEC5",
                "#B0BEC5",
                "#B0BEC5",
                "#B0BEC5",
                "#B0BEC5",
                "#B0BEC5",
                "#B0BEC5",
                "#B0BEC5",
                "#B0BEC5",
                "#B0BEC5",
                "#B0BEC5",
                "#B0BEC5",
                "#B0BEC5",
                "#B0BEC5",
                "#B0BEC5",
                "#B0BEC5",
                "#B0BEC5",
                "#B0BEC5",
                "#B0BEC5",
                "#B0BEC5",
                "#B0BEC5",
                "#B0BEC5",
                "#B0BEC5",
                "#B0BEC5",
                "#B0BEC5",
                "#B0BEC5",
                "#B0BEC5",
                "#B0BEC5",
                "#B0BEC5",
                "#B0BEC5",
                "#B0BEC5",
                "#B0BEC5",
                "#B0BEC5",
                "#B0BEC5",
                "#B0BEC5",
                "#B0BEC5",
                "#B0BEC5",
                "#B0BEC5",
                "#B0BEC5",
                "#B0BEC5",
                "#B0BEC5",
                "#B0BEC5",
                "#B0BEC5",
                "#B0BEC5",
                "#B0BEC5",
                "#B0BEC5",
                "#B0BEC5",
                "#B0BEC5",
                "#B0BEC5",
                "#B0BEC5",
                "#B0BEC5",
                "#B0BEC5",
                "#B0BEC5",
                "#B0BEC5",
                "#B0BEC5",
                "#B0BEC5",
                "#B0BEC5",
                "#B0BEC5",
                "#B0BEC5",
                "#B0BEC5",
                "red",
                "#B0BEC5",
                "#B0BEC5",
                "#B0BEC5",
                "#B0BEC5",
                "#B0BEC5",
                "#B0BEC5",
                "#B0BEC5",
                "#B0BEC5",
                "#B0BEC5",
                "#B0BEC5",
                "#B0BEC5",
                "#B0BEC5",
                "#B0BEC5",
                "#B0BEC5",
                "#B0BEC5",
                "#B0BEC5",
                "#B0BEC5",
                "#B0BEC5",
                "#B0BEC5",
                "#B0BEC5",
                "#B0BEC5",
                "#B0BEC5"
               ]
              ]
             }
            ],
            "label": "Topic 62",
            "method": "update"
           },
           {
            "args": [
             {
              "marker.color": [
               [
                "#B0BEC5",
                "#B0BEC5",
                "#B0BEC5",
                "#B0BEC5",
                "#B0BEC5",
                "#B0BEC5",
                "#B0BEC5",
                "#B0BEC5",
                "#B0BEC5",
                "#B0BEC5",
                "#B0BEC5",
                "#B0BEC5",
                "#B0BEC5",
                "#B0BEC5",
                "#B0BEC5",
                "#B0BEC5",
                "#B0BEC5",
                "#B0BEC5",
                "#B0BEC5",
                "#B0BEC5",
                "#B0BEC5",
                "#B0BEC5",
                "#B0BEC5",
                "#B0BEC5",
                "#B0BEC5",
                "#B0BEC5",
                "#B0BEC5",
                "#B0BEC5",
                "#B0BEC5",
                "#B0BEC5",
                "#B0BEC5",
                "#B0BEC5",
                "#B0BEC5",
                "#B0BEC5",
                "#B0BEC5",
                "#B0BEC5",
                "#B0BEC5",
                "#B0BEC5",
                "#B0BEC5",
                "#B0BEC5",
                "#B0BEC5",
                "#B0BEC5",
                "#B0BEC5",
                "#B0BEC5",
                "#B0BEC5",
                "#B0BEC5",
                "#B0BEC5",
                "#B0BEC5",
                "#B0BEC5",
                "#B0BEC5",
                "#B0BEC5",
                "#B0BEC5",
                "#B0BEC5",
                "#B0BEC5",
                "#B0BEC5",
                "#B0BEC5",
                "#B0BEC5",
                "#B0BEC5",
                "#B0BEC5",
                "#B0BEC5",
                "#B0BEC5",
                "#B0BEC5",
                "#B0BEC5",
                "red",
                "#B0BEC5",
                "#B0BEC5",
                "#B0BEC5",
                "#B0BEC5",
                "#B0BEC5",
                "#B0BEC5",
                "#B0BEC5",
                "#B0BEC5",
                "#B0BEC5",
                "#B0BEC5",
                "#B0BEC5",
                "#B0BEC5",
                "#B0BEC5",
                "#B0BEC5",
                "#B0BEC5",
                "#B0BEC5",
                "#B0BEC5",
                "#B0BEC5",
                "#B0BEC5",
                "#B0BEC5",
                "#B0BEC5"
               ]
              ]
             }
            ],
            "label": "Topic 63",
            "method": "update"
           },
           {
            "args": [
             {
              "marker.color": [
               [
                "#B0BEC5",
                "#B0BEC5",
                "#B0BEC5",
                "#B0BEC5",
                "#B0BEC5",
                "#B0BEC5",
                "#B0BEC5",
                "#B0BEC5",
                "#B0BEC5",
                "#B0BEC5",
                "#B0BEC5",
                "#B0BEC5",
                "#B0BEC5",
                "#B0BEC5",
                "#B0BEC5",
                "#B0BEC5",
                "#B0BEC5",
                "#B0BEC5",
                "#B0BEC5",
                "#B0BEC5",
                "#B0BEC5",
                "#B0BEC5",
                "#B0BEC5",
                "#B0BEC5",
                "#B0BEC5",
                "#B0BEC5",
                "#B0BEC5",
                "#B0BEC5",
                "#B0BEC5",
                "#B0BEC5",
                "#B0BEC5",
                "#B0BEC5",
                "#B0BEC5",
                "#B0BEC5",
                "#B0BEC5",
                "#B0BEC5",
                "#B0BEC5",
                "#B0BEC5",
                "#B0BEC5",
                "#B0BEC5",
                "#B0BEC5",
                "#B0BEC5",
                "#B0BEC5",
                "#B0BEC5",
                "#B0BEC5",
                "#B0BEC5",
                "#B0BEC5",
                "#B0BEC5",
                "#B0BEC5",
                "#B0BEC5",
                "#B0BEC5",
                "#B0BEC5",
                "#B0BEC5",
                "#B0BEC5",
                "#B0BEC5",
                "#B0BEC5",
                "#B0BEC5",
                "#B0BEC5",
                "#B0BEC5",
                "#B0BEC5",
                "#B0BEC5",
                "#B0BEC5",
                "#B0BEC5",
                "#B0BEC5",
                "red",
                "#B0BEC5",
                "#B0BEC5",
                "#B0BEC5",
                "#B0BEC5",
                "#B0BEC5",
                "#B0BEC5",
                "#B0BEC5",
                "#B0BEC5",
                "#B0BEC5",
                "#B0BEC5",
                "#B0BEC5",
                "#B0BEC5",
                "#B0BEC5",
                "#B0BEC5",
                "#B0BEC5",
                "#B0BEC5",
                "#B0BEC5",
                "#B0BEC5",
                "#B0BEC5",
                "#B0BEC5"
               ]
              ]
             }
            ],
            "label": "Topic 64",
            "method": "update"
           },
           {
            "args": [
             {
              "marker.color": [
               [
                "#B0BEC5",
                "#B0BEC5",
                "#B0BEC5",
                "#B0BEC5",
                "#B0BEC5",
                "#B0BEC5",
                "#B0BEC5",
                "#B0BEC5",
                "#B0BEC5",
                "#B0BEC5",
                "#B0BEC5",
                "#B0BEC5",
                "#B0BEC5",
                "#B0BEC5",
                "#B0BEC5",
                "#B0BEC5",
                "#B0BEC5",
                "#B0BEC5",
                "#B0BEC5",
                "#B0BEC5",
                "#B0BEC5",
                "#B0BEC5",
                "#B0BEC5",
                "#B0BEC5",
                "#B0BEC5",
                "#B0BEC5",
                "#B0BEC5",
                "#B0BEC5",
                "#B0BEC5",
                "#B0BEC5",
                "#B0BEC5",
                "#B0BEC5",
                "#B0BEC5",
                "#B0BEC5",
                "#B0BEC5",
                "#B0BEC5",
                "#B0BEC5",
                "#B0BEC5",
                "#B0BEC5",
                "#B0BEC5",
                "#B0BEC5",
                "#B0BEC5",
                "#B0BEC5",
                "#B0BEC5",
                "#B0BEC5",
                "#B0BEC5",
                "#B0BEC5",
                "#B0BEC5",
                "#B0BEC5",
                "#B0BEC5",
                "#B0BEC5",
                "#B0BEC5",
                "#B0BEC5",
                "#B0BEC5",
                "#B0BEC5",
                "#B0BEC5",
                "#B0BEC5",
                "#B0BEC5",
                "#B0BEC5",
                "#B0BEC5",
                "#B0BEC5",
                "#B0BEC5",
                "#B0BEC5",
                "#B0BEC5",
                "#B0BEC5",
                "red",
                "#B0BEC5",
                "#B0BEC5",
                "#B0BEC5",
                "#B0BEC5",
                "#B0BEC5",
                "#B0BEC5",
                "#B0BEC5",
                "#B0BEC5",
                "#B0BEC5",
                "#B0BEC5",
                "#B0BEC5",
                "#B0BEC5",
                "#B0BEC5",
                "#B0BEC5",
                "#B0BEC5",
                "#B0BEC5",
                "#B0BEC5",
                "#B0BEC5",
                "#B0BEC5"
               ]
              ]
             }
            ],
            "label": "Topic 65",
            "method": "update"
           },
           {
            "args": [
             {
              "marker.color": [
               [
                "#B0BEC5",
                "#B0BEC5",
                "#B0BEC5",
                "#B0BEC5",
                "#B0BEC5",
                "#B0BEC5",
                "#B0BEC5",
                "#B0BEC5",
                "#B0BEC5",
                "#B0BEC5",
                "#B0BEC5",
                "#B0BEC5",
                "#B0BEC5",
                "#B0BEC5",
                "#B0BEC5",
                "#B0BEC5",
                "#B0BEC5",
                "#B0BEC5",
                "#B0BEC5",
                "#B0BEC5",
                "#B0BEC5",
                "#B0BEC5",
                "#B0BEC5",
                "#B0BEC5",
                "#B0BEC5",
                "#B0BEC5",
                "#B0BEC5",
                "#B0BEC5",
                "#B0BEC5",
                "#B0BEC5",
                "#B0BEC5",
                "#B0BEC5",
                "#B0BEC5",
                "#B0BEC5",
                "#B0BEC5",
                "#B0BEC5",
                "#B0BEC5",
                "#B0BEC5",
                "#B0BEC5",
                "#B0BEC5",
                "#B0BEC5",
                "#B0BEC5",
                "#B0BEC5",
                "#B0BEC5",
                "#B0BEC5",
                "#B0BEC5",
                "#B0BEC5",
                "#B0BEC5",
                "#B0BEC5",
                "#B0BEC5",
                "#B0BEC5",
                "#B0BEC5",
                "#B0BEC5",
                "#B0BEC5",
                "#B0BEC5",
                "#B0BEC5",
                "#B0BEC5",
                "#B0BEC5",
                "#B0BEC5",
                "#B0BEC5",
                "#B0BEC5",
                "#B0BEC5",
                "#B0BEC5",
                "#B0BEC5",
                "#B0BEC5",
                "#B0BEC5",
                "red",
                "#B0BEC5",
                "#B0BEC5",
                "#B0BEC5",
                "#B0BEC5",
                "#B0BEC5",
                "#B0BEC5",
                "#B0BEC5",
                "#B0BEC5",
                "#B0BEC5",
                "#B0BEC5",
                "#B0BEC5",
                "#B0BEC5",
                "#B0BEC5",
                "#B0BEC5",
                "#B0BEC5",
                "#B0BEC5",
                "#B0BEC5",
                "#B0BEC5"
               ]
              ]
             }
            ],
            "label": "Topic 66",
            "method": "update"
           },
           {
            "args": [
             {
              "marker.color": [
               [
                "#B0BEC5",
                "#B0BEC5",
                "#B0BEC5",
                "#B0BEC5",
                "#B0BEC5",
                "#B0BEC5",
                "#B0BEC5",
                "#B0BEC5",
                "#B0BEC5",
                "#B0BEC5",
                "#B0BEC5",
                "#B0BEC5",
                "#B0BEC5",
                "#B0BEC5",
                "#B0BEC5",
                "#B0BEC5",
                "#B0BEC5",
                "#B0BEC5",
                "#B0BEC5",
                "#B0BEC5",
                "#B0BEC5",
                "#B0BEC5",
                "#B0BEC5",
                "#B0BEC5",
                "#B0BEC5",
                "#B0BEC5",
                "#B0BEC5",
                "#B0BEC5",
                "#B0BEC5",
                "#B0BEC5",
                "#B0BEC5",
                "#B0BEC5",
                "#B0BEC5",
                "#B0BEC5",
                "#B0BEC5",
                "#B0BEC5",
                "#B0BEC5",
                "#B0BEC5",
                "#B0BEC5",
                "#B0BEC5",
                "#B0BEC5",
                "#B0BEC5",
                "#B0BEC5",
                "#B0BEC5",
                "#B0BEC5",
                "#B0BEC5",
                "#B0BEC5",
                "#B0BEC5",
                "#B0BEC5",
                "#B0BEC5",
                "#B0BEC5",
                "#B0BEC5",
                "#B0BEC5",
                "#B0BEC5",
                "#B0BEC5",
                "#B0BEC5",
                "#B0BEC5",
                "#B0BEC5",
                "#B0BEC5",
                "#B0BEC5",
                "#B0BEC5",
                "#B0BEC5",
                "#B0BEC5",
                "#B0BEC5",
                "#B0BEC5",
                "#B0BEC5",
                "#B0BEC5",
                "red",
                "#B0BEC5",
                "#B0BEC5",
                "#B0BEC5",
                "#B0BEC5",
                "#B0BEC5",
                "#B0BEC5",
                "#B0BEC5",
                "#B0BEC5",
                "#B0BEC5",
                "#B0BEC5",
                "#B0BEC5",
                "#B0BEC5",
                "#B0BEC5",
                "#B0BEC5",
                "#B0BEC5",
                "#B0BEC5",
                "#B0BEC5"
               ]
              ]
             }
            ],
            "label": "Topic 67",
            "method": "update"
           },
           {
            "args": [
             {
              "marker.color": [
               [
                "#B0BEC5",
                "#B0BEC5",
                "#B0BEC5",
                "#B0BEC5",
                "#B0BEC5",
                "#B0BEC5",
                "#B0BEC5",
                "#B0BEC5",
                "#B0BEC5",
                "#B0BEC5",
                "#B0BEC5",
                "#B0BEC5",
                "#B0BEC5",
                "#B0BEC5",
                "#B0BEC5",
                "#B0BEC5",
                "#B0BEC5",
                "#B0BEC5",
                "#B0BEC5",
                "#B0BEC5",
                "#B0BEC5",
                "#B0BEC5",
                "#B0BEC5",
                "#B0BEC5",
                "#B0BEC5",
                "#B0BEC5",
                "#B0BEC5",
                "#B0BEC5",
                "#B0BEC5",
                "#B0BEC5",
                "#B0BEC5",
                "#B0BEC5",
                "#B0BEC5",
                "#B0BEC5",
                "#B0BEC5",
                "#B0BEC5",
                "#B0BEC5",
                "#B0BEC5",
                "#B0BEC5",
                "#B0BEC5",
                "#B0BEC5",
                "#B0BEC5",
                "#B0BEC5",
                "#B0BEC5",
                "#B0BEC5",
                "#B0BEC5",
                "#B0BEC5",
                "#B0BEC5",
                "#B0BEC5",
                "#B0BEC5",
                "#B0BEC5",
                "#B0BEC5",
                "#B0BEC5",
                "#B0BEC5",
                "#B0BEC5",
                "#B0BEC5",
                "#B0BEC5",
                "#B0BEC5",
                "#B0BEC5",
                "#B0BEC5",
                "#B0BEC5",
                "#B0BEC5",
                "#B0BEC5",
                "#B0BEC5",
                "#B0BEC5",
                "#B0BEC5",
                "#B0BEC5",
                "#B0BEC5",
                "red",
                "#B0BEC5",
                "#B0BEC5",
                "#B0BEC5",
                "#B0BEC5",
                "#B0BEC5",
                "#B0BEC5",
                "#B0BEC5",
                "#B0BEC5",
                "#B0BEC5",
                "#B0BEC5",
                "#B0BEC5",
                "#B0BEC5",
                "#B0BEC5",
                "#B0BEC5",
                "#B0BEC5",
                "#B0BEC5"
               ]
              ]
             }
            ],
            "label": "Topic 68",
            "method": "update"
           },
           {
            "args": [
             {
              "marker.color": [
               [
                "#B0BEC5",
                "#B0BEC5",
                "#B0BEC5",
                "#B0BEC5",
                "#B0BEC5",
                "#B0BEC5",
                "#B0BEC5",
                "#B0BEC5",
                "#B0BEC5",
                "#B0BEC5",
                "#B0BEC5",
                "#B0BEC5",
                "#B0BEC5",
                "#B0BEC5",
                "#B0BEC5",
                "#B0BEC5",
                "#B0BEC5",
                "#B0BEC5",
                "#B0BEC5",
                "#B0BEC5",
                "#B0BEC5",
                "#B0BEC5",
                "#B0BEC5",
                "#B0BEC5",
                "#B0BEC5",
                "#B0BEC5",
                "#B0BEC5",
                "#B0BEC5",
                "#B0BEC5",
                "#B0BEC5",
                "#B0BEC5",
                "#B0BEC5",
                "#B0BEC5",
                "#B0BEC5",
                "#B0BEC5",
                "#B0BEC5",
                "#B0BEC5",
                "#B0BEC5",
                "#B0BEC5",
                "#B0BEC5",
                "#B0BEC5",
                "#B0BEC5",
                "#B0BEC5",
                "#B0BEC5",
                "#B0BEC5",
                "#B0BEC5",
                "#B0BEC5",
                "#B0BEC5",
                "#B0BEC5",
                "#B0BEC5",
                "#B0BEC5",
                "#B0BEC5",
                "#B0BEC5",
                "#B0BEC5",
                "#B0BEC5",
                "#B0BEC5",
                "#B0BEC5",
                "#B0BEC5",
                "#B0BEC5",
                "#B0BEC5",
                "#B0BEC5",
                "#B0BEC5",
                "#B0BEC5",
                "#B0BEC5",
                "#B0BEC5",
                "#B0BEC5",
                "#B0BEC5",
                "#B0BEC5",
                "#B0BEC5",
                "red",
                "#B0BEC5",
                "#B0BEC5",
                "#B0BEC5",
                "#B0BEC5",
                "#B0BEC5",
                "#B0BEC5",
                "#B0BEC5",
                "#B0BEC5",
                "#B0BEC5",
                "#B0BEC5",
                "#B0BEC5",
                "#B0BEC5",
                "#B0BEC5",
                "#B0BEC5",
                "#B0BEC5"
               ]
              ]
             }
            ],
            "label": "Topic 69",
            "method": "update"
           },
           {
            "args": [
             {
              "marker.color": [
               [
                "#B0BEC5",
                "#B0BEC5",
                "#B0BEC5",
                "#B0BEC5",
                "#B0BEC5",
                "#B0BEC5",
                "#B0BEC5",
                "#B0BEC5",
                "#B0BEC5",
                "#B0BEC5",
                "#B0BEC5",
                "#B0BEC5",
                "#B0BEC5",
                "#B0BEC5",
                "#B0BEC5",
                "#B0BEC5",
                "#B0BEC5",
                "#B0BEC5",
                "#B0BEC5",
                "#B0BEC5",
                "#B0BEC5",
                "#B0BEC5",
                "#B0BEC5",
                "#B0BEC5",
                "#B0BEC5",
                "#B0BEC5",
                "#B0BEC5",
                "#B0BEC5",
                "#B0BEC5",
                "#B0BEC5",
                "#B0BEC5",
                "#B0BEC5",
                "#B0BEC5",
                "#B0BEC5",
                "#B0BEC5",
                "#B0BEC5",
                "#B0BEC5",
                "#B0BEC5",
                "#B0BEC5",
                "#B0BEC5",
                "#B0BEC5",
                "#B0BEC5",
                "#B0BEC5",
                "#B0BEC5",
                "#B0BEC5",
                "#B0BEC5",
                "#B0BEC5",
                "#B0BEC5",
                "#B0BEC5",
                "#B0BEC5",
                "#B0BEC5",
                "#B0BEC5",
                "#B0BEC5",
                "#B0BEC5",
                "#B0BEC5",
                "#B0BEC5",
                "#B0BEC5",
                "#B0BEC5",
                "#B0BEC5",
                "#B0BEC5",
                "#B0BEC5",
                "#B0BEC5",
                "#B0BEC5",
                "#B0BEC5",
                "#B0BEC5",
                "#B0BEC5",
                "#B0BEC5",
                "#B0BEC5",
                "#B0BEC5",
                "#B0BEC5",
                "red",
                "#B0BEC5",
                "#B0BEC5",
                "#B0BEC5",
                "#B0BEC5",
                "#B0BEC5",
                "#B0BEC5",
                "#B0BEC5",
                "#B0BEC5",
                "#B0BEC5",
                "#B0BEC5",
                "#B0BEC5",
                "#B0BEC5",
                "#B0BEC5",
                "#B0BEC5"
               ]
              ]
             }
            ],
            "label": "Topic 70",
            "method": "update"
           },
           {
            "args": [
             {
              "marker.color": [
               [
                "#B0BEC5",
                "#B0BEC5",
                "#B0BEC5",
                "#B0BEC5",
                "#B0BEC5",
                "#B0BEC5",
                "#B0BEC5",
                "#B0BEC5",
                "#B0BEC5",
                "#B0BEC5",
                "#B0BEC5",
                "#B0BEC5",
                "#B0BEC5",
                "#B0BEC5",
                "#B0BEC5",
                "#B0BEC5",
                "#B0BEC5",
                "#B0BEC5",
                "#B0BEC5",
                "#B0BEC5",
                "#B0BEC5",
                "#B0BEC5",
                "#B0BEC5",
                "#B0BEC5",
                "#B0BEC5",
                "#B0BEC5",
                "#B0BEC5",
                "#B0BEC5",
                "#B0BEC5",
                "#B0BEC5",
                "#B0BEC5",
                "#B0BEC5",
                "#B0BEC5",
                "#B0BEC5",
                "#B0BEC5",
                "#B0BEC5",
                "#B0BEC5",
                "#B0BEC5",
                "#B0BEC5",
                "#B0BEC5",
                "#B0BEC5",
                "#B0BEC5",
                "#B0BEC5",
                "#B0BEC5",
                "#B0BEC5",
                "#B0BEC5",
                "#B0BEC5",
                "#B0BEC5",
                "#B0BEC5",
                "#B0BEC5",
                "#B0BEC5",
                "#B0BEC5",
                "#B0BEC5",
                "#B0BEC5",
                "#B0BEC5",
                "#B0BEC5",
                "#B0BEC5",
                "#B0BEC5",
                "#B0BEC5",
                "#B0BEC5",
                "#B0BEC5",
                "#B0BEC5",
                "#B0BEC5",
                "#B0BEC5",
                "#B0BEC5",
                "#B0BEC5",
                "#B0BEC5",
                "#B0BEC5",
                "#B0BEC5",
                "#B0BEC5",
                "#B0BEC5",
                "red",
                "#B0BEC5",
                "#B0BEC5",
                "#B0BEC5",
                "#B0BEC5",
                "#B0BEC5",
                "#B0BEC5",
                "#B0BEC5",
                "#B0BEC5",
                "#B0BEC5",
                "#B0BEC5",
                "#B0BEC5",
                "#B0BEC5",
                "#B0BEC5"
               ]
              ]
             }
            ],
            "label": "Topic 71",
            "method": "update"
           },
           {
            "args": [
             {
              "marker.color": [
               [
                "#B0BEC5",
                "#B0BEC5",
                "#B0BEC5",
                "#B0BEC5",
                "#B0BEC5",
                "#B0BEC5",
                "#B0BEC5",
                "#B0BEC5",
                "#B0BEC5",
                "#B0BEC5",
                "#B0BEC5",
                "#B0BEC5",
                "#B0BEC5",
                "#B0BEC5",
                "#B0BEC5",
                "#B0BEC5",
                "#B0BEC5",
                "#B0BEC5",
                "#B0BEC5",
                "#B0BEC5",
                "#B0BEC5",
                "#B0BEC5",
                "#B0BEC5",
                "#B0BEC5",
                "#B0BEC5",
                "#B0BEC5",
                "#B0BEC5",
                "#B0BEC5",
                "#B0BEC5",
                "#B0BEC5",
                "#B0BEC5",
                "#B0BEC5",
                "#B0BEC5",
                "#B0BEC5",
                "#B0BEC5",
                "#B0BEC5",
                "#B0BEC5",
                "#B0BEC5",
                "#B0BEC5",
                "#B0BEC5",
                "#B0BEC5",
                "#B0BEC5",
                "#B0BEC5",
                "#B0BEC5",
                "#B0BEC5",
                "#B0BEC5",
                "#B0BEC5",
                "#B0BEC5",
                "#B0BEC5",
                "#B0BEC5",
                "#B0BEC5",
                "#B0BEC5",
                "#B0BEC5",
                "#B0BEC5",
                "#B0BEC5",
                "#B0BEC5",
                "#B0BEC5",
                "#B0BEC5",
                "#B0BEC5",
                "#B0BEC5",
                "#B0BEC5",
                "#B0BEC5",
                "#B0BEC5",
                "#B0BEC5",
                "#B0BEC5",
                "#B0BEC5",
                "#B0BEC5",
                "#B0BEC5",
                "#B0BEC5",
                "#B0BEC5",
                "#B0BEC5",
                "#B0BEC5",
                "red",
                "#B0BEC5",
                "#B0BEC5",
                "#B0BEC5",
                "#B0BEC5",
                "#B0BEC5",
                "#B0BEC5",
                "#B0BEC5",
                "#B0BEC5",
                "#B0BEC5",
                "#B0BEC5",
                "#B0BEC5",
                "#B0BEC5"
               ]
              ]
             }
            ],
            "label": "Topic 72",
            "method": "update"
           },
           {
            "args": [
             {
              "marker.color": [
               [
                "#B0BEC5",
                "#B0BEC5",
                "#B0BEC5",
                "#B0BEC5",
                "#B0BEC5",
                "#B0BEC5",
                "#B0BEC5",
                "#B0BEC5",
                "#B0BEC5",
                "#B0BEC5",
                "#B0BEC5",
                "#B0BEC5",
                "#B0BEC5",
                "#B0BEC5",
                "#B0BEC5",
                "#B0BEC5",
                "#B0BEC5",
                "#B0BEC5",
                "#B0BEC5",
                "#B0BEC5",
                "#B0BEC5",
                "#B0BEC5",
                "#B0BEC5",
                "#B0BEC5",
                "#B0BEC5",
                "#B0BEC5",
                "#B0BEC5",
                "#B0BEC5",
                "#B0BEC5",
                "#B0BEC5",
                "#B0BEC5",
                "#B0BEC5",
                "#B0BEC5",
                "#B0BEC5",
                "#B0BEC5",
                "#B0BEC5",
                "#B0BEC5",
                "#B0BEC5",
                "#B0BEC5",
                "#B0BEC5",
                "#B0BEC5",
                "#B0BEC5",
                "#B0BEC5",
                "#B0BEC5",
                "#B0BEC5",
                "#B0BEC5",
                "#B0BEC5",
                "#B0BEC5",
                "#B0BEC5",
                "#B0BEC5",
                "#B0BEC5",
                "#B0BEC5",
                "#B0BEC5",
                "#B0BEC5",
                "#B0BEC5",
                "#B0BEC5",
                "#B0BEC5",
                "#B0BEC5",
                "#B0BEC5",
                "#B0BEC5",
                "#B0BEC5",
                "#B0BEC5",
                "#B0BEC5",
                "#B0BEC5",
                "#B0BEC5",
                "#B0BEC5",
                "#B0BEC5",
                "#B0BEC5",
                "#B0BEC5",
                "#B0BEC5",
                "#B0BEC5",
                "#B0BEC5",
                "#B0BEC5",
                "red",
                "#B0BEC5",
                "#B0BEC5",
                "#B0BEC5",
                "#B0BEC5",
                "#B0BEC5",
                "#B0BEC5",
                "#B0BEC5",
                "#B0BEC5",
                "#B0BEC5",
                "#B0BEC5",
                "#B0BEC5"
               ]
              ]
             }
            ],
            "label": "Topic 73",
            "method": "update"
           },
           {
            "args": [
             {
              "marker.color": [
               [
                "#B0BEC5",
                "#B0BEC5",
                "#B0BEC5",
                "#B0BEC5",
                "#B0BEC5",
                "#B0BEC5",
                "#B0BEC5",
                "#B0BEC5",
                "#B0BEC5",
                "#B0BEC5",
                "#B0BEC5",
                "#B0BEC5",
                "#B0BEC5",
                "#B0BEC5",
                "#B0BEC5",
                "#B0BEC5",
                "#B0BEC5",
                "#B0BEC5",
                "#B0BEC5",
                "#B0BEC5",
                "#B0BEC5",
                "#B0BEC5",
                "#B0BEC5",
                "#B0BEC5",
                "#B0BEC5",
                "#B0BEC5",
                "#B0BEC5",
                "#B0BEC5",
                "#B0BEC5",
                "#B0BEC5",
                "#B0BEC5",
                "#B0BEC5",
                "#B0BEC5",
                "#B0BEC5",
                "#B0BEC5",
                "#B0BEC5",
                "#B0BEC5",
                "#B0BEC5",
                "#B0BEC5",
                "#B0BEC5",
                "#B0BEC5",
                "#B0BEC5",
                "#B0BEC5",
                "#B0BEC5",
                "#B0BEC5",
                "#B0BEC5",
                "#B0BEC5",
                "#B0BEC5",
                "#B0BEC5",
                "#B0BEC5",
                "#B0BEC5",
                "#B0BEC5",
                "#B0BEC5",
                "#B0BEC5",
                "#B0BEC5",
                "#B0BEC5",
                "#B0BEC5",
                "#B0BEC5",
                "#B0BEC5",
                "#B0BEC5",
                "#B0BEC5",
                "#B0BEC5",
                "#B0BEC5",
                "#B0BEC5",
                "#B0BEC5",
                "#B0BEC5",
                "#B0BEC5",
                "#B0BEC5",
                "#B0BEC5",
                "#B0BEC5",
                "#B0BEC5",
                "#B0BEC5",
                "#B0BEC5",
                "#B0BEC5",
                "red",
                "#B0BEC5",
                "#B0BEC5",
                "#B0BEC5",
                "#B0BEC5",
                "#B0BEC5",
                "#B0BEC5",
                "#B0BEC5",
                "#B0BEC5",
                "#B0BEC5",
                "#B0BEC5"
               ]
              ]
             }
            ],
            "label": "Topic 74",
            "method": "update"
           },
           {
            "args": [
             {
              "marker.color": [
               [
                "#B0BEC5",
                "#B0BEC5",
                "#B0BEC5",
                "#B0BEC5",
                "#B0BEC5",
                "#B0BEC5",
                "#B0BEC5",
                "#B0BEC5",
                "#B0BEC5",
                "#B0BEC5",
                "#B0BEC5",
                "#B0BEC5",
                "#B0BEC5",
                "#B0BEC5",
                "#B0BEC5",
                "#B0BEC5",
                "#B0BEC5",
                "#B0BEC5",
                "#B0BEC5",
                "#B0BEC5",
                "#B0BEC5",
                "#B0BEC5",
                "#B0BEC5",
                "#B0BEC5",
                "#B0BEC5",
                "#B0BEC5",
                "#B0BEC5",
                "#B0BEC5",
                "#B0BEC5",
                "#B0BEC5",
                "#B0BEC5",
                "#B0BEC5",
                "#B0BEC5",
                "#B0BEC5",
                "#B0BEC5",
                "#B0BEC5",
                "#B0BEC5",
                "#B0BEC5",
                "#B0BEC5",
                "#B0BEC5",
                "#B0BEC5",
                "#B0BEC5",
                "#B0BEC5",
                "#B0BEC5",
                "#B0BEC5",
                "#B0BEC5",
                "#B0BEC5",
                "#B0BEC5",
                "#B0BEC5",
                "#B0BEC5",
                "#B0BEC5",
                "#B0BEC5",
                "#B0BEC5",
                "#B0BEC5",
                "#B0BEC5",
                "#B0BEC5",
                "#B0BEC5",
                "#B0BEC5",
                "#B0BEC5",
                "#B0BEC5",
                "#B0BEC5",
                "#B0BEC5",
                "#B0BEC5",
                "#B0BEC5",
                "#B0BEC5",
                "#B0BEC5",
                "#B0BEC5",
                "#B0BEC5",
                "#B0BEC5",
                "#B0BEC5",
                "#B0BEC5",
                "#B0BEC5",
                "#B0BEC5",
                "#B0BEC5",
                "#B0BEC5",
                "red",
                "#B0BEC5",
                "#B0BEC5",
                "#B0BEC5",
                "#B0BEC5",
                "#B0BEC5",
                "#B0BEC5",
                "#B0BEC5",
                "#B0BEC5",
                "#B0BEC5"
               ]
              ]
             }
            ],
            "label": "Topic 75",
            "method": "update"
           },
           {
            "args": [
             {
              "marker.color": [
               [
                "#B0BEC5",
                "#B0BEC5",
                "#B0BEC5",
                "#B0BEC5",
                "#B0BEC5",
                "#B0BEC5",
                "#B0BEC5",
                "#B0BEC5",
                "#B0BEC5",
                "#B0BEC5",
                "#B0BEC5",
                "#B0BEC5",
                "#B0BEC5",
                "#B0BEC5",
                "#B0BEC5",
                "#B0BEC5",
                "#B0BEC5",
                "#B0BEC5",
                "#B0BEC5",
                "#B0BEC5",
                "#B0BEC5",
                "#B0BEC5",
                "#B0BEC5",
                "#B0BEC5",
                "#B0BEC5",
                "#B0BEC5",
                "#B0BEC5",
                "#B0BEC5",
                "#B0BEC5",
                "#B0BEC5",
                "#B0BEC5",
                "#B0BEC5",
                "#B0BEC5",
                "#B0BEC5",
                "#B0BEC5",
                "#B0BEC5",
                "#B0BEC5",
                "#B0BEC5",
                "#B0BEC5",
                "#B0BEC5",
                "#B0BEC5",
                "#B0BEC5",
                "#B0BEC5",
                "#B0BEC5",
                "#B0BEC5",
                "#B0BEC5",
                "#B0BEC5",
                "#B0BEC5",
                "#B0BEC5",
                "#B0BEC5",
                "#B0BEC5",
                "#B0BEC5",
                "#B0BEC5",
                "#B0BEC5",
                "#B0BEC5",
                "#B0BEC5",
                "#B0BEC5",
                "#B0BEC5",
                "#B0BEC5",
                "#B0BEC5",
                "#B0BEC5",
                "#B0BEC5",
                "#B0BEC5",
                "#B0BEC5",
                "#B0BEC5",
                "#B0BEC5",
                "#B0BEC5",
                "#B0BEC5",
                "#B0BEC5",
                "#B0BEC5",
                "#B0BEC5",
                "#B0BEC5",
                "#B0BEC5",
                "#B0BEC5",
                "#B0BEC5",
                "#B0BEC5",
                "red",
                "#B0BEC5",
                "#B0BEC5",
                "#B0BEC5",
                "#B0BEC5",
                "#B0BEC5",
                "#B0BEC5",
                "#B0BEC5",
                "#B0BEC5"
               ]
              ]
             }
            ],
            "label": "Topic 76",
            "method": "update"
           },
           {
            "args": [
             {
              "marker.color": [
               [
                "#B0BEC5",
                "#B0BEC5",
                "#B0BEC5",
                "#B0BEC5",
                "#B0BEC5",
                "#B0BEC5",
                "#B0BEC5",
                "#B0BEC5",
                "#B0BEC5",
                "#B0BEC5",
                "#B0BEC5",
                "#B0BEC5",
                "#B0BEC5",
                "#B0BEC5",
                "#B0BEC5",
                "#B0BEC5",
                "#B0BEC5",
                "#B0BEC5",
                "#B0BEC5",
                "#B0BEC5",
                "#B0BEC5",
                "#B0BEC5",
                "#B0BEC5",
                "#B0BEC5",
                "#B0BEC5",
                "#B0BEC5",
                "#B0BEC5",
                "#B0BEC5",
                "#B0BEC5",
                "#B0BEC5",
                "#B0BEC5",
                "#B0BEC5",
                "#B0BEC5",
                "#B0BEC5",
                "#B0BEC5",
                "#B0BEC5",
                "#B0BEC5",
                "#B0BEC5",
                "#B0BEC5",
                "#B0BEC5",
                "#B0BEC5",
                "#B0BEC5",
                "#B0BEC5",
                "#B0BEC5",
                "#B0BEC5",
                "#B0BEC5",
                "#B0BEC5",
                "#B0BEC5",
                "#B0BEC5",
                "#B0BEC5",
                "#B0BEC5",
                "#B0BEC5",
                "#B0BEC5",
                "#B0BEC5",
                "#B0BEC5",
                "#B0BEC5",
                "#B0BEC5",
                "#B0BEC5",
                "#B0BEC5",
                "#B0BEC5",
                "#B0BEC5",
                "#B0BEC5",
                "#B0BEC5",
                "#B0BEC5",
                "#B0BEC5",
                "#B0BEC5",
                "#B0BEC5",
                "#B0BEC5",
                "#B0BEC5",
                "#B0BEC5",
                "#B0BEC5",
                "#B0BEC5",
                "#B0BEC5",
                "#B0BEC5",
                "#B0BEC5",
                "#B0BEC5",
                "#B0BEC5",
                "red",
                "#B0BEC5",
                "#B0BEC5",
                "#B0BEC5",
                "#B0BEC5",
                "#B0BEC5",
                "#B0BEC5",
                "#B0BEC5"
               ]
              ]
             }
            ],
            "label": "Topic 77",
            "method": "update"
           },
           {
            "args": [
             {
              "marker.color": [
               [
                "#B0BEC5",
                "#B0BEC5",
                "#B0BEC5",
                "#B0BEC5",
                "#B0BEC5",
                "#B0BEC5",
                "#B0BEC5",
                "#B0BEC5",
                "#B0BEC5",
                "#B0BEC5",
                "#B0BEC5",
                "#B0BEC5",
                "#B0BEC5",
                "#B0BEC5",
                "#B0BEC5",
                "#B0BEC5",
                "#B0BEC5",
                "#B0BEC5",
                "#B0BEC5",
                "#B0BEC5",
                "#B0BEC5",
                "#B0BEC5",
                "#B0BEC5",
                "#B0BEC5",
                "#B0BEC5",
                "#B0BEC5",
                "#B0BEC5",
                "#B0BEC5",
                "#B0BEC5",
                "#B0BEC5",
                "#B0BEC5",
                "#B0BEC5",
                "#B0BEC5",
                "#B0BEC5",
                "#B0BEC5",
                "#B0BEC5",
                "#B0BEC5",
                "#B0BEC5",
                "#B0BEC5",
                "#B0BEC5",
                "#B0BEC5",
                "#B0BEC5",
                "#B0BEC5",
                "#B0BEC5",
                "#B0BEC5",
                "#B0BEC5",
                "#B0BEC5",
                "#B0BEC5",
                "#B0BEC5",
                "#B0BEC5",
                "#B0BEC5",
                "#B0BEC5",
                "#B0BEC5",
                "#B0BEC5",
                "#B0BEC5",
                "#B0BEC5",
                "#B0BEC5",
                "#B0BEC5",
                "#B0BEC5",
                "#B0BEC5",
                "#B0BEC5",
                "#B0BEC5",
                "#B0BEC5",
                "#B0BEC5",
                "#B0BEC5",
                "#B0BEC5",
                "#B0BEC5",
                "#B0BEC5",
                "#B0BEC5",
                "#B0BEC5",
                "#B0BEC5",
                "#B0BEC5",
                "#B0BEC5",
                "#B0BEC5",
                "#B0BEC5",
                "#B0BEC5",
                "#B0BEC5",
                "#B0BEC5",
                "red",
                "#B0BEC5",
                "#B0BEC5",
                "#B0BEC5",
                "#B0BEC5",
                "#B0BEC5",
                "#B0BEC5"
               ]
              ]
             }
            ],
            "label": "Topic 78",
            "method": "update"
           },
           {
            "args": [
             {
              "marker.color": [
               [
                "#B0BEC5",
                "#B0BEC5",
                "#B0BEC5",
                "#B0BEC5",
                "#B0BEC5",
                "#B0BEC5",
                "#B0BEC5",
                "#B0BEC5",
                "#B0BEC5",
                "#B0BEC5",
                "#B0BEC5",
                "#B0BEC5",
                "#B0BEC5",
                "#B0BEC5",
                "#B0BEC5",
                "#B0BEC5",
                "#B0BEC5",
                "#B0BEC5",
                "#B0BEC5",
                "#B0BEC5",
                "#B0BEC5",
                "#B0BEC5",
                "#B0BEC5",
                "#B0BEC5",
                "#B0BEC5",
                "#B0BEC5",
                "#B0BEC5",
                "#B0BEC5",
                "#B0BEC5",
                "#B0BEC5",
                "#B0BEC5",
                "#B0BEC5",
                "#B0BEC5",
                "#B0BEC5",
                "#B0BEC5",
                "#B0BEC5",
                "#B0BEC5",
                "#B0BEC5",
                "#B0BEC5",
                "#B0BEC5",
                "#B0BEC5",
                "#B0BEC5",
                "#B0BEC5",
                "#B0BEC5",
                "#B0BEC5",
                "#B0BEC5",
                "#B0BEC5",
                "#B0BEC5",
                "#B0BEC5",
                "#B0BEC5",
                "#B0BEC5",
                "#B0BEC5",
                "#B0BEC5",
                "#B0BEC5",
                "#B0BEC5",
                "#B0BEC5",
                "#B0BEC5",
                "#B0BEC5",
                "#B0BEC5",
                "#B0BEC5",
                "#B0BEC5",
                "#B0BEC5",
                "#B0BEC5",
                "#B0BEC5",
                "#B0BEC5",
                "#B0BEC5",
                "#B0BEC5",
                "#B0BEC5",
                "#B0BEC5",
                "#B0BEC5",
                "#B0BEC5",
                "#B0BEC5",
                "#B0BEC5",
                "#B0BEC5",
                "#B0BEC5",
                "#B0BEC5",
                "#B0BEC5",
                "#B0BEC5",
                "#B0BEC5",
                "red",
                "#B0BEC5",
                "#B0BEC5",
                "#B0BEC5",
                "#B0BEC5",
                "#B0BEC5"
               ]
              ]
             }
            ],
            "label": "Topic 79",
            "method": "update"
           },
           {
            "args": [
             {
              "marker.color": [
               [
                "#B0BEC5",
                "#B0BEC5",
                "#B0BEC5",
                "#B0BEC5",
                "#B0BEC5",
                "#B0BEC5",
                "#B0BEC5",
                "#B0BEC5",
                "#B0BEC5",
                "#B0BEC5",
                "#B0BEC5",
                "#B0BEC5",
                "#B0BEC5",
                "#B0BEC5",
                "#B0BEC5",
                "#B0BEC5",
                "#B0BEC5",
                "#B0BEC5",
                "#B0BEC5",
                "#B0BEC5",
                "#B0BEC5",
                "#B0BEC5",
                "#B0BEC5",
                "#B0BEC5",
                "#B0BEC5",
                "#B0BEC5",
                "#B0BEC5",
                "#B0BEC5",
                "#B0BEC5",
                "#B0BEC5",
                "#B0BEC5",
                "#B0BEC5",
                "#B0BEC5",
                "#B0BEC5",
                "#B0BEC5",
                "#B0BEC5",
                "#B0BEC5",
                "#B0BEC5",
                "#B0BEC5",
                "#B0BEC5",
                "#B0BEC5",
                "#B0BEC5",
                "#B0BEC5",
                "#B0BEC5",
                "#B0BEC5",
                "#B0BEC5",
                "#B0BEC5",
                "#B0BEC5",
                "#B0BEC5",
                "#B0BEC5",
                "#B0BEC5",
                "#B0BEC5",
                "#B0BEC5",
                "#B0BEC5",
                "#B0BEC5",
                "#B0BEC5",
                "#B0BEC5",
                "#B0BEC5",
                "#B0BEC5",
                "#B0BEC5",
                "#B0BEC5",
                "#B0BEC5",
                "#B0BEC5",
                "#B0BEC5",
                "#B0BEC5",
                "#B0BEC5",
                "#B0BEC5",
                "#B0BEC5",
                "#B0BEC5",
                "#B0BEC5",
                "#B0BEC5",
                "#B0BEC5",
                "#B0BEC5",
                "#B0BEC5",
                "#B0BEC5",
                "#B0BEC5",
                "#B0BEC5",
                "#B0BEC5",
                "#B0BEC5",
                "#B0BEC5",
                "red",
                "#B0BEC5",
                "#B0BEC5",
                "#B0BEC5",
                "#B0BEC5"
               ]
              ]
             }
            ],
            "label": "Topic 80",
            "method": "update"
           },
           {
            "args": [
             {
              "marker.color": [
               [
                "#B0BEC5",
                "#B0BEC5",
                "#B0BEC5",
                "#B0BEC5",
                "#B0BEC5",
                "#B0BEC5",
                "#B0BEC5",
                "#B0BEC5",
                "#B0BEC5",
                "#B0BEC5",
                "#B0BEC5",
                "#B0BEC5",
                "#B0BEC5",
                "#B0BEC5",
                "#B0BEC5",
                "#B0BEC5",
                "#B0BEC5",
                "#B0BEC5",
                "#B0BEC5",
                "#B0BEC5",
                "#B0BEC5",
                "#B0BEC5",
                "#B0BEC5",
                "#B0BEC5",
                "#B0BEC5",
                "#B0BEC5",
                "#B0BEC5",
                "#B0BEC5",
                "#B0BEC5",
                "#B0BEC5",
                "#B0BEC5",
                "#B0BEC5",
                "#B0BEC5",
                "#B0BEC5",
                "#B0BEC5",
                "#B0BEC5",
                "#B0BEC5",
                "#B0BEC5",
                "#B0BEC5",
                "#B0BEC5",
                "#B0BEC5",
                "#B0BEC5",
                "#B0BEC5",
                "#B0BEC5",
                "#B0BEC5",
                "#B0BEC5",
                "#B0BEC5",
                "#B0BEC5",
                "#B0BEC5",
                "#B0BEC5",
                "#B0BEC5",
                "#B0BEC5",
                "#B0BEC5",
                "#B0BEC5",
                "#B0BEC5",
                "#B0BEC5",
                "#B0BEC5",
                "#B0BEC5",
                "#B0BEC5",
                "#B0BEC5",
                "#B0BEC5",
                "#B0BEC5",
                "#B0BEC5",
                "#B0BEC5",
                "#B0BEC5",
                "#B0BEC5",
                "#B0BEC5",
                "#B0BEC5",
                "#B0BEC5",
                "#B0BEC5",
                "#B0BEC5",
                "#B0BEC5",
                "#B0BEC5",
                "#B0BEC5",
                "#B0BEC5",
                "#B0BEC5",
                "#B0BEC5",
                "#B0BEC5",
                "#B0BEC5",
                "#B0BEC5",
                "#B0BEC5",
                "red",
                "#B0BEC5",
                "#B0BEC5",
                "#B0BEC5"
               ]
              ]
             }
            ],
            "label": "Topic 81",
            "method": "update"
           },
           {
            "args": [
             {
              "marker.color": [
               [
                "#B0BEC5",
                "#B0BEC5",
                "#B0BEC5",
                "#B0BEC5",
                "#B0BEC5",
                "#B0BEC5",
                "#B0BEC5",
                "#B0BEC5",
                "#B0BEC5",
                "#B0BEC5",
                "#B0BEC5",
                "#B0BEC5",
                "#B0BEC5",
                "#B0BEC5",
                "#B0BEC5",
                "#B0BEC5",
                "#B0BEC5",
                "#B0BEC5",
                "#B0BEC5",
                "#B0BEC5",
                "#B0BEC5",
                "#B0BEC5",
                "#B0BEC5",
                "#B0BEC5",
                "#B0BEC5",
                "#B0BEC5",
                "#B0BEC5",
                "#B0BEC5",
                "#B0BEC5",
                "#B0BEC5",
                "#B0BEC5",
                "#B0BEC5",
                "#B0BEC5",
                "#B0BEC5",
                "#B0BEC5",
                "#B0BEC5",
                "#B0BEC5",
                "#B0BEC5",
                "#B0BEC5",
                "#B0BEC5",
                "#B0BEC5",
                "#B0BEC5",
                "#B0BEC5",
                "#B0BEC5",
                "#B0BEC5",
                "#B0BEC5",
                "#B0BEC5",
                "#B0BEC5",
                "#B0BEC5",
                "#B0BEC5",
                "#B0BEC5",
                "#B0BEC5",
                "#B0BEC5",
                "#B0BEC5",
                "#B0BEC5",
                "#B0BEC5",
                "#B0BEC5",
                "#B0BEC5",
                "#B0BEC5",
                "#B0BEC5",
                "#B0BEC5",
                "#B0BEC5",
                "#B0BEC5",
                "#B0BEC5",
                "#B0BEC5",
                "#B0BEC5",
                "#B0BEC5",
                "#B0BEC5",
                "#B0BEC5",
                "#B0BEC5",
                "#B0BEC5",
                "#B0BEC5",
                "#B0BEC5",
                "#B0BEC5",
                "#B0BEC5",
                "#B0BEC5",
                "#B0BEC5",
                "#B0BEC5",
                "#B0BEC5",
                "#B0BEC5",
                "#B0BEC5",
                "#B0BEC5",
                "red",
                "#B0BEC5",
                "#B0BEC5"
               ]
              ]
             }
            ],
            "label": "Topic 82",
            "method": "update"
           },
           {
            "args": [
             {
              "marker.color": [
               [
                "#B0BEC5",
                "#B0BEC5",
                "#B0BEC5",
                "#B0BEC5",
                "#B0BEC5",
                "#B0BEC5",
                "#B0BEC5",
                "#B0BEC5",
                "#B0BEC5",
                "#B0BEC5",
                "#B0BEC5",
                "#B0BEC5",
                "#B0BEC5",
                "#B0BEC5",
                "#B0BEC5",
                "#B0BEC5",
                "#B0BEC5",
                "#B0BEC5",
                "#B0BEC5",
                "#B0BEC5",
                "#B0BEC5",
                "#B0BEC5",
                "#B0BEC5",
                "#B0BEC5",
                "#B0BEC5",
                "#B0BEC5",
                "#B0BEC5",
                "#B0BEC5",
                "#B0BEC5",
                "#B0BEC5",
                "#B0BEC5",
                "#B0BEC5",
                "#B0BEC5",
                "#B0BEC5",
                "#B0BEC5",
                "#B0BEC5",
                "#B0BEC5",
                "#B0BEC5",
                "#B0BEC5",
                "#B0BEC5",
                "#B0BEC5",
                "#B0BEC5",
                "#B0BEC5",
                "#B0BEC5",
                "#B0BEC5",
                "#B0BEC5",
                "#B0BEC5",
                "#B0BEC5",
                "#B0BEC5",
                "#B0BEC5",
                "#B0BEC5",
                "#B0BEC5",
                "#B0BEC5",
                "#B0BEC5",
                "#B0BEC5",
                "#B0BEC5",
                "#B0BEC5",
                "#B0BEC5",
                "#B0BEC5",
                "#B0BEC5",
                "#B0BEC5",
                "#B0BEC5",
                "#B0BEC5",
                "#B0BEC5",
                "#B0BEC5",
                "#B0BEC5",
                "#B0BEC5",
                "#B0BEC5",
                "#B0BEC5",
                "#B0BEC5",
                "#B0BEC5",
                "#B0BEC5",
                "#B0BEC5",
                "#B0BEC5",
                "#B0BEC5",
                "#B0BEC5",
                "#B0BEC5",
                "#B0BEC5",
                "#B0BEC5",
                "#B0BEC5",
                "#B0BEC5",
                "#B0BEC5",
                "#B0BEC5",
                "red",
                "#B0BEC5"
               ]
              ]
             }
            ],
            "label": "Topic 83",
            "method": "update"
           },
           {
            "args": [
             {
              "marker.color": [
               [
                "#B0BEC5",
                "#B0BEC5",
                "#B0BEC5",
                "#B0BEC5",
                "#B0BEC5",
                "#B0BEC5",
                "#B0BEC5",
                "#B0BEC5",
                "#B0BEC5",
                "#B0BEC5",
                "#B0BEC5",
                "#B0BEC5",
                "#B0BEC5",
                "#B0BEC5",
                "#B0BEC5",
                "#B0BEC5",
                "#B0BEC5",
                "#B0BEC5",
                "#B0BEC5",
                "#B0BEC5",
                "#B0BEC5",
                "#B0BEC5",
                "#B0BEC5",
                "#B0BEC5",
                "#B0BEC5",
                "#B0BEC5",
                "#B0BEC5",
                "#B0BEC5",
                "#B0BEC5",
                "#B0BEC5",
                "#B0BEC5",
                "#B0BEC5",
                "#B0BEC5",
                "#B0BEC5",
                "#B0BEC5",
                "#B0BEC5",
                "#B0BEC5",
                "#B0BEC5",
                "#B0BEC5",
                "#B0BEC5",
                "#B0BEC5",
                "#B0BEC5",
                "#B0BEC5",
                "#B0BEC5",
                "#B0BEC5",
                "#B0BEC5",
                "#B0BEC5",
                "#B0BEC5",
                "#B0BEC5",
                "#B0BEC5",
                "#B0BEC5",
                "#B0BEC5",
                "#B0BEC5",
                "#B0BEC5",
                "#B0BEC5",
                "#B0BEC5",
                "#B0BEC5",
                "#B0BEC5",
                "#B0BEC5",
                "#B0BEC5",
                "#B0BEC5",
                "#B0BEC5",
                "#B0BEC5",
                "#B0BEC5",
                "#B0BEC5",
                "#B0BEC5",
                "#B0BEC5",
                "#B0BEC5",
                "#B0BEC5",
                "#B0BEC5",
                "#B0BEC5",
                "#B0BEC5",
                "#B0BEC5",
                "#B0BEC5",
                "#B0BEC5",
                "#B0BEC5",
                "#B0BEC5",
                "#B0BEC5",
                "#B0BEC5",
                "#B0BEC5",
                "#B0BEC5",
                "#B0BEC5",
                "#B0BEC5",
                "#B0BEC5",
                "red"
               ]
              ]
             }
            ],
            "label": "Topic 84",
            "method": "update"
           }
          ]
         }
        ],
        "template": {
         "data": {
          "bar": [
           {
            "error_x": {
             "color": "rgb(36,36,36)"
            },
            "error_y": {
             "color": "rgb(36,36,36)"
            },
            "marker": {
             "line": {
              "color": "white",
              "width": 0.5
             },
             "pattern": {
              "fillmode": "overlay",
              "size": 10,
              "solidity": 0.2
             }
            },
            "type": "bar"
           }
          ],
          "barpolar": [
           {
            "marker": {
             "line": {
              "color": "white",
              "width": 0.5
             },
             "pattern": {
              "fillmode": "overlay",
              "size": 10,
              "solidity": 0.2
             }
            },
            "type": "barpolar"
           }
          ],
          "carpet": [
           {
            "aaxis": {
             "endlinecolor": "rgb(36,36,36)",
             "gridcolor": "white",
             "linecolor": "white",
             "minorgridcolor": "white",
             "startlinecolor": "rgb(36,36,36)"
            },
            "baxis": {
             "endlinecolor": "rgb(36,36,36)",
             "gridcolor": "white",
             "linecolor": "white",
             "minorgridcolor": "white",
             "startlinecolor": "rgb(36,36,36)"
            },
            "type": "carpet"
           }
          ],
          "choropleth": [
           {
            "colorbar": {
             "outlinewidth": 1,
             "tickcolor": "rgb(36,36,36)",
             "ticks": "outside"
            },
            "type": "choropleth"
           }
          ],
          "contour": [
           {
            "colorbar": {
             "outlinewidth": 1,
             "tickcolor": "rgb(36,36,36)",
             "ticks": "outside"
            },
            "colorscale": [
             [
              0,
              "#440154"
             ],
             [
              0.1111111111111111,
              "#482878"
             ],
             [
              0.2222222222222222,
              "#3e4989"
             ],
             [
              0.3333333333333333,
              "#31688e"
             ],
             [
              0.4444444444444444,
              "#26828e"
             ],
             [
              0.5555555555555556,
              "#1f9e89"
             ],
             [
              0.6666666666666666,
              "#35b779"
             ],
             [
              0.7777777777777778,
              "#6ece58"
             ],
             [
              0.8888888888888888,
              "#b5de2b"
             ],
             [
              1,
              "#fde725"
             ]
            ],
            "type": "contour"
           }
          ],
          "contourcarpet": [
           {
            "colorbar": {
             "outlinewidth": 1,
             "tickcolor": "rgb(36,36,36)",
             "ticks": "outside"
            },
            "type": "contourcarpet"
           }
          ],
          "heatmap": [
           {
            "colorbar": {
             "outlinewidth": 1,
             "tickcolor": "rgb(36,36,36)",
             "ticks": "outside"
            },
            "colorscale": [
             [
              0,
              "#440154"
             ],
             [
              0.1111111111111111,
              "#482878"
             ],
             [
              0.2222222222222222,
              "#3e4989"
             ],
             [
              0.3333333333333333,
              "#31688e"
             ],
             [
              0.4444444444444444,
              "#26828e"
             ],
             [
              0.5555555555555556,
              "#1f9e89"
             ],
             [
              0.6666666666666666,
              "#35b779"
             ],
             [
              0.7777777777777778,
              "#6ece58"
             ],
             [
              0.8888888888888888,
              "#b5de2b"
             ],
             [
              1,
              "#fde725"
             ]
            ],
            "type": "heatmap"
           }
          ],
          "heatmapgl": [
           {
            "colorbar": {
             "outlinewidth": 1,
             "tickcolor": "rgb(36,36,36)",
             "ticks": "outside"
            },
            "colorscale": [
             [
              0,
              "#440154"
             ],
             [
              0.1111111111111111,
              "#482878"
             ],
             [
              0.2222222222222222,
              "#3e4989"
             ],
             [
              0.3333333333333333,
              "#31688e"
             ],
             [
              0.4444444444444444,
              "#26828e"
             ],
             [
              0.5555555555555556,
              "#1f9e89"
             ],
             [
              0.6666666666666666,
              "#35b779"
             ],
             [
              0.7777777777777778,
              "#6ece58"
             ],
             [
              0.8888888888888888,
              "#b5de2b"
             ],
             [
              1,
              "#fde725"
             ]
            ],
            "type": "heatmapgl"
           }
          ],
          "histogram": [
           {
            "marker": {
             "line": {
              "color": "white",
              "width": 0.6
             }
            },
            "type": "histogram"
           }
          ],
          "histogram2d": [
           {
            "colorbar": {
             "outlinewidth": 1,
             "tickcolor": "rgb(36,36,36)",
             "ticks": "outside"
            },
            "colorscale": [
             [
              0,
              "#440154"
             ],
             [
              0.1111111111111111,
              "#482878"
             ],
             [
              0.2222222222222222,
              "#3e4989"
             ],
             [
              0.3333333333333333,
              "#31688e"
             ],
             [
              0.4444444444444444,
              "#26828e"
             ],
             [
              0.5555555555555556,
              "#1f9e89"
             ],
             [
              0.6666666666666666,
              "#35b779"
             ],
             [
              0.7777777777777778,
              "#6ece58"
             ],
             [
              0.8888888888888888,
              "#b5de2b"
             ],
             [
              1,
              "#fde725"
             ]
            ],
            "type": "histogram2d"
           }
          ],
          "histogram2dcontour": [
           {
            "colorbar": {
             "outlinewidth": 1,
             "tickcolor": "rgb(36,36,36)",
             "ticks": "outside"
            },
            "colorscale": [
             [
              0,
              "#440154"
             ],
             [
              0.1111111111111111,
              "#482878"
             ],
             [
              0.2222222222222222,
              "#3e4989"
             ],
             [
              0.3333333333333333,
              "#31688e"
             ],
             [
              0.4444444444444444,
              "#26828e"
             ],
             [
              0.5555555555555556,
              "#1f9e89"
             ],
             [
              0.6666666666666666,
              "#35b779"
             ],
             [
              0.7777777777777778,
              "#6ece58"
             ],
             [
              0.8888888888888888,
              "#b5de2b"
             ],
             [
              1,
              "#fde725"
             ]
            ],
            "type": "histogram2dcontour"
           }
          ],
          "mesh3d": [
           {
            "colorbar": {
             "outlinewidth": 1,
             "tickcolor": "rgb(36,36,36)",
             "ticks": "outside"
            },
            "type": "mesh3d"
           }
          ],
          "parcoords": [
           {
            "line": {
             "colorbar": {
              "outlinewidth": 1,
              "tickcolor": "rgb(36,36,36)",
              "ticks": "outside"
             }
            },
            "type": "parcoords"
           }
          ],
          "pie": [
           {
            "automargin": true,
            "type": "pie"
           }
          ],
          "scatter": [
           {
            "fillpattern": {
             "fillmode": "overlay",
             "size": 10,
             "solidity": 0.2
            },
            "type": "scatter"
           }
          ],
          "scatter3d": [
           {
            "line": {
             "colorbar": {
              "outlinewidth": 1,
              "tickcolor": "rgb(36,36,36)",
              "ticks": "outside"
             }
            },
            "marker": {
             "colorbar": {
              "outlinewidth": 1,
              "tickcolor": "rgb(36,36,36)",
              "ticks": "outside"
             }
            },
            "type": "scatter3d"
           }
          ],
          "scattercarpet": [
           {
            "marker": {
             "colorbar": {
              "outlinewidth": 1,
              "tickcolor": "rgb(36,36,36)",
              "ticks": "outside"
             }
            },
            "type": "scattercarpet"
           }
          ],
          "scattergeo": [
           {
            "marker": {
             "colorbar": {
              "outlinewidth": 1,
              "tickcolor": "rgb(36,36,36)",
              "ticks": "outside"
             }
            },
            "type": "scattergeo"
           }
          ],
          "scattergl": [
           {
            "marker": {
             "colorbar": {
              "outlinewidth": 1,
              "tickcolor": "rgb(36,36,36)",
              "ticks": "outside"
             }
            },
            "type": "scattergl"
           }
          ],
          "scattermapbox": [
           {
            "marker": {
             "colorbar": {
              "outlinewidth": 1,
              "tickcolor": "rgb(36,36,36)",
              "ticks": "outside"
             }
            },
            "type": "scattermapbox"
           }
          ],
          "scatterpolar": [
           {
            "marker": {
             "colorbar": {
              "outlinewidth": 1,
              "tickcolor": "rgb(36,36,36)",
              "ticks": "outside"
             }
            },
            "type": "scatterpolar"
           }
          ],
          "scatterpolargl": [
           {
            "marker": {
             "colorbar": {
              "outlinewidth": 1,
              "tickcolor": "rgb(36,36,36)",
              "ticks": "outside"
             }
            },
            "type": "scatterpolargl"
           }
          ],
          "scatterternary": [
           {
            "marker": {
             "colorbar": {
              "outlinewidth": 1,
              "tickcolor": "rgb(36,36,36)",
              "ticks": "outside"
             }
            },
            "type": "scatterternary"
           }
          ],
          "surface": [
           {
            "colorbar": {
             "outlinewidth": 1,
             "tickcolor": "rgb(36,36,36)",
             "ticks": "outside"
            },
            "colorscale": [
             [
              0,
              "#440154"
             ],
             [
              0.1111111111111111,
              "#482878"
             ],
             [
              0.2222222222222222,
              "#3e4989"
             ],
             [
              0.3333333333333333,
              "#31688e"
             ],
             [
              0.4444444444444444,
              "#26828e"
             ],
             [
              0.5555555555555556,
              "#1f9e89"
             ],
             [
              0.6666666666666666,
              "#35b779"
             ],
             [
              0.7777777777777778,
              "#6ece58"
             ],
             [
              0.8888888888888888,
              "#b5de2b"
             ],
             [
              1,
              "#fde725"
             ]
            ],
            "type": "surface"
           }
          ],
          "table": [
           {
            "cells": {
             "fill": {
              "color": "rgb(237,237,237)"
             },
             "line": {
              "color": "white"
             }
            },
            "header": {
             "fill": {
              "color": "rgb(217,217,217)"
             },
             "line": {
              "color": "white"
             }
            },
            "type": "table"
           }
          ]
         },
         "layout": {
          "annotationdefaults": {
           "arrowhead": 0,
           "arrowwidth": 1
          },
          "autotypenumbers": "strict",
          "coloraxis": {
           "colorbar": {
            "outlinewidth": 1,
            "tickcolor": "rgb(36,36,36)",
            "ticks": "outside"
           }
          },
          "colorscale": {
           "diverging": [
            [
             0,
             "rgb(103,0,31)"
            ],
            [
             0.1,
             "rgb(178,24,43)"
            ],
            [
             0.2,
             "rgb(214,96,77)"
            ],
            [
             0.3,
             "rgb(244,165,130)"
            ],
            [
             0.4,
             "rgb(253,219,199)"
            ],
            [
             0.5,
             "rgb(247,247,247)"
            ],
            [
             0.6,
             "rgb(209,229,240)"
            ],
            [
             0.7,
             "rgb(146,197,222)"
            ],
            [
             0.8,
             "rgb(67,147,195)"
            ],
            [
             0.9,
             "rgb(33,102,172)"
            ],
            [
             1,
             "rgb(5,48,97)"
            ]
           ],
           "sequential": [
            [
             0,
             "#440154"
            ],
            [
             0.1111111111111111,
             "#482878"
            ],
            [
             0.2222222222222222,
             "#3e4989"
            ],
            [
             0.3333333333333333,
             "#31688e"
            ],
            [
             0.4444444444444444,
             "#26828e"
            ],
            [
             0.5555555555555556,
             "#1f9e89"
            ],
            [
             0.6666666666666666,
             "#35b779"
            ],
            [
             0.7777777777777778,
             "#6ece58"
            ],
            [
             0.8888888888888888,
             "#b5de2b"
            ],
            [
             1,
             "#fde725"
            ]
           ],
           "sequentialminus": [
            [
             0,
             "#440154"
            ],
            [
             0.1111111111111111,
             "#482878"
            ],
            [
             0.2222222222222222,
             "#3e4989"
            ],
            [
             0.3333333333333333,
             "#31688e"
            ],
            [
             0.4444444444444444,
             "#26828e"
            ],
            [
             0.5555555555555556,
             "#1f9e89"
            ],
            [
             0.6666666666666666,
             "#35b779"
            ],
            [
             0.7777777777777778,
             "#6ece58"
            ],
            [
             0.8888888888888888,
             "#b5de2b"
            ],
            [
             1,
             "#fde725"
            ]
           ]
          },
          "colorway": [
           "#1F77B4",
           "#FF7F0E",
           "#2CA02C",
           "#D62728",
           "#9467BD",
           "#8C564B",
           "#E377C2",
           "#7F7F7F",
           "#BCBD22",
           "#17BECF"
          ],
          "font": {
           "color": "rgb(36,36,36)"
          },
          "geo": {
           "bgcolor": "white",
           "lakecolor": "white",
           "landcolor": "white",
           "showlakes": true,
           "showland": true,
           "subunitcolor": "white"
          },
          "hoverlabel": {
           "align": "left"
          },
          "hovermode": "closest",
          "mapbox": {
           "style": "light"
          },
          "paper_bgcolor": "white",
          "plot_bgcolor": "white",
          "polar": {
           "angularaxis": {
            "gridcolor": "rgb(232,232,232)",
            "linecolor": "rgb(36,36,36)",
            "showgrid": false,
            "showline": true,
            "ticks": "outside"
           },
           "bgcolor": "white",
           "radialaxis": {
            "gridcolor": "rgb(232,232,232)",
            "linecolor": "rgb(36,36,36)",
            "showgrid": false,
            "showline": true,
            "ticks": "outside"
           }
          },
          "scene": {
           "xaxis": {
            "backgroundcolor": "white",
            "gridcolor": "rgb(232,232,232)",
            "gridwidth": 2,
            "linecolor": "rgb(36,36,36)",
            "showbackground": true,
            "showgrid": false,
            "showline": true,
            "ticks": "outside",
            "zeroline": false,
            "zerolinecolor": "rgb(36,36,36)"
           },
           "yaxis": {
            "backgroundcolor": "white",
            "gridcolor": "rgb(232,232,232)",
            "gridwidth": 2,
            "linecolor": "rgb(36,36,36)",
            "showbackground": true,
            "showgrid": false,
            "showline": true,
            "ticks": "outside",
            "zeroline": false,
            "zerolinecolor": "rgb(36,36,36)"
           },
           "zaxis": {
            "backgroundcolor": "white",
            "gridcolor": "rgb(232,232,232)",
            "gridwidth": 2,
            "linecolor": "rgb(36,36,36)",
            "showbackground": true,
            "showgrid": false,
            "showline": true,
            "ticks": "outside",
            "zeroline": false,
            "zerolinecolor": "rgb(36,36,36)"
           }
          },
          "shapedefaults": {
           "fillcolor": "black",
           "line": {
            "width": 0
           },
           "opacity": 0.3
          },
          "ternary": {
           "aaxis": {
            "gridcolor": "rgb(232,232,232)",
            "linecolor": "rgb(36,36,36)",
            "showgrid": false,
            "showline": true,
            "ticks": "outside"
           },
           "baxis": {
            "gridcolor": "rgb(232,232,232)",
            "linecolor": "rgb(36,36,36)",
            "showgrid": false,
            "showline": true,
            "ticks": "outside"
           },
           "bgcolor": "white",
           "caxis": {
            "gridcolor": "rgb(232,232,232)",
            "linecolor": "rgb(36,36,36)",
            "showgrid": false,
            "showline": true,
            "ticks": "outside"
           }
          },
          "title": {
           "x": 0.05
          },
          "xaxis": {
           "automargin": true,
           "gridcolor": "rgb(232,232,232)",
           "linecolor": "rgb(36,36,36)",
           "showgrid": false,
           "showline": true,
           "ticks": "outside",
           "title": {
            "standoff": 15
           },
           "zeroline": false,
           "zerolinecolor": "rgb(36,36,36)"
          },
          "yaxis": {
           "automargin": true,
           "gridcolor": "rgb(232,232,232)",
           "linecolor": "rgb(36,36,36)",
           "showgrid": false,
           "showline": true,
           "ticks": "outside",
           "title": {
            "standoff": 15
           },
           "zeroline": false,
           "zerolinecolor": "rgb(36,36,36)"
          }
         }
        },
        "title": {
         "font": {
          "color": "Black",
          "size": 22
         },
         "text": "<b>Intertopic Distance Map</b>",
         "x": 0.5,
         "xanchor": "center",
         "y": 0.95,
         "yanchor": "top"
        },
        "width": 650,
        "xaxis": {
         "anchor": "y",
         "domain": [
          0,
          1
         ],
         "range": [
          -8.050686001777649,
          20.330146884918214
         ],
         "title": {
          "text": ""
         },
         "visible": false
        },
        "yaxis": {
         "anchor": "x",
         "domain": [
          0,
          1
         ],
         "range": [
          -15.394779205322266,
          32.89994554519653
         ],
         "title": {
          "text": ""
         },
         "visible": false
        }
       }
      }
     },
     "metadata": {},
     "output_type": "display_data"
    }
   ],
   "source": [
    "# 긍정 리뷰 토픽 관계도 시각화\n",
    "topic_model_positive.visualize_topics()"
   ]
  },
  {
   "cell_type": "code",
   "execution_count": 11,
   "metadata": {},
   "outputs": [
    {
     "data": {
      "application/vnd.plotly.v1+json": {
       "config": {
        "plotlyServerURL": "https://plot.ly"
       },
       "data": [
        {
         "customdata": [
          [
           0,
           "this | game | my | life | you",
           370
          ],
          [
           1,
           "warframe | and | to | that | the",
           145
          ],
          [
           2,
           "bugs | the | devs | and | that",
           106
          ],
          [
           3,
           "grind | grindy | grinding | for | you",
           84
          ],
          [
           4,
           "player | new | the | to | players",
           66
          ],
          [
           5,
           "money | items | any | spending | real",
           43
          ],
          [
           6,
           "review | reviews | people | negative | aoe",
           39
          ],
          [
           7,
           "missions | mission | the | you | to",
           35
          ],
          [
           8,
           "enemies | sent | jays | disciple | with",
           33
          ],
          [
           9,
           "free | game | is | this | play",
           31
          ],
          [
           10,
           "space | ninja | ninjas | three | up",
           26
          ],
          [
           11,
           "farming | farm | simulator | rng | be",
           26
          ],
          [
           12,
           "cocaine | heroin | addicting | addiction | addictive",
           24
          ],
          [
           13,
           "knows | secrets | false | creatures | prophet",
           24
          ],
          [
           14,
           "quest | quests | story | the | of",
           21
          ],
          [
           15,
           "trespassers | keys | mere | use | tenno",
           21
          ],
          [
           16,
           "they | pure | know | place | look",
           20
          ],
          [
           17,
           "impurity | cleanse | vor | place | their",
           20
          ],
          [
           18,
           "bound | forever | void | to | the",
           20
          ],
          [
           19,
           "scavenge | sacred | realm | desecrate | behold",
           19
          ],
          [
           20,
           "resist | lost | tenno | will | they",
           19
          ],
          [
           21,
           "destroyed | janus | key | cut | called",
           19
          ],
          [
           22,
           "stalker | his | murderer | scythe | hes",
           18
          ],
          [
           23,
           "received | product | free | for | bs",
           17
          ],
          [
           24,
           "pay | win | to | not | anyone",
           14
          ],
          [
           25,
           "platinum | currency | buy | syandana | beginners",
           13
          ],
          [
           26,
           "pvp | in | hordes | pve | looking",
           13
          ]
         ],
         "hovertemplate": "<b>Topic %{customdata[0]}</b><br>%{customdata[1]}<br>Size: %{customdata[2]}",
         "legendgroup": "",
         "marker": {
          "color": "#B0BEC5",
          "line": {
           "color": "DarkSlateGrey",
           "width": 2
          },
          "size": [
           370,
           145,
           106,
           84,
           66,
           43,
           39,
           35,
           33,
           31,
           26,
           26,
           24,
           24,
           21,
           21,
           20,
           20,
           20,
           19,
           19,
           19,
           18,
           17,
           14,
           13,
           13
          ],
          "sizemode": "area",
          "sizeref": 0.23125,
          "symbol": "circle"
         },
         "mode": "markers",
         "name": "",
         "orientation": "v",
         "showlegend": false,
         "type": "scatter",
         "x": [
          8.219779968261719,
          -0.7837764024734497,
          -1.9606949090957642,
          6.326596736907959,
          -2.0605976581573486,
          -7.54081392288208,
          -2.381410598754883,
          -1.3470747470855713,
          14.50910758972168,
          12.263521194458008,
          14.670881271362305,
          6.323298931121826,
          8.176653861999512,
          18.71613883972168,
          -1.4125772714614868,
          22.93021583557129,
          18.556476593017578,
          18.44326400756836,
          4.674273490905762,
          22.667890548706055,
          23.006507873535156,
          4.673046112060547,
          14.569537162780762,
          12.304443359375,
          -7.71889591217041,
          -7.271220684051514,
          -0.587140679359436
         ],
         "xaxis": "x",
         "y": [
          21.618547439575195,
          15.651403427124023,
          15.466734886169434,
          7.8058881759643555,
          15.383679389953613,
          -7.471444129943848,
          15.046544075012207,
          15.854819297790527,
          18.62051773071289,
          8.274803161621094,
          18.782197952270508,
          7.804381847381592,
          21.666095733642578,
          -2.1450998783111572,
          16.127626419067383,
          10.870747566223145,
          -1.9854671955108643,
          -1.872177243232727,
          -2.1841835975646973,
          11.133015632629395,
          10.794562339782715,
          -2.1845924854278564,
          18.68113136291504,
          8.233888626098633,
          -7.293345928192139,
          -7.740909576416016,
          15.489433288574219
         ],
         "yaxis": "y"
        }
       ],
       "layout": {
        "annotations": [
         {
          "showarrow": false,
          "text": "D1",
          "x": -8.876730298995971,
          "y": 8.006982040405273,
          "yshift": 10
         },
         {
          "showarrow": false,
          "text": "D2",
          "x": 8.79037687778473,
          "xshift": 10,
          "y": 24.916010093688964
         }
        ],
        "height": 650,
        "hoverlabel": {
         "bgcolor": "white",
         "font": {
          "family": "Rockwell",
          "size": 16
         }
        },
        "legend": {
         "itemsizing": "constant",
         "tracegroupgap": 0
        },
        "margin": {
         "t": 60
        },
        "shapes": [
         {
          "line": {
           "color": "#CFD8DC",
           "width": 2
          },
          "type": "line",
          "x0": 8.79037687778473,
          "x1": 8.79037687778473,
          "y0": -8.902046012878419,
          "y1": 24.916010093688964
         },
         {
          "line": {
           "color": "#9E9E9E",
           "width": 2
          },
          "type": "line",
          "x0": -8.876730298995971,
          "x1": 26.45748405456543,
          "y0": 8.006982040405273,
          "y1": 8.006982040405273
         }
        ],
        "sliders": [
         {
          "active": 0,
          "pad": {
           "t": 50
          },
          "steps": [
           {
            "args": [
             {
              "marker.color": [
               [
                "red",
                "#B0BEC5",
                "#B0BEC5",
                "#B0BEC5",
                "#B0BEC5",
                "#B0BEC5",
                "#B0BEC5",
                "#B0BEC5",
                "#B0BEC5",
                "#B0BEC5",
                "#B0BEC5",
                "#B0BEC5",
                "#B0BEC5",
                "#B0BEC5",
                "#B0BEC5",
                "#B0BEC5",
                "#B0BEC5",
                "#B0BEC5",
                "#B0BEC5",
                "#B0BEC5",
                "#B0BEC5",
                "#B0BEC5",
                "#B0BEC5",
                "#B0BEC5",
                "#B0BEC5",
                "#B0BEC5",
                "#B0BEC5"
               ]
              ]
             }
            ],
            "label": "Topic 0",
            "method": "update"
           },
           {
            "args": [
             {
              "marker.color": [
               [
                "#B0BEC5",
                "red",
                "#B0BEC5",
                "#B0BEC5",
                "#B0BEC5",
                "#B0BEC5",
                "#B0BEC5",
                "#B0BEC5",
                "#B0BEC5",
                "#B0BEC5",
                "#B0BEC5",
                "#B0BEC5",
                "#B0BEC5",
                "#B0BEC5",
                "#B0BEC5",
                "#B0BEC5",
                "#B0BEC5",
                "#B0BEC5",
                "#B0BEC5",
                "#B0BEC5",
                "#B0BEC5",
                "#B0BEC5",
                "#B0BEC5",
                "#B0BEC5",
                "#B0BEC5",
                "#B0BEC5",
                "#B0BEC5"
               ]
              ]
             }
            ],
            "label": "Topic 1",
            "method": "update"
           },
           {
            "args": [
             {
              "marker.color": [
               [
                "#B0BEC5",
                "#B0BEC5",
                "red",
                "#B0BEC5",
                "#B0BEC5",
                "#B0BEC5",
                "#B0BEC5",
                "#B0BEC5",
                "#B0BEC5",
                "#B0BEC5",
                "#B0BEC5",
                "#B0BEC5",
                "#B0BEC5",
                "#B0BEC5",
                "#B0BEC5",
                "#B0BEC5",
                "#B0BEC5",
                "#B0BEC5",
                "#B0BEC5",
                "#B0BEC5",
                "#B0BEC5",
                "#B0BEC5",
                "#B0BEC5",
                "#B0BEC5",
                "#B0BEC5",
                "#B0BEC5",
                "#B0BEC5"
               ]
              ]
             }
            ],
            "label": "Topic 2",
            "method": "update"
           },
           {
            "args": [
             {
              "marker.color": [
               [
                "#B0BEC5",
                "#B0BEC5",
                "#B0BEC5",
                "red",
                "#B0BEC5",
                "#B0BEC5",
                "#B0BEC5",
                "#B0BEC5",
                "#B0BEC5",
                "#B0BEC5",
                "#B0BEC5",
                "#B0BEC5",
                "#B0BEC5",
                "#B0BEC5",
                "#B0BEC5",
                "#B0BEC5",
                "#B0BEC5",
                "#B0BEC5",
                "#B0BEC5",
                "#B0BEC5",
                "#B0BEC5",
                "#B0BEC5",
                "#B0BEC5",
                "#B0BEC5",
                "#B0BEC5",
                "#B0BEC5",
                "#B0BEC5"
               ]
              ]
             }
            ],
            "label": "Topic 3",
            "method": "update"
           },
           {
            "args": [
             {
              "marker.color": [
               [
                "#B0BEC5",
                "#B0BEC5",
                "#B0BEC5",
                "#B0BEC5",
                "red",
                "#B0BEC5",
                "#B0BEC5",
                "#B0BEC5",
                "#B0BEC5",
                "#B0BEC5",
                "#B0BEC5",
                "#B0BEC5",
                "#B0BEC5",
                "#B0BEC5",
                "#B0BEC5",
                "#B0BEC5",
                "#B0BEC5",
                "#B0BEC5",
                "#B0BEC5",
                "#B0BEC5",
                "#B0BEC5",
                "#B0BEC5",
                "#B0BEC5",
                "#B0BEC5",
                "#B0BEC5",
                "#B0BEC5",
                "#B0BEC5"
               ]
              ]
             }
            ],
            "label": "Topic 4",
            "method": "update"
           },
           {
            "args": [
             {
              "marker.color": [
               [
                "#B0BEC5",
                "#B0BEC5",
                "#B0BEC5",
                "#B0BEC5",
                "#B0BEC5",
                "red",
                "#B0BEC5",
                "#B0BEC5",
                "#B0BEC5",
                "#B0BEC5",
                "#B0BEC5",
                "#B0BEC5",
                "#B0BEC5",
                "#B0BEC5",
                "#B0BEC5",
                "#B0BEC5",
                "#B0BEC5",
                "#B0BEC5",
                "#B0BEC5",
                "#B0BEC5",
                "#B0BEC5",
                "#B0BEC5",
                "#B0BEC5",
                "#B0BEC5",
                "#B0BEC5",
                "#B0BEC5",
                "#B0BEC5"
               ]
              ]
             }
            ],
            "label": "Topic 5",
            "method": "update"
           },
           {
            "args": [
             {
              "marker.color": [
               [
                "#B0BEC5",
                "#B0BEC5",
                "#B0BEC5",
                "#B0BEC5",
                "#B0BEC5",
                "#B0BEC5",
                "red",
                "#B0BEC5",
                "#B0BEC5",
                "#B0BEC5",
                "#B0BEC5",
                "#B0BEC5",
                "#B0BEC5",
                "#B0BEC5",
                "#B0BEC5",
                "#B0BEC5",
                "#B0BEC5",
                "#B0BEC5",
                "#B0BEC5",
                "#B0BEC5",
                "#B0BEC5",
                "#B0BEC5",
                "#B0BEC5",
                "#B0BEC5",
                "#B0BEC5",
                "#B0BEC5",
                "#B0BEC5"
               ]
              ]
             }
            ],
            "label": "Topic 6",
            "method": "update"
           },
           {
            "args": [
             {
              "marker.color": [
               [
                "#B0BEC5",
                "#B0BEC5",
                "#B0BEC5",
                "#B0BEC5",
                "#B0BEC5",
                "#B0BEC5",
                "#B0BEC5",
                "red",
                "#B0BEC5",
                "#B0BEC5",
                "#B0BEC5",
                "#B0BEC5",
                "#B0BEC5",
                "#B0BEC5",
                "#B0BEC5",
                "#B0BEC5",
                "#B0BEC5",
                "#B0BEC5",
                "#B0BEC5",
                "#B0BEC5",
                "#B0BEC5",
                "#B0BEC5",
                "#B0BEC5",
                "#B0BEC5",
                "#B0BEC5",
                "#B0BEC5",
                "#B0BEC5"
               ]
              ]
             }
            ],
            "label": "Topic 7",
            "method": "update"
           },
           {
            "args": [
             {
              "marker.color": [
               [
                "#B0BEC5",
                "#B0BEC5",
                "#B0BEC5",
                "#B0BEC5",
                "#B0BEC5",
                "#B0BEC5",
                "#B0BEC5",
                "#B0BEC5",
                "red",
                "#B0BEC5",
                "#B0BEC5",
                "#B0BEC5",
                "#B0BEC5",
                "#B0BEC5",
                "#B0BEC5",
                "#B0BEC5",
                "#B0BEC5",
                "#B0BEC5",
                "#B0BEC5",
                "#B0BEC5",
                "#B0BEC5",
                "#B0BEC5",
                "#B0BEC5",
                "#B0BEC5",
                "#B0BEC5",
                "#B0BEC5",
                "#B0BEC5"
               ]
              ]
             }
            ],
            "label": "Topic 8",
            "method": "update"
           },
           {
            "args": [
             {
              "marker.color": [
               [
                "#B0BEC5",
                "#B0BEC5",
                "#B0BEC5",
                "#B0BEC5",
                "#B0BEC5",
                "#B0BEC5",
                "#B0BEC5",
                "#B0BEC5",
                "#B0BEC5",
                "red",
                "#B0BEC5",
                "#B0BEC5",
                "#B0BEC5",
                "#B0BEC5",
                "#B0BEC5",
                "#B0BEC5",
                "#B0BEC5",
                "#B0BEC5",
                "#B0BEC5",
                "#B0BEC5",
                "#B0BEC5",
                "#B0BEC5",
                "#B0BEC5",
                "#B0BEC5",
                "#B0BEC5",
                "#B0BEC5",
                "#B0BEC5"
               ]
              ]
             }
            ],
            "label": "Topic 9",
            "method": "update"
           },
           {
            "args": [
             {
              "marker.color": [
               [
                "#B0BEC5",
                "#B0BEC5",
                "#B0BEC5",
                "#B0BEC5",
                "#B0BEC5",
                "#B0BEC5",
                "#B0BEC5",
                "#B0BEC5",
                "#B0BEC5",
                "#B0BEC5",
                "red",
                "#B0BEC5",
                "#B0BEC5",
                "#B0BEC5",
                "#B0BEC5",
                "#B0BEC5",
                "#B0BEC5",
                "#B0BEC5",
                "#B0BEC5",
                "#B0BEC5",
                "#B0BEC5",
                "#B0BEC5",
                "#B0BEC5",
                "#B0BEC5",
                "#B0BEC5",
                "#B0BEC5",
                "#B0BEC5"
               ]
              ]
             }
            ],
            "label": "Topic 10",
            "method": "update"
           },
           {
            "args": [
             {
              "marker.color": [
               [
                "#B0BEC5",
                "#B0BEC5",
                "#B0BEC5",
                "#B0BEC5",
                "#B0BEC5",
                "#B0BEC5",
                "#B0BEC5",
                "#B0BEC5",
                "#B0BEC5",
                "#B0BEC5",
                "#B0BEC5",
                "red",
                "#B0BEC5",
                "#B0BEC5",
                "#B0BEC5",
                "#B0BEC5",
                "#B0BEC5",
                "#B0BEC5",
                "#B0BEC5",
                "#B0BEC5",
                "#B0BEC5",
                "#B0BEC5",
                "#B0BEC5",
                "#B0BEC5",
                "#B0BEC5",
                "#B0BEC5",
                "#B0BEC5"
               ]
              ]
             }
            ],
            "label": "Topic 11",
            "method": "update"
           },
           {
            "args": [
             {
              "marker.color": [
               [
                "#B0BEC5",
                "#B0BEC5",
                "#B0BEC5",
                "#B0BEC5",
                "#B0BEC5",
                "#B0BEC5",
                "#B0BEC5",
                "#B0BEC5",
                "#B0BEC5",
                "#B0BEC5",
                "#B0BEC5",
                "#B0BEC5",
                "red",
                "#B0BEC5",
                "#B0BEC5",
                "#B0BEC5",
                "#B0BEC5",
                "#B0BEC5",
                "#B0BEC5",
                "#B0BEC5",
                "#B0BEC5",
                "#B0BEC5",
                "#B0BEC5",
                "#B0BEC5",
                "#B0BEC5",
                "#B0BEC5",
                "#B0BEC5"
               ]
              ]
             }
            ],
            "label": "Topic 12",
            "method": "update"
           },
           {
            "args": [
             {
              "marker.color": [
               [
                "#B0BEC5",
                "#B0BEC5",
                "#B0BEC5",
                "#B0BEC5",
                "#B0BEC5",
                "#B0BEC5",
                "#B0BEC5",
                "#B0BEC5",
                "#B0BEC5",
                "#B0BEC5",
                "#B0BEC5",
                "#B0BEC5",
                "#B0BEC5",
                "red",
                "#B0BEC5",
                "#B0BEC5",
                "#B0BEC5",
                "#B0BEC5",
                "#B0BEC5",
                "#B0BEC5",
                "#B0BEC5",
                "#B0BEC5",
                "#B0BEC5",
                "#B0BEC5",
                "#B0BEC5",
                "#B0BEC5",
                "#B0BEC5"
               ]
              ]
             }
            ],
            "label": "Topic 13",
            "method": "update"
           },
           {
            "args": [
             {
              "marker.color": [
               [
                "#B0BEC5",
                "#B0BEC5",
                "#B0BEC5",
                "#B0BEC5",
                "#B0BEC5",
                "#B0BEC5",
                "#B0BEC5",
                "#B0BEC5",
                "#B0BEC5",
                "#B0BEC5",
                "#B0BEC5",
                "#B0BEC5",
                "#B0BEC5",
                "#B0BEC5",
                "red",
                "#B0BEC5",
                "#B0BEC5",
                "#B0BEC5",
                "#B0BEC5",
                "#B0BEC5",
                "#B0BEC5",
                "#B0BEC5",
                "#B0BEC5",
                "#B0BEC5",
                "#B0BEC5",
                "#B0BEC5",
                "#B0BEC5"
               ]
              ]
             }
            ],
            "label": "Topic 14",
            "method": "update"
           },
           {
            "args": [
             {
              "marker.color": [
               [
                "#B0BEC5",
                "#B0BEC5",
                "#B0BEC5",
                "#B0BEC5",
                "#B0BEC5",
                "#B0BEC5",
                "#B0BEC5",
                "#B0BEC5",
                "#B0BEC5",
                "#B0BEC5",
                "#B0BEC5",
                "#B0BEC5",
                "#B0BEC5",
                "#B0BEC5",
                "#B0BEC5",
                "red",
                "#B0BEC5",
                "#B0BEC5",
                "#B0BEC5",
                "#B0BEC5",
                "#B0BEC5",
                "#B0BEC5",
                "#B0BEC5",
                "#B0BEC5",
                "#B0BEC5",
                "#B0BEC5",
                "#B0BEC5"
               ]
              ]
             }
            ],
            "label": "Topic 15",
            "method": "update"
           },
           {
            "args": [
             {
              "marker.color": [
               [
                "#B0BEC5",
                "#B0BEC5",
                "#B0BEC5",
                "#B0BEC5",
                "#B0BEC5",
                "#B0BEC5",
                "#B0BEC5",
                "#B0BEC5",
                "#B0BEC5",
                "#B0BEC5",
                "#B0BEC5",
                "#B0BEC5",
                "#B0BEC5",
                "#B0BEC5",
                "#B0BEC5",
                "#B0BEC5",
                "red",
                "#B0BEC5",
                "#B0BEC5",
                "#B0BEC5",
                "#B0BEC5",
                "#B0BEC5",
                "#B0BEC5",
                "#B0BEC5",
                "#B0BEC5",
                "#B0BEC5",
                "#B0BEC5"
               ]
              ]
             }
            ],
            "label": "Topic 16",
            "method": "update"
           },
           {
            "args": [
             {
              "marker.color": [
               [
                "#B0BEC5",
                "#B0BEC5",
                "#B0BEC5",
                "#B0BEC5",
                "#B0BEC5",
                "#B0BEC5",
                "#B0BEC5",
                "#B0BEC5",
                "#B0BEC5",
                "#B0BEC5",
                "#B0BEC5",
                "#B0BEC5",
                "#B0BEC5",
                "#B0BEC5",
                "#B0BEC5",
                "#B0BEC5",
                "#B0BEC5",
                "red",
                "#B0BEC5",
                "#B0BEC5",
                "#B0BEC5",
                "#B0BEC5",
                "#B0BEC5",
                "#B0BEC5",
                "#B0BEC5",
                "#B0BEC5",
                "#B0BEC5"
               ]
              ]
             }
            ],
            "label": "Topic 17",
            "method": "update"
           },
           {
            "args": [
             {
              "marker.color": [
               [
                "#B0BEC5",
                "#B0BEC5",
                "#B0BEC5",
                "#B0BEC5",
                "#B0BEC5",
                "#B0BEC5",
                "#B0BEC5",
                "#B0BEC5",
                "#B0BEC5",
                "#B0BEC5",
                "#B0BEC5",
                "#B0BEC5",
                "#B0BEC5",
                "#B0BEC5",
                "#B0BEC5",
                "#B0BEC5",
                "#B0BEC5",
                "#B0BEC5",
                "red",
                "#B0BEC5",
                "#B0BEC5",
                "#B0BEC5",
                "#B0BEC5",
                "#B0BEC5",
                "#B0BEC5",
                "#B0BEC5",
                "#B0BEC5"
               ]
              ]
             }
            ],
            "label": "Topic 18",
            "method": "update"
           },
           {
            "args": [
             {
              "marker.color": [
               [
                "#B0BEC5",
                "#B0BEC5",
                "#B0BEC5",
                "#B0BEC5",
                "#B0BEC5",
                "#B0BEC5",
                "#B0BEC5",
                "#B0BEC5",
                "#B0BEC5",
                "#B0BEC5",
                "#B0BEC5",
                "#B0BEC5",
                "#B0BEC5",
                "#B0BEC5",
                "#B0BEC5",
                "#B0BEC5",
                "#B0BEC5",
                "#B0BEC5",
                "#B0BEC5",
                "red",
                "#B0BEC5",
                "#B0BEC5",
                "#B0BEC5",
                "#B0BEC5",
                "#B0BEC5",
                "#B0BEC5",
                "#B0BEC5"
               ]
              ]
             }
            ],
            "label": "Topic 19",
            "method": "update"
           },
           {
            "args": [
             {
              "marker.color": [
               [
                "#B0BEC5",
                "#B0BEC5",
                "#B0BEC5",
                "#B0BEC5",
                "#B0BEC5",
                "#B0BEC5",
                "#B0BEC5",
                "#B0BEC5",
                "#B0BEC5",
                "#B0BEC5",
                "#B0BEC5",
                "#B0BEC5",
                "#B0BEC5",
                "#B0BEC5",
                "#B0BEC5",
                "#B0BEC5",
                "#B0BEC5",
                "#B0BEC5",
                "#B0BEC5",
                "#B0BEC5",
                "red",
                "#B0BEC5",
                "#B0BEC5",
                "#B0BEC5",
                "#B0BEC5",
                "#B0BEC5",
                "#B0BEC5"
               ]
              ]
             }
            ],
            "label": "Topic 20",
            "method": "update"
           },
           {
            "args": [
             {
              "marker.color": [
               [
                "#B0BEC5",
                "#B0BEC5",
                "#B0BEC5",
                "#B0BEC5",
                "#B0BEC5",
                "#B0BEC5",
                "#B0BEC5",
                "#B0BEC5",
                "#B0BEC5",
                "#B0BEC5",
                "#B0BEC5",
                "#B0BEC5",
                "#B0BEC5",
                "#B0BEC5",
                "#B0BEC5",
                "#B0BEC5",
                "#B0BEC5",
                "#B0BEC5",
                "#B0BEC5",
                "#B0BEC5",
                "#B0BEC5",
                "red",
                "#B0BEC5",
                "#B0BEC5",
                "#B0BEC5",
                "#B0BEC5",
                "#B0BEC5"
               ]
              ]
             }
            ],
            "label": "Topic 21",
            "method": "update"
           },
           {
            "args": [
             {
              "marker.color": [
               [
                "#B0BEC5",
                "#B0BEC5",
                "#B0BEC5",
                "#B0BEC5",
                "#B0BEC5",
                "#B0BEC5",
                "#B0BEC5",
                "#B0BEC5",
                "#B0BEC5",
                "#B0BEC5",
                "#B0BEC5",
                "#B0BEC5",
                "#B0BEC5",
                "#B0BEC5",
                "#B0BEC5",
                "#B0BEC5",
                "#B0BEC5",
                "#B0BEC5",
                "#B0BEC5",
                "#B0BEC5",
                "#B0BEC5",
                "#B0BEC5",
                "red",
                "#B0BEC5",
                "#B0BEC5",
                "#B0BEC5",
                "#B0BEC5"
               ]
              ]
             }
            ],
            "label": "Topic 22",
            "method": "update"
           },
           {
            "args": [
             {
              "marker.color": [
               [
                "#B0BEC5",
                "#B0BEC5",
                "#B0BEC5",
                "#B0BEC5",
                "#B0BEC5",
                "#B0BEC5",
                "#B0BEC5",
                "#B0BEC5",
                "#B0BEC5",
                "#B0BEC5",
                "#B0BEC5",
                "#B0BEC5",
                "#B0BEC5",
                "#B0BEC5",
                "#B0BEC5",
                "#B0BEC5",
                "#B0BEC5",
                "#B0BEC5",
                "#B0BEC5",
                "#B0BEC5",
                "#B0BEC5",
                "#B0BEC5",
                "#B0BEC5",
                "red",
                "#B0BEC5",
                "#B0BEC5",
                "#B0BEC5"
               ]
              ]
             }
            ],
            "label": "Topic 23",
            "method": "update"
           },
           {
            "args": [
             {
              "marker.color": [
               [
                "#B0BEC5",
                "#B0BEC5",
                "#B0BEC5",
                "#B0BEC5",
                "#B0BEC5",
                "#B0BEC5",
                "#B0BEC5",
                "#B0BEC5",
                "#B0BEC5",
                "#B0BEC5",
                "#B0BEC5",
                "#B0BEC5",
                "#B0BEC5",
                "#B0BEC5",
                "#B0BEC5",
                "#B0BEC5",
                "#B0BEC5",
                "#B0BEC5",
                "#B0BEC5",
                "#B0BEC5",
                "#B0BEC5",
                "#B0BEC5",
                "#B0BEC5",
                "#B0BEC5",
                "red",
                "#B0BEC5",
                "#B0BEC5"
               ]
              ]
             }
            ],
            "label": "Topic 24",
            "method": "update"
           },
           {
            "args": [
             {
              "marker.color": [
               [
                "#B0BEC5",
                "#B0BEC5",
                "#B0BEC5",
                "#B0BEC5",
                "#B0BEC5",
                "#B0BEC5",
                "#B0BEC5",
                "#B0BEC5",
                "#B0BEC5",
                "#B0BEC5",
                "#B0BEC5",
                "#B0BEC5",
                "#B0BEC5",
                "#B0BEC5",
                "#B0BEC5",
                "#B0BEC5",
                "#B0BEC5",
                "#B0BEC5",
                "#B0BEC5",
                "#B0BEC5",
                "#B0BEC5",
                "#B0BEC5",
                "#B0BEC5",
                "#B0BEC5",
                "#B0BEC5",
                "red",
                "#B0BEC5"
               ]
              ]
             }
            ],
            "label": "Topic 25",
            "method": "update"
           },
           {
            "args": [
             {
              "marker.color": [
               [
                "#B0BEC5",
                "#B0BEC5",
                "#B0BEC5",
                "#B0BEC5",
                "#B0BEC5",
                "#B0BEC5",
                "#B0BEC5",
                "#B0BEC5",
                "#B0BEC5",
                "#B0BEC5",
                "#B0BEC5",
                "#B0BEC5",
                "#B0BEC5",
                "#B0BEC5",
                "#B0BEC5",
                "#B0BEC5",
                "#B0BEC5",
                "#B0BEC5",
                "#B0BEC5",
                "#B0BEC5",
                "#B0BEC5",
                "#B0BEC5",
                "#B0BEC5",
                "#B0BEC5",
                "#B0BEC5",
                "#B0BEC5",
                "red"
               ]
              ]
             }
            ],
            "label": "Topic 26",
            "method": "update"
           }
          ]
         }
        ],
        "template": {
         "data": {
          "bar": [
           {
            "error_x": {
             "color": "rgb(36,36,36)"
            },
            "error_y": {
             "color": "rgb(36,36,36)"
            },
            "marker": {
             "line": {
              "color": "white",
              "width": 0.5
             },
             "pattern": {
              "fillmode": "overlay",
              "size": 10,
              "solidity": 0.2
             }
            },
            "type": "bar"
           }
          ],
          "barpolar": [
           {
            "marker": {
             "line": {
              "color": "white",
              "width": 0.5
             },
             "pattern": {
              "fillmode": "overlay",
              "size": 10,
              "solidity": 0.2
             }
            },
            "type": "barpolar"
           }
          ],
          "carpet": [
           {
            "aaxis": {
             "endlinecolor": "rgb(36,36,36)",
             "gridcolor": "white",
             "linecolor": "white",
             "minorgridcolor": "white",
             "startlinecolor": "rgb(36,36,36)"
            },
            "baxis": {
             "endlinecolor": "rgb(36,36,36)",
             "gridcolor": "white",
             "linecolor": "white",
             "minorgridcolor": "white",
             "startlinecolor": "rgb(36,36,36)"
            },
            "type": "carpet"
           }
          ],
          "choropleth": [
           {
            "colorbar": {
             "outlinewidth": 1,
             "tickcolor": "rgb(36,36,36)",
             "ticks": "outside"
            },
            "type": "choropleth"
           }
          ],
          "contour": [
           {
            "colorbar": {
             "outlinewidth": 1,
             "tickcolor": "rgb(36,36,36)",
             "ticks": "outside"
            },
            "colorscale": [
             [
              0,
              "#440154"
             ],
             [
              0.1111111111111111,
              "#482878"
             ],
             [
              0.2222222222222222,
              "#3e4989"
             ],
             [
              0.3333333333333333,
              "#31688e"
             ],
             [
              0.4444444444444444,
              "#26828e"
             ],
             [
              0.5555555555555556,
              "#1f9e89"
             ],
             [
              0.6666666666666666,
              "#35b779"
             ],
             [
              0.7777777777777778,
              "#6ece58"
             ],
             [
              0.8888888888888888,
              "#b5de2b"
             ],
             [
              1,
              "#fde725"
             ]
            ],
            "type": "contour"
           }
          ],
          "contourcarpet": [
           {
            "colorbar": {
             "outlinewidth": 1,
             "tickcolor": "rgb(36,36,36)",
             "ticks": "outside"
            },
            "type": "contourcarpet"
           }
          ],
          "heatmap": [
           {
            "colorbar": {
             "outlinewidth": 1,
             "tickcolor": "rgb(36,36,36)",
             "ticks": "outside"
            },
            "colorscale": [
             [
              0,
              "#440154"
             ],
             [
              0.1111111111111111,
              "#482878"
             ],
             [
              0.2222222222222222,
              "#3e4989"
             ],
             [
              0.3333333333333333,
              "#31688e"
             ],
             [
              0.4444444444444444,
              "#26828e"
             ],
             [
              0.5555555555555556,
              "#1f9e89"
             ],
             [
              0.6666666666666666,
              "#35b779"
             ],
             [
              0.7777777777777778,
              "#6ece58"
             ],
             [
              0.8888888888888888,
              "#b5de2b"
             ],
             [
              1,
              "#fde725"
             ]
            ],
            "type": "heatmap"
           }
          ],
          "heatmapgl": [
           {
            "colorbar": {
             "outlinewidth": 1,
             "tickcolor": "rgb(36,36,36)",
             "ticks": "outside"
            },
            "colorscale": [
             [
              0,
              "#440154"
             ],
             [
              0.1111111111111111,
              "#482878"
             ],
             [
              0.2222222222222222,
              "#3e4989"
             ],
             [
              0.3333333333333333,
              "#31688e"
             ],
             [
              0.4444444444444444,
              "#26828e"
             ],
             [
              0.5555555555555556,
              "#1f9e89"
             ],
             [
              0.6666666666666666,
              "#35b779"
             ],
             [
              0.7777777777777778,
              "#6ece58"
             ],
             [
              0.8888888888888888,
              "#b5de2b"
             ],
             [
              1,
              "#fde725"
             ]
            ],
            "type": "heatmapgl"
           }
          ],
          "histogram": [
           {
            "marker": {
             "line": {
              "color": "white",
              "width": 0.6
             }
            },
            "type": "histogram"
           }
          ],
          "histogram2d": [
           {
            "colorbar": {
             "outlinewidth": 1,
             "tickcolor": "rgb(36,36,36)",
             "ticks": "outside"
            },
            "colorscale": [
             [
              0,
              "#440154"
             ],
             [
              0.1111111111111111,
              "#482878"
             ],
             [
              0.2222222222222222,
              "#3e4989"
             ],
             [
              0.3333333333333333,
              "#31688e"
             ],
             [
              0.4444444444444444,
              "#26828e"
             ],
             [
              0.5555555555555556,
              "#1f9e89"
             ],
             [
              0.6666666666666666,
              "#35b779"
             ],
             [
              0.7777777777777778,
              "#6ece58"
             ],
             [
              0.8888888888888888,
              "#b5de2b"
             ],
             [
              1,
              "#fde725"
             ]
            ],
            "type": "histogram2d"
           }
          ],
          "histogram2dcontour": [
           {
            "colorbar": {
             "outlinewidth": 1,
             "tickcolor": "rgb(36,36,36)",
             "ticks": "outside"
            },
            "colorscale": [
             [
              0,
              "#440154"
             ],
             [
              0.1111111111111111,
              "#482878"
             ],
             [
              0.2222222222222222,
              "#3e4989"
             ],
             [
              0.3333333333333333,
              "#31688e"
             ],
             [
              0.4444444444444444,
              "#26828e"
             ],
             [
              0.5555555555555556,
              "#1f9e89"
             ],
             [
              0.6666666666666666,
              "#35b779"
             ],
             [
              0.7777777777777778,
              "#6ece58"
             ],
             [
              0.8888888888888888,
              "#b5de2b"
             ],
             [
              1,
              "#fde725"
             ]
            ],
            "type": "histogram2dcontour"
           }
          ],
          "mesh3d": [
           {
            "colorbar": {
             "outlinewidth": 1,
             "tickcolor": "rgb(36,36,36)",
             "ticks": "outside"
            },
            "type": "mesh3d"
           }
          ],
          "parcoords": [
           {
            "line": {
             "colorbar": {
              "outlinewidth": 1,
              "tickcolor": "rgb(36,36,36)",
              "ticks": "outside"
             }
            },
            "type": "parcoords"
           }
          ],
          "pie": [
           {
            "automargin": true,
            "type": "pie"
           }
          ],
          "scatter": [
           {
            "fillpattern": {
             "fillmode": "overlay",
             "size": 10,
             "solidity": 0.2
            },
            "type": "scatter"
           }
          ],
          "scatter3d": [
           {
            "line": {
             "colorbar": {
              "outlinewidth": 1,
              "tickcolor": "rgb(36,36,36)",
              "ticks": "outside"
             }
            },
            "marker": {
             "colorbar": {
              "outlinewidth": 1,
              "tickcolor": "rgb(36,36,36)",
              "ticks": "outside"
             }
            },
            "type": "scatter3d"
           }
          ],
          "scattercarpet": [
           {
            "marker": {
             "colorbar": {
              "outlinewidth": 1,
              "tickcolor": "rgb(36,36,36)",
              "ticks": "outside"
             }
            },
            "type": "scattercarpet"
           }
          ],
          "scattergeo": [
           {
            "marker": {
             "colorbar": {
              "outlinewidth": 1,
              "tickcolor": "rgb(36,36,36)",
              "ticks": "outside"
             }
            },
            "type": "scattergeo"
           }
          ],
          "scattergl": [
           {
            "marker": {
             "colorbar": {
              "outlinewidth": 1,
              "tickcolor": "rgb(36,36,36)",
              "ticks": "outside"
             }
            },
            "type": "scattergl"
           }
          ],
          "scattermapbox": [
           {
            "marker": {
             "colorbar": {
              "outlinewidth": 1,
              "tickcolor": "rgb(36,36,36)",
              "ticks": "outside"
             }
            },
            "type": "scattermapbox"
           }
          ],
          "scatterpolar": [
           {
            "marker": {
             "colorbar": {
              "outlinewidth": 1,
              "tickcolor": "rgb(36,36,36)",
              "ticks": "outside"
             }
            },
            "type": "scatterpolar"
           }
          ],
          "scatterpolargl": [
           {
            "marker": {
             "colorbar": {
              "outlinewidth": 1,
              "tickcolor": "rgb(36,36,36)",
              "ticks": "outside"
             }
            },
            "type": "scatterpolargl"
           }
          ],
          "scatterternary": [
           {
            "marker": {
             "colorbar": {
              "outlinewidth": 1,
              "tickcolor": "rgb(36,36,36)",
              "ticks": "outside"
             }
            },
            "type": "scatterternary"
           }
          ],
          "surface": [
           {
            "colorbar": {
             "outlinewidth": 1,
             "tickcolor": "rgb(36,36,36)",
             "ticks": "outside"
            },
            "colorscale": [
             [
              0,
              "#440154"
             ],
             [
              0.1111111111111111,
              "#482878"
             ],
             [
              0.2222222222222222,
              "#3e4989"
             ],
             [
              0.3333333333333333,
              "#31688e"
             ],
             [
              0.4444444444444444,
              "#26828e"
             ],
             [
              0.5555555555555556,
              "#1f9e89"
             ],
             [
              0.6666666666666666,
              "#35b779"
             ],
             [
              0.7777777777777778,
              "#6ece58"
             ],
             [
              0.8888888888888888,
              "#b5de2b"
             ],
             [
              1,
              "#fde725"
             ]
            ],
            "type": "surface"
           }
          ],
          "table": [
           {
            "cells": {
             "fill": {
              "color": "rgb(237,237,237)"
             },
             "line": {
              "color": "white"
             }
            },
            "header": {
             "fill": {
              "color": "rgb(217,217,217)"
             },
             "line": {
              "color": "white"
             }
            },
            "type": "table"
           }
          ]
         },
         "layout": {
          "annotationdefaults": {
           "arrowhead": 0,
           "arrowwidth": 1
          },
          "autotypenumbers": "strict",
          "coloraxis": {
           "colorbar": {
            "outlinewidth": 1,
            "tickcolor": "rgb(36,36,36)",
            "ticks": "outside"
           }
          },
          "colorscale": {
           "diverging": [
            [
             0,
             "rgb(103,0,31)"
            ],
            [
             0.1,
             "rgb(178,24,43)"
            ],
            [
             0.2,
             "rgb(214,96,77)"
            ],
            [
             0.3,
             "rgb(244,165,130)"
            ],
            [
             0.4,
             "rgb(253,219,199)"
            ],
            [
             0.5,
             "rgb(247,247,247)"
            ],
            [
             0.6,
             "rgb(209,229,240)"
            ],
            [
             0.7,
             "rgb(146,197,222)"
            ],
            [
             0.8,
             "rgb(67,147,195)"
            ],
            [
             0.9,
             "rgb(33,102,172)"
            ],
            [
             1,
             "rgb(5,48,97)"
            ]
           ],
           "sequential": [
            [
             0,
             "#440154"
            ],
            [
             0.1111111111111111,
             "#482878"
            ],
            [
             0.2222222222222222,
             "#3e4989"
            ],
            [
             0.3333333333333333,
             "#31688e"
            ],
            [
             0.4444444444444444,
             "#26828e"
            ],
            [
             0.5555555555555556,
             "#1f9e89"
            ],
            [
             0.6666666666666666,
             "#35b779"
            ],
            [
             0.7777777777777778,
             "#6ece58"
            ],
            [
             0.8888888888888888,
             "#b5de2b"
            ],
            [
             1,
             "#fde725"
            ]
           ],
           "sequentialminus": [
            [
             0,
             "#440154"
            ],
            [
             0.1111111111111111,
             "#482878"
            ],
            [
             0.2222222222222222,
             "#3e4989"
            ],
            [
             0.3333333333333333,
             "#31688e"
            ],
            [
             0.4444444444444444,
             "#26828e"
            ],
            [
             0.5555555555555556,
             "#1f9e89"
            ],
            [
             0.6666666666666666,
             "#35b779"
            ],
            [
             0.7777777777777778,
             "#6ece58"
            ],
            [
             0.8888888888888888,
             "#b5de2b"
            ],
            [
             1,
             "#fde725"
            ]
           ]
          },
          "colorway": [
           "#1F77B4",
           "#FF7F0E",
           "#2CA02C",
           "#D62728",
           "#9467BD",
           "#8C564B",
           "#E377C2",
           "#7F7F7F",
           "#BCBD22",
           "#17BECF"
          ],
          "font": {
           "color": "rgb(36,36,36)"
          },
          "geo": {
           "bgcolor": "white",
           "lakecolor": "white",
           "landcolor": "white",
           "showlakes": true,
           "showland": true,
           "subunitcolor": "white"
          },
          "hoverlabel": {
           "align": "left"
          },
          "hovermode": "closest",
          "mapbox": {
           "style": "light"
          },
          "paper_bgcolor": "white",
          "plot_bgcolor": "white",
          "polar": {
           "angularaxis": {
            "gridcolor": "rgb(232,232,232)",
            "linecolor": "rgb(36,36,36)",
            "showgrid": false,
            "showline": true,
            "ticks": "outside"
           },
           "bgcolor": "white",
           "radialaxis": {
            "gridcolor": "rgb(232,232,232)",
            "linecolor": "rgb(36,36,36)",
            "showgrid": false,
            "showline": true,
            "ticks": "outside"
           }
          },
          "scene": {
           "xaxis": {
            "backgroundcolor": "white",
            "gridcolor": "rgb(232,232,232)",
            "gridwidth": 2,
            "linecolor": "rgb(36,36,36)",
            "showbackground": true,
            "showgrid": false,
            "showline": true,
            "ticks": "outside",
            "zeroline": false,
            "zerolinecolor": "rgb(36,36,36)"
           },
           "yaxis": {
            "backgroundcolor": "white",
            "gridcolor": "rgb(232,232,232)",
            "gridwidth": 2,
            "linecolor": "rgb(36,36,36)",
            "showbackground": true,
            "showgrid": false,
            "showline": true,
            "ticks": "outside",
            "zeroline": false,
            "zerolinecolor": "rgb(36,36,36)"
           },
           "zaxis": {
            "backgroundcolor": "white",
            "gridcolor": "rgb(232,232,232)",
            "gridwidth": 2,
            "linecolor": "rgb(36,36,36)",
            "showbackground": true,
            "showgrid": false,
            "showline": true,
            "ticks": "outside",
            "zeroline": false,
            "zerolinecolor": "rgb(36,36,36)"
           }
          },
          "shapedefaults": {
           "fillcolor": "black",
           "line": {
            "width": 0
           },
           "opacity": 0.3
          },
          "ternary": {
           "aaxis": {
            "gridcolor": "rgb(232,232,232)",
            "linecolor": "rgb(36,36,36)",
            "showgrid": false,
            "showline": true,
            "ticks": "outside"
           },
           "baxis": {
            "gridcolor": "rgb(232,232,232)",
            "linecolor": "rgb(36,36,36)",
            "showgrid": false,
            "showline": true,
            "ticks": "outside"
           },
           "bgcolor": "white",
           "caxis": {
            "gridcolor": "rgb(232,232,232)",
            "linecolor": "rgb(36,36,36)",
            "showgrid": false,
            "showline": true,
            "ticks": "outside"
           }
          },
          "title": {
           "x": 0.05
          },
          "xaxis": {
           "automargin": true,
           "gridcolor": "rgb(232,232,232)",
           "linecolor": "rgb(36,36,36)",
           "showgrid": false,
           "showline": true,
           "ticks": "outside",
           "title": {
            "standoff": 15
           },
           "zeroline": false,
           "zerolinecolor": "rgb(36,36,36)"
          },
          "yaxis": {
           "automargin": true,
           "gridcolor": "rgb(232,232,232)",
           "linecolor": "rgb(36,36,36)",
           "showgrid": false,
           "showline": true,
           "ticks": "outside",
           "title": {
            "standoff": 15
           },
           "zeroline": false,
           "zerolinecolor": "rgb(36,36,36)"
          }
         }
        },
        "title": {
         "font": {
          "color": "Black",
          "size": 22
         },
         "text": "<b>Intertopic Distance Map</b>",
         "x": 0.5,
         "xanchor": "center",
         "y": 0.95,
         "yanchor": "top"
        },
        "width": 650,
        "xaxis": {
         "anchor": "y",
         "domain": [
          0,
          1
         ],
         "range": [
          -8.876730298995971,
          26.45748405456543
         ],
         "title": {
          "text": ""
         },
         "visible": false
        },
        "yaxis": {
         "anchor": "x",
         "domain": [
          0,
          1
         ],
         "range": [
          -8.902046012878419,
          24.916010093688964
         ],
         "title": {
          "text": ""
         },
         "visible": false
        }
       }
      }
     },
     "metadata": {},
     "output_type": "display_data"
    }
   ],
   "source": [
    "# 부정 리뷰 토픽 관계도 시각화\n",
    "topic_model_negative.visualize_topics()"
   ]
  },
  {
   "cell_type": "code",
   "execution_count": 12,
   "metadata": {},
   "outputs": [
    {
     "data": {
      "application/vnd.plotly.v1+json": {
       "config": {
        "plotlyServerURL": "https://plot.ly"
       },
       "data": [
        {
         "marker": {
          "color": "#D55E00"
         },
         "orientation": "h",
         "type": "bar",
         "x": [
          0.01757597966559067,
          0.018307391236725718,
          0.03229214443375012,
          0.039259058258832344,
          0.06703212564338314
         ],
         "xaxis": "x",
         "y": [
          "one  ",
          "to  ",
          "best  ",
          "play  ",
          "free  "
         ],
         "yaxis": "y"
        },
        {
         "marker": {
          "color": "#0072B2"
         },
         "orientation": "h",
         "type": "bar",
         "x": [
          0.01876447620584864,
          0.019550635100427198,
          0.02020789745245238,
          0.023003916202264187,
          0.0522282725787824
         ],
         "xaxis": "x2",
         "y": [
          "run  ",
          "are  ",
          "beautiful  ",
          "design  ",
          "graphics  "
         ],
         "yaxis": "y2"
        },
        {
         "marker": {
          "color": "#CC79A7"
         },
         "orientation": "h",
         "type": "bar",
         "x": [
          0.5593510460156059,
          0.5739155973957548,
          0.7462481894288572,
          0.8327318425681639,
          1.4924963788577144
         ],
         "xaxis": "x3",
         "y": [
          "hey  ",
          "boy  ",
          "ah  ",
          "aha  ",
          "uwu  "
         ],
         "yaxis": "y3"
        },
        {
         "marker": {
          "color": "#E69F00"
         },
         "orientation": "h",
         "type": "bar",
         "x": [
          0.01479743660210277,
          0.018794109593633302,
          0.018916730291981584,
          0.04423656103636433,
          0.14284566230429005
         ],
         "xaxis": "x4",
         "y": [
          "you  ",
          "grindy  ",
          "but  ",
          "grinding  ",
          "grind  "
         ],
         "yaxis": "y4"
        },
        {
         "marker": {
          "color": "#56B4E9"
         },
         "orientation": "h",
         "type": "bar",
         "x": [
          0.023784289638142175,
          0.03977952081793931,
          0.04215147297456366,
          0.04282054142198195,
          0.07646380850211726
         ],
         "xaxis": "x5",
         "y": [
          "players  ",
          "help  ",
          "helpful  ",
          "friendly  ",
          "community  "
         ],
         "yaxis": "y5"
        },
        {
         "marker": {
          "color": "#009E73"
         },
         "orientation": "h",
         "type": "bar",
         "x": [
          0.013613479796057534,
          0.015302156713683698,
          0.041708258213452004,
          0.06582734709528269,
          0.06738571939980773
         ],
         "xaxis": "x6",
         "y": [
          "you  ",
          "like  ",
          "ninjas  ",
          "ninja  ",
          "space  "
         ],
         "yaxis": "y6"
        },
        {
         "marker": {
          "color": "#F0E442"
         },
         "orientation": "h",
         "type": "bar",
         "x": [
          0.07784838266658402,
          0.07874729952966245,
          0.07966522845371775,
          0.08908527678805193,
          0.12121325116943292
         ],
         "xaxis": "x7",
         "y": [
          "good  ",
          "cool  ",
          "awesome  ",
          "pretty  ",
          "nice  "
         ],
         "yaxis": "y7"
        },
        {
         "marker": {
          "color": "#D55E00"
         },
         "orientation": "h",
         "type": "bar",
         "x": [
          0.025061914110633618,
          0.0253614120779615,
          0.027151987996681105,
          0.04361872264328013,
          0.10931668506434888
         ],
         "xaxis": "x8",
         "y": [
          "good  ",
          "far  ",
          "seems  ",
          "played  ",
          "hours  "
         ],
         "yaxis": "y8"
        },
        {
         "marker": {
          "color": "#0072B2"
         },
         "orientation": "h",
         "type": "bar",
         "x": [
          0.01946146782678763,
          0.022526870307378745,
          0.02257774703303607,
          0.023681739565652983,
          0.024773832325654308
         ],
         "xaxis": "x9",
         "y": [
          "can  ",
          "pay  ",
          "everything  ",
          "without  ",
          "items  "
         ],
         "yaxis": "y9"
        },
        {
         "marker": {
          "color": "#CC79A7"
         },
         "orientation": "h",
         "type": "bar",
         "x": [
          0.02110670149909296,
          0.022831145802066185,
          0.02468967629049234,
          0.04477273601097594,
          0.05219801021743335
         ],
         "xaxis": "x10",
         "y": [
          "fast  ",
          "feel  ",
          "satisfying  ",
          "combat  ",
          "movement  "
         ],
         "yaxis": "y10"
        }
       ],
       "layout": {
        "annotations": [
         {
          "font": {
           "size": 16
          },
          "showarrow": false,
          "text": "Topic 0",
          "x": 0.0875,
          "xanchor": "center",
          "xref": "paper",
          "y": 1,
          "yanchor": "bottom",
          "yref": "paper"
         },
         {
          "font": {
           "size": 16
          },
          "showarrow": false,
          "text": "Topic 1",
          "x": 0.36250000000000004,
          "xanchor": "center",
          "xref": "paper",
          "y": 1,
          "yanchor": "bottom",
          "yref": "paper"
         },
         {
          "font": {
           "size": 16
          },
          "showarrow": false,
          "text": "Topic 2",
          "x": 0.6375000000000001,
          "xanchor": "center",
          "xref": "paper",
          "y": 1,
          "yanchor": "bottom",
          "yref": "paper"
         },
         {
          "font": {
           "size": 16
          },
          "showarrow": false,
          "text": "Topic 3",
          "x": 0.9125,
          "xanchor": "center",
          "xref": "paper",
          "y": 1,
          "yanchor": "bottom",
          "yref": "paper"
         },
         {
          "font": {
           "size": 16
          },
          "showarrow": false,
          "text": "Topic 4",
          "x": 0.0875,
          "xanchor": "center",
          "xref": "paper",
          "y": 0.6222222222222222,
          "yanchor": "bottom",
          "yref": "paper"
         },
         {
          "font": {
           "size": 16
          },
          "showarrow": false,
          "text": "Topic 5",
          "x": 0.36250000000000004,
          "xanchor": "center",
          "xref": "paper",
          "y": 0.6222222222222222,
          "yanchor": "bottom",
          "yref": "paper"
         },
         {
          "font": {
           "size": 16
          },
          "showarrow": false,
          "text": "Topic 6",
          "x": 0.6375000000000001,
          "xanchor": "center",
          "xref": "paper",
          "y": 0.6222222222222222,
          "yanchor": "bottom",
          "yref": "paper"
         },
         {
          "font": {
           "size": 16
          },
          "showarrow": false,
          "text": "Topic 7",
          "x": 0.9125,
          "xanchor": "center",
          "xref": "paper",
          "y": 0.6222222222222222,
          "yanchor": "bottom",
          "yref": "paper"
         },
         {
          "font": {
           "size": 16
          },
          "showarrow": false,
          "text": "Topic 8",
          "x": 0.0875,
          "xanchor": "center",
          "xref": "paper",
          "y": 0.24444444444444446,
          "yanchor": "bottom",
          "yref": "paper"
         },
         {
          "font": {
           "size": 16
          },
          "showarrow": false,
          "text": "Topic 9",
          "x": 0.36250000000000004,
          "xanchor": "center",
          "xref": "paper",
          "y": 0.24444444444444446,
          "yanchor": "bottom",
          "yref": "paper"
         }
        ],
        "height": 750,
        "hoverlabel": {
         "bgcolor": "white",
         "font": {
          "family": "Rockwell",
          "size": 16
         }
        },
        "showlegend": false,
        "template": {
         "data": {
          "bar": [
           {
            "error_x": {
             "color": "#2a3f5f"
            },
            "error_y": {
             "color": "#2a3f5f"
            },
            "marker": {
             "line": {
              "color": "white",
              "width": 0.5
             },
             "pattern": {
              "fillmode": "overlay",
              "size": 10,
              "solidity": 0.2
             }
            },
            "type": "bar"
           }
          ],
          "barpolar": [
           {
            "marker": {
             "line": {
              "color": "white",
              "width": 0.5
             },
             "pattern": {
              "fillmode": "overlay",
              "size": 10,
              "solidity": 0.2
             }
            },
            "type": "barpolar"
           }
          ],
          "carpet": [
           {
            "aaxis": {
             "endlinecolor": "#2a3f5f",
             "gridcolor": "#C8D4E3",
             "linecolor": "#C8D4E3",
             "minorgridcolor": "#C8D4E3",
             "startlinecolor": "#2a3f5f"
            },
            "baxis": {
             "endlinecolor": "#2a3f5f",
             "gridcolor": "#C8D4E3",
             "linecolor": "#C8D4E3",
             "minorgridcolor": "#C8D4E3",
             "startlinecolor": "#2a3f5f"
            },
            "type": "carpet"
           }
          ],
          "choropleth": [
           {
            "colorbar": {
             "outlinewidth": 0,
             "ticks": ""
            },
            "type": "choropleth"
           }
          ],
          "contour": [
           {
            "colorbar": {
             "outlinewidth": 0,
             "ticks": ""
            },
            "colorscale": [
             [
              0,
              "#0d0887"
             ],
             [
              0.1111111111111111,
              "#46039f"
             ],
             [
              0.2222222222222222,
              "#7201a8"
             ],
             [
              0.3333333333333333,
              "#9c179e"
             ],
             [
              0.4444444444444444,
              "#bd3786"
             ],
             [
              0.5555555555555556,
              "#d8576b"
             ],
             [
              0.6666666666666666,
              "#ed7953"
             ],
             [
              0.7777777777777778,
              "#fb9f3a"
             ],
             [
              0.8888888888888888,
              "#fdca26"
             ],
             [
              1,
              "#f0f921"
             ]
            ],
            "type": "contour"
           }
          ],
          "contourcarpet": [
           {
            "colorbar": {
             "outlinewidth": 0,
             "ticks": ""
            },
            "type": "contourcarpet"
           }
          ],
          "heatmap": [
           {
            "colorbar": {
             "outlinewidth": 0,
             "ticks": ""
            },
            "colorscale": [
             [
              0,
              "#0d0887"
             ],
             [
              0.1111111111111111,
              "#46039f"
             ],
             [
              0.2222222222222222,
              "#7201a8"
             ],
             [
              0.3333333333333333,
              "#9c179e"
             ],
             [
              0.4444444444444444,
              "#bd3786"
             ],
             [
              0.5555555555555556,
              "#d8576b"
             ],
             [
              0.6666666666666666,
              "#ed7953"
             ],
             [
              0.7777777777777778,
              "#fb9f3a"
             ],
             [
              0.8888888888888888,
              "#fdca26"
             ],
             [
              1,
              "#f0f921"
             ]
            ],
            "type": "heatmap"
           }
          ],
          "heatmapgl": [
           {
            "colorbar": {
             "outlinewidth": 0,
             "ticks": ""
            },
            "colorscale": [
             [
              0,
              "#0d0887"
             ],
             [
              0.1111111111111111,
              "#46039f"
             ],
             [
              0.2222222222222222,
              "#7201a8"
             ],
             [
              0.3333333333333333,
              "#9c179e"
             ],
             [
              0.4444444444444444,
              "#bd3786"
             ],
             [
              0.5555555555555556,
              "#d8576b"
             ],
             [
              0.6666666666666666,
              "#ed7953"
             ],
             [
              0.7777777777777778,
              "#fb9f3a"
             ],
             [
              0.8888888888888888,
              "#fdca26"
             ],
             [
              1,
              "#f0f921"
             ]
            ],
            "type": "heatmapgl"
           }
          ],
          "histogram": [
           {
            "marker": {
             "pattern": {
              "fillmode": "overlay",
              "size": 10,
              "solidity": 0.2
             }
            },
            "type": "histogram"
           }
          ],
          "histogram2d": [
           {
            "colorbar": {
             "outlinewidth": 0,
             "ticks": ""
            },
            "colorscale": [
             [
              0,
              "#0d0887"
             ],
             [
              0.1111111111111111,
              "#46039f"
             ],
             [
              0.2222222222222222,
              "#7201a8"
             ],
             [
              0.3333333333333333,
              "#9c179e"
             ],
             [
              0.4444444444444444,
              "#bd3786"
             ],
             [
              0.5555555555555556,
              "#d8576b"
             ],
             [
              0.6666666666666666,
              "#ed7953"
             ],
             [
              0.7777777777777778,
              "#fb9f3a"
             ],
             [
              0.8888888888888888,
              "#fdca26"
             ],
             [
              1,
              "#f0f921"
             ]
            ],
            "type": "histogram2d"
           }
          ],
          "histogram2dcontour": [
           {
            "colorbar": {
             "outlinewidth": 0,
             "ticks": ""
            },
            "colorscale": [
             [
              0,
              "#0d0887"
             ],
             [
              0.1111111111111111,
              "#46039f"
             ],
             [
              0.2222222222222222,
              "#7201a8"
             ],
             [
              0.3333333333333333,
              "#9c179e"
             ],
             [
              0.4444444444444444,
              "#bd3786"
             ],
             [
              0.5555555555555556,
              "#d8576b"
             ],
             [
              0.6666666666666666,
              "#ed7953"
             ],
             [
              0.7777777777777778,
              "#fb9f3a"
             ],
             [
              0.8888888888888888,
              "#fdca26"
             ],
             [
              1,
              "#f0f921"
             ]
            ],
            "type": "histogram2dcontour"
           }
          ],
          "mesh3d": [
           {
            "colorbar": {
             "outlinewidth": 0,
             "ticks": ""
            },
            "type": "mesh3d"
           }
          ],
          "parcoords": [
           {
            "line": {
             "colorbar": {
              "outlinewidth": 0,
              "ticks": ""
             }
            },
            "type": "parcoords"
           }
          ],
          "pie": [
           {
            "automargin": true,
            "type": "pie"
           }
          ],
          "scatter": [
           {
            "fillpattern": {
             "fillmode": "overlay",
             "size": 10,
             "solidity": 0.2
            },
            "type": "scatter"
           }
          ],
          "scatter3d": [
           {
            "line": {
             "colorbar": {
              "outlinewidth": 0,
              "ticks": ""
             }
            },
            "marker": {
             "colorbar": {
              "outlinewidth": 0,
              "ticks": ""
             }
            },
            "type": "scatter3d"
           }
          ],
          "scattercarpet": [
           {
            "marker": {
             "colorbar": {
              "outlinewidth": 0,
              "ticks": ""
             }
            },
            "type": "scattercarpet"
           }
          ],
          "scattergeo": [
           {
            "marker": {
             "colorbar": {
              "outlinewidth": 0,
              "ticks": ""
             }
            },
            "type": "scattergeo"
           }
          ],
          "scattergl": [
           {
            "marker": {
             "colorbar": {
              "outlinewidth": 0,
              "ticks": ""
             }
            },
            "type": "scattergl"
           }
          ],
          "scattermapbox": [
           {
            "marker": {
             "colorbar": {
              "outlinewidth": 0,
              "ticks": ""
             }
            },
            "type": "scattermapbox"
           }
          ],
          "scatterpolar": [
           {
            "marker": {
             "colorbar": {
              "outlinewidth": 0,
              "ticks": ""
             }
            },
            "type": "scatterpolar"
           }
          ],
          "scatterpolargl": [
           {
            "marker": {
             "colorbar": {
              "outlinewidth": 0,
              "ticks": ""
             }
            },
            "type": "scatterpolargl"
           }
          ],
          "scatterternary": [
           {
            "marker": {
             "colorbar": {
              "outlinewidth": 0,
              "ticks": ""
             }
            },
            "type": "scatterternary"
           }
          ],
          "surface": [
           {
            "colorbar": {
             "outlinewidth": 0,
             "ticks": ""
            },
            "colorscale": [
             [
              0,
              "#0d0887"
             ],
             [
              0.1111111111111111,
              "#46039f"
             ],
             [
              0.2222222222222222,
              "#7201a8"
             ],
             [
              0.3333333333333333,
              "#9c179e"
             ],
             [
              0.4444444444444444,
              "#bd3786"
             ],
             [
              0.5555555555555556,
              "#d8576b"
             ],
             [
              0.6666666666666666,
              "#ed7953"
             ],
             [
              0.7777777777777778,
              "#fb9f3a"
             ],
             [
              0.8888888888888888,
              "#fdca26"
             ],
             [
              1,
              "#f0f921"
             ]
            ],
            "type": "surface"
           }
          ],
          "table": [
           {
            "cells": {
             "fill": {
              "color": "#EBF0F8"
             },
             "line": {
              "color": "white"
             }
            },
            "header": {
             "fill": {
              "color": "#C8D4E3"
             },
             "line": {
              "color": "white"
             }
            },
            "type": "table"
           }
          ]
         },
         "layout": {
          "annotationdefaults": {
           "arrowcolor": "#2a3f5f",
           "arrowhead": 0,
           "arrowwidth": 1
          },
          "autotypenumbers": "strict",
          "coloraxis": {
           "colorbar": {
            "outlinewidth": 0,
            "ticks": ""
           }
          },
          "colorscale": {
           "diverging": [
            [
             0,
             "#8e0152"
            ],
            [
             0.1,
             "#c51b7d"
            ],
            [
             0.2,
             "#de77ae"
            ],
            [
             0.3,
             "#f1b6da"
            ],
            [
             0.4,
             "#fde0ef"
            ],
            [
             0.5,
             "#f7f7f7"
            ],
            [
             0.6,
             "#e6f5d0"
            ],
            [
             0.7,
             "#b8e186"
            ],
            [
             0.8,
             "#7fbc41"
            ],
            [
             0.9,
             "#4d9221"
            ],
            [
             1,
             "#276419"
            ]
           ],
           "sequential": [
            [
             0,
             "#0d0887"
            ],
            [
             0.1111111111111111,
             "#46039f"
            ],
            [
             0.2222222222222222,
             "#7201a8"
            ],
            [
             0.3333333333333333,
             "#9c179e"
            ],
            [
             0.4444444444444444,
             "#bd3786"
            ],
            [
             0.5555555555555556,
             "#d8576b"
            ],
            [
             0.6666666666666666,
             "#ed7953"
            ],
            [
             0.7777777777777778,
             "#fb9f3a"
            ],
            [
             0.8888888888888888,
             "#fdca26"
            ],
            [
             1,
             "#f0f921"
            ]
           ],
           "sequentialminus": [
            [
             0,
             "#0d0887"
            ],
            [
             0.1111111111111111,
             "#46039f"
            ],
            [
             0.2222222222222222,
             "#7201a8"
            ],
            [
             0.3333333333333333,
             "#9c179e"
            ],
            [
             0.4444444444444444,
             "#bd3786"
            ],
            [
             0.5555555555555556,
             "#d8576b"
            ],
            [
             0.6666666666666666,
             "#ed7953"
            ],
            [
             0.7777777777777778,
             "#fb9f3a"
            ],
            [
             0.8888888888888888,
             "#fdca26"
            ],
            [
             1,
             "#f0f921"
            ]
           ]
          },
          "colorway": [
           "#636efa",
           "#EF553B",
           "#00cc96",
           "#ab63fa",
           "#FFA15A",
           "#19d3f3",
           "#FF6692",
           "#B6E880",
           "#FF97FF",
           "#FECB52"
          ],
          "font": {
           "color": "#2a3f5f"
          },
          "geo": {
           "bgcolor": "white",
           "lakecolor": "white",
           "landcolor": "white",
           "showlakes": true,
           "showland": true,
           "subunitcolor": "#C8D4E3"
          },
          "hoverlabel": {
           "align": "left"
          },
          "hovermode": "closest",
          "mapbox": {
           "style": "light"
          },
          "paper_bgcolor": "white",
          "plot_bgcolor": "white",
          "polar": {
           "angularaxis": {
            "gridcolor": "#EBF0F8",
            "linecolor": "#EBF0F8",
            "ticks": ""
           },
           "bgcolor": "white",
           "radialaxis": {
            "gridcolor": "#EBF0F8",
            "linecolor": "#EBF0F8",
            "ticks": ""
           }
          },
          "scene": {
           "xaxis": {
            "backgroundcolor": "white",
            "gridcolor": "#DFE8F3",
            "gridwidth": 2,
            "linecolor": "#EBF0F8",
            "showbackground": true,
            "ticks": "",
            "zerolinecolor": "#EBF0F8"
           },
           "yaxis": {
            "backgroundcolor": "white",
            "gridcolor": "#DFE8F3",
            "gridwidth": 2,
            "linecolor": "#EBF0F8",
            "showbackground": true,
            "ticks": "",
            "zerolinecolor": "#EBF0F8"
           },
           "zaxis": {
            "backgroundcolor": "white",
            "gridcolor": "#DFE8F3",
            "gridwidth": 2,
            "linecolor": "#EBF0F8",
            "showbackground": true,
            "ticks": "",
            "zerolinecolor": "#EBF0F8"
           }
          },
          "shapedefaults": {
           "line": {
            "color": "#2a3f5f"
           }
          },
          "ternary": {
           "aaxis": {
            "gridcolor": "#DFE8F3",
            "linecolor": "#A2B1C6",
            "ticks": ""
           },
           "baxis": {
            "gridcolor": "#DFE8F3",
            "linecolor": "#A2B1C6",
            "ticks": ""
           },
           "bgcolor": "white",
           "caxis": {
            "gridcolor": "#DFE8F3",
            "linecolor": "#A2B1C6",
            "ticks": ""
           }
          },
          "title": {
           "x": 0.05
          },
          "xaxis": {
           "automargin": true,
           "gridcolor": "#EBF0F8",
           "linecolor": "#EBF0F8",
           "ticks": "",
           "title": {
            "standoff": 15
           },
           "zerolinecolor": "#EBF0F8",
           "zerolinewidth": 2
          },
          "yaxis": {
           "automargin": true,
           "gridcolor": "#EBF0F8",
           "linecolor": "#EBF0F8",
           "ticks": "",
           "title": {
            "standoff": 15
           },
           "zerolinecolor": "#EBF0F8",
           "zerolinewidth": 2
          }
         }
        },
        "title": {
         "font": {
          "color": "Black",
          "size": 22
         },
         "text": "Topic Word Scores",
         "x": 0.5,
         "xanchor": "center",
         "yanchor": "top"
        },
        "width": 1000,
        "xaxis": {
         "anchor": "y",
         "domain": [
          0,
          0.175
         ],
         "showgrid": true
        },
        "xaxis10": {
         "anchor": "y10",
         "domain": [
          0.275,
          0.45
         ],
         "showgrid": true
        },
        "xaxis11": {
         "anchor": "y11",
         "domain": [
          0.55,
          0.7250000000000001
         ],
         "showgrid": true
        },
        "xaxis12": {
         "anchor": "y12",
         "domain": [
          0.825,
          1
         ],
         "showgrid": true
        },
        "xaxis2": {
         "anchor": "y2",
         "domain": [
          0.275,
          0.45
         ],
         "showgrid": true
        },
        "xaxis3": {
         "anchor": "y3",
         "domain": [
          0.55,
          0.7250000000000001
         ],
         "showgrid": true
        },
        "xaxis4": {
         "anchor": "y4",
         "domain": [
          0.825,
          1
         ],
         "showgrid": true
        },
        "xaxis5": {
         "anchor": "y5",
         "domain": [
          0,
          0.175
         ],
         "showgrid": true
        },
        "xaxis6": {
         "anchor": "y6",
         "domain": [
          0.275,
          0.45
         ],
         "showgrid": true
        },
        "xaxis7": {
         "anchor": "y7",
         "domain": [
          0.55,
          0.7250000000000001
         ],
         "showgrid": true
        },
        "xaxis8": {
         "anchor": "y8",
         "domain": [
          0.825,
          1
         ],
         "showgrid": true
        },
        "xaxis9": {
         "anchor": "y9",
         "domain": [
          0,
          0.175
         ],
         "showgrid": true
        },
        "yaxis": {
         "anchor": "x",
         "domain": [
          0.7555555555555555,
          1
         ],
         "showgrid": true
        },
        "yaxis10": {
         "anchor": "x10",
         "domain": [
          0,
          0.24444444444444446
         ],
         "showgrid": true
        },
        "yaxis11": {
         "anchor": "x11",
         "domain": [
          0,
          0.24444444444444446
         ],
         "showgrid": true
        },
        "yaxis12": {
         "anchor": "x12",
         "domain": [
          0,
          0.24444444444444446
         ],
         "showgrid": true
        },
        "yaxis2": {
         "anchor": "x2",
         "domain": [
          0.7555555555555555,
          1
         ],
         "showgrid": true
        },
        "yaxis3": {
         "anchor": "x3",
         "domain": [
          0.7555555555555555,
          1
         ],
         "showgrid": true
        },
        "yaxis4": {
         "anchor": "x4",
         "domain": [
          0.7555555555555555,
          1
         ],
         "showgrid": true
        },
        "yaxis5": {
         "anchor": "x5",
         "domain": [
          0.37777777777777777,
          0.6222222222222222
         ],
         "showgrid": true
        },
        "yaxis6": {
         "anchor": "x6",
         "domain": [
          0.37777777777777777,
          0.6222222222222222
         ],
         "showgrid": true
        },
        "yaxis7": {
         "anchor": "x7",
         "domain": [
          0.37777777777777777,
          0.6222222222222222
         ],
         "showgrid": true
        },
        "yaxis8": {
         "anchor": "x8",
         "domain": [
          0.37777777777777777,
          0.6222222222222222
         ],
         "showgrid": true
        },
        "yaxis9": {
         "anchor": "x9",
         "domain": [
          0,
          0.24444444444444446
         ],
         "showgrid": true
        }
       }
      }
     },
     "metadata": {},
     "output_type": "display_data"
    }
   ],
   "source": [
    "# 긍정 리뷰\n",
    "topic_model_positive.visualize_barchart(top_n_topics=10)"
   ]
  },
  {
   "cell_type": "code",
   "execution_count": 13,
   "metadata": {},
   "outputs": [
    {
     "data": {
      "application/vnd.plotly.v1+json": {
       "config": {
        "plotlyServerURL": "https://plot.ly"
       },
       "data": [
        {
         "marker": {
          "color": "#D55E00"
         },
         "orientation": "h",
         "type": "bar",
         "x": [
          0.027672634813080434,
          0.02938063395431526,
          0.03147565546654663,
          0.03793640057770715,
          0.038264175723017185
         ],
         "xaxis": "x",
         "y": [
          "you  ",
          "life  ",
          "my  ",
          "game  ",
          "this  "
         ],
         "yaxis": "y"
        },
        {
         "marker": {
          "color": "#0072B2"
         },
         "orientation": "h",
         "type": "bar",
         "x": [
          0.024227113823328945,
          0.025011136912400693,
          0.02715365857704925,
          0.028248443790572765,
          0.08313780403194279
         ],
         "xaxis": "x2",
         "y": [
          "the  ",
          "that  ",
          "to  ",
          "and  ",
          "warframe  "
         ],
         "yaxis": "y2"
        },
        {
         "marker": {
          "color": "#CC79A7"
         },
         "orientation": "h",
         "type": "bar",
         "x": [
          0.023782410933773947,
          0.024734639906910546,
          0.02877915549338925,
          0.03521721674298288,
          0.03532333827005893
         ],
         "xaxis": "x3",
         "y": [
          "that  ",
          "and  ",
          "devs  ",
          "the  ",
          "bugs  "
         ],
         "yaxis": "y3"
        },
        {
         "marker": {
          "color": "#E69F00"
         },
         "orientation": "h",
         "type": "bar",
         "x": [
          0.030755494929832428,
          0.03333637429851337,
          0.05553285635011547,
          0.05637207528554488,
          0.07237640114670066
         ],
         "xaxis": "x4",
         "y": [
          "you  ",
          "for  ",
          "grinding  ",
          "grindy  ",
          "grind  "
         ],
         "yaxis": "y4"
        },
        {
         "marker": {
          "color": "#56B4E9"
         },
         "orientation": "h",
         "type": "bar",
         "x": [
          0.02996844923170308,
          0.03136509716929455,
          0.03403002218250339,
          0.04146948486212859,
          0.04323814024655503
         ],
         "xaxis": "x5",
         "y": [
          "players  ",
          "to  ",
          "the  ",
          "new  ",
          "player  "
         ],
         "yaxis": "y5"
        },
        {
         "marker": {
          "color": "#009E73"
         },
         "orientation": "h",
         "type": "bar",
         "x": [
          0.02815195714220696,
          0.028171649859232217,
          0.0290967586413617,
          0.029974137728408873,
          0.09477986278079245
         ],
         "xaxis": "x6",
         "y": [
          "real  ",
          "spending  ",
          "any  ",
          "items  ",
          "money  "
         ],
         "yaxis": "y6"
        },
        {
         "marker": {
          "color": "#F0E442"
         },
         "orientation": "h",
         "type": "bar",
         "x": [
          0.041574162430560564,
          0.045485414268611364,
          0.04595769478936756,
          0.06923430134303298,
          0.097648284315627
         ],
         "xaxis": "x7",
         "y": [
          "aoe  ",
          "negative  ",
          "people  ",
          "reviews  ",
          "review  "
         ],
         "yaxis": "y7"
        },
        {
         "marker": {
          "color": "#D55E00"
         },
         "orientation": "h",
         "type": "bar",
         "x": [
          0.029528170296215996,
          0.03258009714446416,
          0.03447397482339772,
          0.05535908040924244,
          0.08302520648258446
         ],
         "xaxis": "x8",
         "y": [
          "to  ",
          "you  ",
          "the  ",
          "mission  ",
          "missions  "
         ],
         "yaxis": "y8"
        },
        {
         "marker": {
          "color": "#0072B2"
         },
         "orientation": "h",
         "type": "bar",
         "x": [
          0.041804908505709344,
          0.05453707910548016,
          0.05453707910548016,
          0.05453707910548016,
          0.06177358917562937
         ],
         "xaxis": "x9",
         "y": [
          "with  ",
          "disciple  ",
          "jays  ",
          "sent  ",
          "enemies  "
         ],
         "yaxis": "y9"
        },
        {
         "marker": {
          "color": "#CC79A7"
         },
         "orientation": "h",
         "type": "bar",
         "x": [
          0.0429936821083656,
          0.050820438998616886,
          0.0540770088283536,
          0.06353907963108904,
          0.16419196817964185
         ],
         "xaxis": "x10",
         "y": [
          "play  ",
          "this  ",
          "is  ",
          "game  ",
          "free  "
         ],
         "yaxis": "y10"
        }
       ],
       "layout": {
        "annotations": [
         {
          "font": {
           "size": 16
          },
          "showarrow": false,
          "text": "Topic 0",
          "x": 0.0875,
          "xanchor": "center",
          "xref": "paper",
          "y": 1,
          "yanchor": "bottom",
          "yref": "paper"
         },
         {
          "font": {
           "size": 16
          },
          "showarrow": false,
          "text": "Topic 1",
          "x": 0.36250000000000004,
          "xanchor": "center",
          "xref": "paper",
          "y": 1,
          "yanchor": "bottom",
          "yref": "paper"
         },
         {
          "font": {
           "size": 16
          },
          "showarrow": false,
          "text": "Topic 2",
          "x": 0.6375000000000001,
          "xanchor": "center",
          "xref": "paper",
          "y": 1,
          "yanchor": "bottom",
          "yref": "paper"
         },
         {
          "font": {
           "size": 16
          },
          "showarrow": false,
          "text": "Topic 3",
          "x": 0.9125,
          "xanchor": "center",
          "xref": "paper",
          "y": 1,
          "yanchor": "bottom",
          "yref": "paper"
         },
         {
          "font": {
           "size": 16
          },
          "showarrow": false,
          "text": "Topic 4",
          "x": 0.0875,
          "xanchor": "center",
          "xref": "paper",
          "y": 0.6222222222222222,
          "yanchor": "bottom",
          "yref": "paper"
         },
         {
          "font": {
           "size": 16
          },
          "showarrow": false,
          "text": "Topic 5",
          "x": 0.36250000000000004,
          "xanchor": "center",
          "xref": "paper",
          "y": 0.6222222222222222,
          "yanchor": "bottom",
          "yref": "paper"
         },
         {
          "font": {
           "size": 16
          },
          "showarrow": false,
          "text": "Topic 6",
          "x": 0.6375000000000001,
          "xanchor": "center",
          "xref": "paper",
          "y": 0.6222222222222222,
          "yanchor": "bottom",
          "yref": "paper"
         },
         {
          "font": {
           "size": 16
          },
          "showarrow": false,
          "text": "Topic 7",
          "x": 0.9125,
          "xanchor": "center",
          "xref": "paper",
          "y": 0.6222222222222222,
          "yanchor": "bottom",
          "yref": "paper"
         },
         {
          "font": {
           "size": 16
          },
          "showarrow": false,
          "text": "Topic 8",
          "x": 0.0875,
          "xanchor": "center",
          "xref": "paper",
          "y": 0.24444444444444446,
          "yanchor": "bottom",
          "yref": "paper"
         },
         {
          "font": {
           "size": 16
          },
          "showarrow": false,
          "text": "Topic 9",
          "x": 0.36250000000000004,
          "xanchor": "center",
          "xref": "paper",
          "y": 0.24444444444444446,
          "yanchor": "bottom",
          "yref": "paper"
         }
        ],
        "height": 750,
        "hoverlabel": {
         "bgcolor": "white",
         "font": {
          "family": "Rockwell",
          "size": 16
         }
        },
        "showlegend": false,
        "template": {
         "data": {
          "bar": [
           {
            "error_x": {
             "color": "#2a3f5f"
            },
            "error_y": {
             "color": "#2a3f5f"
            },
            "marker": {
             "line": {
              "color": "white",
              "width": 0.5
             },
             "pattern": {
              "fillmode": "overlay",
              "size": 10,
              "solidity": 0.2
             }
            },
            "type": "bar"
           }
          ],
          "barpolar": [
           {
            "marker": {
             "line": {
              "color": "white",
              "width": 0.5
             },
             "pattern": {
              "fillmode": "overlay",
              "size": 10,
              "solidity": 0.2
             }
            },
            "type": "barpolar"
           }
          ],
          "carpet": [
           {
            "aaxis": {
             "endlinecolor": "#2a3f5f",
             "gridcolor": "#C8D4E3",
             "linecolor": "#C8D4E3",
             "minorgridcolor": "#C8D4E3",
             "startlinecolor": "#2a3f5f"
            },
            "baxis": {
             "endlinecolor": "#2a3f5f",
             "gridcolor": "#C8D4E3",
             "linecolor": "#C8D4E3",
             "minorgridcolor": "#C8D4E3",
             "startlinecolor": "#2a3f5f"
            },
            "type": "carpet"
           }
          ],
          "choropleth": [
           {
            "colorbar": {
             "outlinewidth": 0,
             "ticks": ""
            },
            "type": "choropleth"
           }
          ],
          "contour": [
           {
            "colorbar": {
             "outlinewidth": 0,
             "ticks": ""
            },
            "colorscale": [
             [
              0,
              "#0d0887"
             ],
             [
              0.1111111111111111,
              "#46039f"
             ],
             [
              0.2222222222222222,
              "#7201a8"
             ],
             [
              0.3333333333333333,
              "#9c179e"
             ],
             [
              0.4444444444444444,
              "#bd3786"
             ],
             [
              0.5555555555555556,
              "#d8576b"
             ],
             [
              0.6666666666666666,
              "#ed7953"
             ],
             [
              0.7777777777777778,
              "#fb9f3a"
             ],
             [
              0.8888888888888888,
              "#fdca26"
             ],
             [
              1,
              "#f0f921"
             ]
            ],
            "type": "contour"
           }
          ],
          "contourcarpet": [
           {
            "colorbar": {
             "outlinewidth": 0,
             "ticks": ""
            },
            "type": "contourcarpet"
           }
          ],
          "heatmap": [
           {
            "colorbar": {
             "outlinewidth": 0,
             "ticks": ""
            },
            "colorscale": [
             [
              0,
              "#0d0887"
             ],
             [
              0.1111111111111111,
              "#46039f"
             ],
             [
              0.2222222222222222,
              "#7201a8"
             ],
             [
              0.3333333333333333,
              "#9c179e"
             ],
             [
              0.4444444444444444,
              "#bd3786"
             ],
             [
              0.5555555555555556,
              "#d8576b"
             ],
             [
              0.6666666666666666,
              "#ed7953"
             ],
             [
              0.7777777777777778,
              "#fb9f3a"
             ],
             [
              0.8888888888888888,
              "#fdca26"
             ],
             [
              1,
              "#f0f921"
             ]
            ],
            "type": "heatmap"
           }
          ],
          "heatmapgl": [
           {
            "colorbar": {
             "outlinewidth": 0,
             "ticks": ""
            },
            "colorscale": [
             [
              0,
              "#0d0887"
             ],
             [
              0.1111111111111111,
              "#46039f"
             ],
             [
              0.2222222222222222,
              "#7201a8"
             ],
             [
              0.3333333333333333,
              "#9c179e"
             ],
             [
              0.4444444444444444,
              "#bd3786"
             ],
             [
              0.5555555555555556,
              "#d8576b"
             ],
             [
              0.6666666666666666,
              "#ed7953"
             ],
             [
              0.7777777777777778,
              "#fb9f3a"
             ],
             [
              0.8888888888888888,
              "#fdca26"
             ],
             [
              1,
              "#f0f921"
             ]
            ],
            "type": "heatmapgl"
           }
          ],
          "histogram": [
           {
            "marker": {
             "pattern": {
              "fillmode": "overlay",
              "size": 10,
              "solidity": 0.2
             }
            },
            "type": "histogram"
           }
          ],
          "histogram2d": [
           {
            "colorbar": {
             "outlinewidth": 0,
             "ticks": ""
            },
            "colorscale": [
             [
              0,
              "#0d0887"
             ],
             [
              0.1111111111111111,
              "#46039f"
             ],
             [
              0.2222222222222222,
              "#7201a8"
             ],
             [
              0.3333333333333333,
              "#9c179e"
             ],
             [
              0.4444444444444444,
              "#bd3786"
             ],
             [
              0.5555555555555556,
              "#d8576b"
             ],
             [
              0.6666666666666666,
              "#ed7953"
             ],
             [
              0.7777777777777778,
              "#fb9f3a"
             ],
             [
              0.8888888888888888,
              "#fdca26"
             ],
             [
              1,
              "#f0f921"
             ]
            ],
            "type": "histogram2d"
           }
          ],
          "histogram2dcontour": [
           {
            "colorbar": {
             "outlinewidth": 0,
             "ticks": ""
            },
            "colorscale": [
             [
              0,
              "#0d0887"
             ],
             [
              0.1111111111111111,
              "#46039f"
             ],
             [
              0.2222222222222222,
              "#7201a8"
             ],
             [
              0.3333333333333333,
              "#9c179e"
             ],
             [
              0.4444444444444444,
              "#bd3786"
             ],
             [
              0.5555555555555556,
              "#d8576b"
             ],
             [
              0.6666666666666666,
              "#ed7953"
             ],
             [
              0.7777777777777778,
              "#fb9f3a"
             ],
             [
              0.8888888888888888,
              "#fdca26"
             ],
             [
              1,
              "#f0f921"
             ]
            ],
            "type": "histogram2dcontour"
           }
          ],
          "mesh3d": [
           {
            "colorbar": {
             "outlinewidth": 0,
             "ticks": ""
            },
            "type": "mesh3d"
           }
          ],
          "parcoords": [
           {
            "line": {
             "colorbar": {
              "outlinewidth": 0,
              "ticks": ""
             }
            },
            "type": "parcoords"
           }
          ],
          "pie": [
           {
            "automargin": true,
            "type": "pie"
           }
          ],
          "scatter": [
           {
            "fillpattern": {
             "fillmode": "overlay",
             "size": 10,
             "solidity": 0.2
            },
            "type": "scatter"
           }
          ],
          "scatter3d": [
           {
            "line": {
             "colorbar": {
              "outlinewidth": 0,
              "ticks": ""
             }
            },
            "marker": {
             "colorbar": {
              "outlinewidth": 0,
              "ticks": ""
             }
            },
            "type": "scatter3d"
           }
          ],
          "scattercarpet": [
           {
            "marker": {
             "colorbar": {
              "outlinewidth": 0,
              "ticks": ""
             }
            },
            "type": "scattercarpet"
           }
          ],
          "scattergeo": [
           {
            "marker": {
             "colorbar": {
              "outlinewidth": 0,
              "ticks": ""
             }
            },
            "type": "scattergeo"
           }
          ],
          "scattergl": [
           {
            "marker": {
             "colorbar": {
              "outlinewidth": 0,
              "ticks": ""
             }
            },
            "type": "scattergl"
           }
          ],
          "scattermapbox": [
           {
            "marker": {
             "colorbar": {
              "outlinewidth": 0,
              "ticks": ""
             }
            },
            "type": "scattermapbox"
           }
          ],
          "scatterpolar": [
           {
            "marker": {
             "colorbar": {
              "outlinewidth": 0,
              "ticks": ""
             }
            },
            "type": "scatterpolar"
           }
          ],
          "scatterpolargl": [
           {
            "marker": {
             "colorbar": {
              "outlinewidth": 0,
              "ticks": ""
             }
            },
            "type": "scatterpolargl"
           }
          ],
          "scatterternary": [
           {
            "marker": {
             "colorbar": {
              "outlinewidth": 0,
              "ticks": ""
             }
            },
            "type": "scatterternary"
           }
          ],
          "surface": [
           {
            "colorbar": {
             "outlinewidth": 0,
             "ticks": ""
            },
            "colorscale": [
             [
              0,
              "#0d0887"
             ],
             [
              0.1111111111111111,
              "#46039f"
             ],
             [
              0.2222222222222222,
              "#7201a8"
             ],
             [
              0.3333333333333333,
              "#9c179e"
             ],
             [
              0.4444444444444444,
              "#bd3786"
             ],
             [
              0.5555555555555556,
              "#d8576b"
             ],
             [
              0.6666666666666666,
              "#ed7953"
             ],
             [
              0.7777777777777778,
              "#fb9f3a"
             ],
             [
              0.8888888888888888,
              "#fdca26"
             ],
             [
              1,
              "#f0f921"
             ]
            ],
            "type": "surface"
           }
          ],
          "table": [
           {
            "cells": {
             "fill": {
              "color": "#EBF0F8"
             },
             "line": {
              "color": "white"
             }
            },
            "header": {
             "fill": {
              "color": "#C8D4E3"
             },
             "line": {
              "color": "white"
             }
            },
            "type": "table"
           }
          ]
         },
         "layout": {
          "annotationdefaults": {
           "arrowcolor": "#2a3f5f",
           "arrowhead": 0,
           "arrowwidth": 1
          },
          "autotypenumbers": "strict",
          "coloraxis": {
           "colorbar": {
            "outlinewidth": 0,
            "ticks": ""
           }
          },
          "colorscale": {
           "diverging": [
            [
             0,
             "#8e0152"
            ],
            [
             0.1,
             "#c51b7d"
            ],
            [
             0.2,
             "#de77ae"
            ],
            [
             0.3,
             "#f1b6da"
            ],
            [
             0.4,
             "#fde0ef"
            ],
            [
             0.5,
             "#f7f7f7"
            ],
            [
             0.6,
             "#e6f5d0"
            ],
            [
             0.7,
             "#b8e186"
            ],
            [
             0.8,
             "#7fbc41"
            ],
            [
             0.9,
             "#4d9221"
            ],
            [
             1,
             "#276419"
            ]
           ],
           "sequential": [
            [
             0,
             "#0d0887"
            ],
            [
             0.1111111111111111,
             "#46039f"
            ],
            [
             0.2222222222222222,
             "#7201a8"
            ],
            [
             0.3333333333333333,
             "#9c179e"
            ],
            [
             0.4444444444444444,
             "#bd3786"
            ],
            [
             0.5555555555555556,
             "#d8576b"
            ],
            [
             0.6666666666666666,
             "#ed7953"
            ],
            [
             0.7777777777777778,
             "#fb9f3a"
            ],
            [
             0.8888888888888888,
             "#fdca26"
            ],
            [
             1,
             "#f0f921"
            ]
           ],
           "sequentialminus": [
            [
             0,
             "#0d0887"
            ],
            [
             0.1111111111111111,
             "#46039f"
            ],
            [
             0.2222222222222222,
             "#7201a8"
            ],
            [
             0.3333333333333333,
             "#9c179e"
            ],
            [
             0.4444444444444444,
             "#bd3786"
            ],
            [
             0.5555555555555556,
             "#d8576b"
            ],
            [
             0.6666666666666666,
             "#ed7953"
            ],
            [
             0.7777777777777778,
             "#fb9f3a"
            ],
            [
             0.8888888888888888,
             "#fdca26"
            ],
            [
             1,
             "#f0f921"
            ]
           ]
          },
          "colorway": [
           "#636efa",
           "#EF553B",
           "#00cc96",
           "#ab63fa",
           "#FFA15A",
           "#19d3f3",
           "#FF6692",
           "#B6E880",
           "#FF97FF",
           "#FECB52"
          ],
          "font": {
           "color": "#2a3f5f"
          },
          "geo": {
           "bgcolor": "white",
           "lakecolor": "white",
           "landcolor": "white",
           "showlakes": true,
           "showland": true,
           "subunitcolor": "#C8D4E3"
          },
          "hoverlabel": {
           "align": "left"
          },
          "hovermode": "closest",
          "mapbox": {
           "style": "light"
          },
          "paper_bgcolor": "white",
          "plot_bgcolor": "white",
          "polar": {
           "angularaxis": {
            "gridcolor": "#EBF0F8",
            "linecolor": "#EBF0F8",
            "ticks": ""
           },
           "bgcolor": "white",
           "radialaxis": {
            "gridcolor": "#EBF0F8",
            "linecolor": "#EBF0F8",
            "ticks": ""
           }
          },
          "scene": {
           "xaxis": {
            "backgroundcolor": "white",
            "gridcolor": "#DFE8F3",
            "gridwidth": 2,
            "linecolor": "#EBF0F8",
            "showbackground": true,
            "ticks": "",
            "zerolinecolor": "#EBF0F8"
           },
           "yaxis": {
            "backgroundcolor": "white",
            "gridcolor": "#DFE8F3",
            "gridwidth": 2,
            "linecolor": "#EBF0F8",
            "showbackground": true,
            "ticks": "",
            "zerolinecolor": "#EBF0F8"
           },
           "zaxis": {
            "backgroundcolor": "white",
            "gridcolor": "#DFE8F3",
            "gridwidth": 2,
            "linecolor": "#EBF0F8",
            "showbackground": true,
            "ticks": "",
            "zerolinecolor": "#EBF0F8"
           }
          },
          "shapedefaults": {
           "line": {
            "color": "#2a3f5f"
           }
          },
          "ternary": {
           "aaxis": {
            "gridcolor": "#DFE8F3",
            "linecolor": "#A2B1C6",
            "ticks": ""
           },
           "baxis": {
            "gridcolor": "#DFE8F3",
            "linecolor": "#A2B1C6",
            "ticks": ""
           },
           "bgcolor": "white",
           "caxis": {
            "gridcolor": "#DFE8F3",
            "linecolor": "#A2B1C6",
            "ticks": ""
           }
          },
          "title": {
           "x": 0.05
          },
          "xaxis": {
           "automargin": true,
           "gridcolor": "#EBF0F8",
           "linecolor": "#EBF0F8",
           "ticks": "",
           "title": {
            "standoff": 15
           },
           "zerolinecolor": "#EBF0F8",
           "zerolinewidth": 2
          },
          "yaxis": {
           "automargin": true,
           "gridcolor": "#EBF0F8",
           "linecolor": "#EBF0F8",
           "ticks": "",
           "title": {
            "standoff": 15
           },
           "zerolinecolor": "#EBF0F8",
           "zerolinewidth": 2
          }
         }
        },
        "title": {
         "font": {
          "color": "Black",
          "size": 22
         },
         "text": "Topic Word Scores",
         "x": 0.5,
         "xanchor": "center",
         "yanchor": "top"
        },
        "width": 1000,
        "xaxis": {
         "anchor": "y",
         "domain": [
          0,
          0.175
         ],
         "showgrid": true
        },
        "xaxis10": {
         "anchor": "y10",
         "domain": [
          0.275,
          0.45
         ],
         "showgrid": true
        },
        "xaxis11": {
         "anchor": "y11",
         "domain": [
          0.55,
          0.7250000000000001
         ],
         "showgrid": true
        },
        "xaxis12": {
         "anchor": "y12",
         "domain": [
          0.825,
          1
         ],
         "showgrid": true
        },
        "xaxis2": {
         "anchor": "y2",
         "domain": [
          0.275,
          0.45
         ],
         "showgrid": true
        },
        "xaxis3": {
         "anchor": "y3",
         "domain": [
          0.55,
          0.7250000000000001
         ],
         "showgrid": true
        },
        "xaxis4": {
         "anchor": "y4",
         "domain": [
          0.825,
          1
         ],
         "showgrid": true
        },
        "xaxis5": {
         "anchor": "y5",
         "domain": [
          0,
          0.175
         ],
         "showgrid": true
        },
        "xaxis6": {
         "anchor": "y6",
         "domain": [
          0.275,
          0.45
         ],
         "showgrid": true
        },
        "xaxis7": {
         "anchor": "y7",
         "domain": [
          0.55,
          0.7250000000000001
         ],
         "showgrid": true
        },
        "xaxis8": {
         "anchor": "y8",
         "domain": [
          0.825,
          1
         ],
         "showgrid": true
        },
        "xaxis9": {
         "anchor": "y9",
         "domain": [
          0,
          0.175
         ],
         "showgrid": true
        },
        "yaxis": {
         "anchor": "x",
         "domain": [
          0.7555555555555555,
          1
         ],
         "showgrid": true
        },
        "yaxis10": {
         "anchor": "x10",
         "domain": [
          0,
          0.24444444444444446
         ],
         "showgrid": true
        },
        "yaxis11": {
         "anchor": "x11",
         "domain": [
          0,
          0.24444444444444446
         ],
         "showgrid": true
        },
        "yaxis12": {
         "anchor": "x12",
         "domain": [
          0,
          0.24444444444444446
         ],
         "showgrid": true
        },
        "yaxis2": {
         "anchor": "x2",
         "domain": [
          0.7555555555555555,
          1
         ],
         "showgrid": true
        },
        "yaxis3": {
         "anchor": "x3",
         "domain": [
          0.7555555555555555,
          1
         ],
         "showgrid": true
        },
        "yaxis4": {
         "anchor": "x4",
         "domain": [
          0.7555555555555555,
          1
         ],
         "showgrid": true
        },
        "yaxis5": {
         "anchor": "x5",
         "domain": [
          0.37777777777777777,
          0.6222222222222222
         ],
         "showgrid": true
        },
        "yaxis6": {
         "anchor": "x6",
         "domain": [
          0.37777777777777777,
          0.6222222222222222
         ],
         "showgrid": true
        },
        "yaxis7": {
         "anchor": "x7",
         "domain": [
          0.37777777777777777,
          0.6222222222222222
         ],
         "showgrid": true
        },
        "yaxis8": {
         "anchor": "x8",
         "domain": [
          0.37777777777777777,
          0.6222222222222222
         ],
         "showgrid": true
        },
        "yaxis9": {
         "anchor": "x9",
         "domain": [
          0,
          0.24444444444444446
         ],
         "showgrid": true
        }
       }
      }
     },
     "metadata": {},
     "output_type": "display_data"
    }
   ],
   "source": [
    "# 부정 리뷰\n",
    "topic_model_negative.visualize_barchart(top_n_topics=10)"
   ]
  },
  {
   "cell_type": "code",
   "execution_count": 14,
   "metadata": {},
   "outputs": [
    {
     "data": {
      "application/vnd.plotly.v1+json": {
       "config": {
        "plotlyServerURL": "https://plot.ly"
       },
       "data": [
        {
         "coloraxis": "coloraxis",
         "hovertemplate": "x: %{x}<br>y: %{y}<br>Similarity Score: %{z}<extra></extra>",
         "name": "0",
         "type": "heatmap",
         "x": [
          "0_free_play_best",
          "1_graphics_design_beautiful",
          "2_uwu_aha_ah",
          "3_grind_grinding_but",
          "4_community_friendly_helpful",
          "5_space_ninja_ninjas",
          "6_nice_pretty_awesome",
          "7_hours_played_seems",
          "8_items_without_everything",
          "9_movement_combat_satisfying",
          "10_fp_best_there",
          "11_devs_dev_listen",
          "12_update_updates_new",
          "13_recommend_try_would",
          "14_warframes_weapons_frame",
          "15_friends_with_friend",
          "16_love_loved_had",
          "17_received_product_free",
          "18_story_lore_universe",
          "19_warframe_games_is",
          "20_worth_regret_wont",
          "21_addictive_addicting_addi...",
          "22_shooter_person_third",
          "23_this_awesome_amazing",
          "24_coop_op_co",
          "25_highly_recommended_recom...",
          "26_warframe_thanks_grew",
          "27_warframe_free_play",
          "28_love_this_game",
          "29_good_pretty_its",
          "30_free_its_give",
          "31_weapons_modding_weapon",
          "32_warframe_playing_again",
          "33_yes_yesyesyesyesyes_yesy...",
          "34_we_hive_honey",
          "35_farming_farm_simulator",
          "36_solo_friends_public",
          "37_mission_missions_times",
          "38_open_fortuna_planets",
          "39_customization_options_pl...",
          "40_review_reviews_positive",
          "41_destiny_than_better",
          "42_digital_extremes_their",
          "43_here_reborn_brought",
          "44_tenno_next_luck",
          "45_good_owo_gamee",
          "46_fun_bit_dog",
          "47_pros_cons_you",
          "48_platinum_currency_premium",
          "49_freetoplay_best_one",
          "50_great_game_good",
          "51_tutorial_guides_tutorials",
          "52_fun_damn_its",
          "53_content_do_polish",
          "54_ever_played_games",
          "55_warframe_new_updates",
          "56_gameplay_immersive_fast",
          "57_changed_none_change",
          "58_okay_its_ight",
          "59_beta_since_closed",
          "60_coop_solo_warframe",
          "61_fun_had_lets",
          "62_content_wait_future",
          "63_reminded_memories_happy",
          "64_best_ever_everrrrr",
          "65_awesome_excited_game",
          "66_warframe_community_passi...",
          "67_quests_cinematic_interes...",
          "68_de_fans_their",
          "69_experience_an_understood",
          "70_destiny_anthem_better",
          "71_gud_iz_frends",
          "72_guess_alright_ok",
          "73_learn_once_knowing",
          "74_good_issa_hope",
          "75_clan_rooms_dojo",
          "76_edit_still_ok",
          "77_future_its_pplay",
          "78_pve_pvp_trip",
          "79_freetoplay_example_sets",
          "80_loop_gameplay_core",
          "81_gear_warframe_activities",
          "82_fp_warframe_example",
          "83_currency_premium_chat",
          "84_destiny_bungie_buy"
         ],
         "xaxis": "x",
         "y": [
          "0_free_play_best",
          "1_graphics_design_beautiful",
          "2_uwu_aha_ah",
          "3_grind_grinding_but",
          "4_community_friendly_helpful",
          "5_space_ninja_ninjas",
          "6_nice_pretty_awesome",
          "7_hours_played_seems",
          "8_items_without_everything",
          "9_movement_combat_satisfying",
          "10_fp_best_there",
          "11_devs_dev_listen",
          "12_update_updates_new",
          "13_recommend_try_would",
          "14_warframes_weapons_frame",
          "15_friends_with_friend",
          "16_love_loved_had",
          "17_received_product_free",
          "18_story_lore_universe",
          "19_warframe_games_is",
          "20_worth_regret_wont",
          "21_addictive_addicting_addi...",
          "22_shooter_person_third",
          "23_this_awesome_amazing",
          "24_coop_op_co",
          "25_highly_recommended_recom...",
          "26_warframe_thanks_grew",
          "27_warframe_free_play",
          "28_love_this_game",
          "29_good_pretty_its",
          "30_free_its_give",
          "31_weapons_modding_weapon",
          "32_warframe_playing_again",
          "33_yes_yesyesyesyesyes_yesy...",
          "34_we_hive_honey",
          "35_farming_farm_simulator",
          "36_solo_friends_public",
          "37_mission_missions_times",
          "38_open_fortuna_planets",
          "39_customization_options_pl...",
          "40_review_reviews_positive",
          "41_destiny_than_better",
          "42_digital_extremes_their",
          "43_here_reborn_brought",
          "44_tenno_next_luck",
          "45_good_owo_gamee",
          "46_fun_bit_dog",
          "47_pros_cons_you",
          "48_platinum_currency_premium",
          "49_freetoplay_best_one",
          "50_great_game_good",
          "51_tutorial_guides_tutorials",
          "52_fun_damn_its",
          "53_content_do_polish",
          "54_ever_played_games",
          "55_warframe_new_updates",
          "56_gameplay_immersive_fast",
          "57_changed_none_change",
          "58_okay_its_ight",
          "59_beta_since_closed",
          "60_coop_solo_warframe",
          "61_fun_had_lets",
          "62_content_wait_future",
          "63_reminded_memories_happy",
          "64_best_ever_everrrrr",
          "65_awesome_excited_game",
          "66_warframe_community_passi...",
          "67_quests_cinematic_interes...",
          "68_de_fans_their",
          "69_experience_an_understood",
          "70_destiny_anthem_better",
          "71_gud_iz_frends",
          "72_guess_alright_ok",
          "73_learn_once_knowing",
          "74_good_issa_hope",
          "75_clan_rooms_dojo",
          "76_edit_still_ok",
          "77_future_its_pplay",
          "78_pve_pvp_trip",
          "79_freetoplay_example_sets",
          "80_loop_gameplay_core",
          "81_gear_warframe_activities",
          "82_fp_warframe_example",
          "83_currency_premium_chat",
          "84_destiny_bungie_buy"
         ],
         "yaxis": "y",
         "z": [
          [
           0.9999998807907104,
           0.5935569405555725,
           0.190026193857193,
           0.596584677696228,
           0.5347009897232056,
           0.5206221342086792,
           0.2978658676147461,
           0.6107990741729736,
           0.7026017904281616,
           0.5356685519218445,
           0.6203852891921997,
           0.5603022575378418,
           0.4699554741382599,
           0.7099749445915222,
           0.4121731221675873,
           0.6257071495056152,
           0.35098540782928467,
           0.7688202857971191,
           0.4323729872703552,
           0.5644197463989258,
           0.4562494158744812,
           0.6254838109016418,
           0.6035350561141968,
           0.657596230506897,
           0.5849591493606567,
           0.3666301369667053,
           0.3683308959007263,
           0.7662094235420227,
           0.5903135538101196,
           0.3853849768638611,
           0.7447901964187622,
           0.4300474226474762,
           0.4927732050418854,
           0.18865175545215607,
           0.18193112313747406,
           0.5679883360862732,
           0.6341592073440552,
           0.4892653822898865,
           0.4914590120315552,
           0.3818315863609314,
           0.5125241875648499,
           0.42581653594970703,
           0.5262662768363953,
           0.18289688229560852,
           0.29802045226097107,
           0.4557949900627136,
           0.6219191551208496,
           0.6731973886489868,
           0.424716591835022,
           0.7614117860794067,
           0.5171789526939392,
           0.4066771864891052,
           0.4768514633178711,
           0.642058253288269,
           0.6114505529403687,
           0.4390713572502136,
           0.6875908970832825,
           0.4000213146209717,
           0.22365181148052216,
           0.6216137409210205,
           0.5568438172340393,
           0.39237740635871887,
           0.3011718988418579,
           0.5636025667190552,
           0.6093777418136597,
           0.5179351568222046,
           0.43029555678367615,
           0.45333003997802734,
           0.5580147504806519,
           0.3358921408653259,
           0.7804611921310425,
           0.3096091151237488,
           0.22529131174087524,
           0.6226018071174622,
           0.18191726505756378,
           0.42043012380599976,
           0.5000169277191162,
           0.6303693056106567,
           0.5369583368301392,
           0.6572617292404175,
           0.5060127377510071,
           0.46842727065086365,
           0.5125228762626648,
           0.39206433296203613,
           0.5545259118080139
          ],
          [
           0.5935569405555725,
           0.9999998807907104,
           0.20348840951919556,
           0.558941125869751,
           0.4870905876159668,
           0.557165265083313,
           0.4757115840911865,
           0.6029093265533447,
           0.4990895390510559,
           0.6928882598876953,
           0.6096917390823364,
           0.5980264544487,
           0.5578420162200928,
           0.6677067279815674,
           0.6276842355728149,
           0.5273404717445374,
           0.4823821783065796,
           0.3950645327568054,
           0.6175236105918884,
           0.6465321779251099,
           0.4585062861442566,
           0.5603463053703308,
           0.6467528343200684,
           0.7114486694335938,
           0.5614928603172302,
           0.4687075614929199,
           0.5655192136764526,
           0.566079318523407,
           0.5806975364685059,
           0.4701426327228546,
           0.4200586676597595,
           0.5294603705406189,
           0.5215954780578613,
           0.21423277258872986,
           0.2728639841079712,
           0.5614887475967407,
           0.48764342069625854,
           0.5614597797393799,
           0.642037034034729,
           0.638035237789154,
           0.5874921679496765,
           0.40508925914764404,
           0.6025077104568481,
           0.20676898956298828,
           0.308769166469574,
           0.4036251902580261,
           0.5213582515716553,
           0.6599089503288269,
           0.29996418952941895,
           0.6100484132766724,
           0.5092368721961975,
           0.47577235102653503,
           0.42192548513412476,
           0.7031974792480469,
           0.6044236421585083,
           0.5577665567398071,
           0.8494648933410645,
           0.5197969675064087,
           0.24358464777469635,
           0.5961593389511108,
           0.5337416529655457,
           0.3883882462978363,
           0.45490628480911255,
           0.6131675243377686,
           0.5576244592666626,
           0.5471234321594238,
           0.5448106527328491,
           0.5341799259185791,
           0.5696289539337158,
           0.4924014210700989,
           0.44765013456344604,
           0.3084823489189148,
           0.27555587887763977,
           0.6051727533340454,
           0.1877330243587494,
           0.3945530652999878,
           0.47944176197052,
           0.6585021615028381,
           0.5072661638259888,
           0.6032978296279907,
           0.6185249090194702,
           0.53023362159729,
           0.5720279216766357,
           0.30118680000305176,
           0.49879691004753113
          ],
          [
           0.190026193857193,
           0.20348840951919556,
           0.9999999403953552,
           0.156831756234169,
           0.2895353436470032,
           0.20434261858463287,
           0.5014066100120544,
           0.1726720929145813,
           0.16885584592819214,
           0.18851380050182343,
           0.20230421423912048,
           0.2197195440530777,
           0.20570901036262512,
           0.15525823831558228,
           0.1366739273071289,
           0.2050759494304657,
           0.34895485639572144,
           0.23775941133499146,
           0.12356509268283844,
           0.11142757534980774,
           0.17294885218143463,
           0.1940317451953888,
           0.14543934166431427,
           0.24755102396011353,
           0.17424845695495605,
           0.18658417463302612,
           0.16088172793388367,
           0.1234777569770813,
           0.2702290713787079,
           0.3213523030281067,
           0.19292351603507996,
           0.11612330377101898,
           0.13754338026046753,
           0.486882746219635,
           0.37638700008392334,
           0.1506369411945343,
           0.12779465317726135,
           0.16661030054092407,
           0.08285748213529587,
           0.18027320504188538,
           0.1807139813899994,
           0.13662835955619812,
           0.15963056683540344,
           0.19180870056152344,
           0.15274493396282196,
           0.40900033712387085,
           0.25658929347991943,
           0.14358587563037872,
           0.08444055914878845,
           0.16838371753692627,
           0.3616912364959717,
           0.10511736571788788,
           0.23555788397789001,
           0.16511982679367065,
           0.2068987488746643,
           0.15158401429653168,
           0.18130889534950256,
           0.16016897559165955,
           0.3536806106567383,
           0.19266480207443237,
           0.13213732838630676,
           0.3196578621864319,
           0.23518529534339905,
           0.17975874245166779,
           0.21945445239543915,
           0.3580273389816284,
           0.20022577047348022,
           0.10072550922632217,
           0.17832911014556885,
           0.2231374979019165,
           0.144471675157547,
           0.25138282775878906,
           0.2676019072532654,
           0.10148151218891144,
           0.5830217003822327,
           0.18056410551071167,
           0.20684926211833954,
           0.22502627968788147,
           0.15325653553009033,
           0.11183546483516693,
           0.15103010833263397,
           0.0920533686876297,
           0.11200395226478577,
           0.12481939792633057,
           0.11994941532611847
          ],
          [
           0.596584677696228,
           0.558941125869751,
           0.156831756234169,
           0.9999996423721313,
           0.5105715990066528,
           0.5685210227966309,
           0.30782270431518555,
           0.6122300028800964,
           0.6033697128295898,
           0.5962478518486023,
           0.5196124911308289,
           0.4741664528846741,
           0.49322769045829773,
           0.6372635364532471,
           0.47915977239608765,
           0.5891050100326538,
           0.37367933988571167,
           0.4309525489807129,
           0.5161590576171875,
           0.5104231834411621,
           0.48385384678840637,
           0.6705774068832397,
           0.5376310348510742,
           0.5926053524017334,
           0.5721532702445984,
           0.36906033754348755,
           0.3733043074607849,
           0.5070341229438782,
           0.5361088514328003,
           0.415807843208313,
           0.39037853479385376,
           0.5571757555007935,
           0.493752658367157,
           0.17560918629169464,
           0.2589138150215149,
           0.6846412420272827,
           0.6112192869186401,
           0.6230255961418152,
           0.5496786832809448,
           0.4201450049877167,
           0.4778099060058594,
           0.43123823404312134,
           0.45699775218963623,
           0.17227287590503693,
           0.3318919241428375,
           0.3714562654495239,
           0.562335729598999,
           0.5901615619659424,
           0.43761420249938965,
           0.4758172035217285,
           0.3944687843322754,
           0.4497775435447693,
           0.5302401781082153,
           0.6554254293441772,
           0.5112782716751099,
           0.4315158724784851,
           0.6476379632949829,
           0.4466860294342041,
           0.2403969019651413,
           0.553604006767273,
           0.521727979183197,
           0.39811792969703674,
           0.3824465274810791,
           0.5215169787406921,
           0.4521174132823944,
           0.4430577754974365,
           0.40379005670547485,
           0.5532885789871216,
           0.5049024820327759,
           0.39455726742744446,
           0.4758215546607971,
           0.3051469624042511,
           0.28129273653030396,
           0.6376062631607056,
           0.1942780762910843,
           0.4970349669456482,
           0.3694949150085449,
           0.5916772484779358,
           0.581058144569397,
           0.436580091714859,
           0.5669549703598022,
           0.6942873001098633,
           0.4466795325279236,
           0.45557650923728943,
           0.5387427806854248
          ],
          [
           0.5347009897232056,
           0.4870905876159668,
           0.2895353436470032,
           0.5105715990066528,
           1.0000001192092896,
           0.41786137223243713,
           0.42610639333724976,
           0.49616074562072754,
           0.4588303565979004,
           0.4353557527065277,
           0.4402693808078766,
           0.6466866731643677,
           0.4864860773086548,
           0.5435773730278015,
           0.34883731603622437,
           0.6454352140426636,
           0.3774741291999817,
           0.4135179817676544,
           0.44625407457351685,
           0.40090593695640564,
           0.35651713609695435,
           0.5455228090286255,
           0.4569817781448364,
           0.5400084853172302,
           0.5815858244895935,
           0.324749231338501,
           0.3215029537677765,
           0.4037136137485504,
           0.44344231486320496,
           0.39533665776252747,
           0.3774178922176361,
           0.3838452994823456,
           0.43320804834365845,
           0.22671294212341309,
           0.39853382110595703,
           0.4803745150566101,
           0.6249817609786987,
           0.48842447996139526,
           0.4840572476387024,
           0.3875545263290405,
           0.5520842671394348,
           0.3251800239086151,
           0.4450496733188629,
           0.3365308940410614,
           0.3553467392921448,
           0.34713369607925415,
           0.4666072428226471,
           0.5552175045013428,
           0.3098139762878418,
           0.41446587443351746,
           0.3862669765949249,
           0.4729692339897156,
           0.45459094643592834,
           0.554002046585083,
           0.42190900444984436,
           0.4303664565086365,
           0.5421504974365234,
           0.42230620980262756,
           0.29830461740493774,
           0.5572701692581177,
           0.5038547515869141,
           0.3973776400089264,
           0.42690008878707886,
           0.5336860418319702,
           0.37933778762817383,
           0.42090046405792236,
           0.571028470993042,
           0.4363135099411011,
           0.49684959650039673,
           0.42576006054878235,
           0.4089723825454712,
           0.24401047825813293,
           0.3078583776950836,
           0.4888501763343811,
           0.26974743604660034,
           0.6380241513252258,
           0.4169422388076782,
           0.5070610642433167,
           0.5216891765594482,
           0.3601216673851013,
           0.3963523507118225,
           0.38802510499954224,
           0.3475503623485565,
           0.33469492197036743,
           0.40724384784698486
          ],
          [
           0.5206221342086792,
           0.557165265083313,
           0.20434261858463287,
           0.5685210227966309,
           0.41786137223243713,
           1.0000003576278687,
           0.28408950567245483,
           0.46087315678596497,
           0.44921934604644775,
           0.7048779726028442,
           0.5093972086906433,
           0.42915958166122437,
           0.36843016743659973,
           0.5869669914245605,
           0.6207091808319092,
           0.4988088011741638,
           0.37316957116127014,
           0.3744215965270996,
           0.4862930476665497,
           0.6113427877426147,
           0.34133249521255493,
           0.5072588324546814,
           0.6460383534431458,
           0.5198404788970947,
           0.504439115524292,
           0.3409097194671631,
           0.5317681431770325,
           0.5644652843475342,
           0.4847891330718994,
           0.32176679372787476,
           0.35190141201019287,
           0.6103752851486206,
           0.543043851852417,
           0.20037710666656494,
           0.1827346235513687,
           0.5382232069969177,
           0.465725302696228,
           0.572652280330658,
           0.5599048733711243,
           0.4544680714607239,
           0.42856842279434204,
           0.4172690510749817,
           0.4434036314487457,
           0.24168545007705688,
           0.2722259759902954,
           0.3279162049293518,
           0.489837646484375,
           0.5189161896705627,
           0.28722018003463745,
           0.5167572498321533,
           0.33047208189964294,
           0.431770384311676,
           0.4488533139228821,
           0.5676697492599487,
           0.5271936655044556,
           0.4853854477405548,
           0.6323224902153015,
           0.34205347299575806,
           0.20327894389629364,
           0.4968714714050293,
           0.5587700605392456,
           0.355960875749588,
           0.3472922444343567,
           0.5152522325515747,
           0.47882193326950073,
           0.41360175609588623,
           0.5273304581642151,
           0.46847590804100037,
           0.42475712299346924,
           0.33546215295791626,
           0.41684263944625854,
           0.28107863664627075,
           0.1744280904531479,
           0.5591492652893066,
           0.18816842138767242,
           0.4711337685585022,
           0.381381094455719,
           0.4838813543319702,
           0.49072808027267456,
           0.5478312969207764,
           0.5555051565170288,
           0.581895112991333,
           0.5421513319015503,
           0.2922409772872925,
           0.49266481399536133
          ],
          [
           0.2978658676147461,
           0.4757115840911865,
           0.5014066100120544,
           0.30782270431518555,
           0.42610639333724976,
           0.28408950567245483,
           1,
           0.47573041915893555,
           0.20006299018859863,
           0.35941800475120544,
           0.3692494034767151,
           0.31991541385650635,
           0.37131285667419434,
           0.37476128339767456,
           0.25148510932922363,
           0.3808537423610687,
           0.6968742609024048,
           0.2871738076210022,
           0.3137781023979187,
           0.24874001741409302,
           0.46340233087539673,
           0.36981135606765747,
           0.3291642963886261,
           0.48298412561416626,
           0.33167439699172974,
           0.5292737483978271,
           0.3204824924468994,
           0.1841399073600769,
           0.42171216011047363,
           0.7398760914802551,
           0.29225632548332214,
           0.248136967420578,
           0.24345745146274567,
           0.47556692361831665,
           0.5507499575614929,
           0.29120466113090515,
           0.2893854081630707,
           0.2593420445919037,
           0.2779167592525482,
           0.33589693903923035,
           0.4250621199607849,
           0.29450246691703796,
           0.2535680830478668,
           0.34534311294555664,
           0.41968202590942383,
           0.579459547996521,
           0.4189860224723816,
           0.21996909379959106,
           0.14234857261180878,
           0.2717451751232147,
           0.5836243629455566,
           0.3062254786491394,
           0.42115938663482666,
           0.277912974357605,
           0.3495010435581207,
           0.23115777969360352,
           0.3872174322605133,
           0.35256707668304443,
           0.5855854153633118,
           0.36544573307037354,
           0.23251168429851532,
           0.5861613750457764,
           0.35435229539871216,
           0.3135985732078552,
           0.3248419761657715,
           0.5588061213493347,
           0.25220856070518494,
           0.21935975551605225,
           0.30983632802963257,
           0.5165958404541016,
           0.2368890345096588,
           0.36721497774124146,
           0.5122074484825134,
           0.2731326222419739,
           0.7138203382492065,
           0.27263814210891724,
           0.4244060516357422,
           0.4913886785507202,
           0.2785438001155853,
           0.17782175540924072,
           0.32450926303863525,
           0.17460760474205017,
           0.21497607231140137,
           0.2134122997522354,
           0.24280890822410583
          ],
          [
           0.6107990741729736,
           0.6029093265533447,
           0.1726720929145813,
           0.6122300028800964,
           0.49616074562072754,
           0.46087315678596497,
           0.47573041915893555,
           1,
           0.46068066358566284,
           0.5823984146118164,
           0.5605060458183289,
           0.4970299005508423,
           0.5330771803855896,
           0.7029746770858765,
           0.3961755037307739,
           0.6533787846565247,
           0.49816006422042847,
           0.39750736951828003,
           0.5522469878196716,
           0.5286422967910767,
           0.5789793729782104,
           0.6804865002632141,
           0.551673412322998,
           0.6801572442054749,
           0.5674646496772766,
           0.39988958835601807,
           0.40273284912109375,
           0.4687268137931824,
           0.5957852602005005,
           0.5662009119987488,
           0.3401685953140259,
           0.4130759835243225,
           0.5815057754516602,
           0.23067393898963928,
           0.3140537738800049,
           0.5964399576187134,
           0.610381007194519,
           0.5269441604614258,
           0.5004960298538208,
           0.352802574634552,
           0.6075863838195801,
           0.4173606038093567,
           0.43206697702407837,
           0.27839088439941406,
           0.3746393322944641,
           0.4984973669052124,
           0.6428526639938354,
           0.5358965396881104,
           0.3130261301994324,
           0.4324191212654114,
           0.533284068107605,
           0.44159388542175293,
           0.5612906217575073,
           0.6723781824111938,
           0.6086013317108154,
           0.429287850856781,
           0.6903995275497437,
           0.538744330406189,
           0.3767421841621399,
           0.6574986577033997,
           0.48733848333358765,
           0.48092085123062134,
           0.3796504735946655,
           0.6091995239257812,
           0.548340380191803,
           0.5338035821914673,
           0.39773184061050415,
           0.5334427952766418,
           0.5701229572296143,
           0.4762987494468689,
           0.44282883405685425,
           0.3219044804573059,
           0.42212894558906555,
           0.6424396634101868,
           0.305120050907135,
           0.4342418313026428,
           0.5851209163665771,
           0.6984498500823975,
           0.5284766554832458,
           0.3719680607318878,
           0.5582857131958008,
           0.4542753994464874,
           0.43644165992736816,
           0.3084697723388672,
           0.540637731552124
          ],
          [
           0.7026017904281616,
           0.4990895390510559,
           0.16885584592819214,
           0.6033697128295898,
           0.4588303565979004,
           0.44921934604644775,
           0.20006299018859863,
           0.46068066358566284,
           1,
           0.4188113808631897,
           0.4783799350261688,
           0.4757152795791626,
           0.4124849736690521,
           0.5352331399917603,
           0.5015829205513,
           0.47314512729644775,
           0.210238516330719,
           0.6622644662857056,
           0.3830384612083435,
           0.4841049909591675,
           0.45980003476142883,
           0.47228994965553284,
           0.4316726326942444,
           0.45186150074005127,
           0.4596259295940399,
           0.279666543006897,
           0.3449150025844574,
           0.6609396934509277,
           0.3624577522277832,
           0.24275422096252441,
           0.5562843680381775,
           0.542914092540741,
           0.4558256268501282,
           0.203975647687912,
           0.1570083051919937,
           0.5501872301101685,
           0.4809362590312958,
           0.49973058700561523,
           0.47712191939353943,
           0.49051767587661743,
           0.42704394459724426,
           0.375103622674942,
           0.4640636146068573,
           0.10839991271495819,
           0.26543352007865906,
           0.27483588457107544,
           0.42285990715026855,
           0.6200903654098511,
           0.6934077739715576,
           0.5875998735427856,
           0.301268994808197,
           0.37019816040992737,
           0.3704012632369995,
           0.6440058946609497,
           0.36573708057403564,
           0.434054434299469,
           0.5317223072052002,
           0.3439493775367737,
           0.20268040895462036,
           0.481975793838501,
           0.5036147832870483,
           0.24379178881645203,
           0.355235755443573,
           0.46454402804374695,
           0.3574064373970032,
           0.3312510848045349,
           0.45596277713775635,
           0.4672166109085083,
           0.45993131399154663,
           0.24743442237377167,
           0.6043069362640381,
           0.2249266356229782,
           0.2288062423467636,
           0.5451114177703857,
           0.13732632994651794,
           0.455585777759552,
           0.3460729718208313,
           0.4641977548599243,
           0.4727175831794739,
           0.609663724899292,
           0.406424343585968,
           0.5562886595726013,
           0.46734365820884705,
           0.6738390922546387,
           0.5053134560585022
          ],
          [
           0.5356685519218445,
           0.6928882598876953,
           0.18851380050182343,
           0.5962478518486023,
           0.4353557527065277,
           0.7048779726028442,
           0.35941800475120544,
           0.5823984146118164,
           0.4188113808631897,
           0.9999998807907104,
           0.5629727244377136,
           0.4589386582374573,
           0.4201926589012146,
           0.6329144239425659,
           0.6710450649261475,
           0.5685068964958191,
           0.4544439911842346,
           0.3567817807197571,
           0.5658959150314331,
           0.6173549890518188,
           0.394315242767334,
           0.5656074285507202,
           0.7057725191116333,
           0.6408824920654297,
           0.5898635983467102,
           0.41466790437698364,
           0.5610337257385254,
           0.5222319960594177,
           0.569057822227478,
           0.3951575756072998,
           0.31348469853401184,
           0.6406946182250977,
           0.5292128920555115,
           0.19956091046333313,
           0.30322331190109253,
           0.5902546644210815,
           0.5475274324417114,
           0.6220290064811707,
           0.5987125635147095,
           0.5338267683982849,
           0.4896931052207947,
           0.42413395643234253,
           0.4789832830429077,
           0.21726757287979126,
           0.306427538394928,
           0.3619137108325958,
           0.5791097283363342,
           0.5685725212097168,
           0.2702838182449341,
           0.4961041212081909,
           0.41667288541793823,
           0.4437292814254761,
           0.5727506875991821,
           0.6079698801040649,
           0.5817100405693054,
           0.4816805124282837,
           0.8070474863052368,
           0.4630263149738312,
           0.2192884087562561,
           0.5074561834335327,
           0.5800830125808716,
           0.4445663094520569,
           0.36522001028060913,
           0.6036033630371094,
           0.5143635869026184,
           0.46938925981521606,
           0.5136000514030457,
           0.5455969572067261,
           0.5094219446182251,
           0.5287349820137024,
           0.41065549850463867,
           0.305338978767395,
           0.21370913088321686,
           0.6345126628875732,
           0.17312276363372803,
           0.42926549911499023,
           0.4150714576244354,
           0.5898790955543518,
           0.606764554977417,
           0.5067662000656128,
           0.6634175181388855,
           0.5831496119499207,
           0.5486260056495667,
           0.2826288342475891,
           0.5031472444534302
          ],
          [
           0.6203852891921997,
           0.6096917390823364,
           0.20230421423912048,
           0.5196124911308289,
           0.4402693808078766,
           0.5093972086906433,
           0.3692494034767151,
           0.5605060458183289,
           0.4783799350261688,
           0.5629727244377136,
           1,
           0.5136122703552246,
           0.44972842931747437,
           0.6472907066345215,
           0.4710729718208313,
           0.5657827854156494,
           0.4211723208427429,
           0.4331600069999695,
           0.4703259766101837,
           0.5801109075546265,
           0.37838345766067505,
           0.5010634064674377,
           0.6550074815750122,
           0.6664206385612488,
           0.580787718296051,
           0.3875782787799835,
           0.44895869493484497,
           0.5267525315284729,
           0.6003905534744263,
           0.40304893255233765,
           0.3344517946243286,
           0.45146217942237854,
           0.49249452352523804,
           0.19490736722946167,
           0.20646098256111145,
           0.5038152933120728,
           0.5415061712265015,
           0.48808780312538147,
           0.4899525046348572,
           0.3758694529533386,
           0.5265426635742188,
           0.4276983141899109,
           0.474744975566864,
           0.16822049021720886,
           0.2912137508392334,
           0.48621252179145813,
           0.5644755363464355,
           0.5669918656349182,
           0.33259645104408264,
           0.5424124598503113,
           0.5504688620567322,
           0.33142855763435364,
           0.4254602789878845,
           0.58426833152771,
           0.661805272102356,
           0.44968804717063904,
           0.6525422930717468,
           0.48654523491859436,
           0.20618665218353271,
           0.5569782257080078,
           0.5306330919265747,
           0.36737534403800964,
           0.30260276794433594,
           0.5796802043914795,
           0.6574661731719971,
           0.5575300455093384,
           0.43934494256973267,
           0.44388484954833984,
           0.5469598770141602,
           0.33894670009613037,
           0.45939648151397705,
           0.33812016248703003,
           0.20355214178562164,
           0.5236161947250366,
           0.2193361073732376,
           0.3651639223098755,
           0.4840310215950012,
           0.6339603066444397,
           0.5266121029853821,
           0.4894803762435913,
           0.5311702489852905,
           0.453696072101593,
           0.7357612252235413,
           0.27701535820961,
           0.5109797120094299
          ],
          [
           0.5603022575378418,
           0.5980264544487,
           0.2197195440530777,
           0.4741664528846741,
           0.6466866731643677,
           0.42915958166122437,
           0.31991541385650635,
           0.4970299005508423,
           0.4757152795791626,
           0.4589386582374573,
           0.5136122703552246,
           0.9999999403953552,
           0.6561874151229858,
           0.5079903602600098,
           0.4033048152923584,
           0.5199935436248779,
           0.32560282945632935,
           0.4283996820449829,
           0.50296950340271,
           0.4311220943927765,
           0.25183653831481934,
           0.458351194858551,
           0.5015899538993835,
           0.5711612701416016,
           0.529157280921936,
           0.2485085278749466,
           0.33352336287498474,
           0.42281264066696167,
           0.49598178267478943,
           0.2926514446735382,
           0.33926376700401306,
           0.4187145233154297,
           0.40273812413215637,
           0.16539180278778076,
           0.3454561233520508,
           0.504126787185669,
           0.5103501677513123,
           0.5072394609451294,
           0.5069320201873779,
           0.441731333732605,
           0.557489275932312,
           0.4464785158634186,
           0.685187041759491,
           0.18700271844863892,
           0.2611819803714752,
           0.36160939931869507,
           0.4580017924308777,
           0.5825827121734619,
           0.29641830921173096,
           0.451543927192688,
           0.4108200967311859,
           0.4354144036769867,
           0.36203816533088684,
           0.6391841173171997,
           0.44913098216056824,
           0.5621671676635742,
           0.6519861221313477,
           0.5266778469085693,
           0.1725652813911438,
           0.597064733505249,
           0.44854646921157837,
           0.325813353061676,
           0.4505058526992798,
           0.5552366971969604,
           0.4537487328052521,
           0.4374491274356842,
           0.5307880640029907,
           0.4683089554309845,
           0.6699126958847046,
           0.34649360179901123,
           0.49594593048095703,
           0.26898929476737976,
           0.18480245769023895,
           0.46936488151550293,
           0.20630061626434326,
           0.4946439862251282,
           0.4648929238319397,
           0.5151246786117554,
           0.48849260807037354,
           0.4205171465873718,
           0.4781695604324341,
           0.3787596821784973,
           0.40919411182403564,
           0.2733064293861389,
           0.5141249895095825
          ],
          [
           0.4699554741382599,
           0.5578420162200928,
           0.20570901036262512,
           0.49322769045829773,
           0.4864860773086548,
           0.36843016743659973,
           0.37131285667419434,
           0.5330771803855896,
           0.4124849736690521,
           0.4201926589012146,
           0.44972842931747437,
           0.6561874151229858,
           1,
           0.4479788541793823,
           0.3964693546295166,
           0.44204527139663696,
           0.3535906672477722,
           0.3520808219909668,
           0.4725382626056671,
           0.39200273156166077,
           0.35158389806747437,
           0.49656617641448975,
           0.39953869581222534,
           0.5187342166900635,
           0.46198445558547974,
           0.29210561513900757,
           0.3245546817779541,
           0.38405466079711914,
           0.427437961101532,
           0.3708401322364807,
           0.3525908589363098,
           0.38366198539733887,
           0.4503471553325653,
           0.22339315712451935,
           0.269944429397583,
           0.47276771068573,
           0.39174532890319824,
           0.5089660882949829,
           0.5061142444610596,
           0.4722933769226074,
           0.5212880373001099,
           0.3805384039878845,
           0.5504367351531982,
           0.19675204157829285,
           0.27330759167671204,
           0.3229491710662842,
           0.3706545829772949,
           0.4955708384513855,
           0.29922249913215637,
           0.4149553179740906,
           0.35930001735687256,
           0.376093327999115,
           0.31090986728668213,
           0.6484782695770264,
           0.3790387511253357,
           0.7102984189987183,
           0.5611129999160767,
           0.7367795705795288,
           0.2460479885339737,
           0.6707304120063782,
           0.3616326153278351,
           0.2840608060359955,
           0.5954939126968384,
           0.4662286043167114,
           0.3614208698272705,
           0.3998091518878937,
           0.3984566926956177,
           0.5029340982437134,
           0.6085262894630432,
           0.31956350803375244,
           0.4415619373321533,
           0.21888382732868195,
           0.2296656221151352,
           0.41354578733444214,
           0.22173818945884705,
           0.3733983635902405,
           0.537042498588562,
           0.48883697390556335,
           0.37861180305480957,
           0.3852689564228058,
           0.46676164865493774,
           0.35991400480270386,
           0.35955610871315,
           0.22827690839767456,
           0.43807876110076904
          ],
          [
           0.7099749445915222,
           0.6677067279815674,
           0.15525823831558228,
           0.6372635364532471,
           0.5435773730278015,
           0.5869669914245605,
           0.37476128339767456,
           0.7029746770858765,
           0.5352331399917603,
           0.6329144239425659,
           0.6472907066345215,
           0.5079903602600098,
           0.4479788541793823,
           0.9999998211860657,
           0.46256959438323975,
           0.7200820446014404,
           0.48892512917518616,
           0.4517955780029297,
           0.6304742097854614,
           0.637418270111084,
           0.6029752492904663,
           0.7052708864212036,
           0.7201733589172363,
           0.7942861318588257,
           0.6642836928367615,
           0.5909332036972046,
           0.42304757237434387,
           0.5652914047241211,
           0.7730908393859863,
           0.4648458659648895,
           0.39069095253944397,
           0.4882275462150574,
           0.5592230558395386,
           0.23735381662845612,
           0.24734926223754883,
           0.6242361068725586,
           0.662567138671875,
           0.5863839387893677,
           0.5952994227409363,
           0.4012265205383301,
           0.6802051067352295,
           0.45236527919769287,
           0.49736231565475464,
           0.234674870967865,
           0.39529481530189514,
           0.5495097637176514,
           0.7379727363586426,
           0.5922883749008179,
           0.3765234053134918,
           0.5498437881469727,
           0.6153777241706848,
           0.5504723787307739,
           0.5560450553894043,
           0.6547595858573914,
           0.7474256157875061,
           0.42433297634124756,
           0.745083212852478,
           0.43988317251205444,
           0.2552652359008789,
           0.6693242788314819,
           0.5628077387809753,
           0.47614726424217224,
           0.304144024848938,
           0.702247142791748,
           0.6876399517059326,
           0.6536686420440674,
           0.4485129117965698,
           0.5564020872116089,
           0.6149883270263672,
           0.4158926010131836,
           0.5000417232513428,
           0.3455393612384796,
           0.27506333589553833,
           0.7422735691070557,
           0.18579265475273132,
           0.4604930877685547,
           0.49958354234695435,
           0.7894937992095947,
           0.5959420204162598,
           0.46790117025375366,
           0.594864010810852,
           0.4957895278930664,
           0.5078551173210144,
           0.3526288866996765,
           0.6210758090019226
          ],
          [
           0.4121731221675873,
           0.6276842355728149,
           0.1366739273071289,
           0.47915977239608765,
           0.34883731603622437,
           0.6207091808319092,
           0.25148510932922363,
           0.3961755037307739,
           0.5015829205513,
           0.6710450649261475,
           0.4710729718208313,
           0.4033048152923584,
           0.3964693546295166,
           0.46256959438323975,
           1.000000238418579,
           0.409366637468338,
           0.25875937938690186,
           0.3049681782722473,
           0.47180303931236267,
           0.7998336553573608,
           0.28106391429901123,
           0.38239526748657227,
           0.5703935027122498,
           0.44921839237213135,
           0.46446189284324646,
           0.3167935609817505,
           0.8196957111358643,
           0.7231317758560181,
           0.37223386764526367,
           0.2620163559913635,
           0.2764047682285309,
           0.7922152280807495,
           0.7411400079727173,
           0.20529688894748688,
           0.13289019465446472,
           0.5150315761566162,
           0.41849660873413086,
           0.5295250415802002,
           0.544929027557373,
           0.6616518497467041,
           0.3575683832168579,
           0.3868764042854309,
           0.44091296195983887,
           0.07027970254421234,
           0.170606791973114,
           0.25872382521629333,
           0.3777519166469574,
           0.5598597526550293,
           0.3323597311973572,
           0.4709419906139374,
           0.29658934473991394,
           0.3858006000518799,
           0.3226778507232666,
           0.5360709428787231,
           0.3751697540283203,
           0.7588746547698975,
           0.6072679162025452,
           0.37494316697120667,
           0.16377055644989014,
           0.43077120184898376,
           0.7485791444778442,
           0.25266677141189575,
           0.3315371870994568,
           0.44645392894744873,
           0.35652703046798706,
           0.352317750453949,
           0.7541258931159973,
           0.520756185054779,
           0.38507282733917236,
           0.29632535576820374,
           0.398568332195282,
           0.2491660863161087,
           0.17896129190921783,
           0.48484086990356445,
           0.1255342960357666,
           0.3896416425704956,
           0.3201540410518646,
           0.4095653295516968,
           0.5374822616577148,
           0.7184063196182251,
           0.527186393737793,
           0.8139832615852356,
           0.7744107842445374,
           0.3081367611885071,
           0.5031536221504211
          ],
          [
           0.6257071495056152,
           0.5273404717445374,
           0.2050759494304657,
           0.5891050100326538,
           0.6454352140426636,
           0.4988088011741638,
           0.3808537423610687,
           0.6533787846565247,
           0.47314512729644775,
           0.5685068964958191,
           0.5657827854156494,
           0.5199935436248779,
           0.44204527139663696,
           0.7200820446014404,
           0.409366637468338,
           1.0000001192092896,
           0.4277052879333496,
           0.43536078929901123,
           0.5070919990539551,
           0.5113112330436707,
           0.46209126710891724,
           0.6570945978164673,
           0.5991601943969727,
           0.6419575810432434,
           0.6953545808792114,
           0.38507330417633057,
           0.3636507987976074,
           0.4787541627883911,
           0.5907399654388428,
           0.43917298316955566,
           0.3465627431869507,
           0.4666804373264313,
           0.5252343416213989,
           0.20191693305969238,
           0.2826010584831238,
           0.5502117872238159,
           0.8303234577178955,
           0.5281422138214111,
           0.4661424160003662,
           0.392805278301239,
           0.519924521446228,
           0.3955470323562622,
           0.4304489493370056,
           0.2221059501171112,
           0.312000572681427,
           0.49074023962020874,
           0.7457395195960999,
           0.5742146968841553,
           0.32471364736557007,
           0.44141021370887756,
           0.514875590801239,
           0.46544721722602844,
           0.7032745480537415,
           0.60732102394104,
           0.567158579826355,
           0.3961372375488281,
           0.6765346527099609,
           0.3743115961551666,
           0.30209290981292725,
           0.5884567499160767,
           0.6077442169189453,
           0.5725119709968567,
           0.3275600075721741,
           0.6426711082458496,
           0.5411678552627563,
           0.535804033279419,
           0.46836090087890625,
           0.45966458320617676,
           0.526424765586853,
           0.46180427074432373,
           0.4293935000896454,
           0.3769749402999878,
           0.3358086943626404,
           0.6280764937400818,
           0.23554810881614685,
           0.5168931484222412,
           0.44248586893081665,
           0.6604663729667664,
           0.6481657028198242,
           0.3832366466522217,
           0.5087490677833557,
           0.46966150403022766,
           0.44410961866378784,
           0.3229783773422241,
           0.500982940196991
          ],
          [
           0.35098540782928467,
           0.4823821783065796,
           0.34895485639572144,
           0.37367933988571167,
           0.3774741291999817,
           0.37316957116127014,
           0.6968742609024048,
           0.49816006422042847,
           0.210238516330719,
           0.4544439911842346,
           0.4211723208427429,
           0.32560282945632935,
           0.3535906672477722,
           0.48892512917518616,
           0.25875937938690186,
           0.4277052879333496,
           1,
           0.26133474707603455,
           0.434526264667511,
           0.3240284323692322,
           0.4968937039375305,
           0.4996878504753113,
           0.4111166000366211,
           0.571774423122406,
           0.3880895972251892,
           0.5076409578323364,
           0.3567626476287842,
           0.23698043823242188,
           0.6565147638320923,
           0.6579782962799072,
           0.3230843245983124,
           0.25461891293525696,
           0.2825065851211548,
           0.3860715329647064,
           0.49847835302352905,
           0.34936103224754333,
           0.34870684146881104,
           0.3437158465385437,
           0.3114973306655884,
           0.3206542432308197,
           0.4680023193359375,
           0.3417786955833435,
           0.2726968228816986,
           0.37841081619262695,
           0.3632282614707947,
           0.47442907094955444,
           0.44891825318336487,
           0.2659734785556793,
           0.17102444171905518,
           0.3456455171108246,
           0.4835144579410553,
           0.241188645362854,
           0.5126029849052429,
           0.362803190946579,
           0.46927738189697266,
           0.2404547929763794,
           0.47264376282691956,
           0.3370554447174072,
           0.5120470523834229,
           0.36893564462661743,
           0.277723491191864,
           0.5108616352081299,
           0.3547150492668152,
           0.4993778467178345,
           0.4151301980018616,
           0.4742179811000824,
           0.26449745893478394,
           0.3179776072502136,
           0.37400907278060913,
           0.5232614278793335,
           0.30164197087287903,
           0.28462690114974976,
           0.42896103858947754,
           0.3245506286621094,
           0.4411810040473938,
           0.26374220848083496,
           0.377045601606369,
           0.5658186078071594,
           0.33383333683013916,
           0.21570241451263428,
           0.39077913761138916,
           0.21695855259895325,
           0.257809042930603,
           0.19406414031982422,
           0.3430766463279724
          ],
          [
           0.7688202857971191,
           0.3950645327568054,
           0.23775941133499146,
           0.4309525489807129,
           0.4135179817676544,
           0.3744215965270996,
           0.2871738076210022,
           0.39750736951828003,
           0.6622644662857056,
           0.3567817807197571,
           0.4331600069999695,
           0.4283996820449829,
           0.3520808219909668,
           0.4517955780029297,
           0.3049681782722473,
           0.43536078929901123,
           0.26133474707603455,
           1.000000238418579,
           0.26930201053619385,
           0.4175574779510498,
           0.3583131432533264,
           0.4046274423599243,
           0.40876755118370056,
           0.43736201524734497,
           0.3981350362300873,
           0.24941200017929077,
           0.30936479568481445,
           0.6706373691558838,
           0.38691624999046326,
           0.307977557182312,
           0.6491213440895081,
           0.301186740398407,
           0.38209694623947144,
           0.2340620756149292,
           0.18036165833473206,
           0.4077325761318207,
           0.4013165831565857,
           0.33584916591644287,
           0.3003680109977722,
           0.2924919128417969,
           0.43258607387542725,
           0.2879382371902466,
           0.386104941368103,
           0.24795758724212646,
           0.23130185902118683,
           0.37320682406425476,
           0.43229854106903076,
           0.501977801322937,
           0.4273396134376526,
           0.5836405754089355,
           0.39681506156921387,
           0.30580198764801025,
           0.3116084933280945,
           0.4164283275604248,
           0.38254982233047485,
           0.3448091745376587,
           0.4774683713912964,
           0.23395603895187378,
           0.2448548972606659,
           0.4806514382362366,
           0.4327221214771271,
           0.278545081615448,
           0.22999998927116394,
           0.4024811089038849,
           0.40103185176849365,
           0.4007302522659302,
           0.3488168716430664,
           0.2670813202857971,
           0.3821449279785156,
           0.29186227917671204,
           0.6465705037117004,
           0.2740790843963623,
           0.20569545030593872,
           0.37452977895736694,
           0.2081429660320282,
           0.2960430383682251,
           0.3296136260032654,
           0.4153828024864197,
           0.3882136344909668,
           0.5517017245292664,
           0.368815541267395,
           0.38305801153182983,
           0.3908403813838959,
           0.38975971937179565,
           0.3945470154285431
          ],
          [
           0.4323729872703552,
           0.6175236105918884,
           0.12356509268283844,
           0.5161590576171875,
           0.44625407457351685,
           0.4862930476665497,
           0.3137781023979187,
           0.5522469878196716,
           0.3830384612083435,
           0.5658959150314331,
           0.4703259766101837,
           0.50296950340271,
           0.4725382626056671,
           0.6304742097854614,
           0.47180303931236267,
           0.5070919990539551,
           0.434526264667511,
           0.26930201053619385,
           1.0000003576278687,
           0.521194338798523,
           0.35752856731414795,
           0.5158975124359131,
           0.5759010314941406,
           0.6506209969520569,
           0.5104855298995972,
           0.33847102522850037,
           0.4279065728187561,
           0.3965357542037964,
           0.5547501444816589,
           0.3612822890281677,
           0.20811253786087036,
           0.4399757981300354,
           0.4717506766319275,
           0.1524118185043335,
           0.3049700856208801,
           0.5005007982254028,
           0.4396316409111023,
           0.618742823600769,
           0.6322487592697144,
           0.4006198048591614,
           0.5672186613082886,
           0.46404367685317993,
           0.48916763067245483,
           0.27471283078193665,
           0.3196795582771301,
           0.36410409212112427,
           0.5073487758636475,
           0.44803357124328613,
           0.2931928336620331,
           0.41404208540916443,
           0.4237750172615051,
           0.45443642139434814,
           0.41087886691093445,
           0.6650117635726929,
           0.5567182302474976,
           0.45543283224105835,
           0.684192419052124,
           0.46451231837272644,
           0.2160854935646057,
           0.5284585952758789,
           0.4360412359237671,
           0.3528045415878296,
           0.5063457489013672,
           0.6563596129417419,
           0.4884328544139862,
           0.45798903703689575,
           0.4690071940422058,
           0.719607412815094,
           0.4979788064956665,
           0.46859902143478394,
           0.3944411873817444,
           0.22202780842781067,
           0.20271044969558716,
           0.5256253480911255,
           0.1629014015197754,
           0.4075995087623596,
           0.4254900813102722,
           0.6045594215393066,
           0.466484934091568,
           0.40243569016456604,
           0.5154475569725037,
           0.4603499174118042,
           0.3867529034614563,
           0.23723018169403076,
           0.5281229019165039
          ],
          [
           0.5644197463989258,
           0.6465321779251099,
           0.11142757534980774,
           0.5104231834411621,
           0.40090593695640564,
           0.6113427877426147,
           0.24874001741409302,
           0.5286422967910767,
           0.4841049909591675,
           0.6173549890518188,
           0.5801109075546265,
           0.4311220943927765,
           0.39200273156166077,
           0.637418270111084,
           0.7998336553573608,
           0.5113112330436707,
           0.3240284323692322,
           0.4175574779510498,
           0.521194338798523,
           1.000000238418579,
           0.33637309074401855,
           0.5085551738739014,
           0.6211702227592468,
           0.5951579809188843,
           0.5375648736953735,
           0.3543442189693451,
           0.9107889533042908,
           0.8847649097442627,
           0.5227698683738708,
           0.33434468507766724,
           0.3209754526615143,
           0.5442672967910767,
           0.9038904905319214,
           0.16893431544303894,
           0.1337544023990631,
           0.5566529035568237,
           0.4808328151702881,
           0.49527835845947266,
           0.5503028035163879,
           0.37229394912719727,
           0.5008785724639893,
           0.45765018463134766,
           0.47837918996810913,
           0.11004860699176788,
           0.19214960932731628,
           0.37604278326034546,
           0.49405863881111145,
           0.5619763135910034,
           0.32264289259910583,
           0.5418750047683716,
           0.43777090311050415,
           0.34390437602996826,
           0.3677997589111328,
           0.5676353573799133,
           0.5971694588661194,
           0.8097264766693115,
           0.6791284084320068,
           0.3884579539299011,
           0.18156258761882782,
           0.5349180698394775,
           0.846574604511261,
           0.28403592109680176,
           0.24408945441246033,
           0.5619305968284607,
           0.5792948603630066,
           0.46660691499710083,
           0.8401655554771423,
           0.4953663945198059,
           0.44386082887649536,
           0.2826527953147888,
           0.4745185077190399,
           0.24815499782562256,
           0.18654203414916992,
           0.522000789642334,
           0.1476220339536667,
           0.3216829299926758,
           0.3758906126022339,
           0.5700981616973877,
           0.5620714426040649,
           0.8104141354560852,
           0.5312092304229736,
           0.8636053800582886,
           0.8963915109634399,
           0.3152833580970764,
           0.5708257555961609
          ],
          [
           0.4562494158744812,
           0.4585062861442566,
           0.17294885218143463,
           0.48385384678840637,
           0.35651713609695435,
           0.34133249521255493,
           0.46340233087539673,
           0.5789793729782104,
           0.45980003476142883,
           0.394315242767334,
           0.37838345766067505,
           0.25183653831481934,
           0.35158389806747437,
           0.6029752492904663,
           0.28106391429901123,
           0.46209126710891724,
           0.4968937039375305,
           0.3583131432533264,
           0.35752856731414795,
           0.33637309074401855,
           1,
           0.5138506889343262,
           0.3756698966026306,
           0.4185830354690552,
           0.3933849632740021,
           0.5968555808067322,
           0.28878429532051086,
           0.33828383684158325,
           0.36179453134536743,
           0.5593870878219604,
           0.5072398781776428,
           0.33943498134613037,
           0.35187140107154846,
           0.25491875410079956,
           0.30849069356918335,
           0.41182219982147217,
           0.4040124714374542,
           0.3783210515975952,
           0.3386504054069519,
           0.2832547426223755,
           0.484835147857666,
           0.3335040807723999,
           0.25527265667915344,
           0.26123368740081787,
           0.40128791332244873,
           0.27757251262664795,
           0.3965630531311035,
           0.4248306155204773,
           0.4034208357334137,
           0.37908458709716797,
           0.27533966302871704,
           0.3934212625026703,
           0.4864581823348999,
           0.36828845739364624,
           0.40671399235725403,
           0.2423160970211029,
           0.4426136612892151,
           0.3398764133453369,
           0.377219021320343,
           0.4160481095314026,
           0.321903258562088,
           0.3728329539299011,
           0.28612518310546875,
           0.36602145433425903,
           0.30570459365844727,
           0.2999146282672882,
           0.21843218803405762,
           0.39735525846481323,
           0.3491663932800293,
           0.543071985244751,
           0.34992480278015137,
           0.24152547121047974,
           0.4119219183921814,
           0.5188917517662048,
           0.2593325972557068,
           0.32083258032798767,
           0.38568803668022156,
           0.4995039701461792,
           0.35451531410217285,
           0.28734907507896423,
           0.41074344515800476,
           0.29773908853530884,
           0.2800138592720032,
           0.40328776836395264,
           0.38552767038345337
          ],
          [
           0.6254838109016418,
           0.5603463053703308,
           0.1940317451953888,
           0.6705774068832397,
           0.5455228090286255,
           0.5072588324546814,
           0.36981135606765747,
           0.6804865002632141,
           0.47228994965553284,
           0.5656074285507202,
           0.5010634064674377,
           0.458351194858551,
           0.49656617641448975,
           0.7052708864212036,
           0.38239526748657227,
           0.6570945978164673,
           0.4996878504753113,
           0.4046274423599243,
           0.5158975124359131,
           0.5085551738739014,
           0.5138506889343262,
           1.000000238418579,
           0.5518269538879395,
           0.6768324375152588,
           0.5490252375602722,
           0.42781996726989746,
           0.3638244867324829,
           0.47638964653015137,
           0.6344279050827026,
           0.4252747595310211,
           0.42074131965637207,
           0.4165869653224945,
           0.5182493925094604,
           0.2485141158103943,
           0.2998087406158447,
           0.5483443140983582,
           0.6064760684967041,
           0.5594711303710938,
           0.5067724585533142,
           0.38812243938446045,
           0.5118676424026489,
           0.38849887251853943,
           0.46574002504348755,
           0.29145893454551697,
           0.3376252055168152,
           0.4072873592376709,
           0.6287164092063904,
           0.556227445602417,
           0.3272431492805481,
           0.4986271262168884,
           0.45396870374679565,
           0.45631659030914307,
           0.6226658821105957,
           0.655937671661377,
           0.5983647704124451,
           0.3892960548400879,
           0.6722126007080078,
           0.43068456649780273,
           0.29206520318984985,
           0.6039849519729614,
           0.456709086894989,
           0.5106245875358582,
           0.4284791648387909,
           0.633570671081543,
           0.5172438621520996,
           0.5112711787223816,
           0.40183770656585693,
           0.5495004057884216,
           0.547004222869873,
           0.4433303475379944,
           0.4638617932796478,
           0.3086559772491455,
           0.29352128505706787,
           0.6396835446357727,
           0.20091915130615234,
           0.40346288681030273,
           0.44087570905685425,
           0.6387208700180054,
           0.5292212963104248,
           0.40305447578430176,
           0.5928417444229126,
           0.4794243574142456,
           0.3741644024848938,
           0.31511372327804565,
           0.5293205976486206
          ],
          [
           0.6035350561141968,
           0.6467528343200684,
           0.14543934166431427,
           0.5376310348510742,
           0.4569817781448364,
           0.6460383534431458,
           0.3291642963886261,
           0.551673412322998,
           0.4316726326942444,
           0.7057725191116333,
           0.6550074815750122,
           0.5015899538993835,
           0.39953869581222534,
           0.7201733589172363,
           0.5703935027122498,
           0.5991601943969727,
           0.4111166000366211,
           0.40876755118370056,
           0.5759010314941406,
           0.6211702227592468,
           0.3756698966026306,
           0.5518269538879395,
           1,
           0.6373682022094727,
           0.6307518482208252,
           0.44064587354660034,
           0.4925355315208435,
           0.5524371862411499,
           0.6069533824920654,
           0.4029653072357178,
           0.3268532156944275,
           0.5964257717132568,
           0.5245565176010132,
           0.14599333703517914,
           0.19159747660160065,
           0.526777982711792,
           0.6143579483032227,
           0.5518450736999512,
           0.5343944430351257,
           0.4498445391654968,
           0.544876217842102,
           0.43993186950683594,
           0.48139286041259766,
           0.19328618049621582,
           0.3162635862827301,
           0.4711610674858093,
           0.5988665819168091,
           0.6156108975410461,
           0.2856394052505493,
           0.5180914402008057,
           0.5091646909713745,
           0.436917245388031,
           0.46564656496047974,
           0.5823085308074951,
           0.5833861827850342,
           0.46565210819244385,
           0.7435599565505981,
           0.3919799327850342,
           0.20820924639701843,
           0.5355761647224426,
           0.6094062328338623,
           0.39207491278648376,
           0.3131030797958374,
           0.5815311670303345,
           0.5561776161193848,
           0.5277661085128784,
           0.513353705406189,
           0.48764851689338684,
           0.5104187726974487,
           0.38915348052978516,
           0.4533338248729706,
           0.32606443762779236,
           0.20280039310455322,
           0.6001052260398865,
           0.16605901718139648,
           0.3600887656211853,
           0.4352687895298004,
           0.6417982578277588,
           0.5680149793624878,
           0.5037685036659241,
           0.5733848810195923,
           0.525865912437439,
           0.5966478586196899,
           0.22440491616725922,
           0.572772204875946
          ],
          [
           0.657596230506897,
           0.7114486694335938,
           0.24755102396011353,
           0.5926053524017334,
           0.5400084853172302,
           0.5198404788970947,
           0.48298412561416626,
           0.6801572442054749,
           0.45186150074005127,
           0.6408824920654297,
           0.6664206385612488,
           0.5711612701416016,
           0.5187342166900635,
           0.7942861318588257,
           0.44921839237213135,
           0.6419575810432434,
           0.571774423122406,
           0.43736201524734497,
           0.6506209969520569,
           0.5951579809188843,
           0.4185830354690552,
           0.6768324375152588,
           0.6373682022094727,
           1.0000001192092896,
           0.5977414846420288,
           0.3952980637550354,
           0.45037132501602173,
           0.4898882508277893,
           0.8630356788635254,
           0.4855448603630066,
           0.33841437101364136,
           0.44230562448501587,
           0.4970708191394806,
           0.23727920651435852,
           0.39013808965682983,
           0.5953072309494019,
           0.5580171346664429,
           0.5590707659721375,
           0.5522820949554443,
           0.42218273878097534,
           0.6094026565551758,
           0.4541170597076416,
           0.5411127805709839,
           0.29283013939857483,
           0.3598594069480896,
           0.6405973434448242,
           0.7447323203086853,
           0.5265695452690125,
           0.26974573731422424,
           0.5291105508804321,
           0.7666943073272705,
           0.45706164836883545,
           0.5683083534240723,
           0.6845118999481201,
           0.8041242957115173,
           0.4450645446777344,
           0.79387366771698,
           0.5287858843803406,
           0.3095824718475342,
           0.6459866166114807,
           0.4778026044368744,
           0.5071250200271606,
           0.39646288752555847,
           0.7453802227973938,
           0.7589064836502075,
           0.7877470254898071,
           0.4502352774143219,
           0.5180911421775818,
           0.6383785605430603,
           0.4987102150917053,
           0.4735587537288666,
           0.35679882764816284,
           0.2806108593940735,
           0.6293671131134033,
           0.24404984712600708,
           0.39095109701156616,
           0.5068886280059814,
           0.8786026835441589,
           0.5480148196220398,
           0.42596960067749023,
           0.6044567823410034,
           0.44373202323913574,
           0.46845656633377075,
           0.267000675201416,
           0.5568355321884155
          ],
          [
           0.5849591493606567,
           0.5614928603172302,
           0.17424845695495605,
           0.5721532702445984,
           0.5815858244895935,
           0.504439115524292,
           0.33167439699172974,
           0.5674646496772766,
           0.4596259295940399,
           0.5898635983467102,
           0.580787718296051,
           0.529157280921936,
           0.46198445558547974,
           0.6642836928367615,
           0.46446189284324646,
           0.6953545808792114,
           0.3880895972251892,
           0.3981350362300873,
           0.5104855298995972,
           0.5375648736953735,
           0.3933849632740021,
           0.5490252375602722,
           0.6307518482208252,
           0.5977414846420288,
           0.9999999403953552,
           0.3757806718349457,
           0.39681750535964966,
           0.500179648399353,
           0.5525129437446594,
           0.41495782136917114,
           0.3417932987213135,
           0.48501813411712646,
           0.48337870836257935,
           0.14102014899253845,
           0.2268049120903015,
           0.6241469383239746,
           0.7344791889190674,
           0.5898721218109131,
           0.5614805221557617,
           0.4031212329864502,
           0.52680903673172,
           0.34979158639907837,
           0.473382830619812,
           0.15772724151611328,
           0.335704505443573,
           0.41814124584198,
           0.6034689545631409,
           0.6150819063186646,
           0.35661572217941284,
           0.45728832483291626,
           0.45854461193084717,
           0.4490887522697449,
           0.5311132669448853,
           0.5720568895339966,
           0.5167996883392334,
           0.46012789011001587,
           0.6596555113792419,
           0.40620025992393494,
           0.22860220074653625,
           0.5591260194778442,
           0.7858690023422241,
           0.45241039991378784,
           0.3022329807281494,
           0.5702159404754639,
           0.4730874300003052,
           0.5007040500640869,
           0.4778875708580017,
           0.5199213027954102,
           0.5588506460189819,
           0.383205771446228,
           0.4079037010669708,
           0.3077153265476227,
           0.25050362944602966,
           0.5662177801132202,
           0.20768815279006958,
           0.5515035390853882,
           0.39229047298431396,
           0.6074893474578857,
           0.6530066728591919,
           0.4461682438850403,
           0.5445629954338074,
           0.5028527975082397,
           0.5054270029067993,
           0.32465916872024536,
           0.4474155604839325
          ],
          [
           0.3666301369667053,
           0.4687075614929199,
           0.18658417463302612,
           0.36906033754348755,
           0.324749231338501,
           0.3409097194671631,
           0.5292737483978271,
           0.39988958835601807,
           0.279666543006897,
           0.41466790437698364,
           0.3875782787799835,
           0.2485085278749466,
           0.29210561513900757,
           0.5909332036972046,
           0.3167935609817505,
           0.38507330417633057,
           0.5076409578323364,
           0.24941200017929077,
           0.33847102522850037,
           0.3543442189693451,
           0.5968555808067322,
           0.42781996726989746,
           0.44064587354660034,
           0.3952980637550354,
           0.3757806718349457,
           1,
           0.32770657539367676,
           0.2965672016143799,
           0.35931119322776794,
           0.49273794889450073,
           0.4114280939102173,
           0.33987849950790405,
           0.26651471853256226,
           0.27916860580444336,
           0.2784385681152344,
           0.315874844789505,
           0.34262681007385254,
           0.3051299452781677,
           0.3463010787963867,
           0.32890585064888,
           0.44321751594543457,
           0.23240531980991364,
           0.22797608375549316,
           0.2020362913608551,
           0.31321316957473755,
           0.3156384825706482,
           0.3583980202674866,
           0.3257231116294861,
           0.2681337296962738,
           0.3359912633895874,
           0.3616950511932373,
           0.3661642074584961,
           0.3521172106266022,
           0.3110930025577545,
           0.3995724618434906,
           0.2455967217683792,
           0.42495644092559814,
           0.26005542278289795,
           0.2692411541938782,
           0.3114731013774872,
           0.3157515227794647,
           0.427915096282959,
           0.30534058809280396,
           0.2775782644748688,
           0.3438027501106262,
           0.3343982696533203,
           0.25162041187286377,
           0.2932426929473877,
           0.2604411840438843,
           0.4611988663673401,
           0.2278154194355011,
           0.2636866569519043,
           0.21775540709495544,
           0.3396878242492676,
           0.2560892105102539,
           0.2456698715686798,
           0.3288332223892212,
           0.4163491129875183,
           0.296861469745636,
           0.2707115113735199,
           0.33936840295791626,
           0.28562217950820923,
           0.31853628158569336,
           0.3036867678165436,
           0.24427184462547302
          ],
          [
           0.3683308959007263,
           0.5655192136764526,
           0.16088172793388367,
           0.3733043074607849,
           0.3215029537677765,
           0.5317681431770325,
           0.3204824924468994,
           0.40273284912109375,
           0.3449150025844574,
           0.5610337257385254,
           0.44895869493484497,
           0.33352336287498474,
           0.3245546817779541,
           0.42304757237434387,
           0.8196957111358643,
           0.3636507987976074,
           0.3567626476287842,
           0.30936479568481445,
           0.4279065728187561,
           0.9107889533042908,
           0.28878429532051086,
           0.3638244867324829,
           0.4925355315208435,
           0.45037132501602173,
           0.39681750535964966,
           0.32770657539367676,
           1.0000004768371582,
           0.7852292060852051,
           0.39646202325820923,
           0.3229181468486786,
           0.26210319995880127,
           0.5004019141197205,
           0.858752965927124,
           0.20603129267692566,
           0.19547662138938904,
           0.4204148054122925,
           0.3236977458000183,
           0.3930085599422455,
           0.44917547702789307,
           0.3638339340686798,
           0.37388789653778076,
           0.3856779932975769,
           0.4042665362358093,
           0.15595179796218872,
           0.1691482663154602,
           0.28098899126052856,
           0.3434187173843384,
           0.4073285460472107,
           0.24165980517864227,
           0.44441288709640503,
           0.32779377698898315,
           0.2628766894340515,
           0.2872236967086792,
           0.4197222590446472,
           0.43856364488601685,
           0.8021457195281982,
           0.5384265184402466,
           0.3309124708175659,
           0.21302977204322815,
           0.39366596937179565,
           0.778251051902771,
           0.24416324496269226,
           0.2506566643714905,
           0.42966967821121216,
           0.42441242933273315,
           0.35848915576934814,
           0.8610367774963379,
           0.40712970495224,
           0.32457235455513,
           0.2963550090789795,
           0.3498366177082062,
           0.24014192819595337,
           0.19330158829689026,
           0.3585466742515564,
           0.17952117323875427,
           0.2589326500892639,
           0.2995973229408264,
           0.40667790174484253,
           0.4416726231575012,
           0.7576881647109985,
           0.42790257930755615,
           0.8226325511932373,
           0.8487648963928223,
           0.2521878480911255,
           0.43918943405151367
          ],
          [
           0.7662094235420227,
           0.566079318523407,
           0.1234777569770813,
           0.5070341229438782,
           0.4037136137485504,
           0.5644652843475342,
           0.1841399073600769,
           0.4687268137931824,
           0.6609396934509277,
           0.5222319960594177,
           0.5267525315284729,
           0.42281264066696167,
           0.38405466079711914,
           0.5652914047241211,
           0.7231317758560181,
           0.4787541627883911,
           0.23698043823242188,
           0.6706373691558838,
           0.3965357542037964,
           0.8847649097442627,
           0.33828383684158325,
           0.47638964653015137,
           0.5524371862411499,
           0.4898882508277893,
           0.500179648399353,
           0.2965672016143799,
           0.7852292060852051,
           1.000000238418579,
           0.4296368956565857,
           0.27190375328063965,
           0.5873339772224426,
           0.5051512122154236,
           0.8305937051773071,
           0.17223790287971497,
           0.05334114283323288,
           0.5320007801055908,
           0.48626673221588135,
           0.44843411445617676,
           0.49639639258384705,
           0.3742567300796509,
           0.4188302457332611,
           0.4047386646270752,
           0.45639467239379883,
           0.10103125870227814,
           0.15558212995529175,
           0.3061642050743103,
           0.44624486565589905,
           0.6159663200378418,
           0.42024582624435425,
           0.6805626153945923,
           0.3583652079105377,
           0.3301756680011749,
           0.33295172452926636,
           0.5409438610076904,
           0.47925543785095215,
           0.7528188228607178,
           0.6002402305603027,
           0.3167242407798767,
           0.1549060344696045,
           0.5330175161361694,
           0.8121451139450073,
           0.24172303080558777,
           0.2232302725315094,
           0.47681617736816406,
           0.47287601232528687,
           0.3915329873561859,
           0.7547829151153564,
           0.44696125388145447,
           0.3995360732078552,
           0.22375087440013885,
           0.6688598394393921,
           0.22118732333183289,
           0.14540474116802216,
           0.5081080198287964,
           0.11073716729879379,
           0.339199423789978,
           0.3564717769622803,
           0.46116894483566284,
           0.5176941156387329,
           0.8938462734222412,
           0.45750999450683594,
           0.8049036264419556,
           0.8280612826347351,
           0.38873887062072754,
           0.5506766438484192
          ],
          [
           0.5903135538101196,
           0.5806975364685059,
           0.2702290713787079,
           0.5361088514328003,
           0.44344231486320496,
           0.4847891330718994,
           0.42171216011047363,
           0.5957852602005005,
           0.3624577522277832,
           0.569057822227478,
           0.6003905534744263,
           0.49598178267478943,
           0.427437961101532,
           0.7730908393859863,
           0.37223386764526367,
           0.5907399654388428,
           0.6565147638320923,
           0.38691624999046326,
           0.5547501444816589,
           0.5227698683738708,
           0.36179453134536743,
           0.6344279050827026,
           0.6069533824920654,
           0.8630356788635254,
           0.5525129437446594,
           0.35931119322776794,
           0.39646202325820923,
           0.4296368956565857,
           1,
           0.4044678807258606,
           0.28686830401420593,
           0.3659169375896454,
           0.46132272481918335,
           0.243677020072937,
           0.37011027336120605,
           0.5375954508781433,
           0.514562726020813,
           0.49280959367752075,
           0.44431477785110474,
           0.3462299704551697,
           0.5275049805641174,
           0.4193900227546692,
           0.4467352628707886,
           0.2717031240463257,
           0.33776021003723145,
           0.6748549938201904,
           0.74820876121521,
           0.4278973340988159,
           0.2222447693347931,
           0.47721976041793823,
           0.7433759570121765,
           0.3823530673980713,
           0.5415548086166382,
           0.5593456625938416,
           0.7401974201202393,
           0.3721523880958557,
           0.6580626964569092,
           0.42200130224227905,
           0.2677213251590729,
           0.5852782726287842,
           0.4306899905204773,
           0.5008629560470581,
           0.29242804646492004,
           0.7098084688186646,
           0.7063583731651306,
           0.7473217844963074,
           0.38874736428260803,
           0.43466198444366455,
           0.5994788408279419,
           0.36944493651390076,
           0.42811018228530884,
           0.34880712628364563,
           0.21799418330192566,
           0.5558961033821106,
           0.24698621034622192,
           0.35491275787353516,
           0.42033547163009644,
           0.764030933380127,
           0.505233645439148,
           0.3447585701942444,
           0.5318167209625244,
           0.3817065358161926,
           0.40850406885147095,
           0.2266688346862793,
           0.537635087966919
          ],
          [
           0.3853849768638611,
           0.4701426327228546,
           0.3213523030281067,
           0.415807843208313,
           0.39533665776252747,
           0.32176679372787476,
           0.7398760914802551,
           0.5662009119987488,
           0.24275422096252441,
           0.3951575756072998,
           0.40304893255233765,
           0.2926514446735382,
           0.3708401322364807,
           0.4648458659648895,
           0.2620163559913635,
           0.43917298316955566,
           0.6579782962799072,
           0.307977557182312,
           0.3612822890281677,
           0.33434468507766724,
           0.5593870878219604,
           0.4252747595310211,
           0.4029653072357178,
           0.4855448603630066,
           0.41495782136917114,
           0.49273794889450073,
           0.3229181468486786,
           0.27190375328063965,
           0.4044678807258606,
           1.0000004768371582,
           0.39622166752815247,
           0.2621206045150757,
           0.27244943380355835,
           0.345338374376297,
           0.3572934865951538,
           0.3623713552951813,
           0.4022431969642639,
           0.2798866033554077,
           0.28678658604621887,
           0.26251405477523804,
           0.491649329662323,
           0.36032336950302124,
           0.22399376332759857,
           0.2642267346382141,
           0.3752768337726593,
           0.49938467144966125,
           0.3918265104293823,
           0.3403163552284241,
           0.20585943758487701,
           0.3360700011253357,
           0.4654039144515991,
           0.2677488327026367,
           0.47559472918510437,
           0.32520878314971924,
           0.35210227966308594,
           0.25620731711387634,
           0.4604456126689911,
           0.3851781189441681,
           0.658185601234436,
           0.37391626834869385,
           0.3241816759109497,
           0.4267162084579468,
           0.275620698928833,
           0.27976611256599426,
           0.3071647882461548,
           0.3657988905906677,
           0.24794191122055054,
           0.25263237953186035,
           0.30605563521385193,
           0.4361163377761841,
           0.31760579347610474,
           0.2660512626171112,
           0.7082948684692383,
           0.3631289005279541,
           0.6362943649291992,
           0.27756404876708984,
           0.3784385919570923,
           0.625458836555481,
           0.3053206205368042,
           0.2633744180202484,
           0.3744131028652191,
           0.2590022683143616,
           0.2945915162563324,
           0.2716071307659149,
           0.2852003872394562
          ],
          [
           0.7447901964187622,
           0.4200586676597595,
           0.19292351603507996,
           0.39037853479385376,
           0.3774178922176361,
           0.35190141201019287,
           0.29225632548332214,
           0.3401685953140259,
           0.5562843680381775,
           0.31348469853401184,
           0.3344517946243286,
           0.33926376700401306,
           0.3525908589363098,
           0.39069095253944397,
           0.2764047682285309,
           0.3465627431869507,
           0.3230843245983124,
           0.6491213440895081,
           0.20811253786087036,
           0.3209754526615143,
           0.5072398781776428,
           0.42074131965637207,
           0.3268532156944275,
           0.33841437101364136,
           0.3417932987213135,
           0.4114280939102173,
           0.26210319995880127,
           0.5873339772224426,
           0.28686830401420593,
           0.39622166752815247,
           1.000000238418579,
           0.2891247272491455,
           0.26557624340057373,
           0.16516216099262238,
           0.12641602754592896,
           0.33589690923690796,
           0.39404815435409546,
           0.30996331572532654,
           0.31158241629600525,
           0.32885706424713135,
           0.300447940826416,
           0.2768456041812897,
           0.3397131860256195,
           0.1715814769268036,
           0.2271963357925415,
           0.1474645733833313,
           0.27179771661758423,
           0.46616411209106445,
           0.3445878326892853,
           0.6346474885940552,
           0.18700915575027466,
           0.31337082386016846,
           0.3309175968170166,
           0.3776986002922058,
           0.2789355516433716,
           0.29479631781578064,
           0.4071413576602936,
           0.2312791645526886,
           0.2751464247703552,
           0.3952166438102722,
           0.3582761883735657,
           0.22777937352657318,
           0.28169989585876465,
           0.2420911192893982,
           0.24958553910255432,
           0.209303081035614,
           0.2452026605606079,
           0.249400332570076,
           0.26509764790534973,
           0.27553868293762207,
           0.6682726144790649,
           0.1629807949066162,
           0.23531144857406616,
           0.37578195333480835,
           0.13680532574653625,
           0.29320159554481506,
           0.3315393030643463,
           0.31165188550949097,
           0.2755420207977295,
           0.5296792984008789,
           0.29443204402923584,
           0.2970138192176819,
           0.3190404772758484,
           0.32832133769989014,
           0.30801960825920105
          ],
          [
           0.4300474226474762,
           0.5294603705406189,
           0.11612330377101898,
           0.5571757555007935,
           0.3838452994823456,
           0.6103752851486206,
           0.248136967420578,
           0.4130759835243225,
           0.542914092540741,
           0.6406946182250977,
           0.45146217942237854,
           0.4187145233154297,
           0.38366198539733887,
           0.4882275462150574,
           0.7922152280807495,
           0.4666804373264313,
           0.25461891293525696,
           0.301186740398407,
           0.4399757981300354,
           0.5442672967910767,
           0.33943498134613037,
           0.4165869653224945,
           0.5964257717132568,
           0.44230562448501587,
           0.48501813411712646,
           0.33987849950790405,
           0.5004019141197205,
           0.5051512122154236,
           0.3659169375896454,
           0.2621206045150757,
           0.2891247272491455,
           0.9999997615814209,
           0.49056196212768555,
           0.16136550903320312,
           0.15631122887134552,
           0.5604830980300903,
           0.4974713921546936,
           0.5866953730583191,
           0.4923681616783142,
           0.6365786194801331,
           0.3904167711734772,
           0.4332776367664337,
           0.3804723620414734,
           0.07125860452651978,
           0.23151586949825287,
           0.29937171936035156,
           0.427145779132843,
           0.5514658689498901,
           0.40163475275039673,
           0.36855587363243103,
           0.29974862933158875,
           0.3941882848739624,
           0.3885858654975891,
           0.5410724878311157,
           0.3705613613128662,
           0.4845978319644928,
           0.556313157081604,
           0.36140573024749756,
           0.1658441126346588,
           0.43246862292289734,
           0.5583411455154419,
           0.3047689199447632,
           0.3538616895675659,
           0.4249628782272339,
           0.3205065429210663,
           0.34355026483535767,
           0.4953024089336395,
           0.5242839455604553,
           0.381524920463562,
           0.300881564617157,
           0.4280564785003662,
           0.28793370723724365,
           0.19140061736106873,
           0.5128405094146729,
           0.13895758986473083,
           0.5045018196105957,
           0.32434317469596863,
           0.4197838008403778,
           0.5762856006622314,
           0.45059430599212646,
           0.4759284257888794,
           0.6355594396591187,
           0.5421059131622314,
           0.38189929723739624,
           0.55609130859375
          ],
          [
           0.4927732050418854,
           0.5215954780578613,
           0.13754338026046753,
           0.493752658367157,
           0.43320804834365845,
           0.543043851852417,
           0.24345745146274567,
           0.5815057754516602,
           0.4558256268501282,
           0.5292128920555115,
           0.49249452352523804,
           0.40273812413215637,
           0.4503471553325653,
           0.5592230558395386,
           0.7411400079727173,
           0.5252343416213989,
           0.2825065851211548,
           0.38209694623947144,
           0.4717506766319275,
           0.9038904905319214,
           0.35187140107154846,
           0.5182493925094604,
           0.5245565176010132,
           0.4970708191394806,
           0.48337870836257935,
           0.26651471853256226,
           0.858752965927124,
           0.8305937051773071,
           0.46132272481918335,
           0.27244943380355835,
           0.26557624340057373,
           0.49056196212768555,
           1,
           0.19927562773227692,
           0.14723721146583557,
           0.5318425893783569,
           0.48554784059524536,
           0.4722784161567688,
           0.5007036328315735,
           0.33947935700416565,
           0.4445236921310425,
           0.3935145139694214,
           0.4221268594264984,
           0.21331298351287842,
           0.21417903900146484,
           0.3292717933654785,
           0.4693683385848999,
           0.5056140422821045,
           0.3273806869983673,
           0.4516748785972595,
           0.3667352497577667,
           0.37930557131767273,
           0.3773820996284485,
           0.5369277000427246,
           0.4968411326408386,
           0.8328416347503662,
           0.5622445344924927,
           0.43954572081565857,
           0.18902361392974854,
           0.6078085899353027,
           0.8039026856422424,
           0.29109689593315125,
           0.26510512828826904,
           0.5557578802108765,
           0.4546961784362793,
           0.4190745949745178,
           0.8154433369636536,
           0.5114245414733887,
           0.4198068380355835,
           0.2898898422718048,
           0.42266932129859924,
           0.23912054300308228,
           0.18070060014724731,
           0.5264768600463867,
           0.1646920144557953,
           0.3642507791519165,
           0.3978494107723236,
           0.47311389446258545,
           0.5283375978469849,
           0.7227474451065063,
           0.47939085960388184,
           0.8213872909545898,
           0.8196649551391602,
           0.2912852168083191,
           0.5575394630432129
          ],
          [
           0.18865175545215607,
           0.21423277258872986,
           0.486882746219635,
           0.17560918629169464,
           0.22671294212341309,
           0.20037710666656494,
           0.47556692361831665,
           0.23067393898963928,
           0.203975647687912,
           0.19956091046333313,
           0.19490736722946167,
           0.16539180278778076,
           0.22339315712451935,
           0.23735381662845612,
           0.20529688894748688,
           0.20191693305969238,
           0.3860715329647064,
           0.2340620756149292,
           0.1524118185043335,
           0.16893431544303894,
           0.25491875410079956,
           0.2485141158103943,
           0.14599333703517914,
           0.23727920651435852,
           0.14102014899253845,
           0.27916860580444336,
           0.20603129267692566,
           0.17223790287971497,
           0.243677020072937,
           0.345338374376297,
           0.16516216099262238,
           0.16136550903320312,
           0.19927562773227692,
           1,
           0.34611520171165466,
           0.16788628697395325,
           0.13347382843494415,
           0.15851949155330658,
           0.1768520176410675,
           0.19573597609996796,
           0.19985468685626984,
           0.14312878251075745,
           0.1375690996646881,
           0.15385380387306213,
           0.22790491580963135,
           0.27074262499809265,
           0.21321097016334534,
           0.110508494079113,
           0.1423187106847763,
           0.16548815369606018,
           0.24782291054725647,
           0.15393835306167603,
           0.19843149185180664,
           0.14840254187583923,
           0.2204233855009079,
           0.18692412972450256,
           0.18000975251197815,
           0.18663735687732697,
           0.31035950779914856,
           0.22089949250221252,
           0.15480801463127136,
           0.21156078577041626,
           0.1891711950302124,
           0.1941702961921692,
           0.23529775440692902,
           0.31335118412971497,
           0.18792404234409332,
           0.16104619204998016,
           0.17179609835147858,
           0.1842307448387146,
           0.1457270085811615,
           0.2664821445941925,
           0.32663166522979736,
           0.16441279649734497,
           0.3870905041694641,
           0.1670205444097519,
           0.22313717007637024,
           0.23036420345306396,
           0.13980220258235931,
           0.1331741064786911,
           0.22986948490142822,
           0.16178181767463684,
           0.16017797589302063,
           0.12431715428829193,
           0.13829094171524048
          ],
          [
           0.18193112313747406,
           0.2728639841079712,
           0.37638700008392334,
           0.2589138150215149,
           0.39853382110595703,
           0.1827346235513687,
           0.5507499575614929,
           0.3140537738800049,
           0.1570083051919937,
           0.30322331190109253,
           0.20646098256111145,
           0.3454561233520508,
           0.269944429397583,
           0.24734926223754883,
           0.13289019465446472,
           0.2826010584831238,
           0.49847835302352905,
           0.18036165833473206,
           0.3049700856208801,
           0.1337544023990631,
           0.30849069356918335,
           0.2998087406158447,
           0.19159747660160065,
           0.39013808965682983,
           0.2268049120903015,
           0.2784385681152344,
           0.19547662138938904,
           0.05334114283323288,
           0.37011027336120605,
           0.3572934865951538,
           0.12641602754592896,
           0.15631122887134552,
           0.14723721146583557,
           0.34611520171165466,
           1,
           0.28127118945121765,
           0.2034323513507843,
           0.2683553695678711,
           0.2265150249004364,
           0.1407555341720581,
           0.2735201120376587,
           0.28551584482192993,
           0.2273254096508026,
           0.4115912616252899,
           0.33341604471206665,
           0.3883095979690552,
           0.3393656611442566,
           0.13027240335941315,
           0.09272460639476776,
           0.113351970911026,
           0.37121373414993286,
           0.18818789720535278,
           0.32988712191581726,
           0.3091253340244293,
           0.2975938022136688,
           0.15595504641532898,
           0.31135857105255127,
           0.31348830461502075,
           0.3292910158634186,
           0.26340004801750183,
           0.12866050004959106,
           0.399787962436676,
           0.40189993381500244,
           0.3718618154525757,
           0.32468003034591675,
           0.3569321632385254,
           0.2542434334754944,
           0.2263089120388031,
           0.2840104103088379,
           0.4050910472869873,
           0.1724645346403122,
           0.2674250602722168,
           0.24352963268756866,
           0.1852020025253296,
           0.4012182950973511,
           0.261730819940567,
           0.2467445433139801,
           0.34604647755622864,
           0.20760571956634521,
           0.04839952662587166,
           0.1958656907081604,
           0.10944958031177521,
           0.06624189764261246,
           0.17137563228607178,
           0.19527819752693176
          ],
          [
           0.5679883360862732,
           0.5614887475967407,
           0.1506369411945343,
           0.6846412420272827,
           0.4803745150566101,
           0.5382232069969177,
           0.29120466113090515,
           0.5964399576187134,
           0.5501872301101685,
           0.5902546644210815,
           0.5038152933120728,
           0.504126787185669,
           0.47276771068573,
           0.6242361068725586,
           0.5150315761566162,
           0.5502117872238159,
           0.34936103224754333,
           0.4077325761318207,
           0.5005007982254028,
           0.5566529035568237,
           0.41182219982147217,
           0.5483443140983582,
           0.526777982711792,
           0.5953072309494019,
           0.6241469383239746,
           0.315874844789505,
           0.4204148054122925,
           0.5320007801055908,
           0.5375954508781433,
           0.3623713552951813,
           0.33589690923690796,
           0.5604830980300903,
           0.5318425893783569,
           0.16788628697395325,
           0.28127118945121765,
           0.9999998807907104,
           0.5410507917404175,
           0.5794732570648193,
           0.5850998759269714,
           0.4210427701473236,
           0.46242213249206543,
           0.35320770740509033,
           0.4034566879272461,
           0.22688478231430054,
           0.3256412744522095,
           0.41415053606033325,
           0.5760036706924438,
           0.5541121959686279,
           0.40497034788131714,
           0.46568167209625244,
           0.44033047556877136,
           0.45288506150245667,
           0.4859575629234314,
           0.600134551525116,
           0.5082154273986816,
           0.4784054458141327,
           0.6151943206787109,
           0.4111279845237732,
           0.22107362747192383,
           0.5421205163002014,
           0.5882815718650818,
           0.38704684376716614,
           0.3193843960762024,
           0.5579663515090942,
           0.4736255705356598,
           0.4900718033313751,
           0.4386149048805237,
           0.5474728941917419,
           0.4993475675582886,
           0.3556286692619324,
           0.42168498039245605,
           0.33808237314224243,
           0.23238742351531982,
           0.5951100587844849,
           0.17249110341072083,
           0.5313858389854431,
           0.3782724142074585,
           0.5892071723937988,
           0.606145977973938,
           0.46324390172958374,
           0.5182230472564697,
           0.5972403883934021,
           0.4886985421180725,
           0.4334094524383545,
           0.47253960371017456
          ],
          [
           0.6341592073440552,
           0.48764342069625854,
           0.12779465317726135,
           0.6112192869186401,
           0.6249817609786987,
           0.465725302696228,
           0.2893854081630707,
           0.610381007194519,
           0.4809362590312958,
           0.5475274324417114,
           0.5415061712265015,
           0.5103501677513123,
           0.39174532890319824,
           0.662567138671875,
           0.41849660873413086,
           0.8303234577178955,
           0.34870684146881104,
           0.4013165831565857,
           0.4396316409111023,
           0.4808328151702881,
           0.4040124714374542,
           0.6064760684967041,
           0.6143579483032227,
           0.5580171346664429,
           0.7344791889190674,
           0.34262681007385254,
           0.3236977458000183,
           0.48626673221588135,
           0.514562726020813,
           0.4022431969642639,
           0.39404815435409546,
           0.4974713921546936,
           0.48554784059524536,
           0.13347382843494415,
           0.2034323513507843,
           0.5410507917404175,
           1,
           0.5304843187332153,
           0.48385941982269287,
           0.3910551071166992,
           0.46468794345855713,
           0.39160171151161194,
           0.41182875633239746,
           0.18028903007507324,
           0.29769015312194824,
           0.37475812435150146,
           0.5957819819450378,
           0.5950759649276733,
           0.3576057553291321,
           0.44258421659469604,
           0.41133153438568115,
           0.45062679052352905,
           0.5749064683914185,
           0.5726772546768188,
           0.48025864362716675,
           0.3621826171875,
           0.6238975524902344,
           0.33594536781311035,
           0.2533479630947113,
           0.5682631731033325,
           0.6663552522659302,
           0.4167216420173645,
           0.25411075353622437,
           0.5577379465103149,
           0.45150452852249146,
           0.43012869358062744,
           0.4313427805900574,
           0.45964473485946655,
           0.5281537771224976,
           0.38357508182525635,
           0.4881817698478699,
           0.30528724193573,
           0.31090104579925537,
           0.6315674781799316,
           0.16081218421459198,
           0.5341742038726807,
           0.3778761625289917,
           0.5592998266220093,
           0.637999415397644,
           0.3875983953475952,
           0.4980943202972412,
           0.46382904052734375,
           0.4425296485424042,
           0.29813069105148315,
           0.49834752082824707
          ],
          [
           0.4892653822898865,
           0.5614597797393799,
           0.16661030054092407,
           0.6230255961418152,
           0.48842447996139526,
           0.572652280330658,
           0.2593420445919037,
           0.5269441604614258,
           0.49973058700561523,
           0.6220290064811707,
           0.48808780312538147,
           0.5072394609451294,
           0.5089660882949829,
           0.5863839387893677,
           0.5295250415802002,
           0.5281422138214111,
           0.3437158465385437,
           0.33584916591644287,
           0.618742823600769,
           0.49527835845947266,
           0.3783210515975952,
           0.5594711303710938,
           0.5518450736999512,
           0.5590707659721375,
           0.5898721218109131,
           0.3051299452781677,
           0.3930085599422455,
           0.44843411445617676,
           0.49280959367752075,
           0.2798866033554077,
           0.30996331572532654,
           0.5866953730583191,
           0.4722784161567688,
           0.15851949155330658,
           0.2683553695678711,
           0.5794732570648193,
           0.5304843187332153,
           1,
           0.7005246877670288,
           0.5129486322402954,
           0.48117801547050476,
           0.44100913405418396,
           0.4780954122543335,
           0.1929553598165512,
           0.305040568113327,
           0.3177260756492615,
           0.4999145567417145,
           0.5341191291809082,
           0.30452844500541687,
           0.45856380462646484,
           0.35087618231773376,
           0.4497186541557312,
           0.4528008699417114,
           0.6390435695648193,
           0.48130345344543457,
           0.465438574552536,
           0.6407040357589722,
           0.43489551544189453,
           0.14510083198547363,
           0.5872494578361511,
           0.5456029176712036,
           0.3591366410255432,
           0.44210249185562134,
           0.5869580507278442,
           0.3911881744861603,
           0.3972490727901459,
           0.4567696452140808,
           0.7035599946975708,
           0.5028696656227112,
           0.4269518256187439,
           0.47009408473968506,
           0.18201619386672974,
           0.15608108043670654,
           0.5514332056045532,
           0.1427817940711975,
           0.48840028047561646,
           0.3607843518257141,
           0.5185390114784241,
           0.5267198085784912,
           0.45418480038642883,
           0.5565629005432129,
           0.541340708732605,
           0.4141803979873657,
           0.30625301599502563,
           0.5535389184951782
          ],
          [
           0.4914590120315552,
           0.642037034034729,
           0.08285748213529587,
           0.5496786832809448,
           0.4840572476387024,
           0.5599048733711243,
           0.2779167592525482,
           0.5004960298538208,
           0.47712191939353943,
           0.5987125635147095,
           0.4899525046348572,
           0.5069320201873779,
           0.5061142444610596,
           0.5952994227409363,
           0.544929027557373,
           0.4661424160003662,
           0.3114973306655884,
           0.3003680109977722,
           0.6322487592697144,
           0.5503028035163879,
           0.3386504054069519,
           0.5067724585533142,
           0.5343944430351257,
           0.5522820949554443,
           0.5614805221557617,
           0.3463010787963867,
           0.44917547702789307,
           0.49639639258384705,
           0.44431477785110474,
           0.28678658604621887,
           0.31158241629600525,
           0.4923681616783142,
           0.5007036328315735,
           0.1768520176410675,
           0.2265150249004364,
           0.5850998759269714,
           0.48385941982269287,
           0.7005246877670288,
           1,
           0.4708528518676758,
           0.4877925217151642,
           0.4249054491519928,
           0.5223037004470825,
           0.1989433318376541,
           0.35188034176826477,
           0.27292490005493164,
           0.43300965428352356,
           0.5612314939498901,
           0.3770543932914734,
           0.5023583769798279,
           0.32741013169288635,
           0.45454296469688416,
           0.3879397511482239,
           0.6715644598007202,
           0.4795927405357361,
           0.5334693193435669,
           0.6630649566650391,
           0.4824182987213135,
           0.153733491897583,
           0.5538282990455627,
           0.5527509450912476,
           0.30543187260627747,
           0.5144915580749512,
           0.5716112852096558,
           0.42425787448883057,
           0.40218520164489746,
           0.5200198888778687,
           0.6345797181129456,
           0.4855879545211792,
           0.3995717763900757,
           0.4553837478160858,
           0.2533143162727356,
           0.15910331904888153,
           0.5482264161109924,
           0.1263088583946228,
           0.481096476316452,
           0.40292292833328247,
           0.5095549821853638,
           0.5061008930206299,
           0.5352416634559631,
           0.5162415504455566,
           0.543087363243103,
           0.46626394987106323,
           0.32815539836883545,
           0.5163007378578186
          ],
          [
           0.3818315863609314,
           0.638035237789154,
           0.18027320504188538,
           0.4201450049877167,
           0.3875545263290405,
           0.4544680714607239,
           0.33589693903923035,
           0.352802574634552,
           0.49051767587661743,
           0.5338267683982849,
           0.3758694529533386,
           0.441731333732605,
           0.4722933769226074,
           0.4012265205383301,
           0.6616518497467041,
           0.392805278301239,
           0.3206542432308197,
           0.2924919128417969,
           0.4006198048591614,
           0.37229394912719727,
           0.2832547426223755,
           0.38812243938446045,
           0.4498445391654968,
           0.42218273878097534,
           0.4031212329864502,
           0.32890585064888,
           0.3638339340686798,
           0.3742567300796509,
           0.3462299704551697,
           0.26251405477523804,
           0.32885706424713135,
           0.6365786194801331,
           0.33947935700416565,
           0.19573597609996796,
           0.1407555341720581,
           0.4210427701473236,
           0.3910551071166992,
           0.5129486322402954,
           0.4708528518676758,
           0.9999997615814209,
           0.3496140241622925,
           0.2698894739151001,
           0.4316874146461487,
           0.12241649627685547,
           0.2237340807914734,
           0.23617488145828247,
           0.3572162389755249,
           0.5378835797309875,
           0.30592039227485657,
           0.4272734522819519,
           0.28117483854293823,
           0.4380285143852234,
           0.3303223252296448,
           0.5112771391868591,
           0.2718985676765442,
           0.44567954540252686,
           0.5560634732246399,
           0.4264364242553711,
           0.2170623391866684,
           0.440061092376709,
           0.3939656615257263,
           0.2856137752532959,
           0.3624380826950073,
           0.4064164161682129,
           0.24092917144298553,
           0.35165995359420776,
           0.38297584652900696,
           0.4216095209121704,
           0.4142010807991028,
           0.3544712960720062,
           0.3540174067020416,
           0.20987823605537415,
           0.2602706551551819,
           0.45861339569091797,
           0.10735621303319931,
           0.39353448152542114,
           0.43171226978302,
           0.36849918961524963,
           0.4295651912689209,
           0.4131461977958679,
           0.4586300253868103,
           0.4094429612159729,
           0.3524938225746155,
           0.2823324203491211,
           0.3599725067615509
          ],
          [
           0.5125241875648499,
           0.5874921679496765,
           0.1807139813899994,
           0.4778099060058594,
           0.5520842671394348,
           0.42856842279434204,
           0.4250621199607849,
           0.6075863838195801,
           0.42704394459724426,
           0.4896931052207947,
           0.5265426635742188,
           0.557489275932312,
           0.5212880373001099,
           0.6802051067352295,
           0.3575683832168579,
           0.519924521446228,
           0.4680023193359375,
           0.43258607387542725,
           0.5672186613082886,
           0.5008785724639893,
           0.484835147857666,
           0.5118676424026489,
           0.544876217842102,
           0.6094026565551758,
           0.52680903673172,
           0.44321751594543457,
           0.37388789653778076,
           0.4188302457332611,
           0.5275049805641174,
           0.491649329662323,
           0.300447940826416,
           0.3904167711734772,
           0.4445236921310425,
           0.19985468685626984,
           0.2735201120376587,
           0.46242213249206543,
           0.46468794345855713,
           0.48117801547050476,
           0.4877925217151642,
           0.3496140241622925,
           0.9999998807907104,
           0.39498984813690186,
           0.45141273736953735,
           0.22129110991954803,
           0.4344657063484192,
           0.442121684551239,
           0.5004768371582031,
           0.5332800149917603,
           0.3247113525867462,
           0.4104765057563782,
           0.47225719690322876,
           0.4409945011138916,
           0.39364469051361084,
           0.5604932308197021,
           0.525934636592865,
           0.43122345209121704,
           0.6278501749038696,
           0.4845463037490845,
           0.34476879239082336,
           0.5905726552009583,
           0.42691731452941895,
           0.3851597309112549,
           0.3818111717700958,
           0.560771107673645,
           0.4629859924316406,
           0.43655139207839966,
           0.4155370593070984,
           0.43563127517700195,
           0.5690099000930786,
           0.43529945611953735,
           0.40286511182785034,
           0.2557082772254944,
           0.3359193205833435,
           0.5103839039802551,
           0.2880764305591583,
           0.3805859684944153,
           0.5099121332168579,
           0.6422802209854126,
           0.47122517228126526,
           0.38601619005203247,
           0.4799495339393616,
           0.36676087975502014,
           0.43019339442253113,
           0.28708648681640625,
           0.4998815357685089
          ],
          [
           0.42581653594970703,
           0.40508925914764404,
           0.13662835955619812,
           0.43123823404312134,
           0.3251800239086151,
           0.4172690510749817,
           0.29450246691703796,
           0.4173606038093567,
           0.375103622674942,
           0.42413395643234253,
           0.4276983141899109,
           0.4464785158634186,
           0.3805384039878845,
           0.45236527919769287,
           0.3868764042854309,
           0.3955470323562622,
           0.3417786955833435,
           0.2879382371902466,
           0.46404367685317993,
           0.45765018463134766,
           0.3335040807723999,
           0.38849887251853943,
           0.43993186950683594,
           0.4541170597076416,
           0.34979158639907837,
           0.23240531980991364,
           0.3856779932975769,
           0.4047386646270752,
           0.4193900227546692,
           0.36032336950302124,
           0.2768456041812897,
           0.4332776367664337,
           0.3935145139694214,
           0.14312878251075745,
           0.28551584482192993,
           0.35320770740509033,
           0.39160171151161194,
           0.44100913405418396,
           0.4249054491519928,
           0.2698894739151001,
           0.39498984813690186,
           0.9999998807907104,
           0.3903077244758606,
           0.1915418654680252,
           0.23500776290893555,
           0.37817516922950745,
           0.3568265438079834,
           0.41994622349739075,
           0.28140050172805786,
           0.36096465587615967,
           0.3337613642215729,
           0.21019470691680908,
           0.31610995531082153,
           0.45485919713974,
           0.43458184599876404,
           0.3886716365814209,
           0.49429553747177124,
           0.4232538938522339,
           0.22876018285751343,
           0.4376765787601471,
           0.381497323513031,
           0.24077820777893066,
           0.29201382398605347,
           0.391883909702301,
           0.4812946319580078,
           0.34161481261253357,
           0.3739776313304901,
           0.4543483853340149,
           0.42273038625717163,
           0.23973047733306885,
           0.7384750843048096,
           0.18695519864559174,
           0.26288658380508423,
           0.35243648290634155,
           0.2457890510559082,
           0.2870821952819824,
           0.3863372206687927,
           0.45389777421951294,
           0.46806100010871887,
           0.35802000761032104,
           0.3705618381500244,
           0.4239828288555145,
           0.3942403793334961,
           0.27961933612823486,
           0.8239699602127075
          ],
          [
           0.5262662768363953,
           0.6025077104568481,
           0.15963056683540344,
           0.45699775218963623,
           0.4450496733188629,
           0.4434036314487457,
           0.2535680830478668,
           0.43206697702407837,
           0.4640636146068573,
           0.4789832830429077,
           0.474744975566864,
           0.685187041759491,
           0.5504367351531982,
           0.49736231565475464,
           0.44091296195983887,
           0.4304489493370056,
           0.2726968228816986,
           0.386104941368103,
           0.48916763067245483,
           0.47837918996810913,
           0.25527265667915344,
           0.46574002504348755,
           0.48139286041259766,
           0.5411127805709839,
           0.473382830619812,
           0.22797608375549316,
           0.4042665362358093,
           0.45639467239379883,
           0.4467352628707886,
           0.22399376332759857,
           0.3397131860256195,
           0.3804723620414734,
           0.4221268594264984,
           0.1375690996646881,
           0.2273254096508026,
           0.4034566879272461,
           0.41182875633239746,
           0.4780954122543335,
           0.5223037004470825,
           0.4316874146461487,
           0.45141273736953735,
           0.3903077244758606,
           1,
           0.1709165722131729,
           0.2409973293542862,
           0.2730271816253662,
           0.41726499795913696,
           0.5355017185211182,
           0.29283255338668823,
           0.4826585650444031,
           0.3638438582420349,
           0.38456204533576965,
           0.331495076417923,
           0.630591869354248,
           0.45654478669166565,
           0.5333701372146606,
           0.631658673286438,
           0.5078025460243225,
           0.1259392946958542,
           0.5303449034690857,
           0.4456040859222412,
           0.2685454189777374,
           0.443259596824646,
           0.516661524772644,
           0.4549649655818939,
           0.4438546895980835,
           0.49650028347969055,
           0.42014575004577637,
           0.6122409105300903,
           0.34038105607032776,
           0.4414628744125366,
           0.21442478895187378,
           0.12319552898406982,
           0.4809834361076355,
           0.11248518526554108,
           0.31937846541404724,
           0.3776809573173523,
           0.4494435489177704,
           0.4398162066936493,
           0.4984986186027527,
           0.4326174259185791,
           0.417971670627594,
           0.41533130407333374,
           0.2937878966331482,
           0.47282272577285767
          ],
          [
           0.18289688229560852,
           0.20676898956298828,
           0.19180870056152344,
           0.17227287590503693,
           0.3365308940410614,
           0.24168545007705688,
           0.34534311294555664,
           0.27839088439941406,
           0.10839991271495819,
           0.21726757287979126,
           0.16822049021720886,
           0.18700271844863892,
           0.19675204157829285,
           0.234674870967865,
           0.07027970254421234,
           0.2221059501171112,
           0.37841081619262695,
           0.24795758724212646,
           0.27471283078193665,
           0.11004860699176788,
           0.26123368740081787,
           0.29145893454551697,
           0.19328618049621582,
           0.29283013939857483,
           0.15772724151611328,
           0.2020362913608551,
           0.15595179796218872,
           0.10103125870227814,
           0.2717031240463257,
           0.2642267346382141,
           0.1715814769268036,
           0.07125860452651978,
           0.21331298351287842,
           0.15385380387306213,
           0.4115912616252899,
           0.22688478231430054,
           0.18028903007507324,
           0.1929553598165512,
           0.1989433318376541,
           0.12241649627685547,
           0.22129110991954803,
           0.1915418654680252,
           0.1709165722131729,
           0.9999998211860657,
           0.28752267360687256,
           0.1900338977575302,
           0.2037935107946396,
           0.12789365649223328,
           0.10829203575849533,
           0.1805167943239212,
           0.21006013453006744,
           0.1950952410697937,
           0.22117067873477936,
           0.1959919035434723,
           0.30086347460746765,
           0.09748944640159607,
           0.2457205057144165,
           0.24195969104766846,
           0.15160943567752838,
           0.3498997092247009,
           0.09890478849411011,
           0.24817804992198944,
           0.23991844058036804,
           0.4073215126991272,
           0.21722060441970825,
           0.24641722440719604,
           0.1363592892885208,
           0.2253369688987732,
           0.19946467876434326,
           0.42925527691841125,
           0.17922016978263855,
           0.14002960920333862,
           0.11984267830848694,
           0.16249023377895355,
           0.18941128253936768,
           0.19471965730190277,
           0.23411104083061218,
           0.23871538043022156,
           0.18940922617912292,
           0.07777906954288483,
           0.15895183384418488,
           0.049763016402721405,
           0.041184622794389725,
           0.09381039440631866,
           0.20142516493797302
          ],
          [
           0.29802045226097107,
           0.308769166469574,
           0.15274493396282196,
           0.3318919241428375,
           0.3553467392921448,
           0.2722259759902954,
           0.41968202590942383,
           0.3746393322944641,
           0.26543352007865906,
           0.306427538394928,
           0.2912137508392334,
           0.2611819803714752,
           0.27330759167671204,
           0.39529481530189514,
           0.170606791973114,
           0.312000572681427,
           0.3632282614707947,
           0.23130185902118683,
           0.3196795582771301,
           0.19214960932731628,
           0.40128791332244873,
           0.3376252055168152,
           0.3162635862827301,
           0.3598594069480896,
           0.335704505443573,
           0.31321316957473755,
           0.1691482663154602,
           0.15558212995529175,
           0.33776021003723145,
           0.3752768337726593,
           0.2271963357925415,
           0.23151586949825287,
           0.21417903900146484,
           0.22790491580963135,
           0.33341604471206665,
           0.3256412744522095,
           0.29769015312194824,
           0.305040568113327,
           0.35188034176826477,
           0.2237340807914734,
           0.4344657063484192,
           0.23500776290893555,
           0.2409973293542862,
           0.28752267360687256,
           1,
           0.2924947142601013,
           0.29657626152038574,
           0.20300212502479553,
           0.2620100975036621,
           0.23025938868522644,
           0.291612833738327,
           0.3168618083000183,
           0.2529258728027344,
           0.29493448138237,
           0.31659480929374695,
           0.15057381987571716,
           0.31501853466033936,
           0.3016907572746277,
           0.2841789424419403,
           0.3605835437774658,
           0.20668140053749084,
           0.28655874729156494,
           0.24149882793426514,
           0.34207016229629517,
           0.23756860196590424,
           0.25787776708602905,
           0.1674058437347412,
           0.3022398352622986,
           0.30476582050323486,
           0.30509597063064575,
           0.2187190055847168,
           0.2777937054634094,
           0.2750958204269409,
           0.35077571868896484,
           0.2545601725578308,
           0.3833170533180237,
           0.30157655477523804,
           0.3903517723083496,
           0.30587610602378845,
           0.12235429883003235,
           0.2855171859264374,
           0.16951532661914825,
           0.14372065663337708,
           0.20869579911231995,
           0.27008920907974243
          ],
          [
           0.4557949900627136,
           0.4036251902580261,
           0.40900033712387085,
           0.3714562654495239,
           0.34713369607925415,
           0.3279162049293518,
           0.579459547996521,
           0.4984973669052124,
           0.27483588457107544,
           0.3619137108325958,
           0.48621252179145813,
           0.36160939931869507,
           0.3229491710662842,
           0.5495097637176514,
           0.25872382521629333,
           0.49074023962020874,
           0.47442907094955444,
           0.37320682406425476,
           0.36410409212112427,
           0.37604278326034546,
           0.27757251262664795,
           0.4072873592376709,
           0.4711610674858093,
           0.6405973434448242,
           0.41814124584198,
           0.3156384825706482,
           0.28098899126052856,
           0.3061642050743103,
           0.6748549938201904,
           0.49938467144966125,
           0.1474645733833313,
           0.29937171936035156,
           0.3292717933654785,
           0.27074262499809265,
           0.3883095979690552,
           0.41415053606033325,
           0.37475812435150146,
           0.3177260756492615,
           0.27292490005493164,
           0.23617488145828247,
           0.442121684551239,
           0.37817516922950745,
           0.2730271816253662,
           0.1900338977575302,
           0.2924947142601013,
           1,
           0.7002899646759033,
           0.2962355613708496,
           0.14401113986968994,
           0.3159417510032654,
           0.9034056663513184,
           0.2384086698293686,
           0.41642677783966064,
           0.38425785303115845,
           0.5278014540672302,
           0.2554225027561188,
           0.4632090926170349,
           0.3192649483680725,
           0.3562544584274292,
           0.42907994985580444,
           0.30945223569869995,
           0.565088152885437,
           0.18759840726852417,
           0.44159412384033203,
           0.5775595307350159,
           0.7221083641052246,
           0.281741201877594,
           0.26037541031837463,
           0.41544246673583984,
           0.31216198205947876,
           0.31122952699661255,
           0.4148806631565094,
           0.30328068137168884,
           0.35955139994621277,
           0.6207771897315979,
           0.22020435333251953,
           0.38655680418014526,
           0.670016884803772,
           0.3865589201450348,
           0.22409933805465698,
           0.38413166999816895,
           0.26505231857299805,
           0.30312538146972656,
           0.21399658918380737,
           0.3811742663383484
          ],
          [
           0.6219191551208496,
           0.5213582515716553,
           0.25658929347991943,
           0.562335729598999,
           0.4666072428226471,
           0.489837646484375,
           0.4189860224723816,
           0.6428526639938354,
           0.42285990715026855,
           0.5791097283363342,
           0.5644755363464355,
           0.4580017924308777,
           0.3706545829772949,
           0.7379727363586426,
           0.3777519166469574,
           0.7457395195960999,
           0.44891825318336487,
           0.43229854106903076,
           0.5073487758636475,
           0.49405863881111145,
           0.3965630531311035,
           0.6287164092063904,
           0.5988665819168091,
           0.7447323203086853,
           0.6034689545631409,
           0.3583980202674866,
           0.3434187173843384,
           0.44624486565589905,
           0.74820876121521,
           0.3918265104293823,
           0.27179771661758423,
           0.427145779132843,
           0.4693683385848999,
           0.21321097016334534,
           0.3393656611442566,
           0.5760036706924438,
           0.5957819819450378,
           0.4999145567417145,
           0.43300965428352356,
           0.3572162389755249,
           0.5004768371582031,
           0.3568265438079834,
           0.41726499795913696,
           0.2037935107946396,
           0.29657626152038574,
           0.7002899646759033,
           1,
           0.48525702953338623,
           0.25525206327438354,
           0.4249456226825714,
           0.714410662651062,
           0.4354974031448364,
           0.7958829402923584,
           0.5971266031265259,
           0.6257898807525635,
           0.3260800838470459,
           0.6694988012313843,
           0.33369213342666626,
           0.2755063772201538,
           0.5608329772949219,
           0.47614097595214844,
           0.7964345216751099,
           0.29880067706108093,
           0.6425236463546753,
           0.6318268775939941,
           0.7081007957458496,
           0.3664240837097168,
           0.4369703531265259,
           0.5185802578926086,
           0.41261082887649536,
           0.3834992051124573,
           0.4229868948459625,
           0.26867595314979553,
           0.6187354326248169,
           0.2864246964454651,
           0.40678951144218445,
           0.4412238597869873,
           0.7276792526245117,
           0.5920827984809875,
           0.33743780851364136,
           0.5258830785751343,
           0.42845702171325684,
           0.4038863778114319,
           0.3018500506877899,
           0.47102272510528564
          ],
          [
           0.6731973886489868,
           0.6599089503288269,
           0.14358587563037872,
           0.5901615619659424,
           0.5552175045013428,
           0.5189161896705627,
           0.21996909379959106,
           0.5358965396881104,
           0.6200903654098511,
           0.5685725212097168,
           0.5669918656349182,
           0.5825827121734619,
           0.4955708384513855,
           0.5922883749008179,
           0.5598597526550293,
           0.5742146968841553,
           0.2659734785556793,
           0.501977801322937,
           0.44803357124328613,
           0.5619763135910034,
           0.4248306155204773,
           0.556227445602417,
           0.6156108975410461,
           0.5265695452690125,
           0.6150819063186646,
           0.3257231116294861,
           0.4073285460472107,
           0.6159663200378418,
           0.4278973340988159,
           0.3403163552284241,
           0.46616411209106445,
           0.5514658689498901,
           0.5056140422821045,
           0.110508494079113,
           0.13027240335941315,
           0.5541121959686279,
           0.5950759649276733,
           0.5341191291809082,
           0.5612314939498901,
           0.5378835797309875,
           0.5332800149917603,
           0.41994622349739075,
           0.5355017185211182,
           0.12789365649223328,
           0.20300212502479553,
           0.2962355613708496,
           0.48525702953338623,
           0.9999997615814209,
           0.46202903985977173,
           0.5769293308258057,
           0.3295367956161499,
           0.40736913681030273,
           0.4628675580024719,
           0.6662415266036987,
           0.437071293592453,
           0.5340253114700317,
           0.6960108280181885,
           0.4578056037425995,
           0.1728234887123108,
           0.5622112154960632,
           0.6083946824073792,
           0.3523036241531372,
           0.37442153692245483,
           0.4820381999015808,
           0.42631882429122925,
           0.37627309560775757,
           0.5159569978713989,
           0.46964430809020996,
           0.5534115433692932,
           0.3343025743961334,
           0.5781619548797607,
           0.2386547029018402,
           0.2053191065788269,
           0.5764285922050476,
           0.14154799282550812,
           0.436984658241272,
           0.419580340385437,
           0.5442334413528442,
           0.6055667400360107,
           0.6136995553970337,
           0.5459444522857666,
           0.5362381339073181,
           0.5628207921981812,
           0.4146186113357544,
           0.5426664352416992
          ],
          [
           0.424716591835022,
           0.29996418952941895,
           0.08444055914878845,
           0.43761420249938965,
           0.3098139762878418,
           0.28722018003463745,
           0.14234857261180878,
           0.3130261301994324,
           0.6934077739715576,
           0.2702838182449341,
           0.33259645104408264,
           0.29641830921173096,
           0.29922249913215637,
           0.3765234053134918,
           0.3323597311973572,
           0.32471364736557007,
           0.17102444171905518,
           0.4273396134376526,
           0.2931928336620331,
           0.32264289259910583,
           0.4034208357334137,
           0.3272431492805481,
           0.2856394052505493,
           0.26974573731422424,
           0.35661572217941284,
           0.2681337296962738,
           0.24165980517864227,
           0.42024582624435425,
           0.2222447693347931,
           0.20585943758487701,
           0.3445878326892853,
           0.40163475275039673,
           0.3273806869983673,
           0.1423187106847763,
           0.09272460639476776,
           0.40497034788131714,
           0.3576057553291321,
           0.30452844500541687,
           0.3770543932914734,
           0.30592039227485657,
           0.3247113525867462,
           0.28140050172805786,
           0.29283255338668823,
           0.10829203575849533,
           0.2620100975036621,
           0.14401113986968994,
           0.25525206327438354,
           0.46202903985977173,
           1,
           0.3798653483390808,
           0.1516415774822235,
           0.2355094701051712,
           0.25524699687957764,
           0.3925761282444,
           0.23228071630001068,
           0.29151150584220886,
           0.32023316621780396,
           0.2493698000907898,
           0.16215741634368896,
           0.3323407769203186,
           0.3565903306007385,
           0.1497514545917511,
           0.19769133627414703,
           0.31851720809936523,
           0.21681180596351624,
           0.18577957153320312,
           0.303763210773468,
           0.33126741647720337,
           0.31877413392066956,
           0.19025811553001404,
           0.39107510447502136,
           0.2371378242969513,
           0.18943464756011963,
           0.35550808906555176,
           0.12677514553070068,
           0.3534391522407532,
           0.25857019424438477,
           0.3419065475463867,
           0.4055802822113037,
           0.39192068576812744,
           0.27962493896484375,
           0.38014471530914307,
           0.318694531917572,
           0.7020070552825928,
           0.3632085919380188
          ],
          [
           0.7614117860794067,
           0.6100484132766724,
           0.16838371753692627,
           0.4758172035217285,
           0.41446587443351746,
           0.5167572498321533,
           0.2717451751232147,
           0.4324191212654114,
           0.5875998735427856,
           0.4961041212081909,
           0.5424124598503113,
           0.451543927192688,
           0.4149553179740906,
           0.5498437881469727,
           0.4709419906139374,
           0.44141021370887756,
           0.3456455171108246,
           0.5836405754089355,
           0.41404208540916443,
           0.5418750047683716,
           0.37908458709716797,
           0.4986271262168884,
           0.5180914402008057,
           0.5291105508804321,
           0.45728832483291626,
           0.3359912633895874,
           0.44441288709640503,
           0.6805626153945923,
           0.47721976041793823,
           0.3360700011253357,
           0.6346474885940552,
           0.36855587363243103,
           0.4516748785972595,
           0.16548815369606018,
           0.113351970911026,
           0.46568167209625244,
           0.44258421659469604,
           0.45856380462646484,
           0.5023583769798279,
           0.4272734522819519,
           0.4104765057563782,
           0.36096465587615967,
           0.4826585650444031,
           0.1805167943239212,
           0.23025938868522644,
           0.3159417510032654,
           0.4249456226825714,
           0.5769293308258057,
           0.3798653483390808,
           0.9999998807907104,
           0.365078330039978,
           0.3297625780105591,
           0.34635311365127563,
           0.5594779849052429,
           0.522802472114563,
           0.45264652371406555,
           0.5810301303863525,
           0.3422558605670929,
           0.16650325059890747,
           0.536549985408783,
           0.49174264073371887,
           0.2423538714647293,
           0.30592450499534607,
           0.4884389042854309,
           0.5069573521614075,
           0.4188060760498047,
           0.43213027715682983,
           0.4127786457538605,
           0.4126533567905426,
           0.3020961582660675,
           0.6382367610931396,
           0.20287108421325684,
           0.15824343264102936,
           0.4708147644996643,
           0.1217157393693924,
           0.37714487314224243,
           0.38106560707092285,
           0.49431347846984863,
           0.4284854531288147,
           0.8170182704925537,
           0.47621288895606995,
           0.4674513339996338,
           0.5094825625419617,
           0.2956104278564453,
           0.4409094452857971
          ],
          [
           0.5171789526939392,
           0.5092368721961975,
           0.3616912364959717,
           0.3944687843322754,
           0.3862669765949249,
           0.33047208189964294,
           0.5836243629455566,
           0.533284068107605,
           0.301268994808197,
           0.41667288541793823,
           0.5504688620567322,
           0.4108200967311859,
           0.35930001735687256,
           0.6153777241706848,
           0.29658934473991394,
           0.514875590801239,
           0.4835144579410553,
           0.39681506156921387,
           0.4237750172615051,
           0.43777090311050415,
           0.27533966302871704,
           0.45396870374679565,
           0.5091646909713745,
           0.7666943073272705,
           0.45854461193084717,
           0.3616950511932373,
           0.32779377698898315,
           0.3583652079105377,
           0.7433759570121765,
           0.4654039144515991,
           0.18700915575027466,
           0.29974862933158875,
           0.3667352497577667,
           0.24782291054725647,
           0.37121373414993286,
           0.44033047556877136,
           0.41133153438568115,
           0.35087618231773376,
           0.32741013169288635,
           0.28117483854293823,
           0.47225719690322876,
           0.3337613642215729,
           0.3638438582420349,
           0.21006013453006744,
           0.291612833738327,
           0.9034056663513184,
           0.714410662651062,
           0.3295367956161499,
           0.1516415774822235,
           0.365078330039978,
           1,
           0.30349019169807434,
           0.40712660551071167,
           0.44539958238601685,
           0.6323070526123047,
           0.2999650835990906,
           0.5545302033424377,
           0.362356573343277,
           0.3072811961174011,
           0.4839211106300354,
           0.346605122089386,
           0.5597095489501953,
           0.22071769833564758,
           0.532390832901001,
           0.6642086505889893,
           0.8429034948348999,
           0.31570160388946533,
           0.3077371120452881,
           0.4827556610107422,
           0.37496766448020935,
           0.3331370949745178,
           0.40499818325042725,
           0.2478676289319992,
           0.41566330194473267,
           0.4546906352043152,
           0.23831066489219666,
           0.40458446741104126,
           0.7474350333213806,
           0.39355921745300293,
           0.2764604389667511,
           0.42023390531539917,
           0.29726579785346985,
           0.34821757674217224,
           0.20772215723991394,
           0.38709020614624023
          ],
          [
           0.4066771864891052,
           0.47577235102653503,
           0.10511736571788788,
           0.4497775435447693,
           0.4729692339897156,
           0.431770384311676,
           0.3062254786491394,
           0.44159388542175293,
           0.37019816040992737,
           0.4437292814254761,
           0.33142855763435364,
           0.4354144036769867,
           0.376093327999115,
           0.5504723787307739,
           0.3858006000518799,
           0.46544721722602844,
           0.241188645362854,
           0.30580198764801025,
           0.45443642139434814,
           0.34390437602996826,
           0.3934212625026703,
           0.45631659030914307,
           0.436917245388031,
           0.45706164836883545,
           0.4490887522697449,
           0.3661642074584961,
           0.2628766894340515,
           0.3301756680011749,
           0.3823530673980713,
           0.2677488327026367,
           0.31337082386016846,
           0.3941882848739624,
           0.37930557131767273,
           0.15393835306167603,
           0.18818789720535278,
           0.45288506150245667,
           0.45062679052352905,
           0.4497186541557312,
           0.45454296469688416,
           0.4380285143852234,
           0.4409945011138916,
           0.21019470691680908,
           0.38456204533576965,
           0.1950952410697937,
           0.3168618083000183,
           0.2384086698293686,
           0.4354974031448364,
           0.40736913681030273,
           0.2355094701051712,
           0.3297625780105591,
           0.30349019169807434,
           1,
           0.36559852957725525,
           0.4538973569869995,
           0.3197961747646332,
           0.3089738190174103,
           0.4937704801559448,
           0.2766057252883911,
           0.14987854659557343,
           0.5257733464241028,
           0.37881791591644287,
           0.34754371643066406,
           0.30621397495269775,
           0.41173237562179565,
           0.2452436089515686,
           0.3920862674713135,
           0.30750608444213867,
           0.4513341784477234,
           0.3893699645996094,
           0.3737215995788574,
           0.27384528517723083,
           0.18996044993400574,
           0.15143543481826782,
           0.7473840713500977,
           0.09952933341264725,
           0.37836867570877075,
           0.3806137442588806,
           0.4067196249961853,
           0.40033167600631714,
           0.2971338629722595,
           0.44468775391578674,
           0.35349249839782715,
           0.2867245376110077,
           0.1989595890045166,
           0.3418310582637787
          ],
          [
           0.4768514633178711,
           0.42192548513412476,
           0.23555788397789001,
           0.5302401781082153,
           0.45459094643592834,
           0.4488533139228821,
           0.42115938663482666,
           0.5612906217575073,
           0.3704012632369995,
           0.5727506875991821,
           0.4254602789878845,
           0.36203816533088684,
           0.31090986728668213,
           0.5560450553894043,
           0.3226778507232666,
           0.7032745480537415,
           0.5126029849052429,
           0.3116084933280945,
           0.41087886691093445,
           0.3677997589111328,
           0.4864581823348999,
           0.6226658821105957,
           0.46564656496047974,
           0.5683083534240723,
           0.5311132669448853,
           0.3521172106266022,
           0.2872236967086792,
           0.33295172452926636,
           0.5415548086166382,
           0.47559472918510437,
           0.3309175968170166,
           0.3885858654975891,
           0.3773820996284485,
           0.19843149185180664,
           0.32988712191581726,
           0.4859575629234314,
           0.5749064683914185,
           0.4528008699417114,
           0.3879397511482239,
           0.3303223252296448,
           0.39364469051361084,
           0.31610995531082153,
           0.331495076417923,
           0.22117067873477936,
           0.2529258728027344,
           0.41642677783966064,
           0.7958829402923584,
           0.4628675580024719,
           0.25524699687957764,
           0.34635311365127563,
           0.40712660551071167,
           0.36559852957725525,
           1,
           0.5074390769004822,
           0.4434000849723816,
           0.25586163997650146,
           0.5944819450378418,
           0.2833773195743561,
           0.4055556654930115,
           0.43382394313812256,
           0.42169368267059326,
           0.8071814179420471,
           0.337699294090271,
           0.5073280334472656,
           0.4004935622215271,
           0.425112783908844,
           0.3064202070236206,
           0.4113810360431671,
           0.38671836256980896,
           0.5299128890037537,
           0.31359803676605225,
           0.28473299741744995,
           0.4227157235145569,
           0.5521291494369507,
           0.27640867233276367,
           0.4067946672439575,
           0.33102983236312866,
           0.5788246393203735,
           0.5503585934638977,
           0.2832515835762024,
           0.4750164747238159,
           0.3748829662799835,
           0.3137018084526062,
           0.3274611830711365,
           0.37631553411483765
          ],
          [
           0.642058253288269,
           0.7031974792480469,
           0.16511982679367065,
           0.6554254293441772,
           0.554002046585083,
           0.5676697492599487,
           0.277912974357605,
           0.6723781824111938,
           0.6440058946609497,
           0.6079698801040649,
           0.58426833152771,
           0.6391841173171997,
           0.6484782695770264,
           0.6547595858573914,
           0.5360709428787231,
           0.60732102394104,
           0.362803190946579,
           0.4164283275604248,
           0.6650117635726929,
           0.5676353573799133,
           0.36828845739364624,
           0.655937671661377,
           0.5823085308074951,
           0.6845118999481201,
           0.5720568895339966,
           0.3110930025577545,
           0.4197222590446472,
           0.5409438610076904,
           0.5593456625938416,
           0.32520878314971924,
           0.3776986002922058,
           0.5410724878311157,
           0.5369277000427246,
           0.14840254187583923,
           0.3091253340244293,
           0.600134551525116,
           0.5726772546768188,
           0.6390435695648193,
           0.6715644598007202,
           0.5112771391868591,
           0.5604932308197021,
           0.45485919713974,
           0.630591869354248,
           0.1959919035434723,
           0.29493448138237,
           0.38425785303115845,
           0.5971266031265259,
           0.6662415266036987,
           0.3925761282444,
           0.5594779849052429,
           0.44539958238601685,
           0.4538973569869995,
           0.5074390769004822,
           1.0000001192092896,
           0.5712305307388306,
           0.5676394701004028,
           0.7760635018348694,
           0.5879255533218384,
           0.230097234249115,
           0.6430359482765198,
           0.5183184146881104,
           0.42150241136550903,
           0.7255690097808838,
           0.6793771982192993,
           0.5540078282356262,
           0.4725390672683716,
           0.5307086706161499,
           0.6262059211730957,
           0.6368661522865295,
           0.38048142194747925,
           0.5435986518859863,
           0.2920510768890381,
           0.21842268109321594,
           0.6281794905662537,
           0.14391493797302246,
           0.4654034972190857,
           0.4948679506778717,
           0.6321921944618225,
           0.5523704290390015,
           0.5425615906715393,
           0.5834481716156006,
           0.5639413595199585,
           0.4849587082862854,
           0.3573627769947052,
           0.5612220764160156
          ],
          [
           0.6114505529403687,
           0.6044236421585083,
           0.2068987488746643,
           0.5112782716751099,
           0.42190900444984436,
           0.5271936655044556,
           0.3495010435581207,
           0.6086013317108154,
           0.36573708057403564,
           0.5817100405693054,
           0.661805272102356,
           0.44913098216056824,
           0.3790387511253357,
           0.7474256157875061,
           0.3751697540283203,
           0.567158579826355,
           0.46927738189697266,
           0.38254982233047485,
           0.5567182302474976,
           0.5971694588661194,
           0.40671399235725403,
           0.5983647704124451,
           0.5833861827850342,
           0.8041242957115173,
           0.5167996883392334,
           0.3995724618434906,
           0.43856364488601685,
           0.47925543785095215,
           0.7401974201202393,
           0.35210227966308594,
           0.2789355516433716,
           0.3705613613128662,
           0.4968411326408386,
           0.2204233855009079,
           0.2975938022136688,
           0.5082154273986816,
           0.48025864362716675,
           0.48130345344543457,
           0.4795927405357361,
           0.2718985676765442,
           0.525934636592865,
           0.43458184599876404,
           0.45654478669166565,
           0.30086347460746765,
           0.31659480929374695,
           0.5278014540672302,
           0.6257898807525635,
           0.437071293592453,
           0.23228071630001068,
           0.522802472114563,
           0.6323070526123047,
           0.3197961747646332,
           0.4434000849723816,
           0.5712305307388306,
           0.9999997019767761,
           0.3616425693035126,
           0.6842197179794312,
           0.48211050033569336,
           0.16753795742988586,
           0.5795096158981323,
           0.4411832094192505,
           0.38457149267196655,
           0.2612053453922272,
           0.7246187925338745,
           0.8696855306625366,
           0.6258690357208252,
           0.40498030185699463,
           0.47547709941864014,
           0.553147554397583,
           0.4558577835559845,
           0.4023992419242859,
           0.3163531422615051,
           0.1506868302822113,
           0.5212370753288269,
           0.17566761374473572,
           0.3169969320297241,
           0.4605388045310974,
           0.7246730923652649,
           0.4949933886528015,
           0.4039406478404999,
           0.5326963663101196,
           0.41541093587875366,
           0.47415024042129517,
           0.20291081070899963,
           0.5094257593154907
          ],
          [
           0.4390713572502136,
           0.5577665567398071,
           0.15158401429653168,
           0.4315158724784851,
           0.4303664565086365,
           0.4853854477405548,
           0.23115777969360352,
           0.429287850856781,
           0.434054434299469,
           0.4816805124282837,
           0.44968804717063904,
           0.5621671676635742,
           0.7102984189987183,
           0.42433297634124756,
           0.7588746547698975,
           0.3961372375488281,
           0.2404547929763794,
           0.3448091745376587,
           0.45543283224105835,
           0.8097264766693115,
           0.2423160970211029,
           0.3892960548400879,
           0.46565210819244385,
           0.4450645446777344,
           0.46012789011001587,
           0.2455967217683792,
           0.8021457195281982,
           0.7528188228607178,
           0.3721523880958557,
           0.25620731711387634,
           0.29479631781578064,
           0.4845978319644928,
           0.8328416347503662,
           0.18692412972450256,
           0.15595504641532898,
           0.4784054458141327,
           0.3621826171875,
           0.465438574552536,
           0.5334693193435669,
           0.44567954540252686,
           0.43122345209121704,
           0.3886716365814209,
           0.5333701372146606,
           0.09748944640159607,
           0.15057381987571716,
           0.2554225027561188,
           0.3260800838470459,
           0.5340253114700317,
           0.29151150584220886,
           0.45264652371406555,
           0.2999650835990906,
           0.3089738190174103,
           0.25586163997650146,
           0.5676394701004028,
           0.3616425693035126,
           1.000000238418579,
           0.5590205192565918,
           0.5763949155807495,
           0.16165253520011902,
           0.5642986297607422,
           0.7338010668754578,
           0.19989800453186035,
           0.4187275171279907,
           0.4403429925441742,
           0.36082547903060913,
           0.3492988646030426,
           0.8205482363700867,
           0.49024420976638794,
           0.47936055064201355,
           0.23111999034881592,
           0.4345340430736542,
           0.19057705998420715,
           0.1492161601781845,
           0.38587528467178345,
           0.13879762589931488,
           0.3329210877418518,
           0.40355241298675537,
           0.4096316695213318,
           0.439239501953125,
           0.7392427921295166,
           0.4376639425754547,
           0.7534920573234558,
           0.7670319676399231,
           0.26849526166915894,
           0.4829980731010437
          ],
          [
           0.6875908970832825,
           0.8494648933410645,
           0.18130889534950256,
           0.6476379632949829,
           0.5421504974365234,
           0.6323224902153015,
           0.3872174322605133,
           0.6903995275497437,
           0.5317223072052002,
           0.8070474863052368,
           0.6525422930717468,
           0.6519861221313477,
           0.5611129999160767,
           0.745083212852478,
           0.6072679162025452,
           0.6765346527099609,
           0.47264376282691956,
           0.4774683713912964,
           0.684192419052124,
           0.6791284084320068,
           0.4426136612892151,
           0.6722126007080078,
           0.7435599565505981,
           0.79387366771698,
           0.6596555113792419,
           0.42495644092559814,
           0.5384265184402466,
           0.6002402305603027,
           0.6580626964569092,
           0.4604456126689911,
           0.4071413576602936,
           0.556313157081604,
           0.5622445344924927,
           0.18000975251197815,
           0.31135857105255127,
           0.6151943206787109,
           0.6238975524902344,
           0.6407040357589722,
           0.6630649566650391,
           0.5560634732246399,
           0.6278501749038696,
           0.49429553747177124,
           0.631658673286438,
           0.2457205057144165,
           0.31501853466033936,
           0.4632090926170349,
           0.6694988012313843,
           0.6960108280181885,
           0.32023316621780396,
           0.5810301303863525,
           0.5545302033424377,
           0.4937704801559448,
           0.5944819450378418,
           0.7760635018348694,
           0.6842197179794312,
           0.5590205192565918,
           0.9999998807907104,
           0.5457413196563721,
           0.25352728366851807,
           0.6614692211151123,
           0.6113070249557495,
           0.47462427616119385,
           0.4422035217285156,
           0.7231419682502747,
           0.6475334167480469,
           0.5906450748443604,
           0.5805233716964722,
           0.6078677773475647,
           0.6478824019432068,
           0.5517488718032837,
           0.5228511691093445,
           0.32879573106765747,
           0.26662158966064453,
           0.67298424243927,
           0.17764714360237122,
           0.43807435035705566,
           0.5008397698402405,
           0.7542375326156616,
           0.6301310062408447,
           0.5900310277938843,
           0.7170733213424683,
           0.5762518644332886,
           0.5848865509033203,
           0.3332254886627197,
           0.58974289894104
          ],
          [
           0.4000213146209717,
           0.5197969675064087,
           0.16016897559165955,
           0.4466860294342041,
           0.42230620980262756,
           0.34205347299575806,
           0.35256707668304443,
           0.538744330406189,
           0.3439493775367737,
           0.4630263149738312,
           0.48654523491859436,
           0.5266778469085693,
           0.7367795705795288,
           0.43988317251205444,
           0.37494316697120667,
           0.3743115961551666,
           0.3370554447174072,
           0.23395603895187378,
           0.46451231837272644,
           0.3884579539299011,
           0.3398764133453369,
           0.43068456649780273,
           0.3919799327850342,
           0.5287858843803406,
           0.40620025992393494,
           0.26005542278289795,
           0.3309124708175659,
           0.3167242407798767,
           0.42200130224227905,
           0.3851781189441681,
           0.2312791645526886,
           0.36140573024749756,
           0.43954572081565857,
           0.18663735687732697,
           0.31348830461502075,
           0.4111279845237732,
           0.33594536781311035,
           0.43489551544189453,
           0.4824182987213135,
           0.4264364242553711,
           0.4845463037490845,
           0.4232538938522339,
           0.5078025460243225,
           0.24195969104766846,
           0.3016907572746277,
           0.3192649483680725,
           0.33369213342666626,
           0.4578056037425995,
           0.2493698000907898,
           0.3422558605670929,
           0.362356573343277,
           0.2766057252883911,
           0.2833773195743561,
           0.5879255533218384,
           0.48211050033569336,
           0.5763949155807495,
           0.5457413196563721,
           1.000000238418579,
           0.2347845733165741,
           0.593935489654541,
           0.313958078622818,
           0.2261524498462677,
           0.4835895895957947,
           0.49798306822776794,
           0.45447131991386414,
           0.3466678261756897,
           0.3878706097602844,
           0.4319188594818115,
           0.5649700164794922,
           0.3535476624965668,
           0.3614373803138733,
           0.2355310320854187,
           0.2316628098487854,
           0.43559902906417847,
           0.23160243034362793,
           0.2949613034725189,
           0.5509974360466003,
           0.5017839670181274,
           0.34298133850097656,
           0.32071059942245483,
           0.41071397066116333,
           0.32070285081863403,
           0.3631075620651245,
           0.2338699847459793,
           0.398277223110199
          ],
          [
           0.22365181148052216,
           0.24358464777469635,
           0.3536806106567383,
           0.2403969019651413,
           0.29830461740493774,
           0.20327894389629364,
           0.5855854153633118,
           0.3767421841621399,
           0.20268040895462036,
           0.2192884087562561,
           0.20618665218353271,
           0.1725652813911438,
           0.2460479885339737,
           0.2552652359008789,
           0.16377055644989014,
           0.30209290981292725,
           0.5120470523834229,
           0.2448548972606659,
           0.2160854935646057,
           0.18156258761882782,
           0.377219021320343,
           0.29206520318984985,
           0.20820924639701843,
           0.3095824718475342,
           0.22860220074653625,
           0.2692411541938782,
           0.21302977204322815,
           0.1549060344696045,
           0.2677213251590729,
           0.658185601234436,
           0.2751464247703552,
           0.1658441126346588,
           0.18902361392974854,
           0.31035950779914856,
           0.3292910158634186,
           0.22107362747192383,
           0.2533479630947113,
           0.14510083198547363,
           0.153733491897583,
           0.2170623391866684,
           0.34476879239082336,
           0.22876018285751343,
           0.1259392946958542,
           0.15160943567752838,
           0.2841789424419403,
           0.3562544584274292,
           0.2755063772201538,
           0.1728234887123108,
           0.16215741634368896,
           0.16650325059890747,
           0.3072811961174011,
           0.14987854659557343,
           0.4055556654930115,
           0.230097234249115,
           0.16753795742988586,
           0.16165253520011902,
           0.25352728366851807,
           0.2347845733165741,
           1,
           0.22550025582313538,
           0.18527431786060333,
           0.3631541132926941,
           0.27070486545562744,
           0.16508471965789795,
           0.2035999596118927,
           0.24853208661079407,
           0.17228785157203674,
           0.11071257293224335,
           0.19156520068645477,
           0.26991206407546997,
           0.2125990092754364,
           0.20421022176742554,
           0.8036908507347107,
           0.2295096516609192,
           0.5132990479469299,
           0.12843464314937592,
           0.3414204716682434,
           0.3871729075908661,
           0.19681110978126526,
           0.14331841468811035,
           0.2097545564174652,
           0.14345894753932953,
           0.14326521754264832,
           0.2111756056547165,
           0.18746086955070496
          ],
          [
           0.6216137409210205,
           0.5961593389511108,
           0.19266480207443237,
           0.553604006767273,
           0.5572701692581177,
           0.4968714714050293,
           0.36544573307037354,
           0.6574986577033997,
           0.481975793838501,
           0.5074561834335327,
           0.5569782257080078,
           0.597064733505249,
           0.6707304120063782,
           0.6693242788314819,
           0.43077120184898376,
           0.5884567499160767,
           0.36893564462661743,
           0.4806514382362366,
           0.5284585952758789,
           0.5349180698394775,
           0.4160481095314026,
           0.6039849519729614,
           0.5355761647224426,
           0.6459866166114807,
           0.5591260194778442,
           0.3114731013774872,
           0.39366596937179565,
           0.5330175161361694,
           0.5852782726287842,
           0.37391626834869385,
           0.3952166438102722,
           0.43246862292289734,
           0.6078085899353027,
           0.22089949250221252,
           0.26340004801750183,
           0.5421205163002014,
           0.5682631731033325,
           0.5872494578361511,
           0.5538282990455627,
           0.440061092376709,
           0.5905726552009583,
           0.4376765787601471,
           0.5303449034690857,
           0.3498997092247009,
           0.3605835437774658,
           0.42907994985580444,
           0.5608329772949219,
           0.5622112154960632,
           0.3323407769203186,
           0.536549985408783,
           0.4839211106300354,
           0.5257733464241028,
           0.43382394313812256,
           0.6430359482765198,
           0.5795096158981323,
           0.5642986297607422,
           0.6614692211151123,
           0.593935489654541,
           0.22550025582313538,
           1.000000238418579,
           0.4964748024940491,
           0.36619096994400024,
           0.3840954899787903,
           0.6340714693069458,
           0.5098275542259216,
           0.5635877847671509,
           0.4587346613407135,
           0.5459394454956055,
           0.5834119319915771,
           0.385011225938797,
           0.5257734060287476,
           0.21890603005886078,
           0.2432408630847931,
           0.6155833601951599,
           0.2117786705493927,
           0.4876222014427185,
           0.47834789752960205,
           0.6071468591690063,
           0.5370191931724548,
           0.48281824588775635,
           0.5359277725219727,
           0.450145959854126,
           0.4631674885749817,
           0.289213091135025,
           0.6005148887634277
          ],
          [
           0.5568438172340393,
           0.5337416529655457,
           0.13213732838630676,
           0.521727979183197,
           0.5038547515869141,
           0.5587700605392456,
           0.23251168429851532,
           0.48733848333358765,
           0.5036147832870483,
           0.5800830125808716,
           0.5306330919265747,
           0.44854646921157837,
           0.3616326153278351,
           0.5628077387809753,
           0.7485791444778442,
           0.6077442169189453,
           0.277723491191864,
           0.4327221214771271,
           0.4360412359237671,
           0.846574604511261,
           0.321903258562088,
           0.456709086894989,
           0.6094062328338623,
           0.4778026044368744,
           0.7858690023422241,
           0.3157515227794647,
           0.778251051902771,
           0.8121451139450073,
           0.4306899905204773,
           0.3241816759109497,
           0.3582761883735657,
           0.5583411455154419,
           0.8039026856422424,
           0.15480801463127136,
           0.12866050004959106,
           0.5882815718650818,
           0.6663552522659302,
           0.5456029176712036,
           0.5527509450912476,
           0.3939656615257263,
           0.42691731452941895,
           0.381497323513031,
           0.4456040859222412,
           0.09890478849411011,
           0.20668140053749084,
           0.30945223569869995,
           0.47614097595214844,
           0.6083946824073792,
           0.3565903306007385,
           0.49174264073371887,
           0.346605122089386,
           0.37881791591644287,
           0.42169368267059326,
           0.5183184146881104,
           0.4411832094192505,
           0.7338010668754578,
           0.6113070249557495,
           0.313958078622818,
           0.18527431786060333,
           0.4964748024940491,
           1.000000238418579,
           0.3082190454006195,
           0.22897906601428986,
           0.49551305174827576,
           0.4166918396949768,
           0.39395198225975037,
           0.8008757829666138,
           0.4886828064918518,
           0.4276156425476074,
           0.298639178276062,
           0.464789479970932,
           0.27055472135543823,
           0.2030600607395172,
           0.5007375478744507,
           0.14538666605949402,
           0.47056591510772705,
           0.3159230351448059,
           0.47519415616989136,
           0.6577631235122681,
           0.7372399568557739,
           0.4941948652267456,
           0.8225699663162231,
           0.8098236918449402,
           0.34015291929244995,
           0.4966425895690918
          ],
          [
           0.39237740635871887,
           0.3883882462978363,
           0.3196578621864319,
           0.39811792969703674,
           0.3973776400089264,
           0.355960875749588,
           0.5861613750457764,
           0.48092085123062134,
           0.24379178881645203,
           0.4445663094520569,
           0.36737534403800964,
           0.325813353061676,
           0.2840608060359955,
           0.47614726424217224,
           0.25266677141189575,
           0.5725119709968567,
           0.5108616352081299,
           0.278545081615448,
           0.3528045415878296,
           0.28403592109680176,
           0.3728329539299011,
           0.5106245875358582,
           0.39207491278648376,
           0.5071250200271606,
           0.45241039991378784,
           0.427915096282959,
           0.24416324496269226,
           0.24172303080558777,
           0.5008629560470581,
           0.4267162084579468,
           0.22777937352657318,
           0.3047689199447632,
           0.29109689593315125,
           0.21156078577041626,
           0.399787962436676,
           0.38704684376716614,
           0.4167216420173645,
           0.3591366410255432,
           0.30543187260627747,
           0.2856137752532959,
           0.3851597309112549,
           0.24077820777893066,
           0.2685454189777374,
           0.24817804992198944,
           0.28655874729156494,
           0.565088152885437,
           0.7964345216751099,
           0.3523036241531372,
           0.1497514545917511,
           0.2423538714647293,
           0.5597095489501953,
           0.34754371643066406,
           0.8071814179420471,
           0.42150241136550903,
           0.38457149267196655,
           0.19989800453186035,
           0.47462427616119385,
           0.2261524498462677,
           0.3631541132926941,
           0.36619096994400024,
           0.3082190454006195,
           0.9999997615814209,
           0.3473190367221832,
           0.4262217879295349,
           0.3572787642478943,
           0.5208163261413574,
           0.230560302734375,
           0.32915791869163513,
           0.350585013628006,
           0.4908386468887329,
           0.21870271861553192,
           0.3177109956741333,
           0.29287612438201904,
           0.40935218334198,
           0.43020230531692505,
           0.32502198219299316,
           0.3305733799934387,
           0.48883920907974243,
           0.44527220726013184,
           0.17660784721374512,
           0.3900522291660309,
           0.26063644886016846,
           0.23583050072193146,
           0.24898235499858856,
           0.2884678244590759
          ],
          [
           0.3011718988418579,
           0.45490628480911255,
           0.23518529534339905,
           0.3824465274810791,
           0.42690008878707886,
           0.3472922444343567,
           0.35435229539871216,
           0.3796504735946655,
           0.355235755443573,
           0.36522001028060913,
           0.30260276794433594,
           0.4505058526992798,
           0.5954939126968384,
           0.304144024848938,
           0.3315371870994568,
           0.3275600075721741,
           0.3547150492668152,
           0.22999998927116394,
           0.5063457489013672,
           0.24408945441246033,
           0.28612518310546875,
           0.4284791648387909,
           0.3131030797958374,
           0.39646288752555847,
           0.3022329807281494,
           0.30534058809280396,
           0.2506566643714905,
           0.2232302725315094,
           0.29242804646492004,
           0.275620698928833,
           0.28169989585876465,
           0.3538616895675659,
           0.26510512828826904,
           0.1891711950302124,
           0.40189993381500244,
           0.3193843960762024,
           0.25411075353622437,
           0.44210249185562134,
           0.5144915580749512,
           0.3624380826950073,
           0.3818111717700958,
           0.29201382398605347,
           0.443259596824646,
           0.23991844058036804,
           0.24149882793426514,
           0.18759840726852417,
           0.29880067706108093,
           0.37442153692245483,
           0.19769133627414703,
           0.30592450499534607,
           0.22071769833564758,
           0.30621397495269775,
           0.337699294090271,
           0.7255690097808838,
           0.2612053453922272,
           0.4187275171279907,
           0.4422035217285156,
           0.4835895895957947,
           0.27070486545562744,
           0.3840954899787903,
           0.22897906601428986,
           0.3473190367221832,
           0.9999998211860657,
           0.38484296202659607,
           0.2403615415096283,
           0.248264878988266,
           0.33156251907348633,
           0.4667746424674988,
           0.35878491401672363,
           0.3436519503593445,
           0.32298216223716736,
           0.20162725448608398,
           0.1904459148645401,
           0.31219229102134705,
           0.20181509852409363,
           0.3184313178062439,
           0.30713680386543274,
           0.3375478684902191,
           0.27483630180358887,
           0.28774845600128174,
           0.32774680852890015,
           0.28865355253219604,
           0.20513853430747986,
           0.23424744606018066,
           0.30917447805404663
          ],
          [
           0.5636025667190552,
           0.6131675243377686,
           0.17975874245166779,
           0.5215169787406921,
           0.5336860418319702,
           0.5152522325515747,
           0.3135985732078552,
           0.6091995239257812,
           0.46454402804374695,
           0.6036033630371094,
           0.5796802043914795,
           0.5552366971969604,
           0.4662286043167114,
           0.702247142791748,
           0.44645392894744873,
           0.6426711082458496,
           0.4993778467178345,
           0.4024811089038849,
           0.6563596129417419,
           0.5619305968284607,
           0.36602145433425903,
           0.633570671081543,
           0.5815311670303345,
           0.7453802227973938,
           0.5702159404754639,
           0.2775782644748688,
           0.42966967821121216,
           0.47681617736816406,
           0.7098084688186646,
           0.27976611256599426,
           0.2420911192893982,
           0.4249628782272339,
           0.5557578802108765,
           0.1941702961921692,
           0.3718618154525757,
           0.5579663515090942,
           0.5577379465103149,
           0.5869580507278442,
           0.5716112852096558,
           0.4064164161682129,
           0.560771107673645,
           0.391883909702301,
           0.516661524772644,
           0.4073215126991272,
           0.34207016229629517,
           0.44159412384033203,
           0.6425236463546753,
           0.4820381999015808,
           0.31851720809936523,
           0.4884389042854309,
           0.532390832901001,
           0.41173237562179565,
           0.5073280334472656,
           0.6793771982192993,
           0.7246187925338745,
           0.4403429925441742,
           0.7231419682502747,
           0.49798306822776794,
           0.16508471965789795,
           0.6340714693069458,
           0.49551305174827576,
           0.4262217879295349,
           0.38484296202659607,
           1.000000238418579,
           0.642560601234436,
           0.5973044633865356,
           0.4969795048236847,
           0.5559694766998291,
           0.6247597932815552,
           0.4821327328681946,
           0.4214877486228943,
           0.26243993639945984,
           0.14087820053100586,
           0.5614618062973022,
           0.14076539874076843,
           0.4602208435535431,
           0.46006226539611816,
           0.6549797058105469,
           0.5439499616622925,
           0.42518022656440735,
           0.5581955909729004,
           0.4549713730812073,
           0.4359472990036011,
           0.2542225122451782,
           0.5531398057937622
          ],
          [
           0.6093777418136597,
           0.5576244592666626,
           0.21945445239543915,
           0.4521174132823944,
           0.37933778762817383,
           0.47882193326950073,
           0.3248419761657715,
           0.548340380191803,
           0.3574064373970032,
           0.5143635869026184,
           0.6574661731719971,
           0.4537487328052521,
           0.3614208698272705,
           0.6876399517059326,
           0.35652703046798706,
           0.5411678552627563,
           0.4151301980018616,
           0.40103185176849365,
           0.4884328544139862,
           0.5792948603630066,
           0.30570459365844727,
           0.5172438621520996,
           0.5561776161193848,
           0.7589064836502075,
           0.4730874300003052,
           0.3438027501106262,
           0.42441242933273315,
           0.47287601232528687,
           0.7063583731651306,
           0.3071647882461548,
           0.24958553910255432,
           0.3205065429210663,
           0.4546961784362793,
           0.23529775440692902,
           0.32468003034591675,
           0.4736255705356598,
           0.45150452852249146,
           0.3911881744861603,
           0.42425787448883057,
           0.24092917144298553,
           0.4629859924316406,
           0.4812946319580078,
           0.4549649655818939,
           0.21722060441970825,
           0.23756860196590424,
           0.5775595307350159,
           0.6318268775939941,
           0.42631882429122925,
           0.21681180596351624,
           0.5069573521614075,
           0.6642086505889893,
           0.2452436089515686,
           0.4004935622215271,
           0.5540078282356262,
           0.8696855306625366,
           0.36082547903060913,
           0.6475334167480469,
           0.45447131991386414,
           0.2035999596118927,
           0.5098275542259216,
           0.4166918396949768,
           0.3572787642478943,
           0.2403615415096283,
           0.642560601234436,
           1.0000001192092896,
           0.6559762954711914,
           0.39990317821502686,
           0.3788765072822571,
           0.5215622186660767,
           0.3073626160621643,
           0.4218320846557617,
           0.3845422863960266,
           0.17132775485515594,
           0.4494956433773041,
           0.16741526126861572,
           0.26907140016555786,
           0.4776815176010132,
           0.681779146194458,
           0.45962852239608765,
           0.4062313437461853,
           0.4830324351787567,
           0.39949163794517517,
           0.47727900743484497,
           0.19090571999549866,
           0.47806164622306824
          ],
          [
           0.5179351568222046,
           0.5471234321594238,
           0.3580273389816284,
           0.4430577754974365,
           0.42090046405792236,
           0.41360175609588623,
           0.5588061213493347,
           0.5338035821914673,
           0.3312510848045349,
           0.46938925981521606,
           0.5575300455093384,
           0.4374491274356842,
           0.3998091518878937,
           0.6536686420440674,
           0.352317750453949,
           0.535804033279419,
           0.4742179811000824,
           0.4007302522659302,
           0.45798903703689575,
           0.46660691499710083,
           0.2999146282672882,
           0.5112711787223816,
           0.5277661085128784,
           0.7877470254898071,
           0.5007040500640869,
           0.3343982696533203,
           0.35848915576934814,
           0.3915329873561859,
           0.7473217844963074,
           0.3657988905906677,
           0.209303081035614,
           0.34355026483535767,
           0.4190745949745178,
           0.31335118412971497,
           0.3569321632385254,
           0.4900718033313751,
           0.43012869358062744,
           0.3972490727901459,
           0.40218520164489746,
           0.35165995359420776,
           0.43655139207839966,
           0.34161481261253357,
           0.4438546895980835,
           0.24641722440719604,
           0.25787776708602905,
           0.7221083641052246,
           0.7081007957458496,
           0.37627309560775757,
           0.18577957153320312,
           0.4188060760498047,
           0.8429034948348999,
           0.3920862674713135,
           0.425112783908844,
           0.4725390672683716,
           0.6258690357208252,
           0.3492988646030426,
           0.5906450748443604,
           0.3466678261756897,
           0.24853208661079407,
           0.5635877847671509,
           0.39395198225975037,
           0.5208163261413574,
           0.248264878988266,
           0.5973044633865356,
           0.6559762954711914,
           1,
           0.3461761474609375,
           0.3478500545024872,
           0.5094543695449829,
           0.36673855781555176,
           0.35520708560943604,
           0.3997996151447296,
           0.18860194087028503,
           0.46762073040008545,
           0.3199526071548462,
           0.32237499952316284,
           0.42900264263153076,
           0.6905353665351868,
           0.46293240785598755,
           0.3230140209197998,
           0.4687971770763397,
           0.3542617857456207,
           0.37941694259643555,
           0.21459969878196716,
           0.45822015404701233
          ],
          [
           0.43029555678367615,
           0.5448106527328491,
           0.20022577047348022,
           0.40379005670547485,
           0.571028470993042,
           0.5273304581642151,
           0.25220856070518494,
           0.39773184061050415,
           0.45596277713775635,
           0.5136000514030457,
           0.43934494256973267,
           0.5307880640029907,
           0.3984566926956177,
           0.4485129117965698,
           0.7541258931159973,
           0.46836090087890625,
           0.26449745893478394,
           0.3488168716430664,
           0.4690071940422058,
           0.8401655554771423,
           0.21843218803405762,
           0.40183770656585693,
           0.513353705406189,
           0.4502352774143219,
           0.4778875708580017,
           0.25162041187286377,
           0.8610367774963379,
           0.7547829151153564,
           0.38874736428260803,
           0.24794191122055054,
           0.2452026605606079,
           0.4953024089336395,
           0.8154433369636536,
           0.18792404234409332,
           0.2542434334754944,
           0.4386149048805237,
           0.4313427805900574,
           0.4567696452140808,
           0.5200198888778687,
           0.38297584652900696,
           0.4155370593070984,
           0.3739776313304901,
           0.49650028347969055,
           0.1363592892885208,
           0.1674058437347412,
           0.281741201877594,
           0.3664240837097168,
           0.5159569978713989,
           0.303763210773468,
           0.43213027715682983,
           0.31570160388946533,
           0.30750608444213867,
           0.3064202070236206,
           0.5307086706161499,
           0.40498030185699463,
           0.8205482363700867,
           0.5805233716964722,
           0.3878706097602844,
           0.17228785157203674,
           0.4587346613407135,
           0.8008757829666138,
           0.230560302734375,
           0.33156251907348633,
           0.4969795048236847,
           0.39990317821502686,
           0.3461761474609375,
           1,
           0.4436299204826355,
           0.41167235374450684,
           0.2765166759490967,
           0.3873538672924042,
           0.21573230624198914,
           0.16050277650356293,
           0.3863106667995453,
           0.1715313196182251,
           0.41675007343292236,
           0.31628724932670593,
           0.4235106110572815,
           0.4928795099258423,
           0.7448023557662964,
           0.393463134765625,
           0.7846860885620117,
           0.7703436613082886,
           0.32711610198020935,
           0.46018409729003906
          ],
          [
           0.45333003997802734,
           0.5341799259185791,
           0.10072550922632217,
           0.5532885789871216,
           0.4363135099411011,
           0.46847590804100037,
           0.21935975551605225,
           0.5334427952766418,
           0.4672166109085083,
           0.5455969572067261,
           0.44388484954833984,
           0.4683089554309845,
           0.5029340982437134,
           0.5564020872116089,
           0.520756185054779,
           0.45966458320617676,
           0.3179776072502136,
           0.2670813202857971,
           0.719607412815094,
           0.4953663945198059,
           0.39735525846481323,
           0.5495004057884216,
           0.48764851689338684,
           0.5180911421775818,
           0.5199213027954102,
           0.2932426929473877,
           0.40712970495224,
           0.44696125388145447,
           0.43466198444366455,
           0.25263237953186035,
           0.249400332570076,
           0.5242839455604553,
           0.5114245414733887,
           0.16104619204998016,
           0.2263089120388031,
           0.5474728941917419,
           0.45964473485946655,
           0.7035599946975708,
           0.6345797181129456,
           0.4216095209121704,
           0.43563127517700195,
           0.4543483853340149,
           0.42014575004577637,
           0.2253369688987732,
           0.3022398352622986,
           0.26037541031837463,
           0.4369703531265259,
           0.46964430809020996,
           0.33126741647720337,
           0.4127786457538605,
           0.3077371120452881,
           0.4513341784477234,
           0.4113810360431671,
           0.6262059211730957,
           0.47547709941864014,
           0.49024420976638794,
           0.6078677773475647,
           0.4319188594818115,
           0.11071257293224335,
           0.5459394454956055,
           0.4886828064918518,
           0.32915791869163513,
           0.4667746424674988,
           0.5559694766998291,
           0.3788765072822571,
           0.3478500545024872,
           0.4436299204826355,
           0.9999999403953552,
           0.491055965423584,
           0.39559289813041687,
           0.4285678267478943,
           0.20624780654907227,
           0.13014891743659973,
           0.514028787612915,
           0.11337755620479584,
           0.42365384101867676,
           0.3585130572319031,
           0.49684950709342957,
           0.5322844386100769,
           0.41004982590675354,
           0.5047237277030945,
           0.540720522403717,
           0.4137512445449829,
           0.28473788499832153,
           0.5450857877731323
          ],
          [
           0.5580147504806519,
           0.5696289539337158,
           0.17832911014556885,
           0.5049024820327759,
           0.49684959650039673,
           0.42475712299346924,
           0.30983632802963257,
           0.5701229572296143,
           0.45993131399154663,
           0.5094219446182251,
           0.5469598770141602,
           0.6699126958847046,
           0.6085262894630432,
           0.6149883270263672,
           0.38507282733917236,
           0.526424765586853,
           0.37400907278060913,
           0.3821449279785156,
           0.4979788064956665,
           0.44386082887649536,
           0.3491663932800293,
           0.547004222869873,
           0.5104187726974487,
           0.6383785605430603,
           0.5588506460189819,
           0.2604411840438843,
           0.32457235455513,
           0.3995360732078552,
           0.5994788408279419,
           0.30605563521385193,
           0.26509764790534973,
           0.381524920463562,
           0.4198068380355835,
           0.17179609835147858,
           0.2840104103088379,
           0.4993475675582886,
           0.5281537771224976,
           0.5028696656227112,
           0.4855879545211792,
           0.4142010807991028,
           0.5690099000930786,
           0.42273038625717163,
           0.6122409105300903,
           0.19946467876434326,
           0.30476582050323486,
           0.41544246673583984,
           0.5185802578926086,
           0.5534115433692932,
           0.31877413392066956,
           0.4126533567905426,
           0.4827556610107422,
           0.3893699645996094,
           0.38671836256980896,
           0.6368661522865295,
           0.553147554397583,
           0.47936055064201355,
           0.6478824019432068,
           0.5649700164794922,
           0.19156520068645477,
           0.5834119319915771,
           0.4276156425476074,
           0.350585013628006,
           0.35878491401672363,
           0.6247597932815552,
           0.5215622186660767,
           0.5094543695449829,
           0.41167235374450684,
           0.491055965423584,
           1.000000238418579,
           0.34559372067451477,
           0.4555816650390625,
           0.3266231417655945,
           0.20673248171806335,
           0.5248172283172607,
           0.17208805680274963,
           0.37792694568634033,
           0.49716562032699585,
           0.6105906367301941,
           0.5215367674827576,
           0.3590131402015686,
           0.5185548067092896,
           0.36668866872787476,
           0.382892906665802,
           0.27522918581962585,
           0.5344264507293701
          ],
          [
           0.3358921408653259,
           0.4924014210700989,
           0.2231374979019165,
           0.39455726742744446,
           0.42576006054878235,
           0.33546215295791626,
           0.5165958404541016,
           0.4762987494468689,
           0.24743442237377167,
           0.5287349820137024,
           0.33894670009613037,
           0.34649360179901123,
           0.31956350803375244,
           0.4158926010131836,
           0.29632535576820374,
           0.46180427074432373,
           0.5232614278793335,
           0.29186227917671204,
           0.46859902143478394,
           0.2826527953147888,
           0.543071985244751,
           0.4433303475379944,
           0.38915348052978516,
           0.4987102150917053,
           0.383205771446228,
           0.4611988663673401,
           0.2963550090789795,
           0.22375087440013885,
           0.36944493651390076,
           0.4361163377761841,
           0.27553868293762207,
           0.300881564617157,
           0.2898898422718048,
           0.1842307448387146,
           0.4050910472869873,
           0.3556286692619324,
           0.38357508182525635,
           0.4269518256187439,
           0.3995717763900757,
           0.3544712960720062,
           0.43529945611953735,
           0.23973047733306885,
           0.34038105607032776,
           0.42925527691841125,
           0.30509597063064575,
           0.31216198205947876,
           0.41261082887649536,
           0.3343025743961334,
           0.19025811553001404,
           0.3020961582660675,
           0.37496766448020935,
           0.3737215995788574,
           0.5299128890037537,
           0.38048142194747925,
           0.4558577835559845,
           0.23111999034881592,
           0.5517488718032837,
           0.3535476624965668,
           0.26991206407546997,
           0.385011225938797,
           0.298639178276062,
           0.4908386468887329,
           0.3436519503593445,
           0.4821327328681946,
           0.3073626160621643,
           0.36673855781555176,
           0.2765166759490967,
           0.39559289813041687,
           0.34559372067451477,
           0.9999998807907104,
           0.22425124049186707,
           0.2137458622455597,
           0.2729243040084839,
           0.4061766266822815,
           0.29200389981269836,
           0.3165837526321411,
           0.32664796710014343,
           0.46699297428131104,
           0.3573150038719177,
           0.23684915900230408,
           0.4164789617061615,
           0.23804572224617004,
           0.21257859468460083,
           0.2580488622188568,
           0.2751818299293518
          ],
          [
           0.7804611921310425,
           0.44765013456344604,
           0.144471675157547,
           0.4758215546607971,
           0.4089723825454712,
           0.41684263944625854,
           0.2368890345096588,
           0.44282883405685425,
           0.6043069362640381,
           0.41065549850463867,
           0.45939648151397705,
           0.49594593048095703,
           0.4415619373321533,
           0.5000417232513428,
           0.398568332195282,
           0.4293935000896454,
           0.30164197087287903,
           0.6465705037117004,
           0.3944411873817444,
           0.4745185077190399,
           0.34992480278015137,
           0.4638617932796478,
           0.4533338248729706,
           0.4735587537288666,
           0.4079037010669708,
           0.2278154194355011,
           0.3498366177082062,
           0.6688598394393921,
           0.42811018228530884,
           0.31760579347610474,
           0.6682726144790649,
           0.4280564785003662,
           0.42266932129859924,
           0.1457270085811615,
           0.1724645346403122,
           0.42168498039245605,
           0.4881817698478699,
           0.47009408473968506,
           0.4553837478160858,
           0.3540174067020416,
           0.40286511182785034,
           0.7384750843048096,
           0.4414628744125366,
           0.17922016978263855,
           0.2187190055847168,
           0.31122952699661255,
           0.3834992051124573,
           0.5781619548797607,
           0.39107510447502136,
           0.6382367610931396,
           0.3331370949745178,
           0.27384528517723083,
           0.31359803676605225,
           0.5435986518859863,
           0.4023992419242859,
           0.4345340430736542,
           0.5228511691093445,
           0.3614373803138733,
           0.2125990092754364,
           0.5257734060287476,
           0.464789479970932,
           0.21870271861553192,
           0.32298216223716736,
           0.4214877486228943,
           0.4218320846557617,
           0.35520708560943604,
           0.3873538672924042,
           0.4285678267478943,
           0.4555816650390625,
           0.22425124049186707,
           1.0000001192092896,
           0.18388631939888,
           0.20682638883590698,
           0.4257515072822571,
           0.1570560485124588,
           0.35229426622390747,
           0.4168393611907959,
           0.44851964712142944,
           0.4705856740474701,
           0.5937342047691345,
           0.3794095516204834,
           0.43222758173942566,
           0.438747763633728,
           0.34434986114501953,
           0.7728893756866455
          ],
          [
           0.3096091151237488,
           0.3084823489189148,
           0.25138282775878906,
           0.3051469624042511,
           0.24401047825813293,
           0.28107863664627075,
           0.36721497774124146,
           0.3219044804573059,
           0.2249266356229782,
           0.305338978767395,
           0.33812016248703003,
           0.26898929476737976,
           0.21888382732868195,
           0.3455393612384796,
           0.2491660863161087,
           0.3769749402999878,
           0.28462690114974976,
           0.2740790843963623,
           0.22202780842781067,
           0.24815499782562256,
           0.24152547121047974,
           0.3086559772491455,
           0.32606443762779236,
           0.35679882764816284,
           0.3077153265476227,
           0.2636866569519043,
           0.24014192819595337,
           0.22118732333183289,
           0.34880712628364563,
           0.2660512626171112,
           0.1629807949066162,
           0.28793370723724365,
           0.23912054300308228,
           0.2664821445941925,
           0.2674250602722168,
           0.33808237314224243,
           0.30528724193573,
           0.18201619386672974,
           0.2533143162727356,
           0.20987823605537415,
           0.2557082772254944,
           0.18695519864559174,
           0.21442478895187378,
           0.14002960920333862,
           0.2777937054634094,
           0.4148806631565094,
           0.4229868948459625,
           0.2386547029018402,
           0.2371378242969513,
           0.20287108421325684,
           0.40499818325042725,
           0.18996044993400574,
           0.28473299741744995,
           0.2920510768890381,
           0.3163531422615051,
           0.19057705998420715,
           0.32879573106765747,
           0.2355310320854187,
           0.20421022176742554,
           0.21890603005886078,
           0.27055472135543823,
           0.3177109956741333,
           0.20162725448608398,
           0.26243993639945984,
           0.3845422863960266,
           0.3997996151447296,
           0.21573230624198914,
           0.20624780654907227,
           0.3266231417655945,
           0.2137458622455597,
           0.18388631939888,
           0.9999998807907104,
           0.19602511823177338,
           0.2513655722141266,
           0.2610953152179718,
           0.23764291405677795,
           0.34187495708465576,
           0.38648873567581177,
           0.3916921019554138,
           0.15719550848007202,
           0.2574329674243927,
           0.24675363302230835,
           0.2338256537914276,
           0.23215186595916748,
           0.19248588383197784
          ],
          [
           0.22529131174087524,
           0.27555587887763977,
           0.2676019072532654,
           0.28129273653030396,
           0.3078583776950836,
           0.1744280904531479,
           0.5122074484825134,
           0.42212894558906555,
           0.2288062423467636,
           0.21370913088321686,
           0.20355214178562164,
           0.18480245769023895,
           0.2296656221151352,
           0.27506333589553833,
           0.17896129190921783,
           0.3358086943626404,
           0.42896103858947754,
           0.20569545030593872,
           0.20271044969558716,
           0.18654203414916992,
           0.4119219183921814,
           0.29352128505706787,
           0.20280039310455322,
           0.2806108593940735,
           0.25050362944602966,
           0.21775540709495544,
           0.19330158829689026,
           0.14540474116802216,
           0.21799418330192566,
           0.7082948684692383,
           0.23531144857406616,
           0.19140061736106873,
           0.18070060014724731,
           0.32663166522979736,
           0.24352963268756866,
           0.23238742351531982,
           0.31090104579925537,
           0.15608108043670654,
           0.15910331904888153,
           0.2602706551551819,
           0.3359193205833435,
           0.26288658380508423,
           0.12319552898406982,
           0.11984267830848694,
           0.2750958204269409,
           0.30328068137168884,
           0.26867595314979553,
           0.2053191065788269,
           0.18943464756011963,
           0.15824343264102936,
           0.2478676289319992,
           0.15143543481826782,
           0.4227157235145569,
           0.21842268109321594,
           0.1506868302822113,
           0.1492161601781845,
           0.26662158966064453,
           0.2316628098487854,
           0.8036908507347107,
           0.2432408630847931,
           0.2030600607395172,
           0.29287612438201904,
           0.1904459148645401,
           0.14087820053100586,
           0.17132775485515594,
           0.18860194087028503,
           0.16050277650356293,
           0.13014891743659973,
           0.20673248171806335,
           0.2729243040084839,
           0.20682638883590698,
           0.19602511823177338,
           0.9999998807907104,
           0.27634263038635254,
           0.4566238522529602,
           0.18252432346343994,
           0.351105272769928,
           0.4086730182170868,
           0.22780415415763855,
           0.13513176143169403,
           0.21294382214546204,
           0.17094069719314575,
           0.14744368195533752,
           0.23179730772972107,
           0.19128179550170898
          ],
          [
           0.6226018071174622,
           0.6051727533340454,
           0.10148151218891144,
           0.6376062631607056,
           0.4888501763343811,
           0.5591492652893066,
           0.2731326222419739,
           0.6424396634101868,
           0.5451114177703857,
           0.6345126628875732,
           0.5236161947250366,
           0.46936488151550293,
           0.41354578733444214,
           0.7422735691070557,
           0.48484086990356445,
           0.6280764937400818,
           0.3245506286621094,
           0.37452977895736694,
           0.5256253480911255,
           0.522000789642334,
           0.5188917517662048,
           0.6396835446357727,
           0.6001052260398865,
           0.6293671131134033,
           0.5662177801132202,
           0.3396878242492676,
           0.3585466742515564,
           0.5081080198287964,
           0.5558961033821106,
           0.3631289005279541,
           0.37578195333480835,
           0.5128405094146729,
           0.5264768600463867,
           0.16441279649734497,
           0.1852020025253296,
           0.5951100587844849,
           0.6315674781799316,
           0.5514332056045532,
           0.5482264161109924,
           0.45861339569091797,
           0.5103839039802551,
           0.35243648290634155,
           0.4809834361076355,
           0.16249023377895355,
           0.35077571868896484,
           0.35955139994621277,
           0.6187354326248169,
           0.5764285922050476,
           0.35550808906555176,
           0.4708147644996643,
           0.41566330194473267,
           0.7473840713500977,
           0.5521291494369507,
           0.6281794905662537,
           0.5212370753288269,
           0.38587528467178345,
           0.67298424243927,
           0.43559902906417847,
           0.2295096516609192,
           0.6155833601951599,
           0.5007375478744507,
           0.40935218334198,
           0.31219229102134705,
           0.5614618062973022,
           0.4494956433773041,
           0.46762073040008545,
           0.3863106667995453,
           0.514028787612915,
           0.5248172283172607,
           0.4061766266822815,
           0.4257515072822571,
           0.2513655722141266,
           0.27634263038635254,
           0.9999997019767761,
           0.11940165609121323,
           0.4637133479118347,
           0.462989866733551,
           0.6095991730690002,
           0.5351046323776245,
           0.42936134338378906,
           0.5546932816505432,
           0.4856794476509094,
           0.44405242800712585,
           0.33210211992263794,
           0.5104057788848877
          ],
          [
           0.18191726505756378,
           0.1877330243587494,
           0.5830217003822327,
           0.1942780762910843,
           0.26974743604660034,
           0.18816842138767242,
           0.7138203382492065,
           0.305120050907135,
           0.13732632994651794,
           0.17312276363372803,
           0.2193361073732376,
           0.20630061626434326,
           0.22173818945884705,
           0.18579265475273132,
           0.1255342960357666,
           0.23554810881614685,
           0.4411810040473938,
           0.2081429660320282,
           0.1629014015197754,
           0.1476220339536667,
           0.2593325972557068,
           0.20091915130615234,
           0.16605901718139648,
           0.24404984712600708,
           0.20768815279006958,
           0.2560892105102539,
           0.17952117323875427,
           0.11073716729879379,
           0.24698621034622192,
           0.6362943649291992,
           0.13680532574653625,
           0.13895758986473083,
           0.1646920144557953,
           0.3870905041694641,
           0.4012182950973511,
           0.17249110341072083,
           0.16081218421459198,
           0.1427817940711975,
           0.1263088583946228,
           0.10735621303319931,
           0.2880764305591583,
           0.2457890510559082,
           0.11248518526554108,
           0.18941128253936768,
           0.2545601725578308,
           0.6207771897315979,
           0.2864246964454651,
           0.14154799282550812,
           0.12677514553070068,
           0.1217157393693924,
           0.4546906352043152,
           0.09952933341264725,
           0.27640867233276367,
           0.14391493797302246,
           0.17566761374473572,
           0.13879762589931488,
           0.17764714360237122,
           0.23160243034362793,
           0.5132990479469299,
           0.2117786705493927,
           0.14538666605949402,
           0.43020230531692505,
           0.20181509852409363,
           0.14076539874076843,
           0.16741526126861572,
           0.3199526071548462,
           0.1715313196182251,
           0.11337755620479584,
           0.17208805680274963,
           0.29200389981269836,
           0.1570560485124588,
           0.2610953152179718,
           0.4566238522529602,
           0.11940165609121323,
           1.000000238418579,
           0.18006795644760132,
           0.26656806468963623,
           0.3319358825683594,
           0.1746159940958023,
           0.09170004725456238,
           0.17582517862319946,
           0.10111871361732483,
           0.13094988465309143,
           0.18487027287483215,
           0.16395515203475952
          ],
          [
           0.42043012380599976,
           0.3945530652999878,
           0.18056410551071167,
           0.4970349669456482,
           0.6380241513252258,
           0.4711337685585022,
           0.27263814210891724,
           0.4342418313026428,
           0.455585777759552,
           0.42926549911499023,
           0.3651639223098755,
           0.4946439862251282,
           0.3733983635902405,
           0.4604930877685547,
           0.3896416425704956,
           0.5168931484222412,
           0.26374220848083496,
           0.2960430383682251,
           0.4075995087623596,
           0.3216829299926758,
           0.32083258032798767,
           0.40346288681030273,
           0.3600887656211853,
           0.39095109701156616,
           0.5515035390853882,
           0.2456698715686798,
           0.2589326500892639,
           0.339199423789978,
           0.35491275787353516,
           0.27756404876708984,
           0.29320159554481506,
           0.5045018196105957,
           0.3642507791519165,
           0.1670205444097519,
           0.261730819940567,
           0.5313858389854431,
           0.5341742038726807,
           0.48840028047561646,
           0.481096476316452,
           0.39353448152542114,
           0.3805859684944153,
           0.2870821952819824,
           0.31937846541404724,
           0.19471965730190277,
           0.3833170533180237,
           0.22020435333251953,
           0.40678951144218445,
           0.436984658241272,
           0.3534391522407532,
           0.37714487314224243,
           0.23831066489219666,
           0.37836867570877075,
           0.4067946672439575,
           0.4654034972190857,
           0.3169969320297241,
           0.3329210877418518,
           0.43807435035705566,
           0.2949613034725189,
           0.12843464314937592,
           0.4876222014427185,
           0.47056591510772705,
           0.32502198219299316,
           0.3184313178062439,
           0.4602208435535431,
           0.26907140016555786,
           0.32237499952316284,
           0.41675007343292236,
           0.42365384101867676,
           0.37792694568634033,
           0.3165837526321411,
           0.35229426622390747,
           0.23764291405677795,
           0.18252432346343994,
           0.4637133479118347,
           0.18006795644760132,
           0.9999998807907104,
           0.279601514339447,
           0.3881171643733978,
           0.4629741609096527,
           0.31409400701522827,
           0.3723664879798889,
           0.40274667739868164,
           0.309872567653656,
           0.3479278087615967,
           0.4065941274166107
          ],
          [
           0.5000169277191162,
           0.47944176197052,
           0.20684926211833954,
           0.3694949150085449,
           0.4169422388076782,
           0.381381094455719,
           0.4244060516357422,
           0.5851209163665771,
           0.3460729718208313,
           0.4150714576244354,
           0.4840310215950012,
           0.4648929238319397,
           0.537042498588562,
           0.49958354234695435,
           0.3201540410518646,
           0.44248586893081665,
           0.377045601606369,
           0.3296136260032654,
           0.4254900813102722,
           0.3758906126022339,
           0.38568803668022156,
           0.44087570905685425,
           0.4352687895298004,
           0.5068886280059814,
           0.39229047298431396,
           0.3288332223892212,
           0.2995973229408264,
           0.3564717769622803,
           0.42033547163009644,
           0.3784385919570923,
           0.3315393030643463,
           0.32434317469596863,
           0.3978494107723236,
           0.22313717007637024,
           0.2467445433139801,
           0.3782724142074585,
           0.3778761625289917,
           0.3607843518257141,
           0.40292292833328247,
           0.43171226978302,
           0.5099121332168579,
           0.3863372206687927,
           0.3776809573173523,
           0.23411104083061218,
           0.30157655477523804,
           0.38655680418014526,
           0.4412238597869873,
           0.419580340385437,
           0.25857019424438477,
           0.38106560707092285,
           0.40458446741104126,
           0.3806137442588806,
           0.33102983236312866,
           0.4948679506778717,
           0.4605388045310974,
           0.40355241298675537,
           0.5008397698402405,
           0.5509974360466003,
           0.3414204716682434,
           0.47834789752960205,
           0.3159230351448059,
           0.3305733799934387,
           0.30713680386543274,
           0.46006226539611816,
           0.4776815176010132,
           0.42900264263153076,
           0.31628724932670593,
           0.3585130572319031,
           0.49716562032699585,
           0.32664796710014343,
           0.4168393611907959,
           0.34187495708465576,
           0.351105272769928,
           0.462989866733551,
           0.26656806468963623,
           0.279601514339447,
           0.9999997615814209,
           0.5091983675956726,
           0.3999190628528595,
           0.30258315801620483,
           0.3747860789299011,
           0.2770652770996094,
           0.34256285429000854,
           0.21763505041599274,
           0.4159739017486572
          ],
          [
           0.6303693056106567,
           0.6585021615028381,
           0.22502627968788147,
           0.5916772484779358,
           0.5070610642433167,
           0.4838813543319702,
           0.4913886785507202,
           0.6984498500823975,
           0.4641977548599243,
           0.5898790955543518,
           0.6339603066444397,
           0.5151246786117554,
           0.48883697390556335,
           0.7894937992095947,
           0.4095653295516968,
           0.6604663729667664,
           0.5658186078071594,
           0.4153828024864197,
           0.6045594215393066,
           0.5700981616973877,
           0.4995039701461792,
           0.6387208700180054,
           0.6417982578277588,
           0.8786026835441589,
           0.6074893474578857,
           0.4163491129875183,
           0.40667790174484253,
           0.46116894483566284,
           0.764030933380127,
           0.625458836555481,
           0.31165188550949097,
           0.4197838008403778,
           0.47311389446258545,
           0.23036420345306396,
           0.34604647755622864,
           0.5892071723937988,
           0.5592998266220093,
           0.5185390114784241,
           0.5095549821853638,
           0.36849918961524963,
           0.6422802209854126,
           0.45389777421951294,
           0.4494435489177704,
           0.23871538043022156,
           0.3903517723083496,
           0.670016884803772,
           0.7276792526245117,
           0.5442334413528442,
           0.3419065475463867,
           0.49431347846984863,
           0.7474350333213806,
           0.4067196249961853,
           0.5788246393203735,
           0.6321921944618225,
           0.7246730923652649,
           0.4096316695213318,
           0.7542375326156616,
           0.5017839670181274,
           0.3871729075908661,
           0.6071468591690063,
           0.47519415616989136,
           0.48883920907974243,
           0.3375478684902191,
           0.6549797058105469,
           0.681779146194458,
           0.6905353665351868,
           0.4235106110572815,
           0.49684950709342957,
           0.6105906367301941,
           0.46699297428131104,
           0.44851964712142944,
           0.38648873567581177,
           0.4086730182170868,
           0.6095991730690002,
           0.3319358825683594,
           0.3881171643733978,
           0.5091983675956726,
           0.9999999403953552,
           0.5386833548545837,
           0.40691158175468445,
           0.5682864785194397,
           0.4331761598587036,
           0.4520380198955536,
           0.34535494446754456,
           0.5390498638153076
          ],
          [
           0.5369583368301392,
           0.5072661638259888,
           0.15325653553009033,
           0.581058144569397,
           0.5216891765594482,
           0.49072808027267456,
           0.2785438001155853,
           0.5284766554832458,
           0.4727175831794739,
           0.606764554977417,
           0.5266121029853821,
           0.48849260807037354,
           0.37861180305480957,
           0.5959420204162598,
           0.5374822616577148,
           0.6481657028198242,
           0.33383333683013916,
           0.3882136344909668,
           0.466484934091568,
           0.5620714426040649,
           0.35451531410217285,
           0.5292212963104248,
           0.5680149793624878,
           0.5480148196220398,
           0.6530066728591919,
           0.296861469745636,
           0.4416726231575012,
           0.5176941156387329,
           0.505233645439148,
           0.3053206205368042,
           0.2755420207977295,
           0.5762856006622314,
           0.5283375978469849,
           0.13980220258235931,
           0.20760571956634521,
           0.606145977973938,
           0.637999415397644,
           0.5267198085784912,
           0.5061008930206299,
           0.4295651912689209,
           0.47122517228126526,
           0.46806100010871887,
           0.4398162066936493,
           0.18940922617912292,
           0.30587610602378845,
           0.3865589201450348,
           0.5920827984809875,
           0.6055667400360107,
           0.4055802822113037,
           0.4284854531288147,
           0.39355921745300293,
           0.40033167600631714,
           0.5503585934638977,
           0.5523704290390015,
           0.4949933886528015,
           0.439239501953125,
           0.6301310062408447,
           0.34298133850097656,
           0.19681110978126526,
           0.5370191931724548,
           0.6577631235122681,
           0.44527220726013184,
           0.27483630180358887,
           0.5439499616622925,
           0.45962852239608765,
           0.46293240785598755,
           0.4928795099258423,
           0.5322844386100769,
           0.5215367674827576,
           0.3573150038719177,
           0.4705856740474701,
           0.3916921019554138,
           0.22780415415763855,
           0.5351046323776245,
           0.1746159940958023,
           0.4629741609096527,
           0.3999190628528595,
           0.5386833548545837,
           1.0000001192092896,
           0.4393981993198395,
           0.5105499029159546,
           0.5913910865783691,
           0.5153517723083496,
           0.33297866582870483,
           0.5624837875366211
          ],
          [
           0.6572617292404175,
           0.6032978296279907,
           0.11183546483516693,
           0.436580091714859,
           0.3601216673851013,
           0.5478312969207764,
           0.17782175540924072,
           0.3719680607318878,
           0.609663724899292,
           0.5067662000656128,
           0.4894803762435913,
           0.4205171465873718,
           0.3852689564228058,
           0.46790117025375366,
           0.7184063196182251,
           0.3832366466522217,
           0.21570241451263428,
           0.5517017245292664,
           0.40243569016456604,
           0.8104141354560852,
           0.28734907507896423,
           0.40305447578430176,
           0.5037685036659241,
           0.42596960067749023,
           0.4461682438850403,
           0.2707115113735199,
           0.7576881647109985,
           0.8938462734222412,
           0.3447585701942444,
           0.2633744180202484,
           0.5296792984008789,
           0.45059430599212646,
           0.7227474451065063,
           0.1331741064786911,
           0.04839952662587166,
           0.46324390172958374,
           0.3875983953475952,
           0.45418480038642883,
           0.5352416634559631,
           0.4131461977958679,
           0.38601619005203247,
           0.35802000761032104,
           0.4984986186027527,
           0.07777906954288483,
           0.12235429883003235,
           0.22409933805465698,
           0.33743780851364136,
           0.6136995553970337,
           0.39192068576812744,
           0.8170182704925537,
           0.2764604389667511,
           0.2971338629722595,
           0.2832515835762024,
           0.5425615906715393,
           0.4039406478404999,
           0.7392427921295166,
           0.5900310277938843,
           0.32071059942245483,
           0.14331841468811035,
           0.48281824588775635,
           0.7372399568557739,
           0.17660784721374512,
           0.28774845600128174,
           0.42518022656440735,
           0.4062313437461853,
           0.3230140209197998,
           0.7448023557662964,
           0.41004982590675354,
           0.3590131402015686,
           0.23684915900230408,
           0.5937342047691345,
           0.15719550848007202,
           0.13513176143169403,
           0.42936134338378906,
           0.09170004725456238,
           0.31409400701522827,
           0.30258315801620483,
           0.40691158175468445,
           0.4393981993198395,
           0.9999998807907104,
           0.44340062141418457,
           0.7449454069137573,
           0.7753266096115112,
           0.38148462772369385,
           0.46133649349212646
          ],
          [
           0.5060127377510071,
           0.6185249090194702,
           0.15103010833263397,
           0.5669549703598022,
           0.3963523507118225,
           0.5555051565170288,
           0.32450926303863525,
           0.5582857131958008,
           0.406424343585968,
           0.6634175181388855,
           0.5311702489852905,
           0.4781695604324341,
           0.46676164865493774,
           0.594864010810852,
           0.527186393737793,
           0.5087490677833557,
           0.39077913761138916,
           0.368815541267395,
           0.5154475569725037,
           0.5312092304229736,
           0.41074344515800476,
           0.5928417444229126,
           0.5733848810195923,
           0.6044567823410034,
           0.5445629954338074,
           0.33936840295791626,
           0.42790257930755615,
           0.45750999450683594,
           0.5318167209625244,
           0.3744131028652191,
           0.29443204402923584,
           0.4759284257888794,
           0.47939085960388184,
           0.22986948490142822,
           0.1958656907081604,
           0.5182230472564697,
           0.4980943202972412,
           0.5565629005432129,
           0.5162415504455566,
           0.4586300253868103,
           0.4799495339393616,
           0.3705618381500244,
           0.4326174259185791,
           0.15895183384418488,
           0.2855171859264374,
           0.38413166999816895,
           0.5258830785751343,
           0.5459444522857666,
           0.27962493896484375,
           0.47621288895606995,
           0.42023390531539917,
           0.44468775391578674,
           0.4750164747238159,
           0.5834481716156006,
           0.5326963663101196,
           0.4376639425754547,
           0.7170733213424683,
           0.41071397066116333,
           0.2097545564174652,
           0.5359277725219727,
           0.4941948652267456,
           0.3900522291660309,
           0.32774680852890015,
           0.5581955909729004,
           0.4830324351787567,
           0.4687971770763397,
           0.393463134765625,
           0.5047237277030945,
           0.5185548067092896,
           0.4164789617061615,
           0.3794095516204834,
           0.2574329674243927,
           0.21294382214546204,
           0.5546932816505432,
           0.17582517862319946,
           0.3723664879798889,
           0.3747860789299011,
           0.5682864785194397,
           0.5105499029159546,
           0.44340062141418457,
           1.000000238418579,
           0.49635016918182373,
           0.4776172637939453,
           0.2338666021823883,
           0.4864344000816345
          ],
          [
           0.46842727065086365,
           0.53023362159729,
           0.0920533686876297,
           0.6942873001098633,
           0.38802510499954224,
           0.581895112991333,
           0.17460760474205017,
           0.4542753994464874,
           0.5562886595726013,
           0.5831496119499207,
           0.453696072101593,
           0.3787596821784973,
           0.35991400480270386,
           0.4957895278930664,
           0.8139832615852356,
           0.46966150403022766,
           0.21695855259895325,
           0.38305801153182983,
           0.4603499174118042,
           0.8636053800582886,
           0.29773908853530884,
           0.4794243574142456,
           0.525865912437439,
           0.44373202323913574,
           0.5028527975082397,
           0.28562217950820923,
           0.8226325511932373,
           0.8049036264419556,
           0.3817065358161926,
           0.2590022683143616,
           0.2970138192176819,
           0.6355594396591187,
           0.8213872909545898,
           0.16178181767463684,
           0.10944958031177521,
           0.5972403883934021,
           0.46382904052734375,
           0.541340708732605,
           0.543087363243103,
           0.4094429612159729,
           0.36676087975502014,
           0.4239828288555145,
           0.417971670627594,
           0.049763016402721405,
           0.16951532661914825,
           0.26505231857299805,
           0.42845702171325684,
           0.5362381339073181,
           0.38014471530914307,
           0.4674513339996338,
           0.29726579785346985,
           0.35349249839782715,
           0.3748829662799835,
           0.5639413595199585,
           0.41541093587875366,
           0.7534920573234558,
           0.5762518644332886,
           0.32070285081863403,
           0.14345894753932953,
           0.450145959854126,
           0.8225699663162231,
           0.26063644886016846,
           0.28865355253219604,
           0.4549713730812073,
           0.39949163794517517,
           0.3542617857456207,
           0.7846860885620117,
           0.540720522403717,
           0.36668866872787476,
           0.23804572224617004,
           0.43222758173942566,
           0.24675363302230835,
           0.17094069719314575,
           0.4856794476509094,
           0.10111871361732483,
           0.40274667739868164,
           0.2770652770996094,
           0.4331761598587036,
           0.5913910865783691,
           0.7449454069137573,
           0.49635016918182373,
           1,
           0.7996280193328857,
           0.3948056697845459,
           0.5266683101654053
          ],
          [
           0.5125228762626648,
           0.5720279216766357,
           0.11200395226478577,
           0.4466795325279236,
           0.3475503623485565,
           0.5421513319015503,
           0.21497607231140137,
           0.43644165992736816,
           0.46734365820884705,
           0.5486260056495667,
           0.7357612252235413,
           0.40919411182403564,
           0.35955610871315,
           0.5078551173210144,
           0.7744107842445374,
           0.44410961866378784,
           0.257809042930603,
           0.3908403813838959,
           0.3867529034614563,
           0.8963915109634399,
           0.2800138592720032,
           0.3741644024848938,
           0.5966478586196899,
           0.46845656633377075,
           0.5054270029067993,
           0.31853628158569336,
           0.8487648963928223,
           0.8280612826347351,
           0.40850406885147095,
           0.2945915162563324,
           0.3190404772758484,
           0.5421059131622314,
           0.8196649551391602,
           0.16017797589302063,
           0.06624189764261246,
           0.4886985421180725,
           0.4425296485424042,
           0.4141803979873657,
           0.46626394987106323,
           0.3524938225746155,
           0.43019339442253113,
           0.3942403793334961,
           0.41533130407333374,
           0.041184622794389725,
           0.14372065663337708,
           0.30312538146972656,
           0.4038863778114319,
           0.5628207921981812,
           0.318694531917572,
           0.5094825625419617,
           0.34821757674217224,
           0.2867245376110077,
           0.3137018084526062,
           0.4849587082862854,
           0.47415024042129517,
           0.7670319676399231,
           0.5848865509033203,
           0.3631075620651245,
           0.14326521754264832,
           0.4631674885749817,
           0.8098236918449402,
           0.23583050072193146,
           0.20513853430747986,
           0.4359472990036011,
           0.47727900743484497,
           0.37941694259643555,
           0.7703436613082886,
           0.4137512445449829,
           0.382892906665802,
           0.21257859468460083,
           0.438747763633728,
           0.2338256537914276,
           0.14744368195533752,
           0.44405242800712585,
           0.13094988465309143,
           0.309872567653656,
           0.34256285429000854,
           0.4520380198955536,
           0.5153517723083496,
           0.7753266096115112,
           0.4776172637939453,
           0.7996280193328857,
           1.000000238418579,
           0.2911043167114258,
           0.5035805106163025
          ],
          [
           0.39206433296203613,
           0.30118680000305176,
           0.12481939792633057,
           0.45557650923728943,
           0.33469492197036743,
           0.2922409772872925,
           0.2134122997522354,
           0.3084697723388672,
           0.6738390922546387,
           0.2826288342475891,
           0.27701535820961,
           0.2733064293861389,
           0.22827690839767456,
           0.3526288866996765,
           0.3081367611885071,
           0.3229783773422241,
           0.19406414031982422,
           0.38975971937179565,
           0.23723018169403076,
           0.3152833580970764,
           0.40328776836395264,
           0.31511372327804565,
           0.22440491616725922,
           0.267000675201416,
           0.32465916872024536,
           0.3036867678165436,
           0.2521878480911255,
           0.38873887062072754,
           0.2266688346862793,
           0.2716071307659149,
           0.32832133769989014,
           0.38189929723739624,
           0.2912852168083191,
           0.12431715428829193,
           0.17137563228607178,
           0.4334094524383545,
           0.29813069105148315,
           0.30625301599502563,
           0.32815539836883545,
           0.2823324203491211,
           0.28708648681640625,
           0.27961933612823486,
           0.2937878966331482,
           0.09381039440631866,
           0.20869579911231995,
           0.21399658918380737,
           0.3018500506877899,
           0.4146186113357544,
           0.7020070552825928,
           0.2956104278564453,
           0.20772215723991394,
           0.1989595890045166,
           0.3274611830711365,
           0.3573627769947052,
           0.20291081070899963,
           0.26849526166915894,
           0.3332254886627197,
           0.2338699847459793,
           0.2111756056547165,
           0.289213091135025,
           0.34015291929244995,
           0.24898235499858856,
           0.23424744606018066,
           0.2542225122451782,
           0.19090571999549866,
           0.21459969878196716,
           0.32711610198020935,
           0.28473788499832153,
           0.27522918581962585,
           0.2580488622188568,
           0.34434986114501953,
           0.23215186595916748,
           0.23179730772972107,
           0.33210211992263794,
           0.18487027287483215,
           0.3479278087615967,
           0.21763505041599274,
           0.34535494446754456,
           0.33297866582870483,
           0.38148462772369385,
           0.2338666021823883,
           0.3948056697845459,
           0.2911043167114258,
           0.9999997615814209,
           0.33734965324401855
          ],
          [
           0.5545259118080139,
           0.49879691004753113,
           0.11994941532611847,
           0.5387427806854248,
           0.40724384784698486,
           0.49266481399536133,
           0.24280890822410583,
           0.540637731552124,
           0.5053134560585022,
           0.5031472444534302,
           0.5109797120094299,
           0.5141249895095825,
           0.43807876110076904,
           0.6210758090019226,
           0.5031536221504211,
           0.500982940196991,
           0.3430766463279724,
           0.3945470154285431,
           0.5281229019165039,
           0.5708257555961609,
           0.38552767038345337,
           0.5293205976486206,
           0.572772204875946,
           0.5568355321884155,
           0.4474155604839325,
           0.24427184462547302,
           0.43918943405151367,
           0.5506766438484192,
           0.537635087966919,
           0.2852003872394562,
           0.30801960825920105,
           0.55609130859375,
           0.5575394630432129,
           0.13829094171524048,
           0.19527819752693176,
           0.47253960371017456,
           0.49834752082824707,
           0.5535389184951782,
           0.5163007378578186,
           0.3599725067615509,
           0.4998815357685089,
           0.8239699602127075,
           0.47282272577285767,
           0.20142516493797302,
           0.27008920907974243,
           0.3811742663383484,
           0.47102272510528564,
           0.5426664352416992,
           0.3632085919380188,
           0.4409094452857971,
           0.38709020614624023,
           0.3418310582637787,
           0.37631553411483765,
           0.5612220764160156,
           0.5094257593154907,
           0.4829980731010437,
           0.58974289894104,
           0.398277223110199,
           0.18746086955070496,
           0.6005148887634277,
           0.4966425895690918,
           0.2884678244590759,
           0.30917447805404663,
           0.5531398057937622,
           0.47806164622306824,
           0.45822015404701233,
           0.46018409729003906,
           0.5450857877731323,
           0.5344264507293701,
           0.2751818299293518,
           0.7728893756866455,
           0.19248588383197784,
           0.19128179550170898,
           0.5104057788848877,
           0.16395515203475952,
           0.4065941274166107,
           0.4159739017486572,
           0.5390498638153076,
           0.5624837875366211,
           0.46133649349212646,
           0.4864344000816345,
           0.5266683101654053,
           0.5035805106163025,
           0.33734965324401855,
           1.0000001192092896
          ]
         ]
        }
       ],
       "layout": {
        "coloraxis": {
         "colorbar": {
          "title": {
           "text": "Similarity Score"
          }
         },
         "colorscale": [
          [
           0,
           "rgb(247,252,240)"
          ],
          [
           0.125,
           "rgb(224,243,219)"
          ],
          [
           0.25,
           "rgb(204,235,197)"
          ],
          [
           0.375,
           "rgb(168,221,181)"
          ],
          [
           0.5,
           "rgb(123,204,196)"
          ],
          [
           0.625,
           "rgb(78,179,211)"
          ],
          [
           0.75,
           "rgb(43,140,190)"
          ],
          [
           0.875,
           "rgb(8,104,172)"
          ],
          [
           1,
           "rgb(8,64,129)"
          ]
         ]
        },
        "height": 800,
        "hoverlabel": {
         "bgcolor": "white",
         "font": {
          "family": "Rockwell",
          "size": 16
         }
        },
        "legend": {
         "title": {
          "text": "Trend"
         }
        },
        "margin": {
         "t": 60
        },
        "showlegend": true,
        "template": {
         "data": {
          "bar": [
           {
            "error_x": {
             "color": "#2a3f5f"
            },
            "error_y": {
             "color": "#2a3f5f"
            },
            "marker": {
             "line": {
              "color": "#E5ECF6",
              "width": 0.5
             },
             "pattern": {
              "fillmode": "overlay",
              "size": 10,
              "solidity": 0.2
             }
            },
            "type": "bar"
           }
          ],
          "barpolar": [
           {
            "marker": {
             "line": {
              "color": "#E5ECF6",
              "width": 0.5
             },
             "pattern": {
              "fillmode": "overlay",
              "size": 10,
              "solidity": 0.2
             }
            },
            "type": "barpolar"
           }
          ],
          "carpet": [
           {
            "aaxis": {
             "endlinecolor": "#2a3f5f",
             "gridcolor": "white",
             "linecolor": "white",
             "minorgridcolor": "white",
             "startlinecolor": "#2a3f5f"
            },
            "baxis": {
             "endlinecolor": "#2a3f5f",
             "gridcolor": "white",
             "linecolor": "white",
             "minorgridcolor": "white",
             "startlinecolor": "#2a3f5f"
            },
            "type": "carpet"
           }
          ],
          "choropleth": [
           {
            "colorbar": {
             "outlinewidth": 0,
             "ticks": ""
            },
            "type": "choropleth"
           }
          ],
          "contour": [
           {
            "colorbar": {
             "outlinewidth": 0,
             "ticks": ""
            },
            "colorscale": [
             [
              0,
              "#0d0887"
             ],
             [
              0.1111111111111111,
              "#46039f"
             ],
             [
              0.2222222222222222,
              "#7201a8"
             ],
             [
              0.3333333333333333,
              "#9c179e"
             ],
             [
              0.4444444444444444,
              "#bd3786"
             ],
             [
              0.5555555555555556,
              "#d8576b"
             ],
             [
              0.6666666666666666,
              "#ed7953"
             ],
             [
              0.7777777777777778,
              "#fb9f3a"
             ],
             [
              0.8888888888888888,
              "#fdca26"
             ],
             [
              1,
              "#f0f921"
             ]
            ],
            "type": "contour"
           }
          ],
          "contourcarpet": [
           {
            "colorbar": {
             "outlinewidth": 0,
             "ticks": ""
            },
            "type": "contourcarpet"
           }
          ],
          "heatmap": [
           {
            "colorbar": {
             "outlinewidth": 0,
             "ticks": ""
            },
            "colorscale": [
             [
              0,
              "#0d0887"
             ],
             [
              0.1111111111111111,
              "#46039f"
             ],
             [
              0.2222222222222222,
              "#7201a8"
             ],
             [
              0.3333333333333333,
              "#9c179e"
             ],
             [
              0.4444444444444444,
              "#bd3786"
             ],
             [
              0.5555555555555556,
              "#d8576b"
             ],
             [
              0.6666666666666666,
              "#ed7953"
             ],
             [
              0.7777777777777778,
              "#fb9f3a"
             ],
             [
              0.8888888888888888,
              "#fdca26"
             ],
             [
              1,
              "#f0f921"
             ]
            ],
            "type": "heatmap"
           }
          ],
          "heatmapgl": [
           {
            "colorbar": {
             "outlinewidth": 0,
             "ticks": ""
            },
            "colorscale": [
             [
              0,
              "#0d0887"
             ],
             [
              0.1111111111111111,
              "#46039f"
             ],
             [
              0.2222222222222222,
              "#7201a8"
             ],
             [
              0.3333333333333333,
              "#9c179e"
             ],
             [
              0.4444444444444444,
              "#bd3786"
             ],
             [
              0.5555555555555556,
              "#d8576b"
             ],
             [
              0.6666666666666666,
              "#ed7953"
             ],
             [
              0.7777777777777778,
              "#fb9f3a"
             ],
             [
              0.8888888888888888,
              "#fdca26"
             ],
             [
              1,
              "#f0f921"
             ]
            ],
            "type": "heatmapgl"
           }
          ],
          "histogram": [
           {
            "marker": {
             "pattern": {
              "fillmode": "overlay",
              "size": 10,
              "solidity": 0.2
             }
            },
            "type": "histogram"
           }
          ],
          "histogram2d": [
           {
            "colorbar": {
             "outlinewidth": 0,
             "ticks": ""
            },
            "colorscale": [
             [
              0,
              "#0d0887"
             ],
             [
              0.1111111111111111,
              "#46039f"
             ],
             [
              0.2222222222222222,
              "#7201a8"
             ],
             [
              0.3333333333333333,
              "#9c179e"
             ],
             [
              0.4444444444444444,
              "#bd3786"
             ],
             [
              0.5555555555555556,
              "#d8576b"
             ],
             [
              0.6666666666666666,
              "#ed7953"
             ],
             [
              0.7777777777777778,
              "#fb9f3a"
             ],
             [
              0.8888888888888888,
              "#fdca26"
             ],
             [
              1,
              "#f0f921"
             ]
            ],
            "type": "histogram2d"
           }
          ],
          "histogram2dcontour": [
           {
            "colorbar": {
             "outlinewidth": 0,
             "ticks": ""
            },
            "colorscale": [
             [
              0,
              "#0d0887"
             ],
             [
              0.1111111111111111,
              "#46039f"
             ],
             [
              0.2222222222222222,
              "#7201a8"
             ],
             [
              0.3333333333333333,
              "#9c179e"
             ],
             [
              0.4444444444444444,
              "#bd3786"
             ],
             [
              0.5555555555555556,
              "#d8576b"
             ],
             [
              0.6666666666666666,
              "#ed7953"
             ],
             [
              0.7777777777777778,
              "#fb9f3a"
             ],
             [
              0.8888888888888888,
              "#fdca26"
             ],
             [
              1,
              "#f0f921"
             ]
            ],
            "type": "histogram2dcontour"
           }
          ],
          "mesh3d": [
           {
            "colorbar": {
             "outlinewidth": 0,
             "ticks": ""
            },
            "type": "mesh3d"
           }
          ],
          "parcoords": [
           {
            "line": {
             "colorbar": {
              "outlinewidth": 0,
              "ticks": ""
             }
            },
            "type": "parcoords"
           }
          ],
          "pie": [
           {
            "automargin": true,
            "type": "pie"
           }
          ],
          "scatter": [
           {
            "fillpattern": {
             "fillmode": "overlay",
             "size": 10,
             "solidity": 0.2
            },
            "type": "scatter"
           }
          ],
          "scatter3d": [
           {
            "line": {
             "colorbar": {
              "outlinewidth": 0,
              "ticks": ""
             }
            },
            "marker": {
             "colorbar": {
              "outlinewidth": 0,
              "ticks": ""
             }
            },
            "type": "scatter3d"
           }
          ],
          "scattercarpet": [
           {
            "marker": {
             "colorbar": {
              "outlinewidth": 0,
              "ticks": ""
             }
            },
            "type": "scattercarpet"
           }
          ],
          "scattergeo": [
           {
            "marker": {
             "colorbar": {
              "outlinewidth": 0,
              "ticks": ""
             }
            },
            "type": "scattergeo"
           }
          ],
          "scattergl": [
           {
            "marker": {
             "colorbar": {
              "outlinewidth": 0,
              "ticks": ""
             }
            },
            "type": "scattergl"
           }
          ],
          "scattermapbox": [
           {
            "marker": {
             "colorbar": {
              "outlinewidth": 0,
              "ticks": ""
             }
            },
            "type": "scattermapbox"
           }
          ],
          "scatterpolar": [
           {
            "marker": {
             "colorbar": {
              "outlinewidth": 0,
              "ticks": ""
             }
            },
            "type": "scatterpolar"
           }
          ],
          "scatterpolargl": [
           {
            "marker": {
             "colorbar": {
              "outlinewidth": 0,
              "ticks": ""
             }
            },
            "type": "scatterpolargl"
           }
          ],
          "scatterternary": [
           {
            "marker": {
             "colorbar": {
              "outlinewidth": 0,
              "ticks": ""
             }
            },
            "type": "scatterternary"
           }
          ],
          "surface": [
           {
            "colorbar": {
             "outlinewidth": 0,
             "ticks": ""
            },
            "colorscale": [
             [
              0,
              "#0d0887"
             ],
             [
              0.1111111111111111,
              "#46039f"
             ],
             [
              0.2222222222222222,
              "#7201a8"
             ],
             [
              0.3333333333333333,
              "#9c179e"
             ],
             [
              0.4444444444444444,
              "#bd3786"
             ],
             [
              0.5555555555555556,
              "#d8576b"
             ],
             [
              0.6666666666666666,
              "#ed7953"
             ],
             [
              0.7777777777777778,
              "#fb9f3a"
             ],
             [
              0.8888888888888888,
              "#fdca26"
             ],
             [
              1,
              "#f0f921"
             ]
            ],
            "type": "surface"
           }
          ],
          "table": [
           {
            "cells": {
             "fill": {
              "color": "#EBF0F8"
             },
             "line": {
              "color": "white"
             }
            },
            "header": {
             "fill": {
              "color": "#C8D4E3"
             },
             "line": {
              "color": "white"
             }
            },
            "type": "table"
           }
          ]
         },
         "layout": {
          "annotationdefaults": {
           "arrowcolor": "#2a3f5f",
           "arrowhead": 0,
           "arrowwidth": 1
          },
          "autotypenumbers": "strict",
          "coloraxis": {
           "colorbar": {
            "outlinewidth": 0,
            "ticks": ""
           }
          },
          "colorscale": {
           "diverging": [
            [
             0,
             "#8e0152"
            ],
            [
             0.1,
             "#c51b7d"
            ],
            [
             0.2,
             "#de77ae"
            ],
            [
             0.3,
             "#f1b6da"
            ],
            [
             0.4,
             "#fde0ef"
            ],
            [
             0.5,
             "#f7f7f7"
            ],
            [
             0.6,
             "#e6f5d0"
            ],
            [
             0.7,
             "#b8e186"
            ],
            [
             0.8,
             "#7fbc41"
            ],
            [
             0.9,
             "#4d9221"
            ],
            [
             1,
             "#276419"
            ]
           ],
           "sequential": [
            [
             0,
             "#0d0887"
            ],
            [
             0.1111111111111111,
             "#46039f"
            ],
            [
             0.2222222222222222,
             "#7201a8"
            ],
            [
             0.3333333333333333,
             "#9c179e"
            ],
            [
             0.4444444444444444,
             "#bd3786"
            ],
            [
             0.5555555555555556,
             "#d8576b"
            ],
            [
             0.6666666666666666,
             "#ed7953"
            ],
            [
             0.7777777777777778,
             "#fb9f3a"
            ],
            [
             0.8888888888888888,
             "#fdca26"
            ],
            [
             1,
             "#f0f921"
            ]
           ],
           "sequentialminus": [
            [
             0,
             "#0d0887"
            ],
            [
             0.1111111111111111,
             "#46039f"
            ],
            [
             0.2222222222222222,
             "#7201a8"
            ],
            [
             0.3333333333333333,
             "#9c179e"
            ],
            [
             0.4444444444444444,
             "#bd3786"
            ],
            [
             0.5555555555555556,
             "#d8576b"
            ],
            [
             0.6666666666666666,
             "#ed7953"
            ],
            [
             0.7777777777777778,
             "#fb9f3a"
            ],
            [
             0.8888888888888888,
             "#fdca26"
            ],
            [
             1,
             "#f0f921"
            ]
           ]
          },
          "colorway": [
           "#636efa",
           "#EF553B",
           "#00cc96",
           "#ab63fa",
           "#FFA15A",
           "#19d3f3",
           "#FF6692",
           "#B6E880",
           "#FF97FF",
           "#FECB52"
          ],
          "font": {
           "color": "#2a3f5f"
          },
          "geo": {
           "bgcolor": "white",
           "lakecolor": "white",
           "landcolor": "#E5ECF6",
           "showlakes": true,
           "showland": true,
           "subunitcolor": "white"
          },
          "hoverlabel": {
           "align": "left"
          },
          "hovermode": "closest",
          "mapbox": {
           "style": "light"
          },
          "paper_bgcolor": "white",
          "plot_bgcolor": "#E5ECF6",
          "polar": {
           "angularaxis": {
            "gridcolor": "white",
            "linecolor": "white",
            "ticks": ""
           },
           "bgcolor": "#E5ECF6",
           "radialaxis": {
            "gridcolor": "white",
            "linecolor": "white",
            "ticks": ""
           }
          },
          "scene": {
           "xaxis": {
            "backgroundcolor": "#E5ECF6",
            "gridcolor": "white",
            "gridwidth": 2,
            "linecolor": "white",
            "showbackground": true,
            "ticks": "",
            "zerolinecolor": "white"
           },
           "yaxis": {
            "backgroundcolor": "#E5ECF6",
            "gridcolor": "white",
            "gridwidth": 2,
            "linecolor": "white",
            "showbackground": true,
            "ticks": "",
            "zerolinecolor": "white"
           },
           "zaxis": {
            "backgroundcolor": "#E5ECF6",
            "gridcolor": "white",
            "gridwidth": 2,
            "linecolor": "white",
            "showbackground": true,
            "ticks": "",
            "zerolinecolor": "white"
           }
          },
          "shapedefaults": {
           "line": {
            "color": "#2a3f5f"
           }
          },
          "ternary": {
           "aaxis": {
            "gridcolor": "white",
            "linecolor": "white",
            "ticks": ""
           },
           "baxis": {
            "gridcolor": "white",
            "linecolor": "white",
            "ticks": ""
           },
           "bgcolor": "#E5ECF6",
           "caxis": {
            "gridcolor": "white",
            "linecolor": "white",
            "ticks": ""
           }
          },
          "title": {
           "x": 0.05
          },
          "xaxis": {
           "automargin": true,
           "gridcolor": "white",
           "linecolor": "white",
           "ticks": "",
           "title": {
            "standoff": 15
           },
           "zerolinecolor": "white",
           "zerolinewidth": 2
          },
          "yaxis": {
           "automargin": true,
           "gridcolor": "white",
           "linecolor": "white",
           "ticks": "",
           "title": {
            "standoff": 15
           },
           "zerolinecolor": "white",
           "zerolinewidth": 2
          }
         }
        },
        "title": {
         "font": {
          "color": "Black",
          "size": 22
         },
         "text": "<b>Similarity Matrix</b>",
         "x": 0.55,
         "xanchor": "center",
         "y": 0.95,
         "yanchor": "top"
        },
        "width": 800,
        "xaxis": {
         "anchor": "y",
         "constrain": "domain",
         "domain": [
          0,
          1
         ],
         "scaleanchor": "y"
        },
        "yaxis": {
         "anchor": "x",
         "autorange": "reversed",
         "constrain": "domain",
         "domain": [
          0,
          1
         ]
        }
       }
      }
     },
     "metadata": {},
     "output_type": "display_data"
    }
   ],
   "source": [
    "topic_model_positive.visualize_heatmap()"
   ]
  },
  {
   "cell_type": "code",
   "execution_count": 15,
   "metadata": {},
   "outputs": [
    {
     "data": {
      "application/vnd.plotly.v1+json": {
       "config": {
        "plotlyServerURL": "https://plot.ly"
       },
       "data": [
        {
         "coloraxis": "coloraxis",
         "hovertemplate": "x: %{x}<br>y: %{y}<br>Similarity Score: %{z}<extra></extra>",
         "name": "0",
         "type": "heatmap",
         "x": [
          "0_this_game_my",
          "1_warframe_and_to",
          "2_bugs_the_devs",
          "3_grind_grindy_grinding",
          "4_player_new_the",
          "5_money_items_any",
          "6_review_reviews_people",
          "7_missions_mission_the",
          "8_enemies_sent_jays",
          "9_free_game_is",
          "10_space_ninja_ninjas",
          "11_farming_farm_simulator",
          "12_cocaine_heroin_addicting",
          "13_knows_secrets_false",
          "14_quest_quests_story",
          "15_trespassers_keys_mere",
          "16_they_pure_know",
          "17_impurity_cleanse_vor",
          "18_bound_forever_void",
          "19_scavenge_sacred_realm",
          "20_resist_lost_tenno",
          "21_destroyed_janus_key",
          "22_stalker_his_murderer",
          "23_received_product_free",
          "24_pay_win_to",
          "25_platinum_currency_buy",
          "26_pvp_in_hordes"
         ],
         "xaxis": "x",
         "y": [
          "0_this_game_my",
          "1_warframe_and_to",
          "2_bugs_the_devs",
          "3_grind_grindy_grinding",
          "4_player_new_the",
          "5_money_items_any",
          "6_review_reviews_people",
          "7_missions_mission_the",
          "8_enemies_sent_jays",
          "9_free_game_is",
          "10_space_ninja_ninjas",
          "11_farming_farm_simulator",
          "12_cocaine_heroin_addicting",
          "13_knows_secrets_false",
          "14_quest_quests_story",
          "15_trespassers_keys_mere",
          "16_they_pure_know",
          "17_impurity_cleanse_vor",
          "18_bound_forever_void",
          "19_scavenge_sacred_realm",
          "20_resist_lost_tenno",
          "21_destroyed_janus_key",
          "22_stalker_his_murderer",
          "23_received_product_free",
          "24_pay_win_to",
          "25_platinum_currency_buy",
          "26_pvp_in_hordes"
         ],
         "yaxis": "y",
         "z": [
          [
           0.9999998211860657,
           0.5018842220306396,
           0.5626627802848816,
           0.5999345183372498,
           0.6192928552627563,
           0.5405294299125671,
           0.5794042348861694,
           0.5378433465957642,
           0.483818918466568,
           0.5423827171325684,
           0.48618996143341064,
           0.5871816873550415,
           0.6747034788131714,
           0.24678322672843933,
           0.5274469256401062,
           0.26511114835739136,
           0.1902095377445221,
           0.3357236683368683,
           0.26020926237106323,
           0.21095579862594604,
           0.2886964678764343,
           0.3586917519569397,
           0.4236854314804077,
           0.42229950428009033,
           0.5064945816993713,
           0.3859517574310303,
           0.446621298789978
          ],
          [
           0.5018842220306396,
           0.9999999403953552,
           0.5401773452758789,
           0.523902416229248,
           0.5125985145568848,
           0.47523629665374756,
           0.4700723886489868,
           0.5713772773742676,
           0.5183231830596924,
           0.44667884707450867,
           0.45199888944625854,
           0.5346829295158386,
           0.3621702194213867,
           0.05573777109384537,
           0.47959959506988525,
           0.053351886570453644,
           -0.01962440460920334,
           0.04977486655116081,
           0.09815153479576111,
           0.07949235290288925,
           0.045461442321538925,
           0.1750164031982422,
           0.21043120324611664,
           0.4318172335624695,
           0.3290398120880127,
           0.45519793033599854,
           0.5392627716064453
          ],
          [
           0.5626627802848816,
           0.5401773452758789,
           1.000000238418579,
           0.5219513773918152,
           0.689079999923706,
           0.45453256368637085,
           0.6375664472579956,
           0.6554719805717468,
           0.3394923806190491,
           0.5511173009872437,
           0.28340280055999756,
           0.5303995609283447,
           0.40042728185653687,
           0.22773587703704834,
           0.5641483068466187,
           0.17741407454013824,
           0.0852859765291214,
           0.17947065830230713,
           0.1202416867017746,
           0.1052950918674469,
           0.2001877725124359,
           0.16468164324760437,
           0.16566453874111176,
           0.49899929761886597,
           0.3883900046348572,
           0.37635400891304016,
           0.5112216472625732
          ],
          [
           0.5999345183372498,
           0.523902416229248,
           0.5219513773918152,
           0.9999998807907104,
           0.6102120876312256,
           0.5361696481704712,
           0.44003674387931824,
           0.6316077709197998,
           0.43497002124786377,
           0.49136295914649963,
           0.34247222542762756,
           0.6691787242889404,
           0.5860862731933594,
           0.014018703252077103,
           0.4702392816543579,
           0.16466595232486725,
           0.16077814996242523,
           0.15062397718429565,
           0.0714290589094162,
           0.14510035514831543,
           0.17069707810878754,
           0.16318412125110626,
           0.18720643222332,
           0.3429718613624573,
           0.38859784603118896,
           0.4551341235637665,
           0.4833463430404663
          ],
          [
           0.6192928552627563,
           0.5125985145568848,
           0.689079999923706,
           0.6102120876312256,
           1,
           0.5082669854164124,
           0.5487440824508667,
           0.5968305468559265,
           0.42383766174316406,
           0.5534380674362183,
           0.28495270013809204,
           0.5752881765365601,
           0.4865673780441284,
           0.10422901064157486,
           0.5649583339691162,
           0.23637263476848602,
           0.086637943983078,
           0.1530206948518753,
           0.06399194896221161,
           0.12852542102336884,
           0.165956512093544,
           0.156693696975708,
           0.18838463723659515,
           0.3798987865447998,
           0.4129384756088257,
           0.43096810579299927,
           0.5055794715881348
          ],
          [
           0.5405294299125671,
           0.47523629665374756,
           0.45453256368637085,
           0.5361696481704712,
           0.5082669854164124,
           1.000000238418579,
           0.42437854409217834,
           0.44152170419692993,
           0.2823873460292816,
           0.6586592793464661,
           0.25086522102355957,
           0.529679536819458,
           0.46865934133529663,
           0.038902636617422104,
           0.3704288601875305,
           0.22155597805976868,
           0.044548399746418,
           0.174180805683136,
           0.1050487831234932,
           0.08828070759773254,
           0.10575519502162933,
           0.1767304241657257,
           0.07896215468645096,
           0.5924431085586548,
           0.722009539604187,
           0.635104775428772,
           0.4053891897201538
          ],
          [
           0.5794042348861694,
           0.4700723886489868,
           0.6375664472579956,
           0.44003674387931824,
           0.5487440824508667,
           0.42437854409217834,
           1.0000001192092896,
           0.4109257161617279,
           0.303951233625412,
           0.45630109310150146,
           0.28752124309539795,
           0.4332374334335327,
           0.37135133147239685,
           0.19011476635932922,
           0.45330601930618286,
           0.1287582814693451,
           0.15006594359874725,
           0.20047520101070404,
           0.11701682209968567,
           0.11816651374101639,
           0.2519413232803345,
           0.19882363080978394,
           0.15123365819454193,
           0.4386800527572632,
           0.42592954635620117,
           0.3941039443016052,
           0.4356065094470978
          ],
          [
           0.5378433465957642,
           0.5713772773742676,
           0.6554719805717468,
           0.6316077709197998,
           0.5968305468559265,
           0.44152170419692993,
           0.4109257161617279,
           0.9999999403953552,
           0.4448857307434082,
           0.44367873668670654,
           0.4409012198448181,
           0.5898585915565491,
           0.44493234157562256,
           0.19157704710960388,
           0.6402568817138672,
           0.1735873818397522,
           0.05137881264090538,
           0.10242881625890732,
           0.14258621633052826,
           0.15783575177192688,
           0.17274537682533264,
           0.21338461339473724,
           0.20370438694953918,
           0.35227060317993164,
           0.2895483374595642,
           0.38826465606689453,
           0.4440506398677826
          ],
          [
           0.483818918466568,
           0.5183231830596924,
           0.3394923806190491,
           0.43497002124786377,
           0.42383766174316406,
           0.2823873460292816,
           0.303951233625412,
           0.4448857307434082,
           0.9999999403953552,
           0.24981769919395447,
           0.5652676820755005,
           0.4864196181297302,
           0.3372220993041992,
           0.22909744083881378,
           0.3413390517234802,
           0.28971609473228455,
           0.11561731994152069,
           0.2421986162662506,
           0.14968504011631012,
           0.21438191831111908,
           0.27857184410095215,
           0.24000133574008942,
           0.48679736256599426,
           0.19979289174079895,
           0.22457759082317352,
           0.34429270029067993,
           0.39477962255477905
          ],
          [
           0.5423827171325684,
           0.44667884707450867,
           0.5511173009872437,
           0.49136295914649963,
           0.5534380674362183,
           0.6586592793464661,
           0.45630109310150146,
           0.44367873668670654,
           0.24981769919395447,
           0.9999998807907104,
           0.26128679513931274,
           0.5092241168022156,
           0.4637645483016968,
           0.08016407489776611,
           0.3475587069988251,
           0.19535315036773682,
           0.06984563916921616,
           0.13586148619651794,
           0.12609481811523438,
           0.11457213014364243,
           0.11630359292030334,
           0.10070882737636566,
           0.05782120302319527,
           0.7587146162986755,
           0.6545968651771545,
           0.41780173778533936,
           0.43725070357322693
          ],
          [
           0.48618996143341064,
           0.45199888944625854,
           0.28340280055999756,
           0.34247222542762756,
           0.28495270013809204,
           0.25086522102355957,
           0.28752124309539795,
           0.4409012198448181,
           0.5652676820755005,
           0.26128679513931274,
           0.9999999403953552,
           0.39346420764923096,
           0.3312773108482361,
           0.2558901607990265,
           0.35723087191581726,
           0.21337755024433136,
           0.1904149055480957,
           0.25645631551742554,
           0.1831430196762085,
           0.1990886628627777,
           0.21535244584083557,
           0.16656042635440826,
           0.3687041699886322,
           0.19192251563072205,
           0.19435426592826843,
           0.21447107195854187,
           0.2521972060203552
          ],
          [
           0.5871816873550415,
           0.5346829295158386,
           0.5303995609283447,
           0.6691787242889404,
           0.5752881765365601,
           0.529679536819458,
           0.4332374334335327,
           0.5898585915565491,
           0.4864196181297302,
           0.5092241168022156,
           0.39346420764923096,
           1,
           0.47061729431152344,
           0.1430465430021286,
           0.47275078296661377,
           0.16011184453964233,
           0.21271219849586487,
           0.22397319972515106,
           0.07016143947839737,
           0.21293845772743225,
           0.16724008321762085,
           0.1932390034198761,
           0.20922023057937622,
           0.39434605836868286,
           0.4063379168510437,
           0.45658838748931885,
           0.5258768796920776
          ],
          [
           0.6747034788131714,
           0.3621702194213867,
           0.40042728185653687,
           0.5860862731933594,
           0.4865673780441284,
           0.46865934133529663,
           0.37135133147239685,
           0.44493234157562256,
           0.3372220993041992,
           0.4637645483016968,
           0.3312773108482361,
           0.47061729431152344,
           0.9999997615814209,
           0.1000923216342926,
           0.38374269008636475,
           0.25274282693862915,
           0.1758594810962677,
           0.21553580462932587,
           0.14903508126735687,
           0.1624072790145874,
           0.16111990809440613,
           0.1762302815914154,
           0.23540836572647095,
           0.34756430983543396,
           0.34574317932128906,
           0.34804436564445496,
           0.32612669467926025
          ],
          [
           0.24678322672843933,
           0.05573777109384537,
           0.22773587703704834,
           0.014018703252077103,
           0.10422901064157486,
           0.038902636617422104,
           0.19011476635932922,
           0.19157704710960388,
           0.22909744083881378,
           0.08016407489776611,
           0.2558901607990265,
           0.1430465430021286,
           0.1000923216342926,
           1.000000238418579,
           0.3331184685230255,
           0.15331745147705078,
           0.4001719355583191,
           0.37719035148620605,
           0.3163107633590698,
           0.26042261719703674,
           0.30848953127861023,
           0.2574518620967865,
           0.24233481287956238,
           0.07728517055511475,
           0.14736226201057434,
           0.04300663620233536,
           0.09330319613218307
          ],
          [
           0.5274469256401062,
           0.47959959506988525,
           0.5641483068466187,
           0.4702392816543579,
           0.5649583339691162,
           0.3704288601875305,
           0.45330601930618286,
           0.6402568817138672,
           0.3413390517234802,
           0.3475587069988251,
           0.35723087191581726,
           0.47275078296661377,
           0.38374269008636475,
           0.3331184685230255,
           0.9999998807907104,
           0.09772539138793945,
           0.1442185491323471,
           0.078057661652565,
           0.21554294228553772,
           0.23551183938980103,
           0.1963491439819336,
           0.31546658277511597,
           0.30241161584854126,
           0.28654056787490845,
           0.30403146147727966,
           0.3510030210018158,
           0.3697769045829773
          ],
          [
           0.26511114835739136,
           0.053351886570453644,
           0.17741407454013824,
           0.16466595232486725,
           0.23637263476848602,
           0.22155597805976868,
           0.1287582814693451,
           0.1735873818397522,
           0.28971609473228455,
           0.19535315036773682,
           0.21337755024433136,
           0.16011184453964233,
           0.25274282693862915,
           0.15331745147705078,
           0.09772539138793945,
           1,
           0.17151011526584625,
           0.32376134395599365,
           0.06136741861701012,
           0.30913621187210083,
           0.48448446393013,
           0.22285090386867523,
           0.19284777343273163,
           0.13095085322856903,
           0.2131509780883789,
           0.16236722469329834,
           0.07253214716911316
          ],
          [
           0.1902095377445221,
           -0.01962440460920334,
           0.0852859765291214,
           0.16077814996242523,
           0.086637943983078,
           0.044548399746418,
           0.15006594359874725,
           0.05137881264090538,
           0.11561731994152069,
           0.06984563916921616,
           0.1904149055480957,
           0.21271219849586487,
           0.1758594810962677,
           0.4001719355583191,
           0.1442185491323471,
           0.17151011526584625,
           0.9999999403953552,
           0.4058269262313843,
           0.09274399280548096,
           0.23745985329151154,
           0.16652825474739075,
           0.06434444338083267,
           0.118254154920578,
           0.042023591697216034,
           0.08744724094867706,
           0.10487823933362961,
           0.07603184133768082
          ],
          [
           0.3357236683368683,
           0.04977486655116081,
           0.17947065830230713,
           0.15062397718429565,
           0.1530206948518753,
           0.174180805683136,
           0.20047520101070404,
           0.10242881625890732,
           0.2421986162662506,
           0.13586148619651794,
           0.25645631551742554,
           0.22397319972515106,
           0.21553580462932587,
           0.37719035148620605,
           0.078057661652565,
           0.32376134395599365,
           0.4058269262313843,
           0.9999997019767761,
           0.15671327710151672,
           0.24983736872673035,
           0.26156967878341675,
           0.2215014100074768,
           0.21052321791648865,
           0.12486571818590164,
           0.15821309387683868,
           0.19956859946250916,
           0.15104898810386658
          ],
          [
           0.26020926237106323,
           0.09815153479576111,
           0.1202416867017746,
           0.0714290589094162,
           0.06399194896221161,
           0.1050487831234932,
           0.11701682209968567,
           0.14258621633052826,
           0.14968504011631012,
           0.12609481811523438,
           0.1831430196762085,
           0.07016143947839737,
           0.14903508126735687,
           0.3163107633590698,
           0.21554294228553772,
           0.06136741861701012,
           0.09274399280548096,
           0.15671327710151672,
           0.9999998807907104,
           0.1630355715751648,
           0.1551491618156433,
           0.41903164982795715,
           0.16448818147182465,
           0.08667074888944626,
           0.09778475016355515,
           0.06718827039003372,
           0.08058983087539673
          ],
          [
           0.21095579862594604,
           0.07949235290288925,
           0.1052950918674469,
           0.14510035514831543,
           0.12852542102336884,
           0.08828070759773254,
           0.11816651374101639,
           0.15783575177192688,
           0.21438191831111908,
           0.11457213014364243,
           0.1990886628627777,
           0.21293845772743225,
           0.1624072790145874,
           0.26042261719703674,
           0.23551183938980103,
           0.30913621187210083,
           0.23745985329151154,
           0.24983736872673035,
           0.1630355715751648,
           1.000000238418579,
           0.45190340280532837,
           0.22244589030742645,
           0.1599278450012207,
           0.04654615372419357,
           0.12458819150924683,
           0.17008936405181885,
           0.17451076209545135
          ],
          [
           0.2886964678764343,
           0.045461442321538925,
           0.2001877725124359,
           0.17069707810878754,
           0.165956512093544,
           0.10575519502162933,
           0.2519413232803345,
           0.17274537682533264,
           0.27857184410095215,
           0.11630359292030334,
           0.21535244584083557,
           0.16724008321762085,
           0.16111990809440613,
           0.30848953127861023,
           0.1963491439819336,
           0.48448446393013,
           0.16652825474739075,
           0.26156967878341675,
           0.1551491618156433,
           0.45190340280532837,
           1.000000238418579,
           0.18774941563606262,
           0.12295396625995636,
           0.058539245277643204,
           0.24916888773441315,
           0.16825568675994873,
           0.14170634746551514
          ],
          [
           0.3586917519569397,
           0.1750164031982422,
           0.16468164324760437,
           0.16318412125110626,
           0.156693696975708,
           0.1767304241657257,
           0.19882363080978394,
           0.21338461339473724,
           0.24000133574008942,
           0.10070882737636566,
           0.16656042635440826,
           0.1932390034198761,
           0.1762302815914154,
           0.2574518620967865,
           0.31546658277511597,
           0.22285090386867523,
           0.06434444338083267,
           0.2215014100074768,
           0.41903164982795715,
           0.22244589030742645,
           0.18774941563606262,
           1.0000001192092896,
           0.2914483845233917,
           0.1866942048072815,
           0.12437024712562561,
           0.1740042269229889,
           0.1330227553844452
          ],
          [
           0.4236854314804077,
           0.21043120324611664,
           0.16566453874111176,
           0.18720643222332,
           0.18838463723659515,
           0.07896215468645096,
           0.15123365819454193,
           0.20370438694953918,
           0.48679736256599426,
           0.05782120302319527,
           0.3687041699886322,
           0.20922023057937622,
           0.23540836572647095,
           0.24233481287956238,
           0.30241161584854126,
           0.19284777343273163,
           0.118254154920578,
           0.21052321791648865,
           0.16448818147182465,
           0.1599278450012207,
           0.12295396625995636,
           0.2914483845233917,
           1.0000001192092896,
           0.11701659858226776,
           0.09247610718011856,
           0.14423507452011108,
           0.09991799294948578
          ],
          [
           0.42229950428009033,
           0.4318172335624695,
           0.49899929761886597,
           0.3429718613624573,
           0.3798987865447998,
           0.5924431085586548,
           0.4386800527572632,
           0.35227060317993164,
           0.19979289174079895,
           0.7587146162986755,
           0.19192251563072205,
           0.39434605836868286,
           0.34756430983543396,
           0.07728517055511475,
           0.28654056787490845,
           0.13095085322856903,
           0.042023591697216034,
           0.12486571818590164,
           0.08667074888944626,
           0.04654615372419357,
           0.058539245277643204,
           0.1866942048072815,
           0.11701659858226776,
           0.9999998807907104,
           0.5358983278274536,
           0.4142720699310303,
           0.33694496750831604
          ],
          [
           0.5064945816993713,
           0.3290398120880127,
           0.3883900046348572,
           0.38859784603118896,
           0.4129384756088257,
           0.722009539604187,
           0.42592954635620117,
           0.2895483374595642,
           0.22457759082317352,
           0.6545968651771545,
           0.19435426592826843,
           0.4063379168510437,
           0.34574317932128906,
           0.14736226201057434,
           0.30403146147727966,
           0.2131509780883789,
           0.08744724094867706,
           0.15821309387683868,
           0.09778475016355515,
           0.12458819150924683,
           0.24916888773441315,
           0.12437024712562561,
           0.09247610718011856,
           0.5358983278274536,
           1.0000001192092896,
           0.40865954756736755,
           0.4030335247516632
          ],
          [
           0.3859517574310303,
           0.45519793033599854,
           0.37635400891304016,
           0.4551341235637665,
           0.43096810579299927,
           0.635104775428772,
           0.3941039443016052,
           0.38826465606689453,
           0.34429270029067993,
           0.41780173778533936,
           0.21447107195854187,
           0.45658838748931885,
           0.34804436564445496,
           0.04300663620233536,
           0.3510030210018158,
           0.16236722469329834,
           0.10487823933362961,
           0.19956859946250916,
           0.06718827039003372,
           0.17008936405181885,
           0.16825568675994873,
           0.1740042269229889,
           0.14423507452011108,
           0.4142720699310303,
           0.40865954756736755,
           1,
           0.44084978103637695
          ],
          [
           0.446621298789978,
           0.5392627716064453,
           0.5112216472625732,
           0.4833463430404663,
           0.5055794715881348,
           0.4053891897201538,
           0.4356065094470978,
           0.4440506398677826,
           0.39477962255477905,
           0.43725070357322693,
           0.2521972060203552,
           0.5258768796920776,
           0.32612669467926025,
           0.09330319613218307,
           0.3697769045829773,
           0.07253214716911316,
           0.07603184133768082,
           0.15104898810386658,
           0.08058983087539673,
           0.17451076209545135,
           0.14170634746551514,
           0.1330227553844452,
           0.09991799294948578,
           0.33694496750831604,
           0.4030335247516632,
           0.44084978103637695,
           1.000000238418579
          ]
         ]
        }
       ],
       "layout": {
        "coloraxis": {
         "colorbar": {
          "title": {
           "text": "Similarity Score"
          }
         },
         "colorscale": [
          [
           0,
           "rgb(247,252,240)"
          ],
          [
           0.125,
           "rgb(224,243,219)"
          ],
          [
           0.25,
           "rgb(204,235,197)"
          ],
          [
           0.375,
           "rgb(168,221,181)"
          ],
          [
           0.5,
           "rgb(123,204,196)"
          ],
          [
           0.625,
           "rgb(78,179,211)"
          ],
          [
           0.75,
           "rgb(43,140,190)"
          ],
          [
           0.875,
           "rgb(8,104,172)"
          ],
          [
           1,
           "rgb(8,64,129)"
          ]
         ]
        },
        "height": 800,
        "hoverlabel": {
         "bgcolor": "white",
         "font": {
          "family": "Rockwell",
          "size": 16
         }
        },
        "legend": {
         "title": {
          "text": "Trend"
         }
        },
        "margin": {
         "t": 60
        },
        "showlegend": true,
        "template": {
         "data": {
          "bar": [
           {
            "error_x": {
             "color": "#2a3f5f"
            },
            "error_y": {
             "color": "#2a3f5f"
            },
            "marker": {
             "line": {
              "color": "#E5ECF6",
              "width": 0.5
             },
             "pattern": {
              "fillmode": "overlay",
              "size": 10,
              "solidity": 0.2
             }
            },
            "type": "bar"
           }
          ],
          "barpolar": [
           {
            "marker": {
             "line": {
              "color": "#E5ECF6",
              "width": 0.5
             },
             "pattern": {
              "fillmode": "overlay",
              "size": 10,
              "solidity": 0.2
             }
            },
            "type": "barpolar"
           }
          ],
          "carpet": [
           {
            "aaxis": {
             "endlinecolor": "#2a3f5f",
             "gridcolor": "white",
             "linecolor": "white",
             "minorgridcolor": "white",
             "startlinecolor": "#2a3f5f"
            },
            "baxis": {
             "endlinecolor": "#2a3f5f",
             "gridcolor": "white",
             "linecolor": "white",
             "minorgridcolor": "white",
             "startlinecolor": "#2a3f5f"
            },
            "type": "carpet"
           }
          ],
          "choropleth": [
           {
            "colorbar": {
             "outlinewidth": 0,
             "ticks": ""
            },
            "type": "choropleth"
           }
          ],
          "contour": [
           {
            "colorbar": {
             "outlinewidth": 0,
             "ticks": ""
            },
            "colorscale": [
             [
              0,
              "#0d0887"
             ],
             [
              0.1111111111111111,
              "#46039f"
             ],
             [
              0.2222222222222222,
              "#7201a8"
             ],
             [
              0.3333333333333333,
              "#9c179e"
             ],
             [
              0.4444444444444444,
              "#bd3786"
             ],
             [
              0.5555555555555556,
              "#d8576b"
             ],
             [
              0.6666666666666666,
              "#ed7953"
             ],
             [
              0.7777777777777778,
              "#fb9f3a"
             ],
             [
              0.8888888888888888,
              "#fdca26"
             ],
             [
              1,
              "#f0f921"
             ]
            ],
            "type": "contour"
           }
          ],
          "contourcarpet": [
           {
            "colorbar": {
             "outlinewidth": 0,
             "ticks": ""
            },
            "type": "contourcarpet"
           }
          ],
          "heatmap": [
           {
            "colorbar": {
             "outlinewidth": 0,
             "ticks": ""
            },
            "colorscale": [
             [
              0,
              "#0d0887"
             ],
             [
              0.1111111111111111,
              "#46039f"
             ],
             [
              0.2222222222222222,
              "#7201a8"
             ],
             [
              0.3333333333333333,
              "#9c179e"
             ],
             [
              0.4444444444444444,
              "#bd3786"
             ],
             [
              0.5555555555555556,
              "#d8576b"
             ],
             [
              0.6666666666666666,
              "#ed7953"
             ],
             [
              0.7777777777777778,
              "#fb9f3a"
             ],
             [
              0.8888888888888888,
              "#fdca26"
             ],
             [
              1,
              "#f0f921"
             ]
            ],
            "type": "heatmap"
           }
          ],
          "heatmapgl": [
           {
            "colorbar": {
             "outlinewidth": 0,
             "ticks": ""
            },
            "colorscale": [
             [
              0,
              "#0d0887"
             ],
             [
              0.1111111111111111,
              "#46039f"
             ],
             [
              0.2222222222222222,
              "#7201a8"
             ],
             [
              0.3333333333333333,
              "#9c179e"
             ],
             [
              0.4444444444444444,
              "#bd3786"
             ],
             [
              0.5555555555555556,
              "#d8576b"
             ],
             [
              0.6666666666666666,
              "#ed7953"
             ],
             [
              0.7777777777777778,
              "#fb9f3a"
             ],
             [
              0.8888888888888888,
              "#fdca26"
             ],
             [
              1,
              "#f0f921"
             ]
            ],
            "type": "heatmapgl"
           }
          ],
          "histogram": [
           {
            "marker": {
             "pattern": {
              "fillmode": "overlay",
              "size": 10,
              "solidity": 0.2
             }
            },
            "type": "histogram"
           }
          ],
          "histogram2d": [
           {
            "colorbar": {
             "outlinewidth": 0,
             "ticks": ""
            },
            "colorscale": [
             [
              0,
              "#0d0887"
             ],
             [
              0.1111111111111111,
              "#46039f"
             ],
             [
              0.2222222222222222,
              "#7201a8"
             ],
             [
              0.3333333333333333,
              "#9c179e"
             ],
             [
              0.4444444444444444,
              "#bd3786"
             ],
             [
              0.5555555555555556,
              "#d8576b"
             ],
             [
              0.6666666666666666,
              "#ed7953"
             ],
             [
              0.7777777777777778,
              "#fb9f3a"
             ],
             [
              0.8888888888888888,
              "#fdca26"
             ],
             [
              1,
              "#f0f921"
             ]
            ],
            "type": "histogram2d"
           }
          ],
          "histogram2dcontour": [
           {
            "colorbar": {
             "outlinewidth": 0,
             "ticks": ""
            },
            "colorscale": [
             [
              0,
              "#0d0887"
             ],
             [
              0.1111111111111111,
              "#46039f"
             ],
             [
              0.2222222222222222,
              "#7201a8"
             ],
             [
              0.3333333333333333,
              "#9c179e"
             ],
             [
              0.4444444444444444,
              "#bd3786"
             ],
             [
              0.5555555555555556,
              "#d8576b"
             ],
             [
              0.6666666666666666,
              "#ed7953"
             ],
             [
              0.7777777777777778,
              "#fb9f3a"
             ],
             [
              0.8888888888888888,
              "#fdca26"
             ],
             [
              1,
              "#f0f921"
             ]
            ],
            "type": "histogram2dcontour"
           }
          ],
          "mesh3d": [
           {
            "colorbar": {
             "outlinewidth": 0,
             "ticks": ""
            },
            "type": "mesh3d"
           }
          ],
          "parcoords": [
           {
            "line": {
             "colorbar": {
              "outlinewidth": 0,
              "ticks": ""
             }
            },
            "type": "parcoords"
           }
          ],
          "pie": [
           {
            "automargin": true,
            "type": "pie"
           }
          ],
          "scatter": [
           {
            "fillpattern": {
             "fillmode": "overlay",
             "size": 10,
             "solidity": 0.2
            },
            "type": "scatter"
           }
          ],
          "scatter3d": [
           {
            "line": {
             "colorbar": {
              "outlinewidth": 0,
              "ticks": ""
             }
            },
            "marker": {
             "colorbar": {
              "outlinewidth": 0,
              "ticks": ""
             }
            },
            "type": "scatter3d"
           }
          ],
          "scattercarpet": [
           {
            "marker": {
             "colorbar": {
              "outlinewidth": 0,
              "ticks": ""
             }
            },
            "type": "scattercarpet"
           }
          ],
          "scattergeo": [
           {
            "marker": {
             "colorbar": {
              "outlinewidth": 0,
              "ticks": ""
             }
            },
            "type": "scattergeo"
           }
          ],
          "scattergl": [
           {
            "marker": {
             "colorbar": {
              "outlinewidth": 0,
              "ticks": ""
             }
            },
            "type": "scattergl"
           }
          ],
          "scattermapbox": [
           {
            "marker": {
             "colorbar": {
              "outlinewidth": 0,
              "ticks": ""
             }
            },
            "type": "scattermapbox"
           }
          ],
          "scatterpolar": [
           {
            "marker": {
             "colorbar": {
              "outlinewidth": 0,
              "ticks": ""
             }
            },
            "type": "scatterpolar"
           }
          ],
          "scatterpolargl": [
           {
            "marker": {
             "colorbar": {
              "outlinewidth": 0,
              "ticks": ""
             }
            },
            "type": "scatterpolargl"
           }
          ],
          "scatterternary": [
           {
            "marker": {
             "colorbar": {
              "outlinewidth": 0,
              "ticks": ""
             }
            },
            "type": "scatterternary"
           }
          ],
          "surface": [
           {
            "colorbar": {
             "outlinewidth": 0,
             "ticks": ""
            },
            "colorscale": [
             [
              0,
              "#0d0887"
             ],
             [
              0.1111111111111111,
              "#46039f"
             ],
             [
              0.2222222222222222,
              "#7201a8"
             ],
             [
              0.3333333333333333,
              "#9c179e"
             ],
             [
              0.4444444444444444,
              "#bd3786"
             ],
             [
              0.5555555555555556,
              "#d8576b"
             ],
             [
              0.6666666666666666,
              "#ed7953"
             ],
             [
              0.7777777777777778,
              "#fb9f3a"
             ],
             [
              0.8888888888888888,
              "#fdca26"
             ],
             [
              1,
              "#f0f921"
             ]
            ],
            "type": "surface"
           }
          ],
          "table": [
           {
            "cells": {
             "fill": {
              "color": "#EBF0F8"
             },
             "line": {
              "color": "white"
             }
            },
            "header": {
             "fill": {
              "color": "#C8D4E3"
             },
             "line": {
              "color": "white"
             }
            },
            "type": "table"
           }
          ]
         },
         "layout": {
          "annotationdefaults": {
           "arrowcolor": "#2a3f5f",
           "arrowhead": 0,
           "arrowwidth": 1
          },
          "autotypenumbers": "strict",
          "coloraxis": {
           "colorbar": {
            "outlinewidth": 0,
            "ticks": ""
           }
          },
          "colorscale": {
           "diverging": [
            [
             0,
             "#8e0152"
            ],
            [
             0.1,
             "#c51b7d"
            ],
            [
             0.2,
             "#de77ae"
            ],
            [
             0.3,
             "#f1b6da"
            ],
            [
             0.4,
             "#fde0ef"
            ],
            [
             0.5,
             "#f7f7f7"
            ],
            [
             0.6,
             "#e6f5d0"
            ],
            [
             0.7,
             "#b8e186"
            ],
            [
             0.8,
             "#7fbc41"
            ],
            [
             0.9,
             "#4d9221"
            ],
            [
             1,
             "#276419"
            ]
           ],
           "sequential": [
            [
             0,
             "#0d0887"
            ],
            [
             0.1111111111111111,
             "#46039f"
            ],
            [
             0.2222222222222222,
             "#7201a8"
            ],
            [
             0.3333333333333333,
             "#9c179e"
            ],
            [
             0.4444444444444444,
             "#bd3786"
            ],
            [
             0.5555555555555556,
             "#d8576b"
            ],
            [
             0.6666666666666666,
             "#ed7953"
            ],
            [
             0.7777777777777778,
             "#fb9f3a"
            ],
            [
             0.8888888888888888,
             "#fdca26"
            ],
            [
             1,
             "#f0f921"
            ]
           ],
           "sequentialminus": [
            [
             0,
             "#0d0887"
            ],
            [
             0.1111111111111111,
             "#46039f"
            ],
            [
             0.2222222222222222,
             "#7201a8"
            ],
            [
             0.3333333333333333,
             "#9c179e"
            ],
            [
             0.4444444444444444,
             "#bd3786"
            ],
            [
             0.5555555555555556,
             "#d8576b"
            ],
            [
             0.6666666666666666,
             "#ed7953"
            ],
            [
             0.7777777777777778,
             "#fb9f3a"
            ],
            [
             0.8888888888888888,
             "#fdca26"
            ],
            [
             1,
             "#f0f921"
            ]
           ]
          },
          "colorway": [
           "#636efa",
           "#EF553B",
           "#00cc96",
           "#ab63fa",
           "#FFA15A",
           "#19d3f3",
           "#FF6692",
           "#B6E880",
           "#FF97FF",
           "#FECB52"
          ],
          "font": {
           "color": "#2a3f5f"
          },
          "geo": {
           "bgcolor": "white",
           "lakecolor": "white",
           "landcolor": "#E5ECF6",
           "showlakes": true,
           "showland": true,
           "subunitcolor": "white"
          },
          "hoverlabel": {
           "align": "left"
          },
          "hovermode": "closest",
          "mapbox": {
           "style": "light"
          },
          "paper_bgcolor": "white",
          "plot_bgcolor": "#E5ECF6",
          "polar": {
           "angularaxis": {
            "gridcolor": "white",
            "linecolor": "white",
            "ticks": ""
           },
           "bgcolor": "#E5ECF6",
           "radialaxis": {
            "gridcolor": "white",
            "linecolor": "white",
            "ticks": ""
           }
          },
          "scene": {
           "xaxis": {
            "backgroundcolor": "#E5ECF6",
            "gridcolor": "white",
            "gridwidth": 2,
            "linecolor": "white",
            "showbackground": true,
            "ticks": "",
            "zerolinecolor": "white"
           },
           "yaxis": {
            "backgroundcolor": "#E5ECF6",
            "gridcolor": "white",
            "gridwidth": 2,
            "linecolor": "white",
            "showbackground": true,
            "ticks": "",
            "zerolinecolor": "white"
           },
           "zaxis": {
            "backgroundcolor": "#E5ECF6",
            "gridcolor": "white",
            "gridwidth": 2,
            "linecolor": "white",
            "showbackground": true,
            "ticks": "",
            "zerolinecolor": "white"
           }
          },
          "shapedefaults": {
           "line": {
            "color": "#2a3f5f"
           }
          },
          "ternary": {
           "aaxis": {
            "gridcolor": "white",
            "linecolor": "white",
            "ticks": ""
           },
           "baxis": {
            "gridcolor": "white",
            "linecolor": "white",
            "ticks": ""
           },
           "bgcolor": "#E5ECF6",
           "caxis": {
            "gridcolor": "white",
            "linecolor": "white",
            "ticks": ""
           }
          },
          "title": {
           "x": 0.05
          },
          "xaxis": {
           "automargin": true,
           "gridcolor": "white",
           "linecolor": "white",
           "ticks": "",
           "title": {
            "standoff": 15
           },
           "zerolinecolor": "white",
           "zerolinewidth": 2
          },
          "yaxis": {
           "automargin": true,
           "gridcolor": "white",
           "linecolor": "white",
           "ticks": "",
           "title": {
            "standoff": 15
           },
           "zerolinecolor": "white",
           "zerolinewidth": 2
          }
         }
        },
        "title": {
         "font": {
          "color": "Black",
          "size": 22
         },
         "text": "<b>Similarity Matrix</b>",
         "x": 0.55,
         "xanchor": "center",
         "y": 0.95,
         "yanchor": "top"
        },
        "width": 800,
        "xaxis": {
         "anchor": "y",
         "constrain": "domain",
         "domain": [
          0,
          1
         ],
         "scaleanchor": "y"
        },
        "yaxis": {
         "anchor": "x",
         "autorange": "reversed",
         "constrain": "domain",
         "domain": [
          0,
          1
         ]
        }
       }
      }
     },
     "metadata": {},
     "output_type": "display_data"
    }
   ],
   "source": [
    "topic_model_negative.visualize_heatmap()"
   ]
  }
 ],
 "metadata": {
  "kernelspec": {
   "display_name": "game2",
   "language": "python",
   "name": "python3"
  },
  "language_info": {
   "codemirror_mode": {
    "name": "ipython",
    "version": 3
   },
   "file_extension": ".py",
   "mimetype": "text/x-python",
   "name": "python",
   "nbconvert_exporter": "python",
   "pygments_lexer": "ipython3",
   "version": "3.10.16"
  }
 },
 "nbformat": 4,
 "nbformat_minor": 2
}
