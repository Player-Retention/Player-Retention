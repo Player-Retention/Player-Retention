{
 "cells": [
  {
   "cell_type": "markdown",
   "metadata": {},
   "source": [
    "# 1. 토큰화"
   ]
  },
  {
   "cell_type": "markdown",
   "metadata": {},
   "source": [
    "### 품사 태깅 이유\n",
    "+ game, play 등의 의미없는 단어가 너무 많음. => 일일히 걸러주자\n",
    "+ 품사 태깅 이유 : 키워드 추출 할때 부사와 같은 꾸며주는 단어가 많이 나와서 추출하는데 의미가 없다고 생각이 들었음\n",
    "+ 동사, 명사와 같은 의미있는 단어만 뽑아주기 위해 품사 태깅 사용\n",
    "\n",
    "+ 원형, 표제어 추출하면 품사 태깅 안해도 괜찮을 듯"
   ]
  },
  {
   "cell_type": "code",
   "execution_count": 59,
   "metadata": {},
   "outputs": [
    {
     "name": "stdout",
     "output_type": "stream",
     "text": [
      "                                         review_text  \\\n",
      "0  Product received for free  In the beta test yo...   \n",
      "1    Game is extremely intrusive on data collection.   \n",
      "2  The First Descendant is more predatory than Dr...   \n",
      "3  The game was fun enough for the time I played ...   \n",
      "4  I was going to play it but POW! moment you go ...   \n",
      "\n",
      "                                        cleaned_text  \n",
      "0  [product, received, free, beta, test, craft, p...  \n",
      "1                      [intrusive, data, collection]  \n",
      "2  [predatory, drake, keep, wallet, keep, credit,...  \n",
      "3  [time, played, fact, kernellevel, anticheats, ...  \n",
      "4  [going, pow, moment, go, log, asking, consent,...  \n"
     ]
    }
   ],
   "source": [
    "import nltk\n",
    "from nltk.corpus import stopwords\n",
    "from nltk.tokenize import word_tokenize\n",
    "from nltk.stem import PorterStemmer, WordNetLemmatizer\n",
    "from nltk import pos_tag\n",
    "import pandas as pd\n",
    "import re\n",
    "\n",
    "# 불용어와 어간 추출, 표제어 추출 초기화\n",
    "stop_words = set(stopwords.words('english'))\n",
    "stemmer = PorterStemmer()  # 어간 추출기\n",
    "lemmatizer = WordNetLemmatizer()  # 표제어 추출기\n",
    "\n",
    "# 정의한 불용어 리스트\n",
    "stop_text = ['game', 'warframe', 'destiny', 'destiny2', 'thefirstdescendant', 'gameplay', 'descendant', 'tfd', 'first', 'play']\n",
    "\n",
    "# 전처리 함수 정의\n",
    "def preprocess_review(text):\n",
    "    if isinstance(text,str):\n",
    "        # 1. 소문자 변환\n",
    "        text = text.lower()\n",
    "        # 2. 특수문자 및 숫자 제거\n",
    "        text = re.sub(r'[^a-zA-Z\\s]', '', text)\n",
    "        # 3. 토큰화\n",
    "        tokens = word_tokenize(text)\n",
    "        # 4. 품사 태깅\n",
    "        tagged_tokens = pos_tag(tokens)\n",
    "        # 5. 명사(NN), 동사(VB), 형용사(JJ)만 필터링하고 표제어 추출\n",
    "        filtered_tokens = [\n",
    "            lemmatizer.lemmatize(word)  # 표제어 추출\n",
    "            for word, tag in tagged_tokens\n",
    "            if tag.startswith(('NN', 'VB', 'JJ')) and (word not in stop_words) and (word not in stop_text)\n",
    "        ]\n",
    "        return filtered_tokens\n",
    "    else:\n",
    "        return \"\"\n",
    "\n",
    "df = pd.read_csv('The_first_descendant_reviews.csv')\n",
    "\n",
    "# 전처리 적용\n",
    "df['cleaned_text'] = df['review_text'].apply(preprocess_review)\n",
    "print(df[['review_text', 'cleaned_text']].head())\n"
   ]
  },
  {
   "cell_type": "code",
   "execution_count": null,
   "metadata": {},
   "outputs": [],
   "source": [
    "# 품사 태깅 테스트 (동사 많이 나온 단어 추출)\n",
    "# from collections import Counter\n",
    "\n",
    "# tagged_tokens = nltk.pos_tag(all_tokens)\n",
    "# nouns = [word for word, pos in tagged_tokens if pos.startswith('VB')]\n",
    "\n",
    "# counter = Counter(nouns)\n",
    "# top_30_nn = counter.most_common(30)\n",
    "# print(top_30_nn)"
   ]
  },
  {
   "cell_type": "markdown",
   "metadata": {},
   "source": [
    "# 2. 임베딩"
   ]
  },
  {
   "cell_type": "code",
   "execution_count": 60,
   "metadata": {},
   "outputs": [
    {
     "name": "stdout",
     "output_type": "stream",
     "text": [
      "                                         review_text  \\\n",
      "0  Product received for free  In the beta test yo...   \n",
      "1    Game is extremely intrusive on data collection.   \n",
      "2  The First Descendant is more predatory than Dr...   \n",
      "3  The game was fun enough for the time I played ...   \n",
      "4  I was going to play it but POW! moment you go ...   \n",
      "\n",
      "                                        cleaned_text  \n",
      "0  product received free beta test craft paint fr...  \n",
      "1                          intrusive data collection  \n",
      "2  predatory drake keep wallet keep credit card k...  \n",
      "3  time played fact kernellevel anticheats eula a...  \n",
      "4  going pow moment go log asking consent share i...  \n"
     ]
    }
   ],
   "source": [
    "# 토큰 리스트를 문자열로 변환\n",
    "df['cleaned_text'] = df['cleaned_text'].apply(lambda tokens: ' '.join(tokens)) \n",
    "\n",
    "# 결과 확인\n",
    "print(df[['review_text', 'cleaned_text']].head())"
   ]
  },
  {
   "cell_type": "code",
   "execution_count": 61,
   "metadata": {},
   "outputs": [
    {
     "name": "stdout",
     "output_type": "stream",
     "text": [
      "임베딩 크기: (4223, 1024)\n"
     ]
    }
   ],
   "source": [
    "# Load model directly\n",
    "from transformers import AutoTokenizer, AutoModel\n",
    "import torch\n",
    "import numpy as np\n",
    "\n",
    "tokenizer = AutoTokenizer.from_pretrained(\"mixedbread-ai/mxbai-embed-large-v1\")\n",
    "model = AutoModel.from_pretrained(\"mixedbread-ai/mxbai-embed-large-v1\")\n",
    "\n",
    "def get_embeddings_in_batches(texts, tokenizer, model, batch_size=16):\n",
    "    all_embeddings = []\n",
    "    for i in range(0, len(texts), batch_size):\n",
    "        batch_texts = texts[i:i+batch_size]\n",
    "        tokens = tokenizer(\n",
    "            batch_texts,\n",
    "            padding=True,\n",
    "            truncation=True,\n",
    "            return_tensors=\"pt\",\n",
    "            max_length=512\n",
    "        )\n",
    "        with torch.no_grad():\n",
    "            outputs = model(**tokens)\n",
    "            embeddings = outputs.last_hidden_state.mean(dim=1)  # 평균 풀링\n",
    "            all_embeddings.append(embeddings.cpu().numpy())  # CPU 메모리로 이동\n",
    "    return np.vstack(all_embeddings)  # 배열 합치기\n",
    "\n",
    "# 임베딩 실행\n",
    "texts = df['cleaned_text'].tolist() \n",
    "embeddings = get_embeddings_in_batches(texts, tokenizer, model, batch_size=16)\n",
    "\n",
    "print(\"임베딩 크기:\", embeddings.shape)"
   ]
  },
  {
   "cell_type": "markdown",
   "metadata": {},
   "source": [
    "# 3. 감정 분석"
   ]
  },
  {
   "cell_type": "code",
   "execution_count": 62,
   "metadata": {},
   "outputs": [
    {
     "name": "stdout",
     "output_type": "stream",
     "text": [
      "512\n"
     ]
    }
   ],
   "source": [
    "print(tokenizer.model_max_length)\n"
   ]
  },
  {
   "cell_type": "code",
   "execution_count": 63,
   "metadata": {},
   "outputs": [
    {
     "name": "stderr",
     "output_type": "stream",
     "text": [
      "Some weights of the model checkpoint at cardiffnlp/twitter-roberta-base-sentiment-latest were not used when initializing RobertaForSequenceClassification: ['roberta.pooler.dense.bias', 'roberta.pooler.dense.weight']\n",
      "- This IS expected if you are initializing RobertaForSequenceClassification from the checkpoint of a model trained on another task or with another architecture (e.g. initializing a BertForSequenceClassification model from a BertForPreTraining model).\n",
      "- This IS NOT expected if you are initializing RobertaForSequenceClassification from the checkpoint of a model that you expect to be exactly identical (initializing a BertForSequenceClassification model from a BertForSequenceClassification model).\n",
      "Device set to use mps:0\n"
     ]
    },
    {
     "name": "stdout",
     "output_type": "stream",
     "text": [
      "                                        cleaned_text sentiment\n",
      "0  product received free beta test craft paint fr...   neutral\n",
      "1                          intrusive data collection   neutral\n",
      "2  predatory drake keep wallet keep credit card k...   neutral\n",
      "3  time played fact kernellevel anticheats eula a...  positive\n",
      "4  going pow moment go log asking consent share i...   neutral\n"
     ]
    }
   ],
   "source": [
    "from transformers import pipeline\n",
    "\n",
    "# 감정 분석 파이프라인 로드\n",
    "pipe = pipeline(\"text-classification\", model=\"cardiffnlp/twitter-roberta-base-sentiment-latest\")\n",
    "\n",
    "# 감정 분석 수행\n",
    "def analyze_sentiment(texts):\n",
    "    sentiments = []\n",
    "    for text in texts:\n",
    "        # 감정 분석 수행 및 결과 추출\n",
    "        sentiment_result = pipe(text[:512])  # 길이 초과 방지를 위해 512 토큰 제한\n",
    "        sentiments.append(sentiment_result[0]['label'])\n",
    "    return sentiments\n",
    "\n",
    "# 감정 분석 실행\n",
    "df['sentiment'] = analyze_sentiment(df['cleaned_text'].tolist())\n",
    "\n",
    "# 결과 확인\n",
    "print(df[['cleaned_text', 'sentiment']].head())"
   ]
  },
  {
   "cell_type": "code",
   "execution_count": 64,
   "metadata": {},
   "outputs": [
    {
     "name": "stdout",
     "output_type": "stream",
     "text": [
      "긍정 리뷰 개수: 486\n",
      "부정 리뷰 개수: 2470\n",
      "중립 리뷰 개수: 1267\n"
     ]
    }
   ],
   "source": [
    "# 긍정/부정 리뷰 분리\n",
    "positive_reviews = df[df['sentiment'] == 'positive']\n",
    "negative_reviews = df[df['sentiment'] == 'negative']\n",
    "neutral_reviews = df[df['sentiment'] == 'neutral']\n",
    "\n",
    "print(f\"긍정 리뷰 개수: {len(positive_reviews)}\")\n",
    "print(f\"부정 리뷰 개수: {len(negative_reviews)}\")\n",
    "print(f\"중립 리뷰 개수: {len(neutral_reviews)}\")"
   ]
  },
  {
   "cell_type": "markdown",
   "metadata": {},
   "source": [
    "# 4. 토픽 모델링"
   ]
  },
  {
   "cell_type": "code",
   "execution_count": 65,
   "metadata": {},
   "outputs": [
    {
     "name": "stdout",
     "output_type": "stream",
     "text": [
      "긍정 리뷰 주요 토픽:    Topic  Count                  Name  \\\n",
      "0      0    371   0_good_fun_get_time   \n",
      "1      1    115  1_hahaha_lol_please_   \n",
      "\n",
      "                                      Representation  \\\n",
      "0  [good, fun, get, time, character, free, grind,...   \n",
      "1                [hahaha, lol, please, , , , , , , ]   \n",
      "\n",
      "                                 Representative_Docs  \n",
      "0  [sort cross ii dash borderland tera good fun s...  \n",
      "1                              [please, hahaha, lol]  \n",
      "부정 리뷰 주요 토픽:     Topic  Count                                              Name  \\\n",
      "0      -1   1052                             -1_time_dont_get_feel   \n",
      "1       0     97                     0_story_boring_feel_character   \n",
      "2       1     67                              1_rate_drop_item_low   \n",
      "3       2     66                2_nexon_greedy_nexons_monetization   \n",
      "4       3     66                        3_grind_grinding_part_hour   \n",
      "5       4     63                   4_received_product_free_mission   \n",
      "6       5     61                          5_boring_soooo_kinda_man   \n",
      "7       6     57                     6_account_support_ticket_lost   \n",
      "8       7     49                             7_bad_suck_kinda_hour   \n",
      "9       8     49                         8_trash_garbage_solo_copy   \n",
      "10      9     45                    9_shaders_shader_loading_crash   \n",
      "11     10     40                     10_season_invasion_new_update   \n",
      "12     11     39  11_micro_transaction_microtransactions_predatory   \n",
      "13     12     37                      12_pc_crash_crashing_setting   \n",
      "14     13     37                            13_skin_slot_buy_paint   \n",
      "15     14     37                 14_crash_crashing_disconnect_keep   \n",
      "16     15     36     15_monetization_predatory_monetisation_ripoff   \n",
      "17     16     35                     16_female_skin_character_porn   \n",
      "18     17     32                   17_lag_stuttering_stutter_mouse   \n",
      "19     18     31                    18_bullet_sponge_gunplay_enemy   \n",
      "20     19     29                         19_clone_bad_worse_copied   \n",
      "21     20     28                20_data_collection_accept_personal   \n",
      "22     21     27                   21_looter_shooter_bewbs_gunplay   \n",
      "23     22     26                   22_repetitive_boring_bored_loop   \n",
      "24     23     25                       23_screen_start_launch_load   \n",
      "25     24     24                24_optimization_bad_optimized_poor   \n",
      "26     25     24              25_mission_boring_repetitive_anyones   \n",
      "27     26     22                          26_bunny_kill_boring_run   \n",
      "28     27     20            27_error_connect_connection_connecting   \n",
      "29     28     20                        28_worse_worst_part_parkor   \n",
      "30     29     17                          29_version_worse_ist_ngl   \n",
      "31     30     17                        30_korean_slop_korea_gacha   \n",
      "32     31     15                        31_gooner_bait_toast_cheek   \n",
      "33     32     15                          32_rng_respect_bad_spend   \n",
      "34     33     15                  33_weapon_character_player_level   \n",
      "35     34     15               34_mission_failed_time_experiencing   \n",
      "36     35     14                     35_player_devs_content_update   \n",
      "37     36     14                          36_waste_time_value_hour   \n",
      "38     37     13                     37_voice_acting_english_sound   \n",
      "39     38     13                     38_directx_dx_supported_error   \n",
      "40     39     13                      39_button_control_mouse_cant   \n",
      "41     40     12                    40_bland_uninspired_grown_feel   \n",
      "42     41     12                         41_fps_setting_rtx_lowest   \n",
      "43     42     12                         42_grab_cash_income_spare   \n",
      "44     43     11           43_violation_detectedgame_practice_data   \n",
      "45     44     11                    44_child_horny_infant_daughter   \n",
      "46     45     10                             45_power_game_dye_etc   \n",
      "\n",
      "                                       Representation  \\\n",
      "0   [time, dont, get, feel, character, good, bad, ...   \n",
      "1   [story, boring, feel, character, gunplay, enem...   \n",
      "2   [rate, drop, item, low, farming, fake, thing, ...   \n",
      "3   [nexon, greedy, nexons, monetization, thanks, ...   \n",
      "4   [grind, grinding, part, hour, get, fun, farmin...   \n",
      "5   [received, product, free, mission, time, grind...   \n",
      "6   [boring, soooo, kinda, man, naaaaaaaah, freind...   \n",
      "7   [account, support, ticket, lost, nexon, link, ...   \n",
      "8   [bad, suck, kinda, hour, meh, descended, fuckt...   \n",
      "9   [trash, garbage, solo, copy, fixing, update, a...   \n",
      "10  [shaders, shader, loading, crash, compiling, l...   \n",
      "11  [season, invasion, new, update, seasonal, puzz...   \n",
      "12  [micro, transaction, microtransactions, predat...   \n",
      "13  [pc, crash, crashing, setting, spec, issue, cp...   \n",
      "14  [skin, slot, buy, paint, currency, use, pay, c...   \n",
      "15  [crash, crashing, disconnect, keep, memory, co...   \n",
      "16  [monetization, predatory, monetisation, ripoff...   \n",
      "17  [female, skin, character, porn, male, woman, o...   \n",
      "18  [lag, stuttering, stutter, mouse, unplayable, ...   \n",
      "19  [bullet, sponge, gunplay, enemy, boring, shoot...   \n",
      "20  [clone, bad, worse, copied, good, chick, bungi...   \n",
      "21  [data, collection, accept, personal, policy, p...   \n",
      "22  [looter, shooter, bewbs, gunplay, style, pw, e...   \n",
      "23  [repetitive, boring, bored, loop, fast, aaand,...   \n",
      "24  [screen, start, launch, load, black, loading, ...   \n",
      "25  [optimization, bad, optimized, poor, horrible,...   \n",
      "26  [mission, boring, repetitive, anyones, design,...   \n",
      "27  [bunny, kill, boring, run, aoe, went, fun, sta...   \n",
      "28  [error, connect, connection, connecting, login...   \n",
      "29  [worse, worst, part, parkor, doe, wayvoid, int...   \n",
      "30  [version, worse, ist, ngl, jank, inferior, goo...   \n",
      "31  [korean, slop, korea, gacha, ai, grindfest, li...   \n",
      "32  [gooner, bait, toast, cheek, gooners, butt, pu...   \n",
      "33  [rng, respect, bad, spend, neck, shouldt, drop...   \n",
      "34  [weapon, character, player, level, mod, thing,...   \n",
      "35  [mission, failed, time, experiencing, disconne...   \n",
      "36  [player, devs, content, update, thank, playerb...   \n",
      "37  [waste, time, value, hour, btch, burner, dis, ...   \n",
      "38  [voice, acting, english, sound, feel, cube, du...   \n",
      "39  [directx, dx, supported, error, launch, window...   \n",
      "40  [button, control, mouse, cant, intel, key, jer...   \n",
      "41  [bland, uninspired, grown, feel, describe, app...   \n",
      "42  [fps, setting, rtx, lowest, low, rethink, pers...   \n",
      "43  [grab, cash, income, spare, robbed, terrible, ...   \n",
      "44  [violation, detectedgame, practice, data, play...   \n",
      "45  [child, horny, infant, daughter, grindier, gri...   \n",
      "46  [power, game, dye, etc, cpu, crap, recommend, ...   \n",
      "\n",
      "                                  Representative_Docs  \n",
      "0   [grind bad take hundred hour build thing way w...  \n",
      "1   [boring story boring gunplay boring ability no...  \n",
      "2   [drop rate low crash rate high, drop rate need...  \n",
      "3   [nexon meh, classic greedy nexon, nexon cant g...  \n",
      "4   [enjoyed hour grind getting bad found getting ...  \n",
      "5   [product received free fun start get boring ho...  \n",
      "6                            [boring, boring, boring]  \n",
      "7   [beware run risk getting ripped losing progres...  \n",
      "8                                     [bad, bad, bad]  \n",
      "9                               [trash, trash, trash]  \n",
      "10  [stuck compiling shaders, product received fre...  \n",
      "11  [enjoying month season update ruined thing sur...  \n",
      "12  [microtransactions predatory, predatory micro ...  \n",
      "13  [gotten point cant launch crash entry upd fps ...  \n",
      "14  [greed hostile predatory bother price inflated...  \n",
      "15           [repetitive crash, crash lot, crash lot]  \n",
      "16  [massive cash grab predatory scummy monetisati...  \n",
      "17  [nexon catering female character state male sk...  \n",
      "18  [stutter lag stutter crash unplayable beta smo...  \n",
      "19  [bullet sponge hell, boring bullet sponge boss...  \n",
      "20             [boring clone x, bad clone, bad clone]  \n",
      "21  [forced accept third party data collection wan...  \n",
      "22  [borrows existing looter shooter game advantag...  \n",
      "23  [repetitive boring bad story, repetitive borin...  \n",
      "24  [cant run came least go main menu get stuck bl...  \n",
      "25  [boring bad optimization, bad optimization, ba...  \n",
      "26  [repetitive ive played mission grind fun week ...  \n",
      "27  [love playing fun course grindy get free bigge...  \n",
      "28  [log matter get connection error login failed ...  \n",
      "29                              [worse, worse, worse]  \n",
      "30  [worse version terrible great, inferior versio...  \n",
      "31  [korean thought bad, unironical korean garbage...  \n",
      "32  [remembered want leave negative review boring ...  \n",
      "33  [handle rng sure bad rng one help bored quit t...  \n",
      "34  [tldr cargo cult take system several game mash...  \n",
      "35  [game need stop time gating end content let mo...  \n",
      "36  [idk devs thinking update horrid design damage...  \n",
      "37  [isnt made regular people nothing dont value t...  \n",
      "38  [dynamism movement speech character english du...  \n",
      "39  [directx get error launch, supported corporate...  \n",
      "40  [thing change get update patch right impressio...  \n",
      "41  [bland feel bored go, bland story bland bland,...  \n",
      "42  [fun grindy issue come performance meet recomm...  \n",
      "43  [boring cash grab dont waste time money, bad c...  \n",
      "44  [predatory egregious use microtransactions com...  \n",
      "45  [child infant swapped infirmary abandoned chin...  \n",
      "46  [played rank mastery beta fun admit grind fine...  \n"
     ]
    }
   ],
   "source": [
    "from bertopic import BERTopic\n",
    "\n",
    "# 긍정 리뷰 토픽 모델링\n",
    "positive_texts = positive_reviews['cleaned_text'].tolist()\n",
    "topic_model_positive = BERTopic()\n",
    "topics_positive, probs_positive = topic_model_positive.fit_transform(positive_texts)\n",
    "\n",
    "# 부정 리뷰 토픽 모델링\n",
    "negative_texts = negative_reviews['cleaned_text'].tolist()\n",
    "topic_model_negative = BERTopic()\n",
    "topics_negative, probs_negative = topic_model_negative.fit_transform(negative_texts)\n",
    "\n",
    "# 긍정 토픽 확인\n",
    "print(\"긍정 리뷰 주요 토픽:\", topic_model_positive.get_topic_info())\n",
    "\n",
    "# 부정 토픽 확인\n",
    "print(\"부정 리뷰 주요 토픽:\", topic_model_negative.get_topic_info())\n"
   ]
  },
  {
   "cell_type": "code",
   "execution_count": 66,
   "metadata": {},
   "outputs": [
    {
     "name": "stdout",
     "output_type": "stream",
     "text": [
      "2\n",
      "Topic 0: [('good', 0.05502277498378641), ('fun', 0.04716654605028752), ('get', 0.04658142183055576), ('time', 0.04390420800848603), ('character', 0.03958398683815743), ('free', 0.03636801630504205), ('grind', 0.036039874959828445), ('make', 0.03336843049332297), ('dont', 0.03060810116603543), ('mission', 0.029191271744208307)]\n",
      "Topic 1: [('hahaha', 2.8156617654575804), ('lol', 2.4496006693800703), ('please', 2.123014817242203), ('', 1e-05), ('', 1e-05), ('', 1e-05), ('', 1e-05), ('', 1e-05), ('', 1e-05), ('', 1e-05)]\n"
     ]
    }
   ],
   "source": [
    "# 긍정 리뷰 토픽 내 주요 단어\n",
    "print(len(topic_model_positive.get_topic_info()))\n",
    "for topic in range(len(topic_model_positive.get_topic_info())):\n",
    "    print(f\"Topic {topic}: {topic_model_positive.get_topic(topic)}\")\n",
    "\n",
    "# # 부정 리뷰 토픽 내 주요 단어\n",
    "# for topic in range(len(topic_model_negative.get_topic_info())):\n",
    "#     print(f\"Topic {topic}: {topic_model_negative.get_topic(topic)}\")\n"
   ]
  },
  {
   "cell_type": "code",
   "execution_count": 67,
   "metadata": {},
   "outputs": [
    {
     "name": "stdout",
     "output_type": "stream",
     "text": [
      "부정적인 토픽 데이터를 'negative_topics.csv' 파일로 저장 완료!\n"
     ]
    }
   ],
   "source": [
    "# 부정적 토픽 \n",
    "import pandas as pd\n",
    "\n",
    "# 부정적인 토픽 데이터 저장을 위한 리스트\n",
    "negative_topics_list = []\n",
    "\n",
    "for topic in range(len(topic_model_negative.get_topic_info())):\n",
    "    topic_data = topic_model_negative.get_topic(topic)\n",
    "    \n",
    "    # topic_data가 비어있거나 False일 경우 건너뛰기\n",
    "    if not topic_data or topic_data is False:\n",
    "        negative_topics_list.append([topic, \"False\"])\n",
    "        continue\n",
    "    \n",
    "    # 빈 단어 제거 후 단어만 추출\n",
    "    topic_words = [word for word, _ in topic_data if word.strip()]  # 빈 문자열 제거\n",
    "\n",
    "    if topic_words:\n",
    "        negative_topics_list.append([topic, \", \".join(topic_words)])\n",
    "    else:\n",
    "        negative_topics_list.append([topic, \"(Empty Topic)\"])\n",
    "\n",
    "# DataFrame 생성\n",
    "positive_topics_df = pd.DataFrame(negative_topics_list, columns=[\"Topic\", \"Keywords\"])\n",
    "\n",
    "# CSV 파일로 저장\n",
    "positive_topics_df.to_csv(\"(영화 이름)_negative_topics.csv\", index=False, encoding=\"utf-8\")\n",
    "\n",
    "print(\"부정적인 토픽 데이터를 'negative_topics.csv' 파일로 저장 완료!\")\n",
    "    "
   ]
  },
  {
   "cell_type": "code",
   "execution_count": null,
   "metadata": {},
   "outputs": [],
   "source": [
    "# 긍정적 토픽 \n",
    "import pandas as pd\n",
    "\n",
    "# 긍정적인 토픽 데이터 저장을 위한 리스트\n",
    "positive_topics_list = []\n",
    "\n",
    "for topic in range(len(topic_model_positive.get_topic_info())):\n",
    "    topic_data = topic_model_positive.get_topic(topic)\n",
    "    \n",
    "    # topic_data가 비어있거나 False일 경우 건너뛰기\n",
    "    if not topic_data or topic_data is False:\n",
    "        positive_topics_list.append([topic, \"False\"])\n",
    "        continue\n",
    "    \n",
    "    # 빈 단어 제거 후 단어만 추출\n",
    "    topic_words = [word for word, _ in topic_data if word.strip()]  # 빈 문자열 제거\n",
    "\n",
    "    if topic_words:\n",
    "        positive_topics_list.append([topic, \", \".join(topic_words)])\n",
    "    else:\n",
    "        positive_topics_list.append([topic, \"(Empty Topic)\"])\n",
    "\n",
    "# DataFrame 생성\n",
    "positive_topics_df = pd.DataFrame(positive_topics_list, columns=[\"Topic\", \"Keywords\"])\n",
    "\n",
    "# CSV 파일로 저장\n",
    "positive_topics_df.to_csv(\"(영화 이름)_positive_topics.csv\", index=False, encoding=\"utf-8\")\n",
    "\n",
    "print(\"긍정적인 토픽 데이터를 'positive_topics.csv' 파일로 저장 완료!\")"
   ]
  },
  {
   "cell_type": "code",
   "execution_count": 68,
   "metadata": {},
   "outputs": [
    {
     "ename": "ValueError",
     "evalue": "zero-size array to reduction operation maximum which has no identity",
     "output_type": "error",
     "traceback": [
      "\u001b[0;31m---------------------------------------------------------------------------\u001b[0m",
      "\u001b[0;31mValueError\u001b[0m                                Traceback (most recent call last)",
      "Cell \u001b[0;32mIn[68], line 2\u001b[0m\n\u001b[1;32m      1\u001b[0m \u001b[38;5;66;03m# 긍정 리뷰 토픽 관계도 시각화\u001b[39;00m\n\u001b[0;32m----> 2\u001b[0m \u001b[43mtopic_model_positive\u001b[49m\u001b[38;5;241;43m.\u001b[39;49m\u001b[43mvisualize_topics\u001b[49m\u001b[43m(\u001b[49m\u001b[43m)\u001b[49m\n",
      "File \u001b[0;32m/opt/homebrew/anaconda3/envs/game2/lib/python3.10/site-packages/bertopic/_bertopic.py:2424\u001b[0m, in \u001b[0;36mBERTopic.visualize_topics\u001b[0;34m(self, topics, top_n_topics, use_ctfidf, custom_labels, title, width, height)\u001b[0m\n\u001b[1;32m   2391\u001b[0m \u001b[38;5;250m\u001b[39m\u001b[38;5;124;03m\"\"\"Visualize topics, their sizes, and their corresponding words.\u001b[39;00m\n\u001b[1;32m   2392\u001b[0m \n\u001b[1;32m   2393\u001b[0m \u001b[38;5;124;03mThis visualization is highly inspired by LDAvis, a great visualization\u001b[39;00m\n\u001b[0;32m   (...)\u001b[0m\n\u001b[1;32m   2421\u001b[0m \u001b[38;5;124;03m```\u001b[39;00m\n\u001b[1;32m   2422\u001b[0m \u001b[38;5;124;03m\"\"\"\u001b[39;00m\n\u001b[1;32m   2423\u001b[0m check_is_fitted(\u001b[38;5;28mself\u001b[39m)\n\u001b[0;32m-> 2424\u001b[0m \u001b[38;5;28;01mreturn\u001b[39;00m \u001b[43mplotting\u001b[49m\u001b[38;5;241;43m.\u001b[39;49m\u001b[43mvisualize_topics\u001b[49m\u001b[43m(\u001b[49m\n\u001b[1;32m   2425\u001b[0m \u001b[43m    \u001b[49m\u001b[38;5;28;43mself\u001b[39;49m\u001b[43m,\u001b[49m\n\u001b[1;32m   2426\u001b[0m \u001b[43m    \u001b[49m\u001b[43mtopics\u001b[49m\u001b[38;5;241;43m=\u001b[39;49m\u001b[43mtopics\u001b[49m\u001b[43m,\u001b[49m\n\u001b[1;32m   2427\u001b[0m \u001b[43m    \u001b[49m\u001b[43mtop_n_topics\u001b[49m\u001b[38;5;241;43m=\u001b[39;49m\u001b[43mtop_n_topics\u001b[49m\u001b[43m,\u001b[49m\n\u001b[1;32m   2428\u001b[0m \u001b[43m    \u001b[49m\u001b[43muse_ctfidf\u001b[49m\u001b[38;5;241;43m=\u001b[39;49m\u001b[43muse_ctfidf\u001b[49m\u001b[43m,\u001b[49m\n\u001b[1;32m   2429\u001b[0m \u001b[43m    \u001b[49m\u001b[43mcustom_labels\u001b[49m\u001b[38;5;241;43m=\u001b[39;49m\u001b[43mcustom_labels\u001b[49m\u001b[43m,\u001b[49m\n\u001b[1;32m   2430\u001b[0m \u001b[43m    \u001b[49m\u001b[43mtitle\u001b[49m\u001b[38;5;241;43m=\u001b[39;49m\u001b[43mtitle\u001b[49m\u001b[43m,\u001b[49m\n\u001b[1;32m   2431\u001b[0m \u001b[43m    \u001b[49m\u001b[43mwidth\u001b[49m\u001b[38;5;241;43m=\u001b[39;49m\u001b[43mwidth\u001b[49m\u001b[43m,\u001b[49m\n\u001b[1;32m   2432\u001b[0m \u001b[43m    \u001b[49m\u001b[43mheight\u001b[49m\u001b[38;5;241;43m=\u001b[39;49m\u001b[43mheight\u001b[49m\u001b[43m,\u001b[49m\n\u001b[1;32m   2433\u001b[0m \u001b[43m\u001b[49m\u001b[43m)\u001b[49m\n",
      "File \u001b[0;32m/opt/homebrew/anaconda3/envs/game2/lib/python3.10/site-packages/bertopic/plotting/_topics.py:92\u001b[0m, in \u001b[0;36mvisualize_topics\u001b[0;34m(topic_model, topics, top_n_topics, use_ctfidf, custom_labels, title, width, height)\u001b[0m\n\u001b[1;32m     90\u001b[0m     embeddings \u001b[38;5;241m=\u001b[39m UMAP(n_neighbors\u001b[38;5;241m=\u001b[39m\u001b[38;5;241m2\u001b[39m, n_components\u001b[38;5;241m=\u001b[39m\u001b[38;5;241m2\u001b[39m, metric\u001b[38;5;241m=\u001b[39m\u001b[38;5;124m\"\u001b[39m\u001b[38;5;124mhellinger\u001b[39m\u001b[38;5;124m\"\u001b[39m, random_state\u001b[38;5;241m=\u001b[39m\u001b[38;5;241m42\u001b[39m)\u001b[38;5;241m.\u001b[39mfit_transform(embeddings)\n\u001b[1;32m     91\u001b[0m \u001b[38;5;28;01melse\u001b[39;00m:\n\u001b[0;32m---> 92\u001b[0m     embeddings \u001b[38;5;241m=\u001b[39m \u001b[43mUMAP\u001b[49m\u001b[43m(\u001b[49m\u001b[43mn_neighbors\u001b[49m\u001b[38;5;241;43m=\u001b[39;49m\u001b[38;5;241;43m2\u001b[39;49m\u001b[43m,\u001b[49m\u001b[43m \u001b[49m\u001b[43mn_components\u001b[49m\u001b[38;5;241;43m=\u001b[39;49m\u001b[38;5;241;43m2\u001b[39;49m\u001b[43m,\u001b[49m\u001b[43m \u001b[49m\u001b[43mmetric\u001b[49m\u001b[38;5;241;43m=\u001b[39;49m\u001b[38;5;124;43m\"\u001b[39;49m\u001b[38;5;124;43mcosine\u001b[39;49m\u001b[38;5;124;43m\"\u001b[39;49m\u001b[43m,\u001b[49m\u001b[43m \u001b[49m\u001b[43mrandom_state\u001b[49m\u001b[38;5;241;43m=\u001b[39;49m\u001b[38;5;241;43m42\u001b[39;49m\u001b[43m)\u001b[49m\u001b[38;5;241;43m.\u001b[39;49m\u001b[43mfit_transform\u001b[49m\u001b[43m(\u001b[49m\u001b[43membeddings\u001b[49m\u001b[43m)\u001b[49m\n\u001b[1;32m     94\u001b[0m \u001b[38;5;66;03m# Visualize with plotly\u001b[39;00m\n\u001b[1;32m     95\u001b[0m df \u001b[38;5;241m=\u001b[39m pd\u001b[38;5;241m.\u001b[39mDataFrame(\n\u001b[1;32m     96\u001b[0m     {\n\u001b[1;32m     97\u001b[0m         \u001b[38;5;124m\"\u001b[39m\u001b[38;5;124mx\u001b[39m\u001b[38;5;124m\"\u001b[39m: embeddings[:, \u001b[38;5;241m0\u001b[39m],\n\u001b[0;32m   (...)\u001b[0m\n\u001b[1;32m    102\u001b[0m     }\n\u001b[1;32m    103\u001b[0m )\n",
      "File \u001b[0;32m/opt/homebrew/anaconda3/envs/game2/lib/python3.10/site-packages/umap/umap_.py:2928\u001b[0m, in \u001b[0;36mUMAP.fit_transform\u001b[0;34m(self, X, y, force_all_finite, **kwargs)\u001b[0m\n\u001b[1;32m   2890\u001b[0m \u001b[38;5;28;01mdef\u001b[39;00m\u001b[38;5;250m \u001b[39m\u001b[38;5;21mfit_transform\u001b[39m(\u001b[38;5;28mself\u001b[39m, X, y\u001b[38;5;241m=\u001b[39m\u001b[38;5;28;01mNone\u001b[39;00m, force_all_finite\u001b[38;5;241m=\u001b[39m\u001b[38;5;28;01mTrue\u001b[39;00m, \u001b[38;5;241m*\u001b[39m\u001b[38;5;241m*\u001b[39mkwargs):\n\u001b[1;32m   2891\u001b[0m \u001b[38;5;250m    \u001b[39m\u001b[38;5;124;03m\"\"\"Fit X into an embedded space and return that transformed\u001b[39;00m\n\u001b[1;32m   2892\u001b[0m \u001b[38;5;124;03m    output.\u001b[39;00m\n\u001b[1;32m   2893\u001b[0m \n\u001b[0;32m   (...)\u001b[0m\n\u001b[1;32m   2926\u001b[0m \u001b[38;5;124;03m        Local radii of data points in the embedding (log-transformed).\u001b[39;00m\n\u001b[1;32m   2927\u001b[0m \u001b[38;5;124;03m    \"\"\"\u001b[39;00m\n\u001b[0;32m-> 2928\u001b[0m     \u001b[38;5;28;43mself\u001b[39;49m\u001b[38;5;241;43m.\u001b[39;49m\u001b[43mfit\u001b[49m\u001b[43m(\u001b[49m\u001b[43mX\u001b[49m\u001b[43m,\u001b[49m\u001b[43m \u001b[49m\u001b[43my\u001b[49m\u001b[43m,\u001b[49m\u001b[43m \u001b[49m\u001b[43mforce_all_finite\u001b[49m\u001b[43m,\u001b[49m\u001b[43m \u001b[49m\u001b[38;5;241;43m*\u001b[39;49m\u001b[38;5;241;43m*\u001b[39;49m\u001b[43mkwargs\u001b[49m\u001b[43m)\u001b[49m\n\u001b[1;32m   2929\u001b[0m     \u001b[38;5;28;01mif\u001b[39;00m \u001b[38;5;28mself\u001b[39m\u001b[38;5;241m.\u001b[39mtransform_mode \u001b[38;5;241m==\u001b[39m \u001b[38;5;124m\"\u001b[39m\u001b[38;5;124membedding\u001b[39m\u001b[38;5;124m\"\u001b[39m:\n\u001b[1;32m   2930\u001b[0m         \u001b[38;5;28;01mif\u001b[39;00m \u001b[38;5;28mself\u001b[39m\u001b[38;5;241m.\u001b[39moutput_dens:\n",
      "File \u001b[0;32m/opt/homebrew/anaconda3/envs/game2/lib/python3.10/site-packages/umap/umap_.py:2817\u001b[0m, in \u001b[0;36mUMAP.fit\u001b[0;34m(self, X, y, force_all_finite, **kwargs)\u001b[0m\n\u001b[1;32m   2813\u001b[0m \u001b[38;5;28;01mif\u001b[39;00m \u001b[38;5;28mself\u001b[39m\u001b[38;5;241m.\u001b[39mtransform_mode \u001b[38;5;241m==\u001b[39m \u001b[38;5;124m\"\u001b[39m\u001b[38;5;124membedding\u001b[39m\u001b[38;5;124m\"\u001b[39m:\n\u001b[1;32m   2814\u001b[0m     epochs \u001b[38;5;241m=\u001b[39m (\n\u001b[1;32m   2815\u001b[0m         \u001b[38;5;28mself\u001b[39m\u001b[38;5;241m.\u001b[39mn_epochs_list \u001b[38;5;28;01mif\u001b[39;00m \u001b[38;5;28mself\u001b[39m\u001b[38;5;241m.\u001b[39mn_epochs_list \u001b[38;5;129;01mis\u001b[39;00m \u001b[38;5;129;01mnot\u001b[39;00m \u001b[38;5;28;01mNone\u001b[39;00m \u001b[38;5;28;01melse\u001b[39;00m \u001b[38;5;28mself\u001b[39m\u001b[38;5;241m.\u001b[39mn_epochs\n\u001b[1;32m   2816\u001b[0m     )\n\u001b[0;32m-> 2817\u001b[0m     \u001b[38;5;28mself\u001b[39m\u001b[38;5;241m.\u001b[39membedding_, aux_data \u001b[38;5;241m=\u001b[39m \u001b[38;5;28;43mself\u001b[39;49m\u001b[38;5;241;43m.\u001b[39;49m\u001b[43m_fit_embed_data\u001b[49m\u001b[43m(\u001b[49m\n\u001b[1;32m   2818\u001b[0m \u001b[43m        \u001b[49m\u001b[38;5;28;43mself\u001b[39;49m\u001b[38;5;241;43m.\u001b[39;49m\u001b[43m_raw_data\u001b[49m\u001b[43m[\u001b[49m\u001b[43mindex\u001b[49m\u001b[43m]\u001b[49m\u001b[43m,\u001b[49m\n\u001b[1;32m   2819\u001b[0m \u001b[43m        \u001b[49m\u001b[43mepochs\u001b[49m\u001b[43m,\u001b[49m\n\u001b[1;32m   2820\u001b[0m \u001b[43m        \u001b[49m\u001b[43minit\u001b[49m\u001b[43m,\u001b[49m\n\u001b[1;32m   2821\u001b[0m \u001b[43m        \u001b[49m\u001b[43mrandom_state\u001b[49m\u001b[43m,\u001b[49m\u001b[43m  \u001b[49m\u001b[38;5;66;43;03m# JH why raw data?\u001b[39;49;00m\n\u001b[1;32m   2822\u001b[0m \u001b[43m        \u001b[49m\u001b[38;5;241;43m*\u001b[39;49m\u001b[38;5;241;43m*\u001b[39;49m\u001b[43mkwargs\u001b[49m\u001b[43m,\u001b[49m\n\u001b[1;32m   2823\u001b[0m \u001b[43m    \u001b[49m\u001b[43m)\u001b[49m\n\u001b[1;32m   2825\u001b[0m     \u001b[38;5;28;01mif\u001b[39;00m \u001b[38;5;28mself\u001b[39m\u001b[38;5;241m.\u001b[39mn_epochs_list \u001b[38;5;129;01mis\u001b[39;00m \u001b[38;5;129;01mnot\u001b[39;00m \u001b[38;5;28;01mNone\u001b[39;00m:\n\u001b[1;32m   2826\u001b[0m         \u001b[38;5;28;01mif\u001b[39;00m \u001b[38;5;124m\"\u001b[39m\u001b[38;5;124membedding_list\u001b[39m\u001b[38;5;124m\"\u001b[39m \u001b[38;5;129;01mnot\u001b[39;00m \u001b[38;5;129;01min\u001b[39;00m aux_data:\n",
      "File \u001b[0;32m/opt/homebrew/anaconda3/envs/game2/lib/python3.10/site-packages/umap/umap_.py:2865\u001b[0m, in \u001b[0;36mUMAP._fit_embed_data\u001b[0;34m(self, X, n_epochs, init, random_state, **kwargs)\u001b[0m\n\u001b[1;32m   2860\u001b[0m \u001b[38;5;28;01mdef\u001b[39;00m\u001b[38;5;250m \u001b[39m\u001b[38;5;21m_fit_embed_data\u001b[39m(\u001b[38;5;28mself\u001b[39m, X, n_epochs, init, random_state, \u001b[38;5;241m*\u001b[39m\u001b[38;5;241m*\u001b[39mkwargs):\n\u001b[1;32m   2861\u001b[0m \u001b[38;5;250m    \u001b[39m\u001b[38;5;124;03m\"\"\"A method wrapper for simplicial_set_embedding that can be\u001b[39;00m\n\u001b[1;32m   2862\u001b[0m \u001b[38;5;124;03m    replaced by subclasses. Arbitrary keyword arguments can be passed\u001b[39;00m\n\u001b[1;32m   2863\u001b[0m \u001b[38;5;124;03m    through .fit() and .fit_transform().\u001b[39;00m\n\u001b[1;32m   2864\u001b[0m \u001b[38;5;124;03m    \"\"\"\u001b[39;00m\n\u001b[0;32m-> 2865\u001b[0m     \u001b[38;5;28;01mreturn\u001b[39;00m \u001b[43msimplicial_set_embedding\u001b[49m\u001b[43m(\u001b[49m\n\u001b[1;32m   2866\u001b[0m \u001b[43m        \u001b[49m\u001b[43mX\u001b[49m\u001b[43m,\u001b[49m\n\u001b[1;32m   2867\u001b[0m \u001b[43m        \u001b[49m\u001b[38;5;28;43mself\u001b[39;49m\u001b[38;5;241;43m.\u001b[39;49m\u001b[43mgraph_\u001b[49m\u001b[43m,\u001b[49m\n\u001b[1;32m   2868\u001b[0m \u001b[43m        \u001b[49m\u001b[38;5;28;43mself\u001b[39;49m\u001b[38;5;241;43m.\u001b[39;49m\u001b[43mn_components\u001b[49m\u001b[43m,\u001b[49m\n\u001b[1;32m   2869\u001b[0m \u001b[43m        \u001b[49m\u001b[38;5;28;43mself\u001b[39;49m\u001b[38;5;241;43m.\u001b[39;49m\u001b[43m_initial_alpha\u001b[49m\u001b[43m,\u001b[49m\n\u001b[1;32m   2870\u001b[0m \u001b[43m        \u001b[49m\u001b[38;5;28;43mself\u001b[39;49m\u001b[38;5;241;43m.\u001b[39;49m\u001b[43m_a\u001b[49m\u001b[43m,\u001b[49m\n\u001b[1;32m   2871\u001b[0m \u001b[43m        \u001b[49m\u001b[38;5;28;43mself\u001b[39;49m\u001b[38;5;241;43m.\u001b[39;49m\u001b[43m_b\u001b[49m\u001b[43m,\u001b[49m\n\u001b[1;32m   2872\u001b[0m \u001b[43m        \u001b[49m\u001b[38;5;28;43mself\u001b[39;49m\u001b[38;5;241;43m.\u001b[39;49m\u001b[43mrepulsion_strength\u001b[49m\u001b[43m,\u001b[49m\n\u001b[1;32m   2873\u001b[0m \u001b[43m        \u001b[49m\u001b[38;5;28;43mself\u001b[39;49m\u001b[38;5;241;43m.\u001b[39;49m\u001b[43mnegative_sample_rate\u001b[49m\u001b[43m,\u001b[49m\n\u001b[1;32m   2874\u001b[0m \u001b[43m        \u001b[49m\u001b[43mn_epochs\u001b[49m\u001b[43m,\u001b[49m\n\u001b[1;32m   2875\u001b[0m \u001b[43m        \u001b[49m\u001b[43minit\u001b[49m\u001b[43m,\u001b[49m\n\u001b[1;32m   2876\u001b[0m \u001b[43m        \u001b[49m\u001b[43mrandom_state\u001b[49m\u001b[43m,\u001b[49m\n\u001b[1;32m   2877\u001b[0m \u001b[43m        \u001b[49m\u001b[38;5;28;43mself\u001b[39;49m\u001b[38;5;241;43m.\u001b[39;49m\u001b[43m_input_distance_func\u001b[49m\u001b[43m,\u001b[49m\n\u001b[1;32m   2878\u001b[0m \u001b[43m        \u001b[49m\u001b[38;5;28;43mself\u001b[39;49m\u001b[38;5;241;43m.\u001b[39;49m\u001b[43m_metric_kwds\u001b[49m\u001b[43m,\u001b[49m\n\u001b[1;32m   2879\u001b[0m \u001b[43m        \u001b[49m\u001b[38;5;28;43mself\u001b[39;49m\u001b[38;5;241;43m.\u001b[39;49m\u001b[43mdensmap\u001b[49m\u001b[43m,\u001b[49m\n\u001b[1;32m   2880\u001b[0m \u001b[43m        \u001b[49m\u001b[38;5;28;43mself\u001b[39;49m\u001b[38;5;241;43m.\u001b[39;49m\u001b[43m_densmap_kwds\u001b[49m\u001b[43m,\u001b[49m\n\u001b[1;32m   2881\u001b[0m \u001b[43m        \u001b[49m\u001b[38;5;28;43mself\u001b[39;49m\u001b[38;5;241;43m.\u001b[39;49m\u001b[43moutput_dens\u001b[49m\u001b[43m,\u001b[49m\n\u001b[1;32m   2882\u001b[0m \u001b[43m        \u001b[49m\u001b[38;5;28;43mself\u001b[39;49m\u001b[38;5;241;43m.\u001b[39;49m\u001b[43m_output_distance_func\u001b[49m\u001b[43m,\u001b[49m\n\u001b[1;32m   2883\u001b[0m \u001b[43m        \u001b[49m\u001b[38;5;28;43mself\u001b[39;49m\u001b[38;5;241;43m.\u001b[39;49m\u001b[43m_output_metric_kwds\u001b[49m\u001b[43m,\u001b[49m\n\u001b[1;32m   2884\u001b[0m \u001b[43m        \u001b[49m\u001b[38;5;28;43mself\u001b[39;49m\u001b[38;5;241;43m.\u001b[39;49m\u001b[43moutput_metric\u001b[49m\u001b[43m \u001b[49m\u001b[38;5;129;43;01min\u001b[39;49;00m\u001b[43m \u001b[49m\u001b[43m(\u001b[49m\u001b[38;5;124;43m\"\u001b[39;49m\u001b[38;5;124;43meuclidean\u001b[39;49m\u001b[38;5;124;43m\"\u001b[39;49m\u001b[43m,\u001b[49m\u001b[43m \u001b[49m\u001b[38;5;124;43m\"\u001b[39;49m\u001b[38;5;124;43ml2\u001b[39;49m\u001b[38;5;124;43m\"\u001b[39;49m\u001b[43m)\u001b[49m\u001b[43m,\u001b[49m\n\u001b[1;32m   2885\u001b[0m \u001b[43m        \u001b[49m\u001b[38;5;28;43mself\u001b[39;49m\u001b[38;5;241;43m.\u001b[39;49m\u001b[43mrandom_state\u001b[49m\u001b[43m \u001b[49m\u001b[38;5;129;43;01mis\u001b[39;49;00m\u001b[43m \u001b[49m\u001b[38;5;28;43;01mNone\u001b[39;49;00m\u001b[43m,\u001b[49m\n\u001b[1;32m   2886\u001b[0m \u001b[43m        \u001b[49m\u001b[38;5;28;43mself\u001b[39;49m\u001b[38;5;241;43m.\u001b[39;49m\u001b[43mverbose\u001b[49m\u001b[43m,\u001b[49m\n\u001b[1;32m   2887\u001b[0m \u001b[43m        \u001b[49m\u001b[43mtqdm_kwds\u001b[49m\u001b[38;5;241;43m=\u001b[39;49m\u001b[38;5;28;43mself\u001b[39;49m\u001b[38;5;241;43m.\u001b[39;49m\u001b[43mtqdm_kwds\u001b[49m\u001b[43m,\u001b[49m\n\u001b[1;32m   2888\u001b[0m \u001b[43m    \u001b[49m\u001b[43m)\u001b[49m\n",
      "File \u001b[0;32m/opt/homebrew/anaconda3/envs/game2/lib/python3.10/site-packages/umap/umap_.py:1089\u001b[0m, in \u001b[0;36msimplicial_set_embedding\u001b[0;34m(data, graph, n_components, initial_alpha, a, b, gamma, negative_sample_rate, n_epochs, init, random_state, metric, metric_kwds, densmap, densmap_kwds, output_dens, output_metric, output_metric_kwds, euclidean_output, parallel, verbose, tqdm_kwds)\u001b[0m\n\u001b[1;32m   1086\u001b[0m n_epochs_max \u001b[38;5;241m=\u001b[39m \u001b[38;5;28mmax\u001b[39m(n_epochs) \u001b[38;5;28;01mif\u001b[39;00m \u001b[38;5;28misinstance\u001b[39m(n_epochs, \u001b[38;5;28mlist\u001b[39m) \u001b[38;5;28;01melse\u001b[39;00m n_epochs\n\u001b[1;32m   1088\u001b[0m \u001b[38;5;28;01mif\u001b[39;00m n_epochs_max \u001b[38;5;241m>\u001b[39m \u001b[38;5;241m10\u001b[39m:\n\u001b[0;32m-> 1089\u001b[0m     graph\u001b[38;5;241m.\u001b[39mdata[graph\u001b[38;5;241m.\u001b[39mdata \u001b[38;5;241m<\u001b[39m (\u001b[43mgraph\u001b[49m\u001b[38;5;241;43m.\u001b[39;49m\u001b[43mdata\u001b[49m\u001b[38;5;241;43m.\u001b[39;49m\u001b[43mmax\u001b[49m\u001b[43m(\u001b[49m\u001b[43m)\u001b[49m \u001b[38;5;241m/\u001b[39m \u001b[38;5;28mfloat\u001b[39m(n_epochs_max))] \u001b[38;5;241m=\u001b[39m \u001b[38;5;241m0.0\u001b[39m\n\u001b[1;32m   1090\u001b[0m \u001b[38;5;28;01melse\u001b[39;00m:\n\u001b[1;32m   1091\u001b[0m     graph\u001b[38;5;241m.\u001b[39mdata[graph\u001b[38;5;241m.\u001b[39mdata \u001b[38;5;241m<\u001b[39m (graph\u001b[38;5;241m.\u001b[39mdata\u001b[38;5;241m.\u001b[39mmax() \u001b[38;5;241m/\u001b[39m \u001b[38;5;28mfloat\u001b[39m(default_epochs))] \u001b[38;5;241m=\u001b[39m \u001b[38;5;241m0.0\u001b[39m\n",
      "File \u001b[0;32m/opt/homebrew/anaconda3/envs/game2/lib/python3.10/site-packages/numpy/core/_methods.py:41\u001b[0m, in \u001b[0;36m_amax\u001b[0;34m(a, axis, out, keepdims, initial, where)\u001b[0m\n\u001b[1;32m     39\u001b[0m \u001b[38;5;28;01mdef\u001b[39;00m\u001b[38;5;250m \u001b[39m\u001b[38;5;21m_amax\u001b[39m(a, axis\u001b[38;5;241m=\u001b[39m\u001b[38;5;28;01mNone\u001b[39;00m, out\u001b[38;5;241m=\u001b[39m\u001b[38;5;28;01mNone\u001b[39;00m, keepdims\u001b[38;5;241m=\u001b[39m\u001b[38;5;28;01mFalse\u001b[39;00m,\n\u001b[1;32m     40\u001b[0m           initial\u001b[38;5;241m=\u001b[39m_NoValue, where\u001b[38;5;241m=\u001b[39m\u001b[38;5;28;01mTrue\u001b[39;00m):\n\u001b[0;32m---> 41\u001b[0m     \u001b[38;5;28;01mreturn\u001b[39;00m \u001b[43mumr_maximum\u001b[49m\u001b[43m(\u001b[49m\u001b[43ma\u001b[49m\u001b[43m,\u001b[49m\u001b[43m \u001b[49m\u001b[43maxis\u001b[49m\u001b[43m,\u001b[49m\u001b[43m \u001b[49m\u001b[38;5;28;43;01mNone\u001b[39;49;00m\u001b[43m,\u001b[49m\u001b[43m \u001b[49m\u001b[43mout\u001b[49m\u001b[43m,\u001b[49m\u001b[43m \u001b[49m\u001b[43mkeepdims\u001b[49m\u001b[43m,\u001b[49m\u001b[43m \u001b[49m\u001b[43minitial\u001b[49m\u001b[43m,\u001b[49m\u001b[43m \u001b[49m\u001b[43mwhere\u001b[49m\u001b[43m)\u001b[49m\n",
      "\u001b[0;31mValueError\u001b[0m: zero-size array to reduction operation maximum which has no identity"
     ]
    }
   ],
   "source": [
    "# 긍정 리뷰 토픽 관계도 시각화\n",
    "topic_model_positive.visualize_topics()"
   ]
  },
  {
   "cell_type": "code",
   "execution_count": 69,
   "metadata": {},
   "outputs": [
    {
     "data": {
      "application/vnd.plotly.v1+json": {
       "config": {
        "plotlyServerURL": "https://plot.ly"
       },
       "data": [
        {
         "customdata": [
          [
           0,
           "story | boring | feel | character | gunplay",
           97
          ],
          [
           1,
           "rate | drop | item | low | farming",
           67
          ],
          [
           2,
           "nexon | greedy | nexons | monetization | thanks",
           66
          ],
          [
           3,
           "grind | grinding | part | hour | get",
           66
          ],
          [
           4,
           "received | product | free | mission | time",
           63
          ],
          [
           5,
           "boring | soooo | kinda | man | naaaaaaaah",
           61
          ],
          [
           6,
           "account | support | ticket | lost | nexon",
           57
          ],
          [
           7,
           "bad | suck | kinda | hour | meh",
           49
          ],
          [
           8,
           "trash | garbage | solo | copy | fixing",
           49
          ],
          [
           9,
           "shaders | shader | loading | crash | compiling",
           45
          ],
          [
           10,
           "season | invasion | new | update | seasonal",
           40
          ],
          [
           11,
           "micro | transaction | microtransactions | predatory | mobile",
           39
          ],
          [
           12,
           "pc | crash | crashing | setting | spec",
           37
          ],
          [
           13,
           "skin | slot | buy | paint | currency",
           37
          ],
          [
           14,
           "crash | crashing | disconnect | keep | memory",
           37
          ],
          [
           15,
           "monetization | predatory | monetisation | ripoff | aggressive",
           36
          ],
          [
           16,
           "female | skin | character | porn | male",
           35
          ],
          [
           17,
           "lag | stuttering | stutter | mouse | unplayable",
           32
          ],
          [
           18,
           "bullet | sponge | gunplay | enemy | boring",
           31
          ],
          [
           19,
           "clone | bad | worse | copied | good",
           29
          ],
          [
           20,
           "data | collection | accept | personal | policy",
           28
          ],
          [
           21,
           "looter | shooter | bewbs | gunplay | style",
           27
          ],
          [
           22,
           "repetitive | boring | bored | loop | fast",
           26
          ],
          [
           23,
           "screen | start | launch | load | black",
           25
          ],
          [
           24,
           "optimization | bad | optimized | poor | horrible",
           24
          ],
          [
           25,
           "mission | boring | repetitive | anyones | design",
           24
          ],
          [
           26,
           "bunny | kill | boring | run | aoe",
           22
          ],
          [
           27,
           "error | connect | connection | connecting | login",
           20
          ],
          [
           28,
           "worse | worst | part | parkor | doe",
           20
          ],
          [
           29,
           "version | worse | ist | ngl | jank",
           17
          ],
          [
           30,
           "korean | slop | korea | gacha | ai",
           17
          ],
          [
           31,
           "gooner | bait | toast | cheek | gooners",
           15
          ],
          [
           32,
           "rng | respect | bad | spend | neck",
           15
          ],
          [
           33,
           "weapon | character | player | level | mod",
           15
          ],
          [
           34,
           "mission | failed | time | experiencing | disconnected",
           15
          ],
          [
           35,
           "player | devs | content | update | thank",
           14
          ],
          [
           36,
           "waste | time | value | hour | btch",
           14
          ],
          [
           37,
           "voice | acting | english | sound | feel",
           13
          ],
          [
           38,
           "directx | dx | supported | error | launch",
           13
          ],
          [
           39,
           "button | control | mouse | cant | intel",
           13
          ],
          [
           40,
           "bland | uninspired | grown | feel | describe",
           12
          ],
          [
           41,
           "fps | setting | rtx | lowest | low",
           12
          ],
          [
           42,
           "grab | cash | income | spare | robbed",
           12
          ],
          [
           43,
           "violation | detectedgame | practice | data | player",
           11
          ],
          [
           44,
           "child | horny | infant | daughter | grindier",
           11
          ],
          [
           45,
           "power | game | dye | etc | cpu",
           10
          ]
         ],
         "hovertemplate": "<b>Topic %{customdata[0]}</b><br>%{customdata[1]}<br>Size: %{customdata[2]}",
         "legendgroup": "",
         "marker": {
          "color": "#B0BEC5",
          "line": {
           "color": "DarkSlateGrey",
           "width": 2
          },
          "size": [
           97,
           67,
           66,
           66,
           63,
           61,
           57,
           49,
           49,
           45,
           40,
           39,
           37,
           37,
           37,
           36,
           35,
           32,
           31,
           29,
           28,
           27,
           26,
           25,
           24,
           24,
           22,
           20,
           20,
           17,
           17,
           15,
           15,
           15,
           15,
           14,
           14,
           13,
           13,
           13,
           12,
           12,
           12,
           11,
           11,
           10
          ],
          "sizemode": "area",
          "sizeref": 0.060625,
          "symbol": "circle"
         },
         "mode": "markers",
         "name": "",
         "orientation": "v",
         "showlegend": false,
         "type": "scatter",
         "x": [
          1.3211253881454468,
          9.718488693237305,
          10.662792205810547,
          2.742788314819336,
          9.822674751281738,
          9.714977264404297,
          9.378780364990234,
          4.55864143371582,
          3.652332305908203,
          11.766206741333008,
          0.9005982875823975,
          10.563815116882324,
          11.642945289611816,
          9.992042541503906,
          11.338438987731934,
          10.66882038116455,
          1.314525842666626,
          4.34581184387207,
          2.0437920093536377,
          3.8387317657470703,
          9.406415939331055,
          1.9267548322677612,
          9.886112213134766,
          11.370589256286621,
          11.695429801940918,
          2.0925304889678955,
          1.3469287157058716,
          2.39758038520813,
          4.567657470703125,
          4.066479206085205,
          1.209099531173706,
          1.2846728563308716,
          2.8443944454193115,
          1.4343727827072144,
          2.2594826221466064,
          0.8363580107688904,
          9.910905838012695,
          1.3509000539779663,
          11.40721321105957,
          8.805803298950195,
          9.57291030883789,
          4.345814228057861,
          10.456802368164062,
          9.391019821166992,
          4.735255718231201,
          8.933833122253418
         ],
         "xaxis": "x",
         "y": [
          8.58751392364502,
          13.101029396057129,
          13.246111869812012,
          7.252630233764648,
          13.074658393859863,
          -5.728411674499512,
          11.972731590270996,
          -3.4119138717651367,
          -3.475653886795044,
          4.70810604095459,
          7.9963860511779785,
          13.048043251037598,
          4.831938743591309,
          12.702682495117188,
          5.135931968688965,
          13.089276313781738,
          9.207836151123047,
          -14.953354835510254,
          8.685294151306152,
          -3.4316773414611816,
          12.124935150146484,
          8.606199264526367,
          -5.556997299194336,
          5.103390216827393,
          4.77932071685791,
          7.837296009063721,
          8.700736999511719,
          7.59047794342041,
          -3.5093982219696045,
          -3.4510045051574707,
          8.524362564086914,
          9.368330955505371,
          7.155717372894287,
          8.34312915802002,
          7.726354122161865,
          8.0366849899292,
          -5.53200626373291,
          8.83784294128418,
          5.066965103149414,
          12.60851764678955,
          -5.869207859039307,
          -14.953402519226074,
          13.367696762084961,
          12.495583534240723,
          -3.6483683586120605,
          12.489212989807129
         ],
         "yaxis": "y"
        }
       ],
       "layout": {
        "annotations": [
         {
          "showarrow": false,
          "text": "D1",
          "x": 0.7109043091535568,
          "y": -0.9117808103561407,
          "yshift": 10
         },
         {
          "showarrow": false,
          "text": "D2",
          "x": 7.121021030843258,
          "xshift": 10,
          "y": 15.372851276397705
         }
        ],
        "height": 650,
        "hoverlabel": {
         "bgcolor": "white",
         "font": {
          "family": "Rockwell",
          "size": 16
         }
        },
        "legend": {
         "itemsizing": "constant",
         "tracegroupgap": 0
        },
        "margin": {
         "t": 60
        },
        "shapes": [
         {
          "line": {
           "color": "#CFD8DC",
           "width": 2
          },
          "type": "line",
          "x0": 7.121021030843258,
          "x1": 7.121021030843258,
          "y0": -17.196412897109987,
          "y1": 15.372851276397705
         },
         {
          "line": {
           "color": "#9E9E9E",
           "width": 2
          },
          "type": "line",
          "x0": 0.7109043091535568,
          "x1": 13.53113775253296,
          "y0": -0.9117808103561407,
          "y1": -0.9117808103561407
         }
        ],
        "sliders": [
         {
          "active": 0,
          "pad": {
           "t": 50
          },
          "steps": [
           {
            "args": [
             {
              "marker.color": [
               [
                "red",
                "#B0BEC5",
                "#B0BEC5",
                "#B0BEC5",
                "#B0BEC5",
                "#B0BEC5",
                "#B0BEC5",
                "#B0BEC5",
                "#B0BEC5",
                "#B0BEC5",
                "#B0BEC5",
                "#B0BEC5",
                "#B0BEC5",
                "#B0BEC5",
                "#B0BEC5",
                "#B0BEC5",
                "#B0BEC5",
                "#B0BEC5",
                "#B0BEC5",
                "#B0BEC5",
                "#B0BEC5",
                "#B0BEC5",
                "#B0BEC5",
                "#B0BEC5",
                "#B0BEC5",
                "#B0BEC5",
                "#B0BEC5",
                "#B0BEC5",
                "#B0BEC5",
                "#B0BEC5",
                "#B0BEC5",
                "#B0BEC5",
                "#B0BEC5",
                "#B0BEC5",
                "#B0BEC5",
                "#B0BEC5",
                "#B0BEC5",
                "#B0BEC5",
                "#B0BEC5",
                "#B0BEC5",
                "#B0BEC5",
                "#B0BEC5",
                "#B0BEC5",
                "#B0BEC5",
                "#B0BEC5",
                "#B0BEC5"
               ]
              ]
             }
            ],
            "label": "Topic 0",
            "method": "update"
           },
           {
            "args": [
             {
              "marker.color": [
               [
                "#B0BEC5",
                "red",
                "#B0BEC5",
                "#B0BEC5",
                "#B0BEC5",
                "#B0BEC5",
                "#B0BEC5",
                "#B0BEC5",
                "#B0BEC5",
                "#B0BEC5",
                "#B0BEC5",
                "#B0BEC5",
                "#B0BEC5",
                "#B0BEC5",
                "#B0BEC5",
                "#B0BEC5",
                "#B0BEC5",
                "#B0BEC5",
                "#B0BEC5",
                "#B0BEC5",
                "#B0BEC5",
                "#B0BEC5",
                "#B0BEC5",
                "#B0BEC5",
                "#B0BEC5",
                "#B0BEC5",
                "#B0BEC5",
                "#B0BEC5",
                "#B0BEC5",
                "#B0BEC5",
                "#B0BEC5",
                "#B0BEC5",
                "#B0BEC5",
                "#B0BEC5",
                "#B0BEC5",
                "#B0BEC5",
                "#B0BEC5",
                "#B0BEC5",
                "#B0BEC5",
                "#B0BEC5",
                "#B0BEC5",
                "#B0BEC5",
                "#B0BEC5",
                "#B0BEC5",
                "#B0BEC5",
                "#B0BEC5"
               ]
              ]
             }
            ],
            "label": "Topic 1",
            "method": "update"
           },
           {
            "args": [
             {
              "marker.color": [
               [
                "#B0BEC5",
                "#B0BEC5",
                "red",
                "#B0BEC5",
                "#B0BEC5",
                "#B0BEC5",
                "#B0BEC5",
                "#B0BEC5",
                "#B0BEC5",
                "#B0BEC5",
                "#B0BEC5",
                "#B0BEC5",
                "#B0BEC5",
                "#B0BEC5",
                "#B0BEC5",
                "#B0BEC5",
                "#B0BEC5",
                "#B0BEC5",
                "#B0BEC5",
                "#B0BEC5",
                "#B0BEC5",
                "#B0BEC5",
                "#B0BEC5",
                "#B0BEC5",
                "#B0BEC5",
                "#B0BEC5",
                "#B0BEC5",
                "#B0BEC5",
                "#B0BEC5",
                "#B0BEC5",
                "#B0BEC5",
                "#B0BEC5",
                "#B0BEC5",
                "#B0BEC5",
                "#B0BEC5",
                "#B0BEC5",
                "#B0BEC5",
                "#B0BEC5",
                "#B0BEC5",
                "#B0BEC5",
                "#B0BEC5",
                "#B0BEC5",
                "#B0BEC5",
                "#B0BEC5",
                "#B0BEC5",
                "#B0BEC5"
               ]
              ]
             }
            ],
            "label": "Topic 2",
            "method": "update"
           },
           {
            "args": [
             {
              "marker.color": [
               [
                "#B0BEC5",
                "#B0BEC5",
                "#B0BEC5",
                "red",
                "#B0BEC5",
                "#B0BEC5",
                "#B0BEC5",
                "#B0BEC5",
                "#B0BEC5",
                "#B0BEC5",
                "#B0BEC5",
                "#B0BEC5",
                "#B0BEC5",
                "#B0BEC5",
                "#B0BEC5",
                "#B0BEC5",
                "#B0BEC5",
                "#B0BEC5",
                "#B0BEC5",
                "#B0BEC5",
                "#B0BEC5",
                "#B0BEC5",
                "#B0BEC5",
                "#B0BEC5",
                "#B0BEC5",
                "#B0BEC5",
                "#B0BEC5",
                "#B0BEC5",
                "#B0BEC5",
                "#B0BEC5",
                "#B0BEC5",
                "#B0BEC5",
                "#B0BEC5",
                "#B0BEC5",
                "#B0BEC5",
                "#B0BEC5",
                "#B0BEC5",
                "#B0BEC5",
                "#B0BEC5",
                "#B0BEC5",
                "#B0BEC5",
                "#B0BEC5",
                "#B0BEC5",
                "#B0BEC5",
                "#B0BEC5",
                "#B0BEC5"
               ]
              ]
             }
            ],
            "label": "Topic 3",
            "method": "update"
           },
           {
            "args": [
             {
              "marker.color": [
               [
                "#B0BEC5",
                "#B0BEC5",
                "#B0BEC5",
                "#B0BEC5",
                "red",
                "#B0BEC5",
                "#B0BEC5",
                "#B0BEC5",
                "#B0BEC5",
                "#B0BEC5",
                "#B0BEC5",
                "#B0BEC5",
                "#B0BEC5",
                "#B0BEC5",
                "#B0BEC5",
                "#B0BEC5",
                "#B0BEC5",
                "#B0BEC5",
                "#B0BEC5",
                "#B0BEC5",
                "#B0BEC5",
                "#B0BEC5",
                "#B0BEC5",
                "#B0BEC5",
                "#B0BEC5",
                "#B0BEC5",
                "#B0BEC5",
                "#B0BEC5",
                "#B0BEC5",
                "#B0BEC5",
                "#B0BEC5",
                "#B0BEC5",
                "#B0BEC5",
                "#B0BEC5",
                "#B0BEC5",
                "#B0BEC5",
                "#B0BEC5",
                "#B0BEC5",
                "#B0BEC5",
                "#B0BEC5",
                "#B0BEC5",
                "#B0BEC5",
                "#B0BEC5",
                "#B0BEC5",
                "#B0BEC5",
                "#B0BEC5"
               ]
              ]
             }
            ],
            "label": "Topic 4",
            "method": "update"
           },
           {
            "args": [
             {
              "marker.color": [
               [
                "#B0BEC5",
                "#B0BEC5",
                "#B0BEC5",
                "#B0BEC5",
                "#B0BEC5",
                "red",
                "#B0BEC5",
                "#B0BEC5",
                "#B0BEC5",
                "#B0BEC5",
                "#B0BEC5",
                "#B0BEC5",
                "#B0BEC5",
                "#B0BEC5",
                "#B0BEC5",
                "#B0BEC5",
                "#B0BEC5",
                "#B0BEC5",
                "#B0BEC5",
                "#B0BEC5",
                "#B0BEC5",
                "#B0BEC5",
                "#B0BEC5",
                "#B0BEC5",
                "#B0BEC5",
                "#B0BEC5",
                "#B0BEC5",
                "#B0BEC5",
                "#B0BEC5",
                "#B0BEC5",
                "#B0BEC5",
                "#B0BEC5",
                "#B0BEC5",
                "#B0BEC5",
                "#B0BEC5",
                "#B0BEC5",
                "#B0BEC5",
                "#B0BEC5",
                "#B0BEC5",
                "#B0BEC5",
                "#B0BEC5",
                "#B0BEC5",
                "#B0BEC5",
                "#B0BEC5",
                "#B0BEC5",
                "#B0BEC5"
               ]
              ]
             }
            ],
            "label": "Topic 5",
            "method": "update"
           },
           {
            "args": [
             {
              "marker.color": [
               [
                "#B0BEC5",
                "#B0BEC5",
                "#B0BEC5",
                "#B0BEC5",
                "#B0BEC5",
                "#B0BEC5",
                "red",
                "#B0BEC5",
                "#B0BEC5",
                "#B0BEC5",
                "#B0BEC5",
                "#B0BEC5",
                "#B0BEC5",
                "#B0BEC5",
                "#B0BEC5",
                "#B0BEC5",
                "#B0BEC5",
                "#B0BEC5",
                "#B0BEC5",
                "#B0BEC5",
                "#B0BEC5",
                "#B0BEC5",
                "#B0BEC5",
                "#B0BEC5",
                "#B0BEC5",
                "#B0BEC5",
                "#B0BEC5",
                "#B0BEC5",
                "#B0BEC5",
                "#B0BEC5",
                "#B0BEC5",
                "#B0BEC5",
                "#B0BEC5",
                "#B0BEC5",
                "#B0BEC5",
                "#B0BEC5",
                "#B0BEC5",
                "#B0BEC5",
                "#B0BEC5",
                "#B0BEC5",
                "#B0BEC5",
                "#B0BEC5",
                "#B0BEC5",
                "#B0BEC5",
                "#B0BEC5",
                "#B0BEC5"
               ]
              ]
             }
            ],
            "label": "Topic 6",
            "method": "update"
           },
           {
            "args": [
             {
              "marker.color": [
               [
                "#B0BEC5",
                "#B0BEC5",
                "#B0BEC5",
                "#B0BEC5",
                "#B0BEC5",
                "#B0BEC5",
                "#B0BEC5",
                "red",
                "#B0BEC5",
                "#B0BEC5",
                "#B0BEC5",
                "#B0BEC5",
                "#B0BEC5",
                "#B0BEC5",
                "#B0BEC5",
                "#B0BEC5",
                "#B0BEC5",
                "#B0BEC5",
                "#B0BEC5",
                "#B0BEC5",
                "#B0BEC5",
                "#B0BEC5",
                "#B0BEC5",
                "#B0BEC5",
                "#B0BEC5",
                "#B0BEC5",
                "#B0BEC5",
                "#B0BEC5",
                "#B0BEC5",
                "#B0BEC5",
                "#B0BEC5",
                "#B0BEC5",
                "#B0BEC5",
                "#B0BEC5",
                "#B0BEC5",
                "#B0BEC5",
                "#B0BEC5",
                "#B0BEC5",
                "#B0BEC5",
                "#B0BEC5",
                "#B0BEC5",
                "#B0BEC5",
                "#B0BEC5",
                "#B0BEC5",
                "#B0BEC5",
                "#B0BEC5"
               ]
              ]
             }
            ],
            "label": "Topic 7",
            "method": "update"
           },
           {
            "args": [
             {
              "marker.color": [
               [
                "#B0BEC5",
                "#B0BEC5",
                "#B0BEC5",
                "#B0BEC5",
                "#B0BEC5",
                "#B0BEC5",
                "#B0BEC5",
                "#B0BEC5",
                "red",
                "#B0BEC5",
                "#B0BEC5",
                "#B0BEC5",
                "#B0BEC5",
                "#B0BEC5",
                "#B0BEC5",
                "#B0BEC5",
                "#B0BEC5",
                "#B0BEC5",
                "#B0BEC5",
                "#B0BEC5",
                "#B0BEC5",
                "#B0BEC5",
                "#B0BEC5",
                "#B0BEC5",
                "#B0BEC5",
                "#B0BEC5",
                "#B0BEC5",
                "#B0BEC5",
                "#B0BEC5",
                "#B0BEC5",
                "#B0BEC5",
                "#B0BEC5",
                "#B0BEC5",
                "#B0BEC5",
                "#B0BEC5",
                "#B0BEC5",
                "#B0BEC5",
                "#B0BEC5",
                "#B0BEC5",
                "#B0BEC5",
                "#B0BEC5",
                "#B0BEC5",
                "#B0BEC5",
                "#B0BEC5",
                "#B0BEC5",
                "#B0BEC5"
               ]
              ]
             }
            ],
            "label": "Topic 8",
            "method": "update"
           },
           {
            "args": [
             {
              "marker.color": [
               [
                "#B0BEC5",
                "#B0BEC5",
                "#B0BEC5",
                "#B0BEC5",
                "#B0BEC5",
                "#B0BEC5",
                "#B0BEC5",
                "#B0BEC5",
                "#B0BEC5",
                "red",
                "#B0BEC5",
                "#B0BEC5",
                "#B0BEC5",
                "#B0BEC5",
                "#B0BEC5",
                "#B0BEC5",
                "#B0BEC5",
                "#B0BEC5",
                "#B0BEC5",
                "#B0BEC5",
                "#B0BEC5",
                "#B0BEC5",
                "#B0BEC5",
                "#B0BEC5",
                "#B0BEC5",
                "#B0BEC5",
                "#B0BEC5",
                "#B0BEC5",
                "#B0BEC5",
                "#B0BEC5",
                "#B0BEC5",
                "#B0BEC5",
                "#B0BEC5",
                "#B0BEC5",
                "#B0BEC5",
                "#B0BEC5",
                "#B0BEC5",
                "#B0BEC5",
                "#B0BEC5",
                "#B0BEC5",
                "#B0BEC5",
                "#B0BEC5",
                "#B0BEC5",
                "#B0BEC5",
                "#B0BEC5",
                "#B0BEC5"
               ]
              ]
             }
            ],
            "label": "Topic 9",
            "method": "update"
           },
           {
            "args": [
             {
              "marker.color": [
               [
                "#B0BEC5",
                "#B0BEC5",
                "#B0BEC5",
                "#B0BEC5",
                "#B0BEC5",
                "#B0BEC5",
                "#B0BEC5",
                "#B0BEC5",
                "#B0BEC5",
                "#B0BEC5",
                "red",
                "#B0BEC5",
                "#B0BEC5",
                "#B0BEC5",
                "#B0BEC5",
                "#B0BEC5",
                "#B0BEC5",
                "#B0BEC5",
                "#B0BEC5",
                "#B0BEC5",
                "#B0BEC5",
                "#B0BEC5",
                "#B0BEC5",
                "#B0BEC5",
                "#B0BEC5",
                "#B0BEC5",
                "#B0BEC5",
                "#B0BEC5",
                "#B0BEC5",
                "#B0BEC5",
                "#B0BEC5",
                "#B0BEC5",
                "#B0BEC5",
                "#B0BEC5",
                "#B0BEC5",
                "#B0BEC5",
                "#B0BEC5",
                "#B0BEC5",
                "#B0BEC5",
                "#B0BEC5",
                "#B0BEC5",
                "#B0BEC5",
                "#B0BEC5",
                "#B0BEC5",
                "#B0BEC5",
                "#B0BEC5"
               ]
              ]
             }
            ],
            "label": "Topic 10",
            "method": "update"
           },
           {
            "args": [
             {
              "marker.color": [
               [
                "#B0BEC5",
                "#B0BEC5",
                "#B0BEC5",
                "#B0BEC5",
                "#B0BEC5",
                "#B0BEC5",
                "#B0BEC5",
                "#B0BEC5",
                "#B0BEC5",
                "#B0BEC5",
                "#B0BEC5",
                "red",
                "#B0BEC5",
                "#B0BEC5",
                "#B0BEC5",
                "#B0BEC5",
                "#B0BEC5",
                "#B0BEC5",
                "#B0BEC5",
                "#B0BEC5",
                "#B0BEC5",
                "#B0BEC5",
                "#B0BEC5",
                "#B0BEC5",
                "#B0BEC5",
                "#B0BEC5",
                "#B0BEC5",
                "#B0BEC5",
                "#B0BEC5",
                "#B0BEC5",
                "#B0BEC5",
                "#B0BEC5",
                "#B0BEC5",
                "#B0BEC5",
                "#B0BEC5",
                "#B0BEC5",
                "#B0BEC5",
                "#B0BEC5",
                "#B0BEC5",
                "#B0BEC5",
                "#B0BEC5",
                "#B0BEC5",
                "#B0BEC5",
                "#B0BEC5",
                "#B0BEC5",
                "#B0BEC5"
               ]
              ]
             }
            ],
            "label": "Topic 11",
            "method": "update"
           },
           {
            "args": [
             {
              "marker.color": [
               [
                "#B0BEC5",
                "#B0BEC5",
                "#B0BEC5",
                "#B0BEC5",
                "#B0BEC5",
                "#B0BEC5",
                "#B0BEC5",
                "#B0BEC5",
                "#B0BEC5",
                "#B0BEC5",
                "#B0BEC5",
                "#B0BEC5",
                "red",
                "#B0BEC5",
                "#B0BEC5",
                "#B0BEC5",
                "#B0BEC5",
                "#B0BEC5",
                "#B0BEC5",
                "#B0BEC5",
                "#B0BEC5",
                "#B0BEC5",
                "#B0BEC5",
                "#B0BEC5",
                "#B0BEC5",
                "#B0BEC5",
                "#B0BEC5",
                "#B0BEC5",
                "#B0BEC5",
                "#B0BEC5",
                "#B0BEC5",
                "#B0BEC5",
                "#B0BEC5",
                "#B0BEC5",
                "#B0BEC5",
                "#B0BEC5",
                "#B0BEC5",
                "#B0BEC5",
                "#B0BEC5",
                "#B0BEC5",
                "#B0BEC5",
                "#B0BEC5",
                "#B0BEC5",
                "#B0BEC5",
                "#B0BEC5",
                "#B0BEC5"
               ]
              ]
             }
            ],
            "label": "Topic 12",
            "method": "update"
           },
           {
            "args": [
             {
              "marker.color": [
               [
                "#B0BEC5",
                "#B0BEC5",
                "#B0BEC5",
                "#B0BEC5",
                "#B0BEC5",
                "#B0BEC5",
                "#B0BEC5",
                "#B0BEC5",
                "#B0BEC5",
                "#B0BEC5",
                "#B0BEC5",
                "#B0BEC5",
                "#B0BEC5",
                "red",
                "#B0BEC5",
                "#B0BEC5",
                "#B0BEC5",
                "#B0BEC5",
                "#B0BEC5",
                "#B0BEC5",
                "#B0BEC5",
                "#B0BEC5",
                "#B0BEC5",
                "#B0BEC5",
                "#B0BEC5",
                "#B0BEC5",
                "#B0BEC5",
                "#B0BEC5",
                "#B0BEC5",
                "#B0BEC5",
                "#B0BEC5",
                "#B0BEC5",
                "#B0BEC5",
                "#B0BEC5",
                "#B0BEC5",
                "#B0BEC5",
                "#B0BEC5",
                "#B0BEC5",
                "#B0BEC5",
                "#B0BEC5",
                "#B0BEC5",
                "#B0BEC5",
                "#B0BEC5",
                "#B0BEC5",
                "#B0BEC5",
                "#B0BEC5"
               ]
              ]
             }
            ],
            "label": "Topic 13",
            "method": "update"
           },
           {
            "args": [
             {
              "marker.color": [
               [
                "#B0BEC5",
                "#B0BEC5",
                "#B0BEC5",
                "#B0BEC5",
                "#B0BEC5",
                "#B0BEC5",
                "#B0BEC5",
                "#B0BEC5",
                "#B0BEC5",
                "#B0BEC5",
                "#B0BEC5",
                "#B0BEC5",
                "#B0BEC5",
                "#B0BEC5",
                "red",
                "#B0BEC5",
                "#B0BEC5",
                "#B0BEC5",
                "#B0BEC5",
                "#B0BEC5",
                "#B0BEC5",
                "#B0BEC5",
                "#B0BEC5",
                "#B0BEC5",
                "#B0BEC5",
                "#B0BEC5",
                "#B0BEC5",
                "#B0BEC5",
                "#B0BEC5",
                "#B0BEC5",
                "#B0BEC5",
                "#B0BEC5",
                "#B0BEC5",
                "#B0BEC5",
                "#B0BEC5",
                "#B0BEC5",
                "#B0BEC5",
                "#B0BEC5",
                "#B0BEC5",
                "#B0BEC5",
                "#B0BEC5",
                "#B0BEC5",
                "#B0BEC5",
                "#B0BEC5",
                "#B0BEC5",
                "#B0BEC5"
               ]
              ]
             }
            ],
            "label": "Topic 14",
            "method": "update"
           },
           {
            "args": [
             {
              "marker.color": [
               [
                "#B0BEC5",
                "#B0BEC5",
                "#B0BEC5",
                "#B0BEC5",
                "#B0BEC5",
                "#B0BEC5",
                "#B0BEC5",
                "#B0BEC5",
                "#B0BEC5",
                "#B0BEC5",
                "#B0BEC5",
                "#B0BEC5",
                "#B0BEC5",
                "#B0BEC5",
                "#B0BEC5",
                "red",
                "#B0BEC5",
                "#B0BEC5",
                "#B0BEC5",
                "#B0BEC5",
                "#B0BEC5",
                "#B0BEC5",
                "#B0BEC5",
                "#B0BEC5",
                "#B0BEC5",
                "#B0BEC5",
                "#B0BEC5",
                "#B0BEC5",
                "#B0BEC5",
                "#B0BEC5",
                "#B0BEC5",
                "#B0BEC5",
                "#B0BEC5",
                "#B0BEC5",
                "#B0BEC5",
                "#B0BEC5",
                "#B0BEC5",
                "#B0BEC5",
                "#B0BEC5",
                "#B0BEC5",
                "#B0BEC5",
                "#B0BEC5",
                "#B0BEC5",
                "#B0BEC5",
                "#B0BEC5",
                "#B0BEC5"
               ]
              ]
             }
            ],
            "label": "Topic 15",
            "method": "update"
           },
           {
            "args": [
             {
              "marker.color": [
               [
                "#B0BEC5",
                "#B0BEC5",
                "#B0BEC5",
                "#B0BEC5",
                "#B0BEC5",
                "#B0BEC5",
                "#B0BEC5",
                "#B0BEC5",
                "#B0BEC5",
                "#B0BEC5",
                "#B0BEC5",
                "#B0BEC5",
                "#B0BEC5",
                "#B0BEC5",
                "#B0BEC5",
                "#B0BEC5",
                "red",
                "#B0BEC5",
                "#B0BEC5",
                "#B0BEC5",
                "#B0BEC5",
                "#B0BEC5",
                "#B0BEC5",
                "#B0BEC5",
                "#B0BEC5",
                "#B0BEC5",
                "#B0BEC5",
                "#B0BEC5",
                "#B0BEC5",
                "#B0BEC5",
                "#B0BEC5",
                "#B0BEC5",
                "#B0BEC5",
                "#B0BEC5",
                "#B0BEC5",
                "#B0BEC5",
                "#B0BEC5",
                "#B0BEC5",
                "#B0BEC5",
                "#B0BEC5",
                "#B0BEC5",
                "#B0BEC5",
                "#B0BEC5",
                "#B0BEC5",
                "#B0BEC5",
                "#B0BEC5"
               ]
              ]
             }
            ],
            "label": "Topic 16",
            "method": "update"
           },
           {
            "args": [
             {
              "marker.color": [
               [
                "#B0BEC5",
                "#B0BEC5",
                "#B0BEC5",
                "#B0BEC5",
                "#B0BEC5",
                "#B0BEC5",
                "#B0BEC5",
                "#B0BEC5",
                "#B0BEC5",
                "#B0BEC5",
                "#B0BEC5",
                "#B0BEC5",
                "#B0BEC5",
                "#B0BEC5",
                "#B0BEC5",
                "#B0BEC5",
                "#B0BEC5",
                "red",
                "#B0BEC5",
                "#B0BEC5",
                "#B0BEC5",
                "#B0BEC5",
                "#B0BEC5",
                "#B0BEC5",
                "#B0BEC5",
                "#B0BEC5",
                "#B0BEC5",
                "#B0BEC5",
                "#B0BEC5",
                "#B0BEC5",
                "#B0BEC5",
                "#B0BEC5",
                "#B0BEC5",
                "#B0BEC5",
                "#B0BEC5",
                "#B0BEC5",
                "#B0BEC5",
                "#B0BEC5",
                "#B0BEC5",
                "#B0BEC5",
                "#B0BEC5",
                "#B0BEC5",
                "#B0BEC5",
                "#B0BEC5",
                "#B0BEC5",
                "#B0BEC5"
               ]
              ]
             }
            ],
            "label": "Topic 17",
            "method": "update"
           },
           {
            "args": [
             {
              "marker.color": [
               [
                "#B0BEC5",
                "#B0BEC5",
                "#B0BEC5",
                "#B0BEC5",
                "#B0BEC5",
                "#B0BEC5",
                "#B0BEC5",
                "#B0BEC5",
                "#B0BEC5",
                "#B0BEC5",
                "#B0BEC5",
                "#B0BEC5",
                "#B0BEC5",
                "#B0BEC5",
                "#B0BEC5",
                "#B0BEC5",
                "#B0BEC5",
                "#B0BEC5",
                "red",
                "#B0BEC5",
                "#B0BEC5",
                "#B0BEC5",
                "#B0BEC5",
                "#B0BEC5",
                "#B0BEC5",
                "#B0BEC5",
                "#B0BEC5",
                "#B0BEC5",
                "#B0BEC5",
                "#B0BEC5",
                "#B0BEC5",
                "#B0BEC5",
                "#B0BEC5",
                "#B0BEC5",
                "#B0BEC5",
                "#B0BEC5",
                "#B0BEC5",
                "#B0BEC5",
                "#B0BEC5",
                "#B0BEC5",
                "#B0BEC5",
                "#B0BEC5",
                "#B0BEC5",
                "#B0BEC5",
                "#B0BEC5",
                "#B0BEC5"
               ]
              ]
             }
            ],
            "label": "Topic 18",
            "method": "update"
           },
           {
            "args": [
             {
              "marker.color": [
               [
                "#B0BEC5",
                "#B0BEC5",
                "#B0BEC5",
                "#B0BEC5",
                "#B0BEC5",
                "#B0BEC5",
                "#B0BEC5",
                "#B0BEC5",
                "#B0BEC5",
                "#B0BEC5",
                "#B0BEC5",
                "#B0BEC5",
                "#B0BEC5",
                "#B0BEC5",
                "#B0BEC5",
                "#B0BEC5",
                "#B0BEC5",
                "#B0BEC5",
                "#B0BEC5",
                "red",
                "#B0BEC5",
                "#B0BEC5",
                "#B0BEC5",
                "#B0BEC5",
                "#B0BEC5",
                "#B0BEC5",
                "#B0BEC5",
                "#B0BEC5",
                "#B0BEC5",
                "#B0BEC5",
                "#B0BEC5",
                "#B0BEC5",
                "#B0BEC5",
                "#B0BEC5",
                "#B0BEC5",
                "#B0BEC5",
                "#B0BEC5",
                "#B0BEC5",
                "#B0BEC5",
                "#B0BEC5",
                "#B0BEC5",
                "#B0BEC5",
                "#B0BEC5",
                "#B0BEC5",
                "#B0BEC5",
                "#B0BEC5"
               ]
              ]
             }
            ],
            "label": "Topic 19",
            "method": "update"
           },
           {
            "args": [
             {
              "marker.color": [
               [
                "#B0BEC5",
                "#B0BEC5",
                "#B0BEC5",
                "#B0BEC5",
                "#B0BEC5",
                "#B0BEC5",
                "#B0BEC5",
                "#B0BEC5",
                "#B0BEC5",
                "#B0BEC5",
                "#B0BEC5",
                "#B0BEC5",
                "#B0BEC5",
                "#B0BEC5",
                "#B0BEC5",
                "#B0BEC5",
                "#B0BEC5",
                "#B0BEC5",
                "#B0BEC5",
                "#B0BEC5",
                "red",
                "#B0BEC5",
                "#B0BEC5",
                "#B0BEC5",
                "#B0BEC5",
                "#B0BEC5",
                "#B0BEC5",
                "#B0BEC5",
                "#B0BEC5",
                "#B0BEC5",
                "#B0BEC5",
                "#B0BEC5",
                "#B0BEC5",
                "#B0BEC5",
                "#B0BEC5",
                "#B0BEC5",
                "#B0BEC5",
                "#B0BEC5",
                "#B0BEC5",
                "#B0BEC5",
                "#B0BEC5",
                "#B0BEC5",
                "#B0BEC5",
                "#B0BEC5",
                "#B0BEC5",
                "#B0BEC5"
               ]
              ]
             }
            ],
            "label": "Topic 20",
            "method": "update"
           },
           {
            "args": [
             {
              "marker.color": [
               [
                "#B0BEC5",
                "#B0BEC5",
                "#B0BEC5",
                "#B0BEC5",
                "#B0BEC5",
                "#B0BEC5",
                "#B0BEC5",
                "#B0BEC5",
                "#B0BEC5",
                "#B0BEC5",
                "#B0BEC5",
                "#B0BEC5",
                "#B0BEC5",
                "#B0BEC5",
                "#B0BEC5",
                "#B0BEC5",
                "#B0BEC5",
                "#B0BEC5",
                "#B0BEC5",
                "#B0BEC5",
                "#B0BEC5",
                "red",
                "#B0BEC5",
                "#B0BEC5",
                "#B0BEC5",
                "#B0BEC5",
                "#B0BEC5",
                "#B0BEC5",
                "#B0BEC5",
                "#B0BEC5",
                "#B0BEC5",
                "#B0BEC5",
                "#B0BEC5",
                "#B0BEC5",
                "#B0BEC5",
                "#B0BEC5",
                "#B0BEC5",
                "#B0BEC5",
                "#B0BEC5",
                "#B0BEC5",
                "#B0BEC5",
                "#B0BEC5",
                "#B0BEC5",
                "#B0BEC5",
                "#B0BEC5",
                "#B0BEC5"
               ]
              ]
             }
            ],
            "label": "Topic 21",
            "method": "update"
           },
           {
            "args": [
             {
              "marker.color": [
               [
                "#B0BEC5",
                "#B0BEC5",
                "#B0BEC5",
                "#B0BEC5",
                "#B0BEC5",
                "#B0BEC5",
                "#B0BEC5",
                "#B0BEC5",
                "#B0BEC5",
                "#B0BEC5",
                "#B0BEC5",
                "#B0BEC5",
                "#B0BEC5",
                "#B0BEC5",
                "#B0BEC5",
                "#B0BEC5",
                "#B0BEC5",
                "#B0BEC5",
                "#B0BEC5",
                "#B0BEC5",
                "#B0BEC5",
                "#B0BEC5",
                "red",
                "#B0BEC5",
                "#B0BEC5",
                "#B0BEC5",
                "#B0BEC5",
                "#B0BEC5",
                "#B0BEC5",
                "#B0BEC5",
                "#B0BEC5",
                "#B0BEC5",
                "#B0BEC5",
                "#B0BEC5",
                "#B0BEC5",
                "#B0BEC5",
                "#B0BEC5",
                "#B0BEC5",
                "#B0BEC5",
                "#B0BEC5",
                "#B0BEC5",
                "#B0BEC5",
                "#B0BEC5",
                "#B0BEC5",
                "#B0BEC5",
                "#B0BEC5"
               ]
              ]
             }
            ],
            "label": "Topic 22",
            "method": "update"
           },
           {
            "args": [
             {
              "marker.color": [
               [
                "#B0BEC5",
                "#B0BEC5",
                "#B0BEC5",
                "#B0BEC5",
                "#B0BEC5",
                "#B0BEC5",
                "#B0BEC5",
                "#B0BEC5",
                "#B0BEC5",
                "#B0BEC5",
                "#B0BEC5",
                "#B0BEC5",
                "#B0BEC5",
                "#B0BEC5",
                "#B0BEC5",
                "#B0BEC5",
                "#B0BEC5",
                "#B0BEC5",
                "#B0BEC5",
                "#B0BEC5",
                "#B0BEC5",
                "#B0BEC5",
                "#B0BEC5",
                "red",
                "#B0BEC5",
                "#B0BEC5",
                "#B0BEC5",
                "#B0BEC5",
                "#B0BEC5",
                "#B0BEC5",
                "#B0BEC5",
                "#B0BEC5",
                "#B0BEC5",
                "#B0BEC5",
                "#B0BEC5",
                "#B0BEC5",
                "#B0BEC5",
                "#B0BEC5",
                "#B0BEC5",
                "#B0BEC5",
                "#B0BEC5",
                "#B0BEC5",
                "#B0BEC5",
                "#B0BEC5",
                "#B0BEC5",
                "#B0BEC5"
               ]
              ]
             }
            ],
            "label": "Topic 23",
            "method": "update"
           },
           {
            "args": [
             {
              "marker.color": [
               [
                "#B0BEC5",
                "#B0BEC5",
                "#B0BEC5",
                "#B0BEC5",
                "#B0BEC5",
                "#B0BEC5",
                "#B0BEC5",
                "#B0BEC5",
                "#B0BEC5",
                "#B0BEC5",
                "#B0BEC5",
                "#B0BEC5",
                "#B0BEC5",
                "#B0BEC5",
                "#B0BEC5",
                "#B0BEC5",
                "#B0BEC5",
                "#B0BEC5",
                "#B0BEC5",
                "#B0BEC5",
                "#B0BEC5",
                "#B0BEC5",
                "#B0BEC5",
                "#B0BEC5",
                "red",
                "#B0BEC5",
                "#B0BEC5",
                "#B0BEC5",
                "#B0BEC5",
                "#B0BEC5",
                "#B0BEC5",
                "#B0BEC5",
                "#B0BEC5",
                "#B0BEC5",
                "#B0BEC5",
                "#B0BEC5",
                "#B0BEC5",
                "#B0BEC5",
                "#B0BEC5",
                "#B0BEC5",
                "#B0BEC5",
                "#B0BEC5",
                "#B0BEC5",
                "#B0BEC5",
                "#B0BEC5",
                "#B0BEC5"
               ]
              ]
             }
            ],
            "label": "Topic 24",
            "method": "update"
           },
           {
            "args": [
             {
              "marker.color": [
               [
                "#B0BEC5",
                "#B0BEC5",
                "#B0BEC5",
                "#B0BEC5",
                "#B0BEC5",
                "#B0BEC5",
                "#B0BEC5",
                "#B0BEC5",
                "#B0BEC5",
                "#B0BEC5",
                "#B0BEC5",
                "#B0BEC5",
                "#B0BEC5",
                "#B0BEC5",
                "#B0BEC5",
                "#B0BEC5",
                "#B0BEC5",
                "#B0BEC5",
                "#B0BEC5",
                "#B0BEC5",
                "#B0BEC5",
                "#B0BEC5",
                "#B0BEC5",
                "#B0BEC5",
                "#B0BEC5",
                "red",
                "#B0BEC5",
                "#B0BEC5",
                "#B0BEC5",
                "#B0BEC5",
                "#B0BEC5",
                "#B0BEC5",
                "#B0BEC5",
                "#B0BEC5",
                "#B0BEC5",
                "#B0BEC5",
                "#B0BEC5",
                "#B0BEC5",
                "#B0BEC5",
                "#B0BEC5",
                "#B0BEC5",
                "#B0BEC5",
                "#B0BEC5",
                "#B0BEC5",
                "#B0BEC5",
                "#B0BEC5"
               ]
              ]
             }
            ],
            "label": "Topic 25",
            "method": "update"
           },
           {
            "args": [
             {
              "marker.color": [
               [
                "#B0BEC5",
                "#B0BEC5",
                "#B0BEC5",
                "#B0BEC5",
                "#B0BEC5",
                "#B0BEC5",
                "#B0BEC5",
                "#B0BEC5",
                "#B0BEC5",
                "#B0BEC5",
                "#B0BEC5",
                "#B0BEC5",
                "#B0BEC5",
                "#B0BEC5",
                "#B0BEC5",
                "#B0BEC5",
                "#B0BEC5",
                "#B0BEC5",
                "#B0BEC5",
                "#B0BEC5",
                "#B0BEC5",
                "#B0BEC5",
                "#B0BEC5",
                "#B0BEC5",
                "#B0BEC5",
                "#B0BEC5",
                "red",
                "#B0BEC5",
                "#B0BEC5",
                "#B0BEC5",
                "#B0BEC5",
                "#B0BEC5",
                "#B0BEC5",
                "#B0BEC5",
                "#B0BEC5",
                "#B0BEC5",
                "#B0BEC5",
                "#B0BEC5",
                "#B0BEC5",
                "#B0BEC5",
                "#B0BEC5",
                "#B0BEC5",
                "#B0BEC5",
                "#B0BEC5",
                "#B0BEC5",
                "#B0BEC5"
               ]
              ]
             }
            ],
            "label": "Topic 26",
            "method": "update"
           },
           {
            "args": [
             {
              "marker.color": [
               [
                "#B0BEC5",
                "#B0BEC5",
                "#B0BEC5",
                "#B0BEC5",
                "#B0BEC5",
                "#B0BEC5",
                "#B0BEC5",
                "#B0BEC5",
                "#B0BEC5",
                "#B0BEC5",
                "#B0BEC5",
                "#B0BEC5",
                "#B0BEC5",
                "#B0BEC5",
                "#B0BEC5",
                "#B0BEC5",
                "#B0BEC5",
                "#B0BEC5",
                "#B0BEC5",
                "#B0BEC5",
                "#B0BEC5",
                "#B0BEC5",
                "#B0BEC5",
                "#B0BEC5",
                "#B0BEC5",
                "#B0BEC5",
                "#B0BEC5",
                "red",
                "#B0BEC5",
                "#B0BEC5",
                "#B0BEC5",
                "#B0BEC5",
                "#B0BEC5",
                "#B0BEC5",
                "#B0BEC5",
                "#B0BEC5",
                "#B0BEC5",
                "#B0BEC5",
                "#B0BEC5",
                "#B0BEC5",
                "#B0BEC5",
                "#B0BEC5",
                "#B0BEC5",
                "#B0BEC5",
                "#B0BEC5",
                "#B0BEC5"
               ]
              ]
             }
            ],
            "label": "Topic 27",
            "method": "update"
           },
           {
            "args": [
             {
              "marker.color": [
               [
                "#B0BEC5",
                "#B0BEC5",
                "#B0BEC5",
                "#B0BEC5",
                "#B0BEC5",
                "#B0BEC5",
                "#B0BEC5",
                "#B0BEC5",
                "#B0BEC5",
                "#B0BEC5",
                "#B0BEC5",
                "#B0BEC5",
                "#B0BEC5",
                "#B0BEC5",
                "#B0BEC5",
                "#B0BEC5",
                "#B0BEC5",
                "#B0BEC5",
                "#B0BEC5",
                "#B0BEC5",
                "#B0BEC5",
                "#B0BEC5",
                "#B0BEC5",
                "#B0BEC5",
                "#B0BEC5",
                "#B0BEC5",
                "#B0BEC5",
                "#B0BEC5",
                "red",
                "#B0BEC5",
                "#B0BEC5",
                "#B0BEC5",
                "#B0BEC5",
                "#B0BEC5",
                "#B0BEC5",
                "#B0BEC5",
                "#B0BEC5",
                "#B0BEC5",
                "#B0BEC5",
                "#B0BEC5",
                "#B0BEC5",
                "#B0BEC5",
                "#B0BEC5",
                "#B0BEC5",
                "#B0BEC5",
                "#B0BEC5"
               ]
              ]
             }
            ],
            "label": "Topic 28",
            "method": "update"
           },
           {
            "args": [
             {
              "marker.color": [
               [
                "#B0BEC5",
                "#B0BEC5",
                "#B0BEC5",
                "#B0BEC5",
                "#B0BEC5",
                "#B0BEC5",
                "#B0BEC5",
                "#B0BEC5",
                "#B0BEC5",
                "#B0BEC5",
                "#B0BEC5",
                "#B0BEC5",
                "#B0BEC5",
                "#B0BEC5",
                "#B0BEC5",
                "#B0BEC5",
                "#B0BEC5",
                "#B0BEC5",
                "#B0BEC5",
                "#B0BEC5",
                "#B0BEC5",
                "#B0BEC5",
                "#B0BEC5",
                "#B0BEC5",
                "#B0BEC5",
                "#B0BEC5",
                "#B0BEC5",
                "#B0BEC5",
                "#B0BEC5",
                "red",
                "#B0BEC5",
                "#B0BEC5",
                "#B0BEC5",
                "#B0BEC5",
                "#B0BEC5",
                "#B0BEC5",
                "#B0BEC5",
                "#B0BEC5",
                "#B0BEC5",
                "#B0BEC5",
                "#B0BEC5",
                "#B0BEC5",
                "#B0BEC5",
                "#B0BEC5",
                "#B0BEC5",
                "#B0BEC5"
               ]
              ]
             }
            ],
            "label": "Topic 29",
            "method": "update"
           },
           {
            "args": [
             {
              "marker.color": [
               [
                "#B0BEC5",
                "#B0BEC5",
                "#B0BEC5",
                "#B0BEC5",
                "#B0BEC5",
                "#B0BEC5",
                "#B0BEC5",
                "#B0BEC5",
                "#B0BEC5",
                "#B0BEC5",
                "#B0BEC5",
                "#B0BEC5",
                "#B0BEC5",
                "#B0BEC5",
                "#B0BEC5",
                "#B0BEC5",
                "#B0BEC5",
                "#B0BEC5",
                "#B0BEC5",
                "#B0BEC5",
                "#B0BEC5",
                "#B0BEC5",
                "#B0BEC5",
                "#B0BEC5",
                "#B0BEC5",
                "#B0BEC5",
                "#B0BEC5",
                "#B0BEC5",
                "#B0BEC5",
                "#B0BEC5",
                "red",
                "#B0BEC5",
                "#B0BEC5",
                "#B0BEC5",
                "#B0BEC5",
                "#B0BEC5",
                "#B0BEC5",
                "#B0BEC5",
                "#B0BEC5",
                "#B0BEC5",
                "#B0BEC5",
                "#B0BEC5",
                "#B0BEC5",
                "#B0BEC5",
                "#B0BEC5",
                "#B0BEC5"
               ]
              ]
             }
            ],
            "label": "Topic 30",
            "method": "update"
           },
           {
            "args": [
             {
              "marker.color": [
               [
                "#B0BEC5",
                "#B0BEC5",
                "#B0BEC5",
                "#B0BEC5",
                "#B0BEC5",
                "#B0BEC5",
                "#B0BEC5",
                "#B0BEC5",
                "#B0BEC5",
                "#B0BEC5",
                "#B0BEC5",
                "#B0BEC5",
                "#B0BEC5",
                "#B0BEC5",
                "#B0BEC5",
                "#B0BEC5",
                "#B0BEC5",
                "#B0BEC5",
                "#B0BEC5",
                "#B0BEC5",
                "#B0BEC5",
                "#B0BEC5",
                "#B0BEC5",
                "#B0BEC5",
                "#B0BEC5",
                "#B0BEC5",
                "#B0BEC5",
                "#B0BEC5",
                "#B0BEC5",
                "#B0BEC5",
                "#B0BEC5",
                "red",
                "#B0BEC5",
                "#B0BEC5",
                "#B0BEC5",
                "#B0BEC5",
                "#B0BEC5",
                "#B0BEC5",
                "#B0BEC5",
                "#B0BEC5",
                "#B0BEC5",
                "#B0BEC5",
                "#B0BEC5",
                "#B0BEC5",
                "#B0BEC5",
                "#B0BEC5"
               ]
              ]
             }
            ],
            "label": "Topic 31",
            "method": "update"
           },
           {
            "args": [
             {
              "marker.color": [
               [
                "#B0BEC5",
                "#B0BEC5",
                "#B0BEC5",
                "#B0BEC5",
                "#B0BEC5",
                "#B0BEC5",
                "#B0BEC5",
                "#B0BEC5",
                "#B0BEC5",
                "#B0BEC5",
                "#B0BEC5",
                "#B0BEC5",
                "#B0BEC5",
                "#B0BEC5",
                "#B0BEC5",
                "#B0BEC5",
                "#B0BEC5",
                "#B0BEC5",
                "#B0BEC5",
                "#B0BEC5",
                "#B0BEC5",
                "#B0BEC5",
                "#B0BEC5",
                "#B0BEC5",
                "#B0BEC5",
                "#B0BEC5",
                "#B0BEC5",
                "#B0BEC5",
                "#B0BEC5",
                "#B0BEC5",
                "#B0BEC5",
                "#B0BEC5",
                "red",
                "#B0BEC5",
                "#B0BEC5",
                "#B0BEC5",
                "#B0BEC5",
                "#B0BEC5",
                "#B0BEC5",
                "#B0BEC5",
                "#B0BEC5",
                "#B0BEC5",
                "#B0BEC5",
                "#B0BEC5",
                "#B0BEC5",
                "#B0BEC5"
               ]
              ]
             }
            ],
            "label": "Topic 32",
            "method": "update"
           },
           {
            "args": [
             {
              "marker.color": [
               [
                "#B0BEC5",
                "#B0BEC5",
                "#B0BEC5",
                "#B0BEC5",
                "#B0BEC5",
                "#B0BEC5",
                "#B0BEC5",
                "#B0BEC5",
                "#B0BEC5",
                "#B0BEC5",
                "#B0BEC5",
                "#B0BEC5",
                "#B0BEC5",
                "#B0BEC5",
                "#B0BEC5",
                "#B0BEC5",
                "#B0BEC5",
                "#B0BEC5",
                "#B0BEC5",
                "#B0BEC5",
                "#B0BEC5",
                "#B0BEC5",
                "#B0BEC5",
                "#B0BEC5",
                "#B0BEC5",
                "#B0BEC5",
                "#B0BEC5",
                "#B0BEC5",
                "#B0BEC5",
                "#B0BEC5",
                "#B0BEC5",
                "#B0BEC5",
                "#B0BEC5",
                "red",
                "#B0BEC5",
                "#B0BEC5",
                "#B0BEC5",
                "#B0BEC5",
                "#B0BEC5",
                "#B0BEC5",
                "#B0BEC5",
                "#B0BEC5",
                "#B0BEC5",
                "#B0BEC5",
                "#B0BEC5",
                "#B0BEC5"
               ]
              ]
             }
            ],
            "label": "Topic 33",
            "method": "update"
           },
           {
            "args": [
             {
              "marker.color": [
               [
                "#B0BEC5",
                "#B0BEC5",
                "#B0BEC5",
                "#B0BEC5",
                "#B0BEC5",
                "#B0BEC5",
                "#B0BEC5",
                "#B0BEC5",
                "#B0BEC5",
                "#B0BEC5",
                "#B0BEC5",
                "#B0BEC5",
                "#B0BEC5",
                "#B0BEC5",
                "#B0BEC5",
                "#B0BEC5",
                "#B0BEC5",
                "#B0BEC5",
                "#B0BEC5",
                "#B0BEC5",
                "#B0BEC5",
                "#B0BEC5",
                "#B0BEC5",
                "#B0BEC5",
                "#B0BEC5",
                "#B0BEC5",
                "#B0BEC5",
                "#B0BEC5",
                "#B0BEC5",
                "#B0BEC5",
                "#B0BEC5",
                "#B0BEC5",
                "#B0BEC5",
                "#B0BEC5",
                "red",
                "#B0BEC5",
                "#B0BEC5",
                "#B0BEC5",
                "#B0BEC5",
                "#B0BEC5",
                "#B0BEC5",
                "#B0BEC5",
                "#B0BEC5",
                "#B0BEC5",
                "#B0BEC5",
                "#B0BEC5"
               ]
              ]
             }
            ],
            "label": "Topic 34",
            "method": "update"
           },
           {
            "args": [
             {
              "marker.color": [
               [
                "#B0BEC5",
                "#B0BEC5",
                "#B0BEC5",
                "#B0BEC5",
                "#B0BEC5",
                "#B0BEC5",
                "#B0BEC5",
                "#B0BEC5",
                "#B0BEC5",
                "#B0BEC5",
                "#B0BEC5",
                "#B0BEC5",
                "#B0BEC5",
                "#B0BEC5",
                "#B0BEC5",
                "#B0BEC5",
                "#B0BEC5",
                "#B0BEC5",
                "#B0BEC5",
                "#B0BEC5",
                "#B0BEC5",
                "#B0BEC5",
                "#B0BEC5",
                "#B0BEC5",
                "#B0BEC5",
                "#B0BEC5",
                "#B0BEC5",
                "#B0BEC5",
                "#B0BEC5",
                "#B0BEC5",
                "#B0BEC5",
                "#B0BEC5",
                "#B0BEC5",
                "#B0BEC5",
                "#B0BEC5",
                "red",
                "#B0BEC5",
                "#B0BEC5",
                "#B0BEC5",
                "#B0BEC5",
                "#B0BEC5",
                "#B0BEC5",
                "#B0BEC5",
                "#B0BEC5",
                "#B0BEC5",
                "#B0BEC5"
               ]
              ]
             }
            ],
            "label": "Topic 35",
            "method": "update"
           },
           {
            "args": [
             {
              "marker.color": [
               [
                "#B0BEC5",
                "#B0BEC5",
                "#B0BEC5",
                "#B0BEC5",
                "#B0BEC5",
                "#B0BEC5",
                "#B0BEC5",
                "#B0BEC5",
                "#B0BEC5",
                "#B0BEC5",
                "#B0BEC5",
                "#B0BEC5",
                "#B0BEC5",
                "#B0BEC5",
                "#B0BEC5",
                "#B0BEC5",
                "#B0BEC5",
                "#B0BEC5",
                "#B0BEC5",
                "#B0BEC5",
                "#B0BEC5",
                "#B0BEC5",
                "#B0BEC5",
                "#B0BEC5",
                "#B0BEC5",
                "#B0BEC5",
                "#B0BEC5",
                "#B0BEC5",
                "#B0BEC5",
                "#B0BEC5",
                "#B0BEC5",
                "#B0BEC5",
                "#B0BEC5",
                "#B0BEC5",
                "#B0BEC5",
                "#B0BEC5",
                "red",
                "#B0BEC5",
                "#B0BEC5",
                "#B0BEC5",
                "#B0BEC5",
                "#B0BEC5",
                "#B0BEC5",
                "#B0BEC5",
                "#B0BEC5",
                "#B0BEC5"
               ]
              ]
             }
            ],
            "label": "Topic 36",
            "method": "update"
           },
           {
            "args": [
             {
              "marker.color": [
               [
                "#B0BEC5",
                "#B0BEC5",
                "#B0BEC5",
                "#B0BEC5",
                "#B0BEC5",
                "#B0BEC5",
                "#B0BEC5",
                "#B0BEC5",
                "#B0BEC5",
                "#B0BEC5",
                "#B0BEC5",
                "#B0BEC5",
                "#B0BEC5",
                "#B0BEC5",
                "#B0BEC5",
                "#B0BEC5",
                "#B0BEC5",
                "#B0BEC5",
                "#B0BEC5",
                "#B0BEC5",
                "#B0BEC5",
                "#B0BEC5",
                "#B0BEC5",
                "#B0BEC5",
                "#B0BEC5",
                "#B0BEC5",
                "#B0BEC5",
                "#B0BEC5",
                "#B0BEC5",
                "#B0BEC5",
                "#B0BEC5",
                "#B0BEC5",
                "#B0BEC5",
                "#B0BEC5",
                "#B0BEC5",
                "#B0BEC5",
                "#B0BEC5",
                "red",
                "#B0BEC5",
                "#B0BEC5",
                "#B0BEC5",
                "#B0BEC5",
                "#B0BEC5",
                "#B0BEC5",
                "#B0BEC5",
                "#B0BEC5"
               ]
              ]
             }
            ],
            "label": "Topic 37",
            "method": "update"
           },
           {
            "args": [
             {
              "marker.color": [
               [
                "#B0BEC5",
                "#B0BEC5",
                "#B0BEC5",
                "#B0BEC5",
                "#B0BEC5",
                "#B0BEC5",
                "#B0BEC5",
                "#B0BEC5",
                "#B0BEC5",
                "#B0BEC5",
                "#B0BEC5",
                "#B0BEC5",
                "#B0BEC5",
                "#B0BEC5",
                "#B0BEC5",
                "#B0BEC5",
                "#B0BEC5",
                "#B0BEC5",
                "#B0BEC5",
                "#B0BEC5",
                "#B0BEC5",
                "#B0BEC5",
                "#B0BEC5",
                "#B0BEC5",
                "#B0BEC5",
                "#B0BEC5",
                "#B0BEC5",
                "#B0BEC5",
                "#B0BEC5",
                "#B0BEC5",
                "#B0BEC5",
                "#B0BEC5",
                "#B0BEC5",
                "#B0BEC5",
                "#B0BEC5",
                "#B0BEC5",
                "#B0BEC5",
                "#B0BEC5",
                "red",
                "#B0BEC5",
                "#B0BEC5",
                "#B0BEC5",
                "#B0BEC5",
                "#B0BEC5",
                "#B0BEC5",
                "#B0BEC5"
               ]
              ]
             }
            ],
            "label": "Topic 38",
            "method": "update"
           },
           {
            "args": [
             {
              "marker.color": [
               [
                "#B0BEC5",
                "#B0BEC5",
                "#B0BEC5",
                "#B0BEC5",
                "#B0BEC5",
                "#B0BEC5",
                "#B0BEC5",
                "#B0BEC5",
                "#B0BEC5",
                "#B0BEC5",
                "#B0BEC5",
                "#B0BEC5",
                "#B0BEC5",
                "#B0BEC5",
                "#B0BEC5",
                "#B0BEC5",
                "#B0BEC5",
                "#B0BEC5",
                "#B0BEC5",
                "#B0BEC5",
                "#B0BEC5",
                "#B0BEC5",
                "#B0BEC5",
                "#B0BEC5",
                "#B0BEC5",
                "#B0BEC5",
                "#B0BEC5",
                "#B0BEC5",
                "#B0BEC5",
                "#B0BEC5",
                "#B0BEC5",
                "#B0BEC5",
                "#B0BEC5",
                "#B0BEC5",
                "#B0BEC5",
                "#B0BEC5",
                "#B0BEC5",
                "#B0BEC5",
                "#B0BEC5",
                "red",
                "#B0BEC5",
                "#B0BEC5",
                "#B0BEC5",
                "#B0BEC5",
                "#B0BEC5",
                "#B0BEC5"
               ]
              ]
             }
            ],
            "label": "Topic 39",
            "method": "update"
           },
           {
            "args": [
             {
              "marker.color": [
               [
                "#B0BEC5",
                "#B0BEC5",
                "#B0BEC5",
                "#B0BEC5",
                "#B0BEC5",
                "#B0BEC5",
                "#B0BEC5",
                "#B0BEC5",
                "#B0BEC5",
                "#B0BEC5",
                "#B0BEC5",
                "#B0BEC5",
                "#B0BEC5",
                "#B0BEC5",
                "#B0BEC5",
                "#B0BEC5",
                "#B0BEC5",
                "#B0BEC5",
                "#B0BEC5",
                "#B0BEC5",
                "#B0BEC5",
                "#B0BEC5",
                "#B0BEC5",
                "#B0BEC5",
                "#B0BEC5",
                "#B0BEC5",
                "#B0BEC5",
                "#B0BEC5",
                "#B0BEC5",
                "#B0BEC5",
                "#B0BEC5",
                "#B0BEC5",
                "#B0BEC5",
                "#B0BEC5",
                "#B0BEC5",
                "#B0BEC5",
                "#B0BEC5",
                "#B0BEC5",
                "#B0BEC5",
                "#B0BEC5",
                "red",
                "#B0BEC5",
                "#B0BEC5",
                "#B0BEC5",
                "#B0BEC5",
                "#B0BEC5"
               ]
              ]
             }
            ],
            "label": "Topic 40",
            "method": "update"
           },
           {
            "args": [
             {
              "marker.color": [
               [
                "#B0BEC5",
                "#B0BEC5",
                "#B0BEC5",
                "#B0BEC5",
                "#B0BEC5",
                "#B0BEC5",
                "#B0BEC5",
                "#B0BEC5",
                "#B0BEC5",
                "#B0BEC5",
                "#B0BEC5",
                "#B0BEC5",
                "#B0BEC5",
                "#B0BEC5",
                "#B0BEC5",
                "#B0BEC5",
                "#B0BEC5",
                "#B0BEC5",
                "#B0BEC5",
                "#B0BEC5",
                "#B0BEC5",
                "#B0BEC5",
                "#B0BEC5",
                "#B0BEC5",
                "#B0BEC5",
                "#B0BEC5",
                "#B0BEC5",
                "#B0BEC5",
                "#B0BEC5",
                "#B0BEC5",
                "#B0BEC5",
                "#B0BEC5",
                "#B0BEC5",
                "#B0BEC5",
                "#B0BEC5",
                "#B0BEC5",
                "#B0BEC5",
                "#B0BEC5",
                "#B0BEC5",
                "#B0BEC5",
                "#B0BEC5",
                "red",
                "#B0BEC5",
                "#B0BEC5",
                "#B0BEC5",
                "#B0BEC5"
               ]
              ]
             }
            ],
            "label": "Topic 41",
            "method": "update"
           },
           {
            "args": [
             {
              "marker.color": [
               [
                "#B0BEC5",
                "#B0BEC5",
                "#B0BEC5",
                "#B0BEC5",
                "#B0BEC5",
                "#B0BEC5",
                "#B0BEC5",
                "#B0BEC5",
                "#B0BEC5",
                "#B0BEC5",
                "#B0BEC5",
                "#B0BEC5",
                "#B0BEC5",
                "#B0BEC5",
                "#B0BEC5",
                "#B0BEC5",
                "#B0BEC5",
                "#B0BEC5",
                "#B0BEC5",
                "#B0BEC5",
                "#B0BEC5",
                "#B0BEC5",
                "#B0BEC5",
                "#B0BEC5",
                "#B0BEC5",
                "#B0BEC5",
                "#B0BEC5",
                "#B0BEC5",
                "#B0BEC5",
                "#B0BEC5",
                "#B0BEC5",
                "#B0BEC5",
                "#B0BEC5",
                "#B0BEC5",
                "#B0BEC5",
                "#B0BEC5",
                "#B0BEC5",
                "#B0BEC5",
                "#B0BEC5",
                "#B0BEC5",
                "#B0BEC5",
                "#B0BEC5",
                "red",
                "#B0BEC5",
                "#B0BEC5",
                "#B0BEC5"
               ]
              ]
             }
            ],
            "label": "Topic 42",
            "method": "update"
           },
           {
            "args": [
             {
              "marker.color": [
               [
                "#B0BEC5",
                "#B0BEC5",
                "#B0BEC5",
                "#B0BEC5",
                "#B0BEC5",
                "#B0BEC5",
                "#B0BEC5",
                "#B0BEC5",
                "#B0BEC5",
                "#B0BEC5",
                "#B0BEC5",
                "#B0BEC5",
                "#B0BEC5",
                "#B0BEC5",
                "#B0BEC5",
                "#B0BEC5",
                "#B0BEC5",
                "#B0BEC5",
                "#B0BEC5",
                "#B0BEC5",
                "#B0BEC5",
                "#B0BEC5",
                "#B0BEC5",
                "#B0BEC5",
                "#B0BEC5",
                "#B0BEC5",
                "#B0BEC5",
                "#B0BEC5",
                "#B0BEC5",
                "#B0BEC5",
                "#B0BEC5",
                "#B0BEC5",
                "#B0BEC5",
                "#B0BEC5",
                "#B0BEC5",
                "#B0BEC5",
                "#B0BEC5",
                "#B0BEC5",
                "#B0BEC5",
                "#B0BEC5",
                "#B0BEC5",
                "#B0BEC5",
                "#B0BEC5",
                "red",
                "#B0BEC5",
                "#B0BEC5"
               ]
              ]
             }
            ],
            "label": "Topic 43",
            "method": "update"
           },
           {
            "args": [
             {
              "marker.color": [
               [
                "#B0BEC5",
                "#B0BEC5",
                "#B0BEC5",
                "#B0BEC5",
                "#B0BEC5",
                "#B0BEC5",
                "#B0BEC5",
                "#B0BEC5",
                "#B0BEC5",
                "#B0BEC5",
                "#B0BEC5",
                "#B0BEC5",
                "#B0BEC5",
                "#B0BEC5",
                "#B0BEC5",
                "#B0BEC5",
                "#B0BEC5",
                "#B0BEC5",
                "#B0BEC5",
                "#B0BEC5",
                "#B0BEC5",
                "#B0BEC5",
                "#B0BEC5",
                "#B0BEC5",
                "#B0BEC5",
                "#B0BEC5",
                "#B0BEC5",
                "#B0BEC5",
                "#B0BEC5",
                "#B0BEC5",
                "#B0BEC5",
                "#B0BEC5",
                "#B0BEC5",
                "#B0BEC5",
                "#B0BEC5",
                "#B0BEC5",
                "#B0BEC5",
                "#B0BEC5",
                "#B0BEC5",
                "#B0BEC5",
                "#B0BEC5",
                "#B0BEC5",
                "#B0BEC5",
                "#B0BEC5",
                "red",
                "#B0BEC5"
               ]
              ]
             }
            ],
            "label": "Topic 44",
            "method": "update"
           },
           {
            "args": [
             {
              "marker.color": [
               [
                "#B0BEC5",
                "#B0BEC5",
                "#B0BEC5",
                "#B0BEC5",
                "#B0BEC5",
                "#B0BEC5",
                "#B0BEC5",
                "#B0BEC5",
                "#B0BEC5",
                "#B0BEC5",
                "#B0BEC5",
                "#B0BEC5",
                "#B0BEC5",
                "#B0BEC5",
                "#B0BEC5",
                "#B0BEC5",
                "#B0BEC5",
                "#B0BEC5",
                "#B0BEC5",
                "#B0BEC5",
                "#B0BEC5",
                "#B0BEC5",
                "#B0BEC5",
                "#B0BEC5",
                "#B0BEC5",
                "#B0BEC5",
                "#B0BEC5",
                "#B0BEC5",
                "#B0BEC5",
                "#B0BEC5",
                "#B0BEC5",
                "#B0BEC5",
                "#B0BEC5",
                "#B0BEC5",
                "#B0BEC5",
                "#B0BEC5",
                "#B0BEC5",
                "#B0BEC5",
                "#B0BEC5",
                "#B0BEC5",
                "#B0BEC5",
                "#B0BEC5",
                "#B0BEC5",
                "#B0BEC5",
                "#B0BEC5",
                "red"
               ]
              ]
             }
            ],
            "label": "Topic 45",
            "method": "update"
           }
          ]
         }
        ],
        "template": {
         "data": {
          "bar": [
           {
            "error_x": {
             "color": "rgb(36,36,36)"
            },
            "error_y": {
             "color": "rgb(36,36,36)"
            },
            "marker": {
             "line": {
              "color": "white",
              "width": 0.5
             },
             "pattern": {
              "fillmode": "overlay",
              "size": 10,
              "solidity": 0.2
             }
            },
            "type": "bar"
           }
          ],
          "barpolar": [
           {
            "marker": {
             "line": {
              "color": "white",
              "width": 0.5
             },
             "pattern": {
              "fillmode": "overlay",
              "size": 10,
              "solidity": 0.2
             }
            },
            "type": "barpolar"
           }
          ],
          "carpet": [
           {
            "aaxis": {
             "endlinecolor": "rgb(36,36,36)",
             "gridcolor": "white",
             "linecolor": "white",
             "minorgridcolor": "white",
             "startlinecolor": "rgb(36,36,36)"
            },
            "baxis": {
             "endlinecolor": "rgb(36,36,36)",
             "gridcolor": "white",
             "linecolor": "white",
             "minorgridcolor": "white",
             "startlinecolor": "rgb(36,36,36)"
            },
            "type": "carpet"
           }
          ],
          "choropleth": [
           {
            "colorbar": {
             "outlinewidth": 1,
             "tickcolor": "rgb(36,36,36)",
             "ticks": "outside"
            },
            "type": "choropleth"
           }
          ],
          "contour": [
           {
            "colorbar": {
             "outlinewidth": 1,
             "tickcolor": "rgb(36,36,36)",
             "ticks": "outside"
            },
            "colorscale": [
             [
              0,
              "#440154"
             ],
             [
              0.1111111111111111,
              "#482878"
             ],
             [
              0.2222222222222222,
              "#3e4989"
             ],
             [
              0.3333333333333333,
              "#31688e"
             ],
             [
              0.4444444444444444,
              "#26828e"
             ],
             [
              0.5555555555555556,
              "#1f9e89"
             ],
             [
              0.6666666666666666,
              "#35b779"
             ],
             [
              0.7777777777777778,
              "#6ece58"
             ],
             [
              0.8888888888888888,
              "#b5de2b"
             ],
             [
              1,
              "#fde725"
             ]
            ],
            "type": "contour"
           }
          ],
          "contourcarpet": [
           {
            "colorbar": {
             "outlinewidth": 1,
             "tickcolor": "rgb(36,36,36)",
             "ticks": "outside"
            },
            "type": "contourcarpet"
           }
          ],
          "heatmap": [
           {
            "colorbar": {
             "outlinewidth": 1,
             "tickcolor": "rgb(36,36,36)",
             "ticks": "outside"
            },
            "colorscale": [
             [
              0,
              "#440154"
             ],
             [
              0.1111111111111111,
              "#482878"
             ],
             [
              0.2222222222222222,
              "#3e4989"
             ],
             [
              0.3333333333333333,
              "#31688e"
             ],
             [
              0.4444444444444444,
              "#26828e"
             ],
             [
              0.5555555555555556,
              "#1f9e89"
             ],
             [
              0.6666666666666666,
              "#35b779"
             ],
             [
              0.7777777777777778,
              "#6ece58"
             ],
             [
              0.8888888888888888,
              "#b5de2b"
             ],
             [
              1,
              "#fde725"
             ]
            ],
            "type": "heatmap"
           }
          ],
          "heatmapgl": [
           {
            "colorbar": {
             "outlinewidth": 1,
             "tickcolor": "rgb(36,36,36)",
             "ticks": "outside"
            },
            "colorscale": [
             [
              0,
              "#440154"
             ],
             [
              0.1111111111111111,
              "#482878"
             ],
             [
              0.2222222222222222,
              "#3e4989"
             ],
             [
              0.3333333333333333,
              "#31688e"
             ],
             [
              0.4444444444444444,
              "#26828e"
             ],
             [
              0.5555555555555556,
              "#1f9e89"
             ],
             [
              0.6666666666666666,
              "#35b779"
             ],
             [
              0.7777777777777778,
              "#6ece58"
             ],
             [
              0.8888888888888888,
              "#b5de2b"
             ],
             [
              1,
              "#fde725"
             ]
            ],
            "type": "heatmapgl"
           }
          ],
          "histogram": [
           {
            "marker": {
             "line": {
              "color": "white",
              "width": 0.6
             }
            },
            "type": "histogram"
           }
          ],
          "histogram2d": [
           {
            "colorbar": {
             "outlinewidth": 1,
             "tickcolor": "rgb(36,36,36)",
             "ticks": "outside"
            },
            "colorscale": [
             [
              0,
              "#440154"
             ],
             [
              0.1111111111111111,
              "#482878"
             ],
             [
              0.2222222222222222,
              "#3e4989"
             ],
             [
              0.3333333333333333,
              "#31688e"
             ],
             [
              0.4444444444444444,
              "#26828e"
             ],
             [
              0.5555555555555556,
              "#1f9e89"
             ],
             [
              0.6666666666666666,
              "#35b779"
             ],
             [
              0.7777777777777778,
              "#6ece58"
             ],
             [
              0.8888888888888888,
              "#b5de2b"
             ],
             [
              1,
              "#fde725"
             ]
            ],
            "type": "histogram2d"
           }
          ],
          "histogram2dcontour": [
           {
            "colorbar": {
             "outlinewidth": 1,
             "tickcolor": "rgb(36,36,36)",
             "ticks": "outside"
            },
            "colorscale": [
             [
              0,
              "#440154"
             ],
             [
              0.1111111111111111,
              "#482878"
             ],
             [
              0.2222222222222222,
              "#3e4989"
             ],
             [
              0.3333333333333333,
              "#31688e"
             ],
             [
              0.4444444444444444,
              "#26828e"
             ],
             [
              0.5555555555555556,
              "#1f9e89"
             ],
             [
              0.6666666666666666,
              "#35b779"
             ],
             [
              0.7777777777777778,
              "#6ece58"
             ],
             [
              0.8888888888888888,
              "#b5de2b"
             ],
             [
              1,
              "#fde725"
             ]
            ],
            "type": "histogram2dcontour"
           }
          ],
          "mesh3d": [
           {
            "colorbar": {
             "outlinewidth": 1,
             "tickcolor": "rgb(36,36,36)",
             "ticks": "outside"
            },
            "type": "mesh3d"
           }
          ],
          "parcoords": [
           {
            "line": {
             "colorbar": {
              "outlinewidth": 1,
              "tickcolor": "rgb(36,36,36)",
              "ticks": "outside"
             }
            },
            "type": "parcoords"
           }
          ],
          "pie": [
           {
            "automargin": true,
            "type": "pie"
           }
          ],
          "scatter": [
           {
            "fillpattern": {
             "fillmode": "overlay",
             "size": 10,
             "solidity": 0.2
            },
            "type": "scatter"
           }
          ],
          "scatter3d": [
           {
            "line": {
             "colorbar": {
              "outlinewidth": 1,
              "tickcolor": "rgb(36,36,36)",
              "ticks": "outside"
             }
            },
            "marker": {
             "colorbar": {
              "outlinewidth": 1,
              "tickcolor": "rgb(36,36,36)",
              "ticks": "outside"
             }
            },
            "type": "scatter3d"
           }
          ],
          "scattercarpet": [
           {
            "marker": {
             "colorbar": {
              "outlinewidth": 1,
              "tickcolor": "rgb(36,36,36)",
              "ticks": "outside"
             }
            },
            "type": "scattercarpet"
           }
          ],
          "scattergeo": [
           {
            "marker": {
             "colorbar": {
              "outlinewidth": 1,
              "tickcolor": "rgb(36,36,36)",
              "ticks": "outside"
             }
            },
            "type": "scattergeo"
           }
          ],
          "scattergl": [
           {
            "marker": {
             "colorbar": {
              "outlinewidth": 1,
              "tickcolor": "rgb(36,36,36)",
              "ticks": "outside"
             }
            },
            "type": "scattergl"
           }
          ],
          "scattermapbox": [
           {
            "marker": {
             "colorbar": {
              "outlinewidth": 1,
              "tickcolor": "rgb(36,36,36)",
              "ticks": "outside"
             }
            },
            "type": "scattermapbox"
           }
          ],
          "scatterpolar": [
           {
            "marker": {
             "colorbar": {
              "outlinewidth": 1,
              "tickcolor": "rgb(36,36,36)",
              "ticks": "outside"
             }
            },
            "type": "scatterpolar"
           }
          ],
          "scatterpolargl": [
           {
            "marker": {
             "colorbar": {
              "outlinewidth": 1,
              "tickcolor": "rgb(36,36,36)",
              "ticks": "outside"
             }
            },
            "type": "scatterpolargl"
           }
          ],
          "scatterternary": [
           {
            "marker": {
             "colorbar": {
              "outlinewidth": 1,
              "tickcolor": "rgb(36,36,36)",
              "ticks": "outside"
             }
            },
            "type": "scatterternary"
           }
          ],
          "surface": [
           {
            "colorbar": {
             "outlinewidth": 1,
             "tickcolor": "rgb(36,36,36)",
             "ticks": "outside"
            },
            "colorscale": [
             [
              0,
              "#440154"
             ],
             [
              0.1111111111111111,
              "#482878"
             ],
             [
              0.2222222222222222,
              "#3e4989"
             ],
             [
              0.3333333333333333,
              "#31688e"
             ],
             [
              0.4444444444444444,
              "#26828e"
             ],
             [
              0.5555555555555556,
              "#1f9e89"
             ],
             [
              0.6666666666666666,
              "#35b779"
             ],
             [
              0.7777777777777778,
              "#6ece58"
             ],
             [
              0.8888888888888888,
              "#b5de2b"
             ],
             [
              1,
              "#fde725"
             ]
            ],
            "type": "surface"
           }
          ],
          "table": [
           {
            "cells": {
             "fill": {
              "color": "rgb(237,237,237)"
             },
             "line": {
              "color": "white"
             }
            },
            "header": {
             "fill": {
              "color": "rgb(217,217,217)"
             },
             "line": {
              "color": "white"
             }
            },
            "type": "table"
           }
          ]
         },
         "layout": {
          "annotationdefaults": {
           "arrowhead": 0,
           "arrowwidth": 1
          },
          "autotypenumbers": "strict",
          "coloraxis": {
           "colorbar": {
            "outlinewidth": 1,
            "tickcolor": "rgb(36,36,36)",
            "ticks": "outside"
           }
          },
          "colorscale": {
           "diverging": [
            [
             0,
             "rgb(103,0,31)"
            ],
            [
             0.1,
             "rgb(178,24,43)"
            ],
            [
             0.2,
             "rgb(214,96,77)"
            ],
            [
             0.3,
             "rgb(244,165,130)"
            ],
            [
             0.4,
             "rgb(253,219,199)"
            ],
            [
             0.5,
             "rgb(247,247,247)"
            ],
            [
             0.6,
             "rgb(209,229,240)"
            ],
            [
             0.7,
             "rgb(146,197,222)"
            ],
            [
             0.8,
             "rgb(67,147,195)"
            ],
            [
             0.9,
             "rgb(33,102,172)"
            ],
            [
             1,
             "rgb(5,48,97)"
            ]
           ],
           "sequential": [
            [
             0,
             "#440154"
            ],
            [
             0.1111111111111111,
             "#482878"
            ],
            [
             0.2222222222222222,
             "#3e4989"
            ],
            [
             0.3333333333333333,
             "#31688e"
            ],
            [
             0.4444444444444444,
             "#26828e"
            ],
            [
             0.5555555555555556,
             "#1f9e89"
            ],
            [
             0.6666666666666666,
             "#35b779"
            ],
            [
             0.7777777777777778,
             "#6ece58"
            ],
            [
             0.8888888888888888,
             "#b5de2b"
            ],
            [
             1,
             "#fde725"
            ]
           ],
           "sequentialminus": [
            [
             0,
             "#440154"
            ],
            [
             0.1111111111111111,
             "#482878"
            ],
            [
             0.2222222222222222,
             "#3e4989"
            ],
            [
             0.3333333333333333,
             "#31688e"
            ],
            [
             0.4444444444444444,
             "#26828e"
            ],
            [
             0.5555555555555556,
             "#1f9e89"
            ],
            [
             0.6666666666666666,
             "#35b779"
            ],
            [
             0.7777777777777778,
             "#6ece58"
            ],
            [
             0.8888888888888888,
             "#b5de2b"
            ],
            [
             1,
             "#fde725"
            ]
           ]
          },
          "colorway": [
           "#1F77B4",
           "#FF7F0E",
           "#2CA02C",
           "#D62728",
           "#9467BD",
           "#8C564B",
           "#E377C2",
           "#7F7F7F",
           "#BCBD22",
           "#17BECF"
          ],
          "font": {
           "color": "rgb(36,36,36)"
          },
          "geo": {
           "bgcolor": "white",
           "lakecolor": "white",
           "landcolor": "white",
           "showlakes": true,
           "showland": true,
           "subunitcolor": "white"
          },
          "hoverlabel": {
           "align": "left"
          },
          "hovermode": "closest",
          "mapbox": {
           "style": "light"
          },
          "paper_bgcolor": "white",
          "plot_bgcolor": "white",
          "polar": {
           "angularaxis": {
            "gridcolor": "rgb(232,232,232)",
            "linecolor": "rgb(36,36,36)",
            "showgrid": false,
            "showline": true,
            "ticks": "outside"
           },
           "bgcolor": "white",
           "radialaxis": {
            "gridcolor": "rgb(232,232,232)",
            "linecolor": "rgb(36,36,36)",
            "showgrid": false,
            "showline": true,
            "ticks": "outside"
           }
          },
          "scene": {
           "xaxis": {
            "backgroundcolor": "white",
            "gridcolor": "rgb(232,232,232)",
            "gridwidth": 2,
            "linecolor": "rgb(36,36,36)",
            "showbackground": true,
            "showgrid": false,
            "showline": true,
            "ticks": "outside",
            "zeroline": false,
            "zerolinecolor": "rgb(36,36,36)"
           },
           "yaxis": {
            "backgroundcolor": "white",
            "gridcolor": "rgb(232,232,232)",
            "gridwidth": 2,
            "linecolor": "rgb(36,36,36)",
            "showbackground": true,
            "showgrid": false,
            "showline": true,
            "ticks": "outside",
            "zeroline": false,
            "zerolinecolor": "rgb(36,36,36)"
           },
           "zaxis": {
            "backgroundcolor": "white",
            "gridcolor": "rgb(232,232,232)",
            "gridwidth": 2,
            "linecolor": "rgb(36,36,36)",
            "showbackground": true,
            "showgrid": false,
            "showline": true,
            "ticks": "outside",
            "zeroline": false,
            "zerolinecolor": "rgb(36,36,36)"
           }
          },
          "shapedefaults": {
           "fillcolor": "black",
           "line": {
            "width": 0
           },
           "opacity": 0.3
          },
          "ternary": {
           "aaxis": {
            "gridcolor": "rgb(232,232,232)",
            "linecolor": "rgb(36,36,36)",
            "showgrid": false,
            "showline": true,
            "ticks": "outside"
           },
           "baxis": {
            "gridcolor": "rgb(232,232,232)",
            "linecolor": "rgb(36,36,36)",
            "showgrid": false,
            "showline": true,
            "ticks": "outside"
           },
           "bgcolor": "white",
           "caxis": {
            "gridcolor": "rgb(232,232,232)",
            "linecolor": "rgb(36,36,36)",
            "showgrid": false,
            "showline": true,
            "ticks": "outside"
           }
          },
          "title": {
           "x": 0.05
          },
          "xaxis": {
           "automargin": true,
           "gridcolor": "rgb(232,232,232)",
           "linecolor": "rgb(36,36,36)",
           "showgrid": false,
           "showline": true,
           "ticks": "outside",
           "title": {
            "standoff": 15
           },
           "zeroline": false,
           "zerolinecolor": "rgb(36,36,36)"
          },
          "yaxis": {
           "automargin": true,
           "gridcolor": "rgb(232,232,232)",
           "linecolor": "rgb(36,36,36)",
           "showgrid": false,
           "showline": true,
           "ticks": "outside",
           "title": {
            "standoff": 15
           },
           "zeroline": false,
           "zerolinecolor": "rgb(36,36,36)"
          }
         }
        },
        "title": {
         "font": {
          "color": "Black",
          "size": 22
         },
         "text": "<b>Intertopic Distance Map</b>",
         "x": 0.5,
         "xanchor": "center",
         "y": 0.95,
         "yanchor": "top"
        },
        "width": 650,
        "xaxis": {
         "anchor": "y",
         "domain": [
          0,
          1
         ],
         "range": [
          0.7109043091535568,
          13.53113775253296
         ],
         "title": {
          "text": ""
         },
         "visible": false
        },
        "yaxis": {
         "anchor": "x",
         "domain": [
          0,
          1
         ],
         "range": [
          -17.196412897109987,
          15.372851276397705
         ],
         "title": {
          "text": ""
         },
         "visible": false
        }
       }
      }
     },
     "metadata": {},
     "output_type": "display_data"
    }
   ],
   "source": [
    "# 부정 리뷰 토픽 관계도 시각화\n",
    "topic_model_negative.visualize_topics()"
   ]
  },
  {
   "cell_type": "code",
   "execution_count": 70,
   "metadata": {},
   "outputs": [
    {
     "data": {
      "application/vnd.plotly.v1+json": {
       "config": {
        "plotlyServerURL": "https://plot.ly"
       },
       "data": [
        {
         "marker": {
          "color": "#D55E00"
         },
         "orientation": "h",
         "type": "bar",
         "x": [
          0.03958398683815743,
          0.04390420800848603,
          0.04658142183055576,
          0.04716654605028752,
          0.05502277498378641
         ],
         "xaxis": "x",
         "y": [
          "character  ",
          "time  ",
          "get  ",
          "fun  ",
          "good  "
         ],
         "yaxis": "y"
        },
        {
         "marker": {
          "color": "#0072B2"
         },
         "orientation": "h",
         "type": "bar",
         "x": [
          0.00001,
          0.00001,
          2.123014817242203,
          2.4496006693800703,
          2.8156617654575804
         ],
         "xaxis": "x2",
         "y": [
          "  ",
          "  ",
          "please  ",
          "lol  ",
          "hahaha  "
         ],
         "yaxis": "y2"
        }
       ],
       "layout": {
        "annotations": [
         {
          "font": {
           "size": 16
          },
          "showarrow": false,
          "text": "Topic 0",
          "x": 0.0875,
          "xanchor": "center",
          "xref": "paper",
          "y": 1,
          "yanchor": "bottom",
          "yref": "paper"
         },
         {
          "font": {
           "size": 16
          },
          "showarrow": false,
          "text": "Topic 1",
          "x": 0.36250000000000004,
          "xanchor": "center",
          "xref": "paper",
          "y": 1,
          "yanchor": "bottom",
          "yref": "paper"
         }
        ],
        "height": 325,
        "hoverlabel": {
         "bgcolor": "white",
         "font": {
          "family": "Rockwell",
          "size": 16
         }
        },
        "showlegend": false,
        "template": {
         "data": {
          "bar": [
           {
            "error_x": {
             "color": "#2a3f5f"
            },
            "error_y": {
             "color": "#2a3f5f"
            },
            "marker": {
             "line": {
              "color": "white",
              "width": 0.5
             },
             "pattern": {
              "fillmode": "overlay",
              "size": 10,
              "solidity": 0.2
             }
            },
            "type": "bar"
           }
          ],
          "barpolar": [
           {
            "marker": {
             "line": {
              "color": "white",
              "width": 0.5
             },
             "pattern": {
              "fillmode": "overlay",
              "size": 10,
              "solidity": 0.2
             }
            },
            "type": "barpolar"
           }
          ],
          "carpet": [
           {
            "aaxis": {
             "endlinecolor": "#2a3f5f",
             "gridcolor": "#C8D4E3",
             "linecolor": "#C8D4E3",
             "minorgridcolor": "#C8D4E3",
             "startlinecolor": "#2a3f5f"
            },
            "baxis": {
             "endlinecolor": "#2a3f5f",
             "gridcolor": "#C8D4E3",
             "linecolor": "#C8D4E3",
             "minorgridcolor": "#C8D4E3",
             "startlinecolor": "#2a3f5f"
            },
            "type": "carpet"
           }
          ],
          "choropleth": [
           {
            "colorbar": {
             "outlinewidth": 0,
             "ticks": ""
            },
            "type": "choropleth"
           }
          ],
          "contour": [
           {
            "colorbar": {
             "outlinewidth": 0,
             "ticks": ""
            },
            "colorscale": [
             [
              0,
              "#0d0887"
             ],
             [
              0.1111111111111111,
              "#46039f"
             ],
             [
              0.2222222222222222,
              "#7201a8"
             ],
             [
              0.3333333333333333,
              "#9c179e"
             ],
             [
              0.4444444444444444,
              "#bd3786"
             ],
             [
              0.5555555555555556,
              "#d8576b"
             ],
             [
              0.6666666666666666,
              "#ed7953"
             ],
             [
              0.7777777777777778,
              "#fb9f3a"
             ],
             [
              0.8888888888888888,
              "#fdca26"
             ],
             [
              1,
              "#f0f921"
             ]
            ],
            "type": "contour"
           }
          ],
          "contourcarpet": [
           {
            "colorbar": {
             "outlinewidth": 0,
             "ticks": ""
            },
            "type": "contourcarpet"
           }
          ],
          "heatmap": [
           {
            "colorbar": {
             "outlinewidth": 0,
             "ticks": ""
            },
            "colorscale": [
             [
              0,
              "#0d0887"
             ],
             [
              0.1111111111111111,
              "#46039f"
             ],
             [
              0.2222222222222222,
              "#7201a8"
             ],
             [
              0.3333333333333333,
              "#9c179e"
             ],
             [
              0.4444444444444444,
              "#bd3786"
             ],
             [
              0.5555555555555556,
              "#d8576b"
             ],
             [
              0.6666666666666666,
              "#ed7953"
             ],
             [
              0.7777777777777778,
              "#fb9f3a"
             ],
             [
              0.8888888888888888,
              "#fdca26"
             ],
             [
              1,
              "#f0f921"
             ]
            ],
            "type": "heatmap"
           }
          ],
          "heatmapgl": [
           {
            "colorbar": {
             "outlinewidth": 0,
             "ticks": ""
            },
            "colorscale": [
             [
              0,
              "#0d0887"
             ],
             [
              0.1111111111111111,
              "#46039f"
             ],
             [
              0.2222222222222222,
              "#7201a8"
             ],
             [
              0.3333333333333333,
              "#9c179e"
             ],
             [
              0.4444444444444444,
              "#bd3786"
             ],
             [
              0.5555555555555556,
              "#d8576b"
             ],
             [
              0.6666666666666666,
              "#ed7953"
             ],
             [
              0.7777777777777778,
              "#fb9f3a"
             ],
             [
              0.8888888888888888,
              "#fdca26"
             ],
             [
              1,
              "#f0f921"
             ]
            ],
            "type": "heatmapgl"
           }
          ],
          "histogram": [
           {
            "marker": {
             "pattern": {
              "fillmode": "overlay",
              "size": 10,
              "solidity": 0.2
             }
            },
            "type": "histogram"
           }
          ],
          "histogram2d": [
           {
            "colorbar": {
             "outlinewidth": 0,
             "ticks": ""
            },
            "colorscale": [
             [
              0,
              "#0d0887"
             ],
             [
              0.1111111111111111,
              "#46039f"
             ],
             [
              0.2222222222222222,
              "#7201a8"
             ],
             [
              0.3333333333333333,
              "#9c179e"
             ],
             [
              0.4444444444444444,
              "#bd3786"
             ],
             [
              0.5555555555555556,
              "#d8576b"
             ],
             [
              0.6666666666666666,
              "#ed7953"
             ],
             [
              0.7777777777777778,
              "#fb9f3a"
             ],
             [
              0.8888888888888888,
              "#fdca26"
             ],
             [
              1,
              "#f0f921"
             ]
            ],
            "type": "histogram2d"
           }
          ],
          "histogram2dcontour": [
           {
            "colorbar": {
             "outlinewidth": 0,
             "ticks": ""
            },
            "colorscale": [
             [
              0,
              "#0d0887"
             ],
             [
              0.1111111111111111,
              "#46039f"
             ],
             [
              0.2222222222222222,
              "#7201a8"
             ],
             [
              0.3333333333333333,
              "#9c179e"
             ],
             [
              0.4444444444444444,
              "#bd3786"
             ],
             [
              0.5555555555555556,
              "#d8576b"
             ],
             [
              0.6666666666666666,
              "#ed7953"
             ],
             [
              0.7777777777777778,
              "#fb9f3a"
             ],
             [
              0.8888888888888888,
              "#fdca26"
             ],
             [
              1,
              "#f0f921"
             ]
            ],
            "type": "histogram2dcontour"
           }
          ],
          "mesh3d": [
           {
            "colorbar": {
             "outlinewidth": 0,
             "ticks": ""
            },
            "type": "mesh3d"
           }
          ],
          "parcoords": [
           {
            "line": {
             "colorbar": {
              "outlinewidth": 0,
              "ticks": ""
             }
            },
            "type": "parcoords"
           }
          ],
          "pie": [
           {
            "automargin": true,
            "type": "pie"
           }
          ],
          "scatter": [
           {
            "fillpattern": {
             "fillmode": "overlay",
             "size": 10,
             "solidity": 0.2
            },
            "type": "scatter"
           }
          ],
          "scatter3d": [
           {
            "line": {
             "colorbar": {
              "outlinewidth": 0,
              "ticks": ""
             }
            },
            "marker": {
             "colorbar": {
              "outlinewidth": 0,
              "ticks": ""
             }
            },
            "type": "scatter3d"
           }
          ],
          "scattercarpet": [
           {
            "marker": {
             "colorbar": {
              "outlinewidth": 0,
              "ticks": ""
             }
            },
            "type": "scattercarpet"
           }
          ],
          "scattergeo": [
           {
            "marker": {
             "colorbar": {
              "outlinewidth": 0,
              "ticks": ""
             }
            },
            "type": "scattergeo"
           }
          ],
          "scattergl": [
           {
            "marker": {
             "colorbar": {
              "outlinewidth": 0,
              "ticks": ""
             }
            },
            "type": "scattergl"
           }
          ],
          "scattermapbox": [
           {
            "marker": {
             "colorbar": {
              "outlinewidth": 0,
              "ticks": ""
             }
            },
            "type": "scattermapbox"
           }
          ],
          "scatterpolar": [
           {
            "marker": {
             "colorbar": {
              "outlinewidth": 0,
              "ticks": ""
             }
            },
            "type": "scatterpolar"
           }
          ],
          "scatterpolargl": [
           {
            "marker": {
             "colorbar": {
              "outlinewidth": 0,
              "ticks": ""
             }
            },
            "type": "scatterpolargl"
           }
          ],
          "scatterternary": [
           {
            "marker": {
             "colorbar": {
              "outlinewidth": 0,
              "ticks": ""
             }
            },
            "type": "scatterternary"
           }
          ],
          "surface": [
           {
            "colorbar": {
             "outlinewidth": 0,
             "ticks": ""
            },
            "colorscale": [
             [
              0,
              "#0d0887"
             ],
             [
              0.1111111111111111,
              "#46039f"
             ],
             [
              0.2222222222222222,
              "#7201a8"
             ],
             [
              0.3333333333333333,
              "#9c179e"
             ],
             [
              0.4444444444444444,
              "#bd3786"
             ],
             [
              0.5555555555555556,
              "#d8576b"
             ],
             [
              0.6666666666666666,
              "#ed7953"
             ],
             [
              0.7777777777777778,
              "#fb9f3a"
             ],
             [
              0.8888888888888888,
              "#fdca26"
             ],
             [
              1,
              "#f0f921"
             ]
            ],
            "type": "surface"
           }
          ],
          "table": [
           {
            "cells": {
             "fill": {
              "color": "#EBF0F8"
             },
             "line": {
              "color": "white"
             }
            },
            "header": {
             "fill": {
              "color": "#C8D4E3"
             },
             "line": {
              "color": "white"
             }
            },
            "type": "table"
           }
          ]
         },
         "layout": {
          "annotationdefaults": {
           "arrowcolor": "#2a3f5f",
           "arrowhead": 0,
           "arrowwidth": 1
          },
          "autotypenumbers": "strict",
          "coloraxis": {
           "colorbar": {
            "outlinewidth": 0,
            "ticks": ""
           }
          },
          "colorscale": {
           "diverging": [
            [
             0,
             "#8e0152"
            ],
            [
             0.1,
             "#c51b7d"
            ],
            [
             0.2,
             "#de77ae"
            ],
            [
             0.3,
             "#f1b6da"
            ],
            [
             0.4,
             "#fde0ef"
            ],
            [
             0.5,
             "#f7f7f7"
            ],
            [
             0.6,
             "#e6f5d0"
            ],
            [
             0.7,
             "#b8e186"
            ],
            [
             0.8,
             "#7fbc41"
            ],
            [
             0.9,
             "#4d9221"
            ],
            [
             1,
             "#276419"
            ]
           ],
           "sequential": [
            [
             0,
             "#0d0887"
            ],
            [
             0.1111111111111111,
             "#46039f"
            ],
            [
             0.2222222222222222,
             "#7201a8"
            ],
            [
             0.3333333333333333,
             "#9c179e"
            ],
            [
             0.4444444444444444,
             "#bd3786"
            ],
            [
             0.5555555555555556,
             "#d8576b"
            ],
            [
             0.6666666666666666,
             "#ed7953"
            ],
            [
             0.7777777777777778,
             "#fb9f3a"
            ],
            [
             0.8888888888888888,
             "#fdca26"
            ],
            [
             1,
             "#f0f921"
            ]
           ],
           "sequentialminus": [
            [
             0,
             "#0d0887"
            ],
            [
             0.1111111111111111,
             "#46039f"
            ],
            [
             0.2222222222222222,
             "#7201a8"
            ],
            [
             0.3333333333333333,
             "#9c179e"
            ],
            [
             0.4444444444444444,
             "#bd3786"
            ],
            [
             0.5555555555555556,
             "#d8576b"
            ],
            [
             0.6666666666666666,
             "#ed7953"
            ],
            [
             0.7777777777777778,
             "#fb9f3a"
            ],
            [
             0.8888888888888888,
             "#fdca26"
            ],
            [
             1,
             "#f0f921"
            ]
           ]
          },
          "colorway": [
           "#636efa",
           "#EF553B",
           "#00cc96",
           "#ab63fa",
           "#FFA15A",
           "#19d3f3",
           "#FF6692",
           "#B6E880",
           "#FF97FF",
           "#FECB52"
          ],
          "font": {
           "color": "#2a3f5f"
          },
          "geo": {
           "bgcolor": "white",
           "lakecolor": "white",
           "landcolor": "white",
           "showlakes": true,
           "showland": true,
           "subunitcolor": "#C8D4E3"
          },
          "hoverlabel": {
           "align": "left"
          },
          "hovermode": "closest",
          "mapbox": {
           "style": "light"
          },
          "paper_bgcolor": "white",
          "plot_bgcolor": "white",
          "polar": {
           "angularaxis": {
            "gridcolor": "#EBF0F8",
            "linecolor": "#EBF0F8",
            "ticks": ""
           },
           "bgcolor": "white",
           "radialaxis": {
            "gridcolor": "#EBF0F8",
            "linecolor": "#EBF0F8",
            "ticks": ""
           }
          },
          "scene": {
           "xaxis": {
            "backgroundcolor": "white",
            "gridcolor": "#DFE8F3",
            "gridwidth": 2,
            "linecolor": "#EBF0F8",
            "showbackground": true,
            "ticks": "",
            "zerolinecolor": "#EBF0F8"
           },
           "yaxis": {
            "backgroundcolor": "white",
            "gridcolor": "#DFE8F3",
            "gridwidth": 2,
            "linecolor": "#EBF0F8",
            "showbackground": true,
            "ticks": "",
            "zerolinecolor": "#EBF0F8"
           },
           "zaxis": {
            "backgroundcolor": "white",
            "gridcolor": "#DFE8F3",
            "gridwidth": 2,
            "linecolor": "#EBF0F8",
            "showbackground": true,
            "ticks": "",
            "zerolinecolor": "#EBF0F8"
           }
          },
          "shapedefaults": {
           "line": {
            "color": "#2a3f5f"
           }
          },
          "ternary": {
           "aaxis": {
            "gridcolor": "#DFE8F3",
            "linecolor": "#A2B1C6",
            "ticks": ""
           },
           "baxis": {
            "gridcolor": "#DFE8F3",
            "linecolor": "#A2B1C6",
            "ticks": ""
           },
           "bgcolor": "white",
           "caxis": {
            "gridcolor": "#DFE8F3",
            "linecolor": "#A2B1C6",
            "ticks": ""
           }
          },
          "title": {
           "x": 0.05
          },
          "xaxis": {
           "automargin": true,
           "gridcolor": "#EBF0F8",
           "linecolor": "#EBF0F8",
           "ticks": "",
           "title": {
            "standoff": 15
           },
           "zerolinecolor": "#EBF0F8",
           "zerolinewidth": 2
          },
          "yaxis": {
           "automargin": true,
           "gridcolor": "#EBF0F8",
           "linecolor": "#EBF0F8",
           "ticks": "",
           "title": {
            "standoff": 15
           },
           "zerolinecolor": "#EBF0F8",
           "zerolinewidth": 2
          }
         }
        },
        "title": {
         "font": {
          "color": "Black",
          "size": 22
         },
         "text": "Topic Word Scores",
         "x": 0.5,
         "xanchor": "center",
         "yanchor": "top"
        },
        "width": 1000,
        "xaxis": {
         "anchor": "y",
         "domain": [
          0,
          0.175
         ],
         "showgrid": true
        },
        "xaxis2": {
         "anchor": "y2",
         "domain": [
          0.275,
          0.45
         ],
         "showgrid": true
        },
        "xaxis3": {
         "anchor": "y3",
         "domain": [
          0.55,
          0.7250000000000001
         ],
         "showgrid": true
        },
        "xaxis4": {
         "anchor": "y4",
         "domain": [
          0.825,
          1
         ],
         "showgrid": true
        },
        "yaxis": {
         "anchor": "x",
         "domain": [
          0,
          1
         ],
         "showgrid": true
        },
        "yaxis2": {
         "anchor": "x2",
         "domain": [
          0,
          1
         ],
         "showgrid": true
        },
        "yaxis3": {
         "anchor": "x3",
         "domain": [
          0,
          1
         ],
         "showgrid": true
        },
        "yaxis4": {
         "anchor": "x4",
         "domain": [
          0,
          1
         ],
         "showgrid": true
        }
       }
      }
     },
     "metadata": {},
     "output_type": "display_data"
    }
   ],
   "source": [
    "# 긍정 리뷰\n",
    "topic_model_positive.visualize_barchart(top_n_topics=10)"
   ]
  },
  {
   "cell_type": "code",
   "execution_count": 71,
   "metadata": {},
   "outputs": [
    {
     "data": {
      "application/vnd.plotly.v1+json": {
       "config": {
        "plotlyServerURL": "https://plot.ly"
       },
       "data": [
        {
         "marker": {
          "color": "#D55E00"
         },
         "orientation": "h",
         "type": "bar",
         "x": [
          0.015216857206987853,
          0.01713744455345358,
          0.019699112486816436,
          0.022851066986104493,
          0.025427683616735773
         ],
         "xaxis": "x",
         "y": [
          "gunplay  ",
          "character  ",
          "feel  ",
          "boring  ",
          "story  "
         ],
         "yaxis": "y"
        },
        {
         "marker": {
          "color": "#0072B2"
         },
         "orientation": "h",
         "type": "bar",
         "x": [
          0.023962141321737775,
          0.02426251340445957,
          0.0251417590504787,
          0.13605783943911512,
          0.13819442204688331
         ],
         "xaxis": "x2",
         "y": [
          "farming  ",
          "low  ",
          "item  ",
          "drop  ",
          "rate  "
         ],
         "yaxis": "y2"
        },
        {
         "marker": {
          "color": "#CC79A7"
         },
         "orientation": "h",
         "type": "bar",
         "x": [
          0.024821745267735337,
          0.02796761510634461,
          0.02936338474409508,
          0.044824566728603084,
          0.15142487108198682
         ],
         "xaxis": "x3",
         "y": [
          "thanks  ",
          "monetization  ",
          "nexons  ",
          "greedy  ",
          "nexon  "
         ],
         "yaxis": "y3"
        },
        {
         "marker": {
          "color": "#E69F00"
         },
         "orientation": "h",
         "type": "bar",
         "x": [
          0.024838698525464237,
          0.0273457007342356,
          0.03279194370121339,
          0.04359581329356274,
          0.07643829208037715
         ],
         "xaxis": "x4",
         "y": [
          "get  ",
          "hour  ",
          "part  ",
          "grinding  ",
          "grind  "
         ],
         "yaxis": "y4"
        },
        {
         "marker": {
          "color": "#56B4E9"
         },
         "orientation": "h",
         "type": "bar",
         "x": [
          0.017164397126549297,
          0.022292015333400896,
          0.08864897637577906,
          0.10129953860162592,
          0.10275739567492138
         ],
         "xaxis": "x5",
         "y": [
          "time  ",
          "mission  ",
          "free  ",
          "product  ",
          "received  "
         ],
         "yaxis": "y5"
        },
        {
         "marker": {
          "color": "#009E73"
         },
         "orientation": "h",
         "type": "bar",
         "x": [
          0.04483860095453552,
          0.048448889539986696,
          0.0666182520382636,
          0.0757044506385567,
          0.5457904192510805
         ],
         "xaxis": "x6",
         "y": [
          "naaaaaaaah  ",
          "man  ",
          "kinda  ",
          "soooo  ",
          "boring  "
         ],
         "yaxis": "y6"
        },
        {
         "marker": {
          "color": "#F0E442"
         },
         "orientation": "h",
         "type": "bar",
         "x": [
          0.043836811314057395,
          0.046071864911098645,
          0.053231640213336394,
          0.059827384281265765,
          0.12522810687185743
         ],
         "xaxis": "x7",
         "y": [
          "nexon  ",
          "lost  ",
          "ticket  ",
          "support  ",
          "account  "
         ],
         "yaxis": "y7"
        },
        {
         "marker": {
          "color": "#D55E00"
         },
         "orientation": "h",
         "type": "bar",
         "x": [
          0.07486530584565794,
          0.09107762075145683,
          0.11430672754106434,
          0.15246027657129954,
          0.28341130578351154
         ],
         "xaxis": "x8",
         "y": [
          "meh  ",
          "hour  ",
          "kinda  ",
          "suck  ",
          "bad  "
         ],
         "yaxis": "y8"
        },
        {
         "marker": {
          "color": "#0072B2"
         },
         "orientation": "h",
         "type": "bar",
         "x": [
          0.05138664238589516,
          0.053184952856597224,
          0.07135992912485324,
          0.1900743162360898,
          0.47692944652343283
         ],
         "xaxis": "x9",
         "y": [
          "fixing  ",
          "copy  ",
          "solo  ",
          "garbage  ",
          "trash  "
         ],
         "yaxis": "y9"
        },
        {
         "marker": {
          "color": "#CC79A7"
         },
         "orientation": "h",
         "type": "bar",
         "x": [
          0.05016500035555229,
          0.05502493133365019,
          0.07333405318475857,
          0.0810608998782721,
          0.15400559636623695
         ],
         "xaxis": "x10",
         "y": [
          "compiling  ",
          "crash  ",
          "loading  ",
          "shader  ",
          "shaders  "
         ],
         "yaxis": "y10"
        }
       ],
       "layout": {
        "annotations": [
         {
          "font": {
           "size": 16
          },
          "showarrow": false,
          "text": "Topic 0",
          "x": 0.0875,
          "xanchor": "center",
          "xref": "paper",
          "y": 1,
          "yanchor": "bottom",
          "yref": "paper"
         },
         {
          "font": {
           "size": 16
          },
          "showarrow": false,
          "text": "Topic 1",
          "x": 0.36250000000000004,
          "xanchor": "center",
          "xref": "paper",
          "y": 1,
          "yanchor": "bottom",
          "yref": "paper"
         },
         {
          "font": {
           "size": 16
          },
          "showarrow": false,
          "text": "Topic 2",
          "x": 0.6375000000000001,
          "xanchor": "center",
          "xref": "paper",
          "y": 1,
          "yanchor": "bottom",
          "yref": "paper"
         },
         {
          "font": {
           "size": 16
          },
          "showarrow": false,
          "text": "Topic 3",
          "x": 0.9125,
          "xanchor": "center",
          "xref": "paper",
          "y": 1,
          "yanchor": "bottom",
          "yref": "paper"
         },
         {
          "font": {
           "size": 16
          },
          "showarrow": false,
          "text": "Topic 4",
          "x": 0.0875,
          "xanchor": "center",
          "xref": "paper",
          "y": 0.6222222222222222,
          "yanchor": "bottom",
          "yref": "paper"
         },
         {
          "font": {
           "size": 16
          },
          "showarrow": false,
          "text": "Topic 5",
          "x": 0.36250000000000004,
          "xanchor": "center",
          "xref": "paper",
          "y": 0.6222222222222222,
          "yanchor": "bottom",
          "yref": "paper"
         },
         {
          "font": {
           "size": 16
          },
          "showarrow": false,
          "text": "Topic 6",
          "x": 0.6375000000000001,
          "xanchor": "center",
          "xref": "paper",
          "y": 0.6222222222222222,
          "yanchor": "bottom",
          "yref": "paper"
         },
         {
          "font": {
           "size": 16
          },
          "showarrow": false,
          "text": "Topic 7",
          "x": 0.9125,
          "xanchor": "center",
          "xref": "paper",
          "y": 0.6222222222222222,
          "yanchor": "bottom",
          "yref": "paper"
         },
         {
          "font": {
           "size": 16
          },
          "showarrow": false,
          "text": "Topic 8",
          "x": 0.0875,
          "xanchor": "center",
          "xref": "paper",
          "y": 0.24444444444444446,
          "yanchor": "bottom",
          "yref": "paper"
         },
         {
          "font": {
           "size": 16
          },
          "showarrow": false,
          "text": "Topic 9",
          "x": 0.36250000000000004,
          "xanchor": "center",
          "xref": "paper",
          "y": 0.24444444444444446,
          "yanchor": "bottom",
          "yref": "paper"
         }
        ],
        "height": 750,
        "hoverlabel": {
         "bgcolor": "white",
         "font": {
          "family": "Rockwell",
          "size": 16
         }
        },
        "showlegend": false,
        "template": {
         "data": {
          "bar": [
           {
            "error_x": {
             "color": "#2a3f5f"
            },
            "error_y": {
             "color": "#2a3f5f"
            },
            "marker": {
             "line": {
              "color": "white",
              "width": 0.5
             },
             "pattern": {
              "fillmode": "overlay",
              "size": 10,
              "solidity": 0.2
             }
            },
            "type": "bar"
           }
          ],
          "barpolar": [
           {
            "marker": {
             "line": {
              "color": "white",
              "width": 0.5
             },
             "pattern": {
              "fillmode": "overlay",
              "size": 10,
              "solidity": 0.2
             }
            },
            "type": "barpolar"
           }
          ],
          "carpet": [
           {
            "aaxis": {
             "endlinecolor": "#2a3f5f",
             "gridcolor": "#C8D4E3",
             "linecolor": "#C8D4E3",
             "minorgridcolor": "#C8D4E3",
             "startlinecolor": "#2a3f5f"
            },
            "baxis": {
             "endlinecolor": "#2a3f5f",
             "gridcolor": "#C8D4E3",
             "linecolor": "#C8D4E3",
             "minorgridcolor": "#C8D4E3",
             "startlinecolor": "#2a3f5f"
            },
            "type": "carpet"
           }
          ],
          "choropleth": [
           {
            "colorbar": {
             "outlinewidth": 0,
             "ticks": ""
            },
            "type": "choropleth"
           }
          ],
          "contour": [
           {
            "colorbar": {
             "outlinewidth": 0,
             "ticks": ""
            },
            "colorscale": [
             [
              0,
              "#0d0887"
             ],
             [
              0.1111111111111111,
              "#46039f"
             ],
             [
              0.2222222222222222,
              "#7201a8"
             ],
             [
              0.3333333333333333,
              "#9c179e"
             ],
             [
              0.4444444444444444,
              "#bd3786"
             ],
             [
              0.5555555555555556,
              "#d8576b"
             ],
             [
              0.6666666666666666,
              "#ed7953"
             ],
             [
              0.7777777777777778,
              "#fb9f3a"
             ],
             [
              0.8888888888888888,
              "#fdca26"
             ],
             [
              1,
              "#f0f921"
             ]
            ],
            "type": "contour"
           }
          ],
          "contourcarpet": [
           {
            "colorbar": {
             "outlinewidth": 0,
             "ticks": ""
            },
            "type": "contourcarpet"
           }
          ],
          "heatmap": [
           {
            "colorbar": {
             "outlinewidth": 0,
             "ticks": ""
            },
            "colorscale": [
             [
              0,
              "#0d0887"
             ],
             [
              0.1111111111111111,
              "#46039f"
             ],
             [
              0.2222222222222222,
              "#7201a8"
             ],
             [
              0.3333333333333333,
              "#9c179e"
             ],
             [
              0.4444444444444444,
              "#bd3786"
             ],
             [
              0.5555555555555556,
              "#d8576b"
             ],
             [
              0.6666666666666666,
              "#ed7953"
             ],
             [
              0.7777777777777778,
              "#fb9f3a"
             ],
             [
              0.8888888888888888,
              "#fdca26"
             ],
             [
              1,
              "#f0f921"
             ]
            ],
            "type": "heatmap"
           }
          ],
          "heatmapgl": [
           {
            "colorbar": {
             "outlinewidth": 0,
             "ticks": ""
            },
            "colorscale": [
             [
              0,
              "#0d0887"
             ],
             [
              0.1111111111111111,
              "#46039f"
             ],
             [
              0.2222222222222222,
              "#7201a8"
             ],
             [
              0.3333333333333333,
              "#9c179e"
             ],
             [
              0.4444444444444444,
              "#bd3786"
             ],
             [
              0.5555555555555556,
              "#d8576b"
             ],
             [
              0.6666666666666666,
              "#ed7953"
             ],
             [
              0.7777777777777778,
              "#fb9f3a"
             ],
             [
              0.8888888888888888,
              "#fdca26"
             ],
             [
              1,
              "#f0f921"
             ]
            ],
            "type": "heatmapgl"
           }
          ],
          "histogram": [
           {
            "marker": {
             "pattern": {
              "fillmode": "overlay",
              "size": 10,
              "solidity": 0.2
             }
            },
            "type": "histogram"
           }
          ],
          "histogram2d": [
           {
            "colorbar": {
             "outlinewidth": 0,
             "ticks": ""
            },
            "colorscale": [
             [
              0,
              "#0d0887"
             ],
             [
              0.1111111111111111,
              "#46039f"
             ],
             [
              0.2222222222222222,
              "#7201a8"
             ],
             [
              0.3333333333333333,
              "#9c179e"
             ],
             [
              0.4444444444444444,
              "#bd3786"
             ],
             [
              0.5555555555555556,
              "#d8576b"
             ],
             [
              0.6666666666666666,
              "#ed7953"
             ],
             [
              0.7777777777777778,
              "#fb9f3a"
             ],
             [
              0.8888888888888888,
              "#fdca26"
             ],
             [
              1,
              "#f0f921"
             ]
            ],
            "type": "histogram2d"
           }
          ],
          "histogram2dcontour": [
           {
            "colorbar": {
             "outlinewidth": 0,
             "ticks": ""
            },
            "colorscale": [
             [
              0,
              "#0d0887"
             ],
             [
              0.1111111111111111,
              "#46039f"
             ],
             [
              0.2222222222222222,
              "#7201a8"
             ],
             [
              0.3333333333333333,
              "#9c179e"
             ],
             [
              0.4444444444444444,
              "#bd3786"
             ],
             [
              0.5555555555555556,
              "#d8576b"
             ],
             [
              0.6666666666666666,
              "#ed7953"
             ],
             [
              0.7777777777777778,
              "#fb9f3a"
             ],
             [
              0.8888888888888888,
              "#fdca26"
             ],
             [
              1,
              "#f0f921"
             ]
            ],
            "type": "histogram2dcontour"
           }
          ],
          "mesh3d": [
           {
            "colorbar": {
             "outlinewidth": 0,
             "ticks": ""
            },
            "type": "mesh3d"
           }
          ],
          "parcoords": [
           {
            "line": {
             "colorbar": {
              "outlinewidth": 0,
              "ticks": ""
             }
            },
            "type": "parcoords"
           }
          ],
          "pie": [
           {
            "automargin": true,
            "type": "pie"
           }
          ],
          "scatter": [
           {
            "fillpattern": {
             "fillmode": "overlay",
             "size": 10,
             "solidity": 0.2
            },
            "type": "scatter"
           }
          ],
          "scatter3d": [
           {
            "line": {
             "colorbar": {
              "outlinewidth": 0,
              "ticks": ""
             }
            },
            "marker": {
             "colorbar": {
              "outlinewidth": 0,
              "ticks": ""
             }
            },
            "type": "scatter3d"
           }
          ],
          "scattercarpet": [
           {
            "marker": {
             "colorbar": {
              "outlinewidth": 0,
              "ticks": ""
             }
            },
            "type": "scattercarpet"
           }
          ],
          "scattergeo": [
           {
            "marker": {
             "colorbar": {
              "outlinewidth": 0,
              "ticks": ""
             }
            },
            "type": "scattergeo"
           }
          ],
          "scattergl": [
           {
            "marker": {
             "colorbar": {
              "outlinewidth": 0,
              "ticks": ""
             }
            },
            "type": "scattergl"
           }
          ],
          "scattermapbox": [
           {
            "marker": {
             "colorbar": {
              "outlinewidth": 0,
              "ticks": ""
             }
            },
            "type": "scattermapbox"
           }
          ],
          "scatterpolar": [
           {
            "marker": {
             "colorbar": {
              "outlinewidth": 0,
              "ticks": ""
             }
            },
            "type": "scatterpolar"
           }
          ],
          "scatterpolargl": [
           {
            "marker": {
             "colorbar": {
              "outlinewidth": 0,
              "ticks": ""
             }
            },
            "type": "scatterpolargl"
           }
          ],
          "scatterternary": [
           {
            "marker": {
             "colorbar": {
              "outlinewidth": 0,
              "ticks": ""
             }
            },
            "type": "scatterternary"
           }
          ],
          "surface": [
           {
            "colorbar": {
             "outlinewidth": 0,
             "ticks": ""
            },
            "colorscale": [
             [
              0,
              "#0d0887"
             ],
             [
              0.1111111111111111,
              "#46039f"
             ],
             [
              0.2222222222222222,
              "#7201a8"
             ],
             [
              0.3333333333333333,
              "#9c179e"
             ],
             [
              0.4444444444444444,
              "#bd3786"
             ],
             [
              0.5555555555555556,
              "#d8576b"
             ],
             [
              0.6666666666666666,
              "#ed7953"
             ],
             [
              0.7777777777777778,
              "#fb9f3a"
             ],
             [
              0.8888888888888888,
              "#fdca26"
             ],
             [
              1,
              "#f0f921"
             ]
            ],
            "type": "surface"
           }
          ],
          "table": [
           {
            "cells": {
             "fill": {
              "color": "#EBF0F8"
             },
             "line": {
              "color": "white"
             }
            },
            "header": {
             "fill": {
              "color": "#C8D4E3"
             },
             "line": {
              "color": "white"
             }
            },
            "type": "table"
           }
          ]
         },
         "layout": {
          "annotationdefaults": {
           "arrowcolor": "#2a3f5f",
           "arrowhead": 0,
           "arrowwidth": 1
          },
          "autotypenumbers": "strict",
          "coloraxis": {
           "colorbar": {
            "outlinewidth": 0,
            "ticks": ""
           }
          },
          "colorscale": {
           "diverging": [
            [
             0,
             "#8e0152"
            ],
            [
             0.1,
             "#c51b7d"
            ],
            [
             0.2,
             "#de77ae"
            ],
            [
             0.3,
             "#f1b6da"
            ],
            [
             0.4,
             "#fde0ef"
            ],
            [
             0.5,
             "#f7f7f7"
            ],
            [
             0.6,
             "#e6f5d0"
            ],
            [
             0.7,
             "#b8e186"
            ],
            [
             0.8,
             "#7fbc41"
            ],
            [
             0.9,
             "#4d9221"
            ],
            [
             1,
             "#276419"
            ]
           ],
           "sequential": [
            [
             0,
             "#0d0887"
            ],
            [
             0.1111111111111111,
             "#46039f"
            ],
            [
             0.2222222222222222,
             "#7201a8"
            ],
            [
             0.3333333333333333,
             "#9c179e"
            ],
            [
             0.4444444444444444,
             "#bd3786"
            ],
            [
             0.5555555555555556,
             "#d8576b"
            ],
            [
             0.6666666666666666,
             "#ed7953"
            ],
            [
             0.7777777777777778,
             "#fb9f3a"
            ],
            [
             0.8888888888888888,
             "#fdca26"
            ],
            [
             1,
             "#f0f921"
            ]
           ],
           "sequentialminus": [
            [
             0,
             "#0d0887"
            ],
            [
             0.1111111111111111,
             "#46039f"
            ],
            [
             0.2222222222222222,
             "#7201a8"
            ],
            [
             0.3333333333333333,
             "#9c179e"
            ],
            [
             0.4444444444444444,
             "#bd3786"
            ],
            [
             0.5555555555555556,
             "#d8576b"
            ],
            [
             0.6666666666666666,
             "#ed7953"
            ],
            [
             0.7777777777777778,
             "#fb9f3a"
            ],
            [
             0.8888888888888888,
             "#fdca26"
            ],
            [
             1,
             "#f0f921"
            ]
           ]
          },
          "colorway": [
           "#636efa",
           "#EF553B",
           "#00cc96",
           "#ab63fa",
           "#FFA15A",
           "#19d3f3",
           "#FF6692",
           "#B6E880",
           "#FF97FF",
           "#FECB52"
          ],
          "font": {
           "color": "#2a3f5f"
          },
          "geo": {
           "bgcolor": "white",
           "lakecolor": "white",
           "landcolor": "white",
           "showlakes": true,
           "showland": true,
           "subunitcolor": "#C8D4E3"
          },
          "hoverlabel": {
           "align": "left"
          },
          "hovermode": "closest",
          "mapbox": {
           "style": "light"
          },
          "paper_bgcolor": "white",
          "plot_bgcolor": "white",
          "polar": {
           "angularaxis": {
            "gridcolor": "#EBF0F8",
            "linecolor": "#EBF0F8",
            "ticks": ""
           },
           "bgcolor": "white",
           "radialaxis": {
            "gridcolor": "#EBF0F8",
            "linecolor": "#EBF0F8",
            "ticks": ""
           }
          },
          "scene": {
           "xaxis": {
            "backgroundcolor": "white",
            "gridcolor": "#DFE8F3",
            "gridwidth": 2,
            "linecolor": "#EBF0F8",
            "showbackground": true,
            "ticks": "",
            "zerolinecolor": "#EBF0F8"
           },
           "yaxis": {
            "backgroundcolor": "white",
            "gridcolor": "#DFE8F3",
            "gridwidth": 2,
            "linecolor": "#EBF0F8",
            "showbackground": true,
            "ticks": "",
            "zerolinecolor": "#EBF0F8"
           },
           "zaxis": {
            "backgroundcolor": "white",
            "gridcolor": "#DFE8F3",
            "gridwidth": 2,
            "linecolor": "#EBF0F8",
            "showbackground": true,
            "ticks": "",
            "zerolinecolor": "#EBF0F8"
           }
          },
          "shapedefaults": {
           "line": {
            "color": "#2a3f5f"
           }
          },
          "ternary": {
           "aaxis": {
            "gridcolor": "#DFE8F3",
            "linecolor": "#A2B1C6",
            "ticks": ""
           },
           "baxis": {
            "gridcolor": "#DFE8F3",
            "linecolor": "#A2B1C6",
            "ticks": ""
           },
           "bgcolor": "white",
           "caxis": {
            "gridcolor": "#DFE8F3",
            "linecolor": "#A2B1C6",
            "ticks": ""
           }
          },
          "title": {
           "x": 0.05
          },
          "xaxis": {
           "automargin": true,
           "gridcolor": "#EBF0F8",
           "linecolor": "#EBF0F8",
           "ticks": "",
           "title": {
            "standoff": 15
           },
           "zerolinecolor": "#EBF0F8",
           "zerolinewidth": 2
          },
          "yaxis": {
           "automargin": true,
           "gridcolor": "#EBF0F8",
           "linecolor": "#EBF0F8",
           "ticks": "",
           "title": {
            "standoff": 15
           },
           "zerolinecolor": "#EBF0F8",
           "zerolinewidth": 2
          }
         }
        },
        "title": {
         "font": {
          "color": "Black",
          "size": 22
         },
         "text": "Topic Word Scores",
         "x": 0.5,
         "xanchor": "center",
         "yanchor": "top"
        },
        "width": 1000,
        "xaxis": {
         "anchor": "y",
         "domain": [
          0,
          0.175
         ],
         "showgrid": true
        },
        "xaxis10": {
         "anchor": "y10",
         "domain": [
          0.275,
          0.45
         ],
         "showgrid": true
        },
        "xaxis11": {
         "anchor": "y11",
         "domain": [
          0.55,
          0.7250000000000001
         ],
         "showgrid": true
        },
        "xaxis12": {
         "anchor": "y12",
         "domain": [
          0.825,
          1
         ],
         "showgrid": true
        },
        "xaxis2": {
         "anchor": "y2",
         "domain": [
          0.275,
          0.45
         ],
         "showgrid": true
        },
        "xaxis3": {
         "anchor": "y3",
         "domain": [
          0.55,
          0.7250000000000001
         ],
         "showgrid": true
        },
        "xaxis4": {
         "anchor": "y4",
         "domain": [
          0.825,
          1
         ],
         "showgrid": true
        },
        "xaxis5": {
         "anchor": "y5",
         "domain": [
          0,
          0.175
         ],
         "showgrid": true
        },
        "xaxis6": {
         "anchor": "y6",
         "domain": [
          0.275,
          0.45
         ],
         "showgrid": true
        },
        "xaxis7": {
         "anchor": "y7",
         "domain": [
          0.55,
          0.7250000000000001
         ],
         "showgrid": true
        },
        "xaxis8": {
         "anchor": "y8",
         "domain": [
          0.825,
          1
         ],
         "showgrid": true
        },
        "xaxis9": {
         "anchor": "y9",
         "domain": [
          0,
          0.175
         ],
         "showgrid": true
        },
        "yaxis": {
         "anchor": "x",
         "domain": [
          0.7555555555555555,
          1
         ],
         "showgrid": true
        },
        "yaxis10": {
         "anchor": "x10",
         "domain": [
          0,
          0.24444444444444446
         ],
         "showgrid": true
        },
        "yaxis11": {
         "anchor": "x11",
         "domain": [
          0,
          0.24444444444444446
         ],
         "showgrid": true
        },
        "yaxis12": {
         "anchor": "x12",
         "domain": [
          0,
          0.24444444444444446
         ],
         "showgrid": true
        },
        "yaxis2": {
         "anchor": "x2",
         "domain": [
          0.7555555555555555,
          1
         ],
         "showgrid": true
        },
        "yaxis3": {
         "anchor": "x3",
         "domain": [
          0.7555555555555555,
          1
         ],
         "showgrid": true
        },
        "yaxis4": {
         "anchor": "x4",
         "domain": [
          0.7555555555555555,
          1
         ],
         "showgrid": true
        },
        "yaxis5": {
         "anchor": "x5",
         "domain": [
          0.37777777777777777,
          0.6222222222222222
         ],
         "showgrid": true
        },
        "yaxis6": {
         "anchor": "x6",
         "domain": [
          0.37777777777777777,
          0.6222222222222222
         ],
         "showgrid": true
        },
        "yaxis7": {
         "anchor": "x7",
         "domain": [
          0.37777777777777777,
          0.6222222222222222
         ],
         "showgrid": true
        },
        "yaxis8": {
         "anchor": "x8",
         "domain": [
          0.37777777777777777,
          0.6222222222222222
         ],
         "showgrid": true
        },
        "yaxis9": {
         "anchor": "x9",
         "domain": [
          0,
          0.24444444444444446
         ],
         "showgrid": true
        }
       }
      }
     },
     "metadata": {},
     "output_type": "display_data"
    }
   ],
   "source": [
    "# 부정 리뷰\n",
    "topic_model_negative.visualize_barchart(top_n_topics=10)"
   ]
  },
  {
   "cell_type": "code",
   "execution_count": 72,
   "metadata": {},
   "outputs": [
    {
     "data": {
      "application/vnd.plotly.v1+json": {
       "config": {
        "plotlyServerURL": "https://plot.ly"
       },
       "data": [
        {
         "coloraxis": "coloraxis",
         "hovertemplate": "x: %{x}<br>y: %{y}<br>Similarity Score: %{z}<extra></extra>",
         "name": "0",
         "type": "heatmap",
         "x": [
          "0_good_fun_get",
          "1_hahaha_lol_please"
         ],
         "xaxis": "x",
         "y": [
          "0_good_fun_get",
          "1_hahaha_lol_please"
         ],
         "yaxis": "y",
         "z": [
          [
           0.9999997019767761,
           0.34300824999809265
          ],
          [
           0.34300824999809265,
           1.000000238418579
          ]
         ]
        }
       ],
       "layout": {
        "coloraxis": {
         "colorbar": {
          "title": {
           "text": "Similarity Score"
          }
         },
         "colorscale": [
          [
           0,
           "rgb(247,252,240)"
          ],
          [
           0.125,
           "rgb(224,243,219)"
          ],
          [
           0.25,
           "rgb(204,235,197)"
          ],
          [
           0.375,
           "rgb(168,221,181)"
          ],
          [
           0.5,
           "rgb(123,204,196)"
          ],
          [
           0.625,
           "rgb(78,179,211)"
          ],
          [
           0.75,
           "rgb(43,140,190)"
          ],
          [
           0.875,
           "rgb(8,104,172)"
          ],
          [
           1,
           "rgb(8,64,129)"
          ]
         ]
        },
        "height": 800,
        "hoverlabel": {
         "bgcolor": "white",
         "font": {
          "family": "Rockwell",
          "size": 16
         }
        },
        "legend": {
         "title": {
          "text": "Trend"
         }
        },
        "margin": {
         "t": 60
        },
        "showlegend": true,
        "template": {
         "data": {
          "bar": [
           {
            "error_x": {
             "color": "#2a3f5f"
            },
            "error_y": {
             "color": "#2a3f5f"
            },
            "marker": {
             "line": {
              "color": "#E5ECF6",
              "width": 0.5
             },
             "pattern": {
              "fillmode": "overlay",
              "size": 10,
              "solidity": 0.2
             }
            },
            "type": "bar"
           }
          ],
          "barpolar": [
           {
            "marker": {
             "line": {
              "color": "#E5ECF6",
              "width": 0.5
             },
             "pattern": {
              "fillmode": "overlay",
              "size": 10,
              "solidity": 0.2
             }
            },
            "type": "barpolar"
           }
          ],
          "carpet": [
           {
            "aaxis": {
             "endlinecolor": "#2a3f5f",
             "gridcolor": "white",
             "linecolor": "white",
             "minorgridcolor": "white",
             "startlinecolor": "#2a3f5f"
            },
            "baxis": {
             "endlinecolor": "#2a3f5f",
             "gridcolor": "white",
             "linecolor": "white",
             "minorgridcolor": "white",
             "startlinecolor": "#2a3f5f"
            },
            "type": "carpet"
           }
          ],
          "choropleth": [
           {
            "colorbar": {
             "outlinewidth": 0,
             "ticks": ""
            },
            "type": "choropleth"
           }
          ],
          "contour": [
           {
            "colorbar": {
             "outlinewidth": 0,
             "ticks": ""
            },
            "colorscale": [
             [
              0,
              "#0d0887"
             ],
             [
              0.1111111111111111,
              "#46039f"
             ],
             [
              0.2222222222222222,
              "#7201a8"
             ],
             [
              0.3333333333333333,
              "#9c179e"
             ],
             [
              0.4444444444444444,
              "#bd3786"
             ],
             [
              0.5555555555555556,
              "#d8576b"
             ],
             [
              0.6666666666666666,
              "#ed7953"
             ],
             [
              0.7777777777777778,
              "#fb9f3a"
             ],
             [
              0.8888888888888888,
              "#fdca26"
             ],
             [
              1,
              "#f0f921"
             ]
            ],
            "type": "contour"
           }
          ],
          "contourcarpet": [
           {
            "colorbar": {
             "outlinewidth": 0,
             "ticks": ""
            },
            "type": "contourcarpet"
           }
          ],
          "heatmap": [
           {
            "colorbar": {
             "outlinewidth": 0,
             "ticks": ""
            },
            "colorscale": [
             [
              0,
              "#0d0887"
             ],
             [
              0.1111111111111111,
              "#46039f"
             ],
             [
              0.2222222222222222,
              "#7201a8"
             ],
             [
              0.3333333333333333,
              "#9c179e"
             ],
             [
              0.4444444444444444,
              "#bd3786"
             ],
             [
              0.5555555555555556,
              "#d8576b"
             ],
             [
              0.6666666666666666,
              "#ed7953"
             ],
             [
              0.7777777777777778,
              "#fb9f3a"
             ],
             [
              0.8888888888888888,
              "#fdca26"
             ],
             [
              1,
              "#f0f921"
             ]
            ],
            "type": "heatmap"
           }
          ],
          "heatmapgl": [
           {
            "colorbar": {
             "outlinewidth": 0,
             "ticks": ""
            },
            "colorscale": [
             [
              0,
              "#0d0887"
             ],
             [
              0.1111111111111111,
              "#46039f"
             ],
             [
              0.2222222222222222,
              "#7201a8"
             ],
             [
              0.3333333333333333,
              "#9c179e"
             ],
             [
              0.4444444444444444,
              "#bd3786"
             ],
             [
              0.5555555555555556,
              "#d8576b"
             ],
             [
              0.6666666666666666,
              "#ed7953"
             ],
             [
              0.7777777777777778,
              "#fb9f3a"
             ],
             [
              0.8888888888888888,
              "#fdca26"
             ],
             [
              1,
              "#f0f921"
             ]
            ],
            "type": "heatmapgl"
           }
          ],
          "histogram": [
           {
            "marker": {
             "pattern": {
              "fillmode": "overlay",
              "size": 10,
              "solidity": 0.2
             }
            },
            "type": "histogram"
           }
          ],
          "histogram2d": [
           {
            "colorbar": {
             "outlinewidth": 0,
             "ticks": ""
            },
            "colorscale": [
             [
              0,
              "#0d0887"
             ],
             [
              0.1111111111111111,
              "#46039f"
             ],
             [
              0.2222222222222222,
              "#7201a8"
             ],
             [
              0.3333333333333333,
              "#9c179e"
             ],
             [
              0.4444444444444444,
              "#bd3786"
             ],
             [
              0.5555555555555556,
              "#d8576b"
             ],
             [
              0.6666666666666666,
              "#ed7953"
             ],
             [
              0.7777777777777778,
              "#fb9f3a"
             ],
             [
              0.8888888888888888,
              "#fdca26"
             ],
             [
              1,
              "#f0f921"
             ]
            ],
            "type": "histogram2d"
           }
          ],
          "histogram2dcontour": [
           {
            "colorbar": {
             "outlinewidth": 0,
             "ticks": ""
            },
            "colorscale": [
             [
              0,
              "#0d0887"
             ],
             [
              0.1111111111111111,
              "#46039f"
             ],
             [
              0.2222222222222222,
              "#7201a8"
             ],
             [
              0.3333333333333333,
              "#9c179e"
             ],
             [
              0.4444444444444444,
              "#bd3786"
             ],
             [
              0.5555555555555556,
              "#d8576b"
             ],
             [
              0.6666666666666666,
              "#ed7953"
             ],
             [
              0.7777777777777778,
              "#fb9f3a"
             ],
             [
              0.8888888888888888,
              "#fdca26"
             ],
             [
              1,
              "#f0f921"
             ]
            ],
            "type": "histogram2dcontour"
           }
          ],
          "mesh3d": [
           {
            "colorbar": {
             "outlinewidth": 0,
             "ticks": ""
            },
            "type": "mesh3d"
           }
          ],
          "parcoords": [
           {
            "line": {
             "colorbar": {
              "outlinewidth": 0,
              "ticks": ""
             }
            },
            "type": "parcoords"
           }
          ],
          "pie": [
           {
            "automargin": true,
            "type": "pie"
           }
          ],
          "scatter": [
           {
            "fillpattern": {
             "fillmode": "overlay",
             "size": 10,
             "solidity": 0.2
            },
            "type": "scatter"
           }
          ],
          "scatter3d": [
           {
            "line": {
             "colorbar": {
              "outlinewidth": 0,
              "ticks": ""
             }
            },
            "marker": {
             "colorbar": {
              "outlinewidth": 0,
              "ticks": ""
             }
            },
            "type": "scatter3d"
           }
          ],
          "scattercarpet": [
           {
            "marker": {
             "colorbar": {
              "outlinewidth": 0,
              "ticks": ""
             }
            },
            "type": "scattercarpet"
           }
          ],
          "scattergeo": [
           {
            "marker": {
             "colorbar": {
              "outlinewidth": 0,
              "ticks": ""
             }
            },
            "type": "scattergeo"
           }
          ],
          "scattergl": [
           {
            "marker": {
             "colorbar": {
              "outlinewidth": 0,
              "ticks": ""
             }
            },
            "type": "scattergl"
           }
          ],
          "scattermapbox": [
           {
            "marker": {
             "colorbar": {
              "outlinewidth": 0,
              "ticks": ""
             }
            },
            "type": "scattermapbox"
           }
          ],
          "scatterpolar": [
           {
            "marker": {
             "colorbar": {
              "outlinewidth": 0,
              "ticks": ""
             }
            },
            "type": "scatterpolar"
           }
          ],
          "scatterpolargl": [
           {
            "marker": {
             "colorbar": {
              "outlinewidth": 0,
              "ticks": ""
             }
            },
            "type": "scatterpolargl"
           }
          ],
          "scatterternary": [
           {
            "marker": {
             "colorbar": {
              "outlinewidth": 0,
              "ticks": ""
             }
            },
            "type": "scatterternary"
           }
          ],
          "surface": [
           {
            "colorbar": {
             "outlinewidth": 0,
             "ticks": ""
            },
            "colorscale": [
             [
              0,
              "#0d0887"
             ],
             [
              0.1111111111111111,
              "#46039f"
             ],
             [
              0.2222222222222222,
              "#7201a8"
             ],
             [
              0.3333333333333333,
              "#9c179e"
             ],
             [
              0.4444444444444444,
              "#bd3786"
             ],
             [
              0.5555555555555556,
              "#d8576b"
             ],
             [
              0.6666666666666666,
              "#ed7953"
             ],
             [
              0.7777777777777778,
              "#fb9f3a"
             ],
             [
              0.8888888888888888,
              "#fdca26"
             ],
             [
              1,
              "#f0f921"
             ]
            ],
            "type": "surface"
           }
          ],
          "table": [
           {
            "cells": {
             "fill": {
              "color": "#EBF0F8"
             },
             "line": {
              "color": "white"
             }
            },
            "header": {
             "fill": {
              "color": "#C8D4E3"
             },
             "line": {
              "color": "white"
             }
            },
            "type": "table"
           }
          ]
         },
         "layout": {
          "annotationdefaults": {
           "arrowcolor": "#2a3f5f",
           "arrowhead": 0,
           "arrowwidth": 1
          },
          "autotypenumbers": "strict",
          "coloraxis": {
           "colorbar": {
            "outlinewidth": 0,
            "ticks": ""
           }
          },
          "colorscale": {
           "diverging": [
            [
             0,
             "#8e0152"
            ],
            [
             0.1,
             "#c51b7d"
            ],
            [
             0.2,
             "#de77ae"
            ],
            [
             0.3,
             "#f1b6da"
            ],
            [
             0.4,
             "#fde0ef"
            ],
            [
             0.5,
             "#f7f7f7"
            ],
            [
             0.6,
             "#e6f5d0"
            ],
            [
             0.7,
             "#b8e186"
            ],
            [
             0.8,
             "#7fbc41"
            ],
            [
             0.9,
             "#4d9221"
            ],
            [
             1,
             "#276419"
            ]
           ],
           "sequential": [
            [
             0,
             "#0d0887"
            ],
            [
             0.1111111111111111,
             "#46039f"
            ],
            [
             0.2222222222222222,
             "#7201a8"
            ],
            [
             0.3333333333333333,
             "#9c179e"
            ],
            [
             0.4444444444444444,
             "#bd3786"
            ],
            [
             0.5555555555555556,
             "#d8576b"
            ],
            [
             0.6666666666666666,
             "#ed7953"
            ],
            [
             0.7777777777777778,
             "#fb9f3a"
            ],
            [
             0.8888888888888888,
             "#fdca26"
            ],
            [
             1,
             "#f0f921"
            ]
           ],
           "sequentialminus": [
            [
             0,
             "#0d0887"
            ],
            [
             0.1111111111111111,
             "#46039f"
            ],
            [
             0.2222222222222222,
             "#7201a8"
            ],
            [
             0.3333333333333333,
             "#9c179e"
            ],
            [
             0.4444444444444444,
             "#bd3786"
            ],
            [
             0.5555555555555556,
             "#d8576b"
            ],
            [
             0.6666666666666666,
             "#ed7953"
            ],
            [
             0.7777777777777778,
             "#fb9f3a"
            ],
            [
             0.8888888888888888,
             "#fdca26"
            ],
            [
             1,
             "#f0f921"
            ]
           ]
          },
          "colorway": [
           "#636efa",
           "#EF553B",
           "#00cc96",
           "#ab63fa",
           "#FFA15A",
           "#19d3f3",
           "#FF6692",
           "#B6E880",
           "#FF97FF",
           "#FECB52"
          ],
          "font": {
           "color": "#2a3f5f"
          },
          "geo": {
           "bgcolor": "white",
           "lakecolor": "white",
           "landcolor": "#E5ECF6",
           "showlakes": true,
           "showland": true,
           "subunitcolor": "white"
          },
          "hoverlabel": {
           "align": "left"
          },
          "hovermode": "closest",
          "mapbox": {
           "style": "light"
          },
          "paper_bgcolor": "white",
          "plot_bgcolor": "#E5ECF6",
          "polar": {
           "angularaxis": {
            "gridcolor": "white",
            "linecolor": "white",
            "ticks": ""
           },
           "bgcolor": "#E5ECF6",
           "radialaxis": {
            "gridcolor": "white",
            "linecolor": "white",
            "ticks": ""
           }
          },
          "scene": {
           "xaxis": {
            "backgroundcolor": "#E5ECF6",
            "gridcolor": "white",
            "gridwidth": 2,
            "linecolor": "white",
            "showbackground": true,
            "ticks": "",
            "zerolinecolor": "white"
           },
           "yaxis": {
            "backgroundcolor": "#E5ECF6",
            "gridcolor": "white",
            "gridwidth": 2,
            "linecolor": "white",
            "showbackground": true,
            "ticks": "",
            "zerolinecolor": "white"
           },
           "zaxis": {
            "backgroundcolor": "#E5ECF6",
            "gridcolor": "white",
            "gridwidth": 2,
            "linecolor": "white",
            "showbackground": true,
            "ticks": "",
            "zerolinecolor": "white"
           }
          },
          "shapedefaults": {
           "line": {
            "color": "#2a3f5f"
           }
          },
          "ternary": {
           "aaxis": {
            "gridcolor": "white",
            "linecolor": "white",
            "ticks": ""
           },
           "baxis": {
            "gridcolor": "white",
            "linecolor": "white",
            "ticks": ""
           },
           "bgcolor": "#E5ECF6",
           "caxis": {
            "gridcolor": "white",
            "linecolor": "white",
            "ticks": ""
           }
          },
          "title": {
           "x": 0.05
          },
          "xaxis": {
           "automargin": true,
           "gridcolor": "white",
           "linecolor": "white",
           "ticks": "",
           "title": {
            "standoff": 15
           },
           "zerolinecolor": "white",
           "zerolinewidth": 2
          },
          "yaxis": {
           "automargin": true,
           "gridcolor": "white",
           "linecolor": "white",
           "ticks": "",
           "title": {
            "standoff": 15
           },
           "zerolinecolor": "white",
           "zerolinewidth": 2
          }
         }
        },
        "title": {
         "font": {
          "color": "Black",
          "size": 22
         },
         "text": "<b>Similarity Matrix</b>",
         "x": 0.55,
         "xanchor": "center",
         "y": 0.95,
         "yanchor": "top"
        },
        "width": 800,
        "xaxis": {
         "anchor": "y",
         "constrain": "domain",
         "domain": [
          0,
          1
         ],
         "scaleanchor": "y"
        },
        "yaxis": {
         "anchor": "x",
         "autorange": "reversed",
         "constrain": "domain",
         "domain": [
          0,
          1
         ]
        }
       }
      }
     },
     "metadata": {},
     "output_type": "display_data"
    }
   ],
   "source": [
    "topic_model_positive.visualize_heatmap()"
   ]
  },
  {
   "cell_type": "code",
   "execution_count": 73,
   "metadata": {},
   "outputs": [
    {
     "data": {
      "application/vnd.plotly.v1+json": {
       "config": {
        "plotlyServerURL": "https://plot.ly"
       },
       "data": [
        {
         "coloraxis": "coloraxis",
         "hovertemplate": "x: %{x}<br>y: %{y}<br>Similarity Score: %{z}<extra></extra>",
         "name": "0",
         "type": "heatmap",
         "x": [
          "0_story_boring_feel",
          "1_rate_drop_item",
          "2_nexon_greedy_nexons",
          "3_grind_grinding_part",
          "4_received_product_free",
          "5_boring_soooo_kinda",
          "6_account_support_ticket",
          "7_bad_suck_kinda",
          "8_trash_garbage_solo",
          "9_shaders_shader_loading",
          "10_season_invasion_new",
          "11_micro_transaction_microt...",
          "12_pc_crash_crashing",
          "13_skin_slot_buy",
          "14_crash_crashing_disconnect",
          "15_monetization_predatory_m...",
          "16_female_skin_character",
          "17_lag_stuttering_stutter",
          "18_bullet_sponge_gunplay",
          "19_clone_bad_worse",
          "20_data_collection_accept",
          "21_looter_shooter_bewbs",
          "22_repetitive_boring_bored",
          "23_screen_start_launch",
          "24_optimization_bad_optimized",
          "25_mission_boring_repetitive",
          "26_bunny_kill_boring",
          "27_error_connect_connection",
          "28_worse_worst_part",
          "29_version_worse_ist",
          "30_korean_slop_korea",
          "31_gooner_bait_toast",
          "32_rng_respect_bad",
          "33_weapon_character_player",
          "34_mission_failed_time",
          "35_player_devs_content",
          "36_waste_time_value",
          "37_voice_acting_english",
          "38_directx_dx_supported",
          "39_button_control_mouse",
          "40_bland_uninspired_grown",
          "41_fps_setting_rtx",
          "42_grab_cash_income",
          "43_violation_detectedgame_p...",
          "44_child_horny_infant",
          "45_power_game_dye"
         ],
         "xaxis": "x",
         "y": [
          "0_story_boring_feel",
          "1_rate_drop_item",
          "2_nexon_greedy_nexons",
          "3_grind_grinding_part",
          "4_received_product_free",
          "5_boring_soooo_kinda",
          "6_account_support_ticket",
          "7_bad_suck_kinda",
          "8_trash_garbage_solo",
          "9_shaders_shader_loading",
          "10_season_invasion_new",
          "11_micro_transaction_microt...",
          "12_pc_crash_crashing",
          "13_skin_slot_buy",
          "14_crash_crashing_disconnect",
          "15_monetization_predatory_m...",
          "16_female_skin_character",
          "17_lag_stuttering_stutter",
          "18_bullet_sponge_gunplay",
          "19_clone_bad_worse",
          "20_data_collection_accept",
          "21_looter_shooter_bewbs",
          "22_repetitive_boring_bored",
          "23_screen_start_launch",
          "24_optimization_bad_optimized",
          "25_mission_boring_repetitive",
          "26_bunny_kill_boring",
          "27_error_connect_connection",
          "28_worse_worst_part",
          "29_version_worse_ist",
          "30_korean_slop_korea",
          "31_gooner_bait_toast",
          "32_rng_respect_bad",
          "33_weapon_character_player",
          "34_mission_failed_time",
          "35_player_devs_content",
          "36_waste_time_value",
          "37_voice_acting_english",
          "38_directx_dx_supported",
          "39_button_control_mouse",
          "40_bland_uninspired_grown",
          "41_fps_setting_rtx",
          "42_grab_cash_income",
          "43_violation_detectedgame_p...",
          "44_child_horny_infant",
          "45_power_game_dye"
         ],
         "yaxis": "y",
         "z": [
          [
           1.0000001192092896,
           0.37374383211135864,
           0.49985218048095703,
           0.6847974061965942,
           0.4898238480091095,
           0.5582026243209839,
           0.39639145135879517,
           0.3749079704284668,
           0.4224436283111572,
           0.23233169317245483,
           0.5982074737548828,
           0.5176723003387451,
           0.3869207501411438,
           0.601391077041626,
           0.24758338928222656,
           0.37148725986480713,
           0.6772750616073608,
           0.2845776081085205,
           0.7713359594345093,
           0.5507646799087524,
           0.3446350693702698,
           0.8130009174346924,
           0.5852841138839722,
           0.2451307624578476,
           0.3325360417366028,
           0.7680528163909912,
           0.6317826509475708,
           0.22536586225032806,
           0.28771281242370605,
           0.5960153937339783,
           0.5496335029602051,
           0.374808669090271,
           0.4989745020866394,
           0.7645363807678223,
           0.47091662883758545,
           0.7411721348762512,
           0.491818904876709,
           0.6674048900604248,
           0.14438509941101074,
           0.5911290645599365,
           0.6344782114028931,
           0.30448025465011597,
           0.35864320397377014,
           0.6630350351333618,
           0.2320401668548584,
           0.710493803024292
          ],
          [
           0.37374383211135864,
           1,
           0.408108115196228,
           0.5342110395431519,
           0.5429720282554626,
           0.0808844193816185,
           0.5102229118347168,
           0.36300384998321533,
           0.4344389736652374,
           0.32981735467910767,
           0.4213658571243286,
           0.5196459889411926,
           0.4241747558116913,
           0.5206604599952698,
           0.3891286253929138,
           0.5044987797737122,
           0.327457070350647,
           0.40669190883636475,
           0.39868834614753723,
           0.37474173307418823,
           0.4045707583427429,
           0.48811113834381104,
           0.23460189998149872,
           0.2160819172859192,
           0.373138427734375,
           0.3249979317188263,
           0.37092113494873047,
           0.2886470556259155,
           0.24538776278495789,
           0.3967941105365753,
           0.3992490768432617,
           0.30811962485313416,
           0.44887712597846985,
           0.3704018294811249,
           0.4021833539009094,
           0.4281691908836365,
           0.4293501377105713,
           0.25375479459762573,
           0.19913643598556519,
           0.4183082580566406,
           0.21242272853851318,
           0.4058966636657715,
           0.4447605013847351,
           0.43978869915008545,
           0.22424983978271484,
           0.4237298369407654
          ],
          [
           0.49985218048095703,
           0.408108115196228,
           0.9999998807907104,
           0.5061151385307312,
           0.48129725456237793,
           0.36251839995384216,
           0.5317035913467407,
           0.34813207387924194,
           0.3887385129928589,
           0.17951446771621704,
           0.43762779235839844,
           0.5599068403244019,
           0.2552516460418701,
           0.5403881072998047,
           0.22711849212646484,
           0.5839764475822449,
           0.48387324810028076,
           0.1858920454978943,
           0.45576512813568115,
           0.4503825306892395,
           0.4255017340183258,
           0.4419856071472168,
           0.38915687799453735,
           0.1504719853401184,
           0.30774763226509094,
           0.4551730751991272,
           0.39500027894973755,
           0.13401959836483002,
           0.2887226343154907,
           0.4517335295677185,
           0.4839283525943756,
           0.3837982416152954,
           0.5073379278182983,
           0.37235915660858154,
           0.28966718912124634,
           0.45173734426498413,
           0.3610568046569824,
           0.3505745530128479,
           0.17610564827919006,
           0.3408171236515045,
           0.39795297384262085,
           0.15086205303668976,
           0.4918662905693054,
           0.5653042197227478,
           0.26492106914520264,
           0.3793536424636841
          ],
          [
           0.6847974061965942,
           0.5342110395431519,
           0.5061151385307312,
           0.9999999403953552,
           0.5835533738136292,
           0.43454980850219727,
           0.4928470551967621,
           0.3837675154209137,
           0.410172700881958,
           0.3240393102169037,
           0.6309065818786621,
           0.5492105484008789,
           0.4035647511482239,
           0.6975758075714111,
           0.26783064007759094,
           0.5015758275985718,
           0.4955974519252777,
           0.30857348442077637,
           0.6193451881408691,
           0.5018630027770996,
           0.3592434525489807,
           0.6337152719497681,
           0.5046151876449585,
           0.2694401144981384,
           0.37439554929733276,
           0.7362009286880493,
           0.5620027780532837,
           0.2643740475177765,
           0.2568392753601074,
           0.46448734402656555,
           0.5022169947624207,
           0.32525211572647095,
           0.6232485175132751,
           0.6251078844070435,
           0.5197755098342896,
           0.6782358288764954,
           0.5446562767028809,
           0.3850253224372864,
           0.1465621441602707,
           0.5462526082992554,
           0.41455602645874023,
           0.28946036100387573,
           0.44622179865837097,
           0.5605775117874146,
           0.2518883943557739,
           0.5957062244415283
          ],
          [
           0.4898238480091095,
           0.5429720282554626,
           0.48129725456237793,
           0.5835533738136292,
           1,
           0.22227568924427032,
           0.6502525210380554,
           0.31400707364082336,
           0.37835508584976196,
           0.3186241090297699,
           0.46537521481513977,
           0.6002519130706787,
           0.4221455454826355,
           0.7086041569709778,
           0.2874505817890167,
           0.5966634750366211,
           0.4506652057170868,
           0.24407893419265747,
           0.4219987392425537,
           0.43015044927597046,
           0.5856291651725769,
           0.49677222967147827,
           0.286410927772522,
           0.2850760817527771,
           0.35182109475135803,
           0.4430009126663208,
           0.40789249539375305,
           0.2887071967124939,
           0.19275565445423126,
           0.3983711004257202,
           0.39507922530174255,
           0.32458820939064026,
           0.42539381980895996,
           0.39775633811950684,
           0.3946065902709961,
           0.5218225717544556,
           0.4264213740825653,
           0.29365721344947815,
           0.229760080575943,
           0.49960529804229736,
           0.2759166359901428,
           0.2712123394012451,
           0.5072975754737854,
           0.6556849479675293,
           0.1801755428314209,
           0.5625374913215637
          ],
          [
           0.5582026243209839,
           0.0808844193816185,
           0.36251839995384216,
           0.43454980850219727,
           0.22227568924427032,
           1.000000238418579,
           0.13293549418449402,
           0.49626538157463074,
           0.37299829721450806,
           0.0613815076649189,
           0.4130523204803467,
           0.303731232881546,
           0.042349621653556824,
           0.26345035433769226,
           0.036709822714328766,
           0.20036539435386658,
           0.4086593985557556,
           0.19811829924583435,
           0.4948705732822418,
           0.36618727445602417,
           0.09245523810386658,
           0.3681749105453491,
           0.7460090517997742,
           0.050318606197834015,
           0.2696307897567749,
           0.5504782199859619,
           0.37668925523757935,
           0.1284114420413971,
           0.3924315273761749,
           0.40638110041618347,
           0.39338552951812744,
           0.3488777279853821,
           0.36252349615097046,
           0.32958662509918213,
           0.21827006340026855,
           0.3924460709095001,
           0.5143750309944153,
           0.3991130590438843,
           -0.016865815967321396,
           0.21153989434242249,
           0.7155815362930298,
           0.09321125596761703,
           0.2380850613117218,
           0.25051364302635193,
           0.2460453063249588,
           0.2647726535797119
          ],
          [
           0.39639145135879517,
           0.5102229118347168,
           0.5317035913467407,
           0.4928470551967621,
           0.6502525210380554,
           0.13293549418449402,
           1.0000001192092896,
           0.2839089632034302,
           0.34400972723960876,
           0.3939061760902405,
           0.4784858226776123,
           0.519657552242279,
           0.5573221445083618,
           0.5687477588653564,
           0.443530797958374,
           0.4754630923271179,
           0.3891574740409851,
           0.35928696393966675,
           0.3430297076702118,
           0.3923633098602295,
           0.6559380292892456,
           0.3980637788772583,
           0.24685603380203247,
           0.47219330072402954,
           0.2625635266304016,
           0.3200441002845764,
           0.38881295919418335,
           0.5686295032501221,
           0.18989092111587524,
           0.34207165241241455,
           0.36287468671798706,
           0.1911490559577942,
           0.40990760922431946,
           0.32272911071777344,
           0.5167180299758911,
           0.5483390092849731,
           0.38802409172058105,
           0.2104531228542328,
           0.39617711305618286,
           0.5416774749755859,
           0.22410078346729279,
           0.3105286955833435,
           0.4417738914489746,
           0.6330450773239136,
           0.2212190330028534,
           0.48966026306152344
          ],
          [
           0.3749079704284668,
           0.36300384998321533,
           0.34813207387924194,
           0.3837675154209137,
           0.31400707364082336,
           0.49626538157463074,
           0.2839089632034302,
           1.0000001192092896,
           0.46542561054229736,
           0.19806703925132751,
           0.43300485610961914,
           0.3347002863883972,
           0.2609805762767792,
           0.28634196519851685,
           0.2709270417690277,
           0.31101444363594055,
           0.40109577775001526,
           0.29800844192504883,
           0.4017924666404724,
           0.4488980770111084,
           0.19510743021965027,
           0.33706432580947876,
           0.4372285008430481,
           0.18185262382030487,
           0.3512480854988098,
           0.3176829218864441,
           0.35588183999061584,
           0.20200593769550323,
           0.723719596862793,
           0.5851831436157227,
           0.40951067209243774,
           0.431454062461853,
           0.3619306683540344,
           0.23172838985919952,
           0.28687381744384766,
           0.3632385730743408,
           0.459514319896698,
           0.38240596652030945,
           0.13924764096736908,
           0.308719277381897,
           0.450196236371994,
           0.2986482083797455,
           0.3381378650665283,
           0.2955506443977356,
           0.4738990068435669,
           0.30249667167663574
          ],
          [
           0.4224436283111572,
           0.4344389736652374,
           0.3887385129928589,
           0.410172700881958,
           0.37835508584976196,
           0.37299829721450806,
           0.34400972723960876,
           0.46542561054229736,
           1.000000238418579,
           0.2184707224369049,
           0.37964534759521484,
           0.46784746646881104,
           0.3009949326515198,
           0.3551788330078125,
           0.3642890751361847,
           0.37599730491638184,
           0.41305291652679443,
           0.274406373500824,
           0.4391927719116211,
           0.47805535793304443,
           0.30511999130249023,
           0.4177324175834656,
           0.41884660720825195,
           0.20286568999290466,
           0.26351696252822876,
           0.3479037880897522,
           0.36092624068260193,
           0.20766213536262512,
           0.3645985722541809,
           0.458261102437973,
           0.4234553873538971,
           0.37900853157043457,
           0.3121306300163269,
           0.2935703992843628,
           0.27995842695236206,
           0.39586907625198364,
           0.470069944858551,
           0.33423545956611633,
           0.11936589330434799,
           0.26192769408226013,
           0.4212157726287842,
           0.27196890115737915,
           0.4213440418243408,
           0.3797335624694824,
           0.31145888566970825,
           0.3227425813674927
          ],
          [
           0.23233169317245483,
           0.32981735467910767,
           0.17951446771621704,
           0.3240393102169037,
           0.3186241090297699,
           0.0613815076649189,
           0.3939061760902405,
           0.19806703925132751,
           0.2184707224369049,
           1.0000001192092896,
           0.3581652045249939,
           0.1878003180027008,
           0.6853998899459839,
           0.303619921207428,
           0.6031335592269897,
           0.17236796021461487,
           0.3007591962814331,
           0.41965025663375854,
           0.188032329082489,
           0.29036015272140503,
           0.2879297137260437,
           0.23505799472332,
           0.15625613927841187,
           0.579993486404419,
           0.4000316858291626,
           0.2499755471944809,
           0.24240371584892273,
           0.4059140086174011,
           0.17041008174419403,
           0.3056855797767639,
           0.1642187535762787,
           0.19383478164672852,
           0.26607027649879456,
           0.16839173436164856,
           0.45047086477279663,
           0.3972570300102234,
           0.20841889083385468,
           0.13579651713371277,
           0.49883976578712463,
           0.48451220989227295,
           0.16737863421440125,
           0.4611746072769165,
           0.13739043474197388,
           0.2686574161052704,
           0.13408732414245605,
           0.38571131229400635
          ],
          [
           0.5982074737548828,
           0.4213658571243286,
           0.43762779235839844,
           0.6309065818786621,
           0.46537521481513977,
           0.4130523204803467,
           0.4784858226776123,
           0.43300485610961914,
           0.37964534759521484,
           0.3581652045249939,
           1.0000001192092896,
           0.4004831910133362,
           0.41378849744796753,
           0.43907618522644043,
           0.3600623607635498,
           0.33637964725494385,
           0.4651344418525696,
           0.30069196224212646,
           0.5062674283981323,
           0.498384952545166,
           0.36344456672668457,
           0.4937686026096344,
           0.4915526509284973,
           0.3253529369831085,
           0.3393736481666565,
           0.6338232755661011,
           0.546748697757721,
           0.3035169243812561,
           0.36799049377441406,
           0.5876094102859497,
           0.40736061334609985,
           0.2831829786300659,
           0.4991081953048706,
           0.4961870312690735,
           0.5640192627906799,
           0.6667802333831787,
           0.41964736580848694,
           0.4093952178955078,
           0.27218571305274963,
           0.5287207961082458,
           0.4670991897583008,
           0.26952141523361206,
           0.302890419960022,
           0.4636750817298889,
           0.24829724431037903,
           0.4810114800930023
          ],
          [
           0.5176723003387451,
           0.5196459889411926,
           0.5599068403244019,
           0.5492105484008789,
           0.6002519130706787,
           0.303731232881546,
           0.519657552242279,
           0.3347002863883972,
           0.46784746646881104,
           0.1878003180027008,
           0.4004831910133362,
           1.0000001192092896,
           0.32591933012008667,
           0.6723796129226685,
           0.2612750232219696,
           0.6792821884155273,
           0.4894009232521057,
           0.25154027342796326,
           0.47346121072769165,
           0.452231764793396,
           0.5433021783828735,
           0.5097700357437134,
           0.3837577700614929,
           0.15944726765155792,
           0.3179249167442322,
           0.4475058615207672,
           0.35450735688209534,
           0.1990385204553604,
           0.24230530858039856,
           0.4255695343017578,
           0.45905014872550964,
           0.396812379360199,
           0.4118783473968506,
           0.40688109397888184,
           0.3134199380874634,
           0.4491546154022217,
           0.3850908875465393,
           0.35202401876449585,
           0.1445150077342987,
           0.41435807943344116,
           0.34035059809684753,
           0.18522821366786957,
           0.6229317784309387,
           0.6719067096710205,
           0.17867770791053772,
           0.5071518421173096
          ],
          [
           0.3869207501411438,
           0.4241747558116913,
           0.2552516460418701,
           0.4035647511482239,
           0.4221455454826355,
           0.042349621653556824,
           0.5573221445083618,
           0.2609805762767792,
           0.3009949326515198,
           0.6853998899459839,
           0.41378849744796753,
           0.32591933012008667,
           0.9999998807907104,
           0.41237711906433105,
           0.800746500492096,
           0.27243274450302124,
           0.31481507420539856,
           0.5863986015319824,
           0.31987059116363525,
           0.3781973421573639,
           0.4047054052352905,
           0.3669464588165283,
           0.2084352821111679,
           0.6613638401031494,
           0.4831694960594177,
           0.29545679688453674,
           0.3361724019050598,
           0.4932408630847931,
           0.19831332564353943,
           0.363187313079834,
           0.2386016696691513,
           0.11963311582803726,
           0.34001433849334717,
           0.3082156181335449,
           0.5364747047424316,
           0.5608364343643188,
           0.27916938066482544,
           0.23890486359596252,
           0.5829538106918335,
           0.6812959909439087,
           0.18756377696990967,
           0.614479660987854,
           0.21886324882507324,
           0.4826953709125519,
           0.14428818225860596,
           0.6512326598167419
          ],
          [
           0.601391077041626,
           0.5206604599952698,
           0.5403881072998047,
           0.6975758075714111,
           0.7086041569709778,
           0.26345035433769226,
           0.5687477588653564,
           0.28634196519851685,
           0.3551788330078125,
           0.303619921207428,
           0.43907618522644043,
           0.6723796129226685,
           0.41237711906433105,
           1,
           0.23543062806129456,
           0.6828255653381348,
           0.5932865142822266,
           0.2612300515174866,
           0.5135667324066162,
           0.4619492292404175,
           0.5455395579338074,
           0.6162683963775635,
           0.316738486289978,
           0.21089696884155273,
           0.3539087176322937,
           0.5114280581474304,
           0.509288489818573,
           0.2367820143699646,
           0.17614814639091492,
           0.3870031237602234,
           0.4706440567970276,
           0.33262768387794495,
           0.46748536825180054,
           0.5141311883926392,
           0.3369334936141968,
           0.5721111297607422,
           0.4329991936683655,
           0.2914395332336426,
           0.1729952096939087,
           0.5619221925735474,
           0.28178632259368896,
           0.2667675018310547,
           0.6070096492767334,
           0.7162174582481384,
           0.21619436144828796,
           0.6838691234588623
          ],
          [
           0.24758338928222656,
           0.3891286253929138,
           0.22711849212646484,
           0.26783064007759094,
           0.2874505817890167,
           0.036709822714328766,
           0.443530797958374,
           0.2709270417690277,
           0.3642890751361847,
           0.6031335592269897,
           0.3600623607635498,
           0.2612750232219696,
           0.800746500492096,
           0.23543062806129456,
           1,
           0.23691517114639282,
           0.18300113081932068,
           0.45331689715385437,
           0.2105596363544464,
           0.3163270652294159,
           0.27247166633605957,
           0.22322478890419006,
           0.24776318669319153,
           0.6086567044258118,
           0.4015612006187439,
           0.2202252894639969,
           0.2650362551212311,
           0.47128602862358093,
           0.21978223323822021,
           0.31378456950187683,
           0.21946972608566284,
           0.14121857285499573,
           0.29481521248817444,
           0.15957781672477722,
           0.4886974096298218,
           0.38140541315078735,
           0.2162328064441681,
           0.18680596351623535,
           0.4856661558151245,
           0.42488065361976624,
           0.160392627120018,
           0.38772454857826233,
           0.27472078800201416,
           0.28198879957199097,
           0.1934511363506317,
           0.3348032236099243
          ],
          [
           0.37148725986480713,
           0.5044987797737122,
           0.5839764475822449,
           0.5015758275985718,
           0.5966634750366211,
           0.20036539435386658,
           0.4754630923271179,
           0.31101444363594055,
           0.37599730491638184,
           0.17236796021461487,
           0.33637964725494385,
           0.6792821884155273,
           0.27243274450302124,
           0.6828255653381348,
           0.23691517114639282,
           1,
           0.3975176215171814,
           0.18957579135894775,
           0.29945439100265503,
           0.47504258155822754,
           0.5332756042480469,
           0.4377703070640564,
           0.2529718279838562,
           0.15978550910949707,
           0.381547212600708,
           0.3492601215839386,
           0.2723351716995239,
           0.11369591951370239,
           0.3026176691055298,
           0.4091861844062805,
           0.41220444440841675,
           0.312546044588089,
           0.34655022621154785,
           0.31273847818374634,
           0.21810483932495117,
           0.37607651948928833,
           0.36116206645965576,
           0.23171627521514893,
           0.09080464392900467,
           0.29266032576560974,
           0.21944832801818848,
           0.16725482046604156,
           0.6603115797042847,
           0.6302220821380615,
           0.22528035938739777,
           0.4336196780204773
          ],
          [
           0.6772750616073608,
           0.327457070350647,
           0.48387324810028076,
           0.4955974519252777,
           0.4506652057170868,
           0.4086593985557556,
           0.3891574740409851,
           0.40109577775001526,
           0.41305291652679443,
           0.3007591962814331,
           0.4651344418525696,
           0.4894009232521057,
           0.31481507420539856,
           0.5932865142822266,
           0.18300113081932068,
           0.3975176215171814,
           1.000000238418579,
           0.23780138790607452,
           0.5280553102493286,
           0.473626971244812,
           0.4100276231765747,
           0.617047131061554,
           0.40169426798820496,
           0.19733236730098724,
           0.31507977843284607,
           0.4748828411102295,
           0.5674140453338623,
           0.20979398488998413,
           0.35714584589004517,
           0.5521332025527954,
           0.5471922159194946,
           0.4718043804168701,
           0.3587557077407837,
           0.5442797541618347,
           0.2935946583747864,
           0.5567242503166199,
           0.39136558771133423,
           0.4969143271446228,
           0.14679938554763794,
           0.45832177996635437,
           0.5218271017074585,
           0.25919464230537415,
           0.33968132734298706,
           0.5587424039840698,
           0.36516180634498596,
           0.5551475286483765
          ],
          [
           0.2845776081085205,
           0.40669190883636475,
           0.1858920454978943,
           0.30857348442077637,
           0.24407893419265747,
           0.19811829924583435,
           0.35928696393966675,
           0.29800844192504883,
           0.274406373500824,
           0.41965025663375854,
           0.30069196224212646,
           0.25154027342796326,
           0.5863986015319824,
           0.2612300515174866,
           0.45331689715385437,
           0.18957579135894775,
           0.23780138790607452,
           1.000000238418579,
           0.3745451867580414,
           0.316891074180603,
           0.21826502680778503,
           0.3124982714653015,
           0.3111410439014435,
           0.38016563653945923,
           0.4542500078678131,
           0.2164277732372284,
           0.2951192259788513,
           0.43188202381134033,
           0.23775029182434082,
           0.356295108795166,
           0.3075888454914093,
           0.2327684760093689,
           0.35907432436943054,
           0.1961379051208496,
           0.517055869102478,
           0.44944414496421814,
           0.29591232538223267,
           0.3163691759109497,
           0.3627621531486511,
           0.5603572130203247,
           0.23693735897541046,
           0.7102201581001282,
           0.18825459480285645,
           0.29271265864372253,
           0.1946750283241272,
           0.40139710903167725
          ],
          [
           0.7713359594345093,
           0.39868834614753723,
           0.45576512813568115,
           0.6193451881408691,
           0.4219987392425537,
           0.4948705732822418,
           0.3430297076702118,
           0.4017924666404724,
           0.4391927719116211,
           0.188032329082489,
           0.5062674283981323,
           0.47346121072769165,
           0.31987059116363525,
           0.5135667324066162,
           0.2105596363544464,
           0.29945439100265503,
           0.5280553102493286,
           0.3745451867580414,
           1.0000001192092896,
           0.5122820138931274,
           0.28234797716140747,
           0.7852195501327515,
           0.5208063125610352,
           0.20149973034858704,
           0.3723594546318054,
           0.6293878555297852,
           0.5931676626205444,
           0.23685689270496368,
           0.3452138900756836,
           0.5721570253372192,
           0.480646014213562,
           0.40566909313201904,
           0.5065698027610779,
           0.5348033308982849,
           0.4388870894908905,
           0.610770583152771,
           0.4435984492301941,
           0.4861937165260315,
           0.14393587410449982,
           0.5318187475204468,
           0.5229490995407104,
           0.4047973155975342,
           0.29995042085647583,
           0.49794650077819824,
           0.23271363973617554,
           0.5410588979721069
          ],
          [
           0.5507646799087524,
           0.37474173307418823,
           0.4503825306892395,
           0.5018630027770996,
           0.43015044927597046,
           0.36618727445602417,
           0.3923633098602295,
           0.4488980770111084,
           0.47805535793304443,
           0.29036015272140503,
           0.498384952545166,
           0.452231764793396,
           0.3781973421573639,
           0.4619492292404175,
           0.3163270652294159,
           0.47504258155822754,
           0.473626971244812,
           0.316891074180603,
           0.5122820138931274,
           0.9999998211860657,
           0.3745787739753723,
           0.542907178401947,
           0.45924127101898193,
           0.2780417799949646,
           0.3638923168182373,
           0.5127544403076172,
           0.44427067041397095,
           0.18718910217285156,
           0.3688902258872986,
           0.6008210182189941,
           0.4196385145187378,
           0.30517637729644775,
           0.4671996235847473,
           0.42745649814605713,
           0.3812636733055115,
           0.5542510151863098,
           0.4241708517074585,
           0.4414828419685364,
           0.20571312308311462,
           0.4925057888031006,
           0.3763968348503113,
           0.3012728691101074,
           0.3440343141555786,
           0.4669167995452881,
           0.2811914384365082,
           0.48403969407081604
          ],
          [
           0.3446350693702698,
           0.4045707583427429,
           0.4255017340183258,
           0.3592434525489807,
           0.5856291651725769,
           0.09245523810386658,
           0.6559380292892456,
           0.19510743021965027,
           0.30511999130249023,
           0.2879297137260437,
           0.36344456672668457,
           0.5433021783828735,
           0.4047054052352905,
           0.5455395579338074,
           0.27247166633605957,
           0.5332756042480469,
           0.4100276231765747,
           0.21826502680778503,
           0.28234797716140747,
           0.3745787739753723,
           1.0000001192092896,
           0.35893484950065613,
           0.18107041716575623,
           0.26867160201072693,
           0.2602910101413727,
           0.23580357432365417,
           0.2980566918849945,
           0.31597772240638733,
           0.1262819617986679,
           0.27214518189430237,
           0.3417457640171051,
           0.19772322475910187,
           0.2918095886707306,
           0.3162219524383545,
           0.28918981552124023,
           0.4491836428642273,
           0.2729749083518982,
           0.19178856909275055,
           0.26810985803604126,
           0.47105681896209717,
           0.12133567035198212,
           0.21552199125289917,
           0.4110381603240967,
           0.6972036361694336,
           0.10315892845392227,
           0.5070266723632812
          ],
          [
           0.8130009174346924,
           0.48811113834381104,
           0.4419856071472168,
           0.6337152719497681,
           0.49677222967147827,
           0.3681749105453491,
           0.3980637788772583,
           0.33706432580947876,
           0.4177324175834656,
           0.23505799472332,
           0.4937686026096344,
           0.5097700357437134,
           0.3669464588165283,
           0.6162683963775635,
           0.22322478890419006,
           0.4377703070640564,
           0.617047131061554,
           0.3124982714653015,
           0.7852195501327515,
           0.542907178401947,
           0.35893484950065613,
           1.0000001192092896,
           0.4077385663986206,
           0.22134199738502502,
           0.3206349015235901,
           0.6127024292945862,
           0.5524328947067261,
           0.21315069496631622,
           0.2770577371120453,
           0.5602673292160034,
           0.5185831785202026,
           0.41489845514297485,
           0.4470808506011963,
           0.6436877250671387,
           0.407424658536911,
           0.639247715473175,
           0.43103671073913574,
           0.4769675135612488,
           0.10183101147413254,
           0.5379351377487183,
           0.4554556608200073,
           0.3764662742614746,
           0.39740970730781555,
           0.6272579431533813,
           0.2250855565071106,
           0.649799108505249
          ],
          [
           0.5852841138839722,
           0.23460189998149872,
           0.38915687799453735,
           0.5046151876449585,
           0.286410927772522,
           0.7460090517997742,
           0.24685603380203247,
           0.4372285008430481,
           0.41884660720825195,
           0.15625613927841187,
           0.4915526509284973,
           0.3837577700614929,
           0.2084352821111679,
           0.316738486289978,
           0.24776318669319153,
           0.2529718279838562,
           0.40169426798820496,
           0.3111410439014435,
           0.5208063125610352,
           0.45924127101898193,
           0.18107041716575623,
           0.4077385663986206,
           1.0000001192092896,
           0.14939257502555847,
           0.3123171329498291,
           0.6010637879371643,
           0.42640215158462524,
           0.2078208476305008,
           0.308637797832489,
           0.4167078733444214,
           0.4103057384490967,
           0.4018242657184601,
           0.4455909729003906,
           0.4341522455215454,
           0.31603890657424927,
           0.4836510419845581,
           0.5578246116638184,
           0.45100241899490356,
           0.04874994978308678,
           0.3289684057235718,
           0.6476904153823853,
           0.17740735411643982,
           0.3471754193305969,
           0.3347068130970001,
           0.256639301776886,
           0.34545159339904785
          ],
          [
           0.2451307624578476,
           0.2160819172859192,
           0.1504719853401184,
           0.2694401144981384,
           0.2850760817527771,
           0.050318606197834015,
           0.47219330072402954,
           0.18185262382030487,
           0.20286568999290466,
           0.579993486404419,
           0.3253529369831085,
           0.15944726765155792,
           0.6613638401031494,
           0.21089696884155273,
           0.6086567044258118,
           0.15978550910949707,
           0.19733236730098724,
           0.38016563653945923,
           0.20149973034858704,
           0.2780417799949646,
           0.26867160201072693,
           0.22134199738502502,
           0.14939257502555847,
           0.9999998807907104,
           0.29758358001708984,
           0.2280469685792923,
           0.19190150499343872,
           0.5935164093971252,
           0.15229293704032898,
           0.23264040052890778,
           0.1391056478023529,
           0.10911616683006287,
           0.18690156936645508,
           0.11019326746463776,
           0.5592859387397766,
           0.34785616397857666,
           0.23401564359664917,
           0.19061115384101868,
           0.5565925240516663,
           0.4430232048034668,
           0.14585356414318085,
           0.38968944549560547,
           0.1766042858362198,
           0.23921890556812286,
           0.14348775148391724,
           0.30893006920814514
          ],
          [
           0.3325360417366028,
           0.373138427734375,
           0.30774763226509094,
           0.37439554929733276,
           0.35182109475135803,
           0.2696307897567749,
           0.2625635266304016,
           0.3512480854988098,
           0.26351696252822876,
           0.4000316858291626,
           0.3393736481666565,
           0.3179249167442322,
           0.4831694960594177,
           0.3539087176322937,
           0.4015612006187439,
           0.381547212600708,
           0.31507977843284607,
           0.4542500078678131,
           0.3723594546318054,
           0.3638923168182373,
           0.2602910101413727,
           0.3206349015235901,
           0.3123171329498291,
           0.29758358001708984,
           0.9999998211860657,
           0.3601130545139313,
           0.2726154327392578,
           0.23757687211036682,
           0.36176204681396484,
           0.4222220182418823,
           0.29916104674339294,
           0.24994003772735596,
           0.404156893491745,
           0.21520201861858368,
           0.40363121032714844,
           0.4039739966392517,
           0.3213229477405548,
           0.2550595998764038,
           0.21566691994667053,
           0.4440472722053528,
           0.31055793166160583,
           0.4684789478778839,
           0.23799341917037964,
           0.33483681082725525,
           0.22711166739463806,
           0.4438210129737854
          ],
          [
           0.7680528163909912,
           0.3249979317188263,
           0.4551730751991272,
           0.7362009286880493,
           0.4430009126663208,
           0.5504782199859619,
           0.3200441002845764,
           0.3176829218864441,
           0.3479037880897522,
           0.2499755471944809,
           0.6338232755661011,
           0.4475058615207672,
           0.29545679688453674,
           0.5114280581474304,
           0.2202252894639969,
           0.3492601215839386,
           0.4748828411102295,
           0.2164277732372284,
           0.6293878555297852,
           0.5127544403076172,
           0.23580357432365417,
           0.6127024292945862,
           0.6010637879371643,
           0.2280469685792923,
           0.3601130545139313,
           1.0000003576278687,
           0.5554413795471191,
           0.2022572159767151,
           0.23493535816669464,
           0.4795573055744171,
           0.4474731683731079,
           0.2996034622192383,
           0.5205419063568115,
           0.5717896223068237,
           0.6449006795883179,
           0.602340042591095,
           0.4769413471221924,
           0.49179399013519287,
           0.12185464799404144,
           0.45609402656555176,
           0.5440050959587097,
           0.21122515201568604,
           0.32370150089263916,
           0.44041794538497925,
           0.12463291734457016,
           0.5020374059677124
          ],
          [
           0.6317826509475708,
           0.37092113494873047,
           0.39500027894973755,
           0.5620027780532837,
           0.40789249539375305,
           0.37668925523757935,
           0.38881295919418335,
           0.35588183999061584,
           0.36092624068260193,
           0.24240371584892273,
           0.546748697757721,
           0.35450735688209534,
           0.3361724019050598,
           0.509288489818573,
           0.2650362551212311,
           0.2723351716995239,
           0.5674140453338623,
           0.2951192259788513,
           0.5931676626205444,
           0.44427067041397095,
           0.2980566918849945,
           0.5524328947067261,
           0.42640215158462524,
           0.19190150499343872,
           0.2726154327392578,
           0.5554413795471191,
           1.0000001192092896,
           0.2551843822002411,
           0.29304200410842896,
           0.4848453402519226,
           0.43240833282470703,
           0.3956214189529419,
           0.4689769148826599,
           0.5075662136077881,
           0.4395636022090912,
           0.5836005210876465,
           0.3787188231945038,
           0.38175100088119507,
           0.14540119469165802,
           0.4631708860397339,
           0.4128822088241577,
           0.2664848268032074,
           0.2879410982131958,
           0.4622220993041992,
           0.2548995614051819,
           0.4604501724243164
          ],
          [
           0.22536586225032806,
           0.2886470556259155,
           0.13401959836483002,
           0.2643740475177765,
           0.2887071967124939,
           0.1284114420413971,
           0.5686295032501221,
           0.20200593769550323,
           0.20766213536262512,
           0.4059140086174011,
           0.3035169243812561,
           0.1990385204553604,
           0.4932408630847931,
           0.2367820143699646,
           0.47128602862358093,
           0.11369591951370239,
           0.20979398488998413,
           0.43188202381134033,
           0.23685689270496368,
           0.18718910217285156,
           0.31597772240638733,
           0.21315069496631622,
           0.2078208476305008,
           0.5935164093971252,
           0.23757687211036682,
           0.2022572159767151,
           0.2551843822002411,
           0.9999997615814209,
           0.15638476610183716,
           0.19021075963974,
           0.22045201063156128,
           0.1352587342262268,
           0.23297879099845886,
           0.1301475614309311,
           0.6013609170913696,
           0.3588300049304962,
           0.2472340315580368,
           0.14764586091041565,
           0.4608571231365204,
           0.3837379217147827,
           0.17729552090168,
           0.3359227478504181,
           0.1544802486896515,
           0.286649227142334,
           0.12742377817630768,
           0.2643233835697174
          ],
          [
           0.28771281242370605,
           0.24538776278495789,
           0.2887226343154907,
           0.2568392753601074,
           0.19275565445423126,
           0.3924315273761749,
           0.18989092111587524,
           0.723719596862793,
           0.3645985722541809,
           0.17041008174419403,
           0.36799049377441406,
           0.24230530858039856,
           0.19831332564353943,
           0.17614814639091492,
           0.21978223323822021,
           0.3026176691055298,
           0.35714584589004517,
           0.23775029182434082,
           0.3452138900756836,
           0.3688902258872986,
           0.1262819617986679,
           0.2770577371120453,
           0.308637797832489,
           0.15229293704032898,
           0.36176204681396484,
           0.23493535816669464,
           0.29304200410842896,
           0.15638476610183716,
           1.000000238418579,
           0.6380957961082458,
           0.3326476514339447,
           0.4175628423690796,
           0.263100802898407,
           0.1414947509765625,
           0.20464807748794556,
           0.3031369149684906,
           0.3300187587738037,
           0.32619771361351013,
           0.12010413408279419,
           0.19946688413619995,
           0.4031737446784973,
           0.24794425070285797,
           0.2738335430622101,
           0.22675970196723938,
           0.538647472858429,
           0.2164914458990097
          ],
          [
           0.5960153937339783,
           0.3967941105365753,
           0.4517335295677185,
           0.46448734402656555,
           0.3983711004257202,
           0.40638110041618347,
           0.34207165241241455,
           0.5851831436157227,
           0.458261102437973,
           0.3056855797767639,
           0.5876094102859497,
           0.4255695343017578,
           0.363187313079834,
           0.3870031237602234,
           0.31378456950187683,
           0.4091861844062805,
           0.5521332025527954,
           0.356295108795166,
           0.5721570253372192,
           0.6008210182189941,
           0.27214518189430237,
           0.5602673292160034,
           0.4167078733444214,
           0.23264040052890778,
           0.4222220182418823,
           0.4795573055744171,
           0.4848453402519226,
           0.19021075963974,
           0.6380957961082458,
           1.000000238418579,
           0.5233290791511536,
           0.4288300573825836,
           0.4552796483039856,
           0.39158669114112854,
           0.3540465235710144,
           0.527570366859436,
           0.36229950189590454,
           0.5498942136764526,
           0.20909571647644043,
           0.41765740513801575,
           0.5616732239723206,
           0.3728023171424866,
           0.32374197244644165,
           0.41185450553894043,
           0.4112086296081543,
           0.4750216603279114
          ],
          [
           0.5496335029602051,
           0.3992490768432617,
           0.4839283525943756,
           0.5022169947624207,
           0.39507922530174255,
           0.39338552951812744,
           0.36287468671798706,
           0.40951067209243774,
           0.4234553873538971,
           0.1642187535762787,
           0.40736061334609985,
           0.45905014872550964,
           0.2386016696691513,
           0.4706440567970276,
           0.21946972608566284,
           0.41220444440841675,
           0.5471922159194946,
           0.3075888454914093,
           0.480646014213562,
           0.4196385145187378,
           0.3417457640171051,
           0.5185831785202026,
           0.4103057384490967,
           0.1391056478023529,
           0.29916104674339294,
           0.4474731683731079,
           0.43240833282470703,
           0.22045201063156128,
           0.3326476514339447,
           0.5233290791511536,
           0.9999999403953552,
           0.4691784977912903,
           0.46539539098739624,
           0.42765700817108154,
           0.33725547790527344,
           0.4678438901901245,
           0.429727703332901,
           0.4977993369102478,
           0.02418188750743866,
           0.38182491064071655,
           0.41624876856803894,
           0.24053668975830078,
           0.359713077545166,
           0.4420814514160156,
           0.33052825927734375,
           0.416913241147995
          ],
          [
           0.374808669090271,
           0.30811962485313416,
           0.3837982416152954,
           0.32525211572647095,
           0.32458820939064026,
           0.3488777279853821,
           0.1911490559577942,
           0.431454062461853,
           0.37900853157043457,
           0.19383478164672852,
           0.2831829786300659,
           0.396812379360199,
           0.11963311582803726,
           0.33262768387794495,
           0.14121857285499573,
           0.312546044588089,
           0.4718043804168701,
           0.2327684760093689,
           0.40566909313201904,
           0.30517637729644775,
           0.19772322475910187,
           0.41489845514297485,
           0.4018242657184601,
           0.10911616683006287,
           0.24994003772735596,
           0.2996034622192383,
           0.3956214189529419,
           0.1352587342262268,
           0.4175628423690796,
           0.4288300573825836,
           0.4691784977912903,
           0.9999997615814209,
           0.23112964630126953,
           0.26534995436668396,
           0.177637979388237,
           0.3199126124382019,
           0.31385836005210876,
           0.3918243646621704,
           0.01093161478638649,
           0.19733071327209473,
           0.42997825145721436,
           0.1525379866361618,
           0.3530866205692291,
           0.3192294239997864,
           0.4469226002693176,
           0.24936816096305847
          ],
          [
           0.4989745020866394,
           0.44887712597846985,
           0.5073379278182983,
           0.6232485175132751,
           0.42539381980895996,
           0.36252349615097046,
           0.40990760922431946,
           0.3619306683540344,
           0.3121306300163269,
           0.26607027649879456,
           0.4991081953048706,
           0.4118783473968506,
           0.34001433849334717,
           0.46748536825180054,
           0.29481521248817444,
           0.34655022621154785,
           0.3587557077407837,
           0.35907432436943054,
           0.5065698027610779,
           0.4671996235847473,
           0.2918095886707306,
           0.4470808506011963,
           0.4455909729003906,
           0.18690156936645508,
           0.404156893491745,
           0.5205419063568115,
           0.4689769148826599,
           0.23297879099845886,
           0.263100802898407,
           0.4552796483039856,
           0.46539539098739624,
           0.23112964630126953,
           1,
           0.3797494173049927,
           0.4190537929534912,
           0.5139929056167603,
           0.3677295446395874,
           0.3297182023525238,
           0.14821091294288635,
           0.4403870105743408,
           0.3307831883430481,
           0.22514156997203827,
           0.31793540716171265,
           0.3928859233856201,
           0.17959052324295044,
           0.41579002141952515
          ],
          [
           0.7645363807678223,
           0.3704018294811249,
           0.37235915660858154,
           0.6251078844070435,
           0.39775633811950684,
           0.32958662509918213,
           0.32272911071777344,
           0.23172838985919952,
           0.2935703992843628,
           0.16839173436164856,
           0.4961870312690735,
           0.40688109397888184,
           0.3082156181335449,
           0.5141311883926392,
           0.15957781672477722,
           0.31273847818374634,
           0.5442797541618347,
           0.1961379051208496,
           0.5348033308982849,
           0.42745649814605713,
           0.3162219524383545,
           0.6436877250671387,
           0.4341522455215454,
           0.11019326746463776,
           0.21520201861858368,
           0.5717896223068237,
           0.5075662136077881,
           0.1301475614309311,
           0.1414947509765625,
           0.39158669114112854,
           0.42765700817108154,
           0.26534995436668396,
           0.3797494173049927,
           1.0000001192092896,
           0.3403960168361664,
           0.6723240613937378,
           0.36780306696891785,
           0.44367408752441406,
           0.06440676748752594,
           0.5944849252700806,
           0.41319578886032104,
           0.2017587125301361,
           0.25884580612182617,
           0.6224853992462158,
           0.11056731641292572,
           0.6536988019943237
          ],
          [
           0.47091662883758545,
           0.4021833539009094,
           0.28966718912124634,
           0.5197755098342896,
           0.3946065902709961,
           0.21827006340026855,
           0.5167180299758911,
           0.28687381744384766,
           0.27995842695236206,
           0.45047086477279663,
           0.5640192627906799,
           0.3134199380874634,
           0.5364747047424316,
           0.3369334936141968,
           0.4886974096298218,
           0.21810483932495117,
           0.2935946583747864,
           0.517055869102478,
           0.4388870894908905,
           0.3812636733055115,
           0.28918981552124023,
           0.407424658536911,
           0.31603890657424927,
           0.5592859387397766,
           0.40363121032714844,
           0.6449006795883179,
           0.4395636022090912,
           0.6013609170913696,
           0.20464807748794556,
           0.3540465235710144,
           0.33725547790527344,
           0.177637979388237,
           0.4190537929534912,
           0.3403960168361664,
           1.0000001192092896,
           0.54180908203125,
           0.45331016182899475,
           0.3658602833747864,
           0.4021108150482178,
           0.5467565059661865,
           0.2869766056537628,
           0.4746076464653015,
           0.2171480357646942,
           0.34761130809783936,
           0.10785284638404846,
           0.3792538344860077
          ],
          [
           0.7411721348762512,
           0.4281691908836365,
           0.45173734426498413,
           0.6782358288764954,
           0.5218225717544556,
           0.3924460709095001,
           0.5483390092849731,
           0.3632385730743408,
           0.39586907625198364,
           0.3972570300102234,
           0.6667802333831787,
           0.4491546154022217,
           0.5608364343643188,
           0.5721111297607422,
           0.38140541315078735,
           0.37607651948928833,
           0.5567242503166199,
           0.44944414496421814,
           0.610770583152771,
           0.5542510151863098,
           0.4491836428642273,
           0.639247715473175,
           0.4836510419845581,
           0.34785616397857666,
           0.4039739966392517,
           0.602340042591095,
           0.5836005210876465,
           0.3588300049304962,
           0.3031369149684906,
           0.527570366859436,
           0.4678438901901245,
           0.3199126124382019,
           0.5139929056167603,
           0.6723240613937378,
           0.54180908203125,
           1.0000001192092896,
           0.43038851022720337,
           0.4521421790122986,
           0.31324583292007446,
           0.7108156681060791,
           0.45751506090164185,
           0.38842839002609253,
           0.24747852981090546,
           0.6886430382728577,
           0.2407194972038269,
           0.7265660762786865
          ],
          [
           0.491818904876709,
           0.4293501377105713,
           0.3610568046569824,
           0.5446562767028809,
           0.4264213740825653,
           0.5143750309944153,
           0.38802409172058105,
           0.459514319896698,
           0.470069944858551,
           0.20841889083385468,
           0.41964736580848694,
           0.3850908875465393,
           0.27916938066482544,
           0.4329991936683655,
           0.2162328064441681,
           0.36116206645965576,
           0.39136558771133423,
           0.29591232538223267,
           0.4435984492301941,
           0.4241708517074585,
           0.2729749083518982,
           0.43103671073913574,
           0.5578246116638184,
           0.23401564359664917,
           0.3213229477405548,
           0.4769413471221924,
           0.3787188231945038,
           0.2472340315580368,
           0.3300187587738037,
           0.36229950189590454,
           0.429727703332901,
           0.31385836005210876,
           0.3677295446395874,
           0.36780306696891785,
           0.45331016182899475,
           0.43038851022720337,
           1.000000238418579,
           0.3634454905986786,
           0.10203830152750015,
           0.35888737440109253,
           0.4966113567352295,
           0.2951563596725464,
           0.4283756613731384,
           0.39134693145751953,
           0.20736804604530334,
           0.41907063126564026
          ],
          [
           0.6674048900604248,
           0.25375479459762573,
           0.3505745530128479,
           0.3850253224372864,
           0.29365721344947815,
           0.3991130590438843,
           0.2104531228542328,
           0.38240596652030945,
           0.33423545956611633,
           0.13579651713371277,
           0.4093952178955078,
           0.35202401876449585,
           0.23890486359596252,
           0.2914395332336426,
           0.18680596351623535,
           0.23171627521514893,
           0.4969143271446228,
           0.3163691759109497,
           0.4861937165260315,
           0.4414828419685364,
           0.19178856909275055,
           0.4769675135612488,
           0.45100241899490356,
           0.19061115384101868,
           0.2550595998764038,
           0.49179399013519287,
           0.38175100088119507,
           0.14764586091041565,
           0.32619771361351013,
           0.5498942136764526,
           0.4977993369102478,
           0.3918243646621704,
           0.3297182023525238,
           0.44367408752441406,
           0.3658602833747864,
           0.4521421790122986,
           0.3634454905986786,
           0.9999997615814209,
           0.12170663475990295,
           0.3564276099205017,
           0.5339094400405884,
           0.2547833323478699,
           0.26396089792251587,
           0.37581586837768555,
           0.32111477851867676,
           0.38358554244041443
          ],
          [
           0.14438509941101074,
           0.19913643598556519,
           0.17610564827919006,
           0.1465621441602707,
           0.229760080575943,
           -0.016865815967321396,
           0.39617711305618286,
           0.13924764096736908,
           0.11936589330434799,
           0.49883976578712463,
           0.27218571305274963,
           0.1445150077342987,
           0.5829538106918335,
           0.1729952096939087,
           0.4856661558151245,
           0.09080464392900467,
           0.14679938554763794,
           0.3627621531486511,
           0.14393587410449982,
           0.20571312308311462,
           0.26810985803604126,
           0.10183101147413254,
           0.04874994978308678,
           0.5565925240516663,
           0.21566691994667053,
           0.12185464799404144,
           0.14540119469165802,
           0.4608571231365204,
           0.12010413408279419,
           0.20909571647644043,
           0.02418188750743866,
           0.01093161478638649,
           0.14821091294288635,
           0.06440676748752594,
           0.4021108150482178,
           0.31324583292007446,
           0.10203830152750015,
           0.12170663475990295,
           1.000000238418579,
           0.41036534309387207,
           0.09879496693611145,
           0.42547744512557983,
           0.07076388597488403,
           0.25773364305496216,
           0.08217986673116684,
           0.2701529562473297
          ],
          [
           0.5911290645599365,
           0.4183082580566406,
           0.3408171236515045,
           0.5462526082992554,
           0.49960529804229736,
           0.21153989434242249,
           0.5416774749755859,
           0.308719277381897,
           0.26192769408226013,
           0.48451220989227295,
           0.5287207961082458,
           0.41435807943344116,
           0.6812959909439087,
           0.5619221925735474,
           0.42488065361976624,
           0.29266032576560974,
           0.45832177996635437,
           0.5603572130203247,
           0.5318187475204468,
           0.4925057888031006,
           0.47105681896209717,
           0.5379351377487183,
           0.3289684057235718,
           0.4430232048034668,
           0.4440472722053528,
           0.45609402656555176,
           0.4631708860397339,
           0.3837379217147827,
           0.19946688413619995,
           0.41765740513801575,
           0.38182491064071655,
           0.19733071327209473,
           0.4403870105743408,
           0.5944849252700806,
           0.5467565059661865,
           0.7108156681060791,
           0.35888737440109253,
           0.3564276099205017,
           0.41036534309387207,
           0.9999997615814209,
           0.24806463718414307,
           0.5807514190673828,
           0.26945117115974426,
           0.6185544729232788,
           0.17791932821273804,
           0.7614245414733887
          ],
          [
           0.6344782114028931,
           0.21242272853851318,
           0.39795297384262085,
           0.41455602645874023,
           0.2759166359901428,
           0.7155815362930298,
           0.22410078346729279,
           0.450196236371994,
           0.4212157726287842,
           0.16737863421440125,
           0.4670991897583008,
           0.34035059809684753,
           0.18756377696990967,
           0.28178632259368896,
           0.160392627120018,
           0.21944832801818848,
           0.5218271017074585,
           0.23693735897541046,
           0.5229490995407104,
           0.3763968348503113,
           0.12133567035198212,
           0.4554556608200073,
           0.6476904153823853,
           0.14585356414318085,
           0.31055793166160583,
           0.5440050959587097,
           0.4128822088241577,
           0.17729552090168,
           0.4031737446784973,
           0.5616732239723206,
           0.41624876856803894,
           0.42997825145721436,
           0.3307831883430481,
           0.41319578886032104,
           0.2869766056537628,
           0.45751506090164185,
           0.4966113567352295,
           0.5339094400405884,
           0.09879496693611145,
           0.24806463718414307,
           0.9999998807907104,
           0.1881696730852127,
           0.28043144941329956,
           0.30302244424819946,
           0.3279480040073395,
           0.3294448256492615
          ],
          [
           0.30448025465011597,
           0.4058966636657715,
           0.15086205303668976,
           0.28946036100387573,
           0.2712123394012451,
           0.09321125596761703,
           0.3105286955833435,
           0.2986482083797455,
           0.27196890115737915,
           0.4611746072769165,
           0.26952141523361206,
           0.18522821366786957,
           0.614479660987854,
           0.2667675018310547,
           0.38772454857826233,
           0.16725482046604156,
           0.25919464230537415,
           0.7102201581001282,
           0.4047973155975342,
           0.3012728691101074,
           0.21552199125289917,
           0.3764662742614746,
           0.17740735411643982,
           0.38968944549560547,
           0.4684789478778839,
           0.21122515201568604,
           0.2664848268032074,
           0.3359227478504181,
           0.24794425070285797,
           0.3728023171424866,
           0.24053668975830078,
           0.1525379866361618,
           0.22514156997203827,
           0.2017587125301361,
           0.4746076464653015,
           0.38842839002609253,
           0.2951563596725464,
           0.2547833323478699,
           0.42547744512557983,
           0.5807514190673828,
           0.1881696730852127,
           1,
           0.13524183630943298,
           0.29228055477142334,
           0.15772056579589844,
           0.45237496495246887
          ],
          [
           0.35864320397377014,
           0.4447605013847351,
           0.4918662905693054,
           0.44622179865837097,
           0.5072975754737854,
           0.2380850613117218,
           0.4417738914489746,
           0.3381378650665283,
           0.4213440418243408,
           0.13739043474197388,
           0.302890419960022,
           0.6229317784309387,
           0.21886324882507324,
           0.6070096492767334,
           0.27472078800201416,
           0.6603115797042847,
           0.33968132734298706,
           0.18825459480285645,
           0.29995042085647583,
           0.3440343141555786,
           0.4110381603240967,
           0.39740970730781555,
           0.3471754193305969,
           0.1766042858362198,
           0.23799341917037964,
           0.32370150089263916,
           0.2879410982131958,
           0.1544802486896515,
           0.2738335430622101,
           0.32374197244644165,
           0.359713077545166,
           0.3530866205692291,
           0.31793540716171265,
           0.25884580612182617,
           0.2171480357646942,
           0.24747852981090546,
           0.4283756613731384,
           0.26396089792251587,
           0.07076388597488403,
           0.26945117115974426,
           0.28043144941329956,
           0.13524183630943298,
           1.000000238418579,
           0.4708542823791504,
           0.27506542205810547,
           0.3071029484272003
          ],
          [
           0.6630350351333618,
           0.43978869915008545,
           0.5653042197227478,
           0.5605775117874146,
           0.6556849479675293,
           0.25051364302635193,
           0.6330450773239136,
           0.2955506443977356,
           0.3797335624694824,
           0.2686574161052704,
           0.4636750817298889,
           0.6719067096710205,
           0.4826953709125519,
           0.7162174582481384,
           0.28198879957199097,
           0.6302220821380615,
           0.5587424039840698,
           0.29271265864372253,
           0.49794650077819824,
           0.4669167995452881,
           0.6972036361694336,
           0.6272579431533813,
           0.3347068130970001,
           0.23921890556812286,
           0.33483681082725525,
           0.44041794538497925,
           0.4622220993041992,
           0.286649227142334,
           0.22675970196723938,
           0.41185450553894043,
           0.4420814514160156,
           0.3192294239997864,
           0.3928859233856201,
           0.6224853992462158,
           0.34761130809783936,
           0.6886430382728577,
           0.39134693145751953,
           0.37581586837768555,
           0.25773364305496216,
           0.6185544729232788,
           0.30302244424819946,
           0.29228055477142334,
           0.4708542823791504,
           1.000000238418579,
           0.19805273413658142,
           0.7560728788375854
          ],
          [
           0.2320401668548584,
           0.22424983978271484,
           0.26492106914520264,
           0.2518883943557739,
           0.1801755428314209,
           0.2460453063249588,
           0.2212190330028534,
           0.4738990068435669,
           0.31145888566970825,
           0.13408732414245605,
           0.24829724431037903,
           0.17867770791053772,
           0.14428818225860596,
           0.21619436144828796,
           0.1934511363506317,
           0.22528035938739777,
           0.36516180634498596,
           0.1946750283241272,
           0.23271363973617554,
           0.2811914384365082,
           0.10315892845392227,
           0.2250855565071106,
           0.256639301776886,
           0.14348775148391724,
           0.22711166739463806,
           0.12463291734457016,
           0.2548995614051819,
           0.12742377817630768,
           0.538647472858429,
           0.4112086296081543,
           0.33052825927734375,
           0.4469226002693176,
           0.17959052324295044,
           0.11056731641292572,
           0.10785284638404846,
           0.2407194972038269,
           0.20736804604530334,
           0.32111477851867676,
           0.08217986673116684,
           0.17791932821273804,
           0.3279480040073395,
           0.15772056579589844,
           0.27506542205810547,
           0.19805273413658142,
           1.0000001192092896,
           0.16897565126419067
          ],
          [
           0.710493803024292,
           0.4237298369407654,
           0.3793536424636841,
           0.5957062244415283,
           0.5625374913215637,
           0.2647726535797119,
           0.48966026306152344,
           0.30249667167663574,
           0.3227425813674927,
           0.38571131229400635,
           0.4810114800930023,
           0.5071518421173096,
           0.6512326598167419,
           0.6838691234588623,
           0.3348032236099243,
           0.4336196780204773,
           0.5551475286483765,
           0.40139710903167725,
           0.5410588979721069,
           0.48403969407081604,
           0.5070266723632812,
           0.649799108505249,
           0.34545159339904785,
           0.30893006920814514,
           0.4438210129737854,
           0.5020374059677124,
           0.4604501724243164,
           0.2643233835697174,
           0.2164914458990097,
           0.4750216603279114,
           0.416913241147995,
           0.24936816096305847,
           0.41579002141952515,
           0.6536988019943237,
           0.3792538344860077,
           0.7265660762786865,
           0.41907063126564026,
           0.38358554244041443,
           0.2701529562473297,
           0.7614245414733887,
           0.3294448256492615,
           0.45237496495246887,
           0.3071029484272003,
           0.7560728788375854,
           0.16897565126419067,
           0.9999998807907104
          ]
         ]
        }
       ],
       "layout": {
        "coloraxis": {
         "colorbar": {
          "title": {
           "text": "Similarity Score"
          }
         },
         "colorscale": [
          [
           0,
           "rgb(247,252,240)"
          ],
          [
           0.125,
           "rgb(224,243,219)"
          ],
          [
           0.25,
           "rgb(204,235,197)"
          ],
          [
           0.375,
           "rgb(168,221,181)"
          ],
          [
           0.5,
           "rgb(123,204,196)"
          ],
          [
           0.625,
           "rgb(78,179,211)"
          ],
          [
           0.75,
           "rgb(43,140,190)"
          ],
          [
           0.875,
           "rgb(8,104,172)"
          ],
          [
           1,
           "rgb(8,64,129)"
          ]
         ]
        },
        "height": 800,
        "hoverlabel": {
         "bgcolor": "white",
         "font": {
          "family": "Rockwell",
          "size": 16
         }
        },
        "legend": {
         "title": {
          "text": "Trend"
         }
        },
        "margin": {
         "t": 60
        },
        "showlegend": true,
        "template": {
         "data": {
          "bar": [
           {
            "error_x": {
             "color": "#2a3f5f"
            },
            "error_y": {
             "color": "#2a3f5f"
            },
            "marker": {
             "line": {
              "color": "#E5ECF6",
              "width": 0.5
             },
             "pattern": {
              "fillmode": "overlay",
              "size": 10,
              "solidity": 0.2
             }
            },
            "type": "bar"
           }
          ],
          "barpolar": [
           {
            "marker": {
             "line": {
              "color": "#E5ECF6",
              "width": 0.5
             },
             "pattern": {
              "fillmode": "overlay",
              "size": 10,
              "solidity": 0.2
             }
            },
            "type": "barpolar"
           }
          ],
          "carpet": [
           {
            "aaxis": {
             "endlinecolor": "#2a3f5f",
             "gridcolor": "white",
             "linecolor": "white",
             "minorgridcolor": "white",
             "startlinecolor": "#2a3f5f"
            },
            "baxis": {
             "endlinecolor": "#2a3f5f",
             "gridcolor": "white",
             "linecolor": "white",
             "minorgridcolor": "white",
             "startlinecolor": "#2a3f5f"
            },
            "type": "carpet"
           }
          ],
          "choropleth": [
           {
            "colorbar": {
             "outlinewidth": 0,
             "ticks": ""
            },
            "type": "choropleth"
           }
          ],
          "contour": [
           {
            "colorbar": {
             "outlinewidth": 0,
             "ticks": ""
            },
            "colorscale": [
             [
              0,
              "#0d0887"
             ],
             [
              0.1111111111111111,
              "#46039f"
             ],
             [
              0.2222222222222222,
              "#7201a8"
             ],
             [
              0.3333333333333333,
              "#9c179e"
             ],
             [
              0.4444444444444444,
              "#bd3786"
             ],
             [
              0.5555555555555556,
              "#d8576b"
             ],
             [
              0.6666666666666666,
              "#ed7953"
             ],
             [
              0.7777777777777778,
              "#fb9f3a"
             ],
             [
              0.8888888888888888,
              "#fdca26"
             ],
             [
              1,
              "#f0f921"
             ]
            ],
            "type": "contour"
           }
          ],
          "contourcarpet": [
           {
            "colorbar": {
             "outlinewidth": 0,
             "ticks": ""
            },
            "type": "contourcarpet"
           }
          ],
          "heatmap": [
           {
            "colorbar": {
             "outlinewidth": 0,
             "ticks": ""
            },
            "colorscale": [
             [
              0,
              "#0d0887"
             ],
             [
              0.1111111111111111,
              "#46039f"
             ],
             [
              0.2222222222222222,
              "#7201a8"
             ],
             [
              0.3333333333333333,
              "#9c179e"
             ],
             [
              0.4444444444444444,
              "#bd3786"
             ],
             [
              0.5555555555555556,
              "#d8576b"
             ],
             [
              0.6666666666666666,
              "#ed7953"
             ],
             [
              0.7777777777777778,
              "#fb9f3a"
             ],
             [
              0.8888888888888888,
              "#fdca26"
             ],
             [
              1,
              "#f0f921"
             ]
            ],
            "type": "heatmap"
           }
          ],
          "heatmapgl": [
           {
            "colorbar": {
             "outlinewidth": 0,
             "ticks": ""
            },
            "colorscale": [
             [
              0,
              "#0d0887"
             ],
             [
              0.1111111111111111,
              "#46039f"
             ],
             [
              0.2222222222222222,
              "#7201a8"
             ],
             [
              0.3333333333333333,
              "#9c179e"
             ],
             [
              0.4444444444444444,
              "#bd3786"
             ],
             [
              0.5555555555555556,
              "#d8576b"
             ],
             [
              0.6666666666666666,
              "#ed7953"
             ],
             [
              0.7777777777777778,
              "#fb9f3a"
             ],
             [
              0.8888888888888888,
              "#fdca26"
             ],
             [
              1,
              "#f0f921"
             ]
            ],
            "type": "heatmapgl"
           }
          ],
          "histogram": [
           {
            "marker": {
             "pattern": {
              "fillmode": "overlay",
              "size": 10,
              "solidity": 0.2
             }
            },
            "type": "histogram"
           }
          ],
          "histogram2d": [
           {
            "colorbar": {
             "outlinewidth": 0,
             "ticks": ""
            },
            "colorscale": [
             [
              0,
              "#0d0887"
             ],
             [
              0.1111111111111111,
              "#46039f"
             ],
             [
              0.2222222222222222,
              "#7201a8"
             ],
             [
              0.3333333333333333,
              "#9c179e"
             ],
             [
              0.4444444444444444,
              "#bd3786"
             ],
             [
              0.5555555555555556,
              "#d8576b"
             ],
             [
              0.6666666666666666,
              "#ed7953"
             ],
             [
              0.7777777777777778,
              "#fb9f3a"
             ],
             [
              0.8888888888888888,
              "#fdca26"
             ],
             [
              1,
              "#f0f921"
             ]
            ],
            "type": "histogram2d"
           }
          ],
          "histogram2dcontour": [
           {
            "colorbar": {
             "outlinewidth": 0,
             "ticks": ""
            },
            "colorscale": [
             [
              0,
              "#0d0887"
             ],
             [
              0.1111111111111111,
              "#46039f"
             ],
             [
              0.2222222222222222,
              "#7201a8"
             ],
             [
              0.3333333333333333,
              "#9c179e"
             ],
             [
              0.4444444444444444,
              "#bd3786"
             ],
             [
              0.5555555555555556,
              "#d8576b"
             ],
             [
              0.6666666666666666,
              "#ed7953"
             ],
             [
              0.7777777777777778,
              "#fb9f3a"
             ],
             [
              0.8888888888888888,
              "#fdca26"
             ],
             [
              1,
              "#f0f921"
             ]
            ],
            "type": "histogram2dcontour"
           }
          ],
          "mesh3d": [
           {
            "colorbar": {
             "outlinewidth": 0,
             "ticks": ""
            },
            "type": "mesh3d"
           }
          ],
          "parcoords": [
           {
            "line": {
             "colorbar": {
              "outlinewidth": 0,
              "ticks": ""
             }
            },
            "type": "parcoords"
           }
          ],
          "pie": [
           {
            "automargin": true,
            "type": "pie"
           }
          ],
          "scatter": [
           {
            "fillpattern": {
             "fillmode": "overlay",
             "size": 10,
             "solidity": 0.2
            },
            "type": "scatter"
           }
          ],
          "scatter3d": [
           {
            "line": {
             "colorbar": {
              "outlinewidth": 0,
              "ticks": ""
             }
            },
            "marker": {
             "colorbar": {
              "outlinewidth": 0,
              "ticks": ""
             }
            },
            "type": "scatter3d"
           }
          ],
          "scattercarpet": [
           {
            "marker": {
             "colorbar": {
              "outlinewidth": 0,
              "ticks": ""
             }
            },
            "type": "scattercarpet"
           }
          ],
          "scattergeo": [
           {
            "marker": {
             "colorbar": {
              "outlinewidth": 0,
              "ticks": ""
             }
            },
            "type": "scattergeo"
           }
          ],
          "scattergl": [
           {
            "marker": {
             "colorbar": {
              "outlinewidth": 0,
              "ticks": ""
             }
            },
            "type": "scattergl"
           }
          ],
          "scattermapbox": [
           {
            "marker": {
             "colorbar": {
              "outlinewidth": 0,
              "ticks": ""
             }
            },
            "type": "scattermapbox"
           }
          ],
          "scatterpolar": [
           {
            "marker": {
             "colorbar": {
              "outlinewidth": 0,
              "ticks": ""
             }
            },
            "type": "scatterpolar"
           }
          ],
          "scatterpolargl": [
           {
            "marker": {
             "colorbar": {
              "outlinewidth": 0,
              "ticks": ""
             }
            },
            "type": "scatterpolargl"
           }
          ],
          "scatterternary": [
           {
            "marker": {
             "colorbar": {
              "outlinewidth": 0,
              "ticks": ""
             }
            },
            "type": "scatterternary"
           }
          ],
          "surface": [
           {
            "colorbar": {
             "outlinewidth": 0,
             "ticks": ""
            },
            "colorscale": [
             [
              0,
              "#0d0887"
             ],
             [
              0.1111111111111111,
              "#46039f"
             ],
             [
              0.2222222222222222,
              "#7201a8"
             ],
             [
              0.3333333333333333,
              "#9c179e"
             ],
             [
              0.4444444444444444,
              "#bd3786"
             ],
             [
              0.5555555555555556,
              "#d8576b"
             ],
             [
              0.6666666666666666,
              "#ed7953"
             ],
             [
              0.7777777777777778,
              "#fb9f3a"
             ],
             [
              0.8888888888888888,
              "#fdca26"
             ],
             [
              1,
              "#f0f921"
             ]
            ],
            "type": "surface"
           }
          ],
          "table": [
           {
            "cells": {
             "fill": {
              "color": "#EBF0F8"
             },
             "line": {
              "color": "white"
             }
            },
            "header": {
             "fill": {
              "color": "#C8D4E3"
             },
             "line": {
              "color": "white"
             }
            },
            "type": "table"
           }
          ]
         },
         "layout": {
          "annotationdefaults": {
           "arrowcolor": "#2a3f5f",
           "arrowhead": 0,
           "arrowwidth": 1
          },
          "autotypenumbers": "strict",
          "coloraxis": {
           "colorbar": {
            "outlinewidth": 0,
            "ticks": ""
           }
          },
          "colorscale": {
           "diverging": [
            [
             0,
             "#8e0152"
            ],
            [
             0.1,
             "#c51b7d"
            ],
            [
             0.2,
             "#de77ae"
            ],
            [
             0.3,
             "#f1b6da"
            ],
            [
             0.4,
             "#fde0ef"
            ],
            [
             0.5,
             "#f7f7f7"
            ],
            [
             0.6,
             "#e6f5d0"
            ],
            [
             0.7,
             "#b8e186"
            ],
            [
             0.8,
             "#7fbc41"
            ],
            [
             0.9,
             "#4d9221"
            ],
            [
             1,
             "#276419"
            ]
           ],
           "sequential": [
            [
             0,
             "#0d0887"
            ],
            [
             0.1111111111111111,
             "#46039f"
            ],
            [
             0.2222222222222222,
             "#7201a8"
            ],
            [
             0.3333333333333333,
             "#9c179e"
            ],
            [
             0.4444444444444444,
             "#bd3786"
            ],
            [
             0.5555555555555556,
             "#d8576b"
            ],
            [
             0.6666666666666666,
             "#ed7953"
            ],
            [
             0.7777777777777778,
             "#fb9f3a"
            ],
            [
             0.8888888888888888,
             "#fdca26"
            ],
            [
             1,
             "#f0f921"
            ]
           ],
           "sequentialminus": [
            [
             0,
             "#0d0887"
            ],
            [
             0.1111111111111111,
             "#46039f"
            ],
            [
             0.2222222222222222,
             "#7201a8"
            ],
            [
             0.3333333333333333,
             "#9c179e"
            ],
            [
             0.4444444444444444,
             "#bd3786"
            ],
            [
             0.5555555555555556,
             "#d8576b"
            ],
            [
             0.6666666666666666,
             "#ed7953"
            ],
            [
             0.7777777777777778,
             "#fb9f3a"
            ],
            [
             0.8888888888888888,
             "#fdca26"
            ],
            [
             1,
             "#f0f921"
            ]
           ]
          },
          "colorway": [
           "#636efa",
           "#EF553B",
           "#00cc96",
           "#ab63fa",
           "#FFA15A",
           "#19d3f3",
           "#FF6692",
           "#B6E880",
           "#FF97FF",
           "#FECB52"
          ],
          "font": {
           "color": "#2a3f5f"
          },
          "geo": {
           "bgcolor": "white",
           "lakecolor": "white",
           "landcolor": "#E5ECF6",
           "showlakes": true,
           "showland": true,
           "subunitcolor": "white"
          },
          "hoverlabel": {
           "align": "left"
          },
          "hovermode": "closest",
          "mapbox": {
           "style": "light"
          },
          "paper_bgcolor": "white",
          "plot_bgcolor": "#E5ECF6",
          "polar": {
           "angularaxis": {
            "gridcolor": "white",
            "linecolor": "white",
            "ticks": ""
           },
           "bgcolor": "#E5ECF6",
           "radialaxis": {
            "gridcolor": "white",
            "linecolor": "white",
            "ticks": ""
           }
          },
          "scene": {
           "xaxis": {
            "backgroundcolor": "#E5ECF6",
            "gridcolor": "white",
            "gridwidth": 2,
            "linecolor": "white",
            "showbackground": true,
            "ticks": "",
            "zerolinecolor": "white"
           },
           "yaxis": {
            "backgroundcolor": "#E5ECF6",
            "gridcolor": "white",
            "gridwidth": 2,
            "linecolor": "white",
            "showbackground": true,
            "ticks": "",
            "zerolinecolor": "white"
           },
           "zaxis": {
            "backgroundcolor": "#E5ECF6",
            "gridcolor": "white",
            "gridwidth": 2,
            "linecolor": "white",
            "showbackground": true,
            "ticks": "",
            "zerolinecolor": "white"
           }
          },
          "shapedefaults": {
           "line": {
            "color": "#2a3f5f"
           }
          },
          "ternary": {
           "aaxis": {
            "gridcolor": "white",
            "linecolor": "white",
            "ticks": ""
           },
           "baxis": {
            "gridcolor": "white",
            "linecolor": "white",
            "ticks": ""
           },
           "bgcolor": "#E5ECF6",
           "caxis": {
            "gridcolor": "white",
            "linecolor": "white",
            "ticks": ""
           }
          },
          "title": {
           "x": 0.05
          },
          "xaxis": {
           "automargin": true,
           "gridcolor": "white",
           "linecolor": "white",
           "ticks": "",
           "title": {
            "standoff": 15
           },
           "zerolinecolor": "white",
           "zerolinewidth": 2
          },
          "yaxis": {
           "automargin": true,
           "gridcolor": "white",
           "linecolor": "white",
           "ticks": "",
           "title": {
            "standoff": 15
           },
           "zerolinecolor": "white",
           "zerolinewidth": 2
          }
         }
        },
        "title": {
         "font": {
          "color": "Black",
          "size": 22
         },
         "text": "<b>Similarity Matrix</b>",
         "x": 0.55,
         "xanchor": "center",
         "y": 0.95,
         "yanchor": "top"
        },
        "width": 800,
        "xaxis": {
         "anchor": "y",
         "constrain": "domain",
         "domain": [
          0,
          1
         ],
         "scaleanchor": "y"
        },
        "yaxis": {
         "anchor": "x",
         "autorange": "reversed",
         "constrain": "domain",
         "domain": [
          0,
          1
         ]
        }
       }
      }
     },
     "metadata": {},
     "output_type": "display_data"
    }
   ],
   "source": [
    "topic_model_negative.visualize_heatmap()"
   ]
  },
  {
   "cell_type": "code",
   "execution_count": 74,
   "metadata": {},
   "outputs": [
    {
     "name": "stdout",
     "output_type": "stream",
     "text": [
      "긍정 및 부정 리뷰 토픽 모델링 결과가 CSV로 저장되었습니다.\n"
     ]
    }
   ],
   "source": [
    "positive_df = pd.DataFrame({\n",
    "    \"sentence\": positive_texts,\n",
    "    \"topic\": topics_positive\n",
    "})\n",
    "positive_df.to_csv(\"The_first_descendant_positive_words_with_topics.csv\", index=False)\n",
    "\n",
    "# 4. 부정 리뷰 각 문장별 토픽 번호 저장\n",
    "negative_df = pd.DataFrame({\n",
    "    \"sentence\": negative_texts,\n",
    "    \"topic\": topics_negative\n",
    "})\n",
    "negative_df.to_csv(\"The_first_descendant_negative_words_with_topics.csv\", index=False)\n",
    "\n",
    "print(\"긍정 및 부정 리뷰 토픽 모델링 결과가 CSV로 저장되었습니다.\")"
   ]
  }
 ],
 "metadata": {
  "kernelspec": {
   "display_name": "game2",
   "language": "python",
   "name": "python3"
  },
  "language_info": {
   "codemirror_mode": {
    "name": "ipython",
    "version": 3
   },
   "file_extension": ".py",
   "mimetype": "text/x-python",
   "name": "python",
   "nbconvert_exporter": "python",
   "pygments_lexer": "ipython3",
   "version": "3.10.16"
  }
 },
 "nbformat": 4,
 "nbformat_minor": 2
}
